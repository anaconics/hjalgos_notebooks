{
 "cells": [
  {
   "cell_type": "code",
   "execution_count": null,
   "metadata": {
    "ExecuteTime": {
     "end_time": "2020-12-08T04:18:44.583682Z",
     "start_time": "2020-12-08T04:17:56.044846Z"
    },
    "run_control": {
     "marked": false
    }
   },
   "outputs": [],
   "source": [
    "################## auto login ######################\n",
    "import login\n",
    "from login import *\n",
    "import pandas as pd\n",
    "import pytz\n",
    "from time import sleep\n",
    "import datetime"
   ]
  },
  {
   "cell_type": "code",
   "execution_count": null,
   "metadata": {
    "ExecuteTime": {
     "end_time": "2020-12-08T04:18:44.691253Z",
     "start_time": "2020-12-08T04:18:44.682746Z"
    },
    "run_control": {
     "marked": false
    }
   },
   "outputs": [],
   "source": [
    "############################### Parameters ####################################\n",
    "\n",
    "symbol_ip = 'USDINR20DECFUT' # USDINR20DECFUT / GBPINR20OCTFUT / EURINR20OCTFUT / JPYINR20OCTFUT\n",
    "inst_token = 380675          # 380675(USD) / 490755(GBP) / 278019(EUR) / 690435(JPY)\n",
    "order_type = 'MIS'           # MIS / NRML\n",
    "one_dollar_margin = 954     # (USD-MIS=984/NRML=1967)(GBP-MIS=1948/NRML=3895)(EUR-MIS=1313/NRML=2625)(JPY-MIS=1333/NRML=2667)\n",
    "exchange_type=kite.EXCHANGE_CDS\n",
    "fullquantity = 125           # Set a required quantity or set 0 (zero) to adjust quantity automatically\n",
    "offset_qty = 0               # !!!!!!!!!!!!!!without point!!!!!!!!!!!!!!!!!!!\n",
    "powermulti = 2               # Set a multiplyer number to multiply quantity at every part (level)\n",
    "\n",
    "stoploss_on = False          # True / False\n",
    "auto_convert = False\n",
    "days_ago = 2"
   ]
  },
  {
   "cell_type": "code",
   "execution_count": null,
   "metadata": {
    "ExecuteTime": {
     "end_time": "2020-12-08T04:18:58.435005Z",
     "start_time": "2020-12-08T04:18:58.425029Z"
    },
    "run_control": {
     "marked": false
    }
   },
   "outputs": [],
   "source": [
    "# prev_close = kite.quote([inst_token])[str(inst_token)]['ohlc']['close']\n",
    "# prev_close"
   ]
  },
  {
   "cell_type": "code",
   "execution_count": null,
   "metadata": {
    "ExecuteTime": {
     "end_time": "2020-12-08T04:19:19.468305Z",
     "start_time": "2020-12-08T04:19:04.238911Z"
    },
    "run_control": {
     "marked": false
    }
   },
   "outputs": [],
   "source": [
    "import datetime\n",
    "interval='day'\n",
    "todaydt=datetime.date.today()\n",
    "hud_ago=todaydt-datetime.timedelta(days=10)\n",
    "to_date=datetime.date.isoformat(todaydt)\n",
    "\n",
    "from_date=datetime.date.isoformat(hud_ago)\n",
    "data = kite.historical_data(inst_token, from_date, to_date, interval, continuous=False)\n",
    "\n",
    "import pandas as pd\n",
    "mydata = pd.DataFrame(data)\n",
    "from datetime import date\n",
    "today = date.today()\n",
    "\n",
    "print('Today Date : '+str(today))\n",
    "yest_date =  mydata[-days_ago:][['date']].to_numpy()[0][0]\n",
    "last_close =  mydata[-days_ago:][['close']].to_numpy()[0][0]\n",
    "last_high =  mydata[-days_ago:][['high']].to_numpy()[0][0]\n",
    "last_low =  mydata[-days_ago:][['low']].to_numpy()[0][0]\n",
    "hl_range = round(last_high - last_low,4)\n",
    "\n",
    "pivot_range = hl_range\n",
    "print('Yestreday Date : '+str(yest_date))       \n",
    "print('last close : '+ str(last_close))\n",
    "print('last high : '+ str(last_high))\n",
    "print('last low : '+ str(last_low))\n",
    "print('HL Range : '+ str(round(pivot_range,4)))\n",
    "\n",
    "mymargin = round(kite.margins(segment = 'equity')['available']['live_balance'],2)\n",
    "\n",
    "pivot_price = last_close\n",
    "\n",
    "if (fullquantity==0):\n",
    "    fullquantity = int(mymargin / one_dollar_margin)\n",
    "\n",
    "print('My Margin : '+str(mymargin))\n",
    "print('Pivot Price : ' + str(pivot_price))\n",
    "print('Full Quantity : '+str(fullquantity))\n",
    "print('Stoploss On ? : '+str(stoploss_on))\n",
    "print('Order Type : '+str(order_type))\n",
    "print()\n",
    "\n",
    "total_parts = 14\n",
    "\n",
    "scounter = int(total_parts/2)\n",
    "\n",
    "fibonmulti1=0.1180\n",
    "fibonmulti2=0.2360\n",
    "fibonmulti3=0.3820\n",
    "fibonmulti4=0.6180\n",
    "fibonmulti5=1.0000  # 100% Range\n",
    "fibonmulti6=1.1180\n",
    "fibonmulti7=1.2360\n",
    "fibonmulti8=1.3820\n",
    "fibonmulti9=1.6180\n",
    "fibonmulti10=2.0000 # Maximum quantity @ 200% Range\n",
    "fibonmulti11=2.1180 # Stops trading here\n",
    "fibonmulti12=2.3820 # Stoploss if set 'True' / No Stoploss if set 'False'\n",
    "\n",
    "print()\n",
    "print('pivot price : ' +str(pivot_price))\n",
    "\n",
    "print()\n",
    "base=0.0025\n",
    "\n",
    "for i in range(1, int(total_parts/2)+1):\n",
    "    globals()['p'+str(i)+'b'] = round(pivot_price - pivot_range*(globals()['fibonmulti'+str(i)]),4)\n",
    "    globals()['p'+str(i)+'b'] = round(base * round(globals()['p'+str(i)+'b'] /base),4)\n",
    "    print('p'+str(i)+'b = '+str(globals()['p'+str(i)+'b']))\n",
    "\n",
    "print()\n",
    "for i in range(1, int(total_parts/2)+1):\n",
    "    globals()['p'+str(i)+'s'] = round(pivot_price + pivot_range*(globals()['fibonmulti'+str(i)]),4)\n",
    "    globals()['p'+str(i)+'s'] = round(base * round(globals()['p'+str(i)+'s'] /base),4)\n",
    "    print('p'+str(i)+'s = '+str(globals()['p'+str(i)+'s']))\n",
    "\n",
    "print()\n",
    "\n",
    "halfqunat = fullquantity/1\n",
    "tempcounter = 1\n",
    "\n",
    "if(powermulti==1):\n",
    "    for i in range(4,-1,-1):\n",
    "        globals()['p'+str(tempcounter)+'q'] =int(fullquantity-(i*fullquantity/5))\n",
    "        print('p'+str(tempcounter)+'q : ' + str(globals()['p'+str(tempcounter)+'q']))\n",
    "        tempcounter = tempcounter+1\n",
    "else:\n",
    "    for j in range(1):\n",
    "        for i in range(4,-1,-1):\n",
    "            globals()['p'+str(tempcounter)+'q'] = int((halfqunat*j) + int(halfqunat/pow(powermulti,i)))\n",
    "            print('p'+str(tempcounter)+'q : ' + str(globals()['p'+str(tempcounter)+'q']))\n",
    "            tempcounter = tempcounter+1\n",
    "\n",
    "p6q = p5q\n",
    "if(stoploss_on==True):\n",
    "    p7q = 0\n",
    "else :\n",
    "    p7q = p6q\n",
    "\n",
    "print('p6q : '+ str(p6q))\n",
    "print('p7q : '+ str(p7q))\n",
    "\n",
    "const_param_map = {'Today Date': str(today),\n",
    "                 'Yesterday Date':str(yest_date),\n",
    "                 'Last High': last_high,\n",
    "                 'Last Low': last_low,\n",
    "                 'Last Close':last_close,\n",
    "                 'HL Range': hl_range,\n",
    "                 'My Margin': mymargin\n",
    "                  }\n",
    "\n",
    "var_param_map = {'Pivot Price':pivot_price,\n",
    "                 'Full Quantity':fullquantity,\n",
    "                 'Stoploss on?':stoploss_on,\n",
    "                 'Order Type': order_type}\n",
    "\n",
    "pivots_map = {'Buy':[p1b,p2b,p3b,p4b,p5b,p6b,p7b],\n",
    "              'Quantity':[p1q,p2q,p3q,p4q,p5q,p6q,p7q],\n",
    "              'Sell':[p1s,p2s,p3s,p4s,p5s,p6s,p7s]}\n",
    "\n",
    "const_param_map_df = pd.DataFrame(const_param_map, index=[0])\n",
    "var_param_map_df = pd.DataFrame(var_param_map, index=[0])\n",
    "pivots_map_df = pd.DataFrame(pivots_map, index=[0,1,2,3,4,5,6])\n",
    "\n",
    "\n",
    "const_param_map_df.to_csv('./const_param_map.csv')\n",
    "var_param_map_df.to_csv('./var_param_map.csv')\n",
    "pivots_map_df.to_csv('./pivots_map.csv')\n"
   ]
  },
  {
   "cell_type": "code",
   "execution_count": null,
   "metadata": {
    "ExecuteTime": {
     "end_time": "2020-12-08T04:19:44.410969Z",
     "start_time": "2020-12-08T04:19:36.693055Z"
    },
    "run_control": {
     "marked": false
    }
   },
   "outputs": [],
   "source": [
    "####################### Function Definition ############################\n",
    "myquantity = 0\n",
    "def getquant():\n",
    "    global myquantity, order_type, symbol_ip\n",
    "    allpos = kite.positions()['net']\n",
    "    for i in range(len(allpos)):\n",
    "        if(allpos[i]['tradingsymbol']==symbol_ip and  allpos[i]['product']== order_type):\n",
    "            myquantity = allpos[i]['quantity']\n",
    "            print('My Quantity : ' + str(allpos[i]['quantity']))\n",
    "        \n",
    "getquant()\n",
    "\n",
    "stop_trading = False\n",
    "def placeneworder(quantdiff):\n",
    "    global symbol_ip, stop_trading,exchange_type\n",
    "    if(quantdiff>0 and stop_trading==False):\n",
    "        try:\n",
    "            stop_trading = True\n",
    "            order_id= kite.place_order(tradingsymbol=symbol_ip,\n",
    "                        exchange=exchange_type,\n",
    "                        transaction_type=kite.TRANSACTION_TYPE_BUY,\n",
    "                        quantity=abs(quantdiff)-offset_qty,\n",
    "                        order_type=kite.ORDER_TYPE_MARKET,\n",
    "                        variety = kite.VARIETY_REGULAR,\n",
    "                        product=kite.PRODUCT_MIS if order_type=='MIS' else kite.PRODUCT_NRML)\n",
    "            getquant()\n",
    "            stop_trading = False\n",
    "        except Exception as e:\n",
    "            stop_trading = True\n",
    "            print(e)\n",
    "            getquant()\n",
    "            stop_trading = False\n",
    "    if(quantdiff<0 and stop_trading==False):\n",
    "        try:\n",
    "            stop_trading = True\n",
    "            order_id= kite.place_order(tradingsymbol=symbol_ip,\n",
    "                        exchange=exchange_type,\n",
    "                        transaction_type=kite.TRANSACTION_TYPE_SELL,\n",
    "                        quantity=abs(quantdiff)-offset_qty,\n",
    "                        order_type=kite.ORDER_TYPE_MARKET,\n",
    "                        variety = kite.VARIETY_REGULAR,\n",
    "                        product=kite.PRODUCT_MIS if order_type=='MIS' else kite.PRODUCT_NRML)\n",
    "            getquant()\n",
    "            stop_trading = False\n",
    "        except Exception as e:\n",
    "            stop_trading = True\n",
    "            print(e)\n",
    "            getquant()\n",
    "            stop_trading = False\n",
    "\n",
    "\n",
    "def ckqnt (orderprice,orderquant):\n",
    "    global myquantity\n",
    "    quantdiff = orderquant - myquantity\n",
    "    placeneworder(quantdiff)\n",
    "    return myquantity\n",
    "\n",
    "\n",
    "def checkpivot(ltps):\n",
    "    global myquantity\n",
    "    if (ltps==pivot_price):\n",
    "        ckqnt(pivot_price,0)\n",
    "        print('in pivot range')\n",
    "    this_point = 0\n",
    "    for i in range(1,int(total_parts/2)+1):\n",
    "        if(i==int(total_parts/2)):\n",
    "            if (ltps <= (globals()['p'+str(i)+'b']) and stoploss_on==True ):\n",
    "                ckqnt(globals()['p'+str(i)+'b'],globals()['p'+str(i)+'q'])\n",
    "                print('==========' + 'p'+str(i)+'b' +'===========')\n",
    "                this_point = i\n",
    "                print(str(ltps)+ ' < ' + 'p'+str(i)+'b')\n",
    "            if (ltps >= (globals()['p'+str(i)+'s']) and stoploss_on==True):\n",
    "                ckqnt(globals()['p'+str(i)+'s'],-(globals()['p'+str(i)+'q']))\n",
    "                print('==========' + 'p'+str(i)+'b' +'===========')\n",
    "                this_point = i\n",
    "                print(str(ltps)+ ' < ' + 'p'+str(i)+'b')\n",
    "        \n",
    "        else:\n",
    "            if (ltps == globals()['p'+str(i)+'b']):\n",
    "                ckqnt(globals()['p'+str(i)+'b'],globals()['p'+str(i)+'q'])\n",
    "                this_point = i\n",
    "                print('==========' +'p'+str(i)+'b' + '==============' )\n",
    "                print(str(globals()['p'+str(i+1)+'b'])+ ' < ' +str(ltps)+ ' < ' +str(globals()['p'+str(i)+'b']))\n",
    "            if (ltps == globals()['p'+str(i)+'s']):\n",
    "                ckqnt(globals()['p'+str(i)+'s'],-(globals()['p'+str(i)+'q']))\n",
    "                this_point = i\n",
    "                print('==========' +'p'+str(i)+'s' + '==============' )\n",
    "                print(str(globals()['p'+str(i)+'s'])+ ' < ' +str(ltps)+ ' < ' +str(globals()['p'+str(i+1)+'s']))\n",
    "                \n",
    "            if(ltps <= globals()['p'+str(i)+'b'] and ltps > globals()['p'+str(i+1)+'b']):\n",
    "                this_point=i   \n",
    "            if(ltps >= globals()['p'+str(i)+'s'] and ltps < globals()['p'+str(i+1)+'s']):\n",
    "                this_point=i\n",
    "\n",
    "    if(myquantity>0):\n",
    "        \n",
    "        \n",
    "        map1 = {'Previous':[globals()['p'+str(this_point)+'b'],\n",
    "                            globals()['p'+str(this_point)+'q']],\n",
    "                'Current':[ltps,myquantity],\n",
    "                'Next':[globals()['p'+str(this_point+1)+'b'],\n",
    "                        globals()['p'+str(this_point+1)+'q']]}\n",
    "        \n",
    "        mydf1 = pd.DataFrame(map1, index=['Price','Quantity'])\n",
    "        mydf1.to_csv('./mycsv.csv')\n",
    "        \n",
    "    if(myquantity<0):\n",
    "        map1 = {'Previous':[globals()['p'+str(this_point)+'b'],\n",
    "                            globals()['p'+str(this_point)+'q']],\n",
    "                'Current':[ltps,myquantity],\n",
    "                'Next':[globals()['p'+str(this_point+1)+'s'],\n",
    "                        -globals()['p'+str(this_point+1)+'q']]}\n",
    "        \n",
    "        mydf1 = pd.DataFrame(map1, index=['Price','Quantity'])\n",
    "        mydf1.to_csv('./mycsv.csv')\n",
    "        \n",
    "    if(myquantity==0):\n",
    "        map1 = {'Previous':[p1b, p1q],\n",
    "                'Current':[ltps,myquantity],\n",
    "                'Next':[p1s, -p1q],}\n",
    "        \n",
    "        mydf1 = pd.DataFrame(map1, index=['Price','Quantity'])\n",
    "        \n",
    "        mydf1.to_csv('./mycsv.csv')\n"
   ]
  },
  {
   "cell_type": "code",
   "execution_count": null,
   "metadata": {
    "ExecuteTime": {
     "end_time": "2020-12-08T04:19:44.690424Z",
     "start_time": "2020-12-08T04:19:44.684946Z"
    },
    "run_control": {
     "marked": false
    }
   },
   "outputs": [],
   "source": [
    "# ############### Convert Position @ 16:40 #####################\n",
    "# import datetime\n",
    "# from time import sleep\n",
    "\n",
    "# def act(x):\n",
    "#     kite.convert_position(\n",
    "#                          exchange = exchange_type,\n",
    "#                          tradingsymbol = symbol_ip,\n",
    "#                          transaction_type = kite.TRANSACTION_TYPE_SELL if myquantity <0 else kite.TRANSACTION_TYPE_BUY ,\n",
    "#                          position_type='day',\n",
    "#                          quantity=myquantity/2,\n",
    "#                          old_product = kite.PRODUCT_MIS,\n",
    "#                          new_product = kite.PRODUCT_NRML)\n",
    "#     stop_trading = True\n",
    "    \n",
    "    \n",
    "#     return x+10\n",
    "\n",
    "# def wait_start(runTime, action):\n",
    "#     startTime = datetime.time(*(map(int, runTime.split(':'))))\n",
    "#     while startTime > datetime.datetime.today().time(): \n",
    "#         sleep(1)\n",
    "#     return action\n",
    "\n",
    "# wait_start('13:43', lambda: act(100))"
   ]
  },
  {
   "cell_type": "code",
   "execution_count": null,
   "metadata": {
    "ExecuteTime": {
     "end_time": "2020-12-08T04:19:46.784891Z",
     "start_time": "2020-12-08T04:19:46.774727Z"
    },
    "run_control": {
     "marked": false
    }
   },
   "outputs": [],
   "source": [
    "# kite.positions()"
   ]
  },
  {
   "cell_type": "code",
   "execution_count": null,
   "metadata": {
    "ExecuteTime": {
     "end_time": "2020-12-08T04:19:47.991106Z",
     "start_time": "2020-12-08T04:19:47.982507Z"
    },
    "run_control": {
     "marked": false
    }
   },
   "outputs": [],
   "source": [
    "# wait_start('13:43',)"
   ]
  },
  {
   "cell_type": "code",
   "execution_count": null,
   "metadata": {
    "ExecuteTime": {
     "end_time": "2020-12-07T05:41:30.222019Z",
     "start_time": "2020-12-07T04:05:45.188429Z"
    },
    "run_control": {
     "marked": false
    },
    "scrolled": true
   },
   "outputs": [],
   "source": [
    "################## START TRADING #######################\n",
    "moving_pivot_on = 2\n",
    "import logging\n",
    "import threading\n",
    "from kiteconnect import KiteTicker\n",
    "logging.basicConfig(level=logging.DEBUG)\n",
    "# kws = KiteTicker(\"w19o0chuo929jxkp\", \"eA5B5OJQNOtZ0OYihkBmYw7Ke3B9pmCC\")\n",
    "\n",
    "this_second = datetime.datetime.now().second\n",
    "last_second = 0\n",
    "\n",
    "def on_ticks(ws, ticks):\n",
    "    global pivot_price, moving_pivot_on, this_second, last_second, stop_trading\n",
    "    this_second = datetime.datetime.now().second\n",
    "    if(last_second!=this_second):\n",
    "        last_second = this_second\n",
    "        x = threading.Thread(target=checkpivot, args=([ticks[0]['last_price']]))\n",
    "        if(stop_trading==False):\n",
    "            x.start()\n",
    "            \n",
    "#     checkpivot(ticks[0]['last_price'])\n",
    "\n",
    "#     if(moving_pivot_on):\n",
    "#         pivot_price =round(base * round(ticks[0]['average_price']/base),4) # Moving Trade Average Line : 1\n",
    "#         calc_pivots();                                                     # Moving Trade Average Line : 2\n",
    "        \n",
    "    #print('===========================')\n",
    "    #print(type(ticks[0]['last_price']))\n",
    "    print('==========================')\n",
    "    mymap = {'ltp':ticks[0]['last_price']}\n",
    "    mynewdf = pd.DataFrame(mymap, index=[0])\n",
    "    mynewdf.to_csv('./ltp.csv')\n",
    "    \n",
    "    print( 'LTP : ' + str(ticks[0]['last_price']))\n",
    "    #print('==========================')\n",
    "    #print()\n",
    "\n",
    "def on_connect(ws, response):\n",
    "    global inst_token\n",
    "    ws.subscribe([inst_token])\n",
    "    ws.set_mode(ws.MODE_FULL, [inst_token])\n",
    "\n",
    "def on_close(ws, code, reason):\n",
    "    ws.stop()\n",
    "    \n",
    "def on_error(ws, code, reason):\n",
    "    logging.error(\"closed connection on error: {} {}\".format(code, reason))\n",
    "\n",
    "def on_noreconnect(ws):\n",
    "    logging.error(\"Reconnecting the websocket failed\")\n",
    "\n",
    "def on_reconnect(ws, attempt_count):\n",
    "    logging.debug(\"Reconnecting the websocket: {}\".format(attempt_count))\n",
    "\n",
    "#def on_order_update(ws, data):\n",
    "#    print(\"order update: \", data)\n",
    "\n",
    "kws.on_error = on_error\n",
    "kws.on_noreconnect = on_noreconnect\n",
    "kws.on_reconnect = on_reconnect\n",
    "#kws.on_order_update = on_order_update\n",
    "\n",
    "kws.on_ticks = on_ticks\n",
    "kws.on_connect = on_connect\n",
    "kws.on_close = on_close\n",
    "\n",
    "kws.connect()"
   ]
  },
  {
   "cell_type": "code",
   "execution_count": null,
   "metadata": {
    "run_control": {
     "marked": false
    }
   },
   "outputs": [],
   "source": []
  },
  {
   "cell_type": "code",
   "execution_count": null,
   "metadata": {
    "run_control": {
     "marked": false
    }
   },
   "outputs": [],
   "source": []
  },
  {
   "cell_type": "code",
   "execution_count": null,
   "metadata": {
    "run_control": {
     "marked": false
    }
   },
   "outputs": [],
   "source": []
  },
  {
   "cell_type": "code",
   "execution_count": null,
   "metadata": {
    "run_control": {
     "marked": false
    }
   },
   "outputs": [],
   "source": []
  }
 ],
 "metadata": {
  "kernelspec": {
   "display_name": "Python 3",
   "language": "python",
   "name": "python3"
  },
  "language_info": {
   "codemirror_mode": {
    "name": "ipython",
    "version": 3
   },
   "file_extension": ".py",
   "mimetype": "text/x-python",
   "name": "python",
   "nbconvert_exporter": "python",
   "pygments_lexer": "ipython3",
   "version": "3.7.3"
  },
  "varInspector": {
   "cols": {
    "lenName": 16,
    "lenType": 16,
    "lenVar": 40
   },
   "kernels_config": {
    "python": {
     "delete_cmd_postfix": "",
     "delete_cmd_prefix": "del ",
     "library": "var_list.py",
     "varRefreshCmd": "print(var_dic_list())"
    },
    "r": {
     "delete_cmd_postfix": ") ",
     "delete_cmd_prefix": "rm(",
     "library": "var_list.r",
     "varRefreshCmd": "cat(var_dic_list()) "
    }
   },
   "position": {
    "height": "518px",
    "left": "685px",
    "right": "20px",
    "top": "120px",
    "width": "319px"
   },
   "types_to_exclude": [
    "module",
    "function",
    "builtin_function_or_method",
    "instance",
    "_Feature"
   ],
   "window_display": false
  }
 },
 "nbformat": 4,
 "nbformat_minor": 4
}
