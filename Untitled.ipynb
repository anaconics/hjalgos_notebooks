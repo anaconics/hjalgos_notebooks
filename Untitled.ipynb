{
 "cells": [
  {
   "cell_type": "code",
   "execution_count": null,
   "id": "independent-contact",
   "metadata": {
    "ExecuteTime": {
     "end_time": "2021-03-03T11:26:05.124760Z",
     "start_time": "2021-03-03T11:26:04.958733Z"
    }
   },
   "outputs": [],
   "source": [
    "import pandas as pd"
   ]
  },
  {
   "cell_type": "code",
   "execution_count": null,
   "id": "assured-murder",
   "metadata": {
    "ExecuteTime": {
     "end_time": "2021-03-03T11:26:05.336066Z",
     "start_time": "2021-03-03T11:26:05.136592Z"
    }
   },
   "outputs": [],
   "source": [
    "ipdf = pd.read_excel('./CALL.xlsx')"
   ]
  },
  {
   "cell_type": "code",
   "execution_count": null,
   "id": "brave-central",
   "metadata": {
    "ExecuteTime": {
     "end_time": "2021-03-03T11:26:05.771183Z",
     "start_time": "2021-03-03T11:26:05.699636Z"
    },
    "scrolled": true
   },
   "outputs": [],
   "source": [
    "def read_qty_list_fun():\n",
    "    ipdf = pd.read_excel('./CALL.xlsx')\n",
    "    ipcsv = ipdf[['price','qty']]\n",
    "    symbol_ip = ipdf['instrument'][0]\n",
    "    inst_token = int(ipdf['token'][0])\n",
    "    order_type = ipdf['order_type'][0]\n",
    "    exch_type = ipdf['exch_type'][0]\n",
    "    \n",
    "    auth = ipdf[['ac_name','ac_code','psw','pin']][0:3]\n",
    "    \n",
    "    return {'ipcsv':ipcsv,'symbol_ip':symbol_ip,'inst_token':inst_token,\n",
    "            'ipdf':ipdf,'auth':auth,'exch_type':exch_type,\n",
    "            'order_type':order_type}\n",
    "\n",
    "rd = read_qty_list_fun()\n",
    "ipcsv = rd['ipcsv']\n",
    "ipdf = rd['ipdf']\n",
    "ipcsv['price'] = round(0.0025 * round(ipcsv['price']/0.0025), 4)\n",
    "symbol_ip = rd['symbol_ip']\n",
    "inst_token = rd['inst_token']\n",
    "\n",
    "order_type = rd['order_type']\n",
    "auth = rd['auth']\n",
    "\n",
    "exch_type_ip = rd['exch_type']\n",
    "exchange_type=''\n",
    "if(exch_type_ip=='CDS'):\n",
    "    exchange_type = 'module.kite.EXCHANGE_CDS'\n",
    "if(exch_type_ip=='NFO'):\n",
    "    exchange_type = 'module.kite.EXCHANGE_NFO'\n",
    "\n",
    "print('symbol_ip : '+str(symbol_ip))\n",
    "print('inst_token : '+str(inst_token))\n",
    "print('order_type : '+str(order_type))\n",
    "print('exchange_type : '+str(exchange_type))\n"
   ]
  },
  {
   "cell_type": "code",
   "execution_count": null,
   "id": "cleared-german",
   "metadata": {},
   "outputs": [],
   "source": []
  },
  {
   "cell_type": "code",
   "execution_count": null,
   "id": "furnished-zoning",
   "metadata": {},
   "outputs": [],
   "source": []
  },
  {
   "cell_type": "code",
   "execution_count": null,
   "id": "lined-synthetic",
   "metadata": {},
   "outputs": [],
   "source": []
  },
  {
   "cell_type": "code",
   "execution_count": null,
   "id": "american-telephone",
   "metadata": {
    "ExecuteTime": {
     "end_time": "2021-03-03T19:01:44.225494Z",
     "start_time": "2021-03-03T19:01:43.724929Z"
    }
   },
   "outputs": [],
   "source": [
    "from openpyxl import load_workbook\n",
    "import pandas as pd\n",
    "wb = load_workbook(filename = 'CALL.xlsx',\n",
    "                    read_only=False,\n",
    "                    keep_vba=True,\n",
    "                    data_only=False,\n",
    "                    keep_links=False)\n"
   ]
  },
  {
   "cell_type": "code",
   "execution_count": null,
   "id": "vertical-skating",
   "metadata": {
    "ExecuteTime": {
     "end_time": "2021-03-03T19:01:44.924841Z",
     "start_time": "2021-03-03T19:01:44.921748Z"
    }
   },
   "outputs": [],
   "source": [
    "# df.head(10)\n",
    "# df.to_excel('./exp.xlsx',index=False,header=False,)\n",
    "# wb.active.data_validations"
   ]
  },
  {
   "cell_type": "code",
   "execution_count": null,
   "id": "close-reality",
   "metadata": {
    "ExecuteTime": {
     "end_time": "2021-03-03T19:04:59.219367Z",
     "start_time": "2021-03-03T19:04:59.157938Z"
    }
   },
   "outputs": [],
   "source": [
    "wb.save('./save.xlsx')"
   ]
  },
  {
   "cell_type": "code",
   "execution_count": null,
   "id": "auburn-insight",
   "metadata": {
    "ExecuteTime": {
     "end_time": "2021-03-03T19:03:49.870088Z",
     "start_time": "2021-03-03T19:03:49.866669Z"
    }
   },
   "outputs": [],
   "source": [
    "ws = wb.worksheets[0]"
   ]
  },
  {
   "cell_type": "code",
   "execution_count": null,
   "id": "dominant-nursing",
   "metadata": {
    "ExecuteTime": {
     "end_time": "2021-03-03T19:04:54.006378Z",
     "start_time": "2021-03-03T19:04:54.003022Z"
    }
   },
   "outputs": [],
   "source": [
    "ws['I6'] = 1"
   ]
  },
  {
   "cell_type": "code",
   "execution_count": null,
   "id": "liquid-worship",
   "metadata": {},
   "outputs": [],
   "source": [
    "## take nifty spot from zerodha\n",
    "## take first seller price to ltp in excel\n",
    "## VIX's percentage"
   ]
  },
  {
   "cell_type": "code",
   "execution_count": null,
   "id": "local-earth",
   "metadata": {},
   "outputs": [],
   "source": []
  },
  {
   "cell_type": "code",
   "execution_count": null,
   "id": "brilliant-yield",
   "metadata": {},
   "outputs": [],
   "source": []
  },
  {
   "cell_type": "code",
   "execution_count": null,
   "id": "obvious-duplicate",
   "metadata": {
    "ExecuteTime": {
     "end_time": "2021-03-04T18:47:38.729389Z",
     "start_time": "2021-03-04T18:47:35.056131Z"
    }
   },
   "outputs": [],
   "source": [
    "import numpy as np\n",
    "import datetime\n",
    "import scipy.stats as si\n",
    "import numpy as np\n",
    "import scipy.stats as si\n",
    "import yfinance as yf\n",
    "    \n",
    "def black_scholes_calc(S, K, T, r, sigma, option = 'call'): \n",
    "    #S: Current Stock Price\n",
    "    #K: Strike price\n",
    "    #T: Time to maturity in Years\n",
    "    #r: Risk Free interest rate\n",
    "    #sigma: Volatility of underlying asset\n",
    "    \n",
    "    d1 = (np.log(S / K) + (r + 0.5 * sigma ** 2) * T) / (sigma * np.sqrt(T))\n",
    "    d2 = (np.log(S / K) + (r - 0.5 * sigma ** 2) * T) / (sigma * np.sqrt(T))\n",
    "    \n",
    "    if option == 'call':\n",
    "        result = (S * si.norm.cdf(d1, 0.0, 1.0) - K * np.exp(-r * T) * si.norm.cdf(d2, 0.0, 1.0))\n",
    "    if option == 'put':\n",
    "        result = (K * np.exp(-r * T) * si.norm.cdf(-d2, 0.0, 1.0) - S * si.norm.cdf(-d1, 0.0, 1.0))\n",
    "        \n",
    "    return result\n",
    "\n",
    "'''\n",
    "Sample Run\n",
    "'''\n",
    "s = yf.Ticker('AAPL')\n",
    "opt = s.option_chain('2021-03-12')\n",
    "call= opt.calls \n",
    "S = s.history(period = \"max\")['Close'].iloc[-1]\n",
    "T = (datetime.date(2020,11,20) - datetime.date(2020,7,24)).days / 365.0\n",
    "print(S, T)\n",
    "for i in range(len(call)):\n",
    "    v = call.iloc[i]['impliedVolatility']\n",
    "    r = 0.17900 \n",
    "    K = call.iloc[i]['strike']\n",
    "    print(K)\n",
    "    print ('Price: %.4f' % black_scholes_calc(S, K, T, 0.014, v))"
   ]
  },
  {
   "cell_type": "code",
   "execution_count": null,
   "id": "rapid-matrix",
   "metadata": {},
   "outputs": [],
   "source": []
  },
  {
   "cell_type": "code",
   "execution_count": null,
   "id": "essential-reproduction",
   "metadata": {
    "ExecuteTime": {
     "end_time": "2021-03-07T08:56:18.151919Z",
     "start_time": "2021-03-07T08:56:18.148638Z"
    }
   },
   "outputs": [],
   "source": []
  },
  {
   "cell_type": "code",
   "execution_count": null,
   "id": "recognized-worcester",
   "metadata": {
    "ExecuteTime": {
     "end_time": "2021-03-07T14:17:41.180510Z",
     "start_time": "2021-03-07T14:17:40.541745Z"
    }
   },
   "outputs": [],
   "source": [
    "import login_haj\n",
    "from login_haj import *\n",
    "import pandas as pd"
   ]
  },
  {
   "cell_type": "code",
   "execution_count": null,
   "id": "registered-drilling",
   "metadata": {
    "ExecuteTime": {
     "end_time": "2021-03-07T14:19:28.706767Z",
     "start_time": "2021-03-07T14:19:06.840127Z"
    }
   },
   "outputs": [],
   "source": [
    "retry_autologin()"
   ]
  },
  {
   "cell_type": "code",
   "execution_count": null,
   "id": "entire-wound",
   "metadata": {
    "ExecuteTime": {
     "end_time": "2021-03-07T14:23:13.206749Z",
     "start_time": "2021-03-07T14:23:12.548164Z"
    }
   },
   "outputs": [],
   "source": [
    "interval='30minute'\n",
    "daysdiff = 10\n",
    "insttkn = 2633731\n",
    "\n",
    "todaydt=datetime.date.today()\n",
    "hud_ago=todaydt-datetime.timedelta(days=daysdiff)\n",
    "to_date=datetime.date.isoformat(todaydt)\n",
    "from_date=datetime.date.isoformat(hud_ago)\n",
    "\n",
    "print('from_date :'+str(from_date))\n",
    "print('to_date :'+str(to_date))\n",
    "\n",
    "old_lst = login_haj.kite.historical_data(insttkn, from_date, to_date, interval,continuous=False)"
   ]
  },
  {
   "cell_type": "code",
   "execution_count": null,
   "id": "familiar-monaco",
   "metadata": {
    "ExecuteTime": {
     "end_time": "2021-03-07T14:23:13.303051Z",
     "start_time": "2021-03-07T14:23:13.288950Z"
    },
    "scrolled": true
   },
   "outputs": [],
   "source": [
    "old_lst_df = pd.DataFrame(old_lst)\n",
    "old_lst_df"
   ]
  },
  {
   "cell_type": "code",
   "execution_count": null,
   "id": "respiratory-christianity",
   "metadata": {
    "ExecuteTime": {
     "end_time": "2021-03-07T14:23:13.438116Z",
     "start_time": "2021-03-07T14:23:13.356340Z"
    },
    "scrolled": false
   },
   "outputs": [],
   "source": [
    "paisa_diff = 0.0125\n",
    "\n",
    "diff_map_list = []\n",
    "paisa_list = []\n",
    "\n",
    "for paisa_diff in range(25,500,25):\n",
    "    paisa_diff = paisa_diff/10000\n",
    "    total_reps = 0\n",
    "    for ind in old_lst_df.index:\n",
    "        this_open = old_lst_df['open'][ind]\n",
    "        this_high = old_lst_df['high'][ind]\n",
    "        this_low = old_lst_df['low'][ind]\n",
    "        this_close = old_lst_df['close'][ind]\n",
    "\n",
    "        ho_reps = int((this_high-this_open)/paisa_diff)\n",
    "        hl_reps = int((this_high-this_low)/paisa_diff)\n",
    "        cl_reps = int((this_close-this_low)/paisa_diff)\n",
    "\n",
    "        total_this_reps = ho_reps + hl_reps + cl_reps\n",
    "        total_reps = total_reps + total_this_reps\n",
    "        \n",
    "    diff_map_list.append({'total_reps'+interval:total_reps})\n",
    "    paisa_list.append({'paisa_diff':paisa_diff})\n",
    "    \n",
    "# print(total_reps)\n",
    "\n",
    "diff_map_list_df = pd.DataFrame(diff_map_list)\n",
    "diff_map_list_df"
   ]
  },
  {
   "cell_type": "code",
   "execution_count": null,
   "id": "tender-clerk",
   "metadata": {
    "ExecuteTime": {
     "end_time": "2021-03-07T14:23:13.506848Z",
     "start_time": "2021-03-07T14:23:13.497246Z"
    }
   },
   "outputs": [],
   "source": [
    "diff_map_list_df_30min = diff_map_list_df\n",
    "diff_map_list_df_30min"
   ]
  },
  {
   "cell_type": "code",
   "execution_count": null,
   "id": "charitable-brass",
   "metadata": {
    "ExecuteTime": {
     "end_time": "2021-03-07T14:35:09.756930Z",
     "start_time": "2021-03-07T14:35:09.735612Z"
    }
   },
   "outputs": [],
   "source": [
    "newct = pd.concat([diff_map_list_df_min, diff_map_list_df_5min, diff_map_list_df_10min, diff_map_list_df_15min, diff_map_list_df_30min,],\n",
    "                  ignore_index=False, axis=1\n",
    "                    \n",
    "                 )\n",
    "newct"
   ]
  },
  {
   "cell_type": "code",
   "execution_count": null,
   "id": "fantastic-colonial",
   "metadata": {
    "ExecuteTime": {
     "end_time": "2021-03-07T14:37:15.953341Z",
     "start_time": "2021-03-07T14:37:15.938504Z"
    }
   },
   "outputs": [],
   "source": [
    "del newct['paisa_diff']\n",
    "newct"
   ]
  },
  {
   "cell_type": "code",
   "execution_count": null,
   "id": "southern-science",
   "metadata": {
    "ExecuteTime": {
     "end_time": "2021-03-07T14:40:02.604453Z",
     "start_time": "2021-03-07T14:40:02.400486Z"
    },
    "scrolled": false
   },
   "outputs": [],
   "source": [
    "newct[5:].plot()"
   ]
  },
  {
   "cell_type": "code",
   "execution_count": null,
   "id": "fallen-prior",
   "metadata": {
    "ExecuteTime": {
     "end_time": "2021-03-07T14:37:24.952903Z",
     "start_time": "2021-03-07T14:37:24.942714Z"
    }
   },
   "outputs": [],
   "source": [
    "newct.head(50)"
   ]
  },
  {
   "cell_type": "code",
   "execution_count": null,
   "id": "indie-adventure",
   "metadata": {},
   "outputs": [],
   "source": []
  },
  {
   "cell_type": "code",
   "execution_count": null,
   "id": "illegal-retirement",
   "metadata": {},
   "outputs": [],
   "source": []
  },
  {
   "cell_type": "code",
   "execution_count": null,
   "id": "covered-pilot",
   "metadata": {},
   "outputs": [],
   "source": []
  },
  {
   "cell_type": "code",
   "execution_count": null,
   "id": "undefined-vampire",
   "metadata": {},
   "outputs": [],
   "source": []
  },
  {
   "cell_type": "code",
   "execution_count": null,
   "id": "jewish-contribution",
   "metadata": {
    "ExecuteTime": {
     "end_time": "2021-03-07T18:40:52.629676Z",
     "start_time": "2021-03-07T18:40:52.619879Z"
    }
   },
   "outputs": [],
   "source": [
    "from time import time\n",
    "from IPython import get_ipython\n",
    "from IPython.display import Audio, display\n",
    "\n",
    "class Beeper:\n",
    "\n",
    "    def __init__(self, threshold, **audio_kwargs):\n",
    "        self.threshold = threshold\n",
    "        self.start_time = None    # time in sec, or None\n",
    "        self.audio = audio_kwargs\n",
    "\n",
    "    def pre_execute(self):\n",
    "        if not self.start_time:\n",
    "            self.start_time = time()\n",
    "\n",
    "    def post_execute(self):\n",
    "        end_time = time()\n",
    "        if self.start_time and end_time - self.start_time > self.threshold:\n",
    "            audio = Audio(**self.audio, autoplay=True)\n",
    "            display(audio)\n",
    "        self.start_time = None\n",
    "\n",
    "beeper = Beeper(30, filename='./beep-02.wav')\n",
    "\n",
    "ipython = get_ipython()\n",
    "ipython.events.register('pre_execute', beeper.pre_execute)\n",
    "ipython.events.register('post_execute', beeper.post_execute)"
   ]
  },
  {
   "cell_type": "code",
   "execution_count": null,
   "id": "instructional-diesel",
   "metadata": {
    "ExecuteTime": {
     "end_time": "2021-03-07T18:40:54.098895Z",
     "start_time": "2021-03-07T18:40:54.085267Z"
    }
   },
   "outputs": [],
   "source": [
    "from jupyter_helpers.notifications import Notifications\n",
    "Notifications(\n",
    "     success_audio='./beep-02.wav', time_threshold=50,\n",
    ")"
   ]
  },
  {
   "cell_type": "code",
   "execution_count": null,
   "id": "generous-finish",
   "metadata": {
    "ExecuteTime": {
     "end_time": "2021-03-07T18:40:54.784686Z",
     "start_time": "2021-03-07T18:40:54.779290Z"
    }
   },
   "outputs": [],
   "source": [
    "from IPython.display import Audio, display\n",
    "\n",
    "def play_sound(self, etype, value, tb, tb_offset=None):\n",
    "    self.showtraceback((etype, value, tb), tb_offset=tb_offset)\n",
    "    display(Audio(url='./beep-02.wav', autoplay=True))\n",
    "\n",
    "get_ipython().set_custom_exc((ZeroDivisionError,), play_sound)"
   ]
  },
  {
   "cell_type": "code",
   "execution_count": null,
   "id": "under-handle",
   "metadata": {
    "ExecuteTime": {
     "end_time": "2021-03-07T18:40:55.649690Z",
     "start_time": "2021-03-07T18:40:55.644496Z"
    }
   },
   "outputs": [],
   "source": [
    "from jupyter_helpers.notifications import Notifications\n",
    "Notifications(failure_audio='./beep-02.wav')"
   ]
  },
  {
   "cell_type": "code",
   "execution_count": null,
   "id": "suffering-shame",
   "metadata": {
    "ExecuteTime": {
     "end_time": "2021-03-07T18:40:56.937306Z",
     "start_time": "2021-03-07T18:40:56.931575Z"
    }
   },
   "outputs": [],
   "source": [
    "print('sdfsdf')"
   ]
  },
  {
   "cell_type": "code",
   "execution_count": null,
   "id": "optical-boost",
   "metadata": {
    "ExecuteTime": {
     "end_time": "2021-03-07T18:40:38.748895Z",
     "start_time": "2021-03-07T18:40:38.450193Z"
    }
   },
   "outputs": [],
   "source": [
    "%load_ext jupyternotify"
   ]
  },
  {
   "cell_type": "code",
   "execution_count": null,
   "id": "portuguese-vietnam",
   "metadata": {
    "ExecuteTime": {
     "end_time": "2021-03-07T18:41:15.355886Z",
     "start_time": "2021-03-07T18:41:05.268127Z"
    }
   },
   "outputs": [],
   "source": [
    "%%notify\n",
    "import time\n",
    "time.sleep(10)"
   ]
  },
  {
   "cell_type": "code",
   "execution_count": 3,
   "id": "single-owner",
   "metadata": {
    "ExecuteTime": {
     "end_time": "2021-03-07T18:42:07.978371Z",
     "start_time": "2021-03-07T18:42:07.968482Z"
    }
   },
   "outputs": [
    {
     "data": {
      "text/html": [
       "\n",
       "                <audio  controls=\"controls\" autoplay=\"autoplay\">\n",
       "                    <source src=\"data:audio/wav;base64,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\" type=\"audio/wav\" />\n",
       "                    Your browser does not support the audio element.\n",
       "                </audio>\n",
       "              "
      ],
      "text/plain": [
       "<IPython.lib.display.Audio object>"
      ]
     },
     "execution_count": 3,
     "metadata": {},
     "output_type": "execute_result"
    }
   ],
   "source": [
    "from IPython.lib.display import Audio\n",
    "import numpy as np\n",
    "\n",
    "framerate = 10000\n",
    "play_time_seconds = 1\n",
    "\n",
    "t = np.linspace(0, play_time_seconds, framerate*play_time_seconds)\n",
    "audio_data = np.sin(2*np.pi*1500*t) + np.sin(2*np.pi*1500*t)\n",
    "Audio(audio_data, rate=framerate, autoplay=True,)"
   ]
  },
  {
   "cell_type": "code",
   "execution_count": null,
   "id": "divine-sphere",
   "metadata": {},
   "outputs": [],
   "source": []
  }
 ],
 "metadata": {
  "kernelspec": {
   "display_name": "Python 3",
   "language": "python",
   "name": "python3"
  },
  "language_info": {
   "codemirror_mode": {
    "name": "ipython",
    "version": 3
   },
   "file_extension": ".py",
   "mimetype": "text/x-python",
   "name": "python",
   "nbconvert_exporter": "python",
   "pygments_lexer": "ipython3",
   "version": "3.9.2"
  },
  "varInspector": {
   "cols": {
    "lenName": 16,
    "lenType": 16,
    "lenVar": 40
   },
   "kernels_config": {
    "python": {
     "delete_cmd_postfix": "",
     "delete_cmd_prefix": "del ",
     "library": "var_list.py",
     "varRefreshCmd": "print(var_dic_list())"
    },
    "r": {
     "delete_cmd_postfix": ") ",
     "delete_cmd_prefix": "rm(",
     "library": "var_list.r",
     "varRefreshCmd": "cat(var_dic_list()) "
    }
   },
   "types_to_exclude": [
    "module",
    "function",
    "builtin_function_or_method",
    "instance",
    "_Feature"
   ],
   "window_display": false
  }
 },
 "nbformat": 4,
 "nbformat_minor": 5
}
