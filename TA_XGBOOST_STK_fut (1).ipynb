{
 "cells": [
  {
   "cell_type": "code",
   "execution_count": null,
   "metadata": {},
   "outputs": [],
   "source": [
    "# pandas numpy sklearn joblib livelossplot seaborn tqdm matplotlib keras_tqdm kiteconnect ipywidgets ta \n",
    "import threading\n",
    "import pandas as pd\n",
    "import numpy as np\n",
    "from sklearn.multioutput import MultiOutputRegressor\n",
    "import joblib\n",
    "import livelossplot\n",
    "import seaborn as sns\n",
    "from tqdm import tqdm\n",
    "from matplotlib.pyplot import figure\n",
    "from numpy import loadtxt\n",
    "from stkdef60 import One_trian_stk_class\n",
    "from xgboost import XGBClassifier\n",
    "from sklearn.model_selection import train_test_split\n",
    "from sklearn.metrics import accuracy_score\n",
    "import matplotlib.pyplot as plt\n",
    "from sklearn.metrics import plot_confusion_matrix\n",
    "import numpy as np\n",
    "import pandas as pd\n",
    "import xgboost\n",
    "import math\n",
    "import csv as csv\n",
    "from xgboost import plot_importance\n",
    "from matplotlib import pyplot\n",
    "from sklearn.model_selection import cross_val_score, KFold, train_test_split, GridSearchCV, RandomizedSearchCV\n",
    "from sklearn.metrics import mean_absolute_error\n",
    "import matplotlib.pyplot as plt\n",
    "from scipy.stats import skew\n",
    "from collections import OrderedDict\n",
    "from stkdef60 import One_trian_stk_class\n",
    "import logging\n",
    "import pickle\n",
    "import matplotlib.pyplot as plt\n",
    "from kiteconnect import KiteConnect\n",
    "import ipywidgets as widgets\n",
    "from ipywidgets import interact, interact_manual\n",
    "from ta import add_all_ta_features\n",
    "import ta\n",
    "logging.basicConfig(level=logging.ERROR)\n",
    "# from pactools.grid_search import GridSearchCVProgressBar\n",
    "homediraddr = '/home/hemangjoshi37a_gmail_com'\n",
    "kite = KiteConnect(api_key=\"w19o0chuo929jxkp\")\n",
    "kite.login_url()\n",
    "# plt.style.use(\"seaborn\")\n",
    "kite = joblib.load('kitefile.p')"
   ]
  },
  {
   "cell_type": "code",
   "execution_count": null,
   "metadata": {},
   "outputs": [],
   "source": [
    "parameters_for_testing = {\n",
    "   'estimator__colsample_bytree':[0.4,0.8],\n",
    "   'estimator__gamma':[0.03,0.3],\n",
    "   'estimator__min_child_weight':[1.5,10],\n",
    "   'estimator__learning_rate':[0.1,0.07],\n",
    "   'estimator__max_depth':[3,15],\n",
    "   'estimator__n_estimators':[10000],\n",
    "   'estimator__reg_alpha':[1e-5,  0.75],\n",
    "   'estimator__reg_lambda':[1e-5, 0.45],\n",
    "   'estimator__subsample':[0.6,0.95],\n",
    "}\n",
    "\n",
    "xgbmodel = xgboost.XGBRegressor(colsample_bytree=0.4,\n",
    "                                gamma=0.5,\n",
    "                                learning_rate=0.05,\n",
    "                                max_depth=20,\n",
    "                                min_child_weight=1.1,\n",
    "                                n_estimators=10000,\n",
    "                                reg_alpha=0.50,\n",
    "                                gpu_id=0,\n",
    "                                tree_method='gpu_hist',\n",
    "                                reg_lambda=0.40,\n",
    "                                subsample=0.6,\n",
    "                                seed=50,\n",
    "                                n_jobs=-1,\n",
    "                                objective='reg:squarederror')\n",
    "\n",
    "xx={'name':'TATASTEEL',\n",
    "    'insttkn': 895745,\n",
    "    'nbatch': 1,\n",
    "    'nepochs': 5,\n",
    "    'trainlen': 'all',\n",
    "    'kite': kite}\n",
    "trainit = One_trian_stk_class(xx['name'], xx['insttkn'], xx['nbatch'], xx['nepochs'], xx['trainlen'], xx['kite'])\n",
    "trainit.load()\n",
    "trainit.ta_xtrain_def()\n",
    "\n",
    "reshapedxt = trainit.ta_x_train.reshape([trainit.ta_x_train.shape[0],trainit.ta_x_train.shape[1]*trainit.ta_x_train.shape[2]])\n",
    "xtreshaped = trainit.ta_x_test.reshape([trainit.ta_x_test.shape[0],trainit.ta_x_train.shape[1]*trainit.ta_x_train.shape[2]])\n",
    "\n",
    "multioutputregressor = MultiOutputRegressor(xgbmodel)\n",
    "\n",
    "eval_set = [(reshapedxt, trainit.ta_y_train), (xtreshaped, trainit.ta_y_test)]\n",
    "\n",
    "gsearch1 = GridSearchCV(estimator=multioutputregressor,\n",
    "                        param_grid=parameters_for_testing,\n",
    "                        n_jobs=8,\n",
    "                        iid=False,\n",
    "                        verbose=1,\n",
    "                        scoring='neg_mean_squared_error')\n",
    "\n",
    "gsearch1.fit(reshapedxt, trainit.ta_y_train,\n",
    "            eval_metric=[\"error\", \"logloss\"],\n",
    "            eval_set=eval_set,\n",
    "            verbose=False)\n",
    "print(gsearch1.grid_scores_)\n",
    "print('best params')\n",
    "print(gsearch1.best_params_)\n",
    "print('best score')\n",
    "print(gsearch1.best_score_)\n",
    "joblib.dump(gsearch1, \"gsearch1.p\") "
   ]
  },
  {
   "cell_type": "code",
   "execution_count": null,
   "metadata": {},
   "outputs": [],
   "source": [
    "joblib.dump(xtrain_df, \"xtrain_fut.p\")\n",
    "joblib.dump(trainit.ta_y_train, \"ytrain_fut.p\")\n",
    "joblib.dump(xtest_df, \"xtest_fut.p\")\n",
    "joblib.dump(trainit.ta_y_test, \"ytest_fut.p\")"
   ]
  },
  {
   "cell_type": "code",
   "execution_count": null,
   "metadata": {},
   "outputs": [],
   "source": [
    "trainit.dxtrain.save_binary(\"dxtrain.p\")\n",
    "trainit.dytrain.save_binary(\"dytrain.p\")\n",
    "trainit.dxtest.save_binary(\"dxtest.p\")\n",
    "trainit.dytest.save_binary(\"dytest.p\")"
   ]
  },
  {
   "cell_type": "code",
   "execution_count": null,
   "metadata": {},
   "outputs": [],
   "source": [
    "xtrain=joblib.load('xtrain_fut.p')\n",
    "ytrain=joblib.load('ytrain_fut.p')\n",
    "xtest=joblib.load('xtest_fut.p')\n",
    "ytest=joblib.load('ytest_fut.p')\n",
    "eval_set = [(xtrain, ytrain), (xtest,ytest)]"
   ]
  },
  {
   "cell_type": "code",
   "execution_count": null,
   "metadata": {},
   "outputs": [],
   "source": [
    "xtrain_df = pd.DataFrame(xtrain).drop(columns=[4619]).to_numpy()\n",
    "xtest_df = pd.DataFrame(xtest).drop(columns=[4619]).to_numpy()"
   ]
  },
  {
   "cell_type": "code",
   "execution_count": null,
   "metadata": {},
   "outputs": [],
   "source": [
    "xtrain[100]"
   ]
  },
  {
   "cell_type": "code",
   "execution_count": null,
   "metadata": {},
   "outputs": [],
   "source": [
    "ytrain[5000]"
   ]
  },
  {
   "cell_type": "code",
   "execution_count": null,
   "metadata": {},
   "outputs": [],
   "source": [
    "xtest[940]"
   ]
  },
  {
   "cell_type": "code",
   "execution_count": null,
   "metadata": {},
   "outputs": [],
   "source": [
    "ytest[940]"
   ]
  },
  {
   "cell_type": "code",
   "execution_count": null,
   "metadata": {},
   "outputs": [],
   "source": [
    "ytrain_o=ytrain\n",
    "ytest_o=ytest"
   ]
  },
  {
   "cell_type": "code",
   "execution_count": null,
   "metadata": {},
   "outputs": [],
   "source": [
    "xx={'name':'USDINR20OCTFUT',\n",
    "    'insttkn':690691,\n",
    "    'nbatch':1,\n",
    "    'nepochs':5,\n",
    "    'trainlen':'all',\n",
    "    'kite':kite}\n",
    "trainit= One_trian_stk_class(xx['name'], xx['insttkn'],xx['nbatch'],xx['nepochs'],\n",
    "                             xx['trainlen'],xx['kite'])\n",
    "trainit.load()\n",
    "trainit.ta_xtrain_def()\n",
    "\n",
    "xtrain=trainit.ta_x_train.reshape([trainit.ta_x_train.shape[0],\n",
    "                                   trainit.ta_x_train.shape[1]*trainit.ta_x_train.shape[2]])\n",
    "\n",
    "xtest=trainit.ta_x_test.reshape([trainit.ta_x_test.shape[0],\n",
    "                                  trainit.ta_x_train.shape[1]*trainit.ta_x_train.shape[2]])\n",
    "\n",
    "ytrain = trainit.ta_y_train\n",
    "\n",
    "eval_set = [(xtrain, trainit.ta_y_train), (xtest, trainit.ta_y_test)]"
   ]
  },
  {
   "cell_type": "code",
   "execution_count": null,
   "metadata": {},
   "outputs": [],
   "source": [
    "percent=0.60\n",
    "\n",
    "xtrain=xtrain[-math.ceil((xtrain.shape[0])*percent):]\n",
    "ytrain=ytrain[-math.ceil((ytrain.shape[0])*percent):]\n",
    "eval_set = [(xtrain, ytrain), (xtest,ytest)]\n",
    "print('xtrain = '+str(xtrain.shape))            \n",
    "print('ytrain = '+str(ytrain.shape))\n",
    "\n",
    "print('xtest = '+str(xtest.shape))      \n",
    "print('ytest = '+str(ytest.shape))"
   ]
  },
  {
   "cell_type": "code",
   "execution_count": null,
   "metadata": {},
   "outputs": [],
   "source": [
    "ytrain = ytrain[:,:1]\n",
    "ytest = ytest[:,:1]\n",
    "print(ytrain.shape)\n",
    "print(ytest.shape)"
   ]
  },
  {
   "cell_type": "code",
   "execution_count": null,
   "metadata": {
    "scrolled": true
   },
   "outputs": [],
   "source": [
    "nr=xgboost.XGBRegressor(\n",
    "                 colsample_bytree=0.6,\n",
    "                 gamma=0.5,\n",
    "                 learning_rate=0.07,\n",
    "                 max_depth=25,\n",
    "                 min_child_weight=1.2,\n",
    "                 n_estimators=1000,\n",
    "                 gpu_id=0,\n",
    "                 tree_method='gpu_hist',\n",
    "                 objective='reg:squarederror',\n",
    "                 reg_alpha=0.75,\n",
    "                 reg_lambda=0.45,\n",
    "                 subsample=0.6,\n",
    "                 seed=70,\n",
    "                 verbosity=1,\n",
    "                 predictor = 'gpu_predictor',\n",
    "                 #n_jobs=-1,\n",
    ")\n",
    "\n",
    "eval_set=[(xtrain,ytrain),(xtest,ytest)]\n",
    "\n",
    "nr.fit(xtrain,ytrain,\n",
    "        eval_metric=[\"error\", \"logloss\"],\n",
    "            eval_set=eval_set,\n",
    "            verbose=True\n",
    "      )\n",
    "joblib.dump(nr, \"xgbregressor18.p\")"
   ]
  },
  {
   "cell_type": "code",
   "execution_count": null,
   "metadata": {},
   "outputs": [],
   "source": [
    "multioutputregressor = MultiOutputRegressor(xgboost.XGBRegressor(\n",
    "                colsample_bytree=0.4,\n",
    "                 gamma=0.5,\n",
    "                 learning_rate=0.1,\n",
    "                 max_depth=10,\n",
    "                 min_child_weight=1.3,\n",
    "                 n_estimators=100,\n",
    "                 gpu_id=0,\n",
    "                 tree_method='gpu_hist',\n",
    "                 objective='reg:squarederror',\n",
    "                 reg_alpha=0.75,\n",
    "                 reg_lambda=0.45,\n",
    "                 subsample=0.6,\n",
    "                 seed=15,\n",
    "                 verbosity=1,\n",
    "                 n_jobs=-1))\n",
    "\n",
    "# multioutputregressor = MultiOutputRegressor(xgboost.XGBRegressor(objective='reg:squaredlogerror',\n",
    "#                                                                  verbosity=1,\n",
    "#                                                                  gpu_id=0,\n",
    "#                                                                  n_jobs=-1\n",
    "#                                                                  ),\n",
    "#                                                                  n_jobs=-1\n",
    "#                                                                  )\n",
    "\n",
    "print(multioutputregressor.get_params())"
   ]
  },
  {
   "cell_type": "code",
   "execution_count": null,
   "metadata": {
    "scrolled": true
   },
   "outputs": [],
   "source": [
    "res1=multioutputregressor.fit(xtrain,ytrain,\n",
    "                          eval_metric=[\"error\",\"logloss\"], \n",
    "                          eval_set=eval_set,\n",
    "                          verbose=True)\n",
    "\n",
    "joblib.dump(multioutputregressor, \"multioutputregressor11.p\")"
   ]
  },
  {
   "cell_type": "code",
   "execution_count": null,
   "metadata": {},
   "outputs": [],
   "source": [
    "multioutputregressor.score(xtest, ytest)"
   ]
  },
  {
   "cell_type": "code",
   "execution_count": null,
   "metadata": {},
   "outputs": [],
   "source": [
    "corrMatrix = trainit.talibdf.corr()\n",
    "figure(num=None, figsize=(8, 8), dpi=150)\n",
    "sns.heatmap(corrMatrix)\n",
    "plt.show()"
   ]
  },
  {
   "cell_type": "code",
   "execution_count": null,
   "metadata": {},
   "outputs": [],
   "source": [
    "pred0=nr.predict(xtest[0].reshape(1,-1))\n",
    "act0=ytest[0][0]\n",
    "diff=np.array(pred0[0])-np.array(act0)\n",
    "print(diff)"
   ]
  },
  {
   "cell_type": "code",
   "execution_count": null,
   "metadata": {},
   "outputs": [],
   "source": [
    "pred1=nr.predict(xtest[1].reshape(1,-1))\n",
    "act1=ytest[1]\n",
    "diff1=np.array(pred1[0])-np.array(act1)\n",
    "print(diff1)"
   ]
  },
  {
   "cell_type": "code",
   "execution_count": null,
   "metadata": {},
   "outputs": [],
   "source": [
    "pred2=nr.predict(xtest[2].reshape(1,-1))\n",
    "act2=ytest[2]\n",
    "diff2=np.array(pred2[0])-np.array(act2)\n",
    "print(diff2)"
   ]
  },
  {
   "cell_type": "code",
   "execution_count": null,
   "metadata": {},
   "outputs": [],
   "source": [
    "pred0=multioutputregressor.predict(trainit.ta_x_test[0].reshape(1,60*trainit.ta_x_test.shape[2]))\n",
    "act0=trainit.ta_y_test[0]\n",
    "diff=np.array(pred0[0])-np.array(act0)\n",
    "difflist=diff.tolist()\n",
    "table0=pd.DataFrame({'true':act0,'pred':pred0[0]})\n",
    "table0.plot(figsize=(13, 6))"
   ]
  },
  {
   "cell_type": "code",
   "execution_count": null,
   "metadata": {},
   "outputs": [],
   "source": [
    "pred1=multioutputregressor.predict(trainit.ta_x_test[21].reshape(1,60*trainit.ta_x_test.shape[2]))\n",
    "act1=trainit.ta_y_test[21]\n",
    "diff=np.array(pred1[0])-np.array(act1)\n",
    "difflist1=diff.tolist()\n",
    "table1=pd.DataFrame({'true':act1,'pred':pred1[0]})\n",
    "table1.plot(figsize=(13, 6))"
   ]
  },
  {
   "cell_type": "code",
   "execution_count": null,
   "metadata": {},
   "outputs": [],
   "source": [
    "pred2=multioutputregressor.predict(trainit.ta_x_test[25].reshape(1,60*trainit.ta_x_test.shape[2]))\n",
    "act2=trainit.ta_y_test[25]\n",
    "diff=np.array(pred2[0])-np.array(act2)\n",
    "difflist2=diff.tolist()\n",
    "table2=pd.DataFrame({'true':act2,'pred':pred2[0]})\n",
    "table2.plot(figsize=(13, 6))"
   ]
  },
  {
   "cell_type": "code",
   "execution_count": null,
   "metadata": {},
   "outputs": [],
   "source": [
    "# newdict={'table1_pred':table0['diff'].values.tolist(),'table2_pred':table1['diff'].values.tolist()} \n",
    "# hjdf=pd.DataFrame(newdict)\n",
    "# hjdf.plot(figsize=(13, 6))"
   ]
  },
  {
   "cell_type": "code",
   "execution_count": null,
   "metadata": {},
   "outputs": [],
   "source": [
    "sample_no=0\n",
    "table2=pd.DataFrame({'true':trainit.ta_y_test[sample_no],'pred':multioutputregressor.predict(trainit.ta_x_test[sample_no].reshape(1,60*trainit.ta_x_test.shape[2]))[0]})\n",
    "table2.plot(figsize=(13, 6))"
   ]
  },
  {
   "cell_type": "code",
   "execution_count": null,
   "metadata": {},
   "outputs": [],
   "source": [
    "@interact\n",
    "def shwo_gra(x=189):\n",
    "    sample_no=x\n",
    "#     sample_no=int(y)\n",
    "    table2=pd.DataFrame({'true':trainit.ta_y_test[sample_no],'pred':multioutputregressor.predict(trainit.ta_x_test[sample_no].reshape(1,60*trainit.ta_x_test.shape[2]))[0]})\n",
    "    print(table2.head())\n",
    "    actar=np.array(trainit.ta_y_test[sample_no])\n",
    "    predar=np.array(multioutputregressor.predict(trainit.ta_x_test[sample_no].reshape(1,60*trainit.ta_x_test.shape[2]))[0])\n",
    "    diffdf=pd.DataFrame(actar-predar)\n",
    "    diffdf.plot()\n",
    "    diffa=(np.mean(np.abs(actar-predar)))\n",
    "    print('acc : '+ str(diffa))\n",
    "    return table2.plot(figsize=(10, 6))\n",
    "#     return table2\n",
    "#     return trainit.talibdf.loc[trainit.talibdf[column] = x]"
   ]
  },
  {
   "cell_type": "code",
   "execution_count": null,
   "metadata": {},
   "outputs": [],
   "source": [
    "import pandas as pd\n",
    "from ta import add_all_ta_features\n",
    "from ta.utils import dropna\n",
    "\n",
    "df =trainit.df\n",
    "\n",
    "df = add_all_ta_features(\n",
    "    df, open=\"open\", high=\"high\", low=\"low\", close=\"close\", volume=\"volume\")"
   ]
  }
 ],
 "metadata": {
  "kernelspec": {
   "display_name": "Python 3",
   "language": "python",
   "name": "python3"
  },
  "language_info": {
   "codemirror_mode": {
    "name": "ipython",
    "version": 3
   },
   "file_extension": ".py",
   "mimetype": "text/x-python",
   "name": "python",
   "nbconvert_exporter": "python",
   "pygments_lexer": "ipython3",
   "version": "3.8.2"
  }
 },
 "nbformat": 4,
 "nbformat_minor": 4
}
