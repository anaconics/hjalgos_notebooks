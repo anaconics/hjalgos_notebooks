{
 "cells": [
  {
   "cell_type": "code",
   "execution_count": 1,
   "id": "encouraging-crack",
   "metadata": {
    "ExecuteTime": {
     "end_time": "2021-04-13T03:39:28.876896Z",
     "start_time": "2021-04-13T03:39:04.939176Z"
    },
    "scrolled": true
   },
   "outputs": [
    {
     "name": "stdout",
     "output_type": "stream",
     "text": [
      "Logging in with account : haj\n",
      "Trying to login...\n",
      "access token : W6w3lB6ohbHNShD0mscM0In5bf6uQM4A\n",
      "request token : Rqd9gNr7zg570jOE5fnwMFoBb5kNnBD5\n"
     ]
    }
   ],
   "source": [
    "######## # AUTO LOGIN-1 #########\n",
    "account_name = 'haj'\n",
    "import pandas as pd\n",
    "import numpy as np\n",
    "login_str = 'login_'+account_name\n",
    "import threading\n",
    "import os.path\n",
    "import importlib\n",
    "login_str = 'login_'+account_name\n",
    "module = importlib.import_module(login_str, package=None)\n",
    "print('Logging in with account : '+str(account_name))\n",
    "module.retry_autologin()"
   ]
  },
  {
   "cell_type": "code",
   "execution_count": 2,
   "id": "swedish-cleveland",
   "metadata": {
    "ExecuteTime": {
     "end_time": "2021-04-13T03:39:36.513843Z",
     "start_time": "2021-04-13T03:39:36.493737Z"
    }
   },
   "outputs": [],
   "source": [
    "inst_tokens = [299011,321283,412675,288003,320515,411907,297731,321027,412419,273923,299779,272643]\n",
    "\n",
    "n50 = pd.read_csv('n50.csv')\n",
    "n50_ktns= n50['instrument_token']\n",
    "n50_tkn_list = n50_ktns.to_list()\n",
    "\n",
    "final_tkn_list = n50_tkn_list + inst_tokens"
   ]
  },
  {
   "cell_type": "code",
   "execution_count": 3,
   "id": "monetary-intent",
   "metadata": {
    "ExecuteTime": {
     "end_time": "2021-04-13T03:39:39.223471Z",
     "start_time": "2021-04-13T03:39:39.217414Z"
    }
   },
   "outputs": [],
   "source": [
    "def file_saver(ipdata):\n",
    "    file_checker_num = 0\n",
    "    file_name = ''\n",
    "    for onn in range(10000):\n",
    "        file_name = f'./data_records/recorded_ltp_data_{onn}.xlsx'\n",
    "        if(not os.path.isfile(file_name)):\n",
    "            break  \n",
    "            \n",
    "    savedf = pd.DataFrame(ipdata)\n",
    "    savedf.to_excel(file_name, index=False)\n",
    "    print(file_name + ' saved Successfully.')\n",
    "    \n",
    "buy_qty_lst = []\n",
    "sell_qty_lst = []\n",
    "percent_lst = []\n",
    "percent_diff_lst = []\n",
    "log_data_lst = []\n",
    "tick_list = []"
   ]
  },
  {
   "cell_type": "code",
   "execution_count": 4,
   "id": "billion-philip",
   "metadata": {
    "ExecuteTime": {
     "end_time": "2021-04-13T03:43:06.166991Z",
     "start_time": "2021-04-13T03:42:54.620036Z"
    },
    "scrolled": true
   },
   "outputs": [
    {
     "name": "stderr",
     "output_type": "stream",
     "text": [
      "ERROR:kiteconnect.ticker:Connection error: 1006 - connection was closed uncleanly (peer dropped the TCP connection without previous WebSocket closing handshake)\n",
      "ERROR:root:closed connection on error: 1006 connection was closed uncleanly (peer dropped the TCP connection without previous WebSocket closing handshake)\n",
      "ERROR:kiteconnect.ticker:Connection closed: 1006 - connection was closed uncleanly (peer dropped the TCP connection without previous WebSocket closing handshake)\n",
      "Unhandled Error\n",
      "Traceback (most recent call last):\n",
      "  File \"/home/hemang/.local/lib/python3.9/site-packages/twisted/internet/defer.py\", line 330, in addCallbacks\n",
      "    self._runCallbacks()\n",
      "  File \"/home/hemang/.local/lib/python3.9/site-packages/twisted/internet/defer.py\", line 662, in _runCallbacks\n",
      "    current.result = callback(current.result, *args, **kw)\n",
      "  File \"/home/hemang/.local/lib/python3.9/site-packages/twisted/internet/base.py\", line 515, in _continueFiring\n",
      "    callable(*args, **kwargs)\n",
      "  File \"/home/hemang/.local/lib/python3.9/site-packages/twisted/internet/base.py\", line 765, in disconnectAll\n",
      "    log.callWithLogger(\n",
      "--- <exception caught here> ---\n",
      "  File \"/home/hemang/.local/lib/python3.9/site-packages/twisted/python/log.py\", line 101, in callWithLogger\n",
      "    return callWithContext({\"system\": lp}, func, *args, **kw)\n",
      "  File \"/home/hemang/.local/lib/python3.9/site-packages/twisted/python/log.py\", line 85, in callWithContext\n",
      "    return context.call({ILogContext: newCtx}, func, *args, **kw)\n",
      "  File \"/home/hemang/.local/lib/python3.9/site-packages/twisted/python/context.py\", line 118, in callWithContext\n",
      "    return self.currentContext().callWithContext(ctx, func, *args, **kw)\n",
      "  File \"/home/hemang/.local/lib/python3.9/site-packages/twisted/python/context.py\", line 83, in callWithContext\n",
      "    return func(*args, **kw)\n",
      "  File \"/home/hemang/.local/lib/python3.9/site-packages/twisted/internet/tcp.py\", line 506, in connectionLost\n",
      "    self._commonConnection.connectionLost(self, reason)\n",
      "  File \"/home/hemang/.local/lib/python3.9/site-packages/twisted/internet/tcp.py\", line 324, in connectionLost\n",
      "    protocol.connectionLost(reason)\n",
      "  File \"/home/hemang/.local/lib/python3.9/site-packages/twisted/protocols/tls.py\", line 394, in connectionLost\n",
      "    ProtocolWrapper.connectionLost(self, reason)\n",
      "  File \"/home/hemang/.local/lib/python3.9/site-packages/twisted/protocols/policies.py\", line 111, in connectionLost\n",
      "    self.wrappedProtocol.connectionLost(reason)\n",
      "  File \"/home/hemang/.local/lib/python3.9/site-packages/autobahn/twisted/websocket.py\", line 287, in connectionLost\n",
      "    self._connectionLost(reason)\n",
      "  File \"/home/hemang/.local/lib/python3.9/site-packages/autobahn/websocket/protocol.py\", line 3414, in _connectionLost\n",
      "    WebSocketProtocol._connectionLost(self, reason)\n",
      "  File \"/home/hemang/.local/lib/python3.9/site-packages/autobahn/websocket/protocol.py\", line 1127, in _connectionLost\n",
      "    self._onClose(self.wasClean, WebSocketProtocol.CLOSE_STATUS_CODE_ABNORMAL_CLOSE, \"connection was closed uncleanly (%s)\" % self.wasNotCleanReason)\n",
      "  File \"/home/hemang/.local/lib/python3.9/site-packages/autobahn/twisted/websocket.py\", line 330, in _onClose\n",
      "    self.onClose(wasClean, code, reason)\n",
      "  File \"/home/hemang/.local/lib/python3.9/site-packages/kiteconnect/ticker.py\", line 81, in onClose\n",
      "    self.factory.on_close(self, code, reason)\n",
      "  File \"/home/hemang/.local/lib/python3.9/site-packages/kiteconnect/ticker.py\", line 654, in _on_close\n",
      "    self.on_close(self, code, reason)\n",
      "  File \"<ipython-input-4-ab1ddf2b8cab>\", line 24, in on_close\n",
      "    ws.stop()\n",
      "  File \"/home/hemang/.local/lib/python3.9/site-packages/kiteconnect/ticker.py\", line 555, in stop\n",
      "    reactor.stop()\n",
      "  File \"/home/hemang/.local/lib/python3.9/site-packages/twisted/internet/base.py\", line 711, in stop\n",
      "    raise error.ReactorNotRunning(\"Can't stop reactor that isn't running.\")\n",
      "twisted.internet.error.ReactorNotRunning: Can't stop reactor that isn't running.\n",
      "\n"
     ]
    }
   ],
   "source": [
    "import logging\n",
    "from kiteconnect import KiteTicker\n",
    "logging.basicConfig(level=logging.DEBUG)\n",
    "\n",
    "counter = 0\n",
    "\n",
    "def on_ticks(ws, ticks):\n",
    "    global counter,tick_list\n",
    "    \n",
    "    for onetick in range(len(ticks)):\n",
    "        \n",
    "        tick_list.append(ticks[onetick])\n",
    "        if(counter%5000==4999):\n",
    "            file_saver(tick_list)\n",
    "            tick_list=[]\n",
    "        counter = counter + 1\n",
    "\n",
    "def on_connect(ws, response):\n",
    "    global inst_token\n",
    "    ws.subscribe(final_tkn_list)\n",
    "    ws.set_mode(ws.MODE_FULL, final_tkn_list)\n",
    "\n",
    "def on_close(ws, code, reason):\n",
    "    ws.stop()\n",
    "\n",
    "def on_error(ws, code, reason):\n",
    "    logging.error(\"closed connection on error: {} {}\".format(code, reason))\n",
    "\n",
    "def on_noreconnect(ws):\n",
    "    logging.error(\"Reconnecting the websocket failed\")\n",
    "\n",
    "def on_reconnect(ws, attempt_count):\n",
    "    logging.debug(\"Reconnecting the websocket: {}\".format(attempt_count))\n",
    "    \n",
    "def on_order_update(ws, data):\n",
    "    print('oder update')\n",
    "\n",
    "module.kws.on_error = on_error\n",
    "module.kws.on_noreconnect = on_noreconnect\n",
    "module.kws.on_reconnect = on_reconnect\n",
    "module.kws.on_order_update = on_order_update\n",
    "module.kws.on_ticks = on_ticks\n",
    "module.kws.on_connect = on_connect\n",
    "module.kws.on_close = on_close\n",
    "\n",
    "module.kws.connect()"
   ]
  },
  {
   "cell_type": "code",
   "execution_count": null,
   "id": "05ae9adf",
   "metadata": {},
   "outputs": [],
   "source": []
  }
 ],
 "metadata": {
  "hide_input": false,
  "kernelspec": {
   "display_name": "Python 3",
   "language": "python",
   "name": "python3"
  },
  "language_info": {
   "codemirror_mode": {
    "name": "ipython",
    "version": 3
   },
   "file_extension": ".py",
   "mimetype": "text/x-python",
   "name": "python",
   "nbconvert_exporter": "python",
   "pygments_lexer": "ipython3",
   "version": "3.9.4"
  },
  "varInspector": {
   "cols": {
    "lenName": 16,
    "lenType": 16,
    "lenVar": 40
   },
   "kernels_config": {
    "python": {
     "delete_cmd_postfix": "",
     "delete_cmd_prefix": "del ",
     "library": "var_list.py",
     "varRefreshCmd": "print(var_dic_list())"
    },
    "r": {
     "delete_cmd_postfix": ") ",
     "delete_cmd_prefix": "rm(",
     "library": "var_list.r",
     "varRefreshCmd": "cat(var_dic_list()) "
    }
   },
   "types_to_exclude": [
    "module",
    "function",
    "builtin_function_or_method",
    "instance",
    "_Feature"
   ],
   "window_display": false
  }
 },
 "nbformat": 4,
 "nbformat_minor": 5
}
