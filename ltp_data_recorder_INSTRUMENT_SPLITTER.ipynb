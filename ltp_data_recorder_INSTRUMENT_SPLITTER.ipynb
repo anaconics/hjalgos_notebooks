{
 "cells": [
  {
   "cell_type": "code",
   "execution_count": 1,
   "id": "severe-marking",
   "metadata": {
    "ExecuteTime": {
     "end_time": "2021-04-13T11:33:39.193035Z",
     "start_time": "2021-04-13T11:33:38.833061Z"
    }
   },
   "outputs": [],
   "source": [
    "import os.path\n",
    "import os\n",
    "import pandas as pd\n",
    "import tqdm"
   ]
  },
  {
   "cell_type": "code",
   "execution_count": 2,
   "id": "ordered-banana",
   "metadata": {
    "ExecuteTime": {
     "end_time": "2021-04-13T11:45:19.974080Z",
     "start_time": "2021-04-13T11:33:39.196347Z"
    }
   },
   "outputs": [
    {
     "name": "stderr",
     "output_type": "stream",
     "text": [
      "100%|██████████| 500/500 [10:53<00:00,  1.31s/it]\n"
     ]
    }
   ],
   "source": [
    "pd_df_list = []\n",
    "for i in tqdm.tqdm(range(500)):\n",
    "    file_name = f'./data_records/recorded_ltp_data_{i}.xlsx'\n",
    "    if(os.path.isfile(file_name)):\n",
    "        pd_df_list.append(pd.read_excel(file_name))\n",
    "        \n",
    "len(pd_df_list)\n",
    "\n",
    "concat_res = pd.concat(pd_df_list)\n",
    "concat_res.describe()\n",
    "\n",
    "concat_res_drop_duplicate = concat_res.drop_duplicates()\n",
    "concat_res_drop_duplicate.describe()\n",
    "\n",
    "concat_res_drop_duplicate.to_csv('./data_records/all_data.csv', index=False)"
   ]
  },
  {
   "cell_type": "code",
   "execution_count": 3,
   "id": "varied-drill",
   "metadata": {
    "ExecuteTime": {
     "end_time": "2021-04-13T11:45:20.008555Z",
     "start_time": "2021-04-13T11:45:19.980983Z"
    }
   },
   "outputs": [],
   "source": [
    "tokens_df = concat_res_drop_duplicate['instrument_token']\n",
    "tokens_df = tokens_df.drop_duplicates()\n",
    "tokens_list = tokens_df.to_list()\n",
    "tokens_list\n",
    "\n",
    "tokens_list_df = pd.DataFrame(tokens_list)\n",
    "tokens_list_df.to_csv('./data_records/tokens_list_df.csv', index=False)"
   ]
  },
  {
   "cell_type": "code",
   "execution_count": 4,
   "id": "confident-brush",
   "metadata": {
    "ExecuteTime": {
     "end_time": "2021-04-13T11:56:29.113223Z",
     "start_time": "2021-04-13T11:45:20.012861Z"
    }
   },
   "outputs": [
    {
     "name": "stderr",
     "output_type": "stream",
     "text": [
      "100%|██████████| 62/62 [11:09<00:00, 10.79s/it]\n"
     ]
    }
   ],
   "source": [
    "for one_tkn in tqdm.tqdm(tokens_list):\n",
    "    this_tkn_df = concat_res_drop_duplicate.loc[concat_res_drop_duplicate['instrument_token'] == one_tkn]\n",
    "    check_inst_path = f'data_records/instwise/{one_tkn}.xlsx'\n",
    "    if(os.path.isfile(check_inst_path)):\n",
    "        continue\n",
    "    else:\n",
    "        this_tkn_df.to_excel(check_inst_path, index=False)"
   ]
  },
  {
   "cell_type": "code",
   "execution_count": null,
   "id": "reserved-rapid",
   "metadata": {},
   "outputs": [],
   "source": []
  },
  {
   "cell_type": "code",
   "execution_count": null,
   "id": "beginning-scientist",
   "metadata": {},
   "outputs": [],
   "source": []
  }
 ],
 "metadata": {
  "hide_input": false,
  "kernelspec": {
   "display_name": "Python 3",
   "language": "python",
   "name": "python3"
  },
  "language_info": {
   "codemirror_mode": {
    "name": "ipython",
    "version": 3
   },
   "file_extension": ".py",
   "mimetype": "text/x-python",
   "name": "python",
   "nbconvert_exporter": "python",
   "pygments_lexer": "ipython3",
   "version": "3.9.4"
  },
  "varInspector": {
   "cols": {
    "lenName": 16,
    "lenType": 16,
    "lenVar": 40
   },
   "kernels_config": {
    "python": {
     "delete_cmd_postfix": "",
     "delete_cmd_prefix": "del ",
     "library": "var_list.py",
     "varRefreshCmd": "print(var_dic_list())"
    },
    "r": {
     "delete_cmd_postfix": ") ",
     "delete_cmd_prefix": "rm(",
     "library": "var_list.r",
     "varRefreshCmd": "cat(var_dic_list()) "
    }
   },
   "types_to_exclude": [
    "module",
    "function",
    "builtin_function_or_method",
    "instance",
    "_Feature"
   ],
   "window_display": false
  }
 },
 "nbformat": 4,
 "nbformat_minor": 5
}
