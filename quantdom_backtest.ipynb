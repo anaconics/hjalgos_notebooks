{
 "cells": [
  {
   "cell_type": "code",
   "execution_count": 3,
   "metadata": {
    "ExecuteTime": {
     "end_time": "2020-11-10T09:59:59.307810Z",
     "start_time": "2020-11-10T09:59:59.278886Z"
    }
   },
   "outputs": [
    {
     "ename": "RuntimeError",
     "evalue": "the sip module implements API v12.0 to v12.7 but the PyQt5.QtCore module requires API v12.8",
     "output_type": "error",
     "traceback": [
      "\u001b[0;31m---------------------------------------------------------------------------\u001b[0m",
      "\u001b[0;31mRuntimeError\u001b[0m                              Traceback (most recent call last)",
      "\u001b[0;32m<ipython-input-3-25b71634d56b>\u001b[0m in \u001b[0;36m<module>\u001b[0;34m\u001b[0m\n\u001b[0;32m----> 1\u001b[0;31m \u001b[0;32mfrom\u001b[0m \u001b[0mquantdom\u001b[0m \u001b[0;32mimport\u001b[0m \u001b[0mAbstractStrategy\u001b[0m\u001b[0;34m,\u001b[0m \u001b[0mOrder\u001b[0m\u001b[0;34m,\u001b[0m \u001b[0mPortfolio\u001b[0m\u001b[0;34m\u001b[0m\u001b[0;34m\u001b[0m\u001b[0m\n\u001b[0m\u001b[1;32m      2\u001b[0m \u001b[0;34m\u001b[0m\u001b[0m\n\u001b[1;32m      3\u001b[0m \u001b[0;32mclass\u001b[0m \u001b[0mThreeBarStrategy\u001b[0m\u001b[0;34m(\u001b[0m\u001b[0mAbstractStrategy\u001b[0m\u001b[0;34m)\u001b[0m\u001b[0;34m:\u001b[0m\u001b[0;34m\u001b[0m\u001b[0;34m\u001b[0m\u001b[0m\n\u001b[1;32m      4\u001b[0m \u001b[0;34m\u001b[0m\u001b[0m\n\u001b[1;32m      5\u001b[0m     \u001b[0;32mdef\u001b[0m \u001b[0minit\u001b[0m\u001b[0;34m(\u001b[0m\u001b[0mself\u001b[0m\u001b[0;34m,\u001b[0m \u001b[0mhigh_bars\u001b[0m\u001b[0;34m=\u001b[0m\u001b[0;36m3\u001b[0m\u001b[0;34m,\u001b[0m \u001b[0mlow_bars\u001b[0m\u001b[0;34m=\u001b[0m\u001b[0;36m3\u001b[0m\u001b[0;34m)\u001b[0m\u001b[0;34m:\u001b[0m\u001b[0;34m\u001b[0m\u001b[0;34m\u001b[0m\u001b[0m\n",
      "\u001b[0;32m~/.local/lib/python3.8/site-packages/quantdom/__init__.py\u001b[0m in \u001b[0;36m<module>\u001b[0;34m\u001b[0m\n\u001b[1;32m     18\u001b[0m \u001b[0m__version__\u001b[0m \u001b[0;34m=\u001b[0m \u001b[0;34m'0.1.1'\u001b[0m\u001b[0;34m\u001b[0m\u001b[0;34m\u001b[0m\u001b[0m\n\u001b[1;32m     19\u001b[0m \u001b[0;34m\u001b[0m\u001b[0m\n\u001b[0;32m---> 20\u001b[0;31m \u001b[0;32mfrom\u001b[0m \u001b[0;34m.\u001b[0m\u001b[0mui\u001b[0m \u001b[0;32mimport\u001b[0m \u001b[0;34m*\u001b[0m  \u001b[0;31m# noqa\u001b[0m\u001b[0;34m\u001b[0m\u001b[0;34m\u001b[0m\u001b[0m\n\u001b[0m\u001b[1;32m     21\u001b[0m \u001b[0;32mfrom\u001b[0m \u001b[0;34m.\u001b[0m\u001b[0mlib\u001b[0m \u001b[0;32mimport\u001b[0m \u001b[0;34m*\u001b[0m  \u001b[0;31m# noqa\u001b[0m\u001b[0;34m\u001b[0m\u001b[0;34m\u001b[0m\u001b[0m\n\u001b[1;32m     22\u001b[0m \u001b[0;34m\u001b[0m\u001b[0m\n",
      "\u001b[0;32m~/.local/lib/python3.8/site-packages/quantdom/ui.py\u001b[0m in \u001b[0;36m<module>\u001b[0;34m\u001b[0m\n\u001b[1;32m      6\u001b[0m \u001b[0;32mfrom\u001b[0m \u001b[0mdatetime\u001b[0m \u001b[0;32mimport\u001b[0m \u001b[0mdatetime\u001b[0m\u001b[0;34m\u001b[0m\u001b[0;34m\u001b[0m\u001b[0m\n\u001b[1;32m      7\u001b[0m \u001b[0;34m\u001b[0m\u001b[0m\n\u001b[0;32m----> 8\u001b[0;31m \u001b[0;32mfrom\u001b[0m \u001b[0mPyQt5\u001b[0m \u001b[0;32mimport\u001b[0m \u001b[0mQtCore\u001b[0m\u001b[0;34m,\u001b[0m \u001b[0mQtGui\u001b[0m\u001b[0;34m\u001b[0m\u001b[0;34m\u001b[0m\u001b[0m\n\u001b[0m\u001b[1;32m      9\u001b[0m \u001b[0;34m\u001b[0m\u001b[0m\n\u001b[1;32m     10\u001b[0m from .lib import (\n",
      "\u001b[0;31mRuntimeError\u001b[0m: the sip module implements API v12.0 to v12.7 but the PyQt5.QtCore module requires API v12.8"
     ]
    }
   ],
   "source": [
    "from quantdom import AbstractStrategy, Order, Portfolio\n",
    "\n",
    "class ThreeBarStrategy(AbstractStrategy):\n",
    "\n",
    "    def init(self, high_bars=3, low_bars=3):\n",
    "        Portfolio.initial_balance = 100000  # default value\n",
    "        self.seq_low_bars = 0\n",
    "        self.seq_high_bars = 0\n",
    "        self.signal = None\n",
    "        self.last_position = None\n",
    "        self.volume = 100  # shares\n",
    "        self.high_bars = high_bars\n",
    "        self.low_bars = low_bars\n",
    "\n",
    "    def handle(self, quote):\n",
    "        if self.signal:\n",
    "            props = {\n",
    "                'symbol': self.symbol,  # current selected symbol\n",
    "                'otype': self.signal,\n",
    "                'price': quote.open,\n",
    "                'volume': self.volume,\n",
    "                'time': quote.time,}\n",
    "            if not self.last_position:\n",
    "                self.last_position = Order.open(**props)\n",
    "            elif self.last_position.type != self.signal:\n",
    "                Order.close(self.last_position, price=quote.open, time=quote.time)\n",
    "                self.last_position = Order.open(**props)\n",
    "            self.signal = False\n",
    "            self.seq_high_bars = self.seq_low_bars = 0\n",
    "\n",
    "        if quote.close > quote.open:\n",
    "            self.seq_high_bars += 1\n",
    "            self.seq_low_bars = 0\n",
    "        else:\n",
    "            self.seq_high_bars = 0\n",
    "            self.seq_low_bars += 1\n",
    "\n",
    "        if self.seq_high_bars == self.high_bars:\n",
    "            self.signal = Order.BUY\n",
    "        elif self.seq_low_bars == self.low_bars:\n",
    "            self.signal = Order.SELL"
   ]
  },
  {
   "cell_type": "code",
   "execution_count": null,
   "metadata": {},
   "outputs": [],
   "source": []
  }
 ],
 "metadata": {
  "kernelspec": {
   "display_name": "Python 3",
   "language": "python",
   "name": "python3"
  },
  "language_info": {
   "codemirror_mode": {
    "name": "ipython",
    "version": 3
   },
   "file_extension": ".py",
   "mimetype": "text/x-python",
   "name": "python",
   "nbconvert_exporter": "python",
   "pygments_lexer": "ipython3",
   "version": "3.8.6"
  }
 },
 "nbformat": 4,
 "nbformat_minor": 4
}
