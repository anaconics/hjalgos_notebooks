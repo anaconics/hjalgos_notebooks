{
 "cells": [
  {
   "cell_type": "code",
   "execution_count": null,
   "metadata": {
    "ExecuteTime": {
     "end_time": "2020-11-05T19:50:11.770063Z",
     "start_time": "2020-11-05T19:49:46.478538Z"
    }
   },
   "outputs": [],
   "source": [
    "#####################\n",
    "# AUTO LOGIN-1 of 1 #\n",
    "#####################\n",
    "\n",
    "import login\n",
    "from login import *\n",
    "import pandas as pd\n",
    "from datetime import timedelta\n",
    "import datetime\n",
    "pd.set_option('plotting.backend', 'pandas_bokeh')\n",
    "import pandas_bokeh\n",
    "pandas_bokeh.output_notebook()"
   ]
  },
  {
   "cell_type": "code",
   "execution_count": null,
   "metadata": {
    "ExecuteTime": {
     "end_time": "2020-11-05T19:54:21.375720Z",
     "start_time": "2020-11-05T19:53:34.969232Z"
    }
   },
   "outputs": [],
   "source": [
    "################################\n",
    "#      TECHNICAL  AANALYSIS    #\n",
    "################################\n",
    "\n",
    "\n",
    "old_lst=[]\n",
    "old_lst2=[]\n",
    "\n",
    "interval='minute'\n",
    "todaydt=datetime.date.today()\n",
    "hud_ago=todaydt-timedelta(days=59)\n",
    "to_date=datetime.date.isoformat(todaydt)\n",
    "from_date=datetime.date.isoformat(hud_ago)\n",
    "inst_token = 21218306\n",
    "inst_token2 = 16752386\n",
    "for i2 in range(3):\n",
    "    \n",
    "    new_lst = kite.historical_data(inst_token, from_date, to_date, interval,continuous=False)\n",
    "    old_lst = new_lst + old_lst\n",
    "    \n",
    "    new_lst2 = kite.historical_data(inst_token2, from_date, to_date, interval,continuous=False)\n",
    "    old_lst2 = new_lst2 + old_lst2\n",
    "    \n",
    "    todaydt=todaydt-timedelta(days=60)\n",
    "    hud_ago=hud_ago-timedelta(days=60)\n",
    "    to_date=datetime.date.isoformat(todaydt)\n",
    "    from_date=datetime.date.isoformat(hud_ago)\n",
    "#     print(len(old_lst))\n",
    "    \n",
    "mydf1 = pd.DataFrame(old_lst)\n",
    "mydf2 = pd.DataFrame(old_lst2)"
   ]
  },
  {
   "cell_type": "code",
   "execution_count": null,
   "metadata": {
    "ExecuteTime": {
     "end_time": "2020-11-05T19:57:03.388897Z",
     "start_time": "2020-11-05T19:57:03.316836Z"
    },
    "scrolled": true
   },
   "outputs": [],
   "source": [
    "mydf1[-2205:]"
   ]
  },
  {
   "cell_type": "code",
   "execution_count": null,
   "metadata": {
    "ExecuteTime": {
     "end_time": "2020-11-05T20:02:08.907704Z",
     "start_time": "2020-11-05T20:02:08.863341Z"
    }
   },
   "outputs": [],
   "source": [
    "mydf2"
   ]
  },
  {
   "cell_type": "code",
   "execution_count": null,
   "metadata": {
    "ExecuteTime": {
     "end_time": "2020-11-05T20:06:16.139758Z",
     "start_time": "2020-11-05T20:06:16.133983Z"
    }
   },
   "outputs": [],
   "source": [
    "day_ago = 3\n",
    "\n",
    "badbaki = 480*(day_ago - 1)\n",
    "oneday1 = mydf1['close'][(17978-375)-badbaki:17978-badbaki].to_numpy()\n",
    "# oneday1.shape\n",
    "# mydf1[107292-badbaki:107772-badbaki].groupby('close').count()"
   ]
  },
  {
   "cell_type": "code",
   "execution_count": null,
   "metadata": {},
   "outputs": [],
   "source": [
    "oneday2= mydf2['close'][(5777-375)-badbaki:5777-badbaki].to_numpy()\n",
    "# oneday2.shape\n",
    "# mydf2[98984-badbaki:99464-badbaki].groupby('close').count()"
   ]
  },
  {
   "cell_type": "code",
   "execution_count": null,
   "metadata": {
    "ExecuteTime": {
     "end_time": "2020-11-05T20:06:22.210997Z",
     "start_time": "2020-11-05T20:06:22.034984Z"
    },
    "scrolled": true
   },
   "outputs": [],
   "source": [
    "day_ago = 3\n",
    "badbaki = 480*(day_ago - 1)\n",
    "oneday1 = mydf1['close'][(2205-375)-badbaki:2205-badbaki].to_numpy()\n",
    "oneday2 = mydf2['close'][(-375)-badbaki:-badbaki].to_numpy()\n",
    "mydiff = oneday2 - oneday1\n",
    "pd.DataFrame(mydiff).plot.hist(bins=100, alpha=0.8)\n",
    "print( 'Most Repeated Difference : '+ str(day_ago) +' days ago : '  +  str(round(pd.DataFrame(mydiff).describe()[:][5:6].to_numpy()[0][0],4)))"
   ]
  },
  {
   "cell_type": "code",
   "execution_count": null,
   "metadata": {
    "ExecuteTime": {
     "end_time": "2020-11-05T20:05:26.265632Z",
     "start_time": "2020-11-05T20:05:26.158710Z"
    }
   },
   "outputs": [],
   "source": [
    "mydiff = oneday2 - oneday1\n",
    "pd.DataFrame(mydiff).plot.hist(bins=100, alpha=0.8)\n",
    "print( 'Most Repeated Difference : '+ str(day_ago) +' days ago : '  +  str(round(pd.DataFrame(mydiff).describe()[:][5:6].to_numpy()[0][0],4)))"
   ]
  },
  {
   "cell_type": "code",
   "execution_count": null,
   "metadata": {
    "ExecuteTime": {
     "end_time": "2020-11-05T20:06:39.020287Z",
     "start_time": "2020-11-05T20:06:38.992851Z"
    }
   },
   "outputs": [],
   "source": [
    "most_repeated_diff = round(pd.DataFrame(mydiff).describe()[:][5:6].to_numpy()[0][0],4)\n",
    "most_repeated_diff"
   ]
  },
  {
   "cell_type": "code",
   "execution_count": null,
   "metadata": {
    "ExecuteTime": {
     "end_time": "2020-11-05T20:06:41.375980Z",
     "start_time": "2020-11-05T20:06:41.171932Z"
    }
   },
   "outputs": [],
   "source": [
    "for i in range(60):\n",
    "    day_ago = i\n",
    "\n",
    "    badbaki = 480*(day_ago - 1)\n",
    "    oneday1 = mydf1['close'][(17978-375)-badbaki:17978-badbaki].to_numpy()\n",
    "    mydf1[(17978-375)-badbaki:17978-badbaki].groupby('close').count()\n",
    "\n",
    "    oneday2= mydf2['close'][(5777-375)-badbaki:5777-badbaki].to_numpy()\n",
    "    mydf2[(5777-375)-badbaki:5777-badbaki].groupby('close').count()\n",
    "    mydiff = oneday2 - oneday1\n",
    "    print( 'Most Repeated Difference : '+ str(day_ago) +' days ago : '  +  str(round(pd.DataFrame(mydiff).describe()[:][5:6].to_numpy()[0][0],4)))"
   ]
  },
  {
   "cell_type": "code",
   "execution_count": null,
   "metadata": {},
   "outputs": [],
   "source": []
  },
  {
   "cell_type": "code",
   "execution_count": null,
   "metadata": {
    "ExecuteTime": {
     "end_time": "2020-11-05T20:08:02.448834Z",
     "start_time": "2020-11-05T20:08:02.316179Z"
    },
    "scrolled": true
   },
   "outputs": [],
   "source": [
    "for i in range(60):\n",
    "    day_ago = i\n",
    "\n",
    "    badbaki = 480*(day_ago - 1)\n",
    "    oneday1 = mydf1['close'][(2612-375)-badbaki:2612-badbaki].to_numpy()\n",
    "    mydf1[(2612-375)-badbaki:2612-badbaki].groupby('close').count()\n",
    "\n",
    "    oneday2= mydf2['close'][(2205-375)-badbaki:2205-badbaki].to_numpy()\n",
    "    mydf2[(2205-375)-badbaki:2205-badbaki].groupby('close').count()\n",
    "    mydiff = oneday2 - oneday1\n",
    "    print( 'Most Repeated Difference : '+ str(day_ago) +' days ago : '  +  str(round(pd.DataFrame(mydiff).describe()[:][5:6].to_numpy()[0][0],4)))"
   ]
  },
  {
   "cell_type": "code",
   "execution_count": null,
   "metadata": {},
   "outputs": [],
   "source": []
  },
  {
   "cell_type": "code",
   "execution_count": null,
   "metadata": {
    "ExecuteTime": {
     "end_time": "2020-11-08T08:15:01.046408Z",
     "start_time": "2020-11-08T08:14:59.926830Z"
    }
   },
   "outputs": [],
   "source": [
    "from backtesting import Backtest, Strategy\n",
    "from backtesting.lib import crossover\n",
    "\n",
    "from backtesting.test import SMA, GOOG\n",
    "\n",
    "\n",
    "class SmaCross(Strategy):\n",
    "    def init(self):\n",
    "        price = self.data.Close\n",
    "        self.ma1 = self.I(SMA, price, 10)\n",
    "        self.ma2 = self.I(SMA, price, 20)\n",
    "\n",
    "    def next(self):\n",
    "        if crossover(self.ma1, self.ma2):\n",
    "            self.buy()\n",
    "        elif crossover(self.ma2, self.ma1):\n",
    "            self.sell()\n",
    "\n",
    "\n",
    "bt = Backtest(GOOG, SmaCross, commission=.002,\n",
    "              exclusive_orders=True)\n",
    "stats = bt.run()\n",
    "bt.plot()"
   ]
  },
  {
   "cell_type": "code",
   "execution_count": null,
   "metadata": {},
   "outputs": [],
   "source": []
  }
 ],
 "metadata": {
  "kernelspec": {
   "display_name": "Python 3",
   "language": "python",
   "name": "python3"
  },
  "language_info": {
   "codemirror_mode": {
    "name": "ipython",
    "version": 3
   },
   "file_extension": ".py",
   "mimetype": "text/x-python",
   "name": "python",
   "nbconvert_exporter": "python",
   "pygments_lexer": "ipython3",
   "version": "3.8.6"
  }
 },
 "nbformat": 4,
 "nbformat_minor": 4
}
