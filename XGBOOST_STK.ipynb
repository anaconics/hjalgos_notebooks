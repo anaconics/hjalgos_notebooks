{
 "cells": [
  {
   "cell_type": "code",
   "execution_count": 4,
   "metadata": {},
   "outputs": [],
   "source": [
    "from numpy import loadtxt\n",
    "from stkdef60 import One_trian_stk_class\n",
    "from xgboost import XGBClassifier\n",
    "from sklearn.model_selection import train_test_split\n",
    "from sklearn.metrics import accuracy_score\n",
    "import matplotlib.pyplot as plt  \n",
    "from sklearn.metrics import plot_confusion_matrix\n",
    "import numpy as np # linear algebra\n",
    "import pandas as pd # data processing, CSV file I/O (e.g. pd.read_csv)\n",
    "import xgboost\n",
    "import csv as csv\n",
    "from xgboost import plot_importance\n",
    "from matplotlib import pyplot\n",
    "from sklearn.model_selection import cross_val_score,KFold, train_test_split, GridSearchCV\n",
    "from sklearn.metrics import mean_absolute_error\n",
    "import matplotlib.pyplot as plt\n",
    "from scipy.stats import skew\n",
    "from collections import OrderedDict\n",
    "dataset = loadtxt('pima-indians-diabetes.data.csv', delimiter=\",\")\n",
    "from stkdef60 import One_trian_stk_class\n",
    "import logging\n",
    "import pickle\n",
    "import matplotlib.pyplot as plt\n",
    "from kiteconnect import KiteConnect\n",
    "logging.basicConfig(level=logging.ERROR)\n",
    "import threading\n",
    "import pandas as pd\n",
    "import numpy as np\n",
    "from  sklearn.multioutput import MultiOutputRegressor\n",
    "# from pactools.grid_search import GridSearchCVProgressBar\n",
    "homediraddr='/home/hemangjoshi37a_gmail_com'\n",
    "kite = KiteConnect(api_key=\"w19o0chuo929jxkp\")\n",
    "kite.login_url()\n",
    "with open('kitefile.p', 'rb') as fp:\n",
    "    kite = pickle.load(fp)\n",
    "import joblib"
   ]
  },
  {
   "cell_type": "code",
   "execution_count": null,
   "metadata": {},
   "outputs": [],
   "source": [
    "# First XGBoost model for Pima Indians dataset\n",
    "from numpy import loadtxt\n",
    "from xgboost import XGBClassifier\n",
    "from sklearn.model_selection import train_test_split\n",
    "from sklearn.metrics import accuracy_score\n",
    "# load data\n",
    "dataset = loadtxt('pima-indians-diabetes.data.csv', delimiter=\",\")\n",
    "# split data into X and y\n",
    "X = dataset[:,0:8]\n",
    "Y = dataset[:,8]\n",
    "# split data into train and test sets\n",
    "seed = 50\n",
    "test_size = 0.09\n",
    "X_train, X_test, y_train, y_test = train_test_split(X, Y, test_size=test_size, random_state=seed)\n",
    "# fit model no training data\n",
    "model = XGBClassifier()\n",
    "model.fit(X_train, y_train)\n",
    "# make predictions for test data\n",
    "y_pred = model.predict(X_test)\n",
    "predictions = [round(value) for value in y_pred]\n",
    "# evaluate predictions\n",
    "accuracy = accuracy_score(y_test, predictions)\n",
    "print(\"Accuracy: %.2f%%\" % (accuracy * 100.0))"
   ]
  },
  {
   "cell_type": "code",
   "execution_count": null,
   "metadata": {},
   "outputs": [
    {
     "name": "stdout",
     "output_type": "stream",
     "text": [
      "df loaded began................\n",
      "Loaded : TATASTEEL_DF.p 1\n",
      "Checking Model Path : /home/hemangjoshi37a_gmail_com/stkwise_models60/TATASTEEL/TATASTEEL_104.h5\n",
      "model loaded : /home/hemangjoshi37a_gmail_com/stkwise_models60/TATASTEEL/TATASTEEL_104.h5\n",
      "df loaded end................\n",
      "xtrain_def began............\n",
      "dataset : [[391.3  391.6  388.5  389.9 ]\n",
      " [388.8  391.9  388.5  391.2 ]\n",
      " [389.8  390.1  388.7  389.  ]\n",
      " [390.   390.4  389.   389.8 ]\n",
      " [390.6  392.5  389.75 389.8 ]]\n",
      "training_data_len : 96071\n",
      "(97041, 4)\n",
      "TATASTEEL : x_train shape :  (95950, 60, 4)\n",
      "TATASTEEL : y_train shape :  (95950, 60)\n",
      "TATASTEEL : x_test shape :  (909, 60, 4)\n",
      "TATASTEEL : y_test shape :  (909, 60)\n",
      "xtrain_def end............\n",
      "Fitting 5 folds for each of 1 candidates, totalling 5 fits\n"
     ]
    },
    {
     "name": "stderr",
     "output_type": "stream",
     "text": [
      "[Parallel(n_jobs=1)]: Using backend SequentialBackend with 1 concurrent workers.\n"
     ]
    }
   ],
   "source": [
    "parameters_for_testing = {\n",
    "#    'estimator__colsample_bytree':[0.4,0.8],\n",
    "#    'estimator__gamma':[0.03,0.3],\n",
    "   'estimator__min_child_weight':[1.5],\n",
    "#    'estimator__learning_rate':[0.1,0.07],\n",
    "#    'estimator__max_depth':[3,15],\n",
    "   'estimator__n_estimators':[10000],\n",
    "#    'estimator__reg_alpha':[1e-5,  0.75],\n",
    "#    'estimator__reg_lambda':[1e-5, 0.45],\n",
    "#    'estimator__subsample':[0.6,0.95],\n",
    "}\n",
    "\n",
    "xgbmodel = xgboost.XGBRegressor(colsample_bytree=0.4,\n",
    "                                 gamma=0.5,                 \n",
    "                                 learning_rate=0.05,\n",
    "                                 max_depth=20,\n",
    "                                 min_child_weight=1.1,\n",
    "                                 n_estimators=10000,                                                                    \n",
    "                                 reg_alpha=0.50,\n",
    "                                 reg_lambda=0.40,\n",
    "                                 subsample=0.6,\n",
    "                                 seed=50,\n",
    "                                 objective='reg:squarederror')\n",
    "\n",
    "xx={'name':'TATASTEEL',\n",
    "    'insttkn':895745,\n",
    "    'nbatch':1,\n",
    "    'nepochs':5,\n",
    "    'trainlen':'all',\n",
    "    'kite':kite}\n",
    "trainit= One_trian_stk_class(xx['name'], xx['insttkn'],xx['nbatch'],xx['nepochs'],xx['trainlen'],xx['kite'])\n",
    "trainit.load()\n",
    "trainit.xtrain_def()\n",
    "reshapedxt=trainit.x_train.reshape([95950,60*4])\n",
    "\n",
    "multioutputregressor = MultiOutputRegressor(xgbmodel)\n",
    "\n",
    "gsearch1 = GridSearchCV(estimator = multioutputregressor, \n",
    "                        param_grid = parameters_for_testing, \n",
    "                        n_jobs=1,\n",
    "                        iid=False, \n",
    "                        verbose=1,\n",
    "                        scoring='neg_mean_squared_error')\n",
    "\n",
    "gsearch1.fit(reshapedxt,trainit.y_train)\n",
    "print (gsearch1.grid_scores_)\n",
    "print('best params')\n",
    "print (gsearch1.best_params_)\n",
    "print('best score')\n",
    "print (gsearch1.best_score_)"
   ]
  },
  {
   "cell_type": "raw",
   "metadata": {},
   "source": []
  },
  {
   "cell_type": "code",
   "execution_count": null,
   "metadata": {},
   "outputs": [],
   "source": [
    "joblib.dump(gsearch1, \"gsearch1.p\") "
   ]
  },
  {
   "cell_type": "code",
   "execution_count": null,
   "metadata": {},
   "outputs": [],
   "source": [
    "print('sdfsdF')"
   ]
  },
  {
   "cell_type": "code",
   "execution_count": null,
   "metadata": {},
   "outputs": [],
   "source": [
    "# print (gsearch1.grid_scores_)\n",
    "print('best params')\n",
    "# print (gsearch1.best_params_)\n",
    "print('best score')\n",
    "# print (gsearch1.best_score_)"
   ]
  },
  {
   "cell_type": "code",
   "execution_count": 2,
   "metadata": {
    "scrolled": true
   },
   "outputs": [
    {
     "name": "stdout",
     "output_type": "stream",
     "text": [
      "df loaded began................\n",
      "Loaded : TATASTEEL_DF.p 1\n",
      "Checking Model Path : /home/hemangjoshi37a_gmail_com/stkwise_models60/TATASTEEL/TATASTEEL_104.h5\n",
      "model loaded : /home/hemangjoshi37a_gmail_com/stkwise_models60/TATASTEEL/TATASTEEL_104.h5\n",
      "df loaded end................\n",
      "xtrain_def began............\n",
      "dataset : [[391.3  391.6  388.5  389.9 ]\n",
      " [388.8  391.9  388.5  391.2 ]\n",
      " [389.8  390.1  388.7  389.  ]\n",
      " [390.   390.4  389.   389.8 ]\n",
      " [390.6  392.5  389.75 389.8 ]]\n",
      "training_data_len : 96071\n",
      "(97041, 4)\n",
      "TATASTEEL : x_train shape :  (95950, 60, 4)\n",
      "TATASTEEL : y_train shape :  (95950, 60)\n",
      "TATASTEEL : x_test shape :  (909, 60, 4)\n",
      "TATASTEEL : y_test shape :  (909, 60)\n",
      "xtrain_def end............\n"
     ]
    }
   ],
   "source": [
    "xgbmodel = xgboost.XGBRegressor(colsample_bytree=0.4,\n",
    "                                 gamma=0.5,                 \n",
    "                                 learning_rate=0.05,\n",
    "                                 max_depth=50,\n",
    "                                 min_child_weight=1.1,\n",
    "                                 n_estimators=10000,                                                                    \n",
    "                                 reg_alpha=0.50,\n",
    "                                 reg_lambda=0.40,\n",
    "                                 subsample=0.6,\n",
    "                                 seed=50)\n",
    "# xgbmodel = xgboost.XGBRegressor()\n",
    "\n",
    "xx={'name':'TATASTEEL',\n",
    "    'insttkn':895745,\n",
    "    'nbatch':1,\n",
    "    'nepochs':5,\n",
    "    'trainlen':'all',\n",
    "    'kite':kite}\n",
    "trainit= One_trian_stk_class(xx['name'], xx['insttkn'],xx['nbatch'],xx['nepochs'],\n",
    "                             xx['trainlen'],xx['kite'])\n",
    "trainit.load()\n",
    "trainit.xtrain_def()\n",
    "reshapedxt=trainit.x_train.reshape([95950,60*4])\n",
    "xtreshaped=trainit.x_test.reshape([909,60*4])\n",
    "xgbr=xgboost.XGBRegressor(objective='reg:squarederror')\n",
    "\n",
    "eval_set = [(reshapedxt, trainit.y_train), (xtreshaped, trainit.y_test)]\n",
    "\n",
    "multioutputregressor = MultiOutputRegressor(xgbr).fit(reshapedxt, trainit.y_train,\n",
    "                                                      eval_metric=[\"error\", \"logloss\"], \n",
    "                                                      eval_set=eval_set, \n",
    "                                                      verbose=False)"
   ]
  },
  {
   "cell_type": "code",
   "execution_count": 5,
   "metadata": {},
   "outputs": [
    {
     "data": {
      "text/plain": [
       "['multioutputregressor.p']"
      ]
     },
     "execution_count": 5,
     "metadata": {},
     "output_type": "execute_result"
    }
   ],
   "source": [
    "joblib.dump(multioutputregressor, \"multioutputregressor.p\") "
   ]
  },
  {
   "cell_type": "code",
   "execution_count": null,
   "metadata": {},
   "outputs": [],
   "source": [
    "pred0=multioutputregressor.predict(trainit.x_test[0].reshape(1,240))\n",
    "act0=trainit.y_test[0]\n",
    "diff=np.array(pred0[0])-np.array(act0)\n",
    "difflist=diff.tolist()\n",
    "table0=pd.DataFrame({'true':act0,'pred':pred0[0],'diff':difflist})\n",
    "table0['pred'].plot()\n",
    "table0['true'].plot()\n",
    "\n",
    "# table0['diff'].plot()"
   ]
  },
  {
   "cell_type": "code",
   "execution_count": null,
   "metadata": {},
   "outputs": [],
   "source": [
    "pred1=multioutputregressor.predict(trainit.x_test[21].reshape(1,240))\n",
    "act1=trainit.y_test[21]\n",
    "diff=np.array(pred1[0])-np.array(act1)\n",
    "difflist1=diff.tolist()\n",
    "table1=pd.DataFrame({'true':act1,'pred':pred1[0],'diff':difflist1})\n",
    "table1['pred'].plot()\n",
    "table1['true'].plot()\n",
    "\n",
    "# table1['diff'].plot()"
   ]
  },
  {
   "cell_type": "code",
   "execution_count": null,
   "metadata": {},
   "outputs": [],
   "source": [
    "pred1=multioutputregressor.predict(trainit.x_test[15].reshape(1,240))\n",
    "act1=trainit.y_test[15]\n",
    "diff=np.array(pred1[0])-np.array(act1)\n",
    "difflist1=diff.tolist()\n",
    "table1=pd.DataFrame({'true':act1,'pred':pred1[0],'diff':difflist1})\n",
    "table1['pred'].plot()\n",
    "table1['true'].plot()\n",
    "\n",
    "# table1['diff'].plot()"
   ]
  },
  {
   "cell_type": "code",
   "execution_count": null,
   "metadata": {},
   "outputs": [],
   "source": [
    "newdict={'table1_pred':table0['diff'].values.tolist(),'table2_pred':table1['diff'].values.tolist()} \n",
    "hjdf=pd.DataFrame(newdict)\n",
    "hjdf.plot()"
   ]
  },
  {
   "cell_type": "code",
   "execution_count": null,
   "metadata": {},
   "outputs": [],
   "source": []
  },
  {
   "cell_type": "code",
   "execution_count": null,
   "metadata": {},
   "outputs": [],
   "source": [
    "multioutputregressor.get_params()"
   ]
  },
  {
   "cell_type": "code",
   "execution_count": null,
   "metadata": {},
   "outputs": [],
   "source": []
  }
 ],
 "metadata": {
  "kernelspec": {
   "display_name": "Python 3",
   "language": "python",
   "name": "python3"
  },
  "language_info": {
   "codemirror_mode": {
    "name": "ipython",
    "version": 3
   },
   "file_extension": ".py",
   "mimetype": "text/x-python",
   "name": "python",
   "nbconvert_exporter": "python",
   "pygments_lexer": "ipython3",
   "version": "3.8.2"
  }
 },
 "nbformat": 4,
 "nbformat_minor": 4
}
