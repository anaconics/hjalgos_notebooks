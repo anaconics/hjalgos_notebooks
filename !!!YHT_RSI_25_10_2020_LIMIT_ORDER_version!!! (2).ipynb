{
 "cells": [
  {
   "cell_type": "code",
   "execution_count": 1,
   "metadata": {
    "execution": {
     "iopub.execute_input": "2020-10-27T17:34:20.309Z",
     "iopub.status.busy": "2020-10-27T17:34:20.299Z",
     "iopub.status.idle": "2020-10-27T17:35:57.730Z",
     "shell.execute_reply": "2020-10-27T17:35:57.845Z"
    }
   },
   "outputs": [
    {
     "name": "stdout",
     "output_type": "stream",
     "text": [
      "NCtLNjdSsiiI15Zoch4WLxD0gCYdFE4M\n"
     ]
    },
    {
     "data": {
      "text/plain": [
       "1"
      ]
     },
     "execution_count": 1,
     "metadata": {},
     "output_type": "execute_result"
    }
   ],
   "source": [
    "########## auto login ############\n",
    "import login\n",
    "from login import *\n",
    "import pandas as pd\n",
    "from loguru import logger\n",
    "logger.add(\"RSI_logs_{time}.log\")\n",
    "#kite.margins(segment = 'equity')['available']['live_balance']"
   ]
  },
  {
   "cell_type": "code",
   "execution_count": 2,
   "metadata": {
    "execution": {
     "iopub.execute_input": "2020-10-27T17:35:57.783Z",
     "iopub.status.busy": "2020-10-27T17:35:57.768Z",
     "iopub.status.idle": "2020-10-27T17:35:57.824Z",
     "shell.execute_reply": "2020-10-27T17:35:57.852Z"
    }
   },
   "outputs": [
    {
     "name": "stderr",
     "output_type": "stream",
     "text": [
      "2020-10-28 16:55:54.841 | DEBUG    | __main__:<module>:1 - Parameters : \n",
      "2020-10-28 16:55:54.844 | DEBUG    | __main__:<module>:11 - init_qty : 3\n",
      "2020-10-28 16:55:54.846 | DEBUG    | __main__:<module>:12 - extended_quant : 1\n",
      "2020-10-28 16:55:54.848 | DEBUG    | __main__:<module>:13 - stepmultiseries : [2, 4, 7, 12, 15, 20, 30]\n",
      "2020-10-28 16:55:54.850 | DEBUG    | __main__:<module>:14 - basepricediffmulti : 0.01\n",
      "2020-10-28 16:55:54.852 | DEBUG    | __main__:<module>:15 - symbol_ip : USDINR20NOVFUT\n",
      "2020-10-28 16:55:54.853 | DEBUG    | __main__:<module>:16 - inst_token : 780803\n",
      "2020-10-28 16:55:54.855 | DEBUG    | __main__:<module>:17 - order_type : NRML\n"
     ]
    }
   ],
   "source": [
    "logger.debug(\"Parameters : \")\n",
    "#### NEW VERSION ###########\n",
    "init_qty = 3\n",
    "extended_quant = 1\n",
    "stepmultiseries = [2,4,7,12,15,20,30]\n",
    "basepricediffmulti = 0.0100\n",
    "symbol_ip = 'USDINR20NOVFUT' # USDINR20OCTFUT / GBPINR20OCTFUT / EURINR20OCTFUT / JPYINR20OCTFUT\n",
    "inst_token = 780803          # 690691(USD) / 490755(GBP) / 278019(EUR) / 690435(JPY)\n",
    "order_type = 'NRML'\n",
    "#############################\n",
    "logger.debug(\"init_qty : \"+str(init_qty))\n",
    "logger.debug(\"extended_quant : \"+str(extended_quant))\n",
    "logger.debug(\"stepmultiseries : \"+str(stepmultiseries))\n",
    "logger.debug(\"basepricediffmulti : \"+str(basepricediffmulti))\n",
    "logger.debug(\"symbol_ip : \"+str(symbol_ip))\n",
    "logger.debug(\"inst_token : \"+str(inst_token))\n",
    "logger.debug(\"order_type : \"+str(order_type))"
   ]
  },
  {
   "cell_type": "code",
   "execution_count": 3,
   "metadata": {},
   "outputs": [],
   "source": [
    "######## CHECK QTY #############\n",
    "myquantity = 0\n",
    "def getquant():\n",
    "    logger.debug(\"getquant : \")\n",
    "    global myquantity, order_type, symbol_ip\n",
    "    allpos = kite.positions()['net']\n",
    "    for i in range(len(allpos)):\n",
    "        if(allpos[i]['tradingsymbol']==symbol_ip and allpos[i]['product']== order_type):\n",
    "            myquantity = allpos[i]['quantity']\n",
    "            print('My Quantity : ' + str(allpos[i]['quantity']))\n",
    "    logger.debug(\"My Quantity : \"+str(myquantity))\n",
    "    return myquantity\n",
    "\n",
    "# getquant()"
   ]
  },
  {
   "cell_type": "code",
   "execution_count": 4,
   "metadata": {},
   "outputs": [],
   "source": [
    "def get_completed_orders():\n",
    "    global order_type\n",
    "    logger.debug(\"get_completed_orders : \")\n",
    "    myorders = kite.orders()\n",
    "    completed_orders = []\n",
    "    for i in range(len(myorders)):\n",
    "        if(myorders[i]['status']=='COMPLETE' and\n",
    "           myorders[i]['tradingsymbol']==symbol_ip and\n",
    "           myorders[i]['product']==order_type):\n",
    "            completed_orders.append(myorders[i])\n",
    "    if(len(completed_orders)>1) :\n",
    "        completed_orders[-1]['average_price']\n",
    "        logger.debug(\"last_completed_orders : \"+str(completed_orders[-1]))\n",
    "        logger.debug(\"last_completed_orders_price : \"+str(completed_orders[-1]['average_price']))\n",
    "    else:\n",
    "        logger.debug(\"completed_orders : \"+str(completed_orders))\n",
    "    \n",
    "    return completed_orders\n",
    "# get_completed_orders()"
   ]
  },
  {
   "cell_type": "code",
   "execution_count": 5,
   "metadata": {},
   "outputs": [],
   "source": [
    "#!!!!!!!!!!!!!!!!!!!!!!!!!!!!!!!!!!!!!!!!!!!!!\n",
    "########## cancel orders ####################\n",
    "#!!!!!!!!!!!!!!!!!!!!!!!!!!!!!!!!!!!!!!!!!!!!!\n",
    "def cancel_all_pending_orders():\n",
    "    global order_type\n",
    "    logger.debug(\"cancel_all_pending_orders : \")\n",
    "    myorder = kite.orders()\n",
    "    pending_orders = []\n",
    "    for i  in range(len(myorder)):\n",
    "        if(myorder[i]['status']=='OPEN' and \n",
    "           myorder[i]['tradingsymbol']==symbol_ip and \n",
    "           myorder[i]['product']==order_type):\n",
    "            pending_orders.append(myorder[i])\n",
    "            kite.cancel_order(myorder[i]['variety'], myorder[i]['order_id'], parent_order_id=None)\n",
    "            logger.debug(\"cancel_order @ \"+'order_id : '+str(myorder[i]['order_id'])+' variety : '+str(myorder[i]['variety']))\n",
    "# cancel_all_pending_orders()"
   ]
  },
  {
   "cell_type": "code",
   "execution_count": 6,
   "metadata": {},
   "outputs": [],
   "source": [
    "############# get pending orders ################\n",
    "def get_pending_orders():\n",
    "    logger.debug(\"get_pending_orders : \")\n",
    "    global pending_orders, order_type\n",
    "    my_orders=kite.orders()\n",
    "    pending_orders=[]\n",
    "    for i in range(len(my_orders)):\n",
    "        if(my_orders[i]['tradingsymbol']==symbol_ip and \n",
    "           my_orders[i]['status']=='OPEN' and \n",
    "           my_orders[i]['product']==order_type):\n",
    "            pending_orders.append(my_orders[i])\n",
    "    logger.debug(\"pending_orders : \"+str(pending_orders))\n",
    "    return pending_orders\n",
    "# get_pending_orders()"
   ]
  },
  {
   "cell_type": "code",
   "execution_count": 7,
   "metadata": {},
   "outputs": [],
   "source": [
    "############# calc rsi ################\n",
    "import datetime\n",
    "import ta\n",
    "def calc_rsi():\n",
    "    global RSI,inst_token\n",
    "    old_lst=[]\n",
    "    interval='minute'\n",
    "    todaydt=datetime.date.today()\n",
    "    hud_ago=todaydt-datetime.timedelta(days=6)\n",
    "    to_date=datetime.date.isoformat(todaydt)\n",
    "    from_date=datetime.date.isoformat(hud_ago)\n",
    "    for i2 in range(1):\n",
    "        new_lst = kite.historical_data(inst_token, from_date, to_date, interval,continuous=False)\n",
    "        old_lst = new_lst + old_lst\n",
    "        todaydt=todaydt-datetime.timedelta(days=7)\n",
    "        hud_ago=hud_ago-datetime.timedelta(days=7)\n",
    "        to_date=datetime.date.isoformat(todaydt)\n",
    "        from_date=datetime.date.isoformat(hud_ago)\n",
    "#         print(len(old_lst))\n",
    "    mydf = pd.DataFrame(old_lst) \n",
    "    indicator_rsi = ta.momentum.rsi(close = mydf[\"close\"], n=14, fillna=True)\n",
    "    current_rsi = round(indicator_rsi[-1:].to_numpy()[0],4)\n",
    "    RSI = current_rsi\n",
    "    logger.debug(\"current_rsi : \"+str(current_rsi))\n",
    "    print('Current RSI : '+str(current_rsi))\n",
    "    return current_rsi\n",
    "\n",
    "    # indicator_sma = ta.trend.SMAIndicator(close = mydf[\"close\"], n=14, fillna=True)\n",
    "    # current_sma = round(indicator_sma.sma_indicator()[-1:].to_numpy()[0],4)\n",
    "    # print('Current SMA : '+str(current_sma))\n",
    "\n",
    "# calc_rsi()"
   ]
  },
  {
   "cell_type": "code",
   "execution_count": 8,
   "metadata": {},
   "outputs": [
    {
     "name": "stderr",
     "output_type": "stream",
     "text": [
      "2020-10-28 16:55:54.939 | DEBUG    | __main__:getquant:4 - getquant : \n",
      "2020-10-28 16:55:55.486 | DEBUG    | __main__:getquant:11 - My Quantity : 0\n"
     ]
    },
    {
     "name": "stdout",
     "output_type": "stream",
     "text": [
      "My Quantity : 0\n"
     ]
    }
   ],
   "source": [
    "################ update status #################\n",
    "baseprice = 123.0\n",
    "getquant()\n",
    "def update_status():\n",
    "    global init_qty,extended_quant,stepmultiseries,basepricediffmulti,baseprice,RSI,p1q,p1,p0q,p0\n",
    "    myquantity = getquant()\n",
    "    if(myquantity==0):\n",
    "        if(RSI >60):\n",
    "            logger.debug(\"RSI > 60 : \"+str(RSI))\n",
    "            is_done = ckqnt(0,-init_qty)\n",
    "#             is_done = placeneworder(-init_qty,0)\n",
    "            logger.debug(\"Order Placed @ \"+str(-init_qty)+' market and Succeeded : '+str(is_done))\n",
    "            if(is_done):\n",
    "                completed_orders = get_completed_orders()\n",
    "                baseprice = round(0.0025 * round(completed_orders[-1]['average_price'] /0.0025),4)\n",
    "                calcsteps(-init_qty,baseprice)\n",
    "                ckqnt(round(p0,4),p0q)\n",
    "                logger.debug(\"Order Placed @ \"+str(p0q)+' Limit : '+str(round(p0,4))+\n",
    "                             ' and Succeeded : '+str(is_done))\n",
    "\n",
    "        if(RSI <40):\n",
    "            logger.debug(\"RSI < 40 : \"+str(RSI))\n",
    "            is_done = ckqnt(0,init_qty)\n",
    "#             is_done = placeneworder(init_qty,0)\n",
    "            if(is_done):\n",
    "                completed_orders = get_completed_orders()\n",
    "                baseprice =  round(0.0025 * round(completed_orders[-1]['average_price'] /0.0025),4)\n",
    "                calcsteps(init_qty,baseprice)\n",
    "                ckqnt(round(p0,4),p0q)\n",
    "                logger.debug(\"Order Placed @ \"+str(p0q)+' Limit : '+str(round(p0,4))+ \n",
    "                             ' and Succeeded : '+str(is_done))\n",
    "\n",
    "    else:\n",
    "        current_point = 0\n",
    "        for i in range(1,len(stepmultiseries)+2):\n",
    "            if(globals()['p'+str(i)+'q']==myquantity):\n",
    "                current_point=i\n",
    "                \n",
    "        logger.debug('Current Point : '+str(current_point))\n",
    "        next_point = 0\n",
    "        contain_next_point=False\n",
    "        if(current_point!=(len(stepmultiseries)+1)):\n",
    "            next_point = current_point + 1\n",
    "            logger.debug('Next Point : '+str(next_point))\n",
    "            pending_orders = get_pending_orders()\n",
    "            for i in range(len(pending_orders)):\n",
    "                if(pending_orders[i]['tradingsymbol']==symbol_ip \n",
    "                   and pending_orders[i]['status']=='OPEN' \n",
    "                   and pending_orders[i]['price']== globals()['p'+str(next_point)]\n",
    "                   and pending_orders[i]['quantity']== globals()['p'+str(next_point)+'q']):\n",
    "                    contain_next_point = True\n",
    "\n",
    "            if(!contain_next_point):\n",
    "                ckqnt(globals()['p'+str(next_point)],globals()['p'+str(next_point)+'q'])\n",
    "                logger.debug('ckqnt @ '+str(globals()['p'+str(next_point)])\n",
    "                             +' : '+str(globals()['p'+str(next_point)+'q']))\n",
    "                \n",
    "\n",
    "        contain_next_point = False\n",
    "\n",
    "# update_status()"
   ]
  },
  {
   "cell_type": "code",
   "execution_count": 9,
   "metadata": {},
   "outputs": [
    {
     "name": "stdout",
     "output_type": "stream",
     "text": [
      "Quantity Series : [2, 4, 7, 12, 15, 20, 30]\n",
      "\n"
     ]
    }
   ],
   "source": [
    "############## CALC STEPS ###############\n",
    "def calcsteps(currentqty, base_price):\n",
    "    logger.debug('calc_steps : ('+str(currentqty)+','+str(base_price)+')'+' : ')\n",
    "    '''calcsteps(currentqty, base_price)'''\n",
    "    global p0,basepricediffmulti,p0q,extended_quant,p1,p1q\n",
    "    if(currentqty <0):\n",
    "        p0 = round(base_price - basepricediffmulti,4)\n",
    "        p0q = 0\n",
    "        print('p0q : '+str(p0q))\n",
    "        print('p0 : '+str(p0))\n",
    "        logger.debug('p0q : '+str(p0q))\n",
    "        logger.debug('p0 : '+str(p0))\n",
    "        print()\n",
    "        print('base quant : '+str(currentqty))\n",
    "        print('base_price : '+str(base_price))\n",
    "        logger.debug('base quant : '+str(currentqty))\n",
    "        logger.debug('base_price : '+str(base_price))\n",
    "        print()\n",
    "        p1q = currentqty\n",
    "        p1 = round(base_price,4)\n",
    "        print('p1q : '+str(p1q))\n",
    "        logger.debug('p1q : '+str(p1q))\n",
    "        print('p1 : '+str(p1))\n",
    "        logger.debug('p1 : '+str(p1))\n",
    "        for i  in range(1,len(stepmultiseries)+1):\n",
    "            globals()['p'+str(i+1)+'q']=currentqty-((i)*extended_quant)\n",
    "            print('p'+str(i+1)+'q : '+str(globals()['p'+str(i+1)+'q']))\n",
    "            logger.debug('p'+str(i+1)+'q : '+str(globals()['p'+str(i+1)+'q']))\n",
    "            globals()['p'+str(i+1)]= round(base_price+(basepricediffmulti*stepmultiseries[i-1]),4)\n",
    "            print('p'+str(i+1)+' : '+str(globals()['p'+str(i+1)]))\n",
    "            logger.debug('p'+str(i+1)+' : '+str(globals()['p'+str(i+1)]))\n",
    "    if(currentqty >0):\n",
    "        p0 = base_price + basepricediffmulti\n",
    "        p0q = 0\n",
    "        print('p0q : '+str(p0q))\n",
    "        print('p0 : '+str(p0))\n",
    "        logger.debug('p0q : '+str(p0q))\n",
    "        logger.debug('p0 : '+str(p0))\n",
    "        print()\n",
    "        print('base quant : '+str(currentqty))\n",
    "        print('base_price : '+str(base_price))\n",
    "        logger.debug('base quant : '+str(currentqty))\n",
    "        logger.debug('base_price : '+str(base_price))\n",
    "        print()\n",
    "        p1q = currentqty\n",
    "        p1 = round(base_price,4)\n",
    "        print('p1q : '+str(p1q))\n",
    "        logger.debug('p1q : '+str(p1q))\n",
    "        print('p1 : '+str(p1))\n",
    "        logger.debug('p1 : '+str(p1))\n",
    "        \n",
    "        for i  in range(1,len(stepmultiseries)+1):\n",
    "            globals()['p'+str(i+1)+'q']=currentqty+((i)*extended_quant)\n",
    "            print('p'+str(i+1)+'q : '+str(globals()['p'+str(i+1)+'q']))\n",
    "            logger.debug('p'+str(i+1)+'q : '+str(globals()['p'+str(i+1)+'q']))\n",
    "            globals()['p'+str(i+1)]= round(base_price-(basepricediffmulti*stepmultiseries[i-1]),4)\n",
    "            print('p'+str(i+1)+' : '+str(globals()['p'+str(i+1)]))\n",
    "            logger.debug('p'+str(i+1)+' : '+str(globals()['p'+str(i+1)]))\n",
    "\n",
    "print('Quantity Series : '+str(stepmultiseries))\n",
    "print()\n",
    "# calcsteps(init_qty,74.00)"
   ]
  },
  {
   "cell_type": "code",
   "execution_count": 10,
   "metadata": {},
   "outputs": [],
   "source": [
    "########### place order ###########\n",
    "stopbuy = False\n",
    "stopsell = False\n",
    "\n",
    "def placeneworder(quantdiff,price_ip):\n",
    "    '''placeneworder(quantdiff,price_ip)'''\n",
    "    logger.debug('placeneworder @ ('+str(quantdiff)+','+str(price_ip)+')')\n",
    "    global stopbuy,stopsell,order_type,symbol_ip\n",
    "    if(quantdiff>0 and stopbuy == False):\n",
    "        try:\n",
    "            order_id= kite.place_order(tradingsymbol=symbol_ip,\n",
    "                        exchange=kite.EXCHANGE_CDS,\n",
    "                        transaction_type=kite.TRANSACTION_TYPE_BUY,\n",
    "                        quantity=abs(quantdiff),\n",
    "                        price=price_ip,\n",
    "                        order_type=kite.ORDER_TYPE_MARKET if price_ip==0 else kite.ORDER_TYPE_LIMIT,\n",
    "                        variety = kite.VARIETY_REGULAR,\n",
    "                        product=kite.PRODUCT_MIS if order_type=='MIS' else kite.PRODUCT_NRML)\n",
    "            stopsell = False\n",
    "            logger.debug('Order Successfully Placed @ '+str(order_type)+' '+str(quantdiff)+' '+str(price_ip))\n",
    "            getquant()\n",
    "            return True\n",
    "        except Exception as e:\n",
    "            stopbuy = False\n",
    "            print(e)\n",
    "            logger.debug('Order Rejected For @ '+str(order_type)+' '+str(quantdiff)+' '+str(price_ip))\n",
    "            getquant()\n",
    "            return False\n",
    "    if(quantdiff<0 and stopsell == False):\n",
    "        try:\n",
    "            order_id= kite.place_order(tradingsymbol=symbol_ip,\n",
    "                        exchange=kite.EXCHANGE_CDS,\n",
    "                        transaction_type=kite.TRANSACTION_TYPE_SELL,\n",
    "                        quantity=abs(quantdiff),\n",
    "                        price=price_ip,\n",
    "                        order_type=kite.ORDER_TYPE_MARKET if price_ip==0 else kite.ORDER_TYPE_LIMIT,\n",
    "                        variety = kite.VARIETY_REGULAR,\n",
    "                        product=kite.PRODUCT_MIS if order_type=='MIS' else kite.PRODUCT_NRML)\n",
    "            stopbuy = False\n",
    "            logger.debug('Order Successfully Placed @ '+str(order_type)+' '+str(quantdiff)+' '+str(price_ip))\n",
    "            getquant()\n",
    "            return True\n",
    "        except Exception as e:\n",
    "            stopsell = True\n",
    "            print(e)\n",
    "            logger.debug('Order Rejected For @ '+str(order_type)+' '+str(quantdiff)+' '+str(price_ip))\n",
    "            getquant()\n",
    "            return False\n",
    "\n",
    "def ckqnt (orderprice,orderquant):\n",
    "    logger.debug('ckqnt @ ('+str(orderprice)+','+str(orderquant)+') in ckqnt')\n",
    "    global myquantity\n",
    "    quantdiff = orderquant - myquantity\n",
    "    logger.debug(str(quantdiff)+' = '+str(orderquant)+'-'+str(myquantity)+ ' in ckqnt')\n",
    "    is_done = placeneworder(quantdiff,orderprice)\n",
    "    return is_done\n",
    "\n",
    "def calc_and_update():\n",
    "    logger.debug('calc_and_update : '+ ' in calc_and_update')\n",
    "    try:\n",
    "        calc_rsi()\n",
    "    except:\n",
    "        print('calc_rsi failed'+ ' in calc_and_update')\n",
    "    update_status()"
   ]
  },
  {
   "cell_type": "code",
   "execution_count": 11,
   "metadata": {
    "scrolled": true
   },
   "outputs": [
    {
     "name": "stdout",
     "output_type": "stream",
     "text": [
      "=====================================\n",
      "LTP : 74.0625\n",
      "=====================================\n",
      "LTP : 74.0625\n",
      "=====================================\n",
      "LTP : 74.0625\n",
      "=====================================\n",
      "LTP : 74.0625\n",
      "=====================================\n",
      "LTP : 74.0625\n",
      "=====================================\n",
      "LTP : 74.0625\n",
      "=====================================\n",
      "LTP : 74.0625\n",
      "=====================================\n",
      "LTP : 74.0625\n",
      "=====================================\n",
      "LTP : 74.0625\n",
      "=====================================\n",
      "LTP : 74.065\n",
      "=====================================\n",
      "LTP : 74.065\n",
      "=====================================\n",
      "LTP : 74.065\n",
      "=====================================\n",
      "LTP : 74.0625\n",
      "=====================================\n",
      "LTP : 74.0625\n",
      "=====================================\n",
      "LTP : 74.065\n",
      "=====================================\n",
      "LTP : 74.065\n",
      "=====================================\n",
      "LTP : 74.0625\n"
     ]
    },
    {
     "name": "stderr",
     "output_type": "stream",
     "text": [
      "2020-10-28 16:56:10.505 | DEBUG    | __main__:calc_and_update:59 - calc_and_update :  in calc_and_update\n"
     ]
    },
    {
     "name": "stdout",
     "output_type": "stream",
     "text": [
      "in the thread : \n",
      "=====================================\n",
      "LTP : 74.0625\n"
     ]
    },
    {
     "name": "stderr",
     "output_type": "stream",
     "text": [
      "2020-10-28 16:56:11.235 | DEBUG    | __main__:calc_rsi:24 - current_rsi : 37.1133\n",
      "2020-10-28 16:56:11.237 | DEBUG    | __main__:getquant:4 - getquant : \n"
     ]
    },
    {
     "name": "stdout",
     "output_type": "stream",
     "text": [
      "Current RSI : 37.1133\n"
     ]
    },
    {
     "name": "stderr",
     "output_type": "stream",
     "text": [
      "2020-10-28 16:56:11.751 | DEBUG    | __main__:getquant:11 - My Quantity : 0\n",
      "2020-10-28 16:56:11.752 | DEBUG    | __main__:update_status:22 - RSI < 40 : 37.1133\n",
      "2020-10-28 16:56:11.754 | DEBUG    | __main__:ckqnt:51 - ckqnt @ (0,3) in ckqnt\n",
      "2020-10-28 16:56:11.756 | DEBUG    | __main__:ckqnt:54 - 3 = 3-0 in ckqnt\n",
      "2020-10-28 16:56:11.757 | DEBUG    | __main__:placeneworder:7 - placeneworder @ (3,0)\n"
     ]
    },
    {
     "name": "stdout",
     "output_type": "stream",
     "text": [
      "=====================================\n",
      "LTP : 74.0625\n",
      "My Quantity : 0\n"
     ]
    },
    {
     "name": "stderr",
     "output_type": "stream",
     "text": [
      "2020-10-28 16:56:12.199 | DEBUG    | __main__:on_order_update:43 - on_order_update : \n",
      "2020-10-28 16:56:12.205 | DEBUG    | __main__:on_order_update:43 - on_order_update : \n",
      "2020-10-28 16:56:12.293 | DEBUG    | __main__:placeneworder:20 - Order Successfully Placed @ NRML 3 0\n",
      "2020-10-28 16:56:12.295 | DEBUG    | __main__:getquant:4 - getquant : \n"
     ]
    },
    {
     "name": "stdout",
     "output_type": "stream",
     "text": [
      "order update:  {'account_id': 'FC5917', 'unfilled_quantity': 0, 'checksum': '', 'placed_by': 'FC5917', 'order_id': '201028004312437', 'exchange_order_id': '1000000002272119', 'parent_order_id': None, 'status': 'OPEN', 'status_message': None, 'status_message_raw': None, 'order_timestamp': '2020-10-28 16:56:12', 'exchange_update_timestamp': '2020-10-28 16:56:12', 'exchange_timestamp': '2020-10-28 16:56:12', 'variety': 'regular', 'exchange': 'CDS', 'tradingsymbol': 'USDINR20NOVFUT', 'instrument_token': 780803, 'order_type': 'MARKET', 'transaction_type': 'BUY', 'validity': 'DAY', 'product': 'NRML', 'quantity': 3, 'disclosed_quantity': 0, 'price': 0, 'trigger_price': 0, 'average_price': 0, 'filled_quantity': 0, 'pending_quantity': 3, 'cancelled_quantity': 0, 'market_protection': 0, 'meta': {}, 'tag': None, 'guid': '18679Xsv8Q6CVzhG6E'}\n",
      "order update:  {'account_id': 'FC5917', 'unfilled_quantity': 0, 'checksum': '', 'placed_by': 'FC5917', 'order_id': '201028004312437', 'exchange_order_id': '1000000002272119', 'parent_order_id': None, 'status': 'COMPLETE', 'status_message': None, 'status_message_raw': None, 'order_timestamp': '2020-10-28 16:56:12', 'exchange_update_timestamp': '2020-10-28 16:56:12', 'exchange_timestamp': '2020-10-28 16:56:12', 'variety': 'regular', 'exchange': 'CDS', 'tradingsymbol': 'USDINR20NOVFUT', 'instrument_token': 780803, 'order_type': 'MARKET', 'transaction_type': 'BUY', 'validity': 'DAY', 'product': 'NRML', 'quantity': 3, 'disclosed_quantity': 0, 'price': 0, 'trigger_price': 0, 'average_price': 74.065, 'filled_quantity': 3, 'pending_quantity': 0, 'cancelled_quantity': 0, 'market_protection': 0, 'meta': {}, 'tag': None, 'guid': '18679Xsv8Q6CVzhG6E'}\n",
      "=====================================\n",
      "LTP : 74.065\n"
     ]
    },
    {
     "name": "stderr",
     "output_type": "stream",
     "text": [
      "2020-10-28 16:56:12.606 | DEBUG    | __main__:getquant:11 - My Quantity : 3\n",
      "2020-10-28 16:56:12.608 | DEBUG    | __main__:get_completed_orders:3 - get_completed_orders : \n"
     ]
    },
    {
     "name": "stdout",
     "output_type": "stream",
     "text": [
      "My Quantity : 3\n"
     ]
    },
    {
     "name": "stderr",
     "output_type": "stream",
     "text": [
      "2020-10-28 16:56:13.060 | DEBUG    | __main__:get_completed_orders:13 - last_completed_orders : {'placed_by': 'FC5917', 'order_id': '201028004312437', 'exchange_order_id': '1000000002272119', 'parent_order_id': None, 'status': 'COMPLETE', 'status_message': None, 'status_message_raw': None, 'order_timestamp': datetime.datetime(2020, 10, 28, 16, 56, 12), 'exchange_update_timestamp': '2020-10-28 16:56:12', 'exchange_timestamp': datetime.datetime(2020, 10, 28, 16, 56, 12), 'variety': 'regular', 'exchange': 'CDS', 'tradingsymbol': 'USDINR20NOVFUT', 'instrument_token': 780803, 'order_type': 'MARKET', 'transaction_type': 'BUY', 'validity': 'DAY', 'product': 'NRML', 'quantity': 3, 'disclosed_quantity': 0, 'price': 0, 'trigger_price': 0, 'average_price': 74.065, 'filled_quantity': 3, 'pending_quantity': 0, 'cancelled_quantity': 0, 'market_protection': 0, 'meta': {}, 'tag': None, 'guid': '18679Xsv8Q6CVzhG6E'}\n",
      "2020-10-28 16:56:13.061 | DEBUG    | __main__:get_completed_orders:14 - last_completed_orders_price : 74.065\n",
      "2020-10-28 16:56:13.063 | DEBUG    | __main__:calcsteps:3 - calc_steps : (3,74.065) : \n",
      "2020-10-28 16:56:13.064 | DEBUG    | __main__:calcsteps:37 - p0q : 0\n",
      "2020-10-28 16:56:13.066 | DEBUG    | __main__:calcsteps:38 - p0 : 74.075\n",
      "2020-10-28 16:56:13.068 | DEBUG    | __main__:calcsteps:42 - base quant : 3\n",
      "2020-10-28 16:56:13.069 | DEBUG    | __main__:calcsteps:43 - base_price : 74.065\n",
      "2020-10-28 16:56:13.071 | DEBUG    | __main__:calcsteps:48 - p1q : 3\n",
      "2020-10-28 16:56:13.072 | DEBUG    | __main__:calcsteps:50 - p1 : 74.065\n",
      "2020-10-28 16:56:13.074 | DEBUG    | __main__:calcsteps:55 - p2q : 4\n",
      "2020-10-28 16:56:13.075 | DEBUG    | __main__:calcsteps:58 - p2 : 74.045\n",
      "2020-10-28 16:56:13.076 | DEBUG    | __main__:calcsteps:55 - p3q : 5\n",
      "2020-10-28 16:56:13.077 | DEBUG    | __main__:calcsteps:58 - p3 : 74.025\n",
      "2020-10-28 16:56:13.080 | DEBUG    | __main__:calcsteps:55 - p4q : 6\n",
      "2020-10-28 16:56:13.082 | DEBUG    | __main__:calcsteps:58 - p4 : 73.995\n",
      "2020-10-28 16:56:13.084 | DEBUG    | __main__:calcsteps:55 - p5q : 7\n",
      "2020-10-28 16:56:13.086 | DEBUG    | __main__:calcsteps:58 - p5 : 73.945\n",
      "2020-10-28 16:56:13.088 | DEBUG    | __main__:calcsteps:55 - p6q : 8\n",
      "2020-10-28 16:56:13.090 | DEBUG    | __main__:calcsteps:58 - p6 : 73.915\n",
      "2020-10-28 16:56:13.091 | DEBUG    | __main__:calcsteps:55 - p7q : 9\n",
      "2020-10-28 16:56:13.092 | DEBUG    | __main__:calcsteps:58 - p7 : 73.865\n",
      "2020-10-28 16:56:13.095 | DEBUG    | __main__:calcsteps:55 - p8q : 10\n"
     ]
    },
    {
     "name": "stdout",
     "output_type": "stream",
     "text": [
      "=====================================\n",
      "LTP : 74.065\n",
      "p0q : 0\n",
      "p0 : 74.075\n",
      "\n",
      "base quant : 3\n",
      "base_price : 74.065\n",
      "\n",
      "p1q : 3\n",
      "p1 : 74.065\n",
      "p2q : 4\n",
      "p2 : 74.045\n",
      "p3q : 5\n",
      "p3 : 74.025\n",
      "p4q : 6\n",
      "p4 : 73.995\n",
      "p5q : 7\n",
      "p5 : 73.945\n",
      "p6q : 8\n",
      "p6 : 73.915\n",
      "p7q : 9\n",
      "p7 : 73.865\n",
      "p8q : 10\n"
     ]
    },
    {
     "name": "stderr",
     "output_type": "stream",
     "text": [
      "2020-10-28 16:56:13.098 | DEBUG    | __main__:calcsteps:58 - p8 : 73.765\n",
      "2020-10-28 16:56:13.100 | DEBUG    | __main__:ckqnt:51 - ckqnt @ (74.075,0) in ckqnt\n",
      "2020-10-28 16:56:13.102 | DEBUG    | __main__:ckqnt:54 - -3 = 0-3 in ckqnt\n",
      "2020-10-28 16:56:13.103 | DEBUG    | __main__:placeneworder:7 - placeneworder @ (-3,74.075)\n"
     ]
    },
    {
     "name": "stdout",
     "output_type": "stream",
     "text": [
      "p8 : 73.765\n"
     ]
    },
    {
     "name": "stderr",
     "output_type": "stream",
     "text": [
      "2020-10-28 16:56:13.430 | DEBUG    | __main__:on_order_update:43 - on_order_update : \n",
      "2020-10-28 16:56:13.464 | DEBUG    | __main__:placeneworder:40 - Order Successfully Placed @ NRML -3 74.075\n",
      "2020-10-28 16:56:13.465 | DEBUG    | __main__:getquant:4 - getquant : \n"
     ]
    },
    {
     "name": "stdout",
     "output_type": "stream",
     "text": [
      "order update:  {'account_id': 'FC5917', 'unfilled_quantity': 0, 'checksum': '', 'placed_by': 'FC5917', 'order_id': '201028004312441', 'exchange_order_id': '1000000002272179', 'parent_order_id': None, 'status': 'OPEN', 'status_message': None, 'status_message_raw': None, 'order_timestamp': '2020-10-28 16:56:13', 'exchange_update_timestamp': '2020-10-28 16:56:13', 'exchange_timestamp': '2020-10-28 16:56:13', 'variety': 'regular', 'exchange': 'CDS', 'tradingsymbol': 'USDINR20NOVFUT', 'instrument_token': 780803, 'order_type': 'LIMIT', 'transaction_type': 'SELL', 'validity': 'DAY', 'product': 'NRML', 'quantity': 3, 'disclosed_quantity': 0, 'price': 74.075, 'trigger_price': 0, 'average_price': 0, 'filled_quantity': 0, 'pending_quantity': 3, 'cancelled_quantity': 0, 'market_protection': 0, 'meta': {}, 'tag': None, 'guid': '18679XWAC19ZYX6axp'}\n",
      "=====================================\n",
      "LTP : 74.065\n"
     ]
    },
    {
     "name": "stderr",
     "output_type": "stream",
     "text": [
      "2020-10-28 16:56:13.794 | DEBUG    | __main__:getquant:11 - My Quantity : 3\n",
      "2020-10-28 16:56:13.796 | DEBUG    | __main__:update_status:30 - Order Placed @ 0 Limit : 74.075 and Succeeded : True\n"
     ]
    },
    {
     "name": "stdout",
     "output_type": "stream",
     "text": [
      "My Quantity : 3\n",
      "=====================================\n",
      "LTP : 74.065\n",
      "=====================================\n",
      "LTP : 74.065\n",
      "=====================================\n",
      "LTP : 74.065\n",
      "=====================================\n",
      "LTP : 74.06\n",
      "=====================================\n",
      "LTP : 74.0625\n"
     ]
    },
    {
     "name": "stderr",
     "output_type": "stream",
     "text": [
      "2020-10-28 16:56:20.120 | DEBUG    | __main__:calc_and_update:59 - calc_and_update :  in calc_and_update\n"
     ]
    },
    {
     "name": "stdout",
     "output_type": "stream",
     "text": [
      "in the thread : \n",
      "=====================================\n",
      "LTP : 74.065\n"
     ]
    },
    {
     "name": "stderr",
     "output_type": "stream",
     "text": [
      "2020-10-28 16:56:20.835 | DEBUG    | __main__:calc_and_update:59 - calc_and_update :  in calc_and_update\n"
     ]
    },
    {
     "name": "stdout",
     "output_type": "stream",
     "text": [
      "in the thread : \n",
      "=====================================\n",
      "LTP : 74.0625\n"
     ]
    },
    {
     "name": "stderr",
     "output_type": "stream",
     "text": [
      "2020-10-28 16:56:21.057 | DEBUG    | __main__:calc_rsi:24 - current_rsi : 37.1133\n",
      "2020-10-28 16:56:21.059 | DEBUG    | __main__:getquant:4 - getquant : \n"
     ]
    },
    {
     "name": "stdout",
     "output_type": "stream",
     "text": [
      "Current RSI : 37.1133\n"
     ]
    },
    {
     "name": "stderr",
     "output_type": "stream",
     "text": [
      "2020-10-28 16:56:21.435 | DEBUG    | __main__:getquant:11 - My Quantity : 3\n",
      "2020-10-28 16:56:21.436 | DEBUG    | __main__:update_status:39 - Current Point : 1\n",
      "2020-10-28 16:56:21.437 | DEBUG    | __main__:update_status:44 - Next Point : 2\n",
      "2020-10-28 16:56:21.438 | DEBUG    | __main__:get_pending_orders:3 - get_pending_orders : \n"
     ]
    },
    {
     "name": "stdout",
     "output_type": "stream",
     "text": [
      "My Quantity : 3\n"
     ]
    },
    {
     "name": "stderr",
     "output_type": "stream",
     "text": [
      "2020-10-28 16:56:21.838 | DEBUG    | __main__:calc_rsi:24 - current_rsi : 37.1133\n",
      "2020-10-28 16:56:21.840 | DEBUG    | __main__:getquant:4 - getquant : \n"
     ]
    },
    {
     "name": "stdout",
     "output_type": "stream",
     "text": [
      "Current RSI : 37.1133\n",
      "=====================================\n",
      "LTP : 74.0625\n"
     ]
    },
    {
     "name": "stderr",
     "output_type": "stream",
     "text": [
      "2020-10-28 16:56:22.201 | DEBUG    | __main__:get_pending_orders:12 - pending_orders : [{'placed_by': 'FC5917', 'order_id': '201028004312441', 'exchange_order_id': '1000000002272179', 'parent_order_id': None, 'status': 'OPEN', 'status_message': None, 'status_message_raw': None, 'order_timestamp': datetime.datetime(2020, 10, 28, 16, 56, 13), 'exchange_update_timestamp': '2020-10-28 16:56:13', 'exchange_timestamp': datetime.datetime(2020, 10, 28, 16, 56, 13), 'variety': 'regular', 'exchange': 'CDS', 'tradingsymbol': 'USDINR20NOVFUT', 'instrument_token': 780803, 'order_type': 'LIMIT', 'transaction_type': 'SELL', 'validity': 'DAY', 'product': 'NRML', 'quantity': 3, 'disclosed_quantity': 0, 'price': 74.075, 'trigger_price': 0, 'average_price': 0, 'filled_quantity': 0, 'pending_quantity': 3, 'cancelled_quantity': 0, 'market_protection': 0, 'meta': {}, 'tag': None, 'guid': '18679XWAC19ZYX6axp'}]\n",
      "2020-10-28 16:56:22.203 | DEBUG    | __main__:ckqnt:51 - ckqnt @ (74.045,4) in ckqnt\n",
      "2020-10-28 16:56:22.204 | DEBUG    | __main__:ckqnt:54 - 1 = 4-3 in ckqnt\n",
      "2020-10-28 16:56:22.205 | DEBUG    | __main__:placeneworder:7 - placeneworder @ (1,74.045)\n",
      "2020-10-28 16:56:22.217 | DEBUG    | __main__:getquant:11 - My Quantity : 3\n",
      "2020-10-28 16:56:22.219 | DEBUG    | __main__:update_status:39 - Current Point : 1\n",
      "2020-10-28 16:56:22.220 | DEBUG    | __main__:update_status:44 - Next Point : 2\n",
      "2020-10-28 16:56:22.223 | DEBUG    | __main__:get_pending_orders:3 - get_pending_orders : \n"
     ]
    },
    {
     "name": "stdout",
     "output_type": "stream",
     "text": [
      "My Quantity : 3\n"
     ]
    },
    {
     "name": "stderr",
     "output_type": "stream",
     "text": [
      "2020-10-28 16:56:22.685 | DEBUG    | __main__:get_pending_orders:12 - pending_orders : [{'placed_by': 'FC5917', 'order_id': '201028004312441', 'exchange_order_id': '1000000002272179', 'parent_order_id': None, 'status': 'OPEN', 'status_message': None, 'status_message_raw': None, 'order_timestamp': datetime.datetime(2020, 10, 28, 16, 56, 13), 'exchange_update_timestamp': '2020-10-28 16:56:13', 'exchange_timestamp': datetime.datetime(2020, 10, 28, 16, 56, 13), 'variety': 'regular', 'exchange': 'CDS', 'tradingsymbol': 'USDINR20NOVFUT', 'instrument_token': 780803, 'order_type': 'LIMIT', 'transaction_type': 'SELL', 'validity': 'DAY', 'product': 'NRML', 'quantity': 3, 'disclosed_quantity': 0, 'price': 74.075, 'trigger_price': 0, 'average_price': 0, 'filled_quantity': 0, 'pending_quantity': 3, 'cancelled_quantity': 0, 'market_protection': 0, 'meta': {}, 'tag': None, 'guid': '18679XWAC19ZYX6axp'}]\n",
      "2020-10-28 16:56:22.686 | DEBUG    | __main__:on_order_update:43 - on_order_update : \n",
      "2020-10-28 16:56:22.689 | DEBUG    | __main__:ckqnt:51 - ckqnt @ (74.045,4) in ckqnt\n",
      "2020-10-28 16:56:22.692 | DEBUG    | __main__:ckqnt:54 - 1 = 4-3 in ckqnt\n",
      "2020-10-28 16:56:22.694 | DEBUG    | __main__:placeneworder:7 - placeneworder @ (1,74.045)\n",
      "2020-10-28 16:56:22.714 | DEBUG    | __main__:placeneworder:20 - Order Successfully Placed @ NRML 1 74.045\n",
      "2020-10-28 16:56:22.716 | DEBUG    | __main__:getquant:4 - getquant : \n"
     ]
    },
    {
     "name": "stdout",
     "output_type": "stream",
     "text": [
      "order update:  {'account_id': 'FC5917', 'unfilled_quantity': 0, 'checksum': '', 'placed_by': 'FC5917', 'order_id': '201028004312462', 'exchange_order_id': '1000000002272649', 'parent_order_id': None, 'status': 'OPEN', 'status_message': None, 'status_message_raw': None, 'order_timestamp': '2020-10-28 16:56:22', 'exchange_update_timestamp': '2020-10-28 16:56:22', 'exchange_timestamp': '2020-10-28 16:56:22', 'variety': 'regular', 'exchange': 'CDS', 'tradingsymbol': 'USDINR20NOVFUT', 'instrument_token': 780803, 'order_type': 'LIMIT', 'transaction_type': 'BUY', 'validity': 'DAY', 'product': 'NRML', 'quantity': 1, 'disclosed_quantity': 0, 'price': 74.045, 'trigger_price': 0, 'average_price': 0, 'filled_quantity': 0, 'pending_quantity': 1, 'cancelled_quantity': 0, 'market_protection': 0, 'meta': {}, 'tag': None, 'guid': '18679XUwRxCDIVe0PJ'}\n"
     ]
    },
    {
     "name": "stderr",
     "output_type": "stream",
     "text": [
      "2020-10-28 16:56:23.125 | DEBUG    | __main__:on_order_update:43 - on_order_update : \n",
      "2020-10-28 16:56:23.195 | DEBUG    | __main__:placeneworder:20 - Order Successfully Placed @ NRML 1 74.045\n",
      "2020-10-28 16:56:23.196 | DEBUG    | __main__:getquant:4 - getquant : \n",
      "2020-10-28 16:56:23.219 | DEBUG    | __main__:getquant:11 - My Quantity : 3\n",
      "2020-10-28 16:56:23.220 | DEBUG    | __main__:update_status:54 - ckqnt @ 74.045 : 4\n"
     ]
    },
    {
     "name": "stdout",
     "output_type": "stream",
     "text": [
      "=====================================\n",
      "LTP : 74.0625\n",
      "order update:  {'account_id': 'FC5917', 'unfilled_quantity': 0, 'checksum': '', 'placed_by': 'FC5917', 'order_id': '201028004312463', 'exchange_order_id': '1000000002272661', 'parent_order_id': None, 'status': 'OPEN', 'status_message': None, 'status_message_raw': None, 'order_timestamp': '2020-10-28 16:56:23', 'exchange_update_timestamp': '2020-10-28 16:56:23', 'exchange_timestamp': '2020-10-28 16:56:23', 'variety': 'regular', 'exchange': 'CDS', 'tradingsymbol': 'USDINR20NOVFUT', 'instrument_token': 780803, 'order_type': 'LIMIT', 'transaction_type': 'BUY', 'validity': 'DAY', 'product': 'NRML', 'quantity': 1, 'disclosed_quantity': 0, 'price': 74.045, 'trigger_price': 0, 'average_price': 0, 'filled_quantity': 0, 'pending_quantity': 1, 'cancelled_quantity': 0, 'market_protection': 0, 'meta': {}, 'tag': None, 'guid': '18679XRjYesHYvCx1x'}\n",
      "My Quantity : 3\n"
     ]
    },
    {
     "name": "stderr",
     "output_type": "stream",
     "text": [
      "2020-10-28 16:56:23.617 | DEBUG    | __main__:getquant:11 - My Quantity : 3\n",
      "2020-10-28 16:56:23.619 | DEBUG    | __main__:update_status:54 - ckqnt @ 74.045 : 4\n"
     ]
    },
    {
     "name": "stdout",
     "output_type": "stream",
     "text": [
      "My Quantity : 3\n",
      "=====================================\n",
      "LTP : 74.0625\n",
      "=====================================\n",
      "LTP : 74.0625\n",
      "=====================================\n",
      "LTP : 74.0625\n",
      "=====================================\n",
      "LTP : 74.0625\n",
      "=====================================\n",
      "LTP : 74.06\n",
      "=====================================\n",
      "LTP : 74.06\n",
      "=====================================\n",
      "LTP : 74.06\n",
      "=====================================\n",
      "LTP : 74.0625\n",
      "=====================================\n",
      "LTP : 74.0625\n"
     ]
    },
    {
     "name": "stderr",
     "output_type": "stream",
     "text": [
      "2020-10-28 16:56:30.312 | DEBUG    | __main__:calc_and_update:59 - calc_and_update :  in calc_and_update\n"
     ]
    },
    {
     "name": "stdout",
     "output_type": "stream",
     "text": [
      "in the thread : \n",
      "=====================================\n",
      "LTP : 74.0625\n"
     ]
    },
    {
     "name": "stderr",
     "output_type": "stream",
     "text": [
      "2020-10-28 16:56:30.911 | DEBUG    | __main__:calc_and_update:59 - calc_and_update :  in calc_and_update\n"
     ]
    },
    {
     "name": "stdout",
     "output_type": "stream",
     "text": [
      "in the thread : \n",
      "=====================================\n",
      "LTP : 74.065\n"
     ]
    },
    {
     "name": "stderr",
     "output_type": "stream",
     "text": [
      "2020-10-28 16:56:31.280 | DEBUG    | __main__:calc_rsi:24 - current_rsi : 37.1133\n",
      "2020-10-28 16:56:31.282 | DEBUG    | __main__:getquant:4 - getquant : \n"
     ]
    },
    {
     "name": "stdout",
     "output_type": "stream",
     "text": [
      "Current RSI : 37.1133\n"
     ]
    },
    {
     "name": "stderr",
     "output_type": "stream",
     "text": [
      "2020-10-28 16:56:31.656 | DEBUG    | __main__:getquant:11 - My Quantity : 3\n",
      "2020-10-28 16:56:31.710 | DEBUG    | __main__:update_status:39 - Current Point : 1\n",
      "2020-10-28 16:56:31.758 | DEBUG    | __main__:update_status:44 - Next Point : 2\n",
      "2020-10-28 16:56:31.811 | DEBUG    | __main__:get_pending_orders:3 - get_pending_orders : \n",
      "2020-10-28 16:56:31.853 | DEBUG    | __main__:calc_rsi:24 - current_rsi : 37.1133\n",
      "2020-10-28 16:56:31.855 | DEBUG    | __main__:getquant:4 - getquant : \n"
     ]
    },
    {
     "name": "stdout",
     "output_type": "stream",
     "text": [
      "My Quantity : 3\n",
      "Current RSI : 37.1133\n",
      "=====================================\n",
      "LTP : 74.065\n"
     ]
    },
    {
     "name": "stderr",
     "output_type": "stream",
     "text": [
      "2020-10-28 16:56:32.367 | DEBUG    | __main__:get_pending_orders:12 - pending_orders : [{'placed_by': 'FC5917', 'order_id': '201028004312441', 'exchange_order_id': '1000000002272179', 'parent_order_id': None, 'status': 'OPEN', 'status_message': None, 'status_message_raw': None, 'order_timestamp': datetime.datetime(2020, 10, 28, 16, 56, 13), 'exchange_update_timestamp': '2020-10-28 16:56:13', 'exchange_timestamp': datetime.datetime(2020, 10, 28, 16, 56, 13), 'variety': 'regular', 'exchange': 'CDS', 'tradingsymbol': 'USDINR20NOVFUT', 'instrument_token': 780803, 'order_type': 'LIMIT', 'transaction_type': 'SELL', 'validity': 'DAY', 'product': 'NRML', 'quantity': 3, 'disclosed_quantity': 0, 'price': 74.075, 'trigger_price': 0, 'average_price': 0, 'filled_quantity': 0, 'pending_quantity': 3, 'cancelled_quantity': 0, 'market_protection': 0, 'meta': {}, 'tag': None, 'guid': '18679XWAC19ZYX6axp'}, {'placed_by': 'FC5917', 'order_id': '201028004312462', 'exchange_order_id': '1000000002272649', 'parent_order_id': None, 'status': 'OPEN', 'status_message': None, 'status_message_raw': None, 'order_timestamp': datetime.datetime(2020, 10, 28, 16, 56, 22), 'exchange_update_timestamp': '2020-10-28 16:56:22', 'exchange_timestamp': datetime.datetime(2020, 10, 28, 16, 56, 22), 'variety': 'regular', 'exchange': 'CDS', 'tradingsymbol': 'USDINR20NOVFUT', 'instrument_token': 780803, 'order_type': 'LIMIT', 'transaction_type': 'BUY', 'validity': 'DAY', 'product': 'NRML', 'quantity': 1, 'disclosed_quantity': 0, 'price': 74.045, 'trigger_price': 0, 'average_price': 0, 'filled_quantity': 0, 'pending_quantity': 1, 'cancelled_quantity': 0, 'market_protection': 0, 'meta': {}, 'tag': None, 'guid': '18679XUwRxCDIVe0PJ'}, {'placed_by': 'FC5917', 'order_id': '201028004312463', 'exchange_order_id': '1000000002272661', 'parent_order_id': None, 'status': 'OPEN', 'status_message': None, 'status_message_raw': None, 'order_timestamp': datetime.datetime(2020, 10, 28, 16, 56, 23), 'exchange_update_timestamp': '2020-10-28 16:56:23', 'exchange_timestamp': datetime.datetime(2020, 10, 28, 16, 56, 23), 'variety': 'regular', 'exchange': 'CDS', 'tradingsymbol': 'USDINR20NOVFUT', 'instrument_token': 780803, 'order_type': 'LIMIT', 'transaction_type': 'BUY', 'validity': 'DAY', 'product': 'NRML', 'quantity': 1, 'disclosed_quantity': 0, 'price': 74.045, 'trigger_price': 0, 'average_price': 0, 'filled_quantity': 0, 'pending_quantity': 1, 'cancelled_quantity': 0, 'market_protection': 0, 'meta': {}, 'tag': None, 'guid': '18679XRjYesHYvCx1x'}]\n",
      "2020-10-28 16:56:32.369 | DEBUG    | __main__:ckqnt:51 - ckqnt @ (74.045,4) in ckqnt\n",
      "2020-10-28 16:56:32.370 | DEBUG    | __main__:ckqnt:54 - 1 = 4-3 in ckqnt\n",
      "2020-10-28 16:56:32.372 | DEBUG    | __main__:placeneworder:7 - placeneworder @ (1,74.045)\n",
      "2020-10-28 16:56:32.586 | DEBUG    | __main__:getquant:11 - My Quantity : 3\n",
      "2020-10-28 16:56:32.587 | DEBUG    | __main__:update_status:39 - Current Point : 1\n",
      "2020-10-28 16:56:32.588 | DEBUG    | __main__:update_status:44 - Next Point : 2\n",
      "2020-10-28 16:56:32.589 | DEBUG    | __main__:get_pending_orders:3 - get_pending_orders : \n"
     ]
    },
    {
     "name": "stdout",
     "output_type": "stream",
     "text": [
      "My Quantity : 3\n",
      "=====================================\n",
      "LTP : 74.065\n"
     ]
    },
    {
     "name": "stderr",
     "output_type": "stream",
     "text": [
      "2020-10-28 16:56:32.838 | DEBUG    | __main__:on_order_update:43 - on_order_update : \n",
      "2020-10-28 16:56:32.925 | DEBUG    | __main__:placeneworder:20 - Order Successfully Placed @ NRML 1 74.045\n",
      "2020-10-28 16:56:32.926 | DEBUG    | __main__:getquant:4 - getquant : \n"
     ]
    },
    {
     "name": "stdout",
     "output_type": "stream",
     "text": [
      "order update:  {'account_id': 'FC5917', 'unfilled_quantity': 0, 'checksum': '', 'placed_by': 'FC5917', 'order_id': '201028004312490', 'exchange_order_id': '1000000002273237', 'parent_order_id': None, 'status': 'OPEN', 'status_message': None, 'status_message_raw': None, 'order_timestamp': '2020-10-28 16:56:32', 'exchange_update_timestamp': '2020-10-28 16:56:32', 'exchange_timestamp': '2020-10-28 16:56:32', 'variety': 'regular', 'exchange': 'CDS', 'tradingsymbol': 'USDINR20NOVFUT', 'instrument_token': 780803, 'order_type': 'LIMIT', 'transaction_type': 'BUY', 'validity': 'DAY', 'product': 'NRML', 'quantity': 1, 'disclosed_quantity': 0, 'price': 74.045, 'trigger_price': 0, 'average_price': 0, 'filled_quantity': 0, 'pending_quantity': 1, 'cancelled_quantity': 0, 'market_protection': 0, 'meta': {}, 'tag': None, 'guid': '18679XAOaQ9z1T7URF'}\n"
     ]
    },
    {
     "name": "stderr",
     "output_type": "stream",
     "text": [
      "2020-10-28 16:56:33.055 | DEBUG    | __main__:get_pending_orders:12 - pending_orders : [{'placed_by': 'FC5917', 'order_id': '201028004312441', 'exchange_order_id': '1000000002272179', 'parent_order_id': None, 'status': 'OPEN', 'status_message': None, 'status_message_raw': None, 'order_timestamp': datetime.datetime(2020, 10, 28, 16, 56, 13), 'exchange_update_timestamp': '2020-10-28 16:56:13', 'exchange_timestamp': datetime.datetime(2020, 10, 28, 16, 56, 13), 'variety': 'regular', 'exchange': 'CDS', 'tradingsymbol': 'USDINR20NOVFUT', 'instrument_token': 780803, 'order_type': 'LIMIT', 'transaction_type': 'SELL', 'validity': 'DAY', 'product': 'NRML', 'quantity': 3, 'disclosed_quantity': 0, 'price': 74.075, 'trigger_price': 0, 'average_price': 0, 'filled_quantity': 0, 'pending_quantity': 3, 'cancelled_quantity': 0, 'market_protection': 0, 'meta': {}, 'tag': None, 'guid': '18679XWAC19ZYX6axp'}, {'placed_by': 'FC5917', 'order_id': '201028004312462', 'exchange_order_id': '1000000002272649', 'parent_order_id': None, 'status': 'OPEN', 'status_message': None, 'status_message_raw': None, 'order_timestamp': datetime.datetime(2020, 10, 28, 16, 56, 22), 'exchange_update_timestamp': '2020-10-28 16:56:22', 'exchange_timestamp': datetime.datetime(2020, 10, 28, 16, 56, 22), 'variety': 'regular', 'exchange': 'CDS', 'tradingsymbol': 'USDINR20NOVFUT', 'instrument_token': 780803, 'order_type': 'LIMIT', 'transaction_type': 'BUY', 'validity': 'DAY', 'product': 'NRML', 'quantity': 1, 'disclosed_quantity': 0, 'price': 74.045, 'trigger_price': 0, 'average_price': 0, 'filled_quantity': 0, 'pending_quantity': 1, 'cancelled_quantity': 0, 'market_protection': 0, 'meta': {}, 'tag': None, 'guid': '18679XUwRxCDIVe0PJ'}, {'placed_by': 'FC5917', 'order_id': '201028004312463', 'exchange_order_id': '1000000002272661', 'parent_order_id': None, 'status': 'OPEN', 'status_message': None, 'status_message_raw': None, 'order_timestamp': datetime.datetime(2020, 10, 28, 16, 56, 23), 'exchange_update_timestamp': '2020-10-28 16:56:23', 'exchange_timestamp': datetime.datetime(2020, 10, 28, 16, 56, 23), 'variety': 'regular', 'exchange': 'CDS', 'tradingsymbol': 'USDINR20NOVFUT', 'instrument_token': 780803, 'order_type': 'LIMIT', 'transaction_type': 'BUY', 'validity': 'DAY', 'product': 'NRML', 'quantity': 1, 'disclosed_quantity': 0, 'price': 74.045, 'trigger_price': 0, 'average_price': 0, 'filled_quantity': 0, 'pending_quantity': 1, 'cancelled_quantity': 0, 'market_protection': 0, 'meta': {}, 'tag': None, 'guid': '18679XRjYesHYvCx1x'}, {'placed_by': 'FC5917', 'order_id': '201028004312490', 'exchange_order_id': '1000000002273237', 'parent_order_id': None, 'status': 'OPEN', 'status_message': None, 'status_message_raw': None, 'order_timestamp': datetime.datetime(2020, 10, 28, 16, 56, 32), 'exchange_update_timestamp': '2020-10-28 16:56:32', 'exchange_timestamp': datetime.datetime(2020, 10, 28, 16, 56, 32), 'variety': 'regular', 'exchange': 'CDS', 'tradingsymbol': 'USDINR20NOVFUT', 'instrument_token': 780803, 'order_type': 'LIMIT', 'transaction_type': 'BUY', 'validity': 'DAY', 'product': 'NRML', 'quantity': 1, 'disclosed_quantity': 0, 'price': 74.045, 'trigger_price': 0, 'average_price': 0, 'filled_quantity': 0, 'pending_quantity': 1, 'cancelled_quantity': 0, 'market_protection': 0, 'meta': {}, 'tag': None, 'guid': '18679XAOaQ9z1T7URF'}]\n",
      "2020-10-28 16:56:33.056 | DEBUG    | __main__:ckqnt:51 - ckqnt @ (74.045,4) in ckqnt\n",
      "2020-10-28 16:56:33.058 | DEBUG    | __main__:ckqnt:54 - 1 = 4-3 in ckqnt\n",
      "2020-10-28 16:56:33.060 | DEBUG    | __main__:placeneworder:7 - placeneworder @ (1,74.045)\n",
      "2020-10-28 16:56:33.261 | DEBUG    | __main__:getquant:11 - My Quantity : 3\n",
      "2020-10-28 16:56:33.262 | DEBUG    | __main__:update_status:54 - ckqnt @ 74.045 : 4\n",
      "2020-10-28 16:56:33.264 | DEBUG    | __main__:ckqnt:51 - ckqnt @ (74.045,4) in ckqnt\n",
      "2020-10-28 16:56:33.266 | DEBUG    | __main__:ckqnt:54 - 1 = 4-3 in ckqnt\n",
      "2020-10-28 16:56:33.267 | DEBUG    | __main__:placeneworder:7 - placeneworder @ (1,74.045)\n",
      "2020-10-28 16:56:33.360 | DEBUG    | __main__:on_order_update:43 - on_order_update : \n",
      "2020-10-28 16:56:33.448 | DEBUG    | __main__:placeneworder:20 - Order Successfully Placed @ NRML 1 74.045\n",
      "2020-10-28 16:56:33.450 | DEBUG    | __main__:getquant:4 - getquant : \n"
     ]
    },
    {
     "name": "stdout",
     "output_type": "stream",
     "text": [
      "My Quantity : 3\n",
      "order update:  {'account_id': 'FC5917', 'unfilled_quantity': 0, 'checksum': '', 'placed_by': 'FC5917', 'order_id': '201028004312491', 'exchange_order_id': '1000000002273251', 'parent_order_id': None, 'status': 'OPEN', 'status_message': None, 'status_message_raw': None, 'order_timestamp': '2020-10-28 16:56:33', 'exchange_update_timestamp': '2020-10-28 16:56:33', 'exchange_timestamp': '2020-10-28 16:56:33', 'variety': 'regular', 'exchange': 'CDS', 'tradingsymbol': 'USDINR20NOVFUT', 'instrument_token': 780803, 'order_type': 'LIMIT', 'transaction_type': 'BUY', 'validity': 'DAY', 'product': 'NRML', 'quantity': 1, 'disclosed_quantity': 0, 'price': 74.045, 'trigger_price': 0, 'average_price': 0, 'filled_quantity': 0, 'pending_quantity': 1, 'cancelled_quantity': 0, 'market_protection': 0, 'meta': {}, 'tag': None, 'guid': '18679XRcmFpEjvmH0L'}\n"
     ]
    },
    {
     "name": "stderr",
     "output_type": "stream",
     "text": [
      "2020-10-28 16:56:33.701 | DEBUG    | __main__:on_order_update:43 - on_order_update : \n",
      "2020-10-28 16:56:33.755 | DEBUG    | __main__:placeneworder:20 - Order Successfully Placed @ NRML 1 74.045\n",
      "2020-10-28 16:56:33.756 | DEBUG    | __main__:getquant:4 - getquant : \n",
      "2020-10-28 16:56:33.865 | DEBUG    | __main__:getquant:11 - My Quantity : 3\n",
      "2020-10-28 16:56:33.866 | DEBUG    | __main__:update_status:54 - ckqnt @ 74.045 : 4\n",
      "2020-10-28 16:56:33.868 | DEBUG    | __main__:ckqnt:51 - ckqnt @ (74.045,4) in ckqnt\n",
      "2020-10-28 16:56:33.869 | DEBUG    | __main__:ckqnt:54 - 1 = 4-3 in ckqnt\n",
      "2020-10-28 16:56:33.870 | DEBUG    | __main__:placeneworder:7 - placeneworder @ (1,74.045)\n"
     ]
    },
    {
     "name": "stdout",
     "output_type": "stream",
     "text": [
      "order update:  {'account_id': 'FC5917', 'unfilled_quantity': 0, 'checksum': '', 'placed_by': 'FC5917', 'order_id': '201028004312492', 'exchange_order_id': '1000000002273262', 'parent_order_id': None, 'status': 'OPEN', 'status_message': None, 'status_message_raw': None, 'order_timestamp': '2020-10-28 16:56:33', 'exchange_update_timestamp': '2020-10-28 16:56:33', 'exchange_timestamp': '2020-10-28 16:56:33', 'variety': 'regular', 'exchange': 'CDS', 'tradingsymbol': 'USDINR20NOVFUT', 'instrument_token': 780803, 'order_type': 'LIMIT', 'transaction_type': 'BUY', 'validity': 'DAY', 'product': 'NRML', 'quantity': 1, 'disclosed_quantity': 0, 'price': 74.045, 'trigger_price': 0, 'average_price': 0, 'filled_quantity': 0, 'pending_quantity': 1, 'cancelled_quantity': 0, 'market_protection': 0, 'meta': {}, 'tag': None, 'guid': '18679XTRNgQ8PQh6Fu'}\n",
      "My Quantity : 3\n",
      "=====================================\n",
      "LTP : 74.065\n"
     ]
    },
    {
     "name": "stderr",
     "output_type": "stream",
     "text": [
      "2020-10-28 16:56:34.127 | DEBUG    | __main__:getquant:11 - My Quantity : 3\n",
      "2020-10-28 16:56:34.129 | DEBUG    | __main__:update_status:54 - ckqnt @ 74.045 : 4\n",
      "2020-10-28 16:56:34.130 | DEBUG    | __main__:ckqnt:51 - ckqnt @ (74.045,4) in ckqnt\n",
      "2020-10-28 16:56:34.133 | DEBUG    | __main__:ckqnt:54 - 1 = 4-3 in ckqnt\n",
      "2020-10-28 16:56:34.134 | DEBUG    | __main__:placeneworder:7 - placeneworder @ (1,74.045)\n",
      "2020-10-28 16:56:34.192 | DEBUG    | __main__:on_order_update:43 - on_order_update : \n",
      "2020-10-28 16:56:34.242 | DEBUG    | __main__:placeneworder:20 - Order Successfully Placed @ NRML 1 74.045\n",
      "2020-10-28 16:56:34.243 | DEBUG    | __main__:getquant:4 - getquant : \n"
     ]
    },
    {
     "name": "stdout",
     "output_type": "stream",
     "text": [
      "My Quantity : 3\n",
      "order update:  {'account_id': 'FC5917', 'unfilled_quantity': 0, 'checksum': '', 'placed_by': 'FC5917', 'order_id': '201028004312493', 'exchange_order_id': '1000000002273281', 'parent_order_id': None, 'status': 'OPEN', 'status_message': None, 'status_message_raw': None, 'order_timestamp': '2020-10-28 16:56:34', 'exchange_update_timestamp': '2020-10-28 16:56:34', 'exchange_timestamp': '2020-10-28 16:56:34', 'variety': 'regular', 'exchange': 'CDS', 'tradingsymbol': 'USDINR20NOVFUT', 'instrument_token': 780803, 'order_type': 'LIMIT', 'transaction_type': 'BUY', 'validity': 'DAY', 'product': 'NRML', 'quantity': 1, 'disclosed_quantity': 0, 'price': 74.045, 'trigger_price': 0, 'average_price': 0, 'filled_quantity': 0, 'pending_quantity': 1, 'cancelled_quantity': 0, 'market_protection': 0, 'meta': {}, 'tag': None, 'guid': '18679XuJGTq4HYzpQl'}\n"
     ]
    },
    {
     "name": "stderr",
     "output_type": "stream",
     "text": [
      "2020-10-28 16:56:34.421 | DEBUG    | __main__:on_order_update:43 - on_order_update : \n",
      "2020-10-28 16:56:34.484 | DEBUG    | __main__:placeneworder:20 - Order Successfully Placed @ NRML 1 74.045\n",
      "2020-10-28 16:56:34.486 | DEBUG    | __main__:getquant:4 - getquant : \n",
      "2020-10-28 16:56:34.579 | DEBUG    | __main__:getquant:11 - My Quantity : 3\n",
      "2020-10-28 16:56:34.581 | DEBUG    | __main__:update_status:54 - ckqnt @ 74.045 : 4\n",
      "2020-10-28 16:56:34.582 | DEBUG    | __main__:ckqnt:51 - ckqnt @ (74.045,4) in ckqnt\n",
      "2020-10-28 16:56:34.583 | DEBUG    | __main__:ckqnt:54 - 1 = 4-3 in ckqnt\n",
      "2020-10-28 16:56:34.584 | DEBUG    | __main__:placeneworder:7 - placeneworder @ (1,74.045)\n"
     ]
    },
    {
     "name": "stdout",
     "output_type": "stream",
     "text": [
      "order update:  {'account_id': 'FC5917', 'unfilled_quantity': 0, 'checksum': '', 'placed_by': 'FC5917', 'order_id': '201028004312495', 'exchange_order_id': '1000000002273292', 'parent_order_id': None, 'status': 'OPEN', 'status_message': None, 'status_message_raw': None, 'order_timestamp': '2020-10-28 16:56:34', 'exchange_update_timestamp': '2020-10-28 16:56:34', 'exchange_timestamp': '2020-10-28 16:56:34', 'variety': 'regular', 'exchange': 'CDS', 'tradingsymbol': 'USDINR20NOVFUT', 'instrument_token': 780803, 'order_type': 'LIMIT', 'transaction_type': 'BUY', 'validity': 'DAY', 'product': 'NRML', 'quantity': 1, 'disclosed_quantity': 0, 'price': 74.045, 'trigger_price': 0, 'average_price': 0, 'filled_quantity': 0, 'pending_quantity': 1, 'cancelled_quantity': 0, 'market_protection': 0, 'meta': {}, 'tag': None, 'guid': '18679Xx1f37t4Dc1S1'}\n",
      "=====================================\n",
      "LTP : 74.065\n",
      "My Quantity : 3\n"
     ]
    },
    {
     "name": "stderr",
     "output_type": "stream",
     "text": [
      "2020-10-28 16:56:34.852 | DEBUG    | __main__:getquant:11 - My Quantity : 3\n",
      "2020-10-28 16:56:34.853 | DEBUG    | __main__:update_status:54 - ckqnt @ 74.045 : 4\n"
     ]
    },
    {
     "name": "stdout",
     "output_type": "stream",
     "text": [
      "My Quantity : 3\n"
     ]
    },
    {
     "name": "stderr",
     "output_type": "stream",
     "text": [
      "2020-10-28 16:56:35.083 | DEBUG    | __main__:on_order_update:43 - on_order_update : \n",
      "2020-10-28 16:56:35.161 | DEBUG    | __main__:placeneworder:20 - Order Successfully Placed @ NRML 1 74.045\n",
      "2020-10-28 16:56:35.162 | DEBUG    | __main__:getquant:4 - getquant : \n"
     ]
    },
    {
     "name": "stdout",
     "output_type": "stream",
     "text": [
      "order update:  {'account_id': 'FC5917', 'unfilled_quantity': 0, 'checksum': '', 'placed_by': 'FC5917', 'order_id': '201028004312497', 'exchange_order_id': '1000000002273338', 'parent_order_id': None, 'status': 'OPEN', 'status_message': None, 'status_message_raw': None, 'order_timestamp': '2020-10-28 16:56:35', 'exchange_update_timestamp': '2020-10-28 16:56:35', 'exchange_timestamp': '2020-10-28 16:56:35', 'variety': 'regular', 'exchange': 'CDS', 'tradingsymbol': 'USDINR20NOVFUT', 'instrument_token': 780803, 'order_type': 'LIMIT', 'transaction_type': 'BUY', 'validity': 'DAY', 'product': 'NRML', 'quantity': 1, 'disclosed_quantity': 0, 'price': 74.045, 'trigger_price': 0, 'average_price': 0, 'filled_quantity': 0, 'pending_quantity': 1, 'cancelled_quantity': 0, 'market_protection': 0, 'meta': {}, 'tag': None, 'guid': '18679XPeNgHxCdslh5'}\n",
      "=====================================\n",
      "LTP : 74.065\n"
     ]
    },
    {
     "name": "stderr",
     "output_type": "stream",
     "text": [
      "2020-10-28 16:56:35.679 | DEBUG    | __main__:getquant:11 - My Quantity : 3\n",
      "2020-10-28 16:56:35.680 | DEBUG    | __main__:update_status:54 - ckqnt @ 74.045 : 4\n",
      "2020-10-28 16:56:35.682 | DEBUG    | __main__:ckqnt:51 - ckqnt @ (74.045,4) in ckqnt\n",
      "2020-10-28 16:56:35.684 | DEBUG    | __main__:ckqnt:54 - 1 = 4-3 in ckqnt\n",
      "2020-10-28 16:56:35.685 | DEBUG    | __main__:placeneworder:7 - placeneworder @ (1,74.045)\n"
     ]
    },
    {
     "name": "stdout",
     "output_type": "stream",
     "text": [
      "My Quantity : 3\n",
      "=====================================\n",
      "LTP : 74.065\n"
     ]
    },
    {
     "name": "stderr",
     "output_type": "stream",
     "text": [
      "2020-10-28 16:56:36.007 | DEBUG    | __main__:on_order_update:43 - on_order_update : \n",
      "2020-10-28 16:56:36.106 | DEBUG    | __main__:placeneworder:20 - Order Successfully Placed @ NRML 1 74.045\n",
      "2020-10-28 16:56:36.107 | DEBUG    | __main__:getquant:4 - getquant : \n"
     ]
    },
    {
     "name": "stdout",
     "output_type": "stream",
     "text": [
      "order update:  {'account_id': 'FC5917', 'unfilled_quantity': 0, 'checksum': '', 'placed_by': 'FC5917', 'order_id': '201028004312502', 'exchange_order_id': '1000000002273420', 'parent_order_id': None, 'status': 'OPEN', 'status_message': None, 'status_message_raw': None, 'order_timestamp': '2020-10-28 16:56:36', 'exchange_update_timestamp': '2020-10-28 16:56:36', 'exchange_timestamp': '2020-10-28 16:56:36', 'variety': 'regular', 'exchange': 'CDS', 'tradingsymbol': 'USDINR20NOVFUT', 'instrument_token': 780803, 'order_type': 'LIMIT', 'transaction_type': 'BUY', 'validity': 'DAY', 'product': 'NRML', 'quantity': 1, 'disclosed_quantity': 0, 'price': 74.045, 'trigger_price': 0, 'average_price': 0, 'filled_quantity': 0, 'pending_quantity': 1, 'cancelled_quantity': 0, 'market_protection': 0, 'meta': {}, 'tag': None, 'guid': '18679XvZaqspjNw6kK'}\n"
     ]
    },
    {
     "name": "stderr",
     "output_type": "stream",
     "text": [
      "2020-10-28 16:56:36.436 | DEBUG    | __main__:getquant:11 - My Quantity : 3\n",
      "2020-10-28 16:56:36.438 | DEBUG    | __main__:update_status:54 - ckqnt @ 74.045 : 4\n"
     ]
    },
    {
     "name": "stdout",
     "output_type": "stream",
     "text": [
      "=====================================\n",
      "LTP : 74.065\n",
      "My Quantity : 3\n",
      "=====================================\n",
      "LTP : 74.0625\n"
     ]
    },
    {
     "name": "stderr",
     "output_type": "stream",
     "text": [
      "ERROR:kiteconnect.ticker:Connection error: 1006 - connection was closed uncleanly (peer dropped the TCP connection without previous WebSocket closing handshake)\n",
      "ERROR:root:closed connection on error: 1006 connection was closed uncleanly (peer dropped the TCP connection without previous WebSocket closing handshake)\n",
      "ERROR:kiteconnect.ticker:Connection closed: 1006 - connection was closed uncleanly (peer dropped the TCP connection without previous WebSocket closing handshake)\n",
      "Unhandled Error\n",
      "Traceback (most recent call last):\n",
      "  File \"/home/hemang/.local/lib/python3.8/site-packages/twisted/internet/defer.py\", line 311, in addCallbacks\n",
      "    self._runCallbacks()\n",
      "  File \"/home/hemang/.local/lib/python3.8/site-packages/twisted/internet/defer.py\", line 654, in _runCallbacks\n",
      "    current.result = callback(current.result, *args, **kw)\n",
      "  File \"/home/hemang/.local/lib/python3.8/site-packages/twisted/internet/base.py\", line 447, in _continueFiring\n",
      "    callable(*args, **kwargs)\n",
      "  File \"/home/hemang/.local/lib/python3.8/site-packages/twisted/internet/base.py\", line 704, in disconnectAll\n",
      "    log.callWithLogger(reader,\n",
      "--- <exception caught here> ---\n",
      "  File \"/home/hemang/.local/lib/python3.8/site-packages/twisted/python/log.py\", line 103, in callWithLogger\n",
      "    return callWithContext({\"system\": lp}, func, *args, **kw)\n",
      "  File \"/home/hemang/.local/lib/python3.8/site-packages/twisted/python/log.py\", line 86, in callWithContext\n",
      "    return context.call({ILogContext: newCtx}, func, *args, **kw)\n",
      "  File \"/home/hemang/.local/lib/python3.8/site-packages/twisted/python/context.py\", line 122, in callWithContext\n",
      "    return self.currentContext().callWithContext(ctx, func, *args, **kw)\n",
      "  File \"/home/hemang/.local/lib/python3.8/site-packages/twisted/python/context.py\", line 85, in callWithContext\n",
      "    return func(*args,**kw)\n",
      "  File \"/home/hemang/.local/lib/python3.8/site-packages/twisted/internet/tcp.py\", line 519, in connectionLost\n",
      "    self._commonConnection.connectionLost(self, reason)\n",
      "  File \"/home/hemang/.local/lib/python3.8/site-packages/twisted/internet/tcp.py\", line 327, in connectionLost\n",
      "    protocol.connectionLost(reason)\n",
      "  File \"/home/hemang/.local/lib/python3.8/site-packages/twisted/protocols/tls.py\", line 403, in connectionLost\n",
      "    ProtocolWrapper.connectionLost(self, reason)\n",
      "  File \"/home/hemang/.local/lib/python3.8/site-packages/twisted/protocols/policies.py\", line 125, in connectionLost\n",
      "    self.wrappedProtocol.connectionLost(reason)\n",
      "  File \"/home/hemang/.local/lib/python3.8/site-packages/autobahn/twisted/websocket.py\", line 287, in connectionLost\n",
      "    self._connectionLost(reason)\n",
      "  File \"/home/hemang/.local/lib/python3.8/site-packages/autobahn/websocket/protocol.py\", line 3412, in _connectionLost\n",
      "    WebSocketProtocol._connectionLost(self, reason)\n",
      "  File \"/home/hemang/.local/lib/python3.8/site-packages/autobahn/websocket/protocol.py\", line 1126, in _connectionLost\n",
      "    self._onClose(self.wasClean, WebSocketProtocol.CLOSE_STATUS_CODE_ABNORMAL_CLOSE, \"connection was closed uncleanly (%s)\" % self.wasNotCleanReason)\n",
      "  File \"/home/hemang/.local/lib/python3.8/site-packages/autobahn/twisted/websocket.py\", line 330, in _onClose\n",
      "    self.onClose(wasClean, code, reason)\n",
      "  File \"/home/hemang/.local/lib/python3.8/site-packages/kiteconnect/ticker.py\", line 81, in onClose\n",
      "    self.factory.on_close(self, code, reason)\n",
      "  File \"/home/hemang/.local/lib/python3.8/site-packages/kiteconnect/ticker.py\", line 654, in _on_close\n",
      "    self.on_close(self, code, reason)\n",
      "  File \"<ipython-input-11-1cc52697bbed>\", line 31, in on_close\n",
      "    ws.stop()\n",
      "  File \"/home/hemang/.local/lib/python3.8/site-packages/kiteconnect/ticker.py\", line 555, in stop\n",
      "    reactor.stop()\n",
      "  File \"/home/hemang/.local/lib/python3.8/site-packages/twisted/internet/base.py\", line 646, in stop\n",
      "    raise error.ReactorNotRunning(\n",
      "twisted.internet.error.ReactorNotRunning: Can't stop reactor that isn't running.\n",
      "\n"
     ]
    }
   ],
   "source": [
    "############# start trading ############\n",
    "import threading\n",
    "import logging\n",
    "from kiteconnect import KiteTicker\n",
    "logging.basicConfig(level=logging.DEBUG)\n",
    "# kws = KiteTicker(\"w19o0chuo929jxkp\", \"eA5B5OJQNOtZ0OYihkBmYw7Ke3B9pmCC\")\n",
    "\n",
    "def on_ticks(ws, ticks):\n",
    "    global pivot_price, moving_pivot_on\n",
    "    this_sec = datetime.datetime.now().second\n",
    "    last_sec = 0\n",
    "    if(this_sec%10==0 and last_sec!=this_sec):\n",
    "            last_sec = this_sec\n",
    "            print('in the thread : ')\n",
    "            x = threading.Thread(target=calc_and_update, args=())\n",
    "            x.start()\n",
    "#             x.join()\n",
    "\n",
    "    print('=====================================')\n",
    "    print( 'LTP : ' + str(ticks[0]['last_price']))\n",
    "#     print(datetime.datetime.now().second)\n",
    "#     print('=====================================')\n",
    "#     print()\n",
    "\n",
    "def on_connect(ws, response):\n",
    "    global inst_token\n",
    "    ws.subscribe([inst_token])\n",
    "    ws.set_mode(ws.MODE_FULL, [inst_token])\n",
    "\n",
    "def on_close(ws, code, reason):\n",
    "    ws.stop()\n",
    "    \n",
    "def on_error(ws, code, reason):\n",
    "    logging.error(\"closed connection on error: {} {}\".format(code, reason))\n",
    "\n",
    "def on_noreconnect(ws):\n",
    "    logging.error(\"Reconnecting the websocket failed\")\n",
    "\n",
    "def on_reconnect(ws, attempt_count):\n",
    "    logging.debug(\"Reconnecting the websocket: {}\".format(attempt_count))\n",
    "\n",
    "def on_order_update(ws, data):\n",
    "    logger.debug('on_order_update : ')\n",
    "    global baseprice,symbol_ip,myquantity,init_qty,current_point\n",
    "    print(\"order update: \", data)\n",
    "#     getquant()\n",
    "#     if(data['tradingsymbol'] == symbol_ip and (myquantity!=init_qty and myquantity!=-init_qty)):\n",
    "#         current_point = 0\n",
    "#         for i in range(1,len(stepmultiseries)+1):\n",
    "#             if(globals()['p'+str(i)+'q']==myquantity):\n",
    "#                 current_point=i\n",
    "#         logging.debug('current_point : '+str(current_point))\n",
    "#         update_status()\n",
    "          \n",
    "kws.on_error = on_error\n",
    "kws.on_noreconnect = on_noreconnect\n",
    "kws.on_reconnect = on_reconnect\n",
    "kws.on_order_update = on_order_update\n",
    "\n",
    "kws.on_ticks = on_ticks\n",
    "kws.on_connect = on_connect\n",
    "kws.on_close = on_close\n",
    "\n",
    "kws.connect()"
   ]
  },
  {
   "cell_type": "code",
   "execution_count": null,
   "metadata": {},
   "outputs": [],
   "source": []
  }
 ],
 "metadata": {
  "kernelspec": {
   "display_name": "Python 3",
   "language": "python",
   "name": "python3"
  },
  "language_info": {
   "codemirror_mode": {
    "name": "ipython",
    "version": 3
   },
   "file_extension": ".py",
   "mimetype": "text/x-python",
   "name": "python",
   "nbconvert_exporter": "python",
   "pygments_lexer": "ipython3",
   "version": "3.8.6"
  },
  "nteract": {
   "version": "0.26.0"
  }
 },
 "nbformat": 4,
 "nbformat_minor": 4
}
