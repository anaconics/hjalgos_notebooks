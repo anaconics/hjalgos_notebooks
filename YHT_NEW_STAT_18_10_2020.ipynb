{
 "cells": [
  {
   "cell_type": "code",
   "execution_count": null,
   "metadata": {
    "scrolled": true
   },
   "outputs": [],
   "source": [
    "#####################\n",
    "# AUTO LOGIN-1 of 1 #\n",
    "#####################\n",
    "\n",
    "import login\n",
    "from login import *\n",
    "import pandas as pd"
   ]
  },
  {
   "cell_type": "code",
   "execution_count": null,
   "metadata": {
    "ExecuteTime": {
     "end_time": "2021-02-05T07:28:30.817665Z",
     "start_time": "2021-02-05T07:28:29.349028Z"
    },
    "scrolled": true
   },
   "outputs": [],
   "source": [
    "!runipy test123.ipynb"
   ]
  },
  {
   "cell_type": "code",
   "execution_count": null,
   "metadata": {
    "ExecuteTime": {
     "start_time": "2021-02-05T07:29:14.384Z"
    },
    "scrolled": true
   },
   "outputs": [],
   "source": [
    "while True:\n",
    "    !runipy test123.ipynb"
   ]
  },
  {
   "cell_type": "code",
   "execution_count": null,
   "metadata": {},
   "outputs": [],
   "source": [
    "#####################\n",
    "#    PARAMENTERS    #\n",
    "#####################\n",
    "\n",
    "this_month_token = 690691\n",
    "next_month_token = 780803\n",
    "\n",
    "this_month_symbol = 'USDINR20OCTFUT'\n",
    "next_month_symbol = 'USDINR20NOVFUT'\n",
    "\n",
    "# buysell_diff = 0.2100                                 # 0.2100 per day\n",
    "# squareup_diff = 0.1950                                # 0.1950 per day\n",
    "\n",
    "fullquant = 400\n",
    "\n",
    "order_type = 'MIS'"
   ]
  },
  {
   "cell_type": "code",
   "execution_count": null,
   "metadata": {},
   "outputs": [],
   "source": [
    "difference_ip = 0.0100\n",
    "\n",
    "most_repeated_diff = 0.2000\n",
    "\n",
    "upper_diff = most_repeated_diff + (difference_ip/2)\n",
    "lower_diff = most_repeated_diff - (difference_ip/2)\n",
    "\n",
    "print('Upper Diff : '+str(round(upper_diff,4)))\n",
    "print('Lower Diff : '+str(round(lower_diff,4)))"
   ]
  },
  {
   "cell_type": "code",
   "execution_count": null,
   "metadata": {},
   "outputs": [],
   "source": [
    "symbol_ip = this_month_symbol\n",
    "symbol_ip2 = next_month_symbol\n",
    "\n",
    "inst_token = this_month_token\n",
    "inst_token2 = next_month_token\n",
    "\n",
    "myquantity = 0\n",
    "myquantity2 = 0\n",
    "\n",
    "def getquant():\n",
    "    global myquantity,myquantity2\n",
    "    global order_type\n",
    "    global symbol_ip\n",
    "    allpos = kite.positions()['net']\n",
    "    for i in range(len(allpos)):\n",
    "        if(allpos[i]['tradingsymbol']==symbol_ip and  allpos[i]['product']== order_type):\n",
    "            myquantity = allpos[i]['quantity']\n",
    "            print('My Quantity 1 : ' + str(allpos[i]['quantity']))\n",
    "        if(allpos[i]['tradingsymbol']==symbol_ip2 and  allpos[i]['product']== order_type):\n",
    "            myquantity2 = allpos[i]['quantity']\n",
    "            print('My Quantity 2 : ' + str(allpos[i]['quantity']))\n",
    "\n",
    "getquant()\n",
    "\n",
    "def placeneworder(quantdiff,symbol_ipp):\n",
    "    global stopbuy\n",
    "    global stopsell\n",
    "    global order_type\n",
    "#     global symbol_ip,symbol_ip2\n",
    "    if(quantdiff>0):\n",
    "        try:\n",
    "                order_id= kite.place_order(tradingsymbol=symbol_ipp,\n",
    "                            exchange=kite.EXCHANGE_CDS,\n",
    "                            transaction_type=kite.TRANSACTION_TYPE_BUY,\n",
    "                            quantity=abs(quantdiff),\n",
    "                            order_type=kite.ORDER_TYPE_MARKET,\n",
    "                            variety = kite.VARIETY_REGULAR,\n",
    "                            product=kite.PRODUCT_MIS if order_type=='MIS' else kite.PRODUCT_NRML)\n",
    "                getquant()\n",
    "        except Exception as e:\n",
    "            print(e)\n",
    "            getquant()\n",
    "    if(quantdiff<0):\n",
    "        try:\n",
    "                order_id= kite.place_order(tradingsymbol=symbol_ipp,\n",
    "                            exchange=kite.EXCHANGE_CDS,\n",
    "                            transaction_type=kite.TRANSACTION_TYPE_SELL,\n",
    "                            quantity=abs(quantdiff),\n",
    "                            order_type=kite.ORDER_TYPE_MARKET,\n",
    "                            variety = kite.VARIETY_REGULAR,\n",
    "                            product=kite.PRODUCT_MIS if order_type=='MIS' else kite.PRODUCT_NRML)\n",
    "                getquant()\n",
    "        except Exception as e:\n",
    "            print(e)\n",
    "            getquant()\n",
    "\n",
    "\n",
    "def ckqnt (orderquant):\n",
    "    global myquantity,myquantity2,symbol_ip,symbol_ip2\n",
    "    quantdiff = orderquant - myquantity\n",
    "    quantdiff2 = -orderquant - myquantity2\n",
    "    \n",
    "    placeneworder(quantdiff,symbol_ip)\n",
    "    placeneworder(quantdiff2,symbol_ip2)\n",
    "    return myquantity"
   ]
  },
  {
   "cell_type": "code",
   "execution_count": null,
   "metadata": {},
   "outputs": [],
   "source": [
    "#################\n",
    "# START TRADING #\n",
    "#################\n",
    "\n",
    "import logging\n",
    "from kiteconnect import KiteTicker\n",
    "logging.basicConfig(level=logging.DEBUG)\n",
    "# kws = KiteTicker(\"w19o0chuo929jxkp\", \"eA5B5OJQNOtZ0OYihkBmYw7Ke3B9pmCC\")\n",
    "\n",
    "def on_ticks(ws, ticks):\n",
    "    #print(type(ticks[0]['last_price']))\n",
    "    print('==========================')\n",
    "    print( 'LTP1 : ' + str(ticks[0]['last_price']))\n",
    "    print( 'LTP2 : ' + str(ticks[1]['last_price']))\n",
    "    ltp_diffs = ticks[1]['last_price'] - ticks[0]['last_price']\n",
    "    print( 'Difference : ' + str(ltp_diffs))\n",
    "    if(ltp_diffs==buysell_diff):\n",
    "        ckqnt(int(fullquant/2))\n",
    "    if(ltp_diffs==squareup_diff):\n",
    "        ckqnt(0)\n",
    "#     print('==========================')\n",
    "#     print()\n",
    "\n",
    "def on_connect(ws, response):\n",
    "    global inst_token,inst_token2\n",
    "    ws.subscribe([inst_token,inst_token2])\n",
    "    ws.set_mode(ws.MODE_FULL, [inst_token,inst_token2])\n",
    "\n",
    "def on_close(ws, code, reason):\n",
    "    ws.stop()\n",
    "    \n",
    "def on_error(ws, code, reason):\n",
    "    logging.error(\"closed connection on error: {} {}\".format(code, reason))\n",
    "\n",
    "def on_noreconnect(ws):\n",
    "    logging.error(\"Reconnecting the websocket failed\")\n",
    "\n",
    "def on_reconnect(ws, attempt_count):\n",
    "    logging.debug(\"Reconnecting the websocket: {}\".format(attempt_count))\n",
    "\n",
    "#def on_order_update(ws, data):\n",
    "#    print(\"order update: \", data)\n",
    "\n",
    "kws.on_error = on_error\n",
    "kws.on_noreconnect = on_noreconnect\n",
    "kws.on_reconnect = on_reconnect\n",
    "#kws.on_order_update = on_order_update\n",
    "\n",
    "kws.on_ticks = on_ticks\n",
    "kws.on_connect = on_connect\n",
    "kws.on_close = on_close\n",
    "\n",
    "kws.connect()"
   ]
  },
  {
   "cell_type": "code",
   "execution_count": null,
   "metadata": {
    "scrolled": false
   },
   "outputs": [],
   "source": [
    "################################\n",
    "#      TECHNICAL  AANALYSIS    #\n",
    "################################\n",
    "\n",
    "from datetime import timedelta\n",
    "import datetime\n",
    "pd.set_option('plotting.backend', 'pandas_bokeh')\n",
    "import pandas_bokeh\n",
    "pandas_bokeh.output_notebook()\n",
    "\n",
    "old_lst=[]\n",
    "old_lst2=[]\n",
    "\n",
    "interval='minute'\n",
    "todaydt=datetime.date.today()\n",
    "hud_ago=todaydt-timedelta(days=59)\n",
    "to_date=datetime.date.isoformat(todaydt)\n",
    "from_date=datetime.date.isoformat(hud_ago)\n",
    "inst_token = 690691\n",
    "inst_token2 = 780803\n",
    "for i2 in range(50):\n",
    "    \n",
    "    new_lst = kite.historical_data(inst_token, from_date, to_date, interval,continuous=False)\n",
    "    old_lst = new_lst + old_lst\n",
    "    \n",
    "    new_lst2 = kite.historical_data(inst_token2, from_date, to_date, interval,continuous=False)\n",
    "    old_lst2 = new_lst2 + old_lst2\n",
    "    \n",
    "    todaydt=todaydt-timedelta(days=60)\n",
    "    hud_ago=hud_ago-timedelta(days=60)\n",
    "    to_date=datetime.date.isoformat(todaydt)\n",
    "    from_date=datetime.date.isoformat(hud_ago)\n",
    "    print(len(old_lst))\n",
    "    \n",
    "mydf1 = pd.DataFrame(old_lst)\n",
    "mydf2 = pd.DataFrame(old_lst2)"
   ]
  },
  {
   "cell_type": "code",
   "execution_count": null,
   "metadata": {
    "scrolled": true
   },
   "outputs": [],
   "source": [
    "day_ago = 2\n",
    "\n",
    "badbaki = 480*(day_ago - 1)\n",
    "oneday1 = mydf1['close'][107292-badbaki:107772-badbaki].to_numpy()\n",
    "oneday1.shape\n",
    "# mydf1[107292-badbaki:107772-badbaki].groupby('close').count()"
   ]
  },
  {
   "cell_type": "code",
   "execution_count": null,
   "metadata": {},
   "outputs": [],
   "source": [
    "oneday2= mydf2['close'][98984-badbaki:99464-badbaki].to_numpy()\n",
    "oneday2.shape\n",
    "# mydf2[98984-badbaki:99464-badbaki].groupby('close').count()"
   ]
  },
  {
   "cell_type": "code",
   "execution_count": null,
   "metadata": {},
   "outputs": [],
   "source": [
    "mydf2[98984-badbaki:99464-badbaki]"
   ]
  },
  {
   "cell_type": "code",
   "execution_count": null,
   "metadata": {},
   "outputs": [],
   "source": [
    "mydiff = oneday2 - oneday1\n",
    "pd.DataFrame(mydiff).plot.hist(bins=100, alpha=0.8)\n",
    "# 1900 -> 2\n",
    "# 1925 -> 8\n",
    "# 1950 -> 35\n",
    "# 1975 -> 90\n",
    "# 2000 -> 152\n",
    "# 2025 -> 116\n",
    "# 2050 -> 66\n",
    "# 2075 -> 11"
   ]
  },
  {
   "cell_type": "code",
   "execution_count": null,
   "metadata": {},
   "outputs": [],
   "source": [
    "pd.DataFrame(mydiff).describe()"
   ]
  },
  {
   "cell_type": "code",
   "execution_count": null,
   "metadata": {},
   "outputs": [],
   "source": [
    "round(pd.DataFrame(mydiff).describe()[:][5:6].to_numpy()[0][0],4)"
   ]
  },
  {
   "cell_type": "code",
   "execution_count": null,
   "metadata": {},
   "outputs": [],
   "source": [
    "np1 = mydf1[92891:].to_numpy()\n",
    "np1.shape"
   ]
  },
  {
   "cell_type": "code",
   "execution_count": null,
   "metadata": {},
   "outputs": [],
   "source": [
    "np2 = mydf2[85063:99463]\n",
    "np2.shape"
   ]
  },
  {
   "cell_type": "code",
   "execution_count": null,
   "metadata": {},
   "outputs": [],
   "source": [
    "newdf2 = mydf2[293-30:293]\n",
    "newdf1 = mydf1[292-30:292]\n",
    "\n",
    "newdf1np = newdf1.to_numpy()\n",
    "newdf2np = newdf2.to_numpy()\n",
    "\n",
    "newdf1np[:,4:5]\n",
    "\n",
    "difff = newdf2np[:,4:5] - newdf1np[:,4:5] \n",
    "difff"
   ]
  },
  {
   "cell_type": "code",
   "execution_count": null,
   "metadata": {},
   "outputs": [],
   "source": [
    "diffpd = newdf2['close'] - newdf1['close']\n",
    "diffpd.plot.hist(bins=100, alpha=0.8)  "
   ]
  },
  {
   "cell_type": "code",
   "execution_count": null,
   "metadata": {},
   "outputs": [],
   "source": [
    "difffpd = pd.DataFrame(difff)\n",
    "difffpd.plot.hist(bins=1, alpha=0.8)  "
   ]
  },
  {
   "cell_type": "code",
   "execution_count": null,
   "metadata": {},
   "outputs": [],
   "source": [
    "np1 = mydf1['close'][:].to_numpy()\n",
    "np2 = mydf2['close'][1:].to_numpy()\n",
    "dif12 = np2 - np1\n",
    "difpd = pd.DataFrame(dif12)\n",
    "difpd[80:].plot.hist(bins=100, alpha=0.8)  "
   ]
  },
  {
   "cell_type": "code",
   "execution_count": null,
   "metadata": {},
   "outputs": [],
   "source": [
    "# NOTE\n",
    "# SET UPPER circuit lower circuit limit\n",
    "# Time 16:40\n",
    "# Rejection handling"
   ]
  }
 ],
 "metadata": {
  "hide_input": false,
  "kernelspec": {
   "display_name": "Python 3",
   "language": "python",
   "name": "python3"
  },
  "language_info": {
   "codemirror_mode": {
    "name": "ipython",
    "version": 3
   },
   "file_extension": ".py",
   "mimetype": "text/x-python",
   "name": "python",
   "nbconvert_exporter": "python",
   "pygments_lexer": "ipython3",
   "version": "3.9.2"
  },
  "varInspector": {
   "cols": {
    "lenName": 16,
    "lenType": 16,
    "lenVar": 40
   },
   "kernels_config": {
    "python": {
     "delete_cmd_postfix": "",
     "delete_cmd_prefix": "del ",
     "library": "var_list.py",
     "varRefreshCmd": "print(var_dic_list())"
    },
    "r": {
     "delete_cmd_postfix": ") ",
     "delete_cmd_prefix": "rm(",
     "library": "var_list.r",
     "varRefreshCmd": "cat(var_dic_list()) "
    }
   },
   "types_to_exclude": [
    "module",
    "function",
    "builtin_function_or_method",
    "instance",
    "_Feature"
   ],
   "window_display": false
  }
 },
 "nbformat": 4,
 "nbformat_minor": 4
}
