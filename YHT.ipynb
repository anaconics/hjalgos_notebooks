{
 "cells": [
  {
   "cell_type": "code",
   "execution_count": 1,
   "metadata": {},
   "outputs": [
    {
     "data": {
      "text/plain": [
       "'https://kite.trade/connect/login?api_key=w19o0chuo929jxkp&v=3'"
      ]
     },
     "execution_count": 1,
     "metadata": {},
     "output_type": "execute_result"
    }
   ],
   "source": [
    "import logging\n",
    "from kiteconnect import KiteConnect\n",
    "logging.basicConfig(level=logging.ERROR)\n",
    "import threading\n",
    "kite = KiteConnect(api_key=\"w19o0chuo929jxkp\")\n",
    "kite.login_url()"
   ]
  },
  {
   "cell_type": "code",
   "execution_count": 2,
   "metadata": {},
   "outputs": [
    {
     "data": {
      "text/plain": [
       "['kitefile.p']"
      ]
     },
     "execution_count": 2,
     "metadata": {},
     "output_type": "execute_result"
    }
   ],
   "source": [
    "#####################################################\n",
    "mytoken = 'fAENHz2ZNkuUksupvumecNOsnnM5RYwx'        \n",
    "#####################################################\n",
    "data = kite.generate_session(mytoken, \n",
    "                             api_secret=\"gsw8ps17ex7lf3cuji4prfnwb4vlyr4y\")\n",
    "kite.set_access_token(data[\"access_token\"])\n",
    "import joblib\n",
    "joblib.dump(kite,'kitefile.p')"
   ]
  },
  {
   "cell_type": "code",
   "execution_count": null,
   "metadata": {},
   "outputs": [],
   "source": [
    "#import act"
   ]
  },
  {
   "cell_type": "code",
   "execution_count": 3,
   "metadata": {},
   "outputs": [
    {
     "data": {
      "text/plain": [
       "[]"
      ]
     },
     "execution_count": 3,
     "metadata": {},
     "output_type": "execute_result"
    }
   ],
   "source": [
    "kite.orders()"
   ]
  },
  {
   "cell_type": "code",
   "execution_count": 4,
   "metadata": {},
   "outputs": [
    {
     "data": {
      "text/plain": [
       "[]"
      ]
     },
     "execution_count": 4,
     "metadata": {},
     "output_type": "execute_result"
    }
   ],
   "source": [
    "kite.positions()['net']"
   ]
  },
  {
   "cell_type": "code",
   "execution_count": 6,
   "metadata": {},
   "outputs": [
    {
     "data": {
      "text/plain": [
       "[{'tradingsymbol': 'YESBANK',\n",
       "  'exchange': 'NSE',\n",
       "  'instrument_token': 3050241,\n",
       "  'isin': 'INE528G01035',\n",
       "  'product': 'CNC',\n",
       "  'price': 0,\n",
       "  'quantity': 500,\n",
       "  't1_quantity': 0,\n",
       "  'realised_quantity': 500,\n",
       "  'authorised_quantity': 500,\n",
       "  'opening_quantity': 500,\n",
       "  'collateral_quantity': 0,\n",
       "  'collateral_type': '',\n",
       "  'discrepancy': False,\n",
       "  'average_price': 14.3,\n",
       "  'last_price': 13.55,\n",
       "  'close_price': 13.55,\n",
       "  'pnl': -375,\n",
       "  'day_change': 0,\n",
       "  'day_change_percentage': 0}]"
      ]
     },
     "execution_count": 6,
     "metadata": {},
     "output_type": "execute_result"
    }
   ],
   "source": [
    "kite.holdings()"
   ]
  },
  {
   "cell_type": "code",
   "execution_count": 18,
   "metadata": {},
   "outputs": [],
   "source": [
    "##########################################\n",
    "close_price = 73.8925                \n",
    "last_high = 74.0.825                    \n",
    "last_low = 73.7450\n",
    "fullquantity = 30\n",
    "###########################################\n",
    "pivot1 = 11.80\n",
    "pivot2 = 23.60\n",
    "pivot3 = 38.20\n",
    "pivot4 = 61.80\n",
    "pivot5 = 100\n",
    "############################################\n",
    "\n",
    "pivot_price = close_price\n",
    "pivot_high = last_high\n",
    "pivot_low = last_low\n",
    "\n",
    "pivot_range = pivot_high - pivot_low\n",
    "\n",
    "p1b = pivot_price-(pivot_range*pivot1/100)\n",
    "p2b = pivot_price-(pivot_range*pivot2/100)\n",
    "p3b = pivot_price-(pivot_range*pivot3/100)\n",
    "p4b = pivot_price-(pivot_range*pivot4/100)\n",
    "p5b = pivot_price-(pivot_range*pivot5/100)\n",
    "p6b = pivot_price-(pivot_range*(100+pivot1)/100)\n",
    "p7b = pivot_price-(pivot_range*(100+pivot2)/100)\n",
    "p8b = pivot_price-(pivot_range*(100+pivot3)/100)\n",
    "p9b = pivot_price-(pivot_range*(100+pivot4)/100)\n",
    "p10b = pivot_price-(pivot_range*(100+pivot5)/100)\n",
    "\n",
    "p1s = pivot_price+(pivot_range*pivot1/100)\n",
    "p2s = pivot_price+(pivot_range*pivot2/100)\n",
    "p3s = pivot_price+(pivot_range*pivot3/100)\n",
    "p4s = pivot_price+(pivot_range*pivot4/100)\n",
    "p5s = pivot_price+(pivot_range*pivot5/100)\n",
    "p6s = pivot_price+(pivot_range*(100+pivot1)/100)\n",
    "p7s = pivot_price+(pivot_range*(100+pivot2)/100)\n",
    "p8s = pivot_price+(pivot_range*(100+pivot3)/100)\n",
    "p9s = pivot_price+(pivot_range*(100+pivot4)/100)\n",
    "p10s = pivot_price+(pivot_range*(100+pivot5)/100)\n",
    "\n",
    "p1q = int(fullquantity*pivot1/100)\n",
    "p2q = int(fullquantity*pivot2/100)\n",
    "p3q = int(fullquantity*pivot3/100)\n",
    "p4q = int(fullquantity*pivot4/100)\n",
    "p5q = fullquantity\n",
    "p6q = int(fullquantity*(100+pivot1)/100)\n",
    "p7q = int(fullquantity*(100+pivot2)/100)\n",
    "p8q = int(fullquantity*(100+pivot3)/100)\n",
    "p9q = int(fullquantity*(100+pivot4)/100)\n",
    "p10q = fullquantity*2\n",
    "\n",
    "def ckqnt (orderprice,orderquant):\n",
    "    allpos = kite.positions()['net']\n",
    "    for i in range(len(allpos)):\n",
    "        if(allpos[i]['tradingsymbol']=='USDINR20OCTFUT'):\n",
    "            if(allpos[i]['quantity']<orderquant):\n",
    "                buynewquant = orderquant - allpos[i]['quantity']\n",
    "                try:\n",
    "                    order_id =  order_id= kite.place_order(tradingsymbol=\"USDINR20OCTFUT\",\n",
    "                                exchange=kite.EXCHANGE_CDS,\n",
    "                                transaction_type=kite.TRANSACTION_TYPE_BUY,\n",
    "                                quantity=buynewquant,\n",
    "                                order_type=kite.ORDER_TYPE_MARKET,\n",
    "                                product=kite.PRODUCT_NRML)\n",
    "                except Exception as e:\n",
    "                    print(e);\n",
    "            if(allpos[i]['quantity']<-orderquant):\n",
    "                sellnewquant =  allpos[i]['quantity'] - orderquant\n",
    "                try:\n",
    "                    order_id =  order_id= kite.place_order(tradingsymbol=\"USDINR20OCTFUT\",\n",
    "                                exchange=kite.EXCHANGE_CDS,\n",
    "                                transaction_type=kite.TRANSACTION_TYPE_SELL,\n",
    "                                quantity=sellnewquant,\n",
    "                                order_type=kite.ORDER_TYPE_MARKET,\n",
    "                                product=kite.PRODUCT_NRML)\n",
    "                except Exception as e:\n",
    "                    print(e)\n",
    "                \n",
    "            return allpos[i]['quantity']\n",
    "        \n",
    "def makezero():\n",
    "    allpos = kite.positions()['net']\n",
    "    for i in range(len(allpos)):\n",
    "        if(allpos[i]['tradingsymbol']=='USDINR20OCTFUT'):\n",
    "            \n",
    "            if(allpos[i]['tradingsymbol']<0):\n",
    "                buyquant = abs(allpos[i]['tradingsymbol'])\n",
    "                try:\n",
    "                    order_id =  order_id= kite.place_order(tradingsymbol=\"USDINR20OCTFUT\",\n",
    "                                exchange=kite.EXCHANGE_CDS,\n",
    "                                transaction_type=kite.TRANSACTION_TYPE_BUY,\n",
    "                                quantity=buyquant,\n",
    "                                order_type=kite.ORDER_TYPE_MARKET,\n",
    "                                product=kite.PRODUCT_NRML)\n",
    "                except Exception as e:\n",
    "                    print(e)\n",
    "            if(allpos[i]['tradingsymbol']>0):\n",
    "                sellquant = abs(allpos[i]['tradingsymbol'])\n",
    "                try:\n",
    "                    order_id =  order_id= kite.place_order(tradingsymbol=\"USDINR20OCTFUT\",\n",
    "                                exchange=kite.EXCHANGE_CDS,\n",
    "                                transaction_type=kite.TRANSACTION_TYPE_SELL,\n",
    "                                quantity=sellquant,\n",
    "                                order_type=kite.ORDER_TYPE_MARKET,\n",
    "                                product=kite.PRODUCT_NRML)\n",
    "                except Exception as e:\n",
    "                    print(e)\n",
    "\n",
    "\n",
    "def checkpivot(ltps):\n",
    "    if ((ltps>=(pivot_price-pivot_price*(0.25))) and (ltps<=(pivot_price+pivot_price*(0.25)))):\n",
    "        makezero(); \n",
    "    \n",
    "    elif (ltps <= p1b): # 73.5500 \n",
    "        ckqnt(p1b,p1q); # 24\n",
    "\n",
    "    elif (ltps <= p2b): # 73.5300\n",
    "        ckqnt(p2b,p2q); # 47\n",
    "\n",
    "    elif (ltps <= p3b): # 73.5000\n",
    "        ckqnt(p3b,p3q);\n",
    "\n",
    "    elif (ltps <= p4b): # 73.4000\n",
    "        ckqnt(p4b,p4q);\n",
    "\n",
    "    elif (ltps <= p5b): # 73.3000\n",
    "        ckqnt(p5b,p5q);\n",
    "\n",
    "    elif (ltps <= p6b):\n",
    "        ckqnt(p6b,p6q);\n",
    "\n",
    "    elif (ltps <= p7b):\n",
    "        ckqnt(p7b,p7q);\n",
    "\n",
    "    elif (ltps <= p8b):\n",
    "        ckqnt(p8b,p8q);\n",
    "\n",
    "    elif (ltps <= p9b):\n",
    "        ckqnt(p9b,p9q); \n",
    "\n",
    "    elif (ltps <= p10b):\n",
    "        ckqnt(p10b,p10q); \n",
    "    #######################\n",
    "\n",
    "    elif (ltps >= p1s): # 73.7000\n",
    "        ckqnt(p1s,p1q); # -24\n",
    "\n",
    "    elif (ltps >= p2s): # 73.7500\n",
    "        ckqnt(p2s,p2q);\n",
    "\n",
    "    elif (ltps >= p3s): # 73.8000\n",
    "        ckqnt(p3s,p3q);\n",
    "\n",
    "    elif (ltps >= p4s): # 73.8500\n",
    "        ckqnt(p4s,p4q);\n",
    "\n",
    "    elif (ltps >= p5s): # 74.0000\n",
    "        ckqnt(p5s,p5q);\n",
    "\n",
    "    elif (ltps >= p6s):\n",
    "        ckqnt(p6s,p6q);\n",
    "\n",
    "    elif (ltps >= p7s):\n",
    "        ckqnt(p7s,p7q);\n",
    "\n",
    "    elif (ltps >= p8s):\n",
    "        ckqnt(p8s,p8q);\n",
    "\n",
    "    elif (ltps >= p9s):\n",
    "        ckqnt(p9s,p9q); \n",
    "\n",
    "    elif (ltps >= p10s):\n",
    "        ckqnt(p10s,p10q); "
   ]
  },
  {
   "cell_type": "code",
   "execution_count": null,
   "metadata": {},
   "outputs": [],
   "source": [
    "#!!!!!!!!!!!!!!!!!!!!!!!!!!!!!!!!!!!!!!!!!\n",
    "#              START TRADING             !\n",
    "#!!!!!!!!!!!!!!!!!!!!!!!!!!!!!!!!!!!!!!!!!\n",
    "\n",
    "import logging\n",
    "from kiteconnect import KiteTicker\n",
    "logging.basicConfig(level=logging.DEBUG)\n",
    "kws = KiteTicker(\"w19o0chuo929jxkp\", \"6lo7moXnuS0ttSGf4exN627ko10q37gR\")\n",
    "\n",
    "def on_ticks(ws, ticks):\n",
    "    checkpivot(ticks[0]['last_price'])\n",
    "    \n",
    "def on_connect(ws, response):\n",
    "    ws.subscribe([690691])\n",
    "    ws.set_mode(ws.MODE_FULL, [690691])\n",
    "\n",
    "def on_close(ws, code, reason):\n",
    "    ws.stop()\n",
    "\n",
    "kws.on_ticks = on_ticks\n",
    "kws.on_connect = on_connect\n",
    "kws.on_close = on_close\n",
    "\n",
    "kws.connect()"
   ]
  }
 ],
 "metadata": {
  "kernelspec": {
   "display_name": "Python 3",
   "language": "python",
   "name": "python3"
  },
  "language_info": {
   "codemirror_mode": {
    "name": "ipython",
    "version": 3
   },
   "file_extension": ".py",
   "mimetype": "text/x-python",
   "name": "python",
   "nbconvert_exporter": "python",
   "pygments_lexer": "ipython3",
   "version": "3.8.2"
  }
 },
 "nbformat": 4,
 "nbformat_minor": 4
}
