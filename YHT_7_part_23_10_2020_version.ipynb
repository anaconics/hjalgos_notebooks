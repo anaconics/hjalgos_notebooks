{
 "cells": [
  {
   "cell_type": "code",
   "execution_count": null,
   "metadata": {
    "ExecuteTime": {
     "end_time": "2020-12-03T06:01:46.829797Z",
     "start_time": "2020-12-03T06:00:58.330688Z"
    }
   },
   "outputs": [],
   "source": [
    "# #####################\n",
    "# # AUTO LOGIN-1 of 1 #\n",
    "# #####################\n",
    "\n",
    "import login\n",
    "from login import *\n",
    "import pandas as pd"
   ]
  },
  {
   "cell_type": "code",
   "execution_count": null,
   "metadata": {
    "ExecuteTime": {
     "end_time": "2020-12-03T06:01:46.844759Z",
     "start_time": "2020-12-03T06:01:46.837653Z"
    }
   },
   "outputs": [],
   "source": [
    "#######################\n",
    "# MANUAL LOGIN-1 of 3 #\n",
    "#######################\n",
    "\n",
    "# import logging\n",
    "# from kiteconnect import KiteConnect\n",
    "# logging.basicConfig(level=logging.ERROR)\n",
    "# import threading\n",
    "# kite = KiteConnect(api_key=\"w19o0chuo929jxkp\")\n",
    "# import joblib\n",
    "# kite = joblib.load('kitefile.p')\n",
    "# print(kite.login_url())"
   ]
  },
  {
   "cell_type": "code",
   "execution_count": null,
   "metadata": {
    "ExecuteTime": {
     "end_time": "2020-12-03T06:01:46.862472Z",
     "start_time": "2020-12-03T06:01:46.852767Z"
    }
   },
   "outputs": [],
   "source": [
    "#######################\n",
    "# MANUAL LOGIN-2 of 3 #\n",
    "#######################\n",
    "\n",
    "# mytoken = input('Enter Token Here : ')  \n",
    "# data = kite.generate_session(mytoken,api_secret=\"gsw8ps17ex7lf3cuji4prfnwb4vlyr4y\")\n",
    "# kite.set_access_token(data[\"access_token\"])\n",
    "# import joblib\n",
    "# joblib.dump(kite,'kitefile.p')"
   ]
  },
  {
   "cell_type": "code",
   "execution_count": null,
   "metadata": {
    "ExecuteTime": {
     "end_time": "2020-12-03T06:01:46.880726Z",
     "start_time": "2020-12-03T06:01:46.869165Z"
    }
   },
   "outputs": [],
   "source": [
    "#######################\n",
    "# MANUAL LOGIN-3 of 3 #\n",
    "####################### \n",
    "\n",
    "# import act"
   ]
  },
  {
   "cell_type": "code",
   "execution_count": null,
   "metadata": {
    "ExecuteTime": {
     "end_time": "2020-12-03T06:01:46.910007Z",
     "start_time": "2020-12-03T06:01:46.900219Z"
    }
   },
   "outputs": [],
   "source": [
    "#######################\n",
    "# OPTIONAL RUN-1 of 4 #\n",
    "#######################\n",
    "\n",
    "#kite.orders()[-1]"
   ]
  },
  {
   "cell_type": "code",
   "execution_count": null,
   "metadata": {
    "ExecuteTime": {
     "end_time": "2020-12-03T06:01:46.972918Z",
     "start_time": "2020-12-03T06:01:46.919867Z"
    }
   },
   "outputs": [],
   "source": [
    "#######################\n",
    "# OPTIONAL RUN-2 of 4 #\n",
    "#######################\n",
    "\n",
    "#kite.positions()['net']"
   ]
  },
  {
   "cell_type": "code",
   "execution_count": null,
   "metadata": {
    "ExecuteTime": {
     "end_time": "2020-12-03T06:01:47.092562Z",
     "start_time": "2020-12-03T06:01:46.978445Z"
    }
   },
   "outputs": [],
   "source": [
    "#######################\n",
    "# OPTIONAL RUN-3 of 4 #\n",
    "#######################\n",
    "\n",
    "#kite.holdings()"
   ]
  },
  {
   "cell_type": "code",
   "execution_count": null,
   "metadata": {
    "ExecuteTime": {
     "end_time": "2020-12-03T06:01:47.201661Z",
     "start_time": "2020-12-03T06:01:47.098931Z"
    }
   },
   "outputs": [],
   "source": [
    "#######################\n",
    "# OPTIONAL RUN-4 of 4 #\n",
    "#######################\n",
    "\n",
    "#kite.margins(segment = 'equity')['available']['live_balance']"
   ]
  },
  {
   "cell_type": "code",
   "execution_count": null,
   "metadata": {
    "ExecuteTime": {
     "end_time": "2020-12-03T06:02:02.258621Z",
     "start_time": "2020-12-03T06:01:47.214615Z"
    }
   },
   "outputs": [],
   "source": [
    "#############################################################################################################################\n",
    "#########################\n",
    "# Update this part only #\n",
    "#########################\n",
    "symbol_ip = 'USDINR20DECFUT' # USDINR20DECFUT / GBPINR20OCTFUT / EURINR20OCTFUT / JPYINR20OCTFUT\n",
    "inst_token = 380675          # 380675(USD) / 490755(GBP) / 278019(EUR) / 690435(JPY)\n",
    "order_type = 'NRML'           # MIS / NRML\n",
    "one_dollar_margin = 2000     # (USD-MIS=984/NRML=1967)(GBP-MIS=1948/NRML=3895)(EUR-MIS=1313/NRML=2625)(JPY-MIS=1333/NRML=2667)\n",
    "\n",
    "fullquantity = 75           # Set a required quantity or set 0 (zero) to adjust quantity automatically\n",
    "powermulti = 2.00            # Set a multiplyer number to multiply quantity at every part (level)(?.00)\n",
    "\n",
    "stoploss_on = False          # True / False\n",
    "band_gap = 0.0050            # Gap between two quanties/band (!!!! DO NOT SET IT ZERO  SET IT BETWEEN 0.0100 to 0.0050 !!!!)\n",
    "days_ago_data = 2            # Today Date - day_ago_data\n",
    "#############################################################################################################################\n",
    "\n",
    "import datetime\n",
    "interval='day'\n",
    "todaydt=datetime.date.today()\n",
    "hud_ago=todaydt-datetime.timedelta(days=10)\n",
    "to_date=datetime.date.isoformat(todaydt)\n",
    "\n",
    "from_date=datetime.date.isoformat(hud_ago)\n",
    "data = kite.historical_data(inst_token, from_date, to_date, interval, continuous=False)\n",
    "\n",
    "import pandas as pd\n",
    "mydata = pd.DataFrame(data)\n",
    "from datetime import date\n",
    "today = date.today()\n",
    "\n",
    "print('Today Date : '+str(today))\n",
    "yest_date =  mydata[-days_ago_data:][['date']].to_numpy()[0][0]\n",
    "last_close =  mydata[-days_ago_data:][['close']].to_numpy()[0][0]\n",
    "last_high =  mydata[-days_ago_data:][['high']].to_numpy()[0][0]\n",
    "last_low =  mydata[-days_ago_data:][['low']].to_numpy()[0][0]\n",
    "hl_range = last_high - last_low\n",
    "\n",
    "pivot_range = hl_range\n",
    "print('Yestreday Date : '+str(yest_date))       \n",
    "print('last close : '+ str(last_close))\n",
    "print('last high : '+ str(last_high))\n",
    "print('last low : '+ str(last_low))\n",
    "print('HL Range : '+ str(round(pivot_range,4)))\n",
    "\n",
    "mymargin = round(kite.margins(segment = 'equity')['available']['live_balance'],4)\n",
    "\n",
    "pivot_price = last_close\n",
    "\n",
    "if (fullquantity==0):\n",
    "    fullquantity = int(mymargin / one_dollar_margin)\n",
    "\n",
    "print('My Margin : '+str(mymargin))\n",
    "print('Pivot Price : ' + str(pivot_price))\n",
    "print('Full Quantity : '+str(fullquantity))\n",
    "print('Stoploss On ? : '+str(stoploss_on))\n",
    "print('Order Type : '+str(order_type))\n",
    "print()\n",
    "\n",
    "total_parts = 14\n",
    "\n",
    "scounter = int(total_parts/2)\n",
    "\n",
    "fibonmulti1=0.1180\n",
    "fibonmulti2=0.2360\n",
    "fibonmulti3=0.3820\n",
    "fibonmulti4=0.6180\n",
    "fibonmulti5=1.0000  # 100% Range\n",
    "fibonmulti6=1.1180\n",
    "fibonmulti7=1.2360\n",
    "fibonmulti8=1.3820\n",
    "fibonmulti9=1.6180\n",
    "fibonmulti10=2.0000 # Maximum quantity @ 200% Range\n",
    "fibonmulti11=2.1180 # Stops trading here\n",
    "fibonmulti12=2.3820 # Stoploss if set 'True' / No Stoploss if set 'False'\n",
    "\n",
    "print()\n",
    "print('pivot price : ' +str(pivot_price))\n",
    "\n",
    "print()\n",
    "base=0.0025\n",
    "# mynewdf = pd.DataFrame({'Buy Price':[],'Quantity':[],'Sell Price':[],})\n",
    "\n",
    "for i in range(1, int(total_parts/2)+1):\n",
    "    globals()['p'+str(i)+'b'] = round(pivot_price - pivot_range*(globals()['fibonmulti'+str(i)]),4)\n",
    "    globals()['p'+str(i)+'b'] = round(base * round(globals()['p'+str(i)+'b'] /base),4)\n",
    "#     mynewdf.loc[i]['Buy Price'] = globals()['p'+str(i)+'b']\n",
    "    print('p'+str(i)+'b = '+str(globals()['p'+str(i)+'b']))\n",
    "\n",
    "print()\n",
    "for i in range(1, int(total_parts/2)+1):\n",
    "    globals()['p'+str(i)+'s'] = round(pivot_price + pivot_range*(globals()['fibonmulti'+str(i)]),4)\n",
    "    globals()['p'+str(i)+'s'] = round(base * round(globals()['p'+str(i)+'s'] /base),4)\n",
    "#     mynewdf.loc[i]['Sell Price'] = globals()['p'+str(i)+'s']\n",
    "    print('p'+str(i)+'s = '+str(globals()['p'+str(i)+'s']))\n",
    "\n",
    "print()\n",
    "\n",
    "halfqunat = fullquantity/1\n",
    "tempcounter = 1\n",
    "\n",
    "for j in range(1):\n",
    "    for i in range(4,-1,-1):\n",
    "        globals()['p'+str(tempcounter)+'q'] = int((halfqunat*j) + int(halfqunat/pow(powermulti,i)))\n",
    "        print('p'+str(tempcounter)+'q : ' + str(globals()['p'+str(tempcounter)+'q']))\n",
    "#         mynewdf.loc[i]['Quantity'] = globals()['p'+str(i)+'q']\n",
    "        tempcounter = tempcounter+1\n",
    "\n",
    "p6q = p5q\n",
    "if(stoploss_on==True):\n",
    "    p7q = 0\n",
    "else :\n",
    "    p7q = p6q\n",
    "\n",
    "print('p6q : '+ str(p6q))\n",
    "print('p7q : '+ str(p7q))"
   ]
  },
  {
   "cell_type": "code",
   "execution_count": null,
   "metadata": {
    "ExecuteTime": {
     "end_time": "2020-12-03T06:02:09.905531Z",
     "start_time": "2020-12-03T06:02:02.271432Z"
    }
   },
   "outputs": [],
   "source": [
    "#####################\n",
    "# NORMAL RUN-2 of 3 #\n",
    "#####################\n",
    "\n",
    "myquantity = 0\n",
    "def getquant():\n",
    "    global myquantity\n",
    "    global order_type\n",
    "    global symbol_ip\n",
    "    allpos = kite.positions()['net']\n",
    "    for i in range(len(allpos)):\n",
    "        if(allpos[i]['tradingsymbol']==symbol_ip and  allpos[i]['product']== order_type):\n",
    "            myquantity = allpos[i]['quantity']\n",
    "            print('My Quantity : ' + str(allpos[i]['quantity']))\n",
    "        \n",
    "getquant()\n",
    "\n",
    "\n",
    "def ckqnt_old (orderprice,orderquant):\n",
    "    allpos = kite.positions()['net']\n",
    "    for i in range(len(allpos)):\n",
    "        if(allpos[i]['tradingsymbol']=='USDINR20OCTFUT'):\n",
    "            print('Position Quantity : ' + str(allpos[i]['quantity']))\n",
    "            quantdiff = orderquant - allpos[i]['quantity']\n",
    "            quantabs = abs(quantdiff)\n",
    "            if(quantdiff>0):\n",
    "                try:\n",
    "                    order_id =  kite.place_order(tradingsymbol=\"USDINR20OCTFUT\",\n",
    "                                exchange=kite.EXCHANGE_CDS,\n",
    "                                transaction_type=kite.TRANSACTION_TYPE_BUY,\n",
    "                                quantity=quantabs,\n",
    "                                order_type=kite.ORDER_TYPE_MARKET,\n",
    "                                variety = kite.VARIETY_REGULAR,\n",
    "                                product=kite.PRODUCT_MIS if order_type=='MIS' else kite.PRODUCT_NRML)\n",
    "                    \n",
    "                    allpos = kite.positions()['net']\n",
    "                except Exception as e:\n",
    "                    print(e)\n",
    "                    \n",
    "            if(quantdiff<0):\n",
    "                sellnewquant =  allpos[i]['quantity'] - orderquant\n",
    "                try:\n",
    "                    order_id =  kite.place_order(tradingsymbol=\"USDINR20OCTFUT\",\n",
    "                                exchange=kite.EXCHANGE_CDS,\n",
    "                                transaction_type=kite.TRANSACTION_TYPE_SELL,\n",
    "                                quantity=quantabs,\n",
    "                                order_type=kite.ORDER_TYPE_MARKET,\n",
    "                                variety = kite.VARIETY_REGULAR,\n",
    "                                product=kite.PRODUCT_MIS if order_type=='MIS' else kite.PRODUCT_NRML)\n",
    "                except Exception as e:\n",
    "                    print(e)\n",
    "                    \n",
    "    return allpos[i]['quantity']\n",
    "\n",
    "def placeneworder(quantdiff):\n",
    "    if(quantdiff>0):\n",
    "        try:\n",
    "                order_id= kite.place_order(tradingsymbol=\"USDINR20OCTFUT\",\n",
    "                            exchange=kite.EXCHANGE_CDS,\n",
    "                            transaction_type=kite.TRANSACTION_TYPE_BUY,\n",
    "                            quantity=abs(quantdiff),\n",
    "                            order_type=kite.ORDER_TYPE_MARKET,\n",
    "                            variety = kite.VARIETY_REGULAR,\n",
    "                            product=kite.PRODUCT_MIS if order_type=='MIS' else kite.PRODUCT_NRML)\n",
    "                getquant()\n",
    "        except Exception as e:\n",
    "            print(e)\n",
    "            getquant()\n",
    "    if(quantdiff<0):\n",
    "        try:\n",
    "                order_id= kite.place_order(tradingsymbol=\"USDINR20OCTFUT\",\n",
    "                            exchange=kite.EXCHANGE_CDS,\n",
    "                            transaction_type=kite.TRANSACTION_TYPE_SELL,\n",
    "                            quantity=abs(quantdiff),\n",
    "                            order_type=kite.ORDER_TYPE_MARKET,\n",
    "                            variety = kite.VARIETY_REGULAR,\n",
    "                            product=kite.PRODUCT_MIS if order_type=='MIS' else kite.PRODUCT_NRML)\n",
    "                getquant()\n",
    "        except Exception as e:\n",
    "            print(e)\n",
    "            getquant()\n",
    "\n",
    "\n",
    "def ckqnt (orderprice,orderquant):\n",
    "    global myquantity\n",
    "    quantdiff = orderquant - myquantity\n",
    "    placeneworder(quantdiff)\n",
    "    return myquantity\n",
    "\n",
    "\n",
    "def checkpivot(ltps):\n",
    "    if ((ltps>=(pivot_price-0.0050)) and (ltps<=(pivot_price+0.0050))):\n",
    "        ckqnt(pivot_price,0)\n",
    "        print('in pivot range')\n",
    "        \n",
    "    for i in range(1,int(total_parts/2)+1):\n",
    "        if(i==int(total_parts/2)):\n",
    "            if ((ltps <= (globals()['p'+str(i)+'b']-(band_gap/2))) and stoploss_on==True ):\n",
    "                ckqnt(globals()['p'+str(i)+'b'],globals()['p'+str(i)+'q'])\n",
    "                print('==========' + 'p'+str(i)+'b' +'===========')\n",
    "                print(str(ltps)+ ' < ' + 'p'+str(i)+'b')\n",
    "            if ((ltps >= (globals()['p'+str(i)+'s']+(band_gap/2))) and stoploss_on==True):\n",
    "                ckqnt(globals()['p'+str(i)+'s'],-(globals()['p'+str(i)+'q']))\n",
    "                print('==========' + 'p'+str(i)+'b' +'===========')\n",
    "                print(str(ltps)+ ' < ' + 'p'+str(i)+'b')\n",
    "        else:\n",
    "            if (ltps < (globals()['p'+str(i)+'b'] -(band_gap/2)) and ltps > (globals()['p'+str(i+1)+'b']+(band_gap/2))):\n",
    "                ckqnt(globals()['p'+str(i)+'b'],globals()['p'+str(i)+'q'])\n",
    "                print('==========' +'p'+str(i)+'b' + '==============' )\n",
    "                print(str(globals()['p'+str(i+1)+'b'])+ ' < ' +str(ltps)+ ' < ' +str(globals()['p'+str(i)+'b']))\n",
    "            if (ltps > (globals()['p'+str(i)+'s'] +(band_gap/2)) and ltps < (globals()['p'+str(i+1)+'s']-(band_gap/2))):\n",
    "                ckqnt(globals()['p'+str(i)+'s'],-(globals()['p'+str(i)+'q']))\n",
    "                print('==========' +'p'+str(i)+'s' + '==============' )\n",
    "                print(str(globals()['p'+str(i)+'s'])+ ' < ' +str(ltps)+ ' < ' +str(globals()['p'+str(i+1)+'s']))"
   ]
  },
  {
   "cell_type": "code",
   "execution_count": null,
   "metadata": {
    "ExecuteTime": {
     "end_time": "2020-12-03T06:02:25.442316Z",
     "start_time": "2020-12-03T06:02:09.910266Z"
    },
    "scrolled": true
   },
   "outputs": [],
   "source": [
    "#####################\n",
    "# NORMAL RUN-3 of 3 #\n",
    "#####################\n",
    "#################\n",
    "# START TRADING #\n",
    "#################\n",
    "moving_pivot_on = 2\n",
    "import logging\n",
    "from kiteconnect import KiteTicker\n",
    "logging.basicConfig(level=logging.DEBUG)\n",
    "# kws = KiteTicker(\"w19o0chuo929jxkp\", \"eA5B5OJQNOtZ0OYihkBmYw7Ke3B9pmCC\")\n",
    "\n",
    "def on_ticks(ws, ticks):\n",
    "    global pivot_price, moving_pivot_on\n",
    "    checkpivot(ticks[0]['last_price'])\n",
    "\n",
    "#     if(moving_pivot_on):\n",
    "#         pivot_price =round(base * round(ticks[0]['average_price']/base),4) # Moving Trade Average Line : 1\n",
    "#         calc_pivots();                                                     # Moving Trade Average Line : 2\n",
    "        \n",
    "    #print('===========================')\n",
    "    #print(type(ticks[0]['last_price']))\n",
    "    print('==========================')\n",
    "    print( 'LTP : ' + str(ticks[0]['last_price']))\n",
    "    #print('==========================')\n",
    "    #print()\n",
    "\n",
    "def on_connect(ws, response):\n",
    "    global inst_token\n",
    "    ws.subscribe([inst_token])\n",
    "    ws.set_mode(ws.MODE_FULL, [inst_token])\n",
    "\n",
    "def on_close(ws, code, reason):\n",
    "    ws.stop()\n",
    "    \n",
    "def on_error(ws, code, reason):\n",
    "    logging.error(\"closed connection on error: {} {}\".format(code, reason))\n",
    "\n",
    "def on_noreconnect(ws):\n",
    "    logging.error(\"Reconnecting the websocket failed\")\n",
    "\n",
    "def on_reconnect(ws, attempt_count):\n",
    "    logging.debug(\"Reconnecting the websocket: {}\".format(attempt_count))\n",
    "\n",
    "#def on_order_update(ws, data):\n",
    "#    print(\"order update: \", data)\n",
    "\n",
    "kws.on_error = on_error\n",
    "kws.on_noreconnect = on_noreconnect\n",
    "kws.on_reconnect = on_reconnect\n",
    "#kws.on_order_update = on_order_update\n",
    "\n",
    "kws.on_ticks = on_ticks\n",
    "kws.on_connect = on_connect\n",
    "kws.on_close = on_close\n",
    "\n",
    "kws.connect()"
   ]
  },
  {
   "cell_type": "code",
   "execution_count": null,
   "metadata": {},
   "outputs": [],
   "source": []
  }
 ],
 "metadata": {
  "kernelspec": {
   "display_name": "Python 3",
   "language": "python",
   "name": "python3"
  },
  "language_info": {
   "codemirror_mode": {
    "name": "ipython",
    "version": 3
   },
   "file_extension": ".py",
   "mimetype": "text/x-python",
   "name": "python",
   "nbconvert_exporter": "python",
   "pygments_lexer": "ipython3",
   "version": "3.7.3"
  },
  "varInspector": {
   "cols": {
    "lenName": 16,
    "lenType": 16,
    "lenVar": 40
   },
   "kernels_config": {
    "python": {
     "delete_cmd_postfix": "",
     "delete_cmd_prefix": "del ",
     "library": "var_list.py",
     "varRefreshCmd": "print(var_dic_list())"
    },
    "r": {
     "delete_cmd_postfix": ") ",
     "delete_cmd_prefix": "rm(",
     "library": "var_list.r",
     "varRefreshCmd": "cat(var_dic_list()) "
    }
   },
   "types_to_exclude": [
    "module",
    "function",
    "builtin_function_or_method",
    "instance",
    "_Feature"
   ],
   "window_display": false
  }
 },
 "nbformat": 4,
 "nbformat_minor": 4
}
