{
 "cells": [
  {
   "cell_type": "code",
   "execution_count": 1,
   "metadata": {},
   "outputs": [
    {
     "name": "stdout",
     "output_type": "stream",
     "text": [
      "CaKfpM1ttPw6AWj4N3HfxNc64NVh2Up4\n"
     ]
    }
   ],
   "source": [
    "#####################\n",
    "# AUTO LOGIN-1 of 1 #\n",
    "#####################\n",
    "\n",
    "import login\n",
    "from login import *\n",
    "import pandas as pd"
   ]
  },
  {
   "cell_type": "code",
   "execution_count": 2,
   "metadata": {},
   "outputs": [],
   "source": [
    "myquantity = 0\n",
    "def getquant():\n",
    "    global myquantity\n",
    "    global order_type\n",
    "    global symbol_ip\n",
    "    allpos = kite.positions()['net']\n",
    "    for i in range(len(allpos)):\n",
    "        if(allpos[i]['tradingsymbol']==symbol_ip and  allpos[i]['product']== order_type):\n",
    "            myquantity = allpos[i]['quantity']\n",
    "            print('My Quantity : ' + str(allpos[i]['quantity']))\n",
    "\n",
    "getquant()"
   ]
  },
  {
   "cell_type": "code",
   "execution_count": null,
   "metadata": {},
   "outputs": [],
   "source": [
    "def placeneworder(orderprice,quantdiff):\n",
    "    global stopbuy\n",
    "    global stopsell\n",
    "    global order_type\n",
    "    global symbol_ip\n",
    "    if(quantdiff>0 and stopbuy == False):\n",
    "        try:\n",
    "                order_id= kite.place_order(tradingsymbol=symbol_ip,\n",
    "                            exchange=kite.EXCHANGE_CDS,\n",
    "                            transaction_type=kite.TRANSACTION_TYPE_BUY,\n",
    "                            quantity=abs(quantdiff),\n",
    "                            price = orderprice,\n",
    "                            order_type=kite.ORDER_TYPE_LIMIT,\n",
    "                            variety = kite.VARIETY_REGULAR,\n",
    "                            product=kite.PRODUCT_MIS if order_type=='MIS' else kite.PRODUCT_NRML)\n",
    "                getquant()\n",
    "                stopsell = False\n",
    "        except Exception as e:\n",
    "            stopbuy = False\n",
    "            print(e)\n",
    "            getquant()\n",
    "    if(quantdiff<0 and stopsell == False):\n",
    "        try:\n",
    "                order_id= kite.place_order(tradingsymbol=symbol_ip,\n",
    "                            exchange=kite.EXCHANGE_CDS,\n",
    "                            transaction_type=kite.TRANSACTION_TYPE_SELL,\n",
    "                            quantity=abs(quantdiff),\n",
    "                            price = orderprice,\n",
    "                            order_type=kite.ORDER_TYPE_LIMIT,\n",
    "                            variety = kite.VARIETY_REGULAR,\n",
    "                            product=kite.PRODUCT_MIS if order_type=='MIS' else kite.PRODUCT_NRML)\n",
    "                getquant()\n",
    "                stopbuy = False\n",
    "        except Exception as e:\n",
    "            stopsell = True\n",
    "            print(e)\n",
    "            getquant()\n",
    "\n",
    "\n",
    "def ckqnt (orderprice,orderquant):\n",
    "    global myquantity\n",
    "    quantdiff = orderquant - myquantity\n",
    "    placeneworder(orderprice,quantdiff)\n",
    "    return myquantity"
   ]
  },
  {
   "cell_type": "code",
   "execution_count": null,
   "metadata": {},
   "outputs": [],
   "source": []
  },
  {
   "cell_type": "code",
   "execution_count": null,
   "metadata": {},
   "outputs": [],
   "source": [
    "initial_qant = 30\n",
    "base_price = 0.0\n"
   ]
  },
  {
   "cell_type": "code",
   "execution_count": null,
   "metadata": {},
   "outputs": [],
   "source": [
    "if(myquantity==0):\n",
    "    if(rsi<75):\n",
    "        "
   ]
  }
 ],
 "metadata": {
  "kernelspec": {
   "display_name": "Python 3",
   "language": "python",
   "name": "python3"
  },
  "language_info": {
   "codemirror_mode": {
    "name": "ipython",
    "version": 3
   },
   "file_extension": ".py",
   "mimetype": "text/x-python",
   "name": "python",
   "nbconvert_exporter": "python",
   "pygments_lexer": "ipython3",
   "version": "3.8.6"
  }
 },
 "nbformat": 4,
 "nbformat_minor": 4
}
