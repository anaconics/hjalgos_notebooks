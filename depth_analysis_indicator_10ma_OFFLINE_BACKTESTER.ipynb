{
 "cells": [
  {
   "cell_type": "code",
   "execution_count": 1,
   "id": "encouraging-crack",
   "metadata": {
    "ExecuteTime": {
     "end_time": "2021-04-13T18:51:33.590829Z",
     "start_time": "2021-04-13T18:51:32.533867Z"
    },
    "scrolled": true
   },
   "outputs": [
    {
     "data": {
      "text/html": [
       "\n",
       "    <div class=\"bk-root\">\n",
       "        <a href=\"https://bokeh.org\" target=\"_blank\" class=\"bk-logo bk-logo-small bk-logo-notebook\"></a>\n",
       "        <span id=\"1002\">Loading BokehJS ...</span>\n",
       "    </div>"
      ]
     },
     "metadata": {},
     "output_type": "display_data"
    },
    {
     "data": {
      "application/javascript": [
       "\n",
       "(function(root) {\n",
       "  function now() {\n",
       "    return new Date();\n",
       "  }\n",
       "\n",
       "  var force = true;\n",
       "\n",
       "  if (typeof root._bokeh_onload_callbacks === \"undefined\" || force === true) {\n",
       "    root._bokeh_onload_callbacks = [];\n",
       "    root._bokeh_is_loading = undefined;\n",
       "  }\n",
       "\n",
       "  var JS_MIME_TYPE = 'application/javascript';\n",
       "  var HTML_MIME_TYPE = 'text/html';\n",
       "  var EXEC_MIME_TYPE = 'application/vnd.bokehjs_exec.v0+json';\n",
       "  var CLASS_NAME = 'output_bokeh rendered_html';\n",
       "\n",
       "  /**\n",
       "   * Render data to the DOM node\n",
       "   */\n",
       "  function render(props, node) {\n",
       "    var script = document.createElement(\"script\");\n",
       "    node.appendChild(script);\n",
       "  }\n",
       "\n",
       "  /**\n",
       "   * Handle when an output is cleared or removed\n",
       "   */\n",
       "  function handleClearOutput(event, handle) {\n",
       "    var cell = handle.cell;\n",
       "\n",
       "    var id = cell.output_area._bokeh_element_id;\n",
       "    var server_id = cell.output_area._bokeh_server_id;\n",
       "    // Clean up Bokeh references\n",
       "    if (id != null && id in Bokeh.index) {\n",
       "      Bokeh.index[id].model.document.clear();\n",
       "      delete Bokeh.index[id];\n",
       "    }\n",
       "\n",
       "    if (server_id !== undefined) {\n",
       "      // Clean up Bokeh references\n",
       "      var cmd = \"from bokeh.io.state import curstate; print(curstate().uuid_to_server['\" + server_id + \"'].get_sessions()[0].document.roots[0]._id)\";\n",
       "      cell.notebook.kernel.execute(cmd, {\n",
       "        iopub: {\n",
       "          output: function(msg) {\n",
       "            var id = msg.content.text.trim();\n",
       "            if (id in Bokeh.index) {\n",
       "              Bokeh.index[id].model.document.clear();\n",
       "              delete Bokeh.index[id];\n",
       "            }\n",
       "          }\n",
       "        }\n",
       "      });\n",
       "      // Destroy server and session\n",
       "      var cmd = \"import bokeh.io.notebook as ion; ion.destroy_server('\" + server_id + \"')\";\n",
       "      cell.notebook.kernel.execute(cmd);\n",
       "    }\n",
       "  }\n",
       "\n",
       "  /**\n",
       "   * Handle when a new output is added\n",
       "   */\n",
       "  function handleAddOutput(event, handle) {\n",
       "    var output_area = handle.output_area;\n",
       "    var output = handle.output;\n",
       "\n",
       "    // limit handleAddOutput to display_data with EXEC_MIME_TYPE content only\n",
       "    if ((output.output_type != \"display_data\") || (!Object.prototype.hasOwnProperty.call(output.data, EXEC_MIME_TYPE))) {\n",
       "      return\n",
       "    }\n",
       "\n",
       "    var toinsert = output_area.element.find(\".\" + CLASS_NAME.split(' ')[0]);\n",
       "\n",
       "    if (output.metadata[EXEC_MIME_TYPE][\"id\"] !== undefined) {\n",
       "      toinsert[toinsert.length - 1].firstChild.textContent = output.data[JS_MIME_TYPE];\n",
       "      // store reference to embed id on output_area\n",
       "      output_area._bokeh_element_id = output.metadata[EXEC_MIME_TYPE][\"id\"];\n",
       "    }\n",
       "    if (output.metadata[EXEC_MIME_TYPE][\"server_id\"] !== undefined) {\n",
       "      var bk_div = document.createElement(\"div\");\n",
       "      bk_div.innerHTML = output.data[HTML_MIME_TYPE];\n",
       "      var script_attrs = bk_div.children[0].attributes;\n",
       "      for (var i = 0; i < script_attrs.length; i++) {\n",
       "        toinsert[toinsert.length - 1].firstChild.setAttribute(script_attrs[i].name, script_attrs[i].value);\n",
       "        toinsert[toinsert.length - 1].firstChild.textContent = bk_div.children[0].textContent\n",
       "      }\n",
       "      // store reference to server id on output_area\n",
       "      output_area._bokeh_server_id = output.metadata[EXEC_MIME_TYPE][\"server_id\"];\n",
       "    }\n",
       "  }\n",
       "\n",
       "  function register_renderer(events, OutputArea) {\n",
       "\n",
       "    function append_mime(data, metadata, element) {\n",
       "      // create a DOM node to render to\n",
       "      var toinsert = this.create_output_subarea(\n",
       "        metadata,\n",
       "        CLASS_NAME,\n",
       "        EXEC_MIME_TYPE\n",
       "      );\n",
       "      this.keyboard_manager.register_events(toinsert);\n",
       "      // Render to node\n",
       "      var props = {data: data, metadata: metadata[EXEC_MIME_TYPE]};\n",
       "      render(props, toinsert[toinsert.length - 1]);\n",
       "      element.append(toinsert);\n",
       "      return toinsert\n",
       "    }\n",
       "\n",
       "    /* Handle when an output is cleared or removed */\n",
       "    events.on('clear_output.CodeCell', handleClearOutput);\n",
       "    events.on('delete.Cell', handleClearOutput);\n",
       "\n",
       "    /* Handle when a new output is added */\n",
       "    events.on('output_added.OutputArea', handleAddOutput);\n",
       "\n",
       "    /**\n",
       "     * Register the mime type and append_mime function with output_area\n",
       "     */\n",
       "    OutputArea.prototype.register_mime_type(EXEC_MIME_TYPE, append_mime, {\n",
       "      /* Is output safe? */\n",
       "      safe: true,\n",
       "      /* Index of renderer in `output_area.display_order` */\n",
       "      index: 0\n",
       "    });\n",
       "  }\n",
       "\n",
       "  // register the mime type if in Jupyter Notebook environment and previously unregistered\n",
       "  if (root.Jupyter !== undefined) {\n",
       "    var events = require('base/js/events');\n",
       "    var OutputArea = require('notebook/js/outputarea').OutputArea;\n",
       "\n",
       "    if (OutputArea.prototype.mime_types().indexOf(EXEC_MIME_TYPE) == -1) {\n",
       "      register_renderer(events, OutputArea);\n",
       "    }\n",
       "  }\n",
       "\n",
       "  \n",
       "  if (typeof (root._bokeh_timeout) === \"undefined\" || force === true) {\n",
       "    root._bokeh_timeout = Date.now() + 5000;\n",
       "    root._bokeh_failed_load = false;\n",
       "  }\n",
       "\n",
       "  var NB_LOAD_WARNING = {'data': {'text/html':\n",
       "     \"<div style='background-color: #fdd'>\\n\"+\n",
       "     \"<p>\\n\"+\n",
       "     \"BokehJS does not appear to have successfully loaded. If loading BokehJS from CDN, this \\n\"+\n",
       "     \"may be due to a slow or bad network connection. Possible fixes:\\n\"+\n",
       "     \"</p>\\n\"+\n",
       "     \"<ul>\\n\"+\n",
       "     \"<li>re-rerun `output_notebook()` to attempt to load from CDN again, or</li>\\n\"+\n",
       "     \"<li>use INLINE resources instead, as so:</li>\\n\"+\n",
       "     \"</ul>\\n\"+\n",
       "     \"<code>\\n\"+\n",
       "     \"from bokeh.resources import INLINE\\n\"+\n",
       "     \"output_notebook(resources=INLINE)\\n\"+\n",
       "     \"</code>\\n\"+\n",
       "     \"</div>\"}};\n",
       "\n",
       "  function display_loaded() {\n",
       "    var el = document.getElementById(\"1002\");\n",
       "    if (el != null) {\n",
       "      el.textContent = \"BokehJS is loading...\";\n",
       "    }\n",
       "    if (root.Bokeh !== undefined) {\n",
       "      if (el != null) {\n",
       "        el.textContent = \"BokehJS \" + root.Bokeh.version + \" successfully loaded.\";\n",
       "      }\n",
       "    } else if (Date.now() < root._bokeh_timeout) {\n",
       "      setTimeout(display_loaded, 100)\n",
       "    }\n",
       "  }\n",
       "\n",
       "\n",
       "  function run_callbacks() {\n",
       "    try {\n",
       "      root._bokeh_onload_callbacks.forEach(function(callback) {\n",
       "        if (callback != null)\n",
       "          callback();\n",
       "      });\n",
       "    } finally {\n",
       "      delete root._bokeh_onload_callbacks\n",
       "    }\n",
       "    console.debug(\"Bokeh: all callbacks have finished\");\n",
       "  }\n",
       "\n",
       "  function load_libs(css_urls, js_urls, callback) {\n",
       "    if (css_urls == null) css_urls = [];\n",
       "    if (js_urls == null) js_urls = [];\n",
       "\n",
       "    root._bokeh_onload_callbacks.push(callback);\n",
       "    if (root._bokeh_is_loading > 0) {\n",
       "      console.debug(\"Bokeh: BokehJS is being loaded, scheduling callback at\", now());\n",
       "      return null;\n",
       "    }\n",
       "    if (js_urls == null || js_urls.length === 0) {\n",
       "      run_callbacks();\n",
       "      return null;\n",
       "    }\n",
       "    console.debug(\"Bokeh: BokehJS not loaded, scheduling load and callback at\", now());\n",
       "    root._bokeh_is_loading = css_urls.length + js_urls.length;\n",
       "\n",
       "    function on_load() {\n",
       "      root._bokeh_is_loading--;\n",
       "      if (root._bokeh_is_loading === 0) {\n",
       "        console.debug(\"Bokeh: all BokehJS libraries/stylesheets loaded\");\n",
       "        run_callbacks()\n",
       "      }\n",
       "    }\n",
       "\n",
       "    function on_error(url) {\n",
       "      console.error(\"failed to load \" + url);\n",
       "    }\n",
       "\n",
       "    for (let i = 0; i < css_urls.length; i++) {\n",
       "      const url = css_urls[i];\n",
       "      const element = document.createElement(\"link\");\n",
       "      element.onload = on_load;\n",
       "      element.onerror = on_error.bind(null, url);\n",
       "      element.rel = \"stylesheet\";\n",
       "      element.type = \"text/css\";\n",
       "      element.href = url;\n",
       "      console.debug(\"Bokeh: injecting link tag for BokehJS stylesheet: \", url);\n",
       "      document.body.appendChild(element);\n",
       "    }\n",
       "\n",
       "    const hashes = {\"https://cdn.bokeh.org/bokeh/release/bokeh-2.3.1.min.js\": \"YF85VygJKMVnHE+lLv2AM93Vbstr0yo2TbIu5v8se5Rq3UQAUmcuh4aaJwNlpKwa\", \"https://cdn.bokeh.org/bokeh/release/bokeh-widgets-2.3.1.min.js\": \"KKuas3gevv3PvrlkyCMzffFeaMq5we/a2QsP5AUoS3mJ0jmaCL7jirFJN3GoE/lM\", \"https://cdn.bokeh.org/bokeh/release/bokeh-tables-2.3.1.min.js\": \"MK/uFc3YT18pkvvXRl66tTHjP0/dxoSH2e/eiNMFIguKlun2+WVqaPTWmUy/zvh4\"};\n",
       "\n",
       "    for (let i = 0; i < js_urls.length; i++) {\n",
       "      const url = js_urls[i];\n",
       "      const element = document.createElement('script');\n",
       "      element.onload = on_load;\n",
       "      element.onerror = on_error.bind(null, url);\n",
       "      element.async = false;\n",
       "      element.src = url;\n",
       "      if (url in hashes) {\n",
       "        element.crossOrigin = \"anonymous\";\n",
       "        element.integrity = \"sha384-\" + hashes[url];\n",
       "      }\n",
       "      console.debug(\"Bokeh: injecting script tag for BokehJS library: \", url);\n",
       "      document.head.appendChild(element);\n",
       "    }\n",
       "  };\n",
       "\n",
       "  function inject_raw_css(css) {\n",
       "    const element = document.createElement(\"style\");\n",
       "    element.appendChild(document.createTextNode(css));\n",
       "    document.body.appendChild(element);\n",
       "  }\n",
       "\n",
       "  \n",
       "  var js_urls = [\"https://cdn.bokeh.org/bokeh/release/bokeh-2.3.1.min.js\", \"https://cdn.bokeh.org/bokeh/release/bokeh-widgets-2.3.1.min.js\", \"https://cdn.bokeh.org/bokeh/release/bokeh-tables-2.3.1.min.js\"];\n",
       "  var css_urls = [];\n",
       "  \n",
       "\n",
       "  var inline_js = [\n",
       "    function(Bokeh) {\n",
       "      Bokeh.set_log_level(\"info\");\n",
       "    },\n",
       "    function(Bokeh) {\n",
       "    \n",
       "    \n",
       "    }\n",
       "  ];\n",
       "\n",
       "  function run_inline_js() {\n",
       "    \n",
       "    if (root.Bokeh !== undefined || force === true) {\n",
       "      \n",
       "    for (var i = 0; i < inline_js.length; i++) {\n",
       "      inline_js[i].call(root, root.Bokeh);\n",
       "    }\n",
       "    if (force === true) {\n",
       "        display_loaded();\n",
       "      }} else if (Date.now() < root._bokeh_timeout) {\n",
       "      setTimeout(run_inline_js, 100);\n",
       "    } else if (!root._bokeh_failed_load) {\n",
       "      console.log(\"Bokeh: BokehJS failed to load within specified timeout.\");\n",
       "      root._bokeh_failed_load = true;\n",
       "    } else if (force !== true) {\n",
       "      var cell = $(document.getElementById(\"1002\")).parents('.cell').data().cell;\n",
       "      cell.output_area.append_execute_result(NB_LOAD_WARNING)\n",
       "    }\n",
       "\n",
       "  }\n",
       "\n",
       "  if (root._bokeh_is_loading === 0) {\n",
       "    console.debug(\"Bokeh: BokehJS loaded, going straight to plotting\");\n",
       "    run_inline_js();\n",
       "  } else {\n",
       "    load_libs(css_urls, js_urls, function() {\n",
       "      console.debug(\"Bokeh: BokehJS plotting callback run at\", now());\n",
       "      run_inline_js();\n",
       "    });\n",
       "  }\n",
       "}(window));"
      ],
      "application/vnd.bokehjs_load.v0+json": "\n(function(root) {\n  function now() {\n    return new Date();\n  }\n\n  var force = true;\n\n  if (typeof root._bokeh_onload_callbacks === \"undefined\" || force === true) {\n    root._bokeh_onload_callbacks = [];\n    root._bokeh_is_loading = undefined;\n  }\n\n  \n\n  \n  if (typeof (root._bokeh_timeout) === \"undefined\" || force === true) {\n    root._bokeh_timeout = Date.now() + 5000;\n    root._bokeh_failed_load = false;\n  }\n\n  var NB_LOAD_WARNING = {'data': {'text/html':\n     \"<div style='background-color: #fdd'>\\n\"+\n     \"<p>\\n\"+\n     \"BokehJS does not appear to have successfully loaded. If loading BokehJS from CDN, this \\n\"+\n     \"may be due to a slow or bad network connection. Possible fixes:\\n\"+\n     \"</p>\\n\"+\n     \"<ul>\\n\"+\n     \"<li>re-rerun `output_notebook()` to attempt to load from CDN again, or</li>\\n\"+\n     \"<li>use INLINE resources instead, as so:</li>\\n\"+\n     \"</ul>\\n\"+\n     \"<code>\\n\"+\n     \"from bokeh.resources import INLINE\\n\"+\n     \"output_notebook(resources=INLINE)\\n\"+\n     \"</code>\\n\"+\n     \"</div>\"}};\n\n  function display_loaded() {\n    var el = document.getElementById(\"1002\");\n    if (el != null) {\n      el.textContent = \"BokehJS is loading...\";\n    }\n    if (root.Bokeh !== undefined) {\n      if (el != null) {\n        el.textContent = \"BokehJS \" + root.Bokeh.version + \" successfully loaded.\";\n      }\n    } else if (Date.now() < root._bokeh_timeout) {\n      setTimeout(display_loaded, 100)\n    }\n  }\n\n\n  function run_callbacks() {\n    try {\n      root._bokeh_onload_callbacks.forEach(function(callback) {\n        if (callback != null)\n          callback();\n      });\n    } finally {\n      delete root._bokeh_onload_callbacks\n    }\n    console.debug(\"Bokeh: all callbacks have finished\");\n  }\n\n  function load_libs(css_urls, js_urls, callback) {\n    if (css_urls == null) css_urls = [];\n    if (js_urls == null) js_urls = [];\n\n    root._bokeh_onload_callbacks.push(callback);\n    if (root._bokeh_is_loading > 0) {\n      console.debug(\"Bokeh: BokehJS is being loaded, scheduling callback at\", now());\n      return null;\n    }\n    if (js_urls == null || js_urls.length === 0) {\n      run_callbacks();\n      return null;\n    }\n    console.debug(\"Bokeh: BokehJS not loaded, scheduling load and callback at\", now());\n    root._bokeh_is_loading = css_urls.length + js_urls.length;\n\n    function on_load() {\n      root._bokeh_is_loading--;\n      if (root._bokeh_is_loading === 0) {\n        console.debug(\"Bokeh: all BokehJS libraries/stylesheets loaded\");\n        run_callbacks()\n      }\n    }\n\n    function on_error(url) {\n      console.error(\"failed to load \" + url);\n    }\n\n    for (let i = 0; i < css_urls.length; i++) {\n      const url = css_urls[i];\n      const element = document.createElement(\"link\");\n      element.onload = on_load;\n      element.onerror = on_error.bind(null, url);\n      element.rel = \"stylesheet\";\n      element.type = \"text/css\";\n      element.href = url;\n      console.debug(\"Bokeh: injecting link tag for BokehJS stylesheet: \", url);\n      document.body.appendChild(element);\n    }\n\n    const hashes = {\"https://cdn.bokeh.org/bokeh/release/bokeh-2.3.1.min.js\": \"YF85VygJKMVnHE+lLv2AM93Vbstr0yo2TbIu5v8se5Rq3UQAUmcuh4aaJwNlpKwa\", \"https://cdn.bokeh.org/bokeh/release/bokeh-widgets-2.3.1.min.js\": \"KKuas3gevv3PvrlkyCMzffFeaMq5we/a2QsP5AUoS3mJ0jmaCL7jirFJN3GoE/lM\", \"https://cdn.bokeh.org/bokeh/release/bokeh-tables-2.3.1.min.js\": \"MK/uFc3YT18pkvvXRl66tTHjP0/dxoSH2e/eiNMFIguKlun2+WVqaPTWmUy/zvh4\"};\n\n    for (let i = 0; i < js_urls.length; i++) {\n      const url = js_urls[i];\n      const element = document.createElement('script');\n      element.onload = on_load;\n      element.onerror = on_error.bind(null, url);\n      element.async = false;\n      element.src = url;\n      if (url in hashes) {\n        element.crossOrigin = \"anonymous\";\n        element.integrity = \"sha384-\" + hashes[url];\n      }\n      console.debug(\"Bokeh: injecting script tag for BokehJS library: \", url);\n      document.head.appendChild(element);\n    }\n  };\n\n  function inject_raw_css(css) {\n    const element = document.createElement(\"style\");\n    element.appendChild(document.createTextNode(css));\n    document.body.appendChild(element);\n  }\n\n  \n  var js_urls = [\"https://cdn.bokeh.org/bokeh/release/bokeh-2.3.1.min.js\", \"https://cdn.bokeh.org/bokeh/release/bokeh-widgets-2.3.1.min.js\", \"https://cdn.bokeh.org/bokeh/release/bokeh-tables-2.3.1.min.js\"];\n  var css_urls = [];\n  \n\n  var inline_js = [\n    function(Bokeh) {\n      Bokeh.set_log_level(\"info\");\n    },\n    function(Bokeh) {\n    \n    \n    }\n  ];\n\n  function run_inline_js() {\n    \n    if (root.Bokeh !== undefined || force === true) {\n      \n    for (var i = 0; i < inline_js.length; i++) {\n      inline_js[i].call(root, root.Bokeh);\n    }\n    if (force === true) {\n        display_loaded();\n      }} else if (Date.now() < root._bokeh_timeout) {\n      setTimeout(run_inline_js, 100);\n    } else if (!root._bokeh_failed_load) {\n      console.log(\"Bokeh: BokehJS failed to load within specified timeout.\");\n      root._bokeh_failed_load = true;\n    } else if (force !== true) {\n      var cell = $(document.getElementById(\"1002\")).parents('.cell').data().cell;\n      cell.output_area.append_execute_result(NB_LOAD_WARNING)\n    }\n\n  }\n\n  if (root._bokeh_is_loading === 0) {\n    console.debug(\"Bokeh: BokehJS loaded, going straight to plotting\");\n    run_inline_js();\n  } else {\n    load_libs(css_urls, js_urls, function() {\n      console.debug(\"Bokeh: BokehJS plotting callback run at\", now());\n      run_inline_js();\n    });\n  }\n}(window));"
     },
     "metadata": {},
     "output_type": "display_data"
    }
   ],
   "source": [
    "######## # AUTO LOGIN-1 #########\n",
    "account_name = 'haj'\n",
    "import pandas as pd\n",
    "import numpy as np\n",
    "import threading\n",
    "import tqdm\n",
    "pd.set_option('plotting.backend', 'pandas_bokeh')\n",
    "import pandas_bokeh\n",
    "pandas_bokeh.output_notebook()\n",
    "%load_ext line_profiler"
   ]
  },
  {
   "cell_type": "code",
   "execution_count": 2,
   "id": "nutritional-ghana",
   "metadata": {
    "ExecuteTime": {
     "end_time": "2021-04-13T18:51:33.598424Z",
     "start_time": "2021-04-13T18:51:33.593931Z"
    }
   },
   "outputs": [],
   "source": [
    "qty_m_spot = 200\n",
    "\n",
    "threshold = 35\n",
    "qty_factor = 15\n",
    "ma = 10\n",
    "srnum = 24\n",
    "inst_token = 299011"
   ]
  },
  {
   "cell_type": "code",
   "execution_count": 3,
   "id": "decimal-intake",
   "metadata": {
    "ExecuteTime": {
     "end_time": "2021-04-13T18:51:33.618739Z",
     "start_time": "2021-04-13T18:51:33.601764Z"
    }
   },
   "outputs": [],
   "source": [
    "tkndf = pd.read_csv('./data_records/tokens_list_df.csv')\n",
    "tkn_list = tkndf['0'].to_list()"
   ]
  },
  {
   "cell_type": "code",
   "execution_count": 4,
   "id": "dynamic-reggae",
   "metadata": {
    "ExecuteTime": {
     "end_time": "2021-04-13T18:51:33.639704Z",
     "start_time": "2021-04-13T18:51:33.622187Z"
    }
   },
   "outputs": [],
   "source": [
    "class PnLCalculator:\n",
    "    def __init__(self):\n",
    "        self.quantity = 0\n",
    "        self.cost = 0.0\n",
    "        self.market_value = 0.0\n",
    "        self.r_pnl = 0.0\n",
    "        self.average_price = 0.0\n",
    "        self.date = 0.0\n",
    "\n",
    "    def fill(self, n_pos, exec_price,date):\n",
    "        pos_change = n_pos - self.quantity\n",
    "        direction = np.sign(pos_change)\n",
    "        prev_direction = np.sign(self.quantity)\n",
    "        qty_closing = min(abs(self.quantity), abs(pos_change)) * direction if prev_direction != direction else 0\n",
    "        qty_opening = pos_change if prev_direction == direction else pos_change - qty_closing\n",
    "\n",
    "        new_cost = self.cost + qty_opening * exec_price\n",
    "        if self.quantity != 0:\n",
    "            new_cost += qty_closing * self.cost / self.quantity\n",
    "            self.r_pnl += qty_closing * (self.cost / self.quantity - exec_price)\n",
    "\n",
    "        self.quantity = n_pos\n",
    "        self.cost = new_cost\n",
    "        self.date = date\n",
    "\n",
    "    def update(self, price):\n",
    "        if self.quantity != 0:\n",
    "            self.average_price = self.cost / self.quantity\n",
    "        else: \n",
    "            self.average_price = 0\n",
    "        self.market_value = self.quantity * price\n",
    "        return self.market_value - self.cost"
   ]
  },
  {
   "cell_type": "code",
   "execution_count": 5,
   "id": "sonic-possible",
   "metadata": {
    "ExecuteTime": {
     "end_time": "2021-04-13T18:51:33.653060Z",
     "start_time": "2021-04-13T18:51:33.641896Z"
    }
   },
   "outputs": [],
   "source": [
    "def export_calc(log_data_lst):\n",
    "    npdsf = pd.DataFrame(log_data_lst)\n",
    "#     npdsf = pd.concat([depth_data_old,npdsf])\n",
    "    ndf =  npdsf[npdsf.trend != 0]\n",
    "    counter = 0\n",
    "    positions_call = ndf['my_qty']\n",
    "    exec_prices_call = ndf['ltp']\n",
    "    bkg_and_charges = 64.5\n",
    "    date_call = ndf['date']\n",
    "    pnls_call = []\n",
    "    pos_call = PnLCalculator()\n",
    "    for (p,e,dt) in zip(positions_call, exec_prices_call,date_call):\n",
    "        pos_call.fill(p, e,dt)\n",
    "        u_pnl = pos_call.update(e)\n",
    "        pnls_call.append({'date':pos_call.date,\n",
    "                          'Qty':int(pos_call.quantity),\n",
    "                          'r_pnl':round((1000*pos_call.r_pnl),4),\n",
    "                          'u_pnl':round(1000*u_pnl,4),\n",
    "                          'total_pnl':round(1000*(pos_call.r_pnl+u_pnl)-(counter*(bkg_and_charges/2)),4),\n",
    "                          'average_price':round(pos_call.average_price,4),\n",
    "                         })\n",
    "        counter = counter +1\n",
    "\n",
    "    pnls_df_call = pd.DataFrame(pnls_call)\n",
    "    return pnls_df_call\n",
    "    # print(pnls_df_call)\n",
    "    # pnls_df_call['total_pnl'].plot()\n",
    "    \n",
    "    \n",
    "#     npdsf.to_excel('./depth_data_8_1__'+str(srnum)+'.xlsx')\n",
    "#     pnls_df_call.to_excel('./pnls_df_call_4_1__'+str(srnum)+'.xlsx')\n",
    "    \n",
    "def Average(lst): \n",
    "    return sum(lst) / len(lst) "
   ]
  },
  {
   "cell_type": "code",
   "execution_count": 6,
   "id": "alert-marina",
   "metadata": {
    "ExecuteTime": {
     "end_time": "2021-04-13T18:51:33.669127Z",
     "start_time": "2021-04-13T18:51:33.654961Z"
    }
   },
   "outputs": [],
   "source": [
    "def check_nan(num):\n",
    "    is_nan = False\n",
    "    if(np.isneginf(num) or np.isneginf(num) or np.isinf(num) or (num != num)):\n",
    "        is_nan = True\n",
    "    return is_nan"
   ]
  },
  {
   "cell_type": "code",
   "execution_count": 7,
   "id": "honest-deposit",
   "metadata": {
    "ExecuteTime": {
     "end_time": "2021-04-13T18:51:33.681350Z",
     "start_time": "2021-04-13T18:51:33.671400Z"
    }
   },
   "outputs": [],
   "source": [
    "inst_wise_analysis_list = []"
   ]
  },
  {
   "cell_type": "code",
   "execution_count": 8,
   "id": "guilty-organizer",
   "metadata": {
    "ExecuteTime": {
     "end_time": "2021-04-13T18:51:33.701310Z",
     "start_time": "2021-04-13T18:51:33.684242Z"
    }
   },
   "outputs": [],
   "source": [
    "def analyze_one_inst(one_tkn):\n",
    "    global inst_wise_analysis_list\n",
    "    depth_data_old = pd.read_excel(f'./data_records/instwise/{one_tkn}.xlsx')\n",
    "#     del depth_data_old['Unnamed: 0.1']\n",
    "#     del depth_data_old['Unnamed: 0']\n",
    "    # my_qty = depth_data_old['my_qty'][depth_data_old.index.values[-1]]\n",
    "    my_qty = 0\n",
    "    depth_data_old\n",
    "\n",
    "\n",
    "    buy_qty_lst = []\n",
    "    sell_qty_lst = []\n",
    "    percent_lst = []\n",
    "    percent_diff_lst = []\n",
    "    log_data_lst = []\n",
    "    \n",
    "\n",
    "    for i in range(len(depth_data_old.index)):\n",
    "\n",
    "        buy_quantity = depth_data_old.loc[ i , : ]['buy_quantity']\n",
    "        sell_quantity = depth_data_old.loc[ i , : ]['sell_quantity']\n",
    "        diff = buy_quantity - sell_quantity\n",
    "        mean = (buy_quantity + sell_quantity)/2\n",
    "        if(mean==0):\n",
    "            mean = 0.000001\n",
    "        percent  = (diff/mean)*100\n",
    "        percent_lst.append(percent)\n",
    "        if(len(percent_lst)>ma):\n",
    "            percent_lst.pop(0)\n",
    "\n",
    "        percent_10ma = Average(percent_lst)\n",
    "        \n",
    "        if(percent_10ma==0):\n",
    "            percent_10ma=0.000001\n",
    "        \n",
    "        percent_diff = 100*(percent-percent_10ma)/percent_10ma\n",
    "\n",
    "\n",
    "        percent_diff_lst.append(percent_diff)\n",
    "        if(len(percent_diff_lst)>ma):\n",
    "            percent_diff_lst.pop(0)\n",
    "        percent_diff_10ma = Average(percent_diff_lst)\n",
    "\n",
    "        trend = 0\n",
    "        \n",
    "        if(len(percent_diff_lst)==ma):\n",
    "            if(percent_diff_10ma>0 and percent_diff>threshold):\n",
    "                trend = 1\n",
    "                if(not check_nan(qty_m_spot*(percent_diff/100)/qty_factor)):\n",
    "                    my_qty = my_qty + abs(int(qty_m_spot*(percent_diff/100)/qty_factor))\n",
    "\n",
    "            if(percent_diff_10ma<0 and percent_diff<-threshold):\n",
    "                trend = -1\n",
    "                if(not check_nan(qty_m_spot*(percent_diff/100)/qty_factor)):\n",
    "                    my_qty = my_qty - abs(int(qty_m_spot*(percent_diff/100)/qty_factor))\n",
    "\n",
    "\n",
    "        log_data_lst.append({'buy_quantity':buy_quantity,\n",
    "                             'sell_quantity':sell_quantity,\n",
    "                             'diff':diff,\n",
    "                             'mean':mean,\n",
    "                             'percent':percent,\n",
    "                             'percent_10ma':percent_10ma,\n",
    "                             'percent_diff':percent_diff,\n",
    "                             'percent_diff_10ma':percent_diff_10ma,\n",
    "                             'trend':trend,\n",
    "                             'my_qty':my_qty,\n",
    "                             'ltp':depth_data_old.loc[ i , : ]['last_price'],\n",
    "                             'date':depth_data_old.loc[ i , : ]['last_trade_time']})\n",
    "        \n",
    "    pnls_df = export_calc(log_data_lst)\n",
    "    \n",
    "    if(pnls_df.empty == True):\n",
    "        return\n",
    "    \n",
    "    \n",
    "    pnls_df.to_excel(f'./data_records/pnls_df_rev/pnls_df_{one_tkn}.xlsx')\n",
    "\n",
    "    final_pnl = pnls_df.iloc[-1:]['total_pnl'].to_list()[0]\n",
    "    print(f'final_pnl : {int(final_pnl)}')\n",
    "\n",
    "    min_qty = pnls_df.describe()['Qty']['min']\n",
    "    max_qty = pnls_df.describe()['Qty']['max']\n",
    "\n",
    "    mean_price = pnls_df.describe()['average_price']['mean']\n",
    "\n",
    "    qty_diff = max_qty - min_qty\n",
    "\n",
    "    max_required_fund = qty_diff*mean_price\n",
    "    print(f'max_required_fund : {int(max_required_fund)}')\n",
    "\n",
    "    sharpe_ratio = np.sqrt(252)* pnls_df.describe()['total_pnl']['mean']/pnls_df.describe()['total_pnl']['std']\n",
    "    print(f'sharpe_ratio : {sharpe_ratio}')\n",
    "\n",
    "    pnl_by_max_req_fund = final_pnl/max_required_fund\n",
    "    print(f'pnl_by_max_req_fund : {pnl_by_max_req_fund}')\n",
    "\n",
    "    print(f'insttkn : {one_tkn}')\n",
    "    print('=======================================')\n",
    "\n",
    "    inst_wise_analysis_list.append({'insttkn':one_tkn,\n",
    "                                    'final_pnl':final_pnl,\n",
    "                                    'max_required_fund':max_required_fund,\n",
    "                                    'sharpe_ratio':sharpe_ratio,\n",
    "                                    'pnl_by_max_req_fund':pnl_by_max_req_fund,}) \n",
    "    \n",
    "    "
   ]
  },
  {
   "cell_type": "code",
   "execution_count": 9,
   "id": "expected-helmet",
   "metadata": {
    "ExecuteTime": {
     "end_time": "2021-04-13T19:14:59.908737Z",
     "start_time": "2021-04-13T18:51:33.704629Z"
    },
    "scrolled": true
   },
   "outputs": [
    {
     "name": "stderr",
     "output_type": "stream",
     "text": [
      "  2%|▏         | 1/62 [00:22<23:21, 22.98s/it]"
     ]
    },
    {
     "name": "stdout",
     "output_type": "stream",
     "text": [
      "final_pnl : 1772432\n",
      "max_required_fund : 624017\n",
      "sharpe_ratio : 5.410538012673001\n",
      "pnl_by_max_req_fund : 2.840356104861562\n",
      "insttkn : 4267265\n",
      "=======================================\n"
     ]
    },
    {
     "name": "stderr",
     "output_type": "stream",
     "text": [
      "\r",
      "  3%|▎         | 2/62 [00:50<25:43, 25.73s/it]"
     ]
    },
    {
     "name": "stdout",
     "output_type": "stream",
     "text": [
      "final_pnl : 24731004\n",
      "max_required_fund : 4994739\n",
      "sharpe_ratio : -7.720858512468265\n",
      "pnl_by_max_req_fund : 4.951410010652867\n",
      "insttkn : 3001089\n",
      "=======================================\n"
     ]
    },
    {
     "name": "stderr",
     "output_type": "stream",
     "text": [
      "\r",
      "  5%|▍         | 3/62 [01:17<25:47, 26.23s/it]"
     ]
    },
    {
     "name": "stdout",
     "output_type": "stream",
     "text": [
      "final_pnl : -756456540\n",
      "max_required_fund : 20854089\n",
      "sharpe_ratio : -4.013639469479587\n",
      "pnl_by_max_req_fund : -36.273774151093306\n",
      "insttkn : 2815745\n",
      "=======================================\n"
     ]
    },
    {
     "name": "stderr",
     "output_type": "stream",
     "text": [
      "\r",
      "  6%|▋         | 4/62 [01:45<25:57, 26.86s/it]"
     ]
    },
    {
     "name": "stdout",
     "output_type": "stream",
     "text": [
      "final_pnl : 15957470\n",
      "max_required_fund : 1106468\n",
      "sharpe_ratio : 33.652966627022465\n",
      "pnl_by_max_req_fund : 14.421977793266478\n",
      "insttkn : 969473\n",
      "=======================================\n"
     ]
    },
    {
     "name": "stderr",
     "output_type": "stream",
     "text": [
      "\r",
      " 10%|▉         | 6/62 [02:09<17:53, 19.17s/it]"
     ]
    },
    {
     "name": "stdout",
     "output_type": "stream",
     "text": [
      "final_pnl : 462841363\n",
      "max_required_fund : 93457073\n",
      "sharpe_ratio : 12.409783556331838\n",
      "pnl_by_max_req_fund : 4.95244870745323\n",
      "insttkn : 119553\n",
      "=======================================\n"
     ]
    },
    {
     "name": "stderr",
     "output_type": "stream",
     "text": [
      "\r",
      " 11%|█▏        | 7/62 [02:32<18:18, 19.98s/it]"
     ]
    },
    {
     "name": "stdout",
     "output_type": "stream",
     "text": [
      "final_pnl : 37654400\n",
      "max_required_fund : 26946661\n",
      "sharpe_ratio : 3.519853679926196\n",
      "pnl_by_max_req_fund : 1.3973679206032874\n",
      "insttkn : 633601\n",
      "=======================================\n"
     ]
    },
    {
     "name": "stderr",
     "output_type": "stream",
     "text": [
      "\r",
      " 13%|█▎        | 8/62 [02:52<18:07, 20.13s/it]"
     ]
    },
    {
     "name": "stdout",
     "output_type": "stream",
     "text": [
      "final_pnl : -501637281\n",
      "max_required_fund : 34152214\n",
      "sharpe_ratio : -17.170242186361367\n",
      "pnl_by_max_req_fund : -14.68827980456844\n",
      "insttkn : 794369\n",
      "=======================================\n"
     ]
    },
    {
     "name": "stderr",
     "output_type": "stream",
     "text": [
      "\r",
      " 15%|█▍        | 9/62 [03:19<19:32, 22.13s/it]"
     ]
    },
    {
     "name": "stdout",
     "output_type": "stream",
     "text": [
      "final_pnl : 3020989256\n",
      "max_required_fund : 291116953\n",
      "sharpe_ratio : 9.308828703335283\n",
      "pnl_by_max_req_fund : 10.377235755069677\n",
      "insttkn : 2953217\n",
      "=======================================\n"
     ]
    },
    {
     "name": "stderr",
     "output_type": "stream",
     "text": [
      "\r",
      " 18%|█▊        | 11/62 [03:43<14:54, 17.53s/it]"
     ]
    },
    {
     "name": "stdout",
     "output_type": "stream",
     "text": [
      "final_pnl : 2892868\n",
      "max_required_fund : 445921\n",
      "sharpe_ratio : 22.490755127711108\n",
      "pnl_by_max_req_fund : 6.487394824540919\n",
      "insttkn : 232961\n",
      "=======================================\n"
     ]
    },
    {
     "name": "stderr",
     "output_type": "stream",
     "text": [
      "\r",
      " 19%|█▉        | 12/62 [04:05<15:32, 18.65s/it]"
     ]
    },
    {
     "name": "stdout",
     "output_type": "stream",
     "text": [
      "final_pnl : 12625007\n",
      "max_required_fund : 13298306\n",
      "sharpe_ratio : -5.967225115127892\n",
      "pnl_by_max_req_fund : 0.9493695002877764\n",
      "insttkn : 315393\n",
      "=======================================\n"
     ]
    },
    {
     "name": "stderr",
     "output_type": "stream",
     "text": [
      "\r",
      " 21%|██        | 13/62 [04:34<17:27, 21.37s/it]"
     ]
    },
    {
     "name": "stdout",
     "output_type": "stream",
     "text": [
      "final_pnl : 47820147\n",
      "max_required_fund : 6982127\n",
      "sharpe_ratio : 23.781626513478766\n",
      "pnl_by_max_req_fund : 6.848936778252819\n",
      "insttkn : 1270529\n",
      "=======================================\n"
     ]
    },
    {
     "name": "stderr",
     "output_type": "stream",
     "text": [
      "\r",
      " 23%|██▎       | 14/62 [04:53<16:32, 20.67s/it]"
     ]
    },
    {
     "name": "stdout",
     "output_type": "stream",
     "text": [
      "final_pnl : 51231\n",
      "max_required_fund : 19856\n",
      "sharpe_ratio : 0.8410920970620747\n",
      "pnl_by_max_req_fund : 2.5801073346452643\n",
      "insttkn : 5215745\n",
      "=======================================\n"
     ]
    },
    {
     "name": "stderr",
     "output_type": "stream",
     "text": [
      "\r",
      " 24%|██▍       | 15/62 [05:20<17:37, 22.49s/it]"
     ]
    },
    {
     "name": "stdout",
     "output_type": "stream",
     "text": [
      "final_pnl : 56028754\n",
      "max_required_fund : 3853910\n",
      "sharpe_ratio : 3.5432600649217587\n",
      "pnl_by_max_req_fund : 14.53815554244526\n",
      "insttkn : 356865\n",
      "=======================================\n"
     ]
    },
    {
     "name": "stderr",
     "output_type": "stream",
     "text": [
      "\r",
      " 27%|██▋       | 17/62 [05:46<13:43, 18.30s/it]"
     ]
    },
    {
     "name": "stdout",
     "output_type": "stream",
     "text": [
      "final_pnl : 6495479\n",
      "max_required_fund : 17500830443862\n",
      "sharpe_ratio : 18.583165076936808\n",
      "pnl_by_max_req_fund : 3.711526302043534e-07\n",
      "insttkn : 2952193\n",
      "=======================================\n"
     ]
    },
    {
     "name": "stderr",
     "output_type": "stream",
     "text": [
      "\r",
      " 32%|███▏      | 20/62 [06:13<09:37, 13.76s/it]"
     ]
    },
    {
     "name": "stdout",
     "output_type": "stream",
     "text": [
      "final_pnl : 4110926\n",
      "max_required_fund : 3834367\n",
      "sharpe_ratio : 44.4174588764834\n",
      "pnl_by_max_req_fund : 1.072126236231073\n",
      "insttkn : 4268801\n",
      "=======================================\n"
     ]
    },
    {
     "name": "stderr",
     "output_type": "stream",
     "text": [
      "\r",
      " 34%|███▍      | 21/62 [06:36<10:35, 15.49s/it]"
     ]
    },
    {
     "name": "stdout",
     "output_type": "stream",
     "text": [
      "final_pnl : -1380104\n",
      "max_required_fund : 696787\n",
      "sharpe_ratio : -5.517850987089263\n",
      "pnl_by_max_req_fund : -1.9806681041640977\n",
      "insttkn : 2800641\n",
      "=======================================\n"
     ]
    },
    {
     "name": "stderr",
     "output_type": "stream",
     "text": [
      "\r",
      " 35%|███▌      | 22/62 [07:05<12:14, 18.37s/it]"
     ]
    },
    {
     "name": "stdout",
     "output_type": "stream",
     "text": [
      "final_pnl : -181281330\n",
      "max_required_fund : 890549836633\n",
      "sharpe_ratio : -18.986544800671542\n",
      "pnl_by_max_req_fund : -0.00020356112957704324\n",
      "insttkn : 779521\n",
      "=======================================\n"
     ]
    },
    {
     "name": "stderr",
     "output_type": "stream",
     "text": [
      "\r",
      " 37%|███▋      | 23/62 [07:33<13:17, 20.44s/it]"
     ]
    },
    {
     "name": "stdout",
     "output_type": "stream",
     "text": [
      "final_pnl : 6724096\n",
      "max_required_fund : 1675673180289\n",
      "sharpe_ratio : -21.44981607219416\n",
      "pnl_by_max_req_fund : 4.012773047986546e-06\n",
      "insttkn : 857857\n",
      "=======================================\n"
     ]
    },
    {
     "name": "stderr",
     "output_type": "stream",
     "text": [
      "\r",
      " 39%|███▊      | 24/62 [08:01<14:14, 22.47s/it]"
     ]
    },
    {
     "name": "stdout",
     "output_type": "stream",
     "text": [
      "final_pnl : 81470984\n",
      "max_required_fund : 2309221149230\n",
      "sharpe_ratio : 9.338570335426377\n",
      "pnl_by_max_req_fund : 3.528071976871731e-05\n",
      "insttkn : 895745\n",
      "=======================================\n"
     ]
    },
    {
     "name": "stderr",
     "output_type": "stream",
     "text": [
      "\r",
      " 42%|████▏     | 26/62 [08:30<11:26, 19.06s/it]"
     ]
    },
    {
     "name": "stdout",
     "output_type": "stream",
     "text": [
      "final_pnl : -218238080\n",
      "max_required_fund : 6823651\n",
      "sharpe_ratio : -15.688380509975625\n",
      "pnl_by_max_req_fund : -31.982595003434902\n",
      "insttkn : 81153\n",
      "=======================================\n"
     ]
    },
    {
     "name": "stderr",
     "output_type": "stream",
     "text": [
      "\r",
      " 44%|████▎     | 27/62 [08:58<12:21, 21.19s/it]"
     ]
    },
    {
     "name": "stdout",
     "output_type": "stream",
     "text": [
      "final_pnl : -93459295\n",
      "max_required_fund : 4637492\n",
      "sharpe_ratio : 1.3831430779515381\n",
      "pnl_by_max_req_fund : -20.152979236557357\n",
      "insttkn : 348929\n",
      "=======================================\n"
     ]
    },
    {
     "name": "stderr",
     "output_type": "stream",
     "text": [
      "\r",
      " 45%|████▌     | 28/62 [09:27<13:04, 23.09s/it]"
     ]
    },
    {
     "name": "stdout",
     "output_type": "stream",
     "text": [
      "final_pnl : -291312\n",
      "max_required_fund : 1668257\n",
      "sharpe_ratio : 22.06127016263621\n",
      "pnl_by_max_req_fund : -0.17462057302713505\n",
      "insttkn : 884737\n",
      "=======================================\n"
     ]
    },
    {
     "name": "stderr",
     "output_type": "stream",
     "text": [
      "\r",
      " 47%|████▋     | 29/62 [09:56<13:33, 24.65s/it]"
     ]
    },
    {
     "name": "stdout",
     "output_type": "stream",
     "text": [
      "final_pnl : -36976510\n",
      "max_required_fund : 11389617\n",
      "sharpe_ratio : 13.32833383551059\n",
      "pnl_by_max_req_fund : -3.2465102244200077\n",
      "insttkn : 3861249\n",
      "=======================================\n"
     ]
    },
    {
     "name": "stderr",
     "output_type": "stream",
     "text": [
      "\r",
      " 48%|████▊     | 30/62 [10:25<13:43, 25.72s/it]"
     ]
    },
    {
     "name": "stdout",
     "output_type": "stream",
     "text": [
      "final_pnl : 1000402154\n",
      "max_required_fund : 29275707\n",
      "sharpe_ratio : 16.092437718473597\n",
      "pnl_by_max_req_fund : 34.17175031102311\n",
      "insttkn : 1510401\n",
      "=======================================\n"
     ]
    },
    {
     "name": "stderr",
     "output_type": "stream",
     "text": [
      "\r",
      " 50%|█████     | 31/62 [10:52<13:29, 26.10s/it]"
     ]
    },
    {
     "name": "stdout",
     "output_type": "stream",
     "text": [
      "final_pnl : -788904\n",
      "max_required_fund : 124464\n",
      "sharpe_ratio : -24.502149060563596\n",
      "pnl_by_max_req_fund : -6.338375543610786\n",
      "insttkn : 345089\n",
      "=======================================\n"
     ]
    },
    {
     "name": "stderr",
     "output_type": "stream",
     "text": [
      "\r",
      " 55%|█████▍    | 34/62 [11:21<08:03, 17.26s/it]"
     ]
    },
    {
     "name": "stdout",
     "output_type": "stream",
     "text": [
      "final_pnl : -30809977\n",
      "max_required_fund : 1468163\n",
      "sharpe_ratio : -4.846754845222414\n",
      "pnl_by_max_req_fund : -20.98538232660156\n",
      "insttkn : 225537\n",
      "=======================================\n"
     ]
    },
    {
     "name": "stderr",
     "output_type": "stream",
     "text": [
      "\r",
      " 56%|█████▋    | 35/62 [12:02<09:54, 22.02s/it]"
     ]
    },
    {
     "name": "stdout",
     "output_type": "stream",
     "text": [
      "final_pnl : -51725823\n",
      "max_required_fund : 552930097398\n",
      "sharpe_ratio : 1.0675311369565317\n",
      "pnl_by_max_req_fund : -9.354857719803993e-05\n",
      "insttkn : 424961\n",
      "=======================================\n"
     ]
    },
    {
     "name": "stderr",
     "output_type": "stream",
     "text": [
      "\r",
      " 58%|█████▊    | 36/62 [12:46<11:46, 27.17s/it]"
     ]
    },
    {
     "name": "stdout",
     "output_type": "stream",
     "text": [
      "final_pnl : 252264\n",
      "max_required_fund : 4697268456646\n",
      "sharpe_ratio : 23.867804607357147\n",
      "pnl_by_max_req_fund : 5.3704563051546276e-08\n",
      "insttkn : 492033\n",
      "=======================================\n"
     ]
    },
    {
     "name": "stderr",
     "output_type": "stream",
     "text": [
      "\r",
      " 60%|█████▉    | 37/62 [13:18<11:48, 28.36s/it]"
     ]
    },
    {
     "name": "stdout",
     "output_type": "stream",
     "text": [
      "final_pnl : 2126414252\n",
      "max_required_fund : 1576603550\n",
      "sharpe_ratio : 14.250083106586105\n",
      "pnl_by_max_req_fund : 1.348731107820898\n",
      "insttkn : 4598529\n",
      "=======================================\n"
     ]
    },
    {
     "name": "stderr",
     "output_type": "stream",
     "text": [
      "\r",
      " 63%|██████▎   | 39/62 [13:47<08:40, 22.64s/it]"
     ]
    },
    {
     "name": "stdout",
     "output_type": "stream",
     "text": [
      "final_pnl : 1457679\n",
      "max_required_fund : 10051539949039\n",
      "sharpe_ratio : 30.251033131993193\n",
      "pnl_by_max_req_fund : 1.4502049013288718e-07\n",
      "insttkn : 140033\n",
      "=======================================\n"
     ]
    },
    {
     "name": "stderr",
     "output_type": "stream",
     "text": [
      "\r",
      " 65%|██████▍   | 40/62 [14:24<09:29, 25.87s/it]"
     ]
    },
    {
     "name": "stdout",
     "output_type": "stream",
     "text": [
      "final_pnl : 21289852\n",
      "max_required_fund : 2052345\n",
      "sharpe_ratio : 5.15014207219356\n",
      "pnl_by_max_req_fund : 10.373426808122083\n",
      "insttkn : 1207553\n",
      "=======================================\n"
     ]
    },
    {
     "name": "stderr",
     "output_type": "stream",
     "text": [
      "\r",
      " 66%|██████▌   | 41/62 [15:06<10:23, 29.67s/it]"
     ]
    },
    {
     "name": "stdout",
     "output_type": "stream",
     "text": [
      "final_pnl : 489227900\n",
      "max_required_fund : 3671226454906\n",
      "sharpe_ratio : -0.47708064986372895\n",
      "pnl_by_max_req_fund : 0.00013326007162574034\n",
      "insttkn : 341249\n",
      "=======================================\n"
     ]
    },
    {
     "name": "stderr",
     "output_type": "stream",
     "text": [
      "\r",
      " 68%|██████▊   | 42/62 [15:36<09:58, 29.90s/it]"
     ]
    },
    {
     "name": "stdout",
     "output_type": "stream",
     "text": [
      "final_pnl : -837369740\n",
      "max_required_fund : 50979370\n",
      "sharpe_ratio : -0.1572791914387997\n",
      "pnl_by_max_req_fund : -16.425658617209578\n",
      "insttkn : 1346049\n",
      "=======================================\n"
     ]
    },
    {
     "name": "stderr",
     "output_type": "stream",
     "text": [
      "\r",
      " 69%|██████▉   | 43/62 [16:06<09:29, 29.95s/it]"
     ]
    },
    {
     "name": "stdout",
     "output_type": "stream",
     "text": [
      "final_pnl : -78392406\n",
      "max_required_fund : 62697153\n",
      "sharpe_ratio : -13.229231177147897\n",
      "pnl_by_max_req_fund : -1.2503343928490174\n",
      "insttkn : 738561\n",
      "=======================================\n"
     ]
    },
    {
     "name": "stderr",
     "output_type": "stream",
     "text": [
      "\r",
      " 71%|███████   | 44/62 [16:28<08:16, 27.60s/it]"
     ]
    },
    {
     "name": "stdout",
     "output_type": "stream",
     "text": [
      "final_pnl : -28126824\n",
      "max_required_fund : 6724074\n",
      "sharpe_ratio : -4.296949070846594\n",
      "pnl_by_max_req_fund : -4.18300326362968\n",
      "insttkn : 134657\n",
      "=======================================\n"
     ]
    },
    {
     "name": "stderr",
     "output_type": "stream",
     "text": [
      "\r",
      " 74%|███████▍  | 46/62 [16:58<05:51, 21.97s/it]"
     ]
    },
    {
     "name": "stdout",
     "output_type": "stream",
     "text": [
      "final_pnl : 135412660\n",
      "max_required_fund : 1409419907117\n",
      "sharpe_ratio : 12.918088603642838\n",
      "pnl_by_max_req_fund : 9.607687483065134e-05\n",
      "insttkn : 2714625\n",
      "=======================================\n"
     ]
    },
    {
     "name": "stderr",
     "output_type": "stream",
     "text": [
      "\r",
      " 76%|███████▌  | 47/62 [17:27<05:55, 23.67s/it]"
     ]
    },
    {
     "name": "stdout",
     "output_type": "stream",
     "text": [
      "final_pnl : -594878\n",
      "max_required_fund : 3546683\n",
      "sharpe_ratio : -11.760835439323753\n",
      "pnl_by_max_req_fund : -0.16772817078616434\n",
      "insttkn : 2939649\n",
      "=======================================\n"
     ]
    },
    {
     "name": "stderr",
     "output_type": "stream",
     "text": [
      "\r",
      " 77%|███████▋  | 48/62 [17:58<05:57, 25.55s/it]"
     ]
    },
    {
     "name": "stdout",
     "output_type": "stream",
     "text": [
      "final_pnl : 37417352\n",
      "max_required_fund : 2692808951704\n",
      "sharpe_ratio : 5.844294529475742\n",
      "pnl_by_max_req_fund : 1.3895286635399066e-05\n",
      "insttkn : 3465729\n",
      "=======================================\n"
     ]
    },
    {
     "name": "stderr",
     "output_type": "stream",
     "text": [
      "\r",
      " 79%|███████▉  | 49/62 [18:27<05:43, 26.46s/it]"
     ]
    },
    {
     "name": "stdout",
     "output_type": "stream",
     "text": [
      "final_pnl : -26670389\n",
      "max_required_fund : 6909741688061\n",
      "sharpe_ratio : 5.761761355363858\n",
      "pnl_by_max_req_fund : -3.859824390552711e-06\n",
      "insttkn : 60417\n",
      "=======================================\n"
     ]
    },
    {
     "name": "stderr",
     "output_type": "stream",
     "text": [
      "\r",
      " 81%|████████  | 50/62 [18:56<05:26, 27.20s/it]"
     ]
    },
    {
     "name": "stdout",
     "output_type": "stream",
     "text": [
      "final_pnl : -12099901\n",
      "max_required_fund : 1874169\n",
      "sharpe_ratio : -2.573608406494281\n",
      "pnl_by_max_req_fund : -6.456141301035701\n",
      "insttkn : 177665\n",
      "=======================================\n"
     ]
    },
    {
     "name": "stderr",
     "output_type": "stream",
     "text": [
      "\r",
      " 82%|████████▏ | 51/62 [19:25<05:05, 27.73s/it]"
     ]
    },
    {
     "name": "stdout",
     "output_type": "stream",
     "text": [
      "final_pnl : 5609697\n",
      "max_required_fund : 3671461\n",
      "sharpe_ratio : 10.902939995025411\n",
      "pnl_by_max_req_fund : 1.5279195223333102\n",
      "insttkn : 897537\n",
      "=======================================\n"
     ]
    },
    {
     "name": "stderr",
     "output_type": "stream",
     "text": [
      "\r",
      " 84%|████████▍ | 52/62 [19:55<04:44, 28.41s/it]"
     ]
    },
    {
     "name": "stdout",
     "output_type": "stream",
     "text": [
      "final_pnl : 15568847\n",
      "max_required_fund : 7602482\n",
      "sharpe_ratio : 6.652032446613661\n",
      "pnl_by_max_req_fund : 2.047863571003376\n",
      "insttkn : 2889473\n",
      "=======================================\n"
     ]
    },
    {
     "name": "stderr",
     "output_type": "stream",
     "text": [
      "\r",
      " 85%|████████▌ | 53/62 [20:20<04:07, 27.49s/it]"
     ]
    },
    {
     "name": "stdout",
     "output_type": "stream",
     "text": [
      "final_pnl : 31269047\n",
      "max_required_fund : 1756821\n",
      "sharpe_ratio : 12.121299588538102\n",
      "pnl_by_max_req_fund : 17.798651645104368\n",
      "insttkn : 3834113\n",
      "=======================================\n"
     ]
    },
    {
     "name": "stderr",
     "output_type": "stream",
     "text": [
      "\r",
      " 87%|████████▋ | 54/62 [20:39<03:19, 24.99s/it]"
     ]
    },
    {
     "name": "stdout",
     "output_type": "stream",
     "text": [
      "final_pnl : 614864\n",
      "max_required_fund : 630644\n",
      "sharpe_ratio : 21.018171348359196\n",
      "pnl_by_max_req_fund : 0.9749781207476677\n",
      "insttkn : 5582849\n",
      "=======================================\n"
     ]
    },
    {
     "name": "stderr",
     "output_type": "stream",
     "text": [
      "\r",
      " 89%|████████▊ | 55/62 [21:10<03:07, 26.79s/it]"
     ]
    },
    {
     "name": "stdout",
     "output_type": "stream",
     "text": [
      "final_pnl : 705948788\n",
      "max_required_fund : 262123513\n",
      "sharpe_ratio : 14.640270833791416\n",
      "pnl_by_max_req_fund : 2.6931913831240895\n",
      "insttkn : 1850625\n",
      "=======================================\n"
     ]
    },
    {
     "name": "stderr",
     "output_type": "stream",
     "text": [
      "\r",
      " 94%|█████████▎| 58/62 [21:40<01:09, 17.28s/it]"
     ]
    },
    {
     "name": "stdout",
     "output_type": "stream",
     "text": [
      "final_pnl : 87578050\n",
      "max_required_fund : 4203532\n",
      "sharpe_ratio : 4.213150132079332\n",
      "pnl_by_max_req_fund : 20.83439282253302\n",
      "insttkn : 340481\n",
      "=======================================\n"
     ]
    },
    {
     "name": "stderr",
     "output_type": "stream",
     "text": [
      "\r",
      " 95%|█████████▌| 59/62 [22:10<01:00, 20.12s/it]"
     ]
    },
    {
     "name": "stdout",
     "output_type": "stream",
     "text": [
      "final_pnl : -17836633\n",
      "max_required_fund : 11533188\n",
      "sharpe_ratio : 21.65511318560786\n",
      "pnl_by_max_req_fund : -1.5465483084329057\n",
      "insttkn : 408065\n",
      "=======================================\n"
     ]
    },
    {
     "name": "stderr",
     "output_type": "stream",
     "text": [
      "\r",
      " 97%|█████████▋| 60/62 [22:34<00:41, 20.89s/it]"
     ]
    },
    {
     "name": "stdout",
     "output_type": "stream",
     "text": [
      "final_pnl : -2644137\n",
      "max_required_fund : 234130308767\n",
      "sharpe_ratio : -4.3231720429748925\n",
      "pnl_by_max_req_fund : -1.1293444806099145e-05\n",
      "insttkn : 415745\n",
      "=======================================\n"
     ]
    },
    {
     "name": "stderr",
     "output_type": "stream",
     "text": [
      "\r",
      " 98%|█████████▊| 61/62 [23:05<00:23, 23.47s/it]"
     ]
    },
    {
     "name": "stdout",
     "output_type": "stream",
     "text": [
      "final_pnl : -510874600\n",
      "max_required_fund : 2010637897682\n",
      "sharpe_ratio : -11.344102029102292\n",
      "pnl_by_max_req_fund : -0.000254085830839518\n",
      "insttkn : 519937\n",
      "=======================================\n"
     ]
    },
    {
     "name": "stderr",
     "output_type": "stream",
     "text": [
      "100%|██████████| 62/62 [23:26<00:00, 22.68s/it]"
     ]
    },
    {
     "name": "stdout",
     "output_type": "stream",
     "text": [
      "final_pnl : 2503394\n",
      "max_required_fund : 266898167903\n",
      "sharpe_ratio : 17.405896311724177\n",
      "pnl_by_max_req_fund : 9.379584862512141e-06\n",
      "insttkn : 2977281\n",
      "=======================================\n"
     ]
    },
    {
     "name": "stderr",
     "output_type": "stream",
     "text": [
      "\n"
     ]
    }
   ],
   "source": [
    "for one_tkn in tqdm.tqdm(tkn_list):\n",
    "    analyze_one_inst(one_tkn)\n",
    "    \n",
    "#         ps_thr = threading.Thread(target=analyze_one_inst, args=([one_tkn]))\n",
    "#         ps_thr.start()"
   ]
  },
  {
   "cell_type": "code",
   "execution_count": 10,
   "id": "collective-james",
   "metadata": {
    "ExecuteTime": {
     "end_time": "2021-04-13T19:14:59.925631Z",
     "start_time": "2021-04-13T19:14:59.910593Z"
    }
   },
   "outputs": [],
   "source": [
    "inst_wise_analysis_df = pd.DataFrame(inst_wise_analysis_list)\n",
    "inst_wise_analysis_df.to_excel('./inst_wise_analysis_df_reverse.xlsx',index=False)"
   ]
  },
  {
   "cell_type": "code",
   "execution_count": null,
   "id": "opposite-basketball",
   "metadata": {
    "ExecuteTime": {
     "end_time": "2021-04-12T15:29:10.887476Z",
     "start_time": "2021-04-12T15:29:10.884416Z"
    }
   },
   "outputs": [],
   "source": []
  },
  {
   "cell_type": "code",
   "execution_count": 11,
   "id": "intense-robert",
   "metadata": {
    "ExecuteTime": {
     "end_time": "2021-04-13T19:14:59.933707Z",
     "start_time": "2021-04-13T19:14:59.927346Z"
    }
   },
   "outputs": [],
   "source": [
    "# %lprun -f analyze_one_inst analyze_one_inst(inst_token)"
   ]
  },
  {
   "cell_type": "code",
   "execution_count": null,
   "id": "unknown-announcement",
   "metadata": {},
   "outputs": [],
   "source": []
  },
  {
   "cell_type": "code",
   "execution_count": 12,
   "id": "wound-financing",
   "metadata": {
    "ExecuteTime": {
     "end_time": "2021-04-13T19:14:59.946106Z",
     "start_time": "2021-04-13T19:14:59.935555Z"
    }
   },
   "outputs": [],
   "source": [
    "# pnls_df['total_pnl'].plot()"
   ]
  },
  {
   "cell_type": "code",
   "execution_count": 13,
   "id": "comfortable-manchester",
   "metadata": {
    "ExecuteTime": {
     "end_time": "2021-04-13T19:14:59.965913Z",
     "start_time": "2021-04-13T19:14:59.949343Z"
    }
   },
   "outputs": [],
   "source": [
    "# 6.45(q/1) -> 1\n",
    "# 7(q/1)    -> 2\n",
    "# 10(q/1)   -> 3\n",
    "# 13(q/1)   -> 4\n",
    "# 17(q/1)   -> 5\n",
    "# 25(q/1)   -> 6\n",
    "# 35(q/1)   -> 7\n",
    "# 45(q/1)   -> 8\n",
    "# 55(q/1)   -> 9\n",
    "# 35(q/10)  -> 10\n",
    "# 30(q/10)  -> 11\n",
    "# 35(q/12)  -> 12\n",
    "# 35(q/13)  -> 13\n",
    "#########################################\n",
    "# 35(q/15)  -> 14 ### SELECTED CANDIDATE#\n",
    "#########################################"
   ]
  },
  {
   "cell_type": "code",
   "execution_count": null,
   "id": "requested-mouse",
   "metadata": {},
   "outputs": [],
   "source": []
  },
  {
   "cell_type": "code",
   "execution_count": 14,
   "id": "reasonable-yield",
   "metadata": {
    "ExecuteTime": {
     "end_time": "2021-04-13T19:14:59.982803Z",
     "start_time": "2021-04-13T19:14:59.969050Z"
    }
   },
   "outputs": [],
   "source": [
    "# master_df_list = []\n",
    "# for one_ip_tkn in tqdm.tqdm(tkn_list):\n",
    "    \n",
    "#     globals()[f'pnls_df_{one_ip_tkn}'] = pd.read_excel(f'./data_records/pnls_df_rev/pnls_df_{one_ip_tkn}.xlsx')\n",
    "#     globals()[f'pnls_df_{one_ip_tkn}']=globals()[f'pnls_df_{one_ip_tkn}'].drop_duplicates(subset = 'date').set_index('date')['total_pnl']\n",
    "#     master_df_list.append(globals()[f'pnls_df_{one_ip_tkn}'])\n",
    "#     globals()[f'pnls_df_{one_ip_tkn}'].plot()"
   ]
  },
  {
   "cell_type": "code",
   "execution_count": 15,
   "id": "small-mortality",
   "metadata": {
    "ExecuteTime": {
     "end_time": "2021-04-13T19:15:00.002013Z",
     "start_time": "2021-04-13T19:14:59.985006Z"
    }
   },
   "outputs": [],
   "source": [
    "\n",
    "# # dfs = [df.set_index('date')['total_pnl'] for df in master_df_list]\n",
    "# merged_df =  pd.concat(master_df_list, axis=1,)\n",
    "# merged_df"
   ]
  },
  {
   "cell_type": "code",
   "execution_count": 16,
   "id": "buried-banks",
   "metadata": {
    "ExecuteTime": {
     "end_time": "2021-04-13T19:15:00.027192Z",
     "start_time": "2021-04-13T19:15:00.004798Z"
    }
   },
   "outputs": [],
   "source": [
    "# from functools import reduce\n",
    "# dfm = reduce(lambda df1,df2: pd.merge(df1,df2,on='date', how='outer'), master_df_list)"
   ]
  },
  {
   "cell_type": "code",
   "execution_count": 17,
   "id": "confirmed-patient",
   "metadata": {
    "ExecuteTime": {
     "end_time": "2021-04-13T19:15:00.046595Z",
     "start_time": "2021-04-13T19:15:00.029411Z"
    }
   },
   "outputs": [],
   "source": [
    "# master_df[inst_token] = globals()[f'pnls_df_{inst_token}']['total_pnl']\n",
    "# master_df"
   ]
  },
  {
   "cell_type": "code",
   "execution_count": 18,
   "id": "sixth-resident",
   "metadata": {
    "ExecuteTime": {
     "end_time": "2021-04-13T19:15:00.063250Z",
     "start_time": "2021-04-13T19:15:00.048244Z"
    }
   },
   "outputs": [],
   "source": [
    "# globals()[f'pnls_df_{inst_token}']"
   ]
  },
  {
   "cell_type": "code",
   "execution_count": 19,
   "id": "silent-spring",
   "metadata": {
    "ExecuteTime": {
     "end_time": "2021-04-13T19:15:00.080183Z",
     "start_time": "2021-04-13T19:15:00.065315Z"
    }
   },
   "outputs": [],
   "source": [
    "# globals()[f'pnls_df_{inst_token}'][['total_pnl','date']].plot(x='date')"
   ]
  },
  {
   "cell_type": "code",
   "execution_count": null,
   "id": "needed-syria",
   "metadata": {},
   "outputs": [],
   "source": []
  }
 ],
 "metadata": {
  "hide_input": false,
  "kernelspec": {
   "display_name": "Python 3",
   "language": "python",
   "name": "python3"
  },
  "language_info": {
   "codemirror_mode": {
    "name": "ipython",
    "version": 3
   },
   "file_extension": ".py",
   "mimetype": "text/x-python",
   "name": "python",
   "nbconvert_exporter": "python",
   "pygments_lexer": "ipython3",
   "version": "3.9.4"
  },
  "varInspector": {
   "cols": {
    "lenName": 16,
    "lenType": 16,
    "lenVar": 40
   },
   "kernels_config": {
    "python": {
     "delete_cmd_postfix": "",
     "delete_cmd_prefix": "del ",
     "library": "var_list.py",
     "varRefreshCmd": "print(var_dic_list())"
    },
    "r": {
     "delete_cmd_postfix": ") ",
     "delete_cmd_prefix": "rm(",
     "library": "var_list.r",
     "varRefreshCmd": "cat(var_dic_list()) "
    }
   },
   "types_to_exclude": [
    "module",
    "function",
    "builtin_function_or_method",
    "instance",
    "_Feature"
   ],
   "window_display": false
  }
 },
 "nbformat": 4,
 "nbformat_minor": 5
}
