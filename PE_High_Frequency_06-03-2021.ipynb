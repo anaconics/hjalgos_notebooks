{
 "cells": [
  {
   "cell_type": "code",
   "execution_count": null,
   "id": "surgical-karaoke",
   "metadata": {
    "ExecuteTime": {
     "end_time": "2021-03-06T09:14:08.793386Z",
     "start_time": "2021-03-06T09:14:08.301791Z"
    },
    "execution": {
     "iopub.execute_input": "2021-03-06T11:26:32.064008Z",
     "iopub.status.busy": "2021-03-06T11:26:32.063168Z",
     "iopub.status.idle": "2021-03-06T11:26:32.635928Z",
     "shell.execute_reply": "2021-03-06T11:26:32.636274Z"
    },
    "papermill": {
     "duration": 0.598395,
     "end_time": "2021-03-06T11:26:32.636480",
     "exception": false,
     "start_time": "2021-03-06T11:26:32.038085",
     "status": "completed"
    },
    "scrolled": false,
    "tags": []
   },
   "outputs": [],
   "source": [
    "import pandas as pd\n",
    "from rich import print\n",
    "import datetime\n",
    "pd.set_option('display.max_rows', 62)\n",
    "pd.set_option('display.max_columns', 10)\n",
    "import time\n",
    "def read_qty_list_fun():\n",
    "    ipdf = pd.read_excel('./PUT.xlsx')\n",
    "    ipcsv = ipdf[['price','qty']]\n",
    "    ipcsv = ipcsv.dropna()\n",
    "    symbol_ip = ipdf['instrument'][0]\n",
    "    inst_token = int(ipdf['token'][0])\n",
    "    order_type = ipdf['order_type'][0]\n",
    "    exch_type = ipdf['exch_type'][0]\n",
    "    \n",
    "    auth = ipdf[['ac_name','ac_code','psw','pin']][0:3]\n",
    "    \n",
    "    return {'ipcsv':ipcsv,'symbol_ip':symbol_ip,'inst_token':inst_token,\n",
    "            'ipdf':ipdf,'auth':auth,'exch_type':exch_type,\n",
    "            'order_type':order_type}\n",
    "\n",
    "rd = read_qty_list_fun()\n",
    "ipcsv = rd['ipcsv']\n",
    "ipdf = rd['ipdf']\n",
    "ipcsv['price'] = round(0.0025 * round(ipcsv['price']/0.0025), 4)\n",
    "symbol_ip = rd['symbol_ip']\n",
    "inst_token = rd['inst_token']\n",
    "\n",
    "order_type = rd['order_type']\n",
    "auth = rd['auth']\n",
    "\n",
    "# exch_type_ip = rd['exch_type']\n",
    "# exchange_type=''\n",
    "# if(exch_type_ip=='CDS'):\n",
    "#     exchange_type = module.kite.EXCHANGE_CDS\n",
    "# if(exch_type_ip=='NFO'):\n",
    "#     exchange_type = module.kite.EXCHANGE_NFO\n",
    "\n",
    "print('symbol_ip : '+str(symbol_ip))\n",
    "print('inst_token : '+str(inst_token))\n",
    "print('order_type : '+str(order_type))\n",
    "print(auth)"
   ]
  },
  {
   "cell_type": "code",
   "execution_count": null,
   "id": "elect-contrast",
   "metadata": {
    "ExecuteTime": {
     "end_time": "2021-03-06T09:14:08.806876Z",
     "start_time": "2021-03-06T09:14:08.795216Z"
    },
    "execution": {
     "iopub.execute_input": "2021-03-06T11:26:32.668024Z",
     "iopub.status.busy": "2021-03-06T11:26:32.667212Z",
     "iopub.status.idle": "2021-03-06T11:26:32.677169Z",
     "shell.execute_reply": "2021-03-06T11:26:32.677724Z"
    },
    "papermill": {
     "duration": 0.027594,
     "end_time": "2021-03-06T11:26:32.677927",
     "exception": false,
     "start_time": "2021-03-06T11:26:32.650333",
     "status": "completed"
    },
    "tags": []
   },
   "outputs": [],
   "source": [
    "trading_confirmed_df_pe = pd.DataFrame({'confirmed':False},index=[0])\n",
    "trading_confirmed_df_pe.to_csv('./trading_confirmed_df_pe.csv',index=False)\n",
    "    \n",
    "stop_trading_triggered_pe = pd.DataFrame({'confirmed':False},index=[0])\n",
    "stop_trading_triggered_pe.to_csv('./stop_trading_triggered_pe.csv',index=False)\n",
    "\n",
    "init_trading = False\n",
    "trading_confirmed_df_pe"
   ]
  },
  {
   "cell_type": "code",
   "execution_count": null,
   "id": "hawaiian-documentary",
   "metadata": {
    "ExecuteTime": {
     "end_time": "2021-03-06T09:20:25.349697Z",
     "start_time": "2021-03-06T09:20:25.337190Z"
    },
    "execution": {
     "iopub.execute_input": "2021-03-06T11:26:32.712539Z",
     "iopub.status.busy": "2021-03-06T11:26:32.712061Z",
     "iopub.status.idle": "2021-03-06T11:26:32.724845Z",
     "shell.execute_reply": "2021-03-06T11:26:32.724439Z"
    },
    "papermill": {
     "duration": 0.030809,
     "end_time": "2021-03-06T11:26:32.724966",
     "exception": false,
     "start_time": "2021-03-06T11:26:32.694157",
     "status": "completed"
    },
    "tags": []
   },
   "outputs": [],
   "source": [
    "ipcsv.to_csv('./pivot_table_pe.csv',index=False)\n",
    "ipcsv"
   ]
  },
  {
   "cell_type": "code",
   "execution_count": null,
   "id": "infrared-diagnosis",
   "metadata": {
    "ExecuteTime": {
     "end_time": "2021-03-06T09:14:31.069591Z",
     "start_time": "2021-03-06T09:14:08.827890Z"
    },
    "execution": {
     "iopub.execute_input": "2021-03-06T11:26:32.756438Z",
     "iopub.status.busy": "2021-03-06T11:26:32.755997Z"
    },
    "papermill": {
     "duration": 11.85842,
     "end_time": "2021-03-06T11:26:44.595830",
     "exception": false,
     "start_time": "2021-03-06T11:26:32.737410",
     "status": "completed"
    },
    "run_control": {
     "marked": false
    },
    "scrolled": true,
    "tags": []
   },
   "outputs": [],
   "source": [
    "######## # AUTO LOGIN-1 #########\n",
    "account_name = auth['ac_name'][0]\n",
    "\n",
    "login_str = 'login_'+account_name\n",
    "import threading\n",
    "import importlib\n",
    "login_str = 'login_'+account_name\n",
    "module = importlib.import_module(login_str, package=None)\n",
    "\n",
    "print('Logging in with account : '+str(account_name))\n",
    "module.retry_autologin()\n",
    "\n",
    "exch_type_ip = rd['exch_type']\n",
    "exchange_type=''\n",
    "if(exch_type_ip=='CDS'):\n",
    "    exchange_type = module.kite.EXCHANGE_CDS\n",
    "if(exch_type_ip=='NFO'):\n",
    "    exchange_type = module.kite.EXCHANGE_NFO\n"
   ]
  },
  {
   "cell_type": "code",
   "execution_count": null,
   "id": "resistant-palestine",
   "metadata": {
    "ExecuteTime": {
     "end_time": "2021-03-06T09:14:31.087433Z",
     "start_time": "2021-03-06T09:14:31.073303Z"
    },
    "papermill": {
     "duration": null,
     "end_time": null,
     "exception": null,
     "start_time": null,
     "status": "completed"
    },
    "tags": []
   },
   "outputs": [],
   "source": [
    "def get_orders_df():\n",
    "    while True:\n",
    "        orders_ipp = module.kite.orders()\n",
    "        orders_df = pd.DataFrame(orders_ipp).sort_values(by=['order_timestamp'], ascending=False)\n",
    "        orders_df.to_csv('./orders_pe.csv',index=False)\n",
    "        time.sleep(3)\n",
    "    \n",
    "def get_positions_df():\n",
    "    while True:\n",
    "        positions = module.kite.positions()\n",
    "        positions_df = pd.DataFrame(positions['net'])\n",
    "        positions_df.to_csv('./positions_pe.csv',index=False)\n",
    "        time.sleep(3)\n",
    "\n",
    "ps_thr = threading.Thread(target=get_positions_df, args=())\n",
    "ps_thr.start()\n",
    "\n",
    "ord_thr = threading.Thread(target=get_orders_df, args=())\n",
    "ord_thr.start()"
   ]
  },
  {
   "cell_type": "code",
   "execution_count": null,
   "id": "operating-combine",
   "metadata": {
    "ExecuteTime": {
     "end_time": "2021-03-06T09:14:31.098038Z",
     "start_time": "2021-03-06T09:14:31.090500Z"
    },
    "papermill": {
     "duration": null,
     "end_time": null,
     "exception": null,
     "start_time": null,
     "status": "completed"
    },
    "tags": []
   },
   "outputs": [],
   "source": [
    "def stop_trading():\n",
    "    global buy_depth_df\n",
    "    cancel_all_pending_orders()\n",
    "    sell_price_limit = buy_depth_df['price'][0]-5\n",
    "    placeneworder(-myquantity,sell_price_limit)\n",
    "       \n",
    "    stop_trading_triggered_pe = pd.DataFrame({'confirmed':True},index=[0])\n",
    "    stop_trading_triggered_pe.to_csv('./stop_trading_triggered_pe.csv',index=False)\n",
    "    \n",
    "    exit()"
   ]
  },
  {
   "cell_type": "code",
   "execution_count": null,
   "id": "empirical-afternoon",
   "metadata": {
    "ExecuteTime": {
     "end_time": "2021-03-06T09:14:31.110395Z",
     "start_time": "2021-03-06T09:14:31.100286Z"
    },
    "papermill": {
     "duration": null,
     "end_time": null,
     "exception": null,
     "start_time": null,
     "status": "completed"
    },
    "run_control": {
     "marked": false
    },
    "tags": []
   },
   "outputs": [],
   "source": [
    "def cancel_all_pending_orders():\n",
    "    global order_type,symbol_ip,order_type\n",
    "    myorder = module.kite.orders()\n",
    "    pending_orders = []\n",
    "    for i in range(len(myorder)):\n",
    "        if ((myorder[i]['status'] == 'OPEN' or myorder[i]['status'] == 'AMO REQ RECEIVED' )\n",
    "                and myorder[i]['tradingsymbol'] == symbol_ip\n",
    "                and myorder[i]['product'] == order_type):\n",
    "            pending_orders.append(myorder[i])\n",
    "            module.kite.cancel_order(myorder[i]['variety'],\n",
    "                              myorder[i]['order_id'],\n",
    "                              parent_order_id=None)"
   ]
  },
  {
   "cell_type": "code",
   "execution_count": null,
   "id": "greek-green",
   "metadata": {
    "ExecuteTime": {
     "end_time": "2021-03-06T09:14:31.137798Z",
     "start_time": "2021-03-06T09:14:31.116188Z"
    },
    "papermill": {
     "duration": null,
     "end_time": null,
     "exception": null,
     "start_time": null,
     "status": "completed"
    },
    "tags": []
   },
   "outputs": [],
   "source": [
    "myquantity = 0\n",
    "last_myquantity = 0\n",
    "\n",
    "def getquant():\n",
    "    global myquantity,order_type,symbol_ip,last_myquantity\n",
    "    allpos = module.kite.positions()['net']\n",
    "    for i in range(len(allpos)):\n",
    "        if(allpos[i]['tradingsymbol']==symbol_ip and  allpos[i]['product']== order_type):\n",
    "            myquantity = allpos[i]['quantity']\n",
    "            print('My Quantity : ' + str(allpos[i]['quantity']))\n",
    "            \n",
    "#     if(myquantity == 0 and last_myquantity != 0):\n",
    "#         stop_trading()\n",
    "            \n",
    "    last_myquantity = myquantity\n",
    "    return myquantity\n",
    "\n",
    "def placeneworder(quantdiff,price_ip1):\n",
    "    '''placeneworder(quantdiff,price_ip1)'''\n",
    "    print('--------------------------------------')\n",
    "    print('placeneworder : '+str(quantdiff)+' '+str(price_ip1))\n",
    "    print('--------------------------------------')\n",
    "    global order_type,exchange_type\n",
    "    if(quantdiff>0):\n",
    "        try:\n",
    "            order_id= module.kite.place_order(tradingsymbol=symbol_ip,\n",
    "                        exchange=exchange_type,\n",
    "                        transaction_type=module.kite.TRANSACTION_TYPE_BUY,\n",
    "                        quantity=abs(int(quantdiff)),\n",
    "                        price=price_ip1,\n",
    "                        order_type=module.kite.ORDER_TYPE_MARKET if price_ip1 == 0 else module.kite.ORDER_TYPE_LIMIT,\n",
    "                        variety = module.kite.VARIETY_REGULAR,\n",
    "                        product=module.kite.PRODUCT_MIS if order_type=='MIS' else module.kite.PRODUCT_NRML)\n",
    "#                 getquant()\n",
    "        except Exception as e:\n",
    "#             getquant()\n",
    "            print(e)\n",
    "    if(quantdiff<0):\n",
    "        try:\n",
    "            order_id= module.kite.place_order(tradingsymbol=symbol_ip,\n",
    "                        exchange=exchange_type,\n",
    "                        transaction_type=module.kite.TRANSACTION_TYPE_SELL,\n",
    "                        quantity=abs(int(quantdiff)),\n",
    "                        price=price_ip1,\n",
    "                        order_type=module.kite.ORDER_TYPE_MARKET if price_ip1 == 0 else module.kite.ORDER_TYPE_LIMIT,\n",
    "                        variety = module.kite.VARIETY_REGULAR,\n",
    "                        product=module.kite.PRODUCT_MIS if order_type=='MIS' else module.kite.PRODUCT_NRML)\n",
    "#                 getquant()              \n",
    "        except Exception as e:\n",
    "#             getquant()            \n",
    "            print(e)"
   ]
  },
  {
   "cell_type": "code",
   "execution_count": null,
   "id": "lesbian-replica",
   "metadata": {
    "ExecuteTime": {
     "end_time": "2021-03-06T09:14:31.627386Z",
     "start_time": "2021-03-06T09:14:31.140560Z"
    },
    "papermill": {
     "duration": null,
     "end_time": null,
     "exception": null,
     "start_time": null,
     "status": "completed"
    },
    "tags": []
   },
   "outputs": [],
   "source": [
    "myquantity = getquant()\n",
    "myquantity"
   ]
  },
  {
   "cell_type": "code",
   "execution_count": null,
   "id": "north-degree",
   "metadata": {
    "ExecuteTime": {
     "end_time": "2021-03-06T09:14:31.643317Z",
     "start_time": "2021-03-06T09:14:31.633504Z"
    },
    "papermill": {
     "duration": null,
     "end_time": null,
     "exception": null,
     "start_time": null,
     "status": "completed"
    },
    "run_control": {
     "marked": false
    },
    "tags": []
   },
   "outputs": [],
   "source": [
    "def set_limits(priceipp,qtyipp,myquantity1):\n",
    "    '''set_limits(priceipp,qtyipp,myquantity1)'''\n",
    "    global order_type,inst_token,symbol_ip,ipcsv\n",
    "    \n",
    "    selected_index = ipcsv.loc[ipcsv['qty'] == qtyipp].index[0]\n",
    "\n",
    "    prev_indx = selected_index -1\n",
    "    next_indx = selected_index +1\n",
    "\n",
    "    selected_price = round(0.0025 * round(ipcsv['price'][selected_index]/0.0025), 4)\n",
    "    selected_qty = int(ipcsv['qty'][selected_index] - myquantity1)  \n",
    "\n",
    "    prev_price = round(0.0025 * round(ipcsv['price'][prev_indx]/0.0025), 4)\n",
    "    prev_qty = int(ipcsv['qty'][prev_indx] - myquantity1) - selected_qty\n",
    "    next_price = round(0.0025 * round(ipcsv['price'][next_indx]/0.0025), 4)\n",
    "    next_qty =  int(ipcsv['qty'][next_indx] - myquantity1) - selected_qty \n",
    "    \n",
    "    if(prev_qty==0):\n",
    "        prev_indx = prev_indx -1\n",
    "        prev_price = round(0.0025 * round(ipcsv['price'][prev_indx]/0.0025), 4)\n",
    "        prev_qty = int(ipcsv['qty'][prev_indx] - myquantity1) - selected_qty\n",
    "        next_price = round(0.0025 * round(ipcsv['price'][next_indx]/0.0025), 4)\n",
    "        next_qty =  int(ipcsv['qty'][next_indx] - myquantity1) - selected_qty \n",
    "        \n",
    "    if(next_qty==0):\n",
    "        next_indx = next_indx +1\n",
    "        prev_price = round(0.0025 * round(ipcsv['price'][prev_indx]/0.0025), 4)\n",
    "        prev_qty = int(ipcsv['qty'][prev_indx] - myquantity1) - selected_qty\n",
    "        next_price = round(0.0025 * round(ipcsv['price'][next_indx]/0.0025), 4)\n",
    "        next_qty =  int(ipcsv['qty'][next_indx] - myquantity1) - selected_qty \n",
    "    \n",
    "\n",
    "#     print('selected_price : '+str(selected_price))\n",
    "#     print('selected_qty : '+str(selected_qty))\n",
    "#     print('--------------------------------------')\n",
    "#     print('prev_price : '+str(prev_price))\n",
    "#     print('prev_qty : '+str(prev_qty))\n",
    "#     print('next_price : '+str(next_price))\n",
    "#     print('next_qty : '+str(next_qty))\n",
    "    \n",
    "    x = threading.Thread(target=placeneworder, args=(prev_qty,prev_price))\n",
    "    x.start()\n",
    "    y = threading.Thread(target=placeneworder, args=(next_qty,next_price))\n",
    "    y.start()"
   ]
  },
  {
   "cell_type": "code",
   "execution_count": null,
   "id": "solved-april",
   "metadata": {
    "ExecuteTime": {
     "end_time": "2021-03-06T09:14:31.662501Z",
     "start_time": "2021-03-06T09:14:31.646003Z"
    },
    "papermill": {
     "duration": null,
     "end_time": null,
     "exception": null,
     "start_time": null,
     "status": "completed"
    },
    "tags": []
   },
   "outputs": [],
   "source": [
    "def set_initial_order(ltpip,myqty_ip):\n",
    "    '''new_set_limit(ltpip,myqty_ip)'''\n",
    "    \n",
    "    global order_type,inst_token,symbol_ip,ipcsv\n",
    "    \n",
    "    value = ltpip\n",
    "    zero_index = ipcsv.index[ipcsv['qty'] == 0][0]\n",
    "    pivot_price = ipcsv['price'][zero_index]\n",
    "\n",
    "    index1 = abs(ipcsv['price'] - value).idxmin()\n",
    "\n",
    "    selected_index = index1\n",
    "\n",
    "    prev_indx = selected_index -1\n",
    "    next_indx = selected_index +1\n",
    "\n",
    "    selected_price = round(0.0025 * round(ipcsv['price'][selected_index]/0.0025), 4)\n",
    "    selected_qty = int(ipcsv['qty'][selected_index]) \n",
    "    \n",
    "#     print('ltpip : '+str(ltpip))\n",
    "#     print('selected_index : '+str(selected_index))\n",
    "#     print('prev_indx : '+str(prev_indx))\n",
    "#     print('next_indx : '+str(next_indx))    \n",
    "#     print('selected_price : '+str(selected_price))\n",
    "#     print('selected_qty : '+str(selected_qty))\n",
    "    \n",
    "    prev_qty = int(ipcsv['qty'][prev_indx])\n",
    "    next_qty =  int(ipcsv['qty'][next_indx])\n",
    "    \n",
    "    upper_qty =  prev_qty - myqty_ip\n",
    "    lower_qty =  next_qty - myqty_ip\n",
    "    \n",
    "    if(upper_qty==0):\n",
    "        prev_indx = prev_indx -1\n",
    "        selected_price = round(0.0025 * round(ipcsv['price'][selected_index]/0.0025), 4)\n",
    "        selected_qty = int(ipcsv['qty'][selected_index]) \n",
    "\n",
    "        prev_qty = int(ipcsv['qty'][prev_indx])\n",
    "        next_qty =  int(ipcsv['qty'][next_indx])\n",
    "\n",
    "        upper_qty =  prev_qty - myqty_ip\n",
    "        lower_qty =  next_qty - myqty_ip\n",
    "        \n",
    "    if(lower_qty==0):\n",
    "        next_indx = next_indx +1\n",
    "        selected_price = round(0.0025 * round(ipcsv['price'][selected_index]/0.0025), 4)\n",
    "        selected_qty = int(ipcsv['qty'][selected_index]) \n",
    "\n",
    "        prev_qty = int(ipcsv['qty'][prev_indx])\n",
    "        next_qty =  int(ipcsv['qty'][next_indx])\n",
    "\n",
    "        upper_qty =  prev_qty - myqty_ip\n",
    "        lower_qty =  next_qty - myqty_ip\n",
    "    \n",
    "\n",
    "    prev_price = round(0.0025 * round(ipcsv['price'][prev_indx]/0.0025), 4)\n",
    "    next_price = round(0.0025 * round(ipcsv['price'][next_indx]/0.0025), 4)\n",
    "    \n",
    "    print('selected_price : '+str(selected_price))\n",
    "    print('selected_qty : '+str(selected_qty))\n",
    "    print('--------------------------------------')\n",
    "    print('prev_price : '+str(prev_price))\n",
    "    print('upper_qty : '+str(upper_qty))\n",
    "    print('next_price : '+str(next_price))\n",
    "    print('lower_qty : '+str(lower_qty))\n",
    "    \n",
    "    x = threading.Thread(target=placeneworder, args=(upper_qty,prev_price))\n",
    "    x.start()\n",
    "    y = threading.Thread(target=placeneworder, args=(lower_qty,next_price))\n",
    "    y.start()"
   ]
  },
  {
   "cell_type": "code",
   "execution_count": null,
   "id": "referenced-identification",
   "metadata": {
    "ExecuteTime": {
     "end_time": "2021-03-06T09:14:31.683088Z",
     "start_time": "2021-03-06T09:14:31.665136Z"
    },
    "papermill": {
     "duration": null,
     "end_time": null,
     "exception": null,
     "start_time": null,
     "status": "completed"
    },
    "tags": []
   },
   "outputs": [],
   "source": [
    "trading_confirmed_df_pe = pd.DataFrame({'confirmed':True},index=[0])\n",
    "trading_confirmed_df_pe.to_csv('./trading_confirmed_df_pe.csv',index=False)"
   ]
  },
  {
   "cell_type": "code",
   "execution_count": null,
   "id": "upset-confirmation",
   "metadata": {
    "ExecuteTime": {
     "end_time": "2021-03-06T09:14:34.889190Z",
     "start_time": "2021-03-06T09:14:31.686888Z"
    },
    "papermill": {
     "duration": null,
     "end_time": null,
     "exception": null,
     "start_time": null,
     "status": "completed"
    },
    "run_control": {
     "marked": false
    },
    "scrolled": true,
    "tags": []
   },
   "outputs": [],
   "source": [
    "####### START TRADING ######\n",
    "\n",
    "import logging\n",
    "from kiteconnect import KiteTicker\n",
    "logging.basicConfig(level=logging.DEBUG)\n",
    "# kws = KiteTicker(\"w19o0chuo929jxkp\", \"eA5B5OJQNOtZ0OYihkBmYw7Ke3B9pmCC\")\n",
    "\n",
    "cancel_all_pending_orders()\n",
    "getquant()\n",
    "\n",
    "prog_started = True\n",
    "\n",
    "def on_ticks(ws, ticks):\n",
    "    global order_type,inst_token,symbol_ip,ipcsv,myquantity,prog_started,init_trading,buy_depth_df,sell_depth_df\n",
    "    print('==========================')\n",
    "    print( 'LTP : ' + str(ticks[0]['last_price']))\n",
    "    \n",
    "    trading_confirmed_df_peip = pd.read_csv('./trading_confirmed_df_pe.csv')\n",
    "    trading_confirmed_df_ceip = pd.read_csv('./trading_confirmed_df_ce.csv')\n",
    "    ce_confirm = trading_confirmed_df_ceip['confirmed'][0]\n",
    "    pe_confirm = trading_confirmed_df_peip['confirmed'][0]\n",
    "    if(ce_confirm and pe_confirm):\n",
    "        init_trading = True\n",
    "    \n",
    "    lk = read_qty_list_fun()\n",
    "    ipcsv = lk['ipcsv']\n",
    "    symbol_ip = lk['symbol_ip']\n",
    "    inst_token = lk['inst_token']\n",
    "    order_type = lk['order_type']\n",
    "    \n",
    "    buy_depth_df = pd.DataFrame(ticks[0]['depth']['buy'])\n",
    "    sell_depth_df = pd.DataFrame(ticks[0]['depth']['sell'])\n",
    "    tick_df = pd.DataFrame(ticks[0])\n",
    "    buy_depth_df.to_csv('./buy_depth_df_pe.csv',index=False)\n",
    "    sell_depth_df.to_csv('./sell_depth_df_pe.csv',index=False)\n",
    "    tick_df.to_csv('./tick_df_pe.csv',index=False)\n",
    "    \n",
    "    stop_trading_triggered_ceip = pd.read_csv('./stop_trading_triggered_ce.csv')\n",
    "    ce_stoppedip = stop_trading_triggered_ceip['confirmed'][0]\n",
    "    if(ce_stoppedip):\n",
    "        stop_trading()\n",
    "\n",
    "    if(prog_started == True and init_trading == True):\n",
    "        prog_started = False\n",
    "        set_initial_order(sell_depth_df['price'][0],myquantity)\n",
    "\n",
    "def on_connect(ws, response):\n",
    "    global inst_token\n",
    "    ws.subscribe([inst_token])\n",
    "    ws.set_mode(ws.MODE_FULL, [inst_token])\n",
    "\n",
    "def on_close(ws, code, reason):\n",
    "    ws.stop()\n",
    "\n",
    "def on_error(ws, code, reason):\n",
    "    logging.error(\"closed connection on error: {} {}\".format(code, reason))\n",
    "\n",
    "def on_noreconnect(ws):\n",
    "    logging.error(\"Reconnecting the websocket failed\")\n",
    "\n",
    "def on_reconnect(ws, attempt_count):\n",
    "    logging.debug(\"Reconnecting the websocket: {}\".format(attempt_count))\n",
    "\n",
    "def on_order_update(ws, data):\n",
    "    global order_type,inst_token,symbol_ip,ipcsv,myquantity\n",
    "#     if(data['status']=='REJECTED' and data['tradingsymbol']== symbol_ip):\n",
    "#         stop_trading()\n",
    "        \n",
    "    if(data['status']=='COMPLETE' and data['tradingsymbol']== symbol_ip):\n",
    "        myquantity2 = getquant()\n",
    "        \n",
    "#         if(myquantity2 == 0):\n",
    "#             stop_trading()\n",
    "        \n",
    "        cancel_all_pending_orders()\n",
    "        avg_price = round(0.0025 * round(data['average_price']/0.0025), 4)\n",
    "        print('order complete at : '+str(avg_price)+' '+str(data['quantity'])+' '+str(myquantity2))\n",
    "        set_limits(avg_price,myquantity2,myquantity2)\n",
    "        \n",
    "#     print('--------------------------------------')\n",
    "#     print(\"order update: \", data)\n",
    "#     print('--------------------------------------')\n",
    "\n",
    "module.kws.on_error = on_error\n",
    "module.kws.on_noreconnect = on_noreconnect\n",
    "module.kws.on_reconnect = on_reconnect\n",
    "module.kws.on_order_update = on_order_update\n",
    "module.kws.on_ticks = on_ticks\n",
    "module.kws.on_connect = on_connect\n",
    "module.kws.on_close = on_close\n",
    "\n",
    "module.kws.connect()"
   ]
  },
  {
   "cell_type": "code",
   "execution_count": null,
   "id": "solid-cookbook",
   "metadata": {
    "ExecuteTime": {
     "end_time": "2021-03-06T09:14:34.904028Z",
     "start_time": "2021-03-06T09:14:08.345Z"
    },
    "papermill": {
     "duration": null,
     "end_time": null,
     "exception": null,
     "start_time": null,
     "status": "completed"
    },
    "tags": []
   },
   "outputs": [],
   "source": [
    "# stop_trading()"
   ]
  },
  {
   "cell_type": "code",
   "execution_count": null,
   "id": "incorporate-quantum",
   "metadata": {
    "papermill": {
     "duration": null,
     "end_time": null,
     "exception": null,
     "start_time": null,
     "status": "completed"
    },
    "tags": []
   },
   "outputs": [],
   "source": [
    "from IPython.lib.display import Audio\n",
    "import numpy as np\n",
    "\n",
    "framerate = 10000\n",
    "play_time_seconds = 1\n",
    "\n",
    "t = np.linspace(0, play_time_seconds, framerate*play_time_seconds)\n",
    "audio_data = np.sin(2*np.pi*1500*t) + np.sin(2*np.pi*1500*t)\n",
    "Audio(audio_data, rate=framerate, autoplay=True)"
   ]
  }
 ],
 "metadata": {
  "hide_input": false,
  "kernelspec": {
   "display_name": "Python 3",
   "language": "python",
   "name": "python3"
  },
  "language_info": {
   "codemirror_mode": {
    "name": "ipython",
    "version": 3
   },
   "file_extension": ".py",
   "mimetype": "text/x-python",
   "name": "python",
   "nbconvert_exporter": "python",
   "pygments_lexer": "ipython3",
   "version": "3.9.4"
  },
  "papermill": {
   "default_parameters": {},
   "duration": 13.422965,
   "end_time": "2021-03-06T11:26:44.767974",
   "environment_variables": {},
   "exception": null,
   "input_path": "./PE_High_Frequency_06-03-2021.ipynb",
   "output_path": "./PE_High_Frequency_06-03-2021_op.ipynb",
   "parameters": {},
   "start_time": "2021-03-06T11:26:31.345009",
   "version": "2.3.2"
  },
  "varInspector": {
   "cols": {
    "lenName": 16,
    "lenType": 16,
    "lenVar": 40
   },
   "kernels_config": {
    "python": {
     "delete_cmd_postfix": "",
     "delete_cmd_prefix": "del ",
     "library": "var_list.py",
     "varRefreshCmd": "print(var_dic_list())"
    },
    "r": {
     "delete_cmd_postfix": ") ",
     "delete_cmd_prefix": "rm(",
     "library": "var_list.r",
     "varRefreshCmd": "cat(var_dic_list()) "
    }
   },
   "position": {
    "height": "474px",
    "left": "514px",
    "right": "20px",
    "top": "100px",
    "width": "489px"
   },
   "types_to_exclude": [
    "module",
    "function",
    "builtin_function_or_method",
    "instance",
    "_Feature"
   ],
   "window_display": false
  }
 },
 "nbformat": 4,
 "nbformat_minor": 5
}
