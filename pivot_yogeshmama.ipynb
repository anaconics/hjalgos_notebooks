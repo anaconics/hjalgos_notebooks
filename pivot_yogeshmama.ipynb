{
 "cells": [
  {
   "cell_type": "code",
   "execution_count": null,
   "metadata": {},
   "outputs": [],
   "source": [
    "# from stkdef import One_trian_stk_class\n",
    "import logging\n",
    "from kiteconnect import KiteConnect\n",
    "logging.basicConfig(level=logging.ERROR)\n",
    "import threading\n",
    "\n",
    "kite = KiteConnect(api_key=\"w19o0chuo929jxkp\")\n",
    "kite.login_url()"
   ]
  },
  {
   "cell_type": "code",
   "execution_count": null,
   "metadata": {},
   "outputs": [],
   "source": [
    "data = kite.generate_session(\"DYw0lQTfP3cLbIb48VRZUSphYMp0f3NS\", \n",
    "                             api_secret=\"gsw8ps17ex7lf3cuji4prfnwb4vlyr4y\")\n",
    "kite.set_access_token(data[\"access_token\"])\n",
    "import joblib\n",
    "joblib.dump(kite,'kitefile.p')"
   ]
  },
  {
   "cell_type": "code",
   "execution_count": null,
   "metadata": {},
   "outputs": [],
   "source": [
    "import act"
   ]
  },
  {
   "cell_type": "code",
   "execution_count": null,
   "metadata": {},
   "outputs": [],
   "source": []
  }
 ],
 "metadata": {
  "kernelspec": {
   "display_name": "Python 3",
   "language": "python",
   "name": "python3"
  },
  "language_info": {
   "codemirror_mode": {
    "name": "ipython",
    "version": 3
   },
   "file_extension": ".py",
   "mimetype": "text/x-python",
   "name": "python",
   "nbconvert_exporter": "python",
   "pygments_lexer": "ipython3",
   "version": "3.8.2"
  }
 },
 "nbformat": 4,
 "nbformat_minor": 4
}
