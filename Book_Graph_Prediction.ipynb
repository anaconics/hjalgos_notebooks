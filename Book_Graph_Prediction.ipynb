{
 "cells": [
  {
   "cell_type": "code",
   "execution_count": 1,
   "metadata": {
    "ExecuteTime": {
     "end_time": "2020-12-12T08:19:22.277897Z",
     "start_time": "2020-12-12T08:19:21.875629Z"
    }
   },
   "outputs": [],
   "source": [
    "import numpy as np\n",
    "import pandas as pd\n",
    "import datetime as dt\n",
    "from pylab import mpl, plt\n",
    "plt.style.use('seaborn')\n",
    "mpl.rcParams['font.family'] = 'serif'\n",
    "%matplotlib inline"
   ]
  },
  {
   "cell_type": "code",
   "execution_count": 2,
   "metadata": {
    "ExecuteTime": {
     "end_time": "2020-12-12T08:19:31.175675Z",
     "start_time": "2020-12-12T08:19:22.405922Z"
    }
   },
   "outputs": [
    {
     "data": {
      "text/html": [
       "<div>\n",
       "<style scoped>\n",
       "    .dataframe tbody tr th:only-of-type {\n",
       "        vertical-align: middle;\n",
       "    }\n",
       "\n",
       "    .dataframe tbody tr th {\n",
       "        vertical-align: top;\n",
       "    }\n",
       "\n",
       "    .dataframe thead th {\n",
       "        text-align: right;\n",
       "    }\n",
       "</style>\n",
       "<table border=\"1\" class=\"dataframe\">\n",
       "  <thead>\n",
       "    <tr style=\"text-align: right;\">\n",
       "      <th></th>\n",
       "      <th>date</th>\n",
       "      <th>open</th>\n",
       "      <th>high</th>\n",
       "      <th>low</th>\n",
       "      <th>close</th>\n",
       "      <th>volume</th>\n",
       "    </tr>\n",
       "  </thead>\n",
       "  <tbody>\n",
       "    <tr>\n",
       "      <th>0</th>\n",
       "      <td>2015-01-09 09:15:00+05:30</td>\n",
       "      <td>8285.45</td>\n",
       "      <td>8295.90</td>\n",
       "      <td>8285.45</td>\n",
       "      <td>8292.10</td>\n",
       "      <td>0</td>\n",
       "    </tr>\n",
       "    <tr>\n",
       "      <th>1</th>\n",
       "      <td>2015-01-09 09:16:00+05:30</td>\n",
       "      <td>8292.60</td>\n",
       "      <td>8293.60</td>\n",
       "      <td>8287.20</td>\n",
       "      <td>8288.15</td>\n",
       "      <td>0</td>\n",
       "    </tr>\n",
       "    <tr>\n",
       "      <th>2</th>\n",
       "      <td>2015-01-09 09:17:00+05:30</td>\n",
       "      <td>8287.40</td>\n",
       "      <td>8293.90</td>\n",
       "      <td>8287.40</td>\n",
       "      <td>8293.90</td>\n",
       "      <td>0</td>\n",
       "    </tr>\n",
       "    <tr>\n",
       "      <th>3</th>\n",
       "      <td>2015-01-09 09:18:00+05:30</td>\n",
       "      <td>8294.25</td>\n",
       "      <td>8300.65</td>\n",
       "      <td>8293.90</td>\n",
       "      <td>8300.65</td>\n",
       "      <td>0</td>\n",
       "    </tr>\n",
       "    <tr>\n",
       "      <th>4</th>\n",
       "      <td>2015-01-09 09:19:00+05:30</td>\n",
       "      <td>8300.60</td>\n",
       "      <td>8301.30</td>\n",
       "      <td>8298.75</td>\n",
       "      <td>8301.20</td>\n",
       "      <td>0</td>\n",
       "    </tr>\n",
       "    <tr>\n",
       "      <th>...</th>\n",
       "      <td>...</td>\n",
       "      <td>...</td>\n",
       "      <td>...</td>\n",
       "      <td>...</td>\n",
       "      <td>...</td>\n",
       "      <td>...</td>\n",
       "    </tr>\n",
       "    <tr>\n",
       "      <th>544331</th>\n",
       "      <td>2020-11-27 15:25:00+05:30</td>\n",
       "      <td>12970.65</td>\n",
       "      <td>12970.95</td>\n",
       "      <td>12960.15</td>\n",
       "      <td>12960.80</td>\n",
       "      <td>0</td>\n",
       "    </tr>\n",
       "    <tr>\n",
       "      <th>544332</th>\n",
       "      <td>2020-11-27 15:26:00+05:30</td>\n",
       "      <td>12960.05</td>\n",
       "      <td>12960.60</td>\n",
       "      <td>12946.35</td>\n",
       "      <td>12946.85</td>\n",
       "      <td>0</td>\n",
       "    </tr>\n",
       "    <tr>\n",
       "      <th>544333</th>\n",
       "      <td>2020-11-27 15:27:00+05:30</td>\n",
       "      <td>12946.85</td>\n",
       "      <td>12947.00</td>\n",
       "      <td>12927.95</td>\n",
       "      <td>12927.95</td>\n",
       "      <td>0</td>\n",
       "    </tr>\n",
       "    <tr>\n",
       "      <th>544334</th>\n",
       "      <td>2020-11-27 15:28:00+05:30</td>\n",
       "      <td>12928.35</td>\n",
       "      <td>12947.90</td>\n",
       "      <td>12928.35</td>\n",
       "      <td>12937.70</td>\n",
       "      <td>0</td>\n",
       "    </tr>\n",
       "    <tr>\n",
       "      <th>544335</th>\n",
       "      <td>2020-11-27 15:29:00+05:30</td>\n",
       "      <td>12936.40</td>\n",
       "      <td>12948.60</td>\n",
       "      <td>12933.85</td>\n",
       "      <td>12942.85</td>\n",
       "      <td>0</td>\n",
       "    </tr>\n",
       "  </tbody>\n",
       "</table>\n",
       "<p>544336 rows × 6 columns</p>\n",
       "</div>"
      ],
      "text/plain": [
       "                            date      open      high       low     close  \\\n",
       "0      2015-01-09 09:15:00+05:30   8285.45   8295.90   8285.45   8292.10   \n",
       "1      2015-01-09 09:16:00+05:30   8292.60   8293.60   8287.20   8288.15   \n",
       "2      2015-01-09 09:17:00+05:30   8287.40   8293.90   8287.40   8293.90   \n",
       "3      2015-01-09 09:18:00+05:30   8294.25   8300.65   8293.90   8300.65   \n",
       "4      2015-01-09 09:19:00+05:30   8300.60   8301.30   8298.75   8301.20   \n",
       "...                          ...       ...       ...       ...       ...   \n",
       "544331 2020-11-27 15:25:00+05:30  12970.65  12970.95  12960.15  12960.80   \n",
       "544332 2020-11-27 15:26:00+05:30  12960.05  12960.60  12946.35  12946.85   \n",
       "544333 2020-11-27 15:27:00+05:30  12946.85  12947.00  12927.95  12927.95   \n",
       "544334 2020-11-27 15:28:00+05:30  12928.35  12947.90  12928.35  12937.70   \n",
       "544335 2020-11-27 15:29:00+05:30  12936.40  12948.60  12933.85  12942.85   \n",
       "\n",
       "        volume  \n",
       "0            0  \n",
       "1            0  \n",
       "2            0  \n",
       "3            0  \n",
       "4            0  \n",
       "...        ...  \n",
       "544331       0  \n",
       "544332       0  \n",
       "544333       0  \n",
       "544334       0  \n",
       "544335       0  \n",
       "\n",
       "[544336 rows x 6 columns]"
      ]
     },
     "execution_count": 2,
     "metadata": {},
     "output_type": "execute_result"
    }
   ],
   "source": [
    "# raw = pd.read_csv('./tr_eikon_eod_data.csv',\n",
    "#     index_col=0, parse_dates=True).dropna()\n",
    "# raw\n",
    "########################\n",
    "import joblib\n",
    "raw = joblib.load('./mydf_nifty_prediction.p')\n",
    "raw.fillna(0)\n",
    "raw"
   ]
  },
  {
   "cell_type": "code",
   "execution_count": 3,
   "metadata": {
    "ExecuteTime": {
     "end_time": "2020-12-12T08:19:31.257858Z",
     "start_time": "2020-12-12T08:19:31.250029Z"
    }
   },
   "outputs": [
    {
     "data": {
      "text/plain": [
       "Index(['date', 'open', 'high', 'low', 'close', 'volume'], dtype='object')"
      ]
     },
     "execution_count": 3,
     "metadata": {},
     "output_type": "execute_result"
    }
   ],
   "source": [
    "raw.columns"
   ]
  },
  {
   "cell_type": "code",
   "execution_count": 4,
   "metadata": {
    "ExecuteTime": {
     "end_time": "2020-12-12T08:19:31.370362Z",
     "start_time": "2020-12-12T08:19:31.366096Z"
    }
   },
   "outputs": [
    {
     "data": {
      "text/plain": [
       "'close'"
      ]
     },
     "execution_count": 4,
     "metadata": {},
     "output_type": "execute_result"
    }
   ],
   "source": [
    "# symbol = 'EUR='\n",
    "# symbol\n",
    "# ###################\n",
    "\n",
    "symbol = 'close'\n",
    "symbol"
   ]
  },
  {
   "cell_type": "code",
   "execution_count": 5,
   "metadata": {
    "ExecuteTime": {
     "end_time": "2020-12-12T08:19:54.689502Z",
     "start_time": "2020-12-12T08:19:54.674786Z"
    }
   },
   "outputs": [
    {
     "data": {
      "text/html": [
       "<div>\n",
       "<style scoped>\n",
       "    .dataframe tbody tr th:only-of-type {\n",
       "        vertical-align: middle;\n",
       "    }\n",
       "\n",
       "    .dataframe tbody tr th {\n",
       "        vertical-align: top;\n",
       "    }\n",
       "\n",
       "    .dataframe thead th {\n",
       "        text-align: right;\n",
       "    }\n",
       "</style>\n",
       "<table border=\"1\" class=\"dataframe\">\n",
       "  <thead>\n",
       "    <tr style=\"text-align: right;\">\n",
       "      <th></th>\n",
       "      <th>close</th>\n",
       "    </tr>\n",
       "  </thead>\n",
       "  <tbody>\n",
       "    <tr>\n",
       "      <th>0</th>\n",
       "      <td>8292.10</td>\n",
       "    </tr>\n",
       "    <tr>\n",
       "      <th>1</th>\n",
       "      <td>8288.15</td>\n",
       "    </tr>\n",
       "    <tr>\n",
       "      <th>2</th>\n",
       "      <td>8293.90</td>\n",
       "    </tr>\n",
       "    <tr>\n",
       "      <th>3</th>\n",
       "      <td>8300.65</td>\n",
       "    </tr>\n",
       "    <tr>\n",
       "      <th>4</th>\n",
       "      <td>8301.20</td>\n",
       "    </tr>\n",
       "    <tr>\n",
       "      <th>...</th>\n",
       "      <td>...</td>\n",
       "    </tr>\n",
       "    <tr>\n",
       "      <th>544331</th>\n",
       "      <td>12960.80</td>\n",
       "    </tr>\n",
       "    <tr>\n",
       "      <th>544332</th>\n",
       "      <td>12946.85</td>\n",
       "    </tr>\n",
       "    <tr>\n",
       "      <th>544333</th>\n",
       "      <td>12927.95</td>\n",
       "    </tr>\n",
       "    <tr>\n",
       "      <th>544334</th>\n",
       "      <td>12937.70</td>\n",
       "    </tr>\n",
       "    <tr>\n",
       "      <th>544335</th>\n",
       "      <td>12942.85</td>\n",
       "    </tr>\n",
       "  </tbody>\n",
       "</table>\n",
       "<p>544336 rows × 1 columns</p>\n",
       "</div>"
      ],
      "text/plain": [
       "           close\n",
       "0        8292.10\n",
       "1        8288.15\n",
       "2        8293.90\n",
       "3        8300.65\n",
       "4        8301.20\n",
       "...          ...\n",
       "544331  12960.80\n",
       "544332  12946.85\n",
       "544333  12927.95\n",
       "544334  12937.70\n",
       "544335  12942.85\n",
       "\n",
       "[544336 rows x 1 columns]"
      ]
     },
     "execution_count": 5,
     "metadata": {},
     "output_type": "execute_result"
    }
   ],
   "source": [
    "data = pd.DataFrame(raw[symbol])\n",
    "data"
   ]
  },
  {
   "cell_type": "code",
   "execution_count": 6,
   "metadata": {
    "ExecuteTime": {
     "end_time": "2020-12-12T08:19:56.839570Z",
     "start_time": "2020-12-12T08:19:56.822078Z"
    }
   },
   "outputs": [
    {
     "data": {
      "text/plain": [
       "0              NaN\n",
       "1        -0.000476\n",
       "2         0.000694\n",
       "3         0.000814\n",
       "4         0.000066\n",
       "            ...   \n",
       "544331   -0.000760\n",
       "544332   -0.001077\n",
       "544333   -0.001461\n",
       "544334    0.000754\n",
       "544335    0.000398\n",
       "Name: returns, Length: 544336, dtype: float64"
      ]
     },
     "execution_count": 6,
     "metadata": {},
     "output_type": "execute_result"
    }
   ],
   "source": [
    "data['returns'] = np.log(data / data.shift(1))\n",
    "data['returns']"
   ]
  },
  {
   "cell_type": "code",
   "execution_count": 7,
   "metadata": {
    "ExecuteTime": {
     "end_time": "2020-12-12T08:19:59.106665Z",
     "start_time": "2020-12-12T08:19:59.070653Z"
    }
   },
   "outputs": [],
   "source": [
    "data.dropna(inplace=True)"
   ]
  },
  {
   "cell_type": "code",
   "execution_count": 8,
   "metadata": {
    "ExecuteTime": {
     "end_time": "2020-12-12T08:19:59.944149Z",
     "start_time": "2020-12-12T08:19:59.934886Z"
    }
   },
   "outputs": [],
   "source": [
    "data['direction'] = np.sign(data['returns']).astype(int)"
   ]
  },
  {
   "cell_type": "code",
   "execution_count": 9,
   "metadata": {
    "ExecuteTime": {
     "end_time": "2020-12-12T08:20:00.633403Z",
     "start_time": "2020-12-12T08:20:00.621227Z"
    }
   },
   "outputs": [
    {
     "data": {
      "text/html": [
       "<div>\n",
       "<style scoped>\n",
       "    .dataframe tbody tr th:only-of-type {\n",
       "        vertical-align: middle;\n",
       "    }\n",
       "\n",
       "    .dataframe tbody tr th {\n",
       "        vertical-align: top;\n",
       "    }\n",
       "\n",
       "    .dataframe thead th {\n",
       "        text-align: right;\n",
       "    }\n",
       "</style>\n",
       "<table border=\"1\" class=\"dataframe\">\n",
       "  <thead>\n",
       "    <tr style=\"text-align: right;\">\n",
       "      <th></th>\n",
       "      <th>close</th>\n",
       "      <th>returns</th>\n",
       "      <th>direction</th>\n",
       "    </tr>\n",
       "  </thead>\n",
       "  <tbody>\n",
       "    <tr>\n",
       "      <th>1</th>\n",
       "      <td>8288.15</td>\n",
       "      <td>-0.000476</td>\n",
       "      <td>-1</td>\n",
       "    </tr>\n",
       "    <tr>\n",
       "      <th>2</th>\n",
       "      <td>8293.90</td>\n",
       "      <td>0.000694</td>\n",
       "      <td>1</td>\n",
       "    </tr>\n",
       "    <tr>\n",
       "      <th>3</th>\n",
       "      <td>8300.65</td>\n",
       "      <td>0.000814</td>\n",
       "      <td>1</td>\n",
       "    </tr>\n",
       "    <tr>\n",
       "      <th>4</th>\n",
       "      <td>8301.20</td>\n",
       "      <td>0.000066</td>\n",
       "      <td>1</td>\n",
       "    </tr>\n",
       "    <tr>\n",
       "      <th>5</th>\n",
       "      <td>8300.00</td>\n",
       "      <td>-0.000145</td>\n",
       "      <td>-1</td>\n",
       "    </tr>\n",
       "  </tbody>\n",
       "</table>\n",
       "</div>"
      ],
      "text/plain": [
       "     close   returns  direction\n",
       "1  8288.15 -0.000476         -1\n",
       "2  8293.90  0.000694          1\n",
       "3  8300.65  0.000814          1\n",
       "4  8301.20  0.000066          1\n",
       "5  8300.00 -0.000145         -1"
      ]
     },
     "execution_count": 9,
     "metadata": {},
     "output_type": "execute_result"
    }
   ],
   "source": [
    "data.head()"
   ]
  },
  {
   "cell_type": "code",
   "execution_count": 13,
   "metadata": {
    "ExecuteTime": {
     "end_time": "2020-12-12T08:20:42.222874Z",
     "start_time": "2020-12-12T08:20:40.772763Z"
    }
   },
   "outputs": [
    {
     "data": {
      "image/png": "[encoded data removed]",
      "text/plain": [
       "<Figure size 720x432 with 1 Axes>"
      ]
     },
     "metadata": {
      "needs_background": "light"
     },
     "output_type": "display_data"
    }
   ],
   "source": [
    "data['returns'].hist(bins=1000, figsize=(10, 6));"
   ]
  },
  {
   "cell_type": "code",
   "execution_count": 14,
   "metadata": {
    "ExecuteTime": {
     "end_time": "2020-12-12T08:20:48.221995Z",
     "start_time": "2020-12-12T08:20:48.218468Z"
    }
   },
   "outputs": [],
   "source": [
    "lags = 2"
   ]
  },
  {
   "cell_type": "code",
   "execution_count": 15,
   "metadata": {
    "ExecuteTime": {
     "end_time": "2020-12-12T08:20:48.940949Z",
     "start_time": "2020-12-12T08:20:48.935457Z"
    }
   },
   "outputs": [],
   "source": [
    "def create_lags(data):\n",
    "    global cols\n",
    "    cols = []\n",
    "    for lag in range(1, lags + 1):\n",
    "        col = 'lag_{}'.format(lag)\n",
    "        data[col] = data['returns'].shift(lag)\n",
    "        cols.append(col)"
   ]
  },
  {
   "cell_type": "code",
   "execution_count": 16,
   "metadata": {
    "ExecuteTime": {
     "end_time": "2020-12-12T08:20:50.723780Z",
     "start_time": "2020-12-12T08:20:50.714248Z"
    }
   },
   "outputs": [],
   "source": [
    "create_lags(data)"
   ]
  },
  {
   "cell_type": "code",
   "execution_count": 17,
   "metadata": {
    "ExecuteTime": {
     "end_time": "2020-12-12T08:20:53.081042Z",
     "start_time": "2020-12-12T08:20:53.067913Z"
    }
   },
   "outputs": [
    {
     "data": {
      "text/html": [
       "<div>\n",
       "<style scoped>\n",
       "    .dataframe tbody tr th:only-of-type {\n",
       "        vertical-align: middle;\n",
       "    }\n",
       "\n",
       "    .dataframe tbody tr th {\n",
       "        vertical-align: top;\n",
       "    }\n",
       "\n",
       "    .dataframe thead th {\n",
       "        text-align: right;\n",
       "    }\n",
       "</style>\n",
       "<table border=\"1\" class=\"dataframe\">\n",
       "  <thead>\n",
       "    <tr style=\"text-align: right;\">\n",
       "      <th></th>\n",
       "      <th>close</th>\n",
       "      <th>returns</th>\n",
       "      <th>direction</th>\n",
       "      <th>lag_1</th>\n",
       "      <th>lag_2</th>\n",
       "    </tr>\n",
       "  </thead>\n",
       "  <tbody>\n",
       "    <tr>\n",
       "      <th>1</th>\n",
       "      <td>8288.15</td>\n",
       "      <td>-0.000476</td>\n",
       "      <td>-1</td>\n",
       "      <td>NaN</td>\n",
       "      <td>NaN</td>\n",
       "    </tr>\n",
       "    <tr>\n",
       "      <th>2</th>\n",
       "      <td>8293.90</td>\n",
       "      <td>0.000694</td>\n",
       "      <td>1</td>\n",
       "      <td>-0.000476</td>\n",
       "      <td>NaN</td>\n",
       "    </tr>\n",
       "    <tr>\n",
       "      <th>3</th>\n",
       "      <td>8300.65</td>\n",
       "      <td>0.000814</td>\n",
       "      <td>1</td>\n",
       "      <td>0.000694</td>\n",
       "      <td>-0.000476</td>\n",
       "    </tr>\n",
       "    <tr>\n",
       "      <th>4</th>\n",
       "      <td>8301.20</td>\n",
       "      <td>0.000066</td>\n",
       "      <td>1</td>\n",
       "      <td>0.000814</td>\n",
       "      <td>0.000694</td>\n",
       "    </tr>\n",
       "    <tr>\n",
       "      <th>5</th>\n",
       "      <td>8300.00</td>\n",
       "      <td>-0.000145</td>\n",
       "      <td>-1</td>\n",
       "      <td>0.000066</td>\n",
       "      <td>0.000814</td>\n",
       "    </tr>\n",
       "  </tbody>\n",
       "</table>\n",
       "</div>"
      ],
      "text/plain": [
       "     close   returns  direction     lag_1     lag_2\n",
       "1  8288.15 -0.000476         -1       NaN       NaN\n",
       "2  8293.90  0.000694          1 -0.000476       NaN\n",
       "3  8300.65  0.000814          1  0.000694 -0.000476\n",
       "4  8301.20  0.000066          1  0.000814  0.000694\n",
       "5  8300.00 -0.000145         -1  0.000066  0.000814"
      ]
     },
     "execution_count": 17,
     "metadata": {},
     "output_type": "execute_result"
    }
   ],
   "source": [
    "data.head()"
   ]
  },
  {
   "cell_type": "code",
   "execution_count": 18,
   "metadata": {
    "ExecuteTime": {
     "end_time": "2020-12-12T08:20:55.529800Z",
     "start_time": "2020-12-12T08:20:55.484117Z"
    }
   },
   "outputs": [],
   "source": [
    "data.dropna(inplace=True)"
   ]
  },
  {
   "cell_type": "code",
   "execution_count": 19,
   "metadata": {
    "ExecuteTime": {
     "end_time": "2020-12-12T08:21:04.040096Z",
     "start_time": "2020-12-12T08:20:58.307353Z"
    },
    "scrolled": true
   },
   "outputs": [
    {
     "data": {
      "image/png": "[encoded data removed]",
      "text/plain": [
       "<Figure size 720x432 with 2 Axes>"
      ]
     },
     "metadata": {
      "needs_background": "light"
     },
     "output_type": "display_data"
    }
   ],
   "source": [
    "data.plot.scatter(x='lag_1', y='lag_2', c='returns',\n",
    "cmap='coolwarm', figsize=(10, 6), colorbar=True)\n",
    "plt.axvline(0, c='r', ls='--')\n",
    "plt.axhline(0, c='r', ls='--');"
   ]
  },
  {
   "cell_type": "code",
   "execution_count": 20,
   "metadata": {
    "ExecuteTime": {
     "end_time": "2020-12-12T08:21:20.666005Z",
     "start_time": "2020-12-12T08:21:20.661334Z"
    }
   },
   "outputs": [],
   "source": [
    "################################################################################\n",
    "######################### REGRESSION ###########################################\n",
    "################################################################################"
   ]
  },
  {
   "cell_type": "code",
   "execution_count": 21,
   "metadata": {
    "ExecuteTime": {
     "end_time": "2020-12-12T08:21:21.932141Z",
     "start_time": "2020-12-12T08:21:21.311934Z"
    }
   },
   "outputs": [
    {
     "data": {
      "text/html": [
       "<div>\n",
       "<style scoped>\n",
       "    .dataframe tbody tr th:only-of-type {\n",
       "        vertical-align: middle;\n",
       "    }\n",
       "\n",
       "    .dataframe tbody tr th {\n",
       "        vertical-align: top;\n",
       "    }\n",
       "\n",
       "    .dataframe thead th {\n",
       "        text-align: right;\n",
       "    }\n",
       "</style>\n",
       "<table border=\"1\" class=\"dataframe\">\n",
       "  <thead>\n",
       "    <tr style=\"text-align: right;\">\n",
       "      <th></th>\n",
       "      <th>pos_ols_1</th>\n",
       "      <th>pos_ols_2</th>\n",
       "    </tr>\n",
       "  </thead>\n",
       "  <tbody>\n",
       "    <tr>\n",
       "      <th>3</th>\n",
       "      <td>9.231294e-06</td>\n",
       "      <td>0.020088</td>\n",
       "    </tr>\n",
       "    <tr>\n",
       "      <th>4</th>\n",
       "      <td>-1.098450e-05</td>\n",
       "      <td>-0.005523</td>\n",
       "    </tr>\n",
       "    <tr>\n",
       "      <th>5</th>\n",
       "      <td>-1.322885e-05</td>\n",
       "      <td>-0.011829</td>\n",
       "    </tr>\n",
       "    <tr>\n",
       "      <th>6</th>\n",
       "      <td>-3.474140e-07</td>\n",
       "      <td>0.003878</td>\n",
       "    </tr>\n",
       "    <tr>\n",
       "      <th>7</th>\n",
       "      <td>3.382908e-06</td>\n",
       "      <td>0.010378</td>\n",
       "    </tr>\n",
       "  </tbody>\n",
       "</table>\n",
       "</div>"
      ],
      "text/plain": [
       "      pos_ols_1  pos_ols_2\n",
       "3  9.231294e-06   0.020088\n",
       "4 -1.098450e-05  -0.005523\n",
       "5 -1.322885e-05  -0.011829\n",
       "6 -3.474140e-07   0.003878\n",
       "7  3.382908e-06   0.010378"
      ]
     },
     "execution_count": 21,
     "metadata": {},
     "output_type": "execute_result"
    }
   ],
   "source": [
    "from sklearn.linear_model import LinearRegression\n",
    "model = LinearRegression()\n",
    "\n",
    "data['pos_ols_1'] = model.fit(data[cols],data['returns']).predict(data[cols])\n",
    "data['pos_ols_2'] = model.fit(data[cols],data['direction']).predict(data[cols])\n",
    "data[['pos_ols_1', 'pos_ols_2']].head()"
   ]
  },
  {
   "cell_type": "code",
   "execution_count": 22,
   "metadata": {
    "ExecuteTime": {
     "end_time": "2020-12-12T08:21:24.416716Z",
     "start_time": "2020-12-12T08:21:24.152031Z"
    }
   },
   "outputs": [
    {
     "data": {
      "text/plain": [
       " 1    315287\n",
       "-1    229046\n",
       "Name: pos_ols_1, dtype: int64"
      ]
     },
     "execution_count": 22,
     "metadata": {},
     "output_type": "execute_result"
    }
   ],
   "source": [
    "data[['pos_ols_1', 'pos_ols_2']] = np.where(data[['pos_ols_1', 'pos_ols_2']] > 0, 1, -1)\n",
    "data['pos_ols_1'].value_counts()"
   ]
  },
  {
   "cell_type": "code",
   "execution_count": 23,
   "metadata": {
    "ExecuteTime": {
     "end_time": "2020-12-12T08:21:28.170620Z",
     "start_time": "2020-12-12T08:21:28.158607Z"
    }
   },
   "outputs": [
    {
     "data": {
      "text/plain": [
       " 1    456329\n",
       "-1     88004\n",
       "Name: pos_ols_2, dtype: int64"
      ]
     },
     "execution_count": 23,
     "metadata": {},
     "output_type": "execute_result"
    }
   ],
   "source": [
    "data['pos_ols_2'].value_counts()"
   ]
  },
  {
   "cell_type": "code",
   "execution_count": 24,
   "metadata": {
    "ExecuteTime": {
     "end_time": "2020-12-12T08:21:28.674423Z",
     "start_time": "2020-12-12T08:21:28.662880Z"
    }
   },
   "outputs": [
    {
     "data": {
      "text/plain": [
       "258673"
      ]
     },
     "execution_count": 24,
     "metadata": {},
     "output_type": "execute_result"
    }
   ],
   "source": [
    "(data['pos_ols_1'].diff() != 0).sum()"
   ]
  },
  {
   "cell_type": "code",
   "execution_count": 25,
   "metadata": {
    "ExecuteTime": {
     "end_time": "2020-12-12T08:21:30.881313Z",
     "start_time": "2020-12-12T08:21:30.871835Z"
    }
   },
   "outputs": [
    {
     "data": {
      "text/plain": [
       "147751"
      ]
     },
     "execution_count": 25,
     "metadata": {},
     "output_type": "execute_result"
    }
   ],
   "source": [
    "(data['pos_ols_2'].diff() != 0).sum()"
   ]
  },
  {
   "cell_type": "code",
   "execution_count": 26,
   "metadata": {
    "ExecuteTime": {
     "end_time": "2020-12-12T08:21:31.386482Z",
     "start_time": "2020-12-12T08:21:31.373416Z"
    }
   },
   "outputs": [],
   "source": [
    "data['strat_ols_1'] = data['pos_ols_1'] * data['returns']\n",
    "data['strat_ols_2'] = data['pos_ols_2'] * data['returns']"
   ]
  },
  {
   "cell_type": "code",
   "execution_count": 27,
   "metadata": {
    "ExecuteTime": {
     "end_time": "2020-12-12T08:21:34.356962Z",
     "start_time": "2020-12-12T08:21:34.296077Z"
    }
   },
   "outputs": [
    {
     "data": {
      "text/plain": [
       "returns        1.560526\n",
       "strat_ols_1    2.422976\n",
       "strat_ols_2    5.727535\n",
       "dtype: float64"
      ]
     },
     "execution_count": 27,
     "metadata": {},
     "output_type": "execute_result"
    }
   ],
   "source": [
    "data[['returns', 'strat_ols_1', 'strat_ols_2']].sum().apply(np.exp)"
   ]
  },
  {
   "cell_type": "code",
   "execution_count": 28,
   "metadata": {
    "ExecuteTime": {
     "end_time": "2020-12-12T08:21:35.063856Z",
     "start_time": "2020-12-12T08:21:35.051464Z"
    }
   },
   "outputs": [
    {
     "data": {
      "text/plain": [
       "False    272570\n",
       "True     271763\n",
       "dtype: int64"
      ]
     },
     "execution_count": 28,
     "metadata": {},
     "output_type": "execute_result"
    }
   ],
   "source": [
    "(data['direction'] == data['pos_ols_1']).value_counts()"
   ]
  },
  {
   "cell_type": "code",
   "execution_count": 29,
   "metadata": {
    "ExecuteTime": {
     "end_time": "2020-12-12T08:21:35.697514Z",
     "start_time": "2020-12-12T08:21:35.682924Z"
    }
   },
   "outputs": [
    {
     "data": {
      "text/plain": [
       "True     272491\n",
       "False    271842\n",
       "dtype: int64"
      ]
     },
     "execution_count": 29,
     "metadata": {},
     "output_type": "execute_result"
    }
   ],
   "source": [
    "(data['direction'] == data['pos_ols_2']).value_counts()"
   ]
  },
  {
   "cell_type": "code",
   "execution_count": 30,
   "metadata": {
    "ExecuteTime": {
     "end_time": "2020-12-12T08:21:38.934249Z",
     "start_time": "2020-12-12T08:21:37.610384Z"
    }
   },
   "outputs": [
    {
     "data": {
      "image/png": "[encoded data removed]",
      "text/plain": [
       "<Figure size 720x432 with 1 Axes>"
      ]
     },
     "metadata": {
      "needs_background": "light"
     },
     "output_type": "display_data"
    }
   ],
   "source": [
    "data[['returns', 'strat_ols_1', 'strat_ols_2']].cumsum().apply(np.exp).plot(figsize=(10, 6));"
   ]
  },
  {
   "cell_type": "code",
   "execution_count": 31,
   "metadata": {
    "ExecuteTime": {
     "end_time": "2020-12-12T08:22:09.689390Z",
     "start_time": "2020-12-12T08:22:09.686142Z"
    }
   },
   "outputs": [],
   "source": [
    "################################################################################\n",
    "################################ CLUSTERING ####################################\n",
    "################################################################################"
   ]
  },
  {
   "cell_type": "code",
   "execution_count": 32,
   "metadata": {
    "ExecuteTime": {
     "end_time": "2020-12-12T08:22:21.788786Z",
     "start_time": "2020-12-12T08:22:10.055762Z"
    }
   },
   "outputs": [
    {
     "data": {
      "image/png": "[encoded data removed]",
      "text/plain": [
       "<Figure size 720x432 with 1 Axes>"
      ]
     },
     "metadata": {
      "needs_background": "light"
     },
     "output_type": "display_data"
    }
   ],
   "source": [
    "from sklearn.cluster import KMeans\n",
    "model = KMeans(n_clusters=2, random_state=0)\n",
    "model.fit(data[cols])\n",
    "KMeans(algorithm='auto', copy_x=True, init='k-means++', max_iter=300,\n",
    "n_clusters=2, n_init=10, n_jobs=None, precompute_distances='auto',\n",
    "random_state=0, tol=0.0001, verbose=0)\n",
    "data['pos_clus'] = model.predict(data[cols])\n",
    "data['pos_clus'] = np.where(data['pos_clus'] == 1, -1, 1)\n",
    "data['pos_clus'].values\n",
    "plt.figure(figsize=(10, 6))\n",
    "plt.scatter(data[cols].iloc[:, 0], data[cols].iloc[:, 1],\n",
    "c=data['pos_clus'], cmap='coolwarm');"
   ]
  },
  {
   "cell_type": "code",
   "execution_count": 33,
   "metadata": {
    "ExecuteTime": {
     "end_time": "2020-12-12T08:22:21.977514Z",
     "start_time": "2020-12-12T08:22:21.929076Z"
    }
   },
   "outputs": [
    {
     "data": {
      "text/plain": [
       "returns       1.560526\n",
       "strat_clus    0.006008\n",
       "dtype: float64"
      ]
     },
     "execution_count": 33,
     "metadata": {},
     "output_type": "execute_result"
    }
   ],
   "source": [
    "data['strat_clus'] = data['pos_clus'] * data['returns']\n",
    "data[['returns', 'strat_clus']].sum().apply(np.exp)"
   ]
  },
  {
   "cell_type": "code",
   "execution_count": 34,
   "metadata": {
    "ExecuteTime": {
     "end_time": "2020-12-12T08:22:22.153365Z",
     "start_time": "2020-12-12T08:22:22.142251Z"
    }
   },
   "outputs": [
    {
     "data": {
      "text/plain": [
       "False    278814\n",
       "True     265519\n",
       "dtype: int64"
      ]
     },
     "execution_count": 34,
     "metadata": {},
     "output_type": "execute_result"
    }
   ],
   "source": [
    "(data['direction'] == data['pos_clus']).value_counts()"
   ]
  },
  {
   "cell_type": "code",
   "execution_count": 35,
   "metadata": {
    "ExecuteTime": {
     "end_time": "2020-12-12T08:22:23.287320Z",
     "start_time": "2020-12-12T08:22:22.280242Z"
    }
   },
   "outputs": [
    {
     "data": {
      "image/png": "[encoded data removed]",
      "text/plain": [
       "<Figure size 720x432 with 1 Axes>"
      ]
     },
     "metadata": {
      "needs_background": "light"
     },
     "output_type": "display_data"
    }
   ],
   "source": [
    "data[['returns', 'strat_clus']].cumsum().apply(np.exp).plot(figsize=(10, 6));"
   ]
  },
  {
   "cell_type": "code",
   "execution_count": 36,
   "metadata": {
    "ExecuteTime": {
     "end_time": "2020-12-12T08:22:23.448324Z",
     "start_time": "2020-12-12T08:22:23.445624Z"
    }
   },
   "outputs": [],
   "source": [
    "###################################################################\n",
    "###################### FREQUENCY APPROACH #########################\n",
    "###################################################################"
   ]
  },
  {
   "cell_type": "code",
   "execution_count": 37,
   "metadata": {
    "ExecuteTime": {
     "end_time": "2020-12-12T08:22:23.615770Z",
     "start_time": "2020-12-12T08:22:23.610740Z"
    }
   },
   "outputs": [],
   "source": [
    "def create_bins(data, bins=[0]):\n",
    "    global cols_bin\n",
    "    cols_bin = []\n",
    "    for col in cols:\n",
    "        col_bin = col + '_bin'\n",
    "        data[col_bin] = np.digitize(data[col], bins=bins)\n",
    "        cols_bin.append(col_bin)"
   ]
  },
  {
   "cell_type": "code",
   "execution_count": 38,
   "metadata": {
    "ExecuteTime": {
     "end_time": "2020-12-12T08:22:23.850590Z",
     "start_time": "2020-12-12T08:22:23.790393Z"
    }
   },
   "outputs": [
    {
     "data": {
      "text/html": [
       "<div>\n",
       "<style scoped>\n",
       "    .dataframe tbody tr th:only-of-type {\n",
       "        vertical-align: middle;\n",
       "    }\n",
       "\n",
       "    .dataframe tbody tr th {\n",
       "        vertical-align: top;\n",
       "    }\n",
       "\n",
       "    .dataframe thead th {\n",
       "        text-align: right;\n",
       "    }\n",
       "</style>\n",
       "<table border=\"1\" class=\"dataframe\">\n",
       "  <thead>\n",
       "    <tr style=\"text-align: right;\">\n",
       "      <th></th>\n",
       "      <th>lag_1_bin</th>\n",
       "      <th>lag_2_bin</th>\n",
       "      <th>direction</th>\n",
       "    </tr>\n",
       "  </thead>\n",
       "  <tbody>\n",
       "    <tr>\n",
       "      <th>3</th>\n",
       "      <td>1</td>\n",
       "      <td>0</td>\n",
       "      <td>1</td>\n",
       "    </tr>\n",
       "    <tr>\n",
       "      <th>4</th>\n",
       "      <td>1</td>\n",
       "      <td>1</td>\n",
       "      <td>1</td>\n",
       "    </tr>\n",
       "    <tr>\n",
       "      <th>5</th>\n",
       "      <td>1</td>\n",
       "      <td>1</td>\n",
       "      <td>-1</td>\n",
       "    </tr>\n",
       "    <tr>\n",
       "      <th>6</th>\n",
       "      <td>0</td>\n",
       "      <td>1</td>\n",
       "      <td>1</td>\n",
       "    </tr>\n",
       "    <tr>\n",
       "      <th>7</th>\n",
       "      <td>1</td>\n",
       "      <td>0</td>\n",
       "      <td>-1</td>\n",
       "    </tr>\n",
       "  </tbody>\n",
       "</table>\n",
       "</div>"
      ],
      "text/plain": [
       "   lag_1_bin  lag_2_bin  direction\n",
       "3          1          0          1\n",
       "4          1          1          1\n",
       "5          1          1         -1\n",
       "6          0          1          1\n",
       "7          1          0         -1"
      ]
     },
     "execution_count": 38,
     "metadata": {},
     "output_type": "execute_result"
    }
   ],
   "source": [
    "create_bins(data)\n",
    "data[cols_bin + ['direction']].head()"
   ]
  },
  {
   "cell_type": "code",
   "execution_count": 39,
   "metadata": {
    "ExecuteTime": {
     "end_time": "2020-12-12T08:22:24.046563Z",
     "start_time": "2020-12-12T08:22:24.012095Z"
    }
   },
   "outputs": [
    {
     "data": {
      "text/plain": [
       "lag_1_bin  lag_2_bin  direction\n",
       "0          0          -1           68685\n",
       "                       0            1173\n",
       "                       1           66261\n",
       "           1          -1           67434\n",
       "                       0            1217\n",
       "                       1           63176\n",
       "1          0          -1           62213\n",
       "                       0            1191\n",
       "                       1           68424\n",
       "           1          -1           69614\n",
       "                       0            1568\n",
       "                       1           73377\n",
       "dtype: int64"
      ]
     },
     "execution_count": 39,
     "metadata": {},
     "output_type": "execute_result"
    }
   ],
   "source": [
    "grouped = data.groupby(cols_bin + ['direction'])\n",
    "grouped.size()"
   ]
  },
  {
   "cell_type": "code",
   "execution_count": 40,
   "metadata": {
    "ExecuteTime": {
     "end_time": "2020-12-12T08:22:24.227361Z",
     "start_time": "2020-12-12T08:22:24.171404Z"
    }
   },
   "outputs": [
    {
     "data": {
      "text/html": [
       "<style  type=\"text/css\" >\n",
       "#T_2990c306_3c53_11eb_827b_27900c2afe39row0_col0,#T_2990c306_3c53_11eb_827b_27900c2afe39row1_col0,#T_2990c306_3c53_11eb_827b_27900c2afe39row2_col2,#T_2990c306_3c53_11eb_827b_27900c2afe39row3_col2{\n",
       "            background-color:  yellow;\n",
       "        }</style><table id=\"T_2990c306_3c53_11eb_827b_27900c2afe39\" ><thead>    <tr>        <th class=\"blank\" ></th>        <th class=\"index_name level0\" >direction</th>        <th class=\"col_heading level0 col0\" >-1</th>        <th class=\"col_heading level0 col1\" >0</th>        <th class=\"col_heading level0 col2\" >1</th>    </tr>    <tr>        <th class=\"index_name level0\" >lag_1_bin</th>        <th class=\"index_name level1\" >lag_2_bin</th>        <th class=\"blank\" ></th>        <th class=\"blank\" ></th>        <th class=\"blank\" ></th>    </tr></thead><tbody>\n",
       "                <tr>\n",
       "                        <th id=\"T_2990c306_3c53_11eb_827b_27900c2afe39level0_row0\" class=\"row_heading level0 row0\" rowspan=2>0</th>\n",
       "                        <th id=\"T_2990c306_3c53_11eb_827b_27900c2afe39level1_row0\" class=\"row_heading level1 row0\" >0</th>\n",
       "                        <td id=\"T_2990c306_3c53_11eb_827b_27900c2afe39row0_col0\" class=\"data row0 col0\" >68685</td>\n",
       "                        <td id=\"T_2990c306_3c53_11eb_827b_27900c2afe39row0_col1\" class=\"data row0 col1\" >1173</td>\n",
       "                        <td id=\"T_2990c306_3c53_11eb_827b_27900c2afe39row0_col2\" class=\"data row0 col2\" >66261</td>\n",
       "            </tr>\n",
       "            <tr>\n",
       "                                <th id=\"T_2990c306_3c53_11eb_827b_27900c2afe39level1_row1\" class=\"row_heading level1 row1\" >1</th>\n",
       "                        <td id=\"T_2990c306_3c53_11eb_827b_27900c2afe39row1_col0\" class=\"data row1 col0\" >67434</td>\n",
       "                        <td id=\"T_2990c306_3c53_11eb_827b_27900c2afe39row1_col1\" class=\"data row1 col1\" >1217</td>\n",
       "                        <td id=\"T_2990c306_3c53_11eb_827b_27900c2afe39row1_col2\" class=\"data row1 col2\" >63176</td>\n",
       "            </tr>\n",
       "            <tr>\n",
       "                        <th id=\"T_2990c306_3c53_11eb_827b_27900c2afe39level0_row2\" class=\"row_heading level0 row2\" rowspan=2>1</th>\n",
       "                        <th id=\"T_2990c306_3c53_11eb_827b_27900c2afe39level1_row2\" class=\"row_heading level1 row2\" >0</th>\n",
       "                        <td id=\"T_2990c306_3c53_11eb_827b_27900c2afe39row2_col0\" class=\"data row2 col0\" >62213</td>\n",
       "                        <td id=\"T_2990c306_3c53_11eb_827b_27900c2afe39row2_col1\" class=\"data row2 col1\" >1191</td>\n",
       "                        <td id=\"T_2990c306_3c53_11eb_827b_27900c2afe39row2_col2\" class=\"data row2 col2\" >68424</td>\n",
       "            </tr>\n",
       "            <tr>\n",
       "                                <th id=\"T_2990c306_3c53_11eb_827b_27900c2afe39level1_row3\" class=\"row_heading level1 row3\" >1</th>\n",
       "                        <td id=\"T_2990c306_3c53_11eb_827b_27900c2afe39row3_col0\" class=\"data row3 col0\" >69614</td>\n",
       "                        <td id=\"T_2990c306_3c53_11eb_827b_27900c2afe39row3_col1\" class=\"data row3 col1\" >1568</td>\n",
       "                        <td id=\"T_2990c306_3c53_11eb_827b_27900c2afe39row3_col2\" class=\"data row3 col2\" >73377</td>\n",
       "            </tr>\n",
       "    </tbody></table>"
      ],
      "text/plain": [
       "<pandas.io.formats.style.Styler at 0x7f2fdc0b7460>"
      ]
     },
     "execution_count": 40,
     "metadata": {},
     "output_type": "execute_result"
    }
   ],
   "source": [
    "res = grouped['direction'].size().unstack(fill_value=0)\n",
    "def highlight_max(s):\n",
    "    is_max = s == s.max()\n",
    "    return ['background-color: yellow' if v else '' for v in is_max]\n",
    "res.style.apply(highlight_max, axis=1)"
   ]
  },
  {
   "cell_type": "code",
   "execution_count": 41,
   "metadata": {
    "ExecuteTime": {
     "end_time": "2020-12-12T08:22:24.460610Z",
     "start_time": "2020-12-12T08:22:24.436053Z"
    }
   },
   "outputs": [
    {
     "data": {
      "text/plain": [
       "False    276858\n",
       "True     267475\n",
       "dtype: int64"
      ]
     },
     "execution_count": 41,
     "metadata": {},
     "output_type": "execute_result"
    }
   ],
   "source": [
    "data['pos_freq'] = np.where(data[cols_bin].sum(axis=1) == 2, -1, 1)\n",
    "(data['direction'] == data['pos_freq']).value_counts()"
   ]
  },
  {
   "cell_type": "code",
   "execution_count": 42,
   "metadata": {
    "ExecuteTime": {
     "end_time": "2020-12-12T08:22:25.681097Z",
     "start_time": "2020-12-12T08:22:24.646363Z"
    }
   },
   "outputs": [
    {
     "data": {
      "image/png": "[encoded data removed]",
      "text/plain": [
       "<Figure size 720x432 with 1 Axes>"
      ]
     },
     "metadata": {
      "needs_background": "light"
     },
     "output_type": "display_data"
    }
   ],
   "source": [
    "data['strat_freq'] = data['pos_freq'] * data['returns']\n",
    "data[['returns', 'strat_freq']].sum().apply(np.exp)\n",
    "data[['returns', 'strat_freq']].cumsum().apply(np.exp).plot(figsize=(10, 6));"
   ]
  },
  {
   "cell_type": "code",
   "execution_count": 43,
   "metadata": {
    "ExecuteTime": {
     "end_time": "2020-12-12T08:22:25.864273Z",
     "start_time": "2020-12-12T08:22:25.861220Z"
    }
   },
   "outputs": [],
   "source": [
    "###############################################################\n",
    "##################### CLASSIFICATION ##########################\n",
    "###############################################################\n",
    "############## TWO BINARY FEATURE #############################\n",
    "###############################################################"
   ]
  },
  {
   "cell_type": "code",
   "execution_count": 44,
   "metadata": {
    "ExecuteTime": {
     "end_time": "2020-12-12T11:34:09.881726Z",
     "start_time": "2020-12-12T08:22:26.025019Z"
    }
   },
   "outputs": [
    {
     "data": {
      "image/png": "[encoded data removed]",
      "text/plain": [
       "<Figure size 720x432 with 1 Axes>"
      ]
     },
     "metadata": {
      "needs_background": "light"
     },
     "output_type": "display_data"
    }
   ],
   "source": [
    "from sklearn import linear_model\n",
    "from sklearn.naive_bayes import GaussianNB\n",
    "from sklearn.svm import SVC\n",
    "C = 1\n",
    "models = {\n",
    "'log_reg': linear_model.LogisticRegression(C=C),\n",
    "'gauss_nb': GaussianNB(),\n",
    "'svm': SVC(C=C)\n",
    "}\n",
    "def fit_models(data):\n",
    "    mfit = {model: models[model].fit(data[cols_bin],\n",
    "        data['direction'])\n",
    "        for model in models.keys()}\n",
    "    \n",
    "fit_models(data)\n",
    "\n",
    "def derive_positions(data):\n",
    "    for model in models.keys():\n",
    "        data['pos_' + model] = models[model].predict(data[cols_bin])\n",
    "        \n",
    "        \n",
    "derive_positions(data)\n",
    "def evaluate_strats(data):\n",
    "    global sel\n",
    "    sel = []\n",
    "    for model in models.keys():\n",
    "        col = 'strat_' + model\n",
    "        data[col] = data['pos_' + model] * data['returns']\n",
    "        sel.append(col)\n",
    "    sel.insert(0, 'returns')\n",
    "    \n",
    "evaluate_strats(data)\n",
    "sel.insert(1, 'strat_freq')\n",
    "data[sel].sum().apply(np.exp)\n",
    "\n",
    "data[sel].cumsum().apply(np.exp).plot(figsize=(10, 6));"
   ]
  },
  {
   "cell_type": "code",
   "execution_count": 45,
   "metadata": {
    "ExecuteTime": {
     "end_time": "2020-12-12T11:34:10.468024Z",
     "start_time": "2020-12-12T11:34:10.465660Z"
    }
   },
   "outputs": [],
   "source": [
    "#########################################################\n",
    "################### FIVE BINARY FEATURRES ###############\n",
    "#########################################################"
   ]
  },
  {
   "cell_type": "code",
   "execution_count": 46,
   "metadata": {
    "ExecuteTime": {
     "end_time": "2020-12-12T15:32:31.210910Z",
     "start_time": "2020-12-12T11:34:10.987337Z"
    }
   },
   "outputs": [
    {
     "data": {
      "image/png": "[encoded data removed]",
      "text/plain": [
       "<Figure size 720x432 with 1 Axes>"
      ]
     },
     "metadata": {
      "needs_background": "light"
     },
     "output_type": "display_data"
    }
   ],
   "source": [
    "data = pd.DataFrame(raw[symbol]) \n",
    "\n",
    "data['returns'] = np.log(data/ data.shift(1)) \n",
    "    \n",
    "data['direction'] = np.sign(data['returns']) \n",
    "\n",
    "lags = 5\n",
    "create_lags(data)\n",
    "data.dropna(inplace=True) \n",
    "\n",
    "create_bins(data)\n",
    "cols_bin\n",
    "\n",
    "data[cols_bin].head() \n",
    "        \n",
    "data.dropna(inplace=True) \n",
    "\n",
    "fit_models(data)\n",
    "\n",
    "derive_positions(data) \n",
    "    \n",
    "evaluate_strats(data) \n",
    "\n",
    "data[sel].sum().apply(np.exp)\n",
    "\n",
    "data[sel].cumsum().apply(np.exp).plot(figsize=(10, 6));"
   ]
  },
  {
   "cell_type": "code",
   "execution_count": 47,
   "metadata": {
    "ExecuteTime": {
     "end_time": "2020-12-12T21:29:35.400583Z",
     "start_time": "2020-12-12T15:32:31.361423Z"
    }
   },
   "outputs": [
    {
     "data": {
      "image/png": "[encoded data removed]",
      "text/plain": [
       "<Figure size 720x432 with 1 Axes>"
      ]
     },
     "metadata": {
      "needs_background": "light"
     },
     "output_type": "display_data"
    }
   ],
   "source": [
    "mu = data['returns'].mean()\n",
    "v =data['returns'].std()\n",
    "bins = [mu - v, mu, mu + v]\n",
    "bins\n",
    "create_bins(data, bins) \n",
    "    \n",
    "data[cols_bin].head() \n",
    "\n",
    "fit_models(data) \n",
    "derive_positions(data) \n",
    "\n",
    "evaluate_strats(data) \n",
    "\n",
    "data[sel].sum().apply(np.exp)\n",
    "data[sel].cumsum().apply(np.exp).plot(figsize=(10, 6));"
   ]
  },
  {
   "cell_type": "code",
   "execution_count": 48,
   "metadata": {
    "ExecuteTime": {
     "end_time": "2020-12-12T21:29:35.607117Z",
     "start_time": "2020-12-12T21:29:35.599799Z"
    }
   },
   "outputs": [],
   "source": [
    "###################################################################\n",
    "################# SEQUENCIAL TRAIN/TEST SPLIT #####################\n",
    "###################################################################"
   ]
  },
  {
   "cell_type": "code",
   "execution_count": 49,
   "metadata": {
    "ExecuteTime": {
     "end_time": "2020-12-12T22:30:02.857614Z",
     "start_time": "2020-12-12T21:29:35.780771Z"
    }
   },
   "outputs": [
    {
     "data": {
      "image/png": "[encoded data removed]",
      "text/plain": [
       "<Figure size 720x432 with 1 Axes>"
      ]
     },
     "metadata": {
      "needs_background": "light"
     },
     "output_type": "display_data"
    }
   ],
   "source": [
    "split = int(len(data) * 0.5) \n",
    "    \n",
    "train = data.iloc[:split].copy()\n",
    "\n",
    "fit_models(train)\n",
    "test = data.iloc[split:].copy()\n",
    "\n",
    "evaluate_strats(test)\n",
    "derive_positions(test)\n",
    "    \n",
    "test[sel].sum().apply(np.exp) \n",
    "\n",
    "test[sel].cumsum().apply(np.exp).plot(figsize=(10, 6));"
   ]
  },
  {
   "cell_type": "code",
   "execution_count": 50,
   "metadata": {
    "ExecuteTime": {
     "end_time": "2020-12-12T22:30:03.134619Z",
     "start_time": "2020-12-12T22:30:03.132160Z"
    }
   },
   "outputs": [],
   "source": [
    "#######################################################################\n",
    "################## Randomized TrainTest Split #########################\n",
    "#######################################################################"
   ]
  },
  {
   "cell_type": "code",
   "execution_count": 51,
   "metadata": {
    "ExecuteTime": {
     "end_time": "2020-12-12T23:27:58.105582Z",
     "start_time": "2020-12-12T22:30:03.403158Z"
    }
   },
   "outputs": [
    {
     "data": {
      "image/png": "[encoded data removed]",
      "text/plain": [
       "<Figure size 720x432 with 1 Axes>"
      ]
     },
     "metadata": {
      "needs_background": "light"
     },
     "output_type": "display_data"
    }
   ],
   "source": [
    "from sklearn.model_selection import train_test_split \n",
    "train, test = train_test_split(data, test_size=0.5, shuffle=True,random_state=100) \n",
    "train = train.copy().sort_index()\n",
    "test = test.copy().sort_index()\n",
    "fit_models(train) \n",
    "derive_positions(test) \n",
    "evaluate_strats(test) \n",
    "test[sel].sum().apply(np.exp)\n",
    "test[sel].cumsum().apply(np.exp).plot(figsize=(10, 6));"
   ]
  },
  {
   "cell_type": "code",
   "execution_count": null,
   "metadata": {
    "ExecuteTime": {
     "start_time": "2020-12-12T08:22:15.492Z"
    }
   },
   "outputs": [],
   "source": [
    "from sklearn.neural_network import MLPClassifier\n",
    "\n",
    "model = MLPClassifier(solver='lbfgs', alpha=1e-5,\n",
    "hidden_layer_sizes=2 * [250],\n",
    "random_state=1)\n",
    "%time model.fit(data[cols_bin], data['direction'])\n",
    "\n",
    "data['pos_dnn_sk'] = model.predict(data[cols_bin])\n",
    "data['strat_dnn_sk'] = data['pos_dnn_sk'] * data['returns']\n",
    "data[['returns', 'strat_dnn_sk']].sum().apply(np.exp)\n",
    "data[['returns', 'strat_dnn_sk']].cumsum().apply(np.exp).plot(figsize=(10, 6));"
   ]
  },
  {
   "cell_type": "code",
   "execution_count": null,
   "metadata": {
    "ExecuteTime": {
     "start_time": "2020-12-12T08:22:15.670Z"
    }
   },
   "outputs": [],
   "source": [
    "train, test = train_test_split(data, test_size=0.5,random_state=100)\n",
    "train = train.copy().sort_index()\n",
    "test = test.copy().sort_index()\n",
    "model = MLPClassifier(solver='lbfgs', alpha=1e-5, max_iter=500,\n",
    "hidden_layer_sizes=3 * [500], random_state=1)\n",
    "%time model.fit(train[cols_bin], train['direction'])\n",
    "test['pos_dnn_sk'] = model.predict(test[cols_bin])\n",
    "test['strat_dnn_sk'] = test['pos_dnn_sk'] * test['returns']\n",
    "test[['returns', 'strat_dnn_sk']].sum().apply(np.exp)\n",
    "test[['returns', 'strat_dnn_sk']].cumsum().apply(np.exp).plot(figsize=(10, 6));"
   ]
  },
  {
   "cell_type": "code",
   "execution_count": null,
   "metadata": {
    "ExecuteTime": {
     "start_time": "2020-12-12T08:22:15.861Z"
    }
   },
   "outputs": [],
   "source": [
    "import tensorflow as tf\n",
    "import tensorflow_addons as tfa\n",
    "\n",
    "tf.compat.v1.logging.set_verbosity(tf.compat.v1.logging.ERROR)\n",
    "\n",
    "fc = [tf.feature_column.numeric_column('lags')]\n",
    "\n",
    "model = tf.estimator.DNNClassifier(hidden_units=3 * [500],n_classes=len(bins) + 1, feature_columns=fc)\n",
    "\n",
    "def input_fn():\n",
    "    fc = {'lags': tf.constant(data[cols_bin].values)}\n",
    "    la = tf.constant(data['direction'].apply(lambda x: 0 if x < 0 else 1).values,\n",
    "                     shape=[data['direction'].size, 1])\n",
    "    return fc, la\n",
    "\n",
    "model.train(input_fn=input_fn, steps=250)\n",
    "model.evaluate(input_fn=input_fn, steps=1)\n",
    "pred = np.array(list(model.predict(input_fn=input_fn)))\n",
    "pred[:10]\n",
    "data['pos_dnn_tf'] = np.where(pred > 0, 1, -1)\n",
    "data['strat_dnn_tf'] = data['pos_dnn_tf'] * data['returns']\n",
    "data[['returns', 'strat_dnn_tf']].sum().apply(np.exp)\n",
    "data[['returns', 'strat_dnn_tf']].cumsum().apply(np.exp).plot(figsize=(10, 6));"
   ]
  },
  {
   "cell_type": "code",
   "execution_count": null,
   "metadata": {},
   "outputs": [],
   "source": []
  },
  {
   "cell_type": "code",
   "execution_count": null,
   "metadata": {},
   "outputs": [],
   "source": []
  }
 ],
 "metadata": {
  "kernelspec": {
   "display_name": "Python 3",
   "language": "python",
   "name": "python3"
  },
  "language_info": {
   "codemirror_mode": {
    "name": "ipython",
    "version": 3
   },
   "file_extension": ".py",
   "mimetype": "text/x-python",
   "name": "python",
   "nbconvert_exporter": "python",
   "pygments_lexer": "ipython3",
   "version": "3.8.6"
  },
  "varInspector": {
   "cols": {
    "lenName": 16,
    "lenType": 16,
    "lenVar": 40
   },
   "kernels_config": {
    "python": {
     "delete_cmd_postfix": "",
     "delete_cmd_prefix": "del ",
     "library": "var_list.py",
     "varRefreshCmd": "print(var_dic_list())"
    },
    "r": {
     "delete_cmd_postfix": ") ",
     "delete_cmd_prefix": "rm(",
     "library": "var_list.r",
     "varRefreshCmd": "cat(var_dic_list()) "
    }
   },
   "types_to_exclude": [
    "module",
    "function",
    "builtin_function_or_method",
    "instance",
    "_Feature"
   ],
   "window_display": false
  }
 },
 "nbformat": 4,
 "nbformat_minor": 4
}
