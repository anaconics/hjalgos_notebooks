{
 "cells": [
  {
   "cell_type": "code",
   "execution_count": 1,
   "metadata": {
    "ExecuteTime": {
     "end_time": "2021-03-24T05:57:25.783067Z",
     "start_time": "2021-03-24T05:57:25.778546Z"
    }
   },
   "outputs": [],
   "source": [
    "current_this_month_symbol = 'USDINR21MARFUT'\n",
    "current_next_month_symbol = 'USDINR21APRFUT'\n",
    "\n",
    "future_this_month_symbol = 'USDINR21APRFUT'\n",
    "future_next_month_symbol = 'USDINR21MAYFUT'\n",
    "\n",
    "current_this_month_qty = 42\n",
    "current_next_month_qty = -42\n",
    "\n",
    "this_month_account = 'haj'\n",
    "next_month_account = 'haj'"
   ]
  },
  {
   "cell_type": "code",
   "execution_count": 2,
   "metadata": {
    "ExecuteTime": {
     "end_time": "2021-03-24T05:57:26.882365Z",
     "start_time": "2021-03-24T05:57:26.879122Z"
    }
   },
   "outputs": [],
   "source": [
    "##### Single Account Qty Change  #####\n",
    "# buy_side_order_qty = -current_this_month_qty\n",
    "# middle_side_order_qty = future_this_month_qty - current_next_month_qty\n",
    "# sell_side_order_qty = future_next_month_qty\n",
    "\n",
    "# print('buy_side_order_qty : '+str(buy_side_order_qty))\n",
    "# print('middle_side_order_qty : '+str(middle_side_order_qty))\n",
    "# print('sell_side_order_qty : '+str(sell_side_order_qty))"
   ]
  },
  {
   "cell_type": "code",
   "execution_count": 3,
   "metadata": {
    "ExecuteTime": {
     "end_time": "2021-03-24T05:57:46.925141Z",
     "start_time": "2021-03-24T05:57:27.240980Z"
    }
   },
   "outputs": [
    {
     "name": "stdout",
     "output_type": "stream",
     "text": [
      "Logging in with account : haj\n",
      "Trying to login...\n",
      "access token : f8BaVaKkFo3h3C1ons1e6xEDrUPQFfxn\n",
      "request token : X6HnfvLo1ZP36ixR0I1nNcmo6dem5azY\n"
     ]
    }
   ],
   "source": [
    "######## # AUTO LOGIN-1 #########\n",
    "\n",
    "future_this_month_qty = current_this_month_qty\n",
    "future_next_month_qty = current_next_month_qty\n",
    "\n",
    "import threading\n",
    "import importlib\n",
    "this_month_login_str = 'login_'+this_month_account\n",
    "this_month_module = importlib.import_module(this_month_login_str, package=None)\n",
    "\n",
    "print('Logging in with account : '+str(this_month_account))\n",
    "this_month_module.retry_autologin()\n",
    "\n",
    "exchange_type = this_month_module.kite.EXCHANGE_CDS"
   ]
  },
  {
   "cell_type": "code",
   "execution_count": 4,
   "metadata": {
    "ExecuteTime": {
     "end_time": "2021-03-24T05:58:07.833236Z",
     "start_time": "2021-03-24T05:57:46.962268Z"
    }
   },
   "outputs": [
    {
     "name": "stdout",
     "output_type": "stream",
     "text": [
      "Logging in with account : haj\n",
      "Trying to login...\n",
      "access token : K3r7V9ovvp9i9EwMLcI0j9sjQWXd02Rh\n",
      "request token : X6HnfvLo1ZP36ixR0I1nNcmo6dem5azY\n"
     ]
    }
   ],
   "source": [
    "######## # AUTO LOGIN-2 #########\n",
    "\n",
    "import threading\n",
    "import importlib\n",
    "next_month_login_str = 'login_'+next_month_account\n",
    "next_month_module = importlib.import_module(next_month_login_str, package=None)\n",
    "\n",
    "print('Logging in with account : '+str(next_month_account))\n",
    "next_month_module.retry_autologin()"
   ]
  },
  {
   "cell_type": "code",
   "execution_count": 6,
   "metadata": {
    "ExecuteTime": {
     "end_time": "2021-03-24T06:00:11.931665Z",
     "start_time": "2021-03-24T06:00:07.682419Z"
    }
   },
   "outputs": [],
   "source": [
    "#### ZERO Buy side order  #####\n",
    "order_id= this_month_module.kite.place_order(tradingsymbol=current_this_month_symbol,\n",
    "                            exchange=exchange_type,\n",
    "                            transaction_type= this_month_module.kite.TRANSACTION_TYPE_SELL,\n",
    "                            quantity=abs(int(current_this_month_qty)),\n",
    "                            order_type= this_month_module.kite.ORDER_TYPE_MARKET,\n",
    "                            variety = this_month_module.kite.VARIETY_REGULAR,\n",
    "                            product= this_month_module.kite.PRODUCT_NRML)\n",
    "\n",
    "\n",
    "#### ZERO Sell side order  #####\n",
    "order_id= next_month_module.kite.place_order(tradingsymbol=current_next_month_symbol,\n",
    "                            exchange=exchange_type,\n",
    "                            transaction_type= next_month_module.kite.TRANSACTION_TYPE_BUY,\n",
    "                            quantity=abs(int(current_next_month_qty)),\n",
    "                            order_type= next_month_module.kite.ORDER_TYPE_MARKET,\n",
    "                            variety = next_month_module.kite.VARIETY_REGULAR,\n",
    "                            product= next_month_module.kite.PRODUCT_NRML)\n",
    "\n",
    "\n",
    "#### INITIAL Buy side order  #####\n",
    "order_id= this_month_module.kite.place_order(tradingsymbol=future_this_month_symbol,\n",
    "                            exchange=exchange_type,\n",
    "                            transaction_type= this_month_module.kite.TRANSACTION_TYPE_BUY,\n",
    "                            quantity=abs(int(future_this_month_qty)),\n",
    "                            order_type= this_month_module.kite.ORDER_TYPE_MARKET,\n",
    "                            variety = this_month_module.kite.VARIETY_REGULAR,\n",
    "                            product= this_month_module.kite.PRODUCT_NRML)\n",
    "\n",
    "\n",
    "#### INITIAL Sell side order  #####\n",
    "order_id= next_month_module.kite.place_order(tradingsymbol=future_next_month_symbol,\n",
    "                            exchange=exchange_type,\n",
    "                            transaction_type= next_month_module.kite.TRANSACTION_TYPE_SELL,\n",
    "                            quantity=abs(int(future_next_month_qty)),\n",
    "                            order_type= next_month_module.kite.ORDER_TYPE_MARKET,\n",
    "                            variety = next_month_module.kite.VARIETY_REGULAR,\n",
    "                            product= next_month_module.kite.PRODUCT_NRML)"
   ]
  },
  {
   "cell_type": "code",
   "execution_count": null,
   "metadata": {},
   "outputs": [],
   "source": []
  }
 ],
 "metadata": {
  "kernelspec": {
   "display_name": "Python 3",
   "language": "python",
   "name": "python3"
  },
  "language_info": {
   "codemirror_mode": {
    "name": "ipython",
    "version": 3
   },
   "file_extension": ".py",
   "mimetype": "text/x-python",
   "name": "python",
   "nbconvert_exporter": "python",
   "pygments_lexer": "ipython3",
   "version": "3.9.2"
  },
  "varInspector": {
   "cols": {
    "lenName": 16,
    "lenType": 16,
    "lenVar": 40
   },
   "kernels_config": {
    "python": {
     "delete_cmd_postfix": "",
     "delete_cmd_prefix": "del ",
     "library": "var_list.py",
     "varRefreshCmd": "print(var_dic_list())"
    },
    "r": {
     "delete_cmd_postfix": ") ",
     "delete_cmd_prefix": "rm(",
     "library": "var_list.r",
     "varRefreshCmd": "cat(var_dic_list()) "
    }
   },
   "types_to_exclude": [
    "module",
    "function",
    "builtin_function_or_method",
    "instance",
    "_Feature"
   ],
   "window_display": false
  }
 },
 "nbformat": 4,
 "nbformat_minor": 4
}
