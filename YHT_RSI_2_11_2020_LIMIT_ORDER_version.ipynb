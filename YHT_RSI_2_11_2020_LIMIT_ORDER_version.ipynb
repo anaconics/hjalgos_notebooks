{
 "cells": [
  {
   "cell_type": "code",
   "execution_count": 1,
   "metadata": {
    "ExecuteTime": {
     "end_time": "2020-11-03T10:42:23.161932Z",
     "start_time": "2020-11-03T10:42:04.868557Z"
    },
    "execution": {
     "iopub.execute_input": "2020-10-27T17:34:20.309Z",
     "iopub.status.busy": "2020-10-27T17:34:20.299Z",
     "iopub.status.idle": "2020-10-27T17:35:57.730Z",
     "shell.execute_reply": "2020-10-27T17:35:57.845Z"
    }
   },
   "outputs": [
    {
     "name": "stdout",
     "output_type": "stream",
     "text": [
      "access token : 945Re28XaT8GxSUDT4DFyZzgZ5Z9X9in\n",
      "request token : pXcw0i0N9EBp6KV5wa0CkuScNu1byUEZ\n"
     ]
    },
    {
     "data": {
      "text/plain": [
       "1"
      ]
     },
     "execution_count": 1,
     "metadata": {},
     "output_type": "execute_result"
    }
   ],
   "source": [
    "########## auto login ############\n",
    "import login\n",
    "from login import *\n",
    "import pandas as pd\n",
    "from loguru import logger\n",
    "logger.add(\"./logs/RSI_logs_{time}.log\")\n",
    "#kite.margins(segment = 'equity')['available']['live_balance']"
   ]
  },
  {
   "cell_type": "code",
   "execution_count": 2,
   "metadata": {
    "ExecuteTime": {
     "end_time": "2020-11-03T10:42:23.166538Z",
     "start_time": "2020-11-03T10:42:23.164197Z"
    }
   },
   "outputs": [],
   "source": [
    "# check pending order list comparison\n",
    "# pending Q - my Q = limit set q\n",
    "# dip out of 100%"
   ]
  },
  {
   "cell_type": "code",
   "execution_count": 46,
   "metadata": {
    "ExecuteTime": {
     "end_time": "2020-11-03T10:57:19.876707Z",
     "start_time": "2020-11-03T10:57:19.851055Z"
    },
    "execution": {
     "iopub.execute_input": "2020-10-27T17:35:57.783Z",
     "iopub.status.busy": "2020-10-27T17:35:57.768Z",
     "iopub.status.idle": "2020-10-27T17:35:57.824Z",
     "shell.execute_reply": "2020-10-27T17:35:57.852Z"
    }
   },
   "outputs": [
    {
     "name": "stderr",
     "output_type": "stream",
     "text": [
      "2020-11-03 16:27:19.858 | DEBUG    | __main__:<module>:1 - Parameters : \n",
      "2020-11-03 16:27:19.861 | DEBUG    | __main__:<module>:24 - init_qty : 30\n",
      "2020-11-03 16:27:19.863 | DEBUG    | __main__:<module>:25 - extended_quant : 10\n",
      "2020-11-03 16:27:19.865 | DEBUG    | __main__:<module>:26 - stepmultiseries : [2, 4, 7, 12, 15, 20, 30]\n",
      "2020-11-03 16:27:19.867 | DEBUG    | __main__:<module>:27 - basepricediffmulti : 0.01\n",
      "2020-11-03 16:27:19.868 | DEBUG    | __main__:<module>:28 - symbol_ip : USDINR20NOVFUT\n",
      "2020-11-03 16:27:19.870 | DEBUG    | __main__:<module>:29 - inst_token : 780803\n",
      "2020-11-03 16:27:19.873 | DEBUG    | __main__:<module>:30 - order_type : NRML\n"
     ]
    }
   ],
   "source": [
    "logger.debug(\"Parameters : \")\n",
    "#### NEW VERSION #####################################################\n",
    "init_qty = 30\n",
    "extended_quant = 10\n",
    "stepmultiseries = [2, 4, 7, 12, 15, 20, 30]\n",
    "basepricediffmulti = 0.0100\n",
    "symbol_ip = 'USDINR20NOVFUT'  # USDINR20OCTFUT / GBPINR20OCTFUT / EURINR20OCTFUT / JPYINR20OCTFUT\n",
    "inst_token = 780803  # 690691(USD) / 490755(GBP) / 278019(EUR) / 690435(JPY)\n",
    "order_type = 'NRML'\n",
    "rsi_interval = '5minute'\n",
    "max_rsi = 75\n",
    "min_rsi = 25\n",
    "days_ago=1\n",
    "#######################################################################\n",
    "# · minute\n",
    "# · 3minute\n",
    "# · 5minute\n",
    "# · #10minute\n",
    "# · #15minute\n",
    "# · #30minute\n",
    "# · #60minute\n",
    "# · #day\n",
    "#######################################################################\n",
    "logger.debug(\"init_qty : \" + str(init_qty))\n",
    "logger.debug(\"extended_quant : \" + str(extended_quant))\n",
    "logger.debug(\"stepmultiseries : \" + str(stepmultiseries))\n",
    "logger.debug(\"basepricediffmulti : \" + str(basepricediffmulti))\n",
    "logger.debug(\"symbol_ip : \" + str(symbol_ip))\n",
    "logger.debug(\"inst_token : \" + str(inst_token))\n",
    "logger.debug(\"order_type : \" + str(order_type))"
   ]
  },
  {
   "cell_type": "code",
   "execution_count": 47,
   "metadata": {
    "ExecuteTime": {
     "end_time": "2020-11-03T10:57:24.819438Z",
     "start_time": "2020-11-03T10:57:24.298167Z"
    }
   },
   "outputs": [
    {
     "name": "stdout",
     "output_type": "stream",
     "text": [
      "Today Date : 2020-11-03\n",
      "yest_date Date : 2020-11-03 00:00:00+05:30\n"
     ]
    },
    {
     "data": {
      "text/plain": [
       "{'upper_lim': 74.735, 'lower_lim': 74.335}"
      ]
     },
     "execution_count": 47,
     "metadata": {},
     "output_type": "execute_result"
    }
   ],
   "source": [
    "def get_100_range():\n",
    "    interval='day'\n",
    "    todaydt=datetime.date.today()\n",
    "    hud_ago=todaydt-datetime.timedelta(days=10)\n",
    "    to_date=datetime.date.isoformat(todaydt)\n",
    "\n",
    "    from_date=datetime.date.isoformat(hud_ago)\n",
    "    data = kite.historical_data(inst_token, from_date, to_date, interval, continuous=False)\n",
    "\n",
    "    import pandas as pd\n",
    "    mydata = pd.DataFrame(data)\n",
    "    from datetime import date\n",
    "    today = date.today()\n",
    "    \n",
    "    yest_date =  mydata[-days_ago:][['date']].to_numpy()[0][0]\n",
    "    last_close =  round(mydata[-days_ago:][['close']].to_numpy()[0][0],4)\n",
    "    last_high =  round(mydata[-days_ago:][['high']].to_numpy()[0][0],4)\n",
    "    last_low =  round(mydata[-days_ago:][['low']].to_numpy()[0][0],4)\n",
    "    hl_range = round(last_high - last_low,4)\n",
    "    upper_lim = round(last_close + hl_range,4)\n",
    "    lower_lim = round(last_close - hl_range,4)\n",
    "    print('Today Date : '+str(today))\n",
    "    print('yest_date Date : '+str(yest_date))\n",
    "    return {'upper_lim':upper_lim,'lower_lim':lower_lim}\n",
    "\n",
    "limits = get_100_range()\n",
    "limits"
   ]
  },
  {
   "cell_type": "code",
   "execution_count": 48,
   "metadata": {
    "ExecuteTime": {
     "end_time": "2020-11-03T10:57:24.825557Z",
     "start_time": "2020-11-03T10:57:24.821243Z"
    }
   },
   "outputs": [],
   "source": [
    "######## CHECK QTY #############\n",
    "myquantity = 0\n",
    "def getquant():\n",
    "    logger.debug(\"getquant : \")\n",
    "    global myquantity, order_type, symbol_ip\n",
    "    allpos = kite.positions()['net']\n",
    "    for i in range(len(allpos)):\n",
    "        if (allpos[i]['tradingsymbol'] == symbol_ip\n",
    "                and allpos[i]['product'] == order_type):\n",
    "            myquantity = allpos[i]['quantity']\n",
    "            print('My Quantity : ' + str(allpos[i]['quantity']))\n",
    "    logger.debug(\"My Quantity : \" + str(myquantity))\n",
    "    return myquantity\n",
    "# getquant()"
   ]
  },
  {
   "cell_type": "code",
   "execution_count": 49,
   "metadata": {
    "ExecuteTime": {
     "end_time": "2020-11-03T10:57:25.163237Z",
     "start_time": "2020-11-03T10:57:25.153973Z"
    }
   },
   "outputs": [],
   "source": [
    "def get_completed_orders():\n",
    "    global order_type\n",
    "    logger.debug(\"get_completed_orders : \")\n",
    "    myorders = kite.orders()\n",
    "    completed_orders = []\n",
    "    for i in range(len(myorders)):\n",
    "        if (myorders[i]['status'] == 'COMPLETE'\n",
    "                and myorders[i]['tradingsymbol'] == symbol_ip\n",
    "                and myorders[i]['product'] == order_type):\n",
    "            completed_orders.append(myorders[i])\n",
    "    if (len(completed_orders) > 1):\n",
    "        completed_orders[-1]['average_price']\n",
    "        logger.debug(\"last_completed_orders : \" + str(completed_orders[-1]))\n",
    "        logger.debug(\"last_completed_orders_price : \" +\n",
    "                     str(completed_orders[-1]['average_price']))\n",
    "    else:\n",
    "        logger.debug(\"completed_orders : \" + str(completed_orders))\n",
    "    return completed_orders\n",
    "# get_completed_orders()"
   ]
  },
  {
   "cell_type": "code",
   "execution_count": 50,
   "metadata": {
    "ExecuteTime": {
     "end_time": "2020-11-03T10:57:26.291647Z",
     "start_time": "2020-11-03T10:57:26.283746Z"
    }
   },
   "outputs": [],
   "source": [
    "#!!!!!!!!!!!!!!!!!!!!!!!!!!!!!!!!!!!!!!!!!!!!!\n",
    "########## cancel orders ####################\n",
    "#!!!!!!!!!!!!!!!!!!!!!!!!!!!!!!!!!!!!!!!!!!!!!\n",
    "def cancel_all_pending_orders():\n",
    "    global order_type\n",
    "    logger.debug(\"cancel_all_pending_orders : \")\n",
    "    myorder = kite.orders()\n",
    "    pending_orders = []\n",
    "    for i in range(len(myorder)):\n",
    "        if (myorder[i]['status'] == 'OPEN'\n",
    "                and myorder[i]['tradingsymbol'] == symbol_ip\n",
    "                and myorder[i]['product'] == order_type):\n",
    "            pending_orders.append(myorder[i])\n",
    "            kite.cancel_order(myorder[i]['variety'],\n",
    "                              myorder[i]['order_id'],\n",
    "                              parent_order_id=None)\n",
    "            logger.debug(\"cancel_order @ \" + 'order_id : ' +\n",
    "                         str(myorder[i]['order_id']) + ' variety : ' +\n",
    "                         str(myorder[i]['variety']))\n",
    "# cancel_all_pending_orders()"
   ]
  },
  {
   "cell_type": "code",
   "execution_count": 51,
   "metadata": {
    "ExecuteTime": {
     "end_time": "2020-11-03T10:57:26.777558Z",
     "start_time": "2020-11-03T10:57:26.769665Z"
    }
   },
   "outputs": [],
   "source": [
    "############# get pending orders ################\n",
    "def get_pending_orders():\n",
    "    logger.debug(\"get_pending_orders : \")\n",
    "    global pending_orders, order_type\n",
    "    my_orders = kite.orders()\n",
    "    pending_orders = []\n",
    "    for i in range(len(my_orders)):\n",
    "        if (my_orders[i]['tradingsymbol'] == symbol_ip\n",
    "                and my_orders[i]['status'] == 'OPEN'\n",
    "                and my_orders[i]['product'] == order_type):\n",
    "            pending_orders.append(my_orders[i])\n",
    "    logger.debug(\"pending_orders : \" + str(pending_orders))\n",
    "    return pending_orders\n",
    "# get_pending_orders()"
   ]
  },
  {
   "cell_type": "code",
   "execution_count": null,
   "metadata": {
    "ExecuteTime": {
     "end_time": "2020-11-03T09:34:23.734549Z",
     "start_time": "2020-11-03T09:34:09.596Z"
    }
   },
   "outputs": [],
   "source": [
    "############# calc rsi ################\n",
    "import datetime\n",
    "import ta\n",
    "def calc_rsi():\n",
    "    global RSI, inst_token\n",
    "    old_lst = []\n",
    "    interval = rsi_interval\n",
    "    todaydt = datetime.date.today()\n",
    "    hud_ago = todaydt - datetime.timedelta(days=6)\n",
    "    to_date = datetime.date.isoformat(todaydt)\n",
    "    from_date = datetime.date.isoformat(hud_ago)\n",
    "    for i2 in range(1):\n",
    "        new_lst = kite.historical_data(inst_token,\n",
    "                                       from_date,\n",
    "                                       to_date,\n",
    "                                       interval,\n",
    "                                       continuous=False)\n",
    "        old_lst = new_lst + old_lst\n",
    "        todaydt = todaydt - datetime.timedelta(days=7)\n",
    "        hud_ago = hud_ago - datetime.timedelta(days=7)\n",
    "        to_date = datetime.date.isoformat(todaydt)\n",
    "        from_date = datetime.date.isoformat(hud_ago)\n",
    "#         print(len(old_lst))\n",
    "    mydf = pd.DataFrame(old_lst)\n",
    "    indicator_rsi = ta.momentum.rsi(close=mydf[\"close\"], n=14, fillna=True)\n",
    "    current_rsi = round(indicator_rsi[-1:].to_numpy()[0], 4)\n",
    "    RSI = current_rsi\n",
    "    logger.debug(\"current_rsi : \" + str(current_rsi))\n",
    "    print('Current RSI : ' + str(current_rsi))\n",
    "    return current_rsi\n",
    "\n",
    "#     indicator_sma = ta.trend.SMAIndicator(close = mydf[\"close\"], n=14, fillna=True)\n",
    "#     current_sma = round(indicator_sma.sma_indicator()[-1:].to_numpy()[0],4)\n",
    "#     print('Current SMA : '+str(current_sma))\n",
    "\n",
    "# calc_rsi()"
   ]
  },
  {
   "cell_type": "code",
   "execution_count": null,
   "metadata": {
    "ExecuteTime": {
     "end_time": "2020-11-03T09:34:23.736281Z",
     "start_time": "2020-11-03T09:34:09.600Z"
    }
   },
   "outputs": [],
   "source": [
    "################ update status #################\n",
    "baseprice = 123.0\n",
    "getquant()\n",
    "\n",
    "def update_status():\n",
    "    global init_qty, extended_quant, stepmultiseries, basepricediffmulti, baseprice, RSI, p1q, p1, p0q, p0\n",
    "    myquantity = getquant()\n",
    "    if(myquantity == 0):\n",
    "        if(RSI > max_rsi):\n",
    "            logger.debug('RSI >' + str(max_rsi)+' : ' + str(RSI))\n",
    "            is_done = ckqnt(0, -init_qty)\n",
    "#             is_done = placeneworder(-init_qty,0)\n",
    "            logger.debug(\"Order Placed @ \"+str(-init_qty) +\n",
    "                         ' market and Succeeded : '+str(is_done))\n",
    "            if(is_done):\n",
    "                completed_orders = get_completed_orders()\n",
    "                baseprice = round(\n",
    "                    0.0025 * round(completed_orders[-1]['average_price'] / 0.0025), 4)\n",
    "                calcsteps(-init_qty, baseprice)\n",
    "                ckqnt(round(p0, 4), p0q)\n",
    "                logger.debug(\"Order Placed @ \"+str(p0q)+' Limit : '+str(round(p0, 4)) +\n",
    "                             ' and Succeeded : '+str(is_done))\n",
    "\n",
    "        if(RSI < min_rsi):\n",
    "            logger.debug('RSI <' + str(min_rsi)+' : ' + str(RSI))\n",
    "            is_done = ckqnt(0, init_qty)\n",
    "#             is_done = placeneworder(init_qty,0)\n",
    "            if(is_done):\n",
    "                max_rsirders()\n",
    "                baseprice = round(\n",
    "                    0.0025 * round(completed_orders[-1]['average_price'] / 0.0025), 4)\n",
    "                calcsteps(init_qty, baseprice)\n",
    "                ckqnt(round(p0, 4), p0q)\n",
    "                logger.debug(\"Order Placed @ \"+str(p0q)+' Limit : '+str(round(p0, 4)) +\n",
    "                             ' and Succeeded : '+str(is_done))\n",
    "\n",
    "    else:\n",
    "        current_point = 0\n",
    "        for i in range(1, len(stepmultiseries)+2):\n",
    "            if(globals()['p'+str(i)+'q'] == myquantity):\n",
    "                current_point = i\n",
    "\n",
    "        logger.debug('Current Point : '+str(current_point))\n",
    "        next_point = 0\n",
    "        contain_next_point = False\n",
    "        if(current_point != (len(stepmultiseries)+1)):\n",
    "            next_point = current_point + 1\n",
    "            logger.debug('Next Point : '+str(next_point))\n",
    "            pending_orders = get_pending_orders()\n",
    "            for i in range(len(pending_orders)):\n",
    "                if(pending_orders[i]['tradingsymbol'] == symbol_ip\n",
    "                   and pending_orders[i]['status'] == 'OPEN'\n",
    "                   and pending_orders[i]['price'] == globals()['p'+str(next_point)]\n",
    "                   and pending_orders[i]['quantity'] == globals()['p'+str(next_point)+'q']):\n",
    "                    contain_next_point = True\n",
    "            if(contain_next_point==False):\n",
    "                ckqnt(globals()['p'+str(next_point)],\n",
    "                      globals()['p'+str(next_point)+'q'])\n",
    "                logger.debug('ckqnt @ '+str(globals()['p'+str(next_point)])\n",
    "                             + ' : '+str(globals()['p'+str(next_point)+'q']))\n",
    "\n",
    "        contain_next_point = False\n",
    "\n",
    "# update_status()"
   ]
  },
  {
   "cell_type": "code",
   "execution_count": null,
   "metadata": {
    "ExecuteTime": {
     "end_time": "2020-11-03T09:34:23.737803Z",
     "start_time": "2020-11-03T09:34:09.603Z"
    }
   },
   "outputs": [],
   "source": [
    "############## CALC STEPS ###############\n",
    "def calcsteps(currentqty, base_price):\n",
    "    logger.debug('calc_steps : (' + str(currentqty) + ',' + str(base_price) +\n",
    "                 ')' + ' : ')\n",
    "    '''calcsteps(currentqty, base_price)'''\n",
    "    global p0, basepricediffmulti, p0q, extended_quant, p1, p1q\n",
    "    if (currentqty < 0):\n",
    "        p0 = round(base_price - basepricediffmulti, 4)\n",
    "        p0q = 0\n",
    "        print('p0q : ' + str(p0q))\n",
    "        print('p0 : ' + str(p0))\n",
    "        logger.debug('p0q : ' + str(p0q))\n",
    "        logger.debug('p0 : ' + str(p0))\n",
    "        print()\n",
    "        print('base quant : ' + str(currentqty))\n",
    "        print('base_price : ' + str(base_price))\n",
    "        logger.debug('base quant : ' + str(currentqty))\n",
    "        logger.debug('base_price : ' + str(base_price))\n",
    "        print()\n",
    "        p1q = currentqty\n",
    "        p1 = round(base_price, 4)\n",
    "        print('p1q : ' + str(p1q))\n",
    "        logger.debug('p1q : ' + str(p1q))\n",
    "        print('p1 : ' + str(p1))\n",
    "        logger.debug('p1 : ' + str(p1))\n",
    "        for i in range(1, len(stepmultiseries) + 1):\n",
    "            globals()['p' + str(i + 1) +'q'] = currentqty - ((i) * extended_quant)\n",
    "            print('p' + str(i + 1) + 'q : ' +str(globals()['p' + str(i + 1) + 'q']))\n",
    "            logger.debug('p' + str(i + 1) + 'q : ' +str(globals()['p' + str(i + 1) + 'q']))\n",
    "            globals()['p' + str(i + 1)] = round(base_price + (basepricediffmulti * stepmultiseries[i - 1]), 4)\n",
    "            print('p' + str(i + 1) + ' : ' + str(globals()['p' + str(i + 1)]))\n",
    "            logger.debug('p' + str(i + 1) + ' : ' +str(globals()['p' + str(i + 1)]))\n",
    "            \n",
    "    if (currentqty > 0):\n",
    "        p0 = base_price + basepricediffmulti\n",
    "        p0q = 0\n",
    "        print('p0q : ' + str(p0q))\n",
    "        print('p0 : ' + str(p0))\n",
    "        logger.debug('p0q : ' + str(p0q))\n",
    "        logger.debug('p0 : ' + str(p0))\n",
    "        print()\n",
    "        print('base quant : ' + str(currentqty))\n",
    "        print('base_price : ' + str(base_price))\n",
    "        logger.debug('base quant : ' + str(currentqty))\n",
    "        logger.debug('base_price : ' + str(base_price))\n",
    "        print()\n",
    "        p1q = currentqty\n",
    "        p1 = round(base_price, 4)\n",
    "        print('p1q : ' + str(p1q))\n",
    "        logger.debug('p1q : ' + str(p1q))\n",
    "        print('p1 : ' + str(p1))\n",
    "        logger.debug('p1 : ' + str(p1))\n",
    "\n",
    "        for i in range(1, len(stepmultiseries) + 1):\n",
    "            globals()['p' + str(i + 1) +'q'] = currentqty + ((i) * extended_quant)\n",
    "            print('p' + str(i + 1) + 'q : ' +str(globals()['p' + str(i + 1) + 'q']))\n",
    "            logger.debug('p' + str(i + 1) + 'q : ' +str(globals()['p' + str(i + 1) + 'q']))\n",
    "            globals()['p' + str(i + 1)] = round(base_price - (basepricediffmulti * stepmultiseries[i - 1]), 4)\n",
    "            print('p' + str(i + 1) + ' : ' + str(globals()['p' + str(i + 1)]))\n",
    "            logger.debug('p' + str(i + 1) + ' : ' +\n",
    "                         str(globals()['p' + str(i + 1)]))\n",
    "\n",
    "\n",
    "print('Quantity Series : ' + str(stepmultiseries))\n",
    "print()\n",
    "# calcsteps(init_qty,74.00)"
   ]
  },
  {
   "cell_type": "code",
   "execution_count": null,
   "metadata": {
    "ExecuteTime": {
     "end_time": "2020-11-03T09:34:23.740278Z",
     "start_time": "2020-11-03T09:34:09.606Z"
    }
   },
   "outputs": [],
   "source": [
    "########### place order ###########\n",
    "stopbuy = False\n",
    "stopsell = False\n",
    "\n",
    "def placeneworder(quantdiff, price_ip):\n",
    "    '''placeneworder(quantdiff,price_ip)'''\n",
    "    logger.debug('placeneworder @ (' + str(quantdiff) + ',' + str(price_ip) +\n",
    "                 ')')\n",
    "    global stopbuy, stopsell, order_type, symbol_ip\n",
    "    if (quantdiff > 0 and stopbuy == False):\n",
    "        try:\n",
    "            order_id = kite.place_order(\n",
    "                tradingsymbol=symbol_ip,\n",
    "                exchange=kite.EXCHANGE_CDS,\n",
    "                transaction_type=kite.TRANSACTION_TYPE_BUY,\n",
    "                quantity=abs(quantdiff),\n",
    "                price=price_ip,\n",
    "                order_type=kite.ORDER_TYPE_MARKET\n",
    "                if price_ip == 0 else kite.ORDER_TYPE_LIMIT,\n",
    "                variety=kite.VARIETY_REGULAR,\n",
    "                product=kite.PRODUCT_MIS\n",
    "                if order_type == 'MIS' else kite.PRODUCT_NRML)\n",
    "            stopsell = False\n",
    "            logger.debug('Order Successfully Placed @ ' + str(order_type) +\n",
    "                         ' ' + str(quantdiff) + ' ' + str(price_ip))\n",
    "            getquant()\n",
    "            return True\n",
    "        except Exception as e:\n",
    "            stopbuy = False\n",
    "            print(e)\n",
    "            logger.debug('Order Rejected For @ ' + str(order_type) + ' ' +\n",
    "                         str(quantdiff) + ' ' + str(price_ip))\n",
    "            getquant()\n",
    "            return False\n",
    "    if (quantdiff < 0 and stopsell == False):\n",
    "        try:\n",
    "            order_id = kite.place_order(\n",
    "                tradingsymbol=symbol_ip,\n",
    "                exchange=kite.EXCHANGE_CDS,\n",
    "                transaction_type=kite.TRANSACTION_TYPE_SELL,\n",
    "                quantity=abs(quantdiff),\n",
    "                price=price_ip,\n",
    "                order_type=kite.ORDER_TYPE_MARKET\n",
    "                if price_ip == 0 else kite.ORDER_TYPE_LIMIT,\n",
    "                variety=kite.VARIETY_REGULAR,\n",
    "                product=kite.PRODUCT_MIS\n",
    "                if order_type == 'MIS' else kite.PRODUCT_NRML)\n",
    "            stopbuy = False\n",
    "            logger.debug('Order Successfully Placed @ ' + str(order_type) +\n",
    "                         ' ' + str(quantdiff) + ' ' + str(price_ip))\n",
    "            getquant()\n",
    "            return True\n",
    "        except Exception as e:\n",
    "            stopsell = True\n",
    "            print(e)\n",
    "            logger.debug('Order Rejected For @ ' + str(order_type) + ' ' +\n",
    "                         str(quantdiff) + ' ' + str(price_ip))\n",
    "            getquant()\n",
    "            return False\n",
    "\n",
    "\n",
    "def ckqnt(orderprice, orderquant):\n",
    "    logger.debug('ckqnt @ (' + str(orderprice) + ',' + str(orderquant) +') in ckqnt')\n",
    "    global myquantity\n",
    "    quantdiff = orderquant - myquantity\n",
    "    logger.debug(str(quantdiff) + ' = ' + str(orderquant) + '-' + str(myquantity) +' in ckqnt')\n",
    "    is_done = placeneworder(quantdiff, orderprice)\n",
    "    return is_done\n",
    "\n",
    "def calc_and_update():\n",
    "    logger.debug('calc_and_update : ' + ' in calc_and_update')\n",
    "    try:\n",
    "        calc_rsi()\n",
    "    except:\n",
    "        print('calc_rsi failed' + ' in calc_and_update')\n",
    "    update_status()"
   ]
  },
  {
   "cell_type": "code",
   "execution_count": null,
   "metadata": {
    "ExecuteTime": {
     "end_time": "2020-11-03T09:34:23.742660Z",
     "start_time": "2020-11-03T09:34:09.610Z"
    },
    "scrolled": true
   },
   "outputs": [],
   "source": [
    "############# start trading ############\n",
    "import threading\n",
    "import logging\n",
    "from kiteconnect import KiteTicker\n",
    "logging.basicConfig(level=logging.DEBUG)\n",
    "# kws = KiteTicker(\"w19o0chuo929jxkp\", \"eA5B5OJQNOtZ0OYihkBmYw7Ke3B9pmCC\")\n",
    "\n",
    "\n",
    "def on_ticks(ws, ticks):\n",
    "    global pivot_price, moving_pivot_on, limits\n",
    "    this_sec = datetime.datetime.now().second\n",
    "    last_sec = 0\n",
    "    if (this_sec % 10 == 0 and last_sec != this_sec):\n",
    "        last_sec = this_sec\n",
    "        print('in the thread : ')\n",
    "        x = threading.Thread(target=calc_and_update, args=())\n",
    "        if(limits['upper_lim']>ticks[0]['last_price'] and limits['lower_lim']<ticks[0]['last_price'] ):\n",
    "            x.start()\n",
    "#                 x.join()\n",
    "\n",
    "    print('=====================================')\n",
    "    print('LTP : ' + str(ticks[0]['last_price']))\n",
    "\n",
    "#     print(datetime.datetime.now().second)\n",
    "#     print('=====================================')\n",
    "#     print()\n",
    "\n",
    "\n",
    "def on_connect(ws, response):\n",
    "    global inst_token\n",
    "    ws.subscribe([inst_token])\n",
    "    ws.set_mode(ws.MODE_FULL, [inst_token])\n",
    "\n",
    "def on_close(ws, code, reason):\n",
    "    ws.stop()\n",
    "\n",
    "def on_error(ws, code, reason):\n",
    "    logging.error(\"closed connection on error: {} {}\".format(code, reason))\n",
    "\n",
    "def on_noreconnect(ws):\n",
    "    logging.error(\"Reconnecting the websocket failed\")\n",
    "\n",
    "def on_reconnect(ws, attempt_count):\n",
    "    logging.debug(\"Reconnecting the websocket: {}\".format(attempt_count))\n",
    "\n",
    "def on_order_update(ws, data):\n",
    "    logger.debug('on_order_update : ')\n",
    "    global baseprice, symbol_ip, myquantity, init_qty, current_point\n",
    "    print(\"order update: \", data)\n",
    "\n",
    "#     getquant()\n",
    "#     if(data['tradingsymbol'] == symbol_ip and (myquantity!=init_qty and myquantity!=-init_qty)):\n",
    "#         current_point = 0\n",
    "#         for i in range(1,len(stepmultiseries)+1):\n",
    "#             if(globals()['p'+str(i)+'q']==myquantity):\n",
    "#                 current_point=i\n",
    "#         logging.debug('current_point : '+str(current_point))\n",
    "#         update_status()\n",
    "\n",
    "kws.on_error = on_error\n",
    "kws.on_noreconnect = on_noreconnect\n",
    "kws.on_reconnect = on_reconnect\n",
    "kws.on_order_update = on_order_update\n",
    "\n",
    "kws.on_ticks = on_ticks\n",
    "kws.on_connect = on_connect\n",
    "kws.on_close = on_close\n",
    "\n",
    "kws.connect()"
   ]
  },
  {
   "cell_type": "code",
   "execution_count": null,
   "metadata": {},
   "outputs": [],
   "source": []
  }
 ],
 "metadata": {
  "hide_input": false,
  "kernelspec": {
   "display_name": "Python 3",
   "language": "python",
   "name": "python3"
  },
  "language_info": {
   "codemirror_mode": {
    "name": "ipython",
    "version": 3
   },
   "file_extension": ".py",
   "mimetype": "text/x-python",
   "name": "python",
   "nbconvert_exporter": "python",
   "pygments_lexer": "ipython3",
   "version": "3.9.2"
  },
  "nteract": {
   "version": "0.26.0"
  },
  "varInspector": {
   "cols": {
    "lenName": 16,
    "lenType": 16,
    "lenVar": 40
   },
   "kernels_config": {
    "python": {
     "delete_cmd_postfix": "",
     "delete_cmd_prefix": "del ",
     "library": "var_list.py",
     "varRefreshCmd": "print(var_dic_list())"
    },
    "r": {
     "delete_cmd_postfix": ") ",
     "delete_cmd_prefix": "rm(",
     "library": "var_list.r",
     "varRefreshCmd": "cat(var_dic_list()) "
    }
   },
   "types_to_exclude": [
    "module",
    "function",
    "builtin_function_or_method",
    "instance",
    "_Feature"
   ],
   "window_display": false
  }
 },
 "nbformat": 4,
 "nbformat_minor": 4
}
