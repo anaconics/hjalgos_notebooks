{
 "cells": [
  {
   "cell_type": "code",
   "execution_count": 1,
   "metadata": {},
   "outputs": [],
   "source": [
    "import warnings; warnings.simplefilter('ignore')\n",
    "import logging\n",
    "from kiteconnect import KiteConnect\n",
    "logging.basicConfig(level=logging.ERROR)\n",
    "import ssl\n",
    "from requests.exceptions import ConnectionError\n",
    "from http.client import RemoteDisconnected\n",
    "from urllib3.exceptions import ProtocolError\n",
    "from ssl import SSLError\n",
    "import math\n",
    "import joblib\n",
    "import numpy as np\n",
    "import pandas as pd\n",
    "from sklearn.preprocessing import MinMaxScaler\n",
    "from tensorflow.keras.models import Sequential,Model,load_model\n",
    "from tensorflow.keras.layers import Dense, LSTM,Dropout,Input,Flatten,Activation,LeakyReLU\n",
    "from tensorflow.keras.callbacks import ModelCheckpoint,TensorBoard \n",
    "import tensorflow.keras\n",
    "import matplotlib.pyplot as plt\n",
    "import nsepy\n",
    "import pprint\n",
    "import xgboost\n",
    "import os\n",
    "from datetime import date,timedelta\n",
    "import datetime\n",
    "import time\n",
    "import mplcursors\n",
    "plt.style.use('fivethirtyeight')\n",
    "from tqdm import tqdm\n",
    "import pickle\n",
    "from sklearn import preprocessing\n",
    "import livelossplot\n",
    "import wandb\n",
    "# from wandb.keras import WandbCallback\n",
    "from keras_tqdm import TQDMNotebookCallback\n",
    "import tensorflow as tf\n",
    "from IPython.display import clear_output\n",
    "import seaborn as sns\n",
    "import cv2\n",
    "import threading\n",
    "\n",
    "import glob\n",
    "homediraddr='/home/hemangjoshi37a_gmail_com'"
   ]
  },
  {
   "cell_type": "code",
   "execution_count": 2,
   "metadata": {},
   "outputs": [
    {
     "data": {
      "text/plain": [
       "'https://kite.trade/connect/login?api_key=w19o0chuo929jxkp&v=3'"
      ]
     },
     "execution_count": 2,
     "metadata": {},
     "output_type": "execute_result"
    }
   ],
   "source": [
    "# from stkdef import One_trian_stk_class\n",
    "import logging\n",
    "from kiteconnect import KiteConnect\n",
    "logging.basicConfig(level=logging.ERROR)\n",
    "import threading\n",
    "\n",
    "kite = KiteConnect(api_key=\"w19o0chuo929jxkp\")\n",
    "kite.login_url()"
   ]
  },
  {
   "cell_type": "code",
   "execution_count": 3,
   "metadata": {},
   "outputs": [
    {
     "data": {
      "text/plain": [
       "['kitefile.p']"
      ]
     },
     "execution_count": 3,
     "metadata": {},
     "output_type": "execute_result"
    }
   ],
   "source": [
    "data = kite.generate_session(\"9QGEgYaIpznmeBHlvmfhII7c9jqdxM4f\", \n",
    "                             api_secret=\"gsw8ps17ex7lf3cuji4prfnwb4vlyr4y\")\n",
    "kite.set_access_token(data[\"access_token\"])\n",
    "import joblib\n",
    "joblib.dump(kite,'kitefile.p')\n",
    "# xx={'name':'TATASTEEL',\n",
    "#             'insttkn':895745,\n",
    "#             'nbatch':1,\n",
    "#             'nepochs':1,\n",
    "#             'kite':kite\n",
    "#             }\n",
    "\n",
    "# trainit= One_trian_stk_class(xx['name'], xx['insttkn'],xx['nbatch'],xx['nepochs'],xx['kite'])\n",
    "# trainit.fit()"
   ]
  },
  {
   "cell_type": "code",
   "execution_count": null,
   "metadata": {},
   "outputs": [],
   "source": [
    "buyprice = 73.8500\n",
    "selldiff = 0.01\n",
    "quantity1 = 30\n",
    "\n",
    "\n",
    "################################ BUY @ Limit ####################################\n",
    "try:\n",
    "    order_id = kite.place_order(tradingsymbol=\"USDINR20OCTFUT\",\n",
    "                                order_type=kite.ORDER_TYPE_LIMIT,\n",
    "                                exchange=kite.EXCHANGE_CDS,\n",
    "                                transaction_type=kite.TRANSACTION_TYPE_BUY,\n",
    "                                variety = kite.VARIETY_REGULAR,\n",
    "                                quantity=quantity1,\n",
    "                                price=buyprice,\n",
    "                                product=kite.PRODUCT_NRML)\n",
    "\n",
    "    logging.info(\"Order placed. ID is: {}\".format(order_id))\n",
    "except Exception as e:\n",
    "    logging.info(\"Order placement failed: {}\".format(e.message))\n",
    "################################################################################\n",
    "\n",
    "\n",
    "########################## SELL @ Limit - 0.01 #################################\n",
    "sellprice = buyprice+selldiff\n",
    "try:\n",
    "    order_id = kite.place_order(tradingsymbol=\"USDINR20OCTFUT\",\n",
    "                                order_type=kite.ORDER_TYPE_LIMIT,\n",
    "                                exchange=kite.EXCHANGE_CDS,\n",
    "                                transaction_type=kite.TRANSACTION_TYPE_SELL,\n",
    "                                variety = kite.VARIETY_REGULAR,\n",
    "                                quantity=quantity1,\n",
    "                                price=sellprice,\n",
    "                                product=kite.PRODUCT_NRML)\n",
    "\n",
    "    logging.info(\"Order placed. ID is: {}\".format(order_id))\n",
    "except Exception as e:\n",
    "    logging.info(\"Order placement failed: {}\".format(e.message))\n",
    "###############################################################################\n"
   ]
  },
  {
   "cell_type": "code",
   "execution_count": null,
   "metadata": {},
   "outputs": [],
   "source": [
    "inst = kite.instruments(exchange='CDS')"
   ]
  },
  {
   "cell_type": "code",
   "execution_count": null,
   "metadata": {},
   "outputs": [],
   "source": [
    "ltp=kite.ltp(\"CDS:USDINR20OCTFUT\")\n",
    "ltp"
   ]
  },
  {
   "cell_type": "code",
   "execution_count": null,
   "metadata": {},
   "outputs": [],
   "source": [
    "ltp=kite.ltp(\"CDS:USDINR20OCTFUT\")['CDS:USDINR20OCTFUT']['last_price']\n",
    "ltp"
   ]
  },
  {
   "cell_type": "code",
   "execution_count": null,
   "metadata": {},
   "outputs": [],
   "source": [
    "inst[23100]\n",
    "\n",
    "{'instrument_token': 690691,\n",
    " 'exchange_token': '2698',\n",
    " 'tradingsymbol': 'USDINR20OCTFUT',\n",
    " 'name': 'USDINR',\n",
    " 'last_price': 0.0,\n",
    " 'expiry': datetime.date(2020, 10, 27),\n",
    " 'strike': 0.0,\n",
    " 'tick_size': 0.0025,\n",
    " 'lot_size': 1,\n",
    " 'instrument_type': 'FUT',\n",
    " 'segment': 'CDS-FUT',\n",
    " 'exchange': 'CDS'}"
   ]
  },
  {
   "cell_type": "code",
   "execution_count": null,
   "metadata": {},
   "outputs": [],
   "source": [
    "# allinsta = kite.instruments()\n",
    "# # {'exchange': 'BCD',\n",
    "# #   'exchange_token': '2111660',\n",
    "# #   'expiry': datetime.date(2020, 12, 29),\n",
    "# #   'instrument_token': 540584966,\n",
    "# #   'instrument_type': 'CE',\n",
    "# #   'last_price': 0.0,\n",
    "# #   'lot_size': 1,\n",
    "# #   'name': 'EURINR',\n",
    "# #   'segment': 'BCD-OPT',\n",
    "# #   'strike': 77.75,\n",
    "# #   'tick_size': 0.0025,\n",
    "# #   'tradingsymbol': 'EURINR20DEC77.7500CE'},"
   ]
  },
  {
   "cell_type": "code",
   "execution_count": null,
   "metadata": {},
   "outputs": [],
   "source": [
    "new_lst = kite.historical_data(self.insttkn, from_date, to_date, interval,continuous=False)"
   ]
  },
  {
   "cell_type": "code",
   "execution_count": null,
   "metadata": {},
   "outputs": [],
   "source": [
    "my_nifty50_stk={}\n",
    "with open(filecheckpath, 'rb') as fp:\n",
    "                my_nifty50_stk = pickle.load(fp)"
   ]
  },
  {
   "cell_type": "code",
   "execution_count": null,
   "metadata": {},
   "outputs": [],
   "source": [
    "# {'average_price': 0,\n",
    "#   'cancelled_quantity': 0,\n",
    "#   'disclosed_quantity': 0,\n",
    "#   'exchange': 'NSE',\n",
    "#   'exchange_order_id': None,\n",
    "#   'exchange_timestamp': None,\n",
    "#   'exchange_update_timestamp': None,\n",
    "#   'filled_quantity': 0,\n",
    "#   'guid': '19Xkusupbrsddxz',\n",
    "#   'instrument_token': 779521,\n",
    "#   'market_protection': 0,\n",
    "#   'meta': {},\n",
    "#   'order_id': '200509000002269',\n",
    "#   'order_timestamp': datetime.datetime(2020, 5, 9, 8, 51, 17),\n",
    "#   'order_type': 'MARKET',\n",
    "#   'parent_order_id': None,\n",
    "#   'pending_quantity': 1,\n",
    "#   'placed_by': 'FC5917',\n",
    "#   'price': 0,\n",
    "#   'product': 'CNC',\n",
    "#   'quantity': 1,\n",
    "#   'status': 'CANCELLED AMO',\n",
    "#   'status_message': None,\n",
    "#   'status_message_raw': None,\n",
    "#   'tag': None,\n",
    "#   'tradingsymbol': 'SBIN',\n",
    "#   'transaction_type': 'BUY',\n",
    "#   'trigger_price': 0,\n",
    "#   'validity': 'DAY',\n",
    "#   'variety': 'amo'},\n",
    "\n",
    "nifty50stkdict={}\n",
    "for onestkk in my_nifty50_stk:\n",
    "    nifty50stkdict[onestkk['tradingsymbol']]=onestkk['instrument_token']\n",
    "    \n",
    "\n",
    "nifty50stkdict"
   ]
  },
  {
   "cell_type": "code",
   "execution_count": null,
   "metadata": {},
   "outputs": [],
   "source": [
    "# # get 9.15 data of all stocks\n",
    "\n",
    "# today_hist={}\n",
    "# import datetime\n",
    "\n",
    "# stkhist={}\n",
    "# interval='5minute'\n",
    "# todaydt=datetime.date.today()\n",
    "# to_date=datetime.date.isoformat(todaydt)\n",
    "# from_date=to_date\n",
    "\n",
    "# for key in nifty50stkdict.keys():\n",
    "# #     print(key + ' : ' )\n",
    "#     new_stk = kite.historical_data(nifty50stkdict[key], from_date, to_date, interval,continuous=False)[0]\n",
    "#     stkhist[key]=new_stk\n",
    "    \n",
    "# # stkhist"
   ]
  },
  {
   "cell_type": "code",
   "execution_count": null,
   "metadata": {},
   "outputs": [],
   "source": [
    "nifty50 = kite.historical_data(nifty50stkdict[key], from_date, to_date, interval,continuous=False)[0]"
   ]
  },
  {
   "cell_type": "code",
   "execution_count": null,
   "metadata": {},
   "outputs": [],
   "source": [
    "import logging\n",
    "from kiteconnect import KiteConnect\n",
    "logging.basicConfig(level=logging.ERROR)\n",
    "import threading\n",
    "kite = KiteConnect(api_key=\"w19o0chuo929jxkp\")\n",
    "kite.login_url()"
   ]
  },
  {
   "cell_type": "code",
   "execution_count": null,
   "metadata": {},
   "outputs": [],
   "source": [
    "data = kite.generate_session(\"41AN6u6F7lODeipMbjmuqRaPMoqUeNP2\",\n",
    "                             api_secret=\"gsw8ps17ex7lf3cuji4prfnwb4vlyr4y\")\n",
    "kite.set_access_token(data[\"access_token\"])"
   ]
  },
  {
   "cell_type": "code",
   "execution_count": null,
   "metadata": {},
   "outputs": [],
   "source": [
    "xx={'name':'TATASTEEL',\n",
    "    'insttkn':895745,\n",
    "    'nbatch':1,\n",
    "    'nepochs':2,\n",
    "    'kite':kite}\n",
    "\n",
    "trainit= One_trian_stk_class(xx['name'], xx['insttkn'],xx['nbatch'],xx['nepochs'],xx['kite'])\n",
    "# trainit.load()\n"
   ]
  },
  {
   "cell_type": "code",
   "execution_count": null,
   "metadata": {
    "scrolled": true
   },
   "outputs": [],
   "source": [
    "trainit.loadfit()"
   ]
  },
  {
   "cell_type": "code",
   "execution_count": null,
   "metadata": {},
   "outputs": [],
   "source": [
    "# trainit.plot_predict()"
   ]
  },
  {
   "cell_type": "code",
   "execution_count": null,
   "metadata": {},
   "outputs": [],
   "source": [
    "#!/usr/bin/env python\n",
    "import os\n",
    "import zipfile\n",
    "\n",
    "def zipdir(path, ziph):\n",
    "    # ziph is zipfile handle\n",
    "    for root, dirs, files in os.walk(path):\n",
    "        for file in files:\n",
    "            ziph.write(os.path.join(root, file))\n",
    "\n",
    "zipf = zipfile.ZipFile('fig19.zip', 'w', zipfile.ZIP_DEFLATED)\n",
    "zipdir('/home/hemangjoshi37a_gmail_com/predict_plots2/TATASTEEL12/', zipf)\n",
    "zipf.close()"
   ]
  },
  {
   "cell_type": "code",
   "execution_count": 4,
   "metadata": {},
   "outputs": [
    {
     "name": "stdout",
     "output_type": "stream",
     "text": [
      "[*] Generate access Token :  https://kite.trade/connect/login?api_key=w19o0chuo929jxkp&v=3\n"
     ]
    },
    {
     "name": "stdin",
     "output_type": "stream",
     "text": [
      "[*] Enter Your Request Token Here :  UyPR0kMMZKlUtEQ77SuB5bo93rk0KJ2r\n"
     ]
    },
    {
     "name": "stdout",
     "output_type": "stream",
     "text": [
      "6lo7moXnuS0ttSGf4exN627ko10q37gR\n"
     ]
    }
   ],
   "source": [
    "import act"
   ]
  },
  {
   "cell_type": "code",
   "execution_count": null,
   "metadata": {},
   "outputs": [],
   "source": [
    "###########################################################################################################################################"
   ]
  },
  {
   "cell_type": "code",
   "execution_count": null,
   "metadata": {},
   "outputs": [],
   "source": [
    "from tensorflow.keras.models import Sequential,Model,load_model\n",
    "import pickle\n",
    "model=load_model('TATASTEEL_118.h5')\n",
    "scale_dict={}\n",
    "homediraddr='/home/hemangjoshi37a_gmail_com'\n",
    "import matplotlib.pyplot as plt\n",
    "with open('scale_dict.p', 'rb') as fp:\n",
    "    scale_dict = pickle.load(fp)\n",
    "    print('Loaded scale_dict')"
   ]
  },
  {
   "cell_type": "code",
   "execution_count": 5,
   "metadata": {},
   "outputs": [
    {
     "name": "stdout",
     "output_type": "stream",
     "text": [
      "22:12:58 09/27/20 AGMT\n"
     ]
    }
   ],
   "source": [
    "import logging\n",
    "import os\n",
    "from kiteconnect import KiteTicker\n",
    "from datetime import date,timedelta\n",
    "import datetime\n",
    "import time\n",
    "\n",
    "logging.basicConfig(level=logging.DEBUG)\n",
    "kws = KiteTicker(\"w19o0chuo929jxkp\", \"6lo7moXnuS0ttSGf4exN627ko10q37gR\")\n",
    "\n",
    "os.environ['TZ'] = 'AGMT+6:30'\n",
    "time.tzset()\n",
    "print(time.strftime('%X %x %Z'))\n",
    "\n",
    "myticks=[]\n",
    "\n",
    "oldtick=[{'volume': 11987083, 'mode': 'quote', 'tradable': True, 'instrument_token': 895745, \n",
    "  'last_quantity': 60, 'sell_quantity': 1765312, 'change': 1.7886475634239951, \n",
    "  'last_price': 278.85, 'ohlc': {'high': 288.0, 'open': 287.5, 'close': 273.95, 'low': 277.6}, \n",
    "  'buy_quantity': 922761, 'average_price': 281.91}]\n",
    "\n",
    "localtime = time.localtime(time.time())\n",
    "oldsec=localtime.tm_sec\n",
    "ti=0\n",
    "currenttime=datetime.time()\n",
    "df_dict={'time':[],\n",
    "         'actualdata':[],\n",
    "         'predictdata':[],}\n",
    "\n",
    "def on_ticks(ws, ticks):\n",
    "    global myticks \n",
    "    global oldtick\n",
    "    global oldsec\n",
    "    global ti\n",
    "    global currenttime\n",
    "    global df_dict\n",
    "    localtime = time.localtime(time.time())\n",
    "    newsec=localtime.tm_sec\n",
    "    currenttime=datetime.time(hour=localtime.tm_hour,minute=localtime.tm_min,second=localtime.tm_sec)\n",
    "    print('on tick : ')\n",
    "    if(oldsec!=newsec):\n",
    "        oldsec=newsec\n",
    "        print('sec chnged : ')\n",
    "        if(len(myticks)==120):\n",
    "            print('tick len = 60')\n",
    "            myticks.pop(0) \n",
    "            myticks=myticks[-119:]+[ticks[0]['ohlc']]\n",
    "#             df_dict['actualdata'] = np.delete(df_dict['actualdata'], 0).tolist()\n",
    "#             df_dict['predictdata'] = np.delete(df_dict['predictdata'], 0).tolist()\n",
    "#             df_dict['time'].pop(0)\n",
    "            \n",
    "#             df_dict['predictdata'].pop(0) \n",
    "#             df_dict['time'].pop(0) \n",
    "            df_dict['actualdata'] =df_dict['actualdata'][-119:]+[ticks[0]['ohlc']]\n",
    "            df_dict['time']=df_dict['time'][-119:]+[currenttime]\n",
    "            \n",
    "#             if(ti%60==0):\n",
    "#             ti=0\n",
    "            plot_buysell(myticks,df_dict,ticks,currenttime)\n",
    "#             x = threading.Thread(target=plot_buysell, args=([myticks,df_dict,ticks,currenttime]))\n",
    "#             x.start()\n",
    "#                 predict_df=x.join()\n",
    "#             else:\n",
    "#                 df_dict['predictdata'] =df_dict['predictdata']+[ticks[0]['last_price']]\n",
    "\n",
    "            print()\n",
    "            print(myticks)\n",
    "            print('len : ' + str(len(myticks)))\n",
    "            print()\n",
    "\n",
    "\n",
    "        else:\n",
    "            myticks=myticks+[ticks[0]['ohlc']]\n",
    "            \n",
    "            df_dict['actualdata'] =df_dict['actualdata']+[ticks[0]['ohlc']]\n",
    "            df_dict['time']=df_dict['time']+[currenttime]\n",
    "            df_dict['predictdata'] =df_dict['predictdata']+[ticks[0]['ohlc']]\n",
    "            \n",
    "            print()\n",
    "            print(myticks)\n",
    "            print('lesss len : ' + str(len(myticks)))\n",
    "            print()\n",
    "    \n",
    "    \n",
    "\n",
    "def on_connect(ws, response):\n",
    "    ws.subscribe([895745])\n",
    "    ws.set_mode(ws.MODE_QUOTE, [895745])\n",
    "\n",
    "kws.on_ticks = on_ticks\n",
    "kws.on_connect = on_connect\n",
    "\n",
    "# <class 'list'>\n",
    "# [{'change': 3.468653648509764, 'tradable': True, 'volume': 3211954,\n",
    "#   'instrument_token': 5633, 'last_price': 1208.1, \n",
    "#   'ohlc': {'low': 1195.25, 'close': 1167.6, 'open': 1220.0, 'high': 1257.0}, \n",
    "#   'last_quantity': 1, 'average_price': 1230.95, 'mode': 'quote', 'sell_quantity': 186742,\n",
    "#   'buy_quantity': 143729}, {'oi': 0, 'change': -0.33462903498394764, \n",
    "#                             'depth': {'sell': [{'orders': 2, 'price': 1474.95, 'quantity': 123}, \n",
    "#                                                {'orders': 5, 'price': 1475.0, 'quantity': 324},\n",
    "#                                                {'orders': 2, 'price': 1475.05, 'quantity': 41}, \n",
    "#                                                {'orders': 3, 'price': 1475.1, 'quantity': 132},\n",
    "#                                                {'orders': 3, 'price': 1475.15, 'quantity': 203}],\n",
    "#                                       'buy': [{'orders': 1, 'price': 1474.5, 'quantity': 108},\n",
    "#                                               {'orders': 3, 'price': 1474.3, 'quantity': 302},\n",
    "#                                               {'orders': 1, 'price': 1474.25, 'quantity': 199}, \n",
    "#                                               {'orders': 3, 'price': 1474.2, 'quantity': 226},\n",
    "#                                               {'orders': 2, 'price': 1474.15, 'quantity': 84}]}, \n",
    "#                             'volume': 24050265, 'oi_day_low': 0, 'last_price': 1474.3, \n",
    "#                             'last_quantity': 5,\n",
    "#                             'tradable': True, 'mode': 'full',\n",
    "#                             'last_trade_time': datetime.datetime(2020, 5, 13, 8, 41, 8), \n",
    "#                             'instrument_token': 738561, \n",
    "#                             'timestamp': datetime.datetime(2020, 5, 13, 8, 41, 9), \n",
    "#                             'oi_day_high': 0, 'buy_quantity': 810560, 'average_price': 1478.07, \n",
    "#                             'sell_quantity': 1295911, 'ohlc': {'low': 1454.0, 'close': 1479.25,\n",
    "#                                                                'open': 1527.0, 'high': 1527.0}}]\n"
   ]
  },
  {
   "cell_type": "code",
   "execution_count": 6,
   "metadata": {},
   "outputs": [],
   "source": [
    "import numpy as np\n",
    "import pandas as pd\n",
    "from tqdm import tqdm\n",
    "def plot_buysell(ipdata,df_dict,ticks,currenttime):\n",
    "    global model\n",
    "    print('---------------------start------------------')\n",
    "    print( 'act data len : ' +str(len(df_dict['actualdata'])))\n",
    "    print('pred data len : ' +str(len(df_dict['predictdata'])))\n",
    "    print('time len : '+str(len(df_dict['time'])))\n",
    "    print('---------------------------------------')\n",
    "    print()\n",
    "    onemodelnameip='TATASTEEL'\n",
    "    new_df = pd.DataFrame(ipdata)\n",
    "    \n",
    "    scaler=scale_dict['TATASTEEL']\n",
    "    \n",
    "    last_60_days = new_df[-60:]\n",
    "    predicted_plot=last_60_days\n",
    "    actual_plot=new_df[-120:]\n",
    "    last_60_days_scaled=[]\n",
    "#     try:\n",
    "    last_60_days_scaled = scaler.transform(last_60_days)\n",
    "# #         print('last 60 days scaled shape : '+str(last_60_days_scaled.shape))\n",
    "#     except ValueError:\n",
    "#         _=0\n",
    "\n",
    "\n",
    "    for jk in tqdm(range(2)):\n",
    "        X_test = []\n",
    "        X_test.append(last_60_days_scaled)\n",
    "        X_test = np.array(X_test)\n",
    "        X_test = np.reshape(X_test, (X_test.shape[0], X_test.shape[1], 1))\n",
    "        pred_price = model.predict(X_test)\n",
    "        pred_price_descaled = scaler.inverse_transform(pred_price)\n",
    "        predicted_plot=np.append(predicted_plot,pred_price_descaled)\n",
    "        df_dict['predictdata'] =df_dict['predictdata']+pred_price_descaled[0]\n",
    "        array_abcd=np.array(pred_price)\n",
    "        asdasdasd=np.append(X_test,array_abcd)\n",
    "        asdasdasd=np.delete(asdasdasd, 0,None)\n",
    "        last_60_days_scaled = np.reshape(asdasdasd, (X_test.shape[0], X_test.shape[1], 1 ))[0]\n",
    "\n",
    "\n",
    "#     for jk in tqdm(range(120)):\n",
    "#         td=timedelta(seconds=(jk+1))\n",
    "#         X_test = []\n",
    "#         X_test.append(last_60_days_scaled)\n",
    "#         X_test = np.array(X_test)\n",
    "# #         print('X_test shape : '+str(X_test.shape))\n",
    "#         X_test = np.reshape(X_test, (X_test.shape[0], X_test.shape[1], 1))\n",
    "#         pred_price = model.predict(X_test)\n",
    "#         pred_price_descaled = scaler.inverse_transform(pred_price)\n",
    "#         predicted_plot=np.append(predicted_plot,pred_price_descaled)\n",
    "# #         print(df_dict['predictdata']+pred_price_descaled[0])\n",
    "# #         print(pred_price_descaled.shape)\n",
    "#         df_dict['predictdata'] =df_dict['predictdata']+pred_price_descaled[0]\n",
    "# #         print(len(df_dict['predictdata']))\n",
    "# #         print(df_dict['predictdata'])\n",
    "        \n",
    "# #         df_dict['actualdata'] =df_dict['actualdata']+[df_dict['actualdata'][-1]]\n",
    "# #         df_dict['time']=df_dict['time']+[ (datetime.datetime.combine(datetime.date(1,1,1),currenttime) + td).time() ]\n",
    "        \n",
    "#         array_abcd=np.array(pred_price)\n",
    "#         asdasdasd=np.append(X_test,array_abcd)\n",
    "#         asdasdasd=np.delete(asdasdasd, 0,None)\n",
    "#         last_60_days_scaled = np.reshape(asdasdasd, (X_test.shape[0], X_test.shape[1], 1 ))[0]\n",
    "        \n",
    "    plot_df=pd.DataFrame(predicted_plot.T)\n",
    "    plot_df2=pd.DataFrame(actual_plot)\n",
    "    \n",
    "#     df_dict['actualdata'] = np.delete(df_dict['actualdata'], -1).tolist()\n",
    "#     df_dict['time'] = np.delete(df_dict['time'], -1).tolist()\n",
    "    \n",
    "#     df_dict['actualdata'].pop(-1)\n",
    "#     df_dict['time'].pop(-1)\n",
    "    print('-----------------end----------------------')\n",
    "    print( 'act data len : ' +str(len(df_dict['actualdata'])))\n",
    "    print('pred data len : ' +str(len(df_dict['predictdata'])))\n",
    "    print('time len : '+str(len(df_dict['time'])))\n",
    "    print('---------------------------------------')\n",
    "    print()\n",
    "#     return\n",
    "    result=pd.DataFrame(df_dict)\n",
    "    result = result.set_index('time')\n",
    "    print(result)\n",
    "    \n",
    "#     result = pd.concat([plot_df, plot_df2], axis=1, sort=False)\n",
    "#     plt.figure(figsize=(16,8))\n",
    "#     plt.autoscale(enable=True, axis='both', tight=None)\n",
    "    \n",
    "    result.plot(figsize=(11,5));\n",
    "    # plt.text(0, 0, onestkstk+' : '+onemodelnameip)\n",
    "#     plt.text(0, 0, str(filenum)+' : '+onemodelnameip)\n",
    "\n",
    "    filenum=0\n",
    "    filecheckpath =homediraddr+'/live1/'+'TATASTEEL'+'_'+str(filenum)+'.png'\n",
    "    while os.path.isfile(filecheckpath):\n",
    "        filenum+=1\n",
    "        filecheckpath =homediraddr+'/live1/'+'TATASTEEL'+'_'+str(filenum)+'.png'\n",
    "    plt.savefig(homediraddr+'/live1/'+'TATASTEEL'+'_'+str(filenum)+'.png', dpi=100, bbox_inches='tight')\n",
    "    return result"
   ]
  },
  {
   "cell_type": "code",
   "execution_count": 7,
   "metadata": {
    "scrolled": true
   },
   "outputs": [
    {
     "name": "stdout",
     "output_type": "stream",
     "text": [
      "on tick : \n",
      "sec chnged : \n",
      "\n",
      "[{'open': 359.95, 'high': 362.1, 'low': 356.3, 'close': 352.1}]\n",
      "lesss len : 1\n",
      "\n",
      "on tick : \n",
      "sec chnged : \n",
      "\n",
      "[{'open': 359.95, 'high': 362.1, 'low': 356.3, 'close': 352.1}, {'open': 359.95, 'high': 362.1, 'low': 356.3, 'close': 352.1}]\n",
      "lesss len : 2\n",
      "\n",
      "on tick : \n",
      "sec chnged : \n",
      "\n",
      "[{'open': 359.95, 'high': 362.1, 'low': 356.3, 'close': 352.1}, {'open': 359.95, 'high': 362.1, 'low': 356.3, 'close': 352.1}, {'open': 359.95, 'high': 362.1, 'low': 356.3, 'close': 352.1}]\n",
      "lesss len : 3\n",
      "\n",
      "on tick : \n",
      "sec chnged : \n",
      "\n",
      "[{'open': 359.95, 'high': 362.1, 'low': 356.3, 'close': 352.1}, {'open': 359.95, 'high': 362.1, 'low': 356.3, 'close': 352.1}, {'open': 359.95, 'high': 362.1, 'low': 356.3, 'close': 352.1}, {'open': 359.95, 'high': 362.1, 'low': 356.3, 'close': 352.1}]\n",
      "lesss len : 4\n",
      "\n",
      "on tick : \n",
      "sec chnged : \n",
      "\n",
      "[{'open': 359.95, 'high': 362.1, 'low': 356.3, 'close': 352.1}, {'open': 359.95, 'high': 362.1, 'low': 356.3, 'close': 352.1}, {'open': 359.95, 'high': 362.1, 'low': 356.3, 'close': 352.1}, {'open': 359.95, 'high': 362.1, 'low': 356.3, 'close': 352.1}, {'open': 359.95, 'high': 362.1, 'low': 356.3, 'close': 352.1}]\n",
      "lesss len : 5\n",
      "\n",
      "on tick : \n",
      "sec chnged : \n",
      "\n",
      "[{'open': 359.95, 'high': 362.1, 'low': 356.3, 'close': 352.1}, {'open': 359.95, 'high': 362.1, 'low': 356.3, 'close': 352.1}, {'open': 359.95, 'high': 362.1, 'low': 356.3, 'close': 352.1}, {'open': 359.95, 'high': 362.1, 'low': 356.3, 'close': 352.1}, {'open': 359.95, 'high': 362.1, 'low': 356.3, 'close': 352.1}, {'open': 359.95, 'high': 362.1, 'low': 356.3, 'close': 352.1}]\n",
      "lesss len : 6\n",
      "\n"
     ]
    },
    {
     "name": "stderr",
     "output_type": "stream",
     "text": [
      "ERROR:kiteconnect.ticker:Connection error: 1006 - connection was closed uncleanly (peer dropped the TCP connection without previous WebSocket closing handshake)\n",
      "ERROR:kiteconnect.ticker:Connection closed: 1006 - connection was closed uncleanly (peer dropped the TCP connection without previous WebSocket closing handshake)\n"
     ]
    }
   ],
   "source": [
    "kws.connect()"
   ]
  },
  {
   "cell_type": "code",
   "execution_count": null,
   "metadata": {},
   "outputs": [],
   "source": [
    "currenttime=datetime.time(hour=localtime.tm_hour,minute=localtime.tm_min,second=localtime.tm_sec)"
   ]
  },
  {
   "cell_type": "code",
   "execution_count": null,
   "metadata": {},
   "outputs": [],
   "source": [
    "print(len(df_dict['actualdata']))\n",
    "print(len(df_dict['predictdata']))\n",
    "print(len(df_dict['time']))"
   ]
  },
  {
   "cell_type": "code",
   "execution_count": null,
   "metadata": {
    "scrolled": true
   },
   "outputs": [],
   "source": [
    "df_dict.plot()"
   ]
  },
  {
   "cell_type": "code",
   "execution_count": null,
   "metadata": {},
   "outputs": [],
   "source": [
    "jk=5\n",
    "newdel=timedelta(seconds=(jk+1))\n",
    "td=timedelta(seconds=(jk+1))"
   ]
  },
  {
   "cell_type": "code",
   "execution_count": null,
   "metadata": {},
   "outputs": [],
   "source": [
    "td=timedelta(seconds=(jk+1)\n",
    "print(currenttime)\n",
    "currenttime=currenttime+timedelta(seconds=(jk+1))\n",
    "print(currenttime)\n"
   ]
  },
  {
   "cell_type": "code",
   "execution_count": null,
   "metadata": {},
   "outputs": [],
   "source": [
    "newtimeip=(datetime.datetime.combine(datetime.date(1,1,1),currenttime) + timedelta(seconds=(1))).time()\n",
    "(datetime.datetime.combine(datetime.date(1,1,1),currenttime) + timedelta(seconds=(1))).time()"
   ]
  },
  {
   "cell_type": "code",
   "execution_count": null,
   "metadata": {},
   "outputs": [],
   "source": [
    "newtimeip"
   ]
  },
  {
   "cell_type": "code",
   "execution_count": null,
   "metadata": {},
   "outputs": [],
   "source": [
    "currenttime=datetime.time(hour=localtime.tm_hour,minute=localtime.tm_min,second=localtime.tm_sec,\n",
    "                          \n",
    "                         )"
   ]
  },
  {
   "cell_type": "code",
   "execution_count": null,
   "metadata": {},
   "outputs": [],
   "source": [
    "localtime"
   ]
  },
  {
   "cell_type": "code",
   "execution_count": null,
   "metadata": {},
   "outputs": [],
   "source": [
    " currenttime=datetime.time(hour=localtime.tm_hour,minute=localtime.tm_min,second=localtime.tm_sec,\n",
    "                           year=localtime.tm_year, month=localtime.tm_mon, day=localtime.tm_mday)"
   ]
  },
  {
   "cell_type": "code",
   "execution_count": null,
   "metadata": {},
   "outputs": [],
   "source": [
    "df_dict['actualdata'] = np.delete(df_dict['actualdata'], 1)"
   ]
  },
  {
   "cell_type": "code",
   "execution_count": null,
   "metadata": {},
   "outputs": [],
   "source": [
    "df_dict['actualdata']"
   ]
  },
  {
   "cell_type": "code",
   "execution_count": null,
   "metadata": {},
   "outputs": [],
   "source": [
    "len(df_dict['actualdata'])"
   ]
  },
  {
   "cell_type": "code",
   "execution_count": null,
   "metadata": {},
   "outputs": [],
   "source": [
    "len(df_dict['actualdata'])"
   ]
  },
  {
   "cell_type": "code",
   "execution_count": null,
   "metadata": {},
   "outputs": [],
   "source": [
    "len(df_dict['time'])"
   ]
  },
  {
   "cell_type": "code",
   "execution_count": null,
   "metadata": {},
   "outputs": [],
   "source": []
  }
 ],
 "metadata": {
  "kernelspec": {
   "display_name": "Python 3",
   "language": "python",
   "name": "python3"
  },
  "language_info": {
   "codemirror_mode": {
    "name": "ipython",
    "version": 3
   },
   "file_extension": ".py",
   "mimetype": "text/x-python",
   "name": "python",
   "nbconvert_exporter": "python",
   "pygments_lexer": "ipython3",
   "version": "3.8.2"
  }
 },
 "nbformat": 4,
 "nbformat_minor": 4
}
