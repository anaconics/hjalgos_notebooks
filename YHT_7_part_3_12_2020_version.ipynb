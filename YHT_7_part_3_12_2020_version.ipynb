{
 "cells": [
  {
   "cell_type": "code",
   "execution_count": 1,
   "metadata": {
    "ExecuteTime": {
     "end_time": "2020-11-03T03:30:42.585636Z",
     "start_time": "2020-11-03T03:30:07.731834Z"
    }
   },
   "outputs": [
    {
     "name": "stdout",
     "output_type": "stream",
     "text": [
      "access token : uBM7TNoQ4ZGlDUMfFy35BXdUBIYG3gqX\n",
      "request token : pXcw0i0N9EBp6KV5wa0CkuScNu1byUEZ\n"
     ]
    }
   ],
   "source": [
    "# #####################\n",
    "# # AUTO LOGIN-1 of 1 #\n",
    "# #####################\n",
    "\n",
    "import login\n",
    "from login import *\n",
    "import pandas as pd"
   ]
  },
  {
   "cell_type": "code",
   "execution_count": 2,
   "metadata": {
    "ExecuteTime": {
     "end_time": "2020-11-03T03:30:42.592444Z",
     "start_time": "2020-11-03T03:30:42.589151Z"
    }
   },
   "outputs": [],
   "source": [
    "#######################\n",
    "# MANUAL LOGIN-1 of 3 #\n",
    "#######################\n",
    "\n",
    "# import logging\n",
    "# from kiteconnect import KiteConnect\n",
    "# logging.basicConfig(level=logging.ERROR)\n",
    "# import threading\n",
    "# kite = KiteConnect(api_key=\"w19o0chuo929jxkp\")\n",
    "# import joblib\n",
    "# kite = joblib.load('kitefile.p')\n",
    "# print(kite.login_url())"
   ]
  },
  {
   "cell_type": "code",
   "execution_count": 3,
   "metadata": {
    "ExecuteTime": {
     "end_time": "2020-11-03T03:30:42.607525Z",
     "start_time": "2020-11-03T03:30:42.594972Z"
    }
   },
   "outputs": [],
   "source": [
    "#######################\n",
    "# MANUAL LOGIN-2 of 3 #\n",
    "#######################\n",
    "\n",
    "# mytoken = input('Enter Token Here : ')  \n",
    "# data = kite.generate_session(mytoken,api_secret=\"gsw8ps17ex7lf3cuji4prfnwb4vlyr4y\")\n",
    "# kite.set_access_token(data[\"access_token\"])\n",
    "# import joblib\n",
    "# joblib.dump(kite,'kitefile.p')"
   ]
  },
  {
   "cell_type": "code",
   "execution_count": 4,
   "metadata": {
    "ExecuteTime": {
     "end_time": "2020-11-03T03:30:42.620363Z",
     "start_time": "2020-11-03T03:30:42.611797Z"
    }
   },
   "outputs": [],
   "source": [
    "#######################\n",
    "# MANUAL LOGIN-3 of 3 #\n",
    "####################### \n",
    "\n",
    "# import act"
   ]
  },
  {
   "cell_type": "code",
   "execution_count": 5,
   "metadata": {
    "ExecuteTime": {
     "end_time": "2020-11-03T03:30:42.637572Z",
     "start_time": "2020-11-03T03:30:42.625305Z"
    }
   },
   "outputs": [],
   "source": [
    "#######################\n",
    "# OPTIONAL RUN-1 of 4 #\n",
    "#######################\n",
    "\n",
    "#kite.orders()[-1]"
   ]
  },
  {
   "cell_type": "code",
   "execution_count": 6,
   "metadata": {
    "ExecuteTime": {
     "end_time": "2020-11-03T03:30:42.650152Z",
     "start_time": "2020-11-03T03:30:42.640868Z"
    }
   },
   "outputs": [],
   "source": [
    "#######################\n",
    "# OPTIONAL RUN-2 of 4 #\n",
    "#######################\n",
    "\n",
    "#kite.positions()['net']"
   ]
  },
  {
   "cell_type": "code",
   "execution_count": 7,
   "metadata": {
    "ExecuteTime": {
     "end_time": "2020-11-03T03:30:42.663354Z",
     "start_time": "2020-11-03T03:30:42.655300Z"
    }
   },
   "outputs": [],
   "source": [
    "#######################\n",
    "# OPTIONAL RUN-3 of 4 #\n",
    "#######################\n",
    "\n",
    "#kite.holdings()"
   ]
  },
  {
   "cell_type": "code",
   "execution_count": 8,
   "metadata": {
    "ExecuteTime": {
     "end_time": "2020-11-03T03:30:42.675455Z",
     "start_time": "2020-11-03T03:30:42.667668Z"
    }
   },
   "outputs": [],
   "source": [
    "#######################\n",
    "# OPTIONAL RUN-4 of 4 #\n",
    "#######################\n",
    "\n",
    "#kite.margins(segment = 'equity')['available']['live_balance']"
   ]
  },
  {
   "cell_type": "code",
   "execution_count": 9,
   "metadata": {
    "ExecuteTime": {
     "end_time": "2020-11-03T03:30:58.014661Z",
     "start_time": "2020-11-03T03:30:42.678357Z"
    }
   },
   "outputs": [
    {
     "name": "stdout",
     "output_type": "stream",
     "text": [
      "Today Date : 2020-11-03\n",
      "Yestreday Date : 2020-11-03 00:00:00+05:30\n",
      "last close : 74.5225\n",
      "last high : 74.59\n",
      "last low : 74.5225\n",
      "HL Range : 0.0675\n",
      "My Margin : 183988.92\n",
      "Pivot Price : 74.5225\n",
      "Full Quantity : 80\n",
      "Stoploss On ? : False\n",
      "Order Type : NRML\n",
      "\n",
      "\n",
      "pivot price : 74.5225\n",
      "\n",
      "p1b = 74.515\n",
      "p2b = 74.5075\n",
      "p3b = 74.4975\n",
      "p4b = 74.48\n",
      "p5b = 74.455\n",
      "p6b = 74.4475\n",
      "p7b = 74.44\n",
      "\n",
      "p1s = 74.53\n",
      "p2s = 74.5375\n",
      "p3s = 74.5475\n",
      "p4s = 74.565\n",
      "p5s = 74.59\n",
      "p6s = 74.5975\n",
      "p7s = 74.605\n",
      "\n",
      "p1q : 5\n",
      "p2q : 10\n",
      "p3q : 20\n",
      "p4q : 40\n",
      "p5q : 80\n",
      "p6q : 80\n",
      "p7q : 80\n"
     ]
    }
   ],
   "source": [
    "#############################################################################################################################\n",
    "#########################\n",
    "# Update this part only #\n",
    "#########################\n",
    "symbol_ip = 'USDINR20NOVFUT' # USDINR20OCTFUT / GBPINR20OCTFUT / EURINR20OCTFUT / JPYINR20OCTFUT\n",
    "inst_token = 780803          # 690691(USD) / 490755(GBP) / 278019(EUR) / 690435(JPY)\n",
    "order_type = 'NRML'           # MIS / NRML\n",
    "one_dollar_margin = 2000     # (USD-MIS=984/NRML=1967)(GBP-MIS=1948/NRML=3895)(EUR-MIS=1313/NRML=2625)(JPY-MIS=1333/NRML=2667)\n",
    "\n",
    "fullquantity = 80           # Set a required quantity or set 0 (zero) to adjust quantity automatically\n",
    "powermulti = 2               # Set a multiplyer number to multiply quantity at every part (level)\n",
    "\n",
    "stoploss_on = False          # True / False\n",
    "\n",
    "band_gap = 0.0100            # Gap between two quanties/band (!!!! DO NOT SET IT ZERO  SET IT BETWEEN 0.0100 to 0.0050 !!!!)\n",
    "days_ago = 2\n",
    "#############################################################################################################################\n",
    "\n",
    "import datetime\n",
    "interval='day'\n",
    "todaydt=datetime.date.today()\n",
    "hud_ago=todaydt-datetime.timedelta(days=10)\n",
    "to_date=datetime.date.isoformat(todaydt)\n",
    "\n",
    "from_date=datetime.date.isoformat(hud_ago)\n",
    "data = kite.historical_data(inst_token, from_date, to_date, interval, continuous=False)\n",
    "\n",
    "import pandas as pd\n",
    "mydata = pd.DataFrame(data)\n",
    "from datetime import date\n",
    "today = date.today()\n",
    "\n",
    "print('Today Date : '+str(today))\n",
    "yest_date =  mydata[-days_ago:][['date']].to_numpy()[0][0]\n",
    "last_close =  mydata[-days_ago:][['close']].to_numpy()[0][0]\n",
    "last_high =  mydata[-days_ago:][['high']].to_numpy()[0][0]\n",
    "last_low =  mydata[-days_ago:][['low']].to_numpy()[0][0]\n",
    "hl_range = last_high - last_low\n",
    "\n",
    "pivot_range = hl_range\n",
    "print('Yestreday Date : '+str(yest_date))       \n",
    "print('last close : '+ str(last_close))\n",
    "print('last high : '+ str(last_high))\n",
    "print('last low : '+ str(last_low))\n",
    "print('HL Range : '+ str(round(pivot_range,4)))\n",
    "\n",
    "mymargin = round(kite.margins(segment = 'equity')['available']['live_balance'],4)\n",
    "\n",
    "pivot_price = last_close\n",
    "\n",
    "if (fullquantity==0):\n",
    "    fullquantity = int(mymargin / one_dollar_margin)\n",
    "\n",
    "print('My Margin : '+str(mymargin))\n",
    "print('Pivot Price : ' + str(pivot_price))\n",
    "print('Full Quantity : '+str(fullquantity))\n",
    "print('Stoploss On ? : '+str(stoploss_on))\n",
    "print('Order Type : '+str(order_type))\n",
    "print()\n",
    "\n",
    "total_parts = 14\n",
    "\n",
    "scounter = int(total_parts/2)\n",
    "\n",
    "fibonmulti1=0.1180\n",
    "fibonmulti2=0.2360\n",
    "fibonmulti3=0.3820\n",
    "fibonmulti4=0.6180\n",
    "fibonmulti5=1.0000  # 100% Range\n",
    "fibonmulti6=1.1180\n",
    "fibonmulti7=1.2360\n",
    "fibonmulti8=1.3820\n",
    "fibonmulti9=1.6180\n",
    "fibonmulti10=2.0000 # Maximum quantity @ 200% Range\n",
    "fibonmulti11=2.1180 # Stops trading here\n",
    "fibonmulti12=2.3820 # Stoploss if set 'True' / No Stoploss if set 'False'\n",
    "\n",
    "print()\n",
    "print('pivot price : ' +str(pivot_price))\n",
    "\n",
    "print()\n",
    "base=0.0025\n",
    "# mynewdf = pd.DataFrame({'Buy Price':[],'Quantity':[],'Sell Price':[],})\n",
    "\n",
    "for i in range(1, int(total_parts/2)+1):\n",
    "    globals()['p'+str(i)+'b'] = round(pivot_price - pivot_range*(globals()['fibonmulti'+str(i)]),4)\n",
    "    globals()['p'+str(i)+'b'] = round(base * round(globals()['p'+str(i)+'b'] /base),4)\n",
    "#     mynewdf.loc[i]['Buy Price'] = globals()['p'+str(i)+'b']\n",
    "    print('p'+str(i)+'b = '+str(globals()['p'+str(i)+'b']))\n",
    "\n",
    "print()\n",
    "for i in range(1, int(total_parts/2)+1):\n",
    "    globals()['p'+str(i)+'s'] = round(pivot_price + pivot_range*(globals()['fibonmulti'+str(i)]),4)\n",
    "    globals()['p'+str(i)+'s'] = round(base * round(globals()['p'+str(i)+'s'] /base),4)\n",
    "#     mynewdf.loc[i]['Sell Price'] = globals()['p'+str(i)+'s']\n",
    "    print('p'+str(i)+'s = '+str(globals()['p'+str(i)+'s']))\n",
    "\n",
    "print()\n",
    "\n",
    "halfqunat = fullquantity/1\n",
    "tempcounter = 1\n",
    "\n",
    "for j in range(1):\n",
    "    for i in range(4,-1,-1):\n",
    "        globals()['p'+str(tempcounter)+'q'] = int((halfqunat*j) + int(halfqunat/pow(powermulti,i)))\n",
    "        print('p'+str(tempcounter)+'q : ' + str(globals()['p'+str(tempcounter)+'q']))\n",
    "#         mynewdf.loc[i]['Quantity'] = globals()['p'+str(i)+'q']\n",
    "        tempcounter = tempcounter+1\n",
    "\n",
    "p6q = p5q\n",
    "if(stoploss_on==True):\n",
    "    p7q = 0\n",
    "else :\n",
    "    p7q = p6q\n",
    "\n",
    "print('p6q : '+ str(p6q))\n",
    "print('p7q : '+ str(p7q))"
   ]
  },
  {
   "cell_type": "code",
   "execution_count": 10,
   "metadata": {
    "ExecuteTime": {
     "end_time": "2020-11-03T03:31:12.165953Z",
     "start_time": "2020-11-03T03:30:58.017515Z"
    }
   },
   "outputs": [
    {
     "ename": "KeyboardInterrupt",
     "evalue": "",
     "output_type": "error",
     "traceback": [
      "\u001b[0;31m---------------------------------------------------------------------------\u001b[0m",
      "\u001b[0;31mKeyboardInterrupt\u001b[0m                         Traceback (most recent call last)",
      "\u001b[0;32m<ipython-input-10-34f2177ad092>\u001b[0m in \u001b[0;36m<module>\u001b[0;34m\u001b[0m\n\u001b[1;32m     14\u001b[0m             \u001b[0mprint\u001b[0m\u001b[0;34m(\u001b[0m\u001b[0;34m'My Quantity : '\u001b[0m \u001b[0;34m+\u001b[0m \u001b[0mstr\u001b[0m\u001b[0;34m(\u001b[0m\u001b[0mallpos\u001b[0m\u001b[0;34m[\u001b[0m\u001b[0mi\u001b[0m\u001b[0;34m]\u001b[0m\u001b[0;34m[\u001b[0m\u001b[0;34m'quantity'\u001b[0m\u001b[0;34m]\u001b[0m\u001b[0;34m)\u001b[0m\u001b[0;34m)\u001b[0m\u001b[0;34m\u001b[0m\u001b[0;34m\u001b[0m\u001b[0m\n\u001b[1;32m     15\u001b[0m \u001b[0;34m\u001b[0m\u001b[0m\n\u001b[0;32m---> 16\u001b[0;31m \u001b[0mgetquant\u001b[0m\u001b[0;34m(\u001b[0m\u001b[0;34m)\u001b[0m\u001b[0;34m\u001b[0m\u001b[0;34m\u001b[0m\u001b[0m\n\u001b[0m\u001b[1;32m     17\u001b[0m \u001b[0;34m\u001b[0m\u001b[0m\n\u001b[1;32m     18\u001b[0m \u001b[0;34m\u001b[0m\u001b[0m\n",
      "\u001b[0;32m<ipython-input-10-34f2177ad092>\u001b[0m in \u001b[0;36mgetquant\u001b[0;34m()\u001b[0m\n\u001b[1;32m      8\u001b[0m     \u001b[0;32mglobal\u001b[0m \u001b[0morder_type\u001b[0m\u001b[0;34m\u001b[0m\u001b[0;34m\u001b[0m\u001b[0m\n\u001b[1;32m      9\u001b[0m     \u001b[0;32mglobal\u001b[0m \u001b[0msymbol_ip\u001b[0m\u001b[0;34m\u001b[0m\u001b[0;34m\u001b[0m\u001b[0m\n\u001b[0;32m---> 10\u001b[0;31m     \u001b[0mallpos\u001b[0m \u001b[0;34m=\u001b[0m \u001b[0mkite\u001b[0m\u001b[0;34m.\u001b[0m\u001b[0mpositions\u001b[0m\u001b[0;34m(\u001b[0m\u001b[0;34m)\u001b[0m\u001b[0;34m[\u001b[0m\u001b[0;34m'net'\u001b[0m\u001b[0;34m]\u001b[0m\u001b[0;34m\u001b[0m\u001b[0;34m\u001b[0m\u001b[0m\n\u001b[0m\u001b[1;32m     11\u001b[0m     \u001b[0;32mfor\u001b[0m \u001b[0mi\u001b[0m \u001b[0;32min\u001b[0m \u001b[0mrange\u001b[0m\u001b[0;34m(\u001b[0m\u001b[0mlen\u001b[0m\u001b[0;34m(\u001b[0m\u001b[0mallpos\u001b[0m\u001b[0;34m)\u001b[0m\u001b[0;34m)\u001b[0m\u001b[0;34m:\u001b[0m\u001b[0;34m\u001b[0m\u001b[0;34m\u001b[0m\u001b[0m\n\u001b[1;32m     12\u001b[0m         \u001b[0;32mif\u001b[0m\u001b[0;34m(\u001b[0m\u001b[0mallpos\u001b[0m\u001b[0;34m[\u001b[0m\u001b[0mi\u001b[0m\u001b[0;34m]\u001b[0m\u001b[0;34m[\u001b[0m\u001b[0;34m'tradingsymbol'\u001b[0m\u001b[0;34m]\u001b[0m\u001b[0;34m==\u001b[0m\u001b[0msymbol_ip\u001b[0m \u001b[0;32mand\u001b[0m  \u001b[0mallpos\u001b[0m\u001b[0;34m[\u001b[0m\u001b[0mi\u001b[0m\u001b[0;34m]\u001b[0m\u001b[0;34m[\u001b[0m\u001b[0;34m'product'\u001b[0m\u001b[0;34m]\u001b[0m\u001b[0;34m==\u001b[0m \u001b[0morder_type\u001b[0m\u001b[0;34m)\u001b[0m\u001b[0;34m:\u001b[0m\u001b[0;34m\u001b[0m\u001b[0;34m\u001b[0m\u001b[0m\n",
      "\u001b[0;32m~/.local/lib/python3.8/site-packages/kiteconnect/connect.py\u001b[0m in \u001b[0;36mpositions\u001b[0;34m(self)\u001b[0m\n\u001b[1;32m    430\u001b[0m     \u001b[0;32mdef\u001b[0m \u001b[0mpositions\u001b[0m\u001b[0;34m(\u001b[0m\u001b[0mself\u001b[0m\u001b[0;34m)\u001b[0m\u001b[0;34m:\u001b[0m\u001b[0;34m\u001b[0m\u001b[0;34m\u001b[0m\u001b[0m\n\u001b[1;32m    431\u001b[0m         \u001b[0;34m\"\"\"Retrieve the list of positions.\"\"\"\u001b[0m\u001b[0;34m\u001b[0m\u001b[0;34m\u001b[0m\u001b[0m\n\u001b[0;32m--> 432\u001b[0;31m         \u001b[0;32mreturn\u001b[0m \u001b[0mself\u001b[0m\u001b[0;34m.\u001b[0m\u001b[0m_get\u001b[0m\u001b[0;34m(\u001b[0m\u001b[0;34m\"portfolio.positions\"\u001b[0m\u001b[0;34m)\u001b[0m\u001b[0;34m\u001b[0m\u001b[0;34m\u001b[0m\u001b[0m\n\u001b[0m\u001b[1;32m    433\u001b[0m \u001b[0;34m\u001b[0m\u001b[0m\n\u001b[1;32m    434\u001b[0m     \u001b[0;32mdef\u001b[0m \u001b[0mholdings\u001b[0m\u001b[0;34m(\u001b[0m\u001b[0mself\u001b[0m\u001b[0;34m)\u001b[0m\u001b[0;34m:\u001b[0m\u001b[0;34m\u001b[0m\u001b[0;34m\u001b[0m\u001b[0m\n",
      "\u001b[0;32m~/.local/lib/python3.8/site-packages/kiteconnect/connect.py\u001b[0m in \u001b[0;36m_get\u001b[0;34m(self, route, params)\u001b[0m\n\u001b[1;32m    815\u001b[0m     \u001b[0;32mdef\u001b[0m \u001b[0m_get\u001b[0m\u001b[0;34m(\u001b[0m\u001b[0mself\u001b[0m\u001b[0;34m,\u001b[0m \u001b[0mroute\u001b[0m\u001b[0;34m,\u001b[0m \u001b[0mparams\u001b[0m\u001b[0;34m=\u001b[0m\u001b[0;32mNone\u001b[0m\u001b[0;34m)\u001b[0m\u001b[0;34m:\u001b[0m\u001b[0;34m\u001b[0m\u001b[0;34m\u001b[0m\u001b[0m\n\u001b[1;32m    816\u001b[0m         \u001b[0;34m\"\"\"Alias for sending a GET request.\"\"\"\u001b[0m\u001b[0;34m\u001b[0m\u001b[0;34m\u001b[0m\u001b[0m\n\u001b[0;32m--> 817\u001b[0;31m         \u001b[0;32mreturn\u001b[0m \u001b[0mself\u001b[0m\u001b[0;34m.\u001b[0m\u001b[0m_request\u001b[0m\u001b[0;34m(\u001b[0m\u001b[0mroute\u001b[0m\u001b[0;34m,\u001b[0m \u001b[0;34m\"GET\"\u001b[0m\u001b[0;34m,\u001b[0m \u001b[0mparams\u001b[0m\u001b[0;34m)\u001b[0m\u001b[0;34m\u001b[0m\u001b[0;34m\u001b[0m\u001b[0m\n\u001b[0m\u001b[1;32m    818\u001b[0m \u001b[0;34m\u001b[0m\u001b[0m\n\u001b[1;32m    819\u001b[0m     \u001b[0;32mdef\u001b[0m \u001b[0m_post\u001b[0m\u001b[0;34m(\u001b[0m\u001b[0mself\u001b[0m\u001b[0;34m,\u001b[0m \u001b[0mroute\u001b[0m\u001b[0;34m,\u001b[0m \u001b[0mparams\u001b[0m\u001b[0;34m=\u001b[0m\u001b[0;32mNone\u001b[0m\u001b[0;34m)\u001b[0m\u001b[0;34m:\u001b[0m\u001b[0;34m\u001b[0m\u001b[0;34m\u001b[0m\u001b[0m\n",
      "\u001b[0;32m~/.local/lib/python3.8/site-packages/kiteconnect/connect.py\u001b[0m in \u001b[0;36m_request\u001b[0;34m(self, route, method, parameters)\u001b[0m\n\u001b[1;32m    852\u001b[0m \u001b[0;34m\u001b[0m\u001b[0m\n\u001b[1;32m    853\u001b[0m         \u001b[0;32mtry\u001b[0m\u001b[0;34m:\u001b[0m\u001b[0;34m\u001b[0m\u001b[0;34m\u001b[0m\u001b[0m\n\u001b[0;32m--> 854\u001b[0;31m             r = self.reqsession.request(method,\n\u001b[0m\u001b[1;32m    855\u001b[0m                                         \u001b[0murl\u001b[0m\u001b[0;34m,\u001b[0m\u001b[0;34m\u001b[0m\u001b[0;34m\u001b[0m\u001b[0m\n\u001b[1;32m    856\u001b[0m                                         \u001b[0mdata\u001b[0m\u001b[0;34m=\u001b[0m\u001b[0mparams\u001b[0m \u001b[0;32mif\u001b[0m \u001b[0mmethod\u001b[0m \u001b[0;32min\u001b[0m \u001b[0;34m[\u001b[0m\u001b[0;34m\"POST\"\u001b[0m\u001b[0;34m,\u001b[0m \u001b[0;34m\"PUT\"\u001b[0m\u001b[0;34m]\u001b[0m \u001b[0;32melse\u001b[0m \u001b[0;32mNone\u001b[0m\u001b[0;34m,\u001b[0m\u001b[0;34m\u001b[0m\u001b[0;34m\u001b[0m\u001b[0m\n",
      "\u001b[0;32m~/.local/lib/python3.8/site-packages/requests/api.py\u001b[0m in \u001b[0;36mrequest\u001b[0;34m(method, url, **kwargs)\u001b[0m\n\u001b[1;32m     59\u001b[0m     \u001b[0;31m# cases, and look like a memory leak in others.\u001b[0m\u001b[0;34m\u001b[0m\u001b[0;34m\u001b[0m\u001b[0;34m\u001b[0m\u001b[0m\n\u001b[1;32m     60\u001b[0m     \u001b[0;32mwith\u001b[0m \u001b[0msessions\u001b[0m\u001b[0;34m.\u001b[0m\u001b[0mSession\u001b[0m\u001b[0;34m(\u001b[0m\u001b[0;34m)\u001b[0m \u001b[0;32mas\u001b[0m \u001b[0msession\u001b[0m\u001b[0;34m:\u001b[0m\u001b[0;34m\u001b[0m\u001b[0;34m\u001b[0m\u001b[0m\n\u001b[0;32m---> 61\u001b[0;31m         \u001b[0;32mreturn\u001b[0m \u001b[0msession\u001b[0m\u001b[0;34m.\u001b[0m\u001b[0mrequest\u001b[0m\u001b[0;34m(\u001b[0m\u001b[0mmethod\u001b[0m\u001b[0;34m=\u001b[0m\u001b[0mmethod\u001b[0m\u001b[0;34m,\u001b[0m \u001b[0murl\u001b[0m\u001b[0;34m=\u001b[0m\u001b[0murl\u001b[0m\u001b[0;34m,\u001b[0m \u001b[0;34m**\u001b[0m\u001b[0mkwargs\u001b[0m\u001b[0;34m)\u001b[0m\u001b[0;34m\u001b[0m\u001b[0;34m\u001b[0m\u001b[0m\n\u001b[0m\u001b[1;32m     62\u001b[0m \u001b[0;34m\u001b[0m\u001b[0m\n\u001b[1;32m     63\u001b[0m \u001b[0;34m\u001b[0m\u001b[0m\n",
      "\u001b[0;32m~/.local/lib/python3.8/site-packages/requests/sessions.py\u001b[0m in \u001b[0;36mrequest\u001b[0;34m(self, method, url, params, data, headers, cookies, files, auth, timeout, allow_redirects, proxies, hooks, stream, verify, cert, json)\u001b[0m\n\u001b[1;32m    528\u001b[0m         }\n\u001b[1;32m    529\u001b[0m         \u001b[0msend_kwargs\u001b[0m\u001b[0;34m.\u001b[0m\u001b[0mupdate\u001b[0m\u001b[0;34m(\u001b[0m\u001b[0msettings\u001b[0m\u001b[0;34m)\u001b[0m\u001b[0;34m\u001b[0m\u001b[0;34m\u001b[0m\u001b[0m\n\u001b[0;32m--> 530\u001b[0;31m         \u001b[0mresp\u001b[0m \u001b[0;34m=\u001b[0m \u001b[0mself\u001b[0m\u001b[0;34m.\u001b[0m\u001b[0msend\u001b[0m\u001b[0;34m(\u001b[0m\u001b[0mprep\u001b[0m\u001b[0;34m,\u001b[0m \u001b[0;34m**\u001b[0m\u001b[0msend_kwargs\u001b[0m\u001b[0;34m)\u001b[0m\u001b[0;34m\u001b[0m\u001b[0;34m\u001b[0m\u001b[0m\n\u001b[0m\u001b[1;32m    531\u001b[0m \u001b[0;34m\u001b[0m\u001b[0m\n\u001b[1;32m    532\u001b[0m         \u001b[0;32mreturn\u001b[0m \u001b[0mresp\u001b[0m\u001b[0;34m\u001b[0m\u001b[0;34m\u001b[0m\u001b[0m\n",
      "\u001b[0;32m~/.local/lib/python3.8/site-packages/requests/sessions.py\u001b[0m in \u001b[0;36msend\u001b[0;34m(self, request, **kwargs)\u001b[0m\n\u001b[1;32m    641\u001b[0m \u001b[0;34m\u001b[0m\u001b[0m\n\u001b[1;32m    642\u001b[0m         \u001b[0;31m# Send the request\u001b[0m\u001b[0;34m\u001b[0m\u001b[0;34m\u001b[0m\u001b[0;34m\u001b[0m\u001b[0m\n\u001b[0;32m--> 643\u001b[0;31m         \u001b[0mr\u001b[0m \u001b[0;34m=\u001b[0m \u001b[0madapter\u001b[0m\u001b[0;34m.\u001b[0m\u001b[0msend\u001b[0m\u001b[0;34m(\u001b[0m\u001b[0mrequest\u001b[0m\u001b[0;34m,\u001b[0m \u001b[0;34m**\u001b[0m\u001b[0mkwargs\u001b[0m\u001b[0;34m)\u001b[0m\u001b[0;34m\u001b[0m\u001b[0;34m\u001b[0m\u001b[0m\n\u001b[0m\u001b[1;32m    644\u001b[0m \u001b[0;34m\u001b[0m\u001b[0m\n\u001b[1;32m    645\u001b[0m         \u001b[0;31m# Total elapsed time of the request (approximately)\u001b[0m\u001b[0;34m\u001b[0m\u001b[0;34m\u001b[0m\u001b[0;34m\u001b[0m\u001b[0m\n",
      "\u001b[0;32m~/.local/lib/python3.8/site-packages/requests/adapters.py\u001b[0m in \u001b[0;36msend\u001b[0;34m(self, request, stream, timeout, verify, cert, proxies)\u001b[0m\n\u001b[1;32m    437\u001b[0m         \u001b[0;32mtry\u001b[0m\u001b[0;34m:\u001b[0m\u001b[0;34m\u001b[0m\u001b[0;34m\u001b[0m\u001b[0m\n\u001b[1;32m    438\u001b[0m             \u001b[0;32mif\u001b[0m \u001b[0;32mnot\u001b[0m \u001b[0mchunked\u001b[0m\u001b[0;34m:\u001b[0m\u001b[0;34m\u001b[0m\u001b[0;34m\u001b[0m\u001b[0m\n\u001b[0;32m--> 439\u001b[0;31m                 resp = conn.urlopen(\n\u001b[0m\u001b[1;32m    440\u001b[0m                     \u001b[0mmethod\u001b[0m\u001b[0;34m=\u001b[0m\u001b[0mrequest\u001b[0m\u001b[0;34m.\u001b[0m\u001b[0mmethod\u001b[0m\u001b[0;34m,\u001b[0m\u001b[0;34m\u001b[0m\u001b[0;34m\u001b[0m\u001b[0m\n\u001b[1;32m    441\u001b[0m                     \u001b[0murl\u001b[0m\u001b[0;34m=\u001b[0m\u001b[0murl\u001b[0m\u001b[0;34m,\u001b[0m\u001b[0;34m\u001b[0m\u001b[0;34m\u001b[0m\u001b[0m\n",
      "\u001b[0;32m~/.local/lib/python3.8/site-packages/urllib3/connectionpool.py\u001b[0m in \u001b[0;36murlopen\u001b[0;34m(self, method, url, body, headers, retries, redirect, assert_same_host, timeout, pool_timeout, release_conn, chunked, body_pos, **response_kw)\u001b[0m\n\u001b[1;32m    668\u001b[0m \u001b[0;34m\u001b[0m\u001b[0m\n\u001b[1;32m    669\u001b[0m             \u001b[0;31m# Make the request on the httplib connection object.\u001b[0m\u001b[0;34m\u001b[0m\u001b[0;34m\u001b[0m\u001b[0;34m\u001b[0m\u001b[0m\n\u001b[0;32m--> 670\u001b[0;31m             httplib_response = self._make_request(\n\u001b[0m\u001b[1;32m    671\u001b[0m                 \u001b[0mconn\u001b[0m\u001b[0;34m,\u001b[0m\u001b[0;34m\u001b[0m\u001b[0;34m\u001b[0m\u001b[0m\n\u001b[1;32m    672\u001b[0m                 \u001b[0mmethod\u001b[0m\u001b[0;34m,\u001b[0m\u001b[0;34m\u001b[0m\u001b[0;34m\u001b[0m\u001b[0m\n",
      "\u001b[0;32m~/.local/lib/python3.8/site-packages/urllib3/connectionpool.py\u001b[0m in \u001b[0;36m_make_request\u001b[0;34m(self, conn, method, url, timeout, chunked, **httplib_request_kw)\u001b[0m\n\u001b[1;32m    379\u001b[0m         \u001b[0;31m# Trigger any extra validation we need to do.\u001b[0m\u001b[0;34m\u001b[0m\u001b[0;34m\u001b[0m\u001b[0;34m\u001b[0m\u001b[0m\n\u001b[1;32m    380\u001b[0m         \u001b[0;32mtry\u001b[0m\u001b[0;34m:\u001b[0m\u001b[0;34m\u001b[0m\u001b[0;34m\u001b[0m\u001b[0m\n\u001b[0;32m--> 381\u001b[0;31m             \u001b[0mself\u001b[0m\u001b[0;34m.\u001b[0m\u001b[0m_validate_conn\u001b[0m\u001b[0;34m(\u001b[0m\u001b[0mconn\u001b[0m\u001b[0;34m)\u001b[0m\u001b[0;34m\u001b[0m\u001b[0;34m\u001b[0m\u001b[0m\n\u001b[0m\u001b[1;32m    382\u001b[0m         \u001b[0;32mexcept\u001b[0m \u001b[0;34m(\u001b[0m\u001b[0mSocketTimeout\u001b[0m\u001b[0;34m,\u001b[0m \u001b[0mBaseSSLError\u001b[0m\u001b[0;34m)\u001b[0m \u001b[0;32mas\u001b[0m \u001b[0me\u001b[0m\u001b[0;34m:\u001b[0m\u001b[0;34m\u001b[0m\u001b[0;34m\u001b[0m\u001b[0m\n\u001b[1;32m    383\u001b[0m             \u001b[0;31m# Py2 raises this as a BaseSSLError, Py3 raises it as socket timeout.\u001b[0m\u001b[0;34m\u001b[0m\u001b[0;34m\u001b[0m\u001b[0;34m\u001b[0m\u001b[0m\n",
      "\u001b[0;32m~/.local/lib/python3.8/site-packages/urllib3/connectionpool.py\u001b[0m in \u001b[0;36m_validate_conn\u001b[0;34m(self, conn)\u001b[0m\n\u001b[1;32m    976\u001b[0m         \u001b[0;31m# Force connect early to allow us to validate the connection.\u001b[0m\u001b[0;34m\u001b[0m\u001b[0;34m\u001b[0m\u001b[0;34m\u001b[0m\u001b[0m\n\u001b[1;32m    977\u001b[0m         \u001b[0;32mif\u001b[0m \u001b[0;32mnot\u001b[0m \u001b[0mgetattr\u001b[0m\u001b[0;34m(\u001b[0m\u001b[0mconn\u001b[0m\u001b[0;34m,\u001b[0m \u001b[0;34m\"sock\"\u001b[0m\u001b[0;34m,\u001b[0m \u001b[0;32mNone\u001b[0m\u001b[0;34m)\u001b[0m\u001b[0;34m:\u001b[0m  \u001b[0;31m# AppEngine might not have  `.sock`\u001b[0m\u001b[0;34m\u001b[0m\u001b[0;34m\u001b[0m\u001b[0m\n\u001b[0;32m--> 978\u001b[0;31m             \u001b[0mconn\u001b[0m\u001b[0;34m.\u001b[0m\u001b[0mconnect\u001b[0m\u001b[0;34m(\u001b[0m\u001b[0;34m)\u001b[0m\u001b[0;34m\u001b[0m\u001b[0;34m\u001b[0m\u001b[0m\n\u001b[0m\u001b[1;32m    979\u001b[0m \u001b[0;34m\u001b[0m\u001b[0m\n\u001b[1;32m    980\u001b[0m         \u001b[0;32mif\u001b[0m \u001b[0;32mnot\u001b[0m \u001b[0mconn\u001b[0m\u001b[0;34m.\u001b[0m\u001b[0mis_verified\u001b[0m\u001b[0;34m:\u001b[0m\u001b[0;34m\u001b[0m\u001b[0;34m\u001b[0m\u001b[0m\n",
      "\u001b[0;32m~/.local/lib/python3.8/site-packages/urllib3/connection.py\u001b[0m in \u001b[0;36mconnect\u001b[0;34m(self)\u001b[0m\n\u001b[1;32m    307\u001b[0m     \u001b[0;32mdef\u001b[0m \u001b[0mconnect\u001b[0m\u001b[0;34m(\u001b[0m\u001b[0mself\u001b[0m\u001b[0;34m)\u001b[0m\u001b[0;34m:\u001b[0m\u001b[0;34m\u001b[0m\u001b[0;34m\u001b[0m\u001b[0m\n\u001b[1;32m    308\u001b[0m         \u001b[0;31m# Add certificate verification\u001b[0m\u001b[0;34m\u001b[0m\u001b[0;34m\u001b[0m\u001b[0;34m\u001b[0m\u001b[0m\n\u001b[0;32m--> 309\u001b[0;31m         \u001b[0mconn\u001b[0m \u001b[0;34m=\u001b[0m \u001b[0mself\u001b[0m\u001b[0;34m.\u001b[0m\u001b[0m_new_conn\u001b[0m\u001b[0;34m(\u001b[0m\u001b[0;34m)\u001b[0m\u001b[0;34m\u001b[0m\u001b[0;34m\u001b[0m\u001b[0m\n\u001b[0m\u001b[1;32m    310\u001b[0m         \u001b[0mhostname\u001b[0m \u001b[0;34m=\u001b[0m \u001b[0mself\u001b[0m\u001b[0;34m.\u001b[0m\u001b[0mhost\u001b[0m\u001b[0;34m\u001b[0m\u001b[0;34m\u001b[0m\u001b[0m\n\u001b[1;32m    311\u001b[0m \u001b[0;34m\u001b[0m\u001b[0m\n",
      "\u001b[0;32m~/.local/lib/python3.8/site-packages/urllib3/connection.py\u001b[0m in \u001b[0;36m_new_conn\u001b[0;34m(self)\u001b[0m\n\u001b[1;32m    157\u001b[0m \u001b[0;34m\u001b[0m\u001b[0m\n\u001b[1;32m    158\u001b[0m         \u001b[0;32mtry\u001b[0m\u001b[0;34m:\u001b[0m\u001b[0;34m\u001b[0m\u001b[0;34m\u001b[0m\u001b[0m\n\u001b[0;32m--> 159\u001b[0;31m             conn = connection.create_connection(\n\u001b[0m\u001b[1;32m    160\u001b[0m                 \u001b[0;34m(\u001b[0m\u001b[0mself\u001b[0m\u001b[0;34m.\u001b[0m\u001b[0m_dns_host\u001b[0m\u001b[0;34m,\u001b[0m \u001b[0mself\u001b[0m\u001b[0;34m.\u001b[0m\u001b[0mport\u001b[0m\u001b[0;34m)\u001b[0m\u001b[0;34m,\u001b[0m \u001b[0mself\u001b[0m\u001b[0;34m.\u001b[0m\u001b[0mtimeout\u001b[0m\u001b[0;34m,\u001b[0m \u001b[0;34m**\u001b[0m\u001b[0mextra_kw\u001b[0m\u001b[0;34m\u001b[0m\u001b[0;34m\u001b[0m\u001b[0m\n\u001b[1;32m    161\u001b[0m             )\n",
      "\u001b[0;32m~/.local/lib/python3.8/site-packages/urllib3/util/connection.py\u001b[0m in \u001b[0;36mcreate_connection\u001b[0;34m(address, timeout, source_address, socket_options)\u001b[0m\n\u001b[1;32m     72\u001b[0m             \u001b[0;32mif\u001b[0m \u001b[0msource_address\u001b[0m\u001b[0;34m:\u001b[0m\u001b[0;34m\u001b[0m\u001b[0;34m\u001b[0m\u001b[0m\n\u001b[1;32m     73\u001b[0m                 \u001b[0msock\u001b[0m\u001b[0;34m.\u001b[0m\u001b[0mbind\u001b[0m\u001b[0;34m(\u001b[0m\u001b[0msource_address\u001b[0m\u001b[0;34m)\u001b[0m\u001b[0;34m\u001b[0m\u001b[0;34m\u001b[0m\u001b[0m\n\u001b[0;32m---> 74\u001b[0;31m             \u001b[0msock\u001b[0m\u001b[0;34m.\u001b[0m\u001b[0mconnect\u001b[0m\u001b[0;34m(\u001b[0m\u001b[0msa\u001b[0m\u001b[0;34m)\u001b[0m\u001b[0;34m\u001b[0m\u001b[0;34m\u001b[0m\u001b[0m\n\u001b[0m\u001b[1;32m     75\u001b[0m             \u001b[0;32mreturn\u001b[0m \u001b[0msock\u001b[0m\u001b[0;34m\u001b[0m\u001b[0;34m\u001b[0m\u001b[0m\n\u001b[1;32m     76\u001b[0m \u001b[0;34m\u001b[0m\u001b[0m\n",
      "\u001b[0;31mKeyboardInterrupt\u001b[0m: "
     ]
    }
   ],
   "source": [
    "#####################\n",
    "# NORMAL RUN-2 of 3 #\n",
    "#####################\n",
    "\n",
    "myquantity = 0\n",
    "def getquant():\n",
    "    global myquantity, order_type, symbol_ip\n",
    "    allpos = kite.positions()['net']\n",
    "    for i in range(len(allpos)):\n",
    "        if(allpos[i]['tradingsymbol']==symbol_ip and  allpos[i]['product']== order_type):\n",
    "            myquantity = allpos[i]['quantity']\n",
    "            print('My Quantity : ' + str(allpos[i]['quantity']))\n",
    "        \n",
    "getquant()\n",
    "\n",
    "\n",
    "def ckqnt_old (orderprice,orderquant):\n",
    "    global symbol_ip\n",
    "    allpos = kite.positions()['net']\n",
    "    for i in range(len(allpos)):\n",
    "        if(allpos[i]['tradingsymbol']==symbol_ip):\n",
    "            print('Position Quantity : ' + str(allpos[i]['quantity']))\n",
    "            quantdiff = orderquant - allpos[i]['quantity']\n",
    "            quantabs = abs(quantdiff)\n",
    "            if(quantdiff>0):\n",
    "                try:\n",
    "                    order_id =  kite.place_order(tradingsymbol=symbol_ip,\n",
    "                                exchange=kite.EXCHANGE_CDS,\n",
    "                                transaction_type=kite.TRANSACTION_TYPE_BUY,\n",
    "                                quantity=quantabs,\n",
    "                                order_type=kite.ORDER_TYPE_MARKET,\n",
    "                                variety = kite.VARIETY_REGULAR,\n",
    "                                product=kite.PRODUCT_MIS if order_type=='MIS' else kite.PRODUCT_NRML)\n",
    "                    \n",
    "                    allpos = kite.positions()['net']\n",
    "                except Exception as e:\n",
    "                    print(e)\n",
    "                    \n",
    "            if(quantdiff<0):\n",
    "                sellnewquant =  allpos[i]['quantity'] - orderquant\n",
    "                try:\n",
    "                    order_id =  kite.place_order(tradingsymbol=symbol_ip,\n",
    "                                exchange=kite.EXCHANGE_CDS,\n",
    "                                transaction_type=kite.TRANSACTION_TYPE_SELL,\n",
    "                                quantity=quantabs,\n",
    "                                order_type=kite.ORDER_TYPE_MARKET,\n",
    "                                variety = kite.VARIETY_REGULAR,\n",
    "                                product=kite.PRODUCT_MIS if order_type=='MIS' else kite.PRODUCT_NRML)\n",
    "                except Exception as e:\n",
    "                    print(e)\n",
    "                    \n",
    "    return allpos[i]['quantity']\n",
    "\n",
    "def placeneworder(quantdiff):\n",
    "    global symbol_ip\n",
    "    if(quantdiff>0):\n",
    "        try:\n",
    "                order_id= kite.place_order(tradingsymbol=symbol_ip,\n",
    "                            exchange=kite.EXCHANGE_CDS,\n",
    "                            transaction_type=kite.TRANSACTION_TYPE_BUY,\n",
    "                            quantity=abs(quantdiff),\n",
    "                            order_type=kite.ORDER_TYPE_MARKET,\n",
    "                            variety = kite.VARIETY_REGULAR,\n",
    "                            product=kite.PRODUCT_MIS if order_type=='MIS' else kite.PRODUCT_NRML)\n",
    "                getquant()\n",
    "        except Exception as e:\n",
    "            print(e)\n",
    "            getquant()\n",
    "    if(quantdiff<0):\n",
    "        try:\n",
    "                order_id= kite.place_order(tradingsymbol=symbol_ip,\n",
    "                            exchange=kite.EXCHANGE_CDS,\n",
    "                            transaction_type=kite.TRANSACTION_TYPE_SELL,\n",
    "                            quantity=abs(quantdiff),\n",
    "                            order_type=kite.ORDER_TYPE_MARKET,\n",
    "                            variety = kite.VARIETY_REGULAR,\n",
    "                            product=kite.PRODUCT_MIS if order_type=='MIS' else kite.PRODUCT_NRML)\n",
    "                getquant()\n",
    "        except Exception as e:\n",
    "            print(e)\n",
    "            getquant()\n",
    "\n",
    "\n",
    "def ckqnt (orderprice,orderquant):\n",
    "    global myquantity\n",
    "    quantdiff = orderquant - myquantity\n",
    "    placeneworder(quantdiff)\n",
    "    return myquantity\n",
    "\n",
    "\n",
    "def checkpivot(ltps):\n",
    "    if ((ltps>=(pivot_price-0.0050)) and (ltps<=(pivot_price+0.0050))):\n",
    "        ckqnt(pivot_price,0)\n",
    "        print('in pivot range')\n",
    "        \n",
    "    for i in range(1,int(total_parts/2)+1):\n",
    "        if(i==int(total_parts/2)):\n",
    "            if ((ltps <= (globals()['p'+str(i)+'b']-(band_gap/2))) and stoploss_on==True ):\n",
    "                ckqnt(globals()['p'+str(i)+'b'],globals()['p'+str(i)+'q'])\n",
    "                print('==========' + 'p'+str(i)+'b' +'===========')\n",
    "                print(str(ltps)+ ' < ' + 'p'+str(i)+'b')\n",
    "            if ((ltps >= (globals()['p'+str(i)+'s']+(band_gap/2))) and stoploss_on==True):\n",
    "                ckqnt(globals()['p'+str(i)+'s'],-(globals()['p'+str(i)+'q']))\n",
    "                print('==========' + 'p'+str(i)+'b' +'===========')\n",
    "                print(str(ltps)+ ' < ' + 'p'+str(i)+'b')\n",
    "        else:\n",
    "            if (ltps < (globals()['p'+str(i)+'b'] -(band_gap/2)) and ltps > (globals()['p'+str(i+1)+'b']+(band_gap/2))):\n",
    "                ckqnt(globals()['p'+str(i)+'b'],globals()['p'+str(i)+'q'])\n",
    "                print('==========' +'p'+str(i)+'b' + '==============' )\n",
    "                print(str(globals()['p'+str(i+1)+'b'])+ ' < ' +str(ltps)+ ' < ' +str(globals()['p'+str(i)+'b']))\n",
    "            if (ltps > (globals()['p'+str(i)+'s'] +(band_gap/2)) and ltps < (globals()['p'+str(i+1)+'s']-(band_gap/2))):\n",
    "                ckqnt(globals()['p'+str(i)+'s'],-(globals()['p'+str(i)+'q']))\n",
    "                print('==========' +'p'+str(i)+'s' + '==============' )\n",
    "                print(str(globals()['p'+str(i)+'s'])+ ' < ' +str(ltps)+ ' < ' +str(globals()['p'+str(i+1)+'s']))"
   ]
  },
  {
   "cell_type": "code",
   "execution_count": null,
   "metadata": {
    "ExecuteTime": {
     "end_time": "2020-11-03T03:31:12.170284Z",
     "start_time": "2020-11-03T03:30:07.733Z"
    },
    "scrolled": true
   },
   "outputs": [],
   "source": [
    "#####################\n",
    "# NORMAL RUN-3 of 3 #\n",
    "#####################\n",
    "#################\n",
    "# START TRADING #\n",
    "#################\n",
    "moving_pivot_on = 2\n",
    "import logging\n",
    "from kiteconnect import KiteTicker\n",
    "logging.basicConfig(level=logging.DEBUG)\n",
    "# kws = KiteTicker(\"w19o0chuo929jxkp\", \"eA5B5OJQNOtZ0OYihkBmYw7Ke3B9pmCC\")\n",
    "\n",
    "def on_ticks(ws, ticks):\n",
    "    global pivot_price, moving_pivot_on\n",
    "    \n",
    "    \n",
    "    \n",
    "    checkpivot(ticks[0]['last_price'])\n",
    "\n",
    "#     if(moving_pivot_on):\n",
    "#         pivot_price =round(base * round(ticks[0]['average_price']/base),4) # Moving Trade Average Line : 1\n",
    "#         calc_pivots();                                                     # Moving Trade Average Line : 2\n",
    "        \n",
    "    #print('===========================')\n",
    "    #print(type(ticks[0]['last_price']))\n",
    "    print('==========================')\n",
    "    print( 'LTP : ' + str(ticks[0]['last_price']))\n",
    "    #print('==========================')\n",
    "    #print()\n",
    "\n",
    "def on_connect(ws, response):\n",
    "    global inst_token\n",
    "    ws.subscribe([inst_token])\n",
    "    ws.set_mode(ws.MODE_FULL, [inst_token])\n",
    "\n",
    "def on_close(ws, code, reason):\n",
    "    ws.stop()\n",
    "    \n",
    "def on_error(ws, code, reason):\n",
    "    logging.error(\"closed connection on error: {} {}\".format(code, reason))\n",
    "\n",
    "def on_noreconnect(ws):\n",
    "    logging.error(\"Reconnecting the websocket failed\")\n",
    "\n",
    "def on_reconnect(ws, attempt_count):\n",
    "    logging.debug(\"Reconnecting the websocket: {}\".format(attempt_count))\n",
    "\n",
    "#def on_order_update(ws, data):\n",
    "#    print(\"order update: \", data)\n",
    "\n",
    "kws.on_error = on_error\n",
    "kws.on_noreconnect = on_noreconnect\n",
    "kws.on_reconnect = on_reconnect\n",
    "#kws.on_order_update = on_order_update\n",
    "\n",
    "kws.on_ticks = on_ticks\n",
    "kws.on_connect = on_connect\n",
    "kws.on_close = on_close\n",
    "\n",
    "kws.connect()"
   ]
  },
  {
   "cell_type": "code",
   "execution_count": null,
   "metadata": {},
   "outputs": [],
   "source": []
  },
  {
   "cell_type": "code",
   "execution_count": null,
   "metadata": {},
   "outputs": [],
   "source": []
  },
  {
   "cell_type": "code",
   "execution_count": null,
   "metadata": {},
   "outputs": [],
   "source": []
  }
 ],
 "metadata": {
  "kernelspec": {
   "display_name": "Python 3",
   "language": "python",
   "name": "python3"
  },
  "language_info": {
   "codemirror_mode": {
    "name": "ipython",
    "version": 3
   },
   "file_extension": ".py",
   "mimetype": "text/x-python",
   "name": "python",
   "nbconvert_exporter": "python",
   "pygments_lexer": "ipython3",
   "version": "3.8.6"
  },
  "varInspector": {
   "cols": {
    "lenName": 16,
    "lenType": 16,
    "lenVar": 40
   },
   "kernels_config": {
    "python": {
     "delete_cmd_postfix": "",
     "delete_cmd_prefix": "del ",
     "library": "var_list.py",
     "varRefreshCmd": "print(var_dic_list())"
    },
    "r": {
     "delete_cmd_postfix": ") ",
     "delete_cmd_prefix": "rm(",
     "library": "var_list.r",
     "varRefreshCmd": "cat(var_dic_list()) "
    }
   },
   "types_to_exclude": [
    "module",
    "function",
    "builtin_function_or_method",
    "instance",
    "_Feature"
   ],
   "window_display": false
  }
 },
 "nbformat": 4,
 "nbformat_minor": 4
}
