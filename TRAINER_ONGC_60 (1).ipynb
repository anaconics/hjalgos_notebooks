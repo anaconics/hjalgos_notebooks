{
 "cells": [
  {
   "cell_type": "code",
   "execution_count": null,
   "metadata": {},
   "outputs": [],
   "source": [
    "data = kite.generate_session(\"gjS8YE6u5l4r3XhxeitJGgSfuSfibMCK\",\n",
    "                             api_secret=\"gsw8ps17ex7lf3cuji4prfnwb4vlyr4y\")\n",
    "kite.set_access_token(data[\"access_token\"])\n",
    "\n",
    "with open(homediraddr+'/kitefile'+'.p', 'wb') as fp:\n",
    "                pickle.dump(kite, fp, protocol=pickle.HIGHEST_PROTOCOL)"
   ]
  },
  {
   "cell_type": "code",
   "execution_count": 1,
   "metadata": {},
   "outputs": [
    {
     "data": {
      "text/plain": [
       "'https://kite.trade/connect/login?api_key=w19o0chuo929jxkp&v=3'"
      ]
     },
     "execution_count": 1,
     "metadata": {},
     "output_type": "execute_result"
    }
   ],
   "source": [
    "from stkdef60 import One_trian_stk_class\n",
    "import logging\n",
    "import pickle\n",
    "import matplotlib.pyplot as plt\n",
    "from kiteconnect import KiteConnect\n",
    "logging.basicConfig(level=logging.ERROR)\n",
    "import threading\n",
    "import pandas as pd\n",
    "import numpy as np\n",
    "homediraddr='/home/hemangjoshi37a_gmail_com'\n",
    "kite = KiteConnect(api_key=\"w19o0chuo929jxkp\")\n",
    "with open('kitefile.p', 'rb') as fp:\n",
    "    kite = pickle.load(fp)\n",
    "kite.login_url()"
   ]
  },
  {
   "cell_type": "code",
   "execution_count": null,
   "metadata": {
    "scrolled": true
   },
   "outputs": [
    {
     "name": "stdout",
     "output_type": "stream",
     "text": [
      "df loaded began................\n",
      "Loaded : TATASTEEL_DF.p 1\n",
      "Checking Model Path : /home/hemangjoshi37a_gmail_com/stkwise_models60/TATASTEEL/TATASTEEL_36.h5\n",
      "model loaded : /home/hemangjoshi37a_gmail_com/stkwise_models60/TATASTEEL/TATASTEEL_36.h5\n",
      "df loaded end................\n",
      "xtrain_def began............\n",
      "dataset : [[   466.1     467.35    466.      467.   235229.  ]\n",
      " [   467.      467.45    466.5     466.7  235286.  ]\n",
      " [   466.55    466.8     465.6     465.7  197215.  ]\n",
      " [   465.8     466.25    465.15    465.3  166736.  ]\n",
      " [   465.25    465.85    465.25    465.65  89075.  ]]\n",
      "training_data_len : 39600\n",
      "(40000, 5)\n",
      "TATASTEEL : x_train shape :  (39479, 60, 5)\n",
      "TATASTEEL : y_train shape :  (39479, 60)\n",
      "TATASTEEL : x_test shape :  (339, 60, 5)\n",
      "TATASTEEL : y_test shape :  (339, 60)\n",
      "xtrain_def end............\n",
      "Epoch 1/5\n",
      " 2166/39479 [>.............................] - ETA: 23:18 - loss: 27587.5898 - accuracy: 0.0656Model saved to : /home/hemangjoshi37a_gmail_com/stkwise_models60/TATASTEEL/TATASTEEL_37.h5\n",
      " 4662/39479 [==>...........................] - ETA: 20:30 - loss: 23455.6875 - accuracy: 0.070Model saved to : /home/hemangjoshi37a_gmail_com/stkwise_models60/TATASTEEL/TATASTEEL_38.h5\n",
      " 7167/39479 [====>.........................] - ETA: 18:47 - loss: 20745.3125 - accuracy: 0.0666Model saved to : /home/hemangjoshi37a_gmail_com/stkwise_models60/TATASTEEL/TATASTEEL_39.h5\n",
      " 9662/39479 [======>.......................] - ETA: 17:14 - loss: 17100.6641 - accuracy: 0.077Model saved to : /home/hemangjoshi37a_gmail_com/stkwise_models60/TATASTEEL/TATASTEEL_40.h5\n",
      "12168/39479 [========>.....................] - ETA: 15:40 - loss: 13858.7959 - accuracy: 0.079Model saved to : /home/hemangjoshi37a_gmail_com/stkwise_models60/TATASTEEL/TATASTEEL_41.h5\n",
      "14671/39479 [==========>...................] - ETA: 14:13 - loss: 11794.5195 - accuracy: 0.0814Model saved to : /home/hemangjoshi37a_gmail_com/stkwise_models60/TATASTEEL/TATASTEEL_42.h5\n",
      "17168/39479 [============>.................] - ETA: 12:44 - loss: 10098.6631 - accuracy: 0.0843Model saved to : /home/hemangjoshi37a_gmail_com/stkwise_models60/TATASTEEL/TATASTEEL_43.h5\n",
      "19663/39479 [=============>................] - ETA: 11:17 - loss: 8971.4170 - accuracy: 0.08Model saved to : /home/hemangjoshi37a_gmail_com/stkwise_models60/TATASTEEL/TATASTEEL_44.h5\n",
      "22166/39479 [===============>..............]Model saved to : /home/hemangjoshi37a_gmail_com/stkwise_models60/TATASTEEL/TATASTEEL_45.h5\n",
      "24667/39479 [=================>............] - ETA: 8:26 - loss: 9132.6836 - accuracy: 0.0818Model saved to : /home/hemangjoshi37a_gmail_com/stkwise_models60/TATASTEEL/TATASTEEL_46.h5\n",
      "27165/39479 [===================>..........] - ETA: 7:00 - loss: 9027.7119 - accuracy: 0.0769Model saved to : /home/hemangjoshi37a_gmail_com/stkwise_models60/TATASTEEL/TATASTEEL_47.h5\n",
      "29334/39479 [=====================>........] - ETA: 5:46 - loss: 8591.0020 - accuracy: 0.0723"
     ]
    }
   ],
   "source": [
    "xx={'name':'TATASTEEL',\n",
    "    'insttkn':895745,\n",
    "    'nbatch':1,\n",
    "    'nepochs':5,\n",
    "    'trainlen':40000,\n",
    "    'kite':kite}\n",
    "\n",
    "trainit= One_trian_stk_class(xx['name'], xx['insttkn'],xx['nbatch'],xx['nepochs'],xx['trainlen'],xx['kite'])\n",
    "# trainit.load()\n",
    "# trainit.xtrain_def()\n",
    "# # trainit.plot_predict()\n",
    "\n",
    "trainit.loadfit()"
   ]
  },
  {
   "cell_type": "code",
   "execution_count": null,
   "metadata": {},
   "outputs": [],
   "source": [
    "descaled_x_test=(trainit.x_test[0]*trainit.npdiff)+trainit.npmin\n",
    "old_data=descaled_x_test[:,0]\n",
    "old_data"
   ]
  },
  {
   "cell_type": "code",
   "execution_count": null,
   "metadata": {},
   "outputs": [],
   "source": [
    "sample=np.reshape(trainit.x_test[0],(1,60,4))\n",
    "predictionip=trainit.model.predict(sample)\n",
    "# invv=trainit.scaler.inverse_transform(predictionip)\n",
    "# invv\n",
    "predictionop=(predictionip*trainit.npdiff)+trainit.npmin\n",
    "predictionop[0]"
   ]
  },
  {
   "cell_type": "code",
   "execution_count": null,
   "metadata": {},
   "outputs": [],
   "source": [
    "combined_data=np.concatenate((old_data, predictionop[0]))\n",
    "combined_data"
   ]
  },
  {
   "cell_type": "code",
   "execution_count": null,
   "metadata": {},
   "outputs": [],
   "source": [
    "plt.plot(combined_data)\n"
   ]
  },
  {
   "cell_type": "code",
   "execution_count": null,
   "metadata": {},
   "outputs": [],
   "source": [
    "train_param_List=[{'name':'SBIN',\n",
    "                   'insttkn':779521,\n",
    "                   'nbatch':1,\n",
    "                   'nepochs':1,\n",
    "                   'kite':kite\n",
    "                  },\n",
    "                 {'name':'ONGC',\n",
    "                   'insttkn':633601,\n",
    "                   'nbatch':1,\n",
    "                   'nepochs':1,\n",
    "                   'kite':kite\n",
    "                  },\n",
    "                 {'name':'GLENMARK',\n",
    "                   'insttkn':1895937,\n",
    "                   'nbatch':1,\n",
    "                   'nepochs':1,\n",
    "                   'kite':kite\n",
    "                  },\n",
    "                 {'name':'TATASTEEL',\n",
    "                   'insttkn':895745,\n",
    "                   'nbatch':1,\n",
    "                   'nepochs':1,\n",
    "                   'kite':kite\n",
    "                  },]\n",
    "\n",
    "# x = One_trian_stk_class('ONGC', 633601,1,2,kite)\n",
    "\n",
    "# print('Stock Name  : '+ x.name)\n",
    "# print('Stock insttkn  : '+ str(x.insttkn))\n",
    "# print('Stock nbatch  : '+ str(x.nbatch))\n",
    "# print('Stock nepochs  : '+ str(x.nepochs))\n",
    "# print('Stock kite  : '+ str(kite))\n",
    "\n",
    "# print(type(x))"
   ]
  },
  {
   "cell_type": "code",
   "execution_count": null,
   "metadata": {},
   "outputs": [],
   "source": []
  },
  {
   "cell_type": "code",
   "execution_count": null,
   "metadata": {},
   "outputs": [],
   "source": []
  }
 ],
 "metadata": {
  "kernelspec": {
   "display_name": "Python 3",
   "language": "python",
   "name": "python3"
  },
  "language_info": {
   "codemirror_mode": {
    "name": "ipython",
    "version": 3
   },
   "file_extension": ".py",
   "mimetype": "text/x-python",
   "name": "python",
   "nbconvert_exporter": "python",
   "pygments_lexer": "ipython3",
   "version": "3.8.2"
  }
 },
 "nbformat": 4,
 "nbformat_minor": 4
}
