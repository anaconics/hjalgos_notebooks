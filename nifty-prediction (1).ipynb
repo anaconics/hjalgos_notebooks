{
 "cells": [
  {
   "cell_type": "code",
   "execution_count": 1,
   "metadata": {
    "ExecuteTime": {
     "end_time": "2020-11-30T04:03:39.100887Z",
     "start_time": "2020-11-30T04:03:39.098342Z"
    }
   },
   "outputs": [],
   "source": [
    "# ########## auto login ############\n",
    "# import login\n",
    "# from login import *\n",
    "# import pandas as pd\n",
    "# from loguru import logger\n",
    "# import pytz\n",
    "# from time import sleep\n",
    "# import datetime\n",
    "# import json\n",
    "# import pandas as pd\n",
    "# logger.add(\"./logs/MNC_logs_{time}.log\")"
   ]
  },
  {
   "cell_type": "code",
   "execution_count": 2,
   "metadata": {
    "ExecuteTime": {
     "end_time": "2020-11-30T04:03:39.114758Z",
     "start_time": "2020-11-30T04:03:39.103437Z"
    }
   },
   "outputs": [],
   "source": [
    "# old_lst=[]\n",
    "# interval='minute'\n",
    "# inst_token = 256265\n",
    "# todaydt=datetime.date.today()\n",
    "# hud_ago=todaydt-datetime.timedelta(days=49)\n",
    "# to_date=datetime.date.isoformat(todaydt)\n",
    "# from_date=datetime.date.isoformat(hud_ago)\n",
    "# for i2 in range(60):\n",
    "#     new_lst = kite.historical_data(inst_token, from_date, to_date, interval,continuous=False)\n",
    "#     old_lst = new_lst + old_lst\n",
    "#     todaydt=todaydt-datetime.timedelta(days=50)\n",
    "#     hud_ago=hud_ago-datetime.timedelta(days=50)\n",
    "#     to_date=datetime.date.isoformat(todaydt)\n",
    "#     from_date=datetime.date.isoformat(hud_ago)\n",
    "#     print(len(old_lst))\n",
    "# mydf = pd.DataFrame(old_lst) \n",
    "# mydf"
   ]
  },
  {
   "cell_type": "code",
   "execution_count": 3,
   "metadata": {
    "ExecuteTime": {
     "end_time": "2020-11-30T04:03:48.873659Z",
     "start_time": "2020-11-30T04:03:39.117195Z"
    }
   },
   "outputs": [
    {
     "data": {
      "text/html": [
       "<div>\n",
       "<style scoped>\n",
       "    .dataframe tbody tr th:only-of-type {\n",
       "        vertical-align: middle;\n",
       "    }\n",
       "\n",
       "    .dataframe tbody tr th {\n",
       "        vertical-align: top;\n",
       "    }\n",
       "\n",
       "    .dataframe thead th {\n",
       "        text-align: right;\n",
       "    }\n",
       "</style>\n",
       "<table border=\"1\" class=\"dataframe\">\n",
       "  <thead>\n",
       "    <tr style=\"text-align: right;\">\n",
       "      <th></th>\n",
       "      <th>date</th>\n",
       "      <th>open</th>\n",
       "      <th>high</th>\n",
       "      <th>low</th>\n",
       "      <th>close</th>\n",
       "      <th>volume</th>\n",
       "    </tr>\n",
       "  </thead>\n",
       "  <tbody>\n",
       "    <tr>\n",
       "      <th>0</th>\n",
       "      <td>2015-01-09 09:15:00+05:30</td>\n",
       "      <td>8285.45</td>\n",
       "      <td>8295.90</td>\n",
       "      <td>8285.45</td>\n",
       "      <td>8292.10</td>\n",
       "      <td>0</td>\n",
       "    </tr>\n",
       "    <tr>\n",
       "      <th>1</th>\n",
       "      <td>2015-01-09 09:16:00+05:30</td>\n",
       "      <td>8292.60</td>\n",
       "      <td>8293.60</td>\n",
       "      <td>8287.20</td>\n",
       "      <td>8288.15</td>\n",
       "      <td>0</td>\n",
       "    </tr>\n",
       "    <tr>\n",
       "      <th>2</th>\n",
       "      <td>2015-01-09 09:17:00+05:30</td>\n",
       "      <td>8287.40</td>\n",
       "      <td>8293.90</td>\n",
       "      <td>8287.40</td>\n",
       "      <td>8293.90</td>\n",
       "      <td>0</td>\n",
       "    </tr>\n",
       "    <tr>\n",
       "      <th>3</th>\n",
       "      <td>2015-01-09 09:18:00+05:30</td>\n",
       "      <td>8294.25</td>\n",
       "      <td>8300.65</td>\n",
       "      <td>8293.90</td>\n",
       "      <td>8300.65</td>\n",
       "      <td>0</td>\n",
       "    </tr>\n",
       "    <tr>\n",
       "      <th>4</th>\n",
       "      <td>2015-01-09 09:19:00+05:30</td>\n",
       "      <td>8300.60</td>\n",
       "      <td>8301.30</td>\n",
       "      <td>8298.75</td>\n",
       "      <td>8301.20</td>\n",
       "      <td>0</td>\n",
       "    </tr>\n",
       "    <tr>\n",
       "      <th>...</th>\n",
       "      <td>...</td>\n",
       "      <td>...</td>\n",
       "      <td>...</td>\n",
       "      <td>...</td>\n",
       "      <td>...</td>\n",
       "      <td>...</td>\n",
       "    </tr>\n",
       "    <tr>\n",
       "      <th>544331</th>\n",
       "      <td>2020-11-27 15:25:00+05:30</td>\n",
       "      <td>12970.65</td>\n",
       "      <td>12970.95</td>\n",
       "      <td>12960.15</td>\n",
       "      <td>12960.80</td>\n",
       "      <td>0</td>\n",
       "    </tr>\n",
       "    <tr>\n",
       "      <th>544332</th>\n",
       "      <td>2020-11-27 15:26:00+05:30</td>\n",
       "      <td>12960.05</td>\n",
       "      <td>12960.60</td>\n",
       "      <td>12946.35</td>\n",
       "      <td>12946.85</td>\n",
       "      <td>0</td>\n",
       "    </tr>\n",
       "    <tr>\n",
       "      <th>544333</th>\n",
       "      <td>2020-11-27 15:27:00+05:30</td>\n",
       "      <td>12946.85</td>\n",
       "      <td>12947.00</td>\n",
       "      <td>12927.95</td>\n",
       "      <td>12927.95</td>\n",
       "      <td>0</td>\n",
       "    </tr>\n",
       "    <tr>\n",
       "      <th>544334</th>\n",
       "      <td>2020-11-27 15:28:00+05:30</td>\n",
       "      <td>12928.35</td>\n",
       "      <td>12947.90</td>\n",
       "      <td>12928.35</td>\n",
       "      <td>12937.70</td>\n",
       "      <td>0</td>\n",
       "    </tr>\n",
       "    <tr>\n",
       "      <th>544335</th>\n",
       "      <td>2020-11-27 15:29:00+05:30</td>\n",
       "      <td>12936.40</td>\n",
       "      <td>12948.60</td>\n",
       "      <td>12933.85</td>\n",
       "      <td>12942.85</td>\n",
       "      <td>0</td>\n",
       "    </tr>\n",
       "  </tbody>\n",
       "</table>\n",
       "<p>544336 rows × 6 columns</p>\n",
       "</div>"
      ],
      "text/plain": [
       "                            date      open      high       low     close  \\\n",
       "0      2015-01-09 09:15:00+05:30   8285.45   8295.90   8285.45   8292.10   \n",
       "1      2015-01-09 09:16:00+05:30   8292.60   8293.60   8287.20   8288.15   \n",
       "2      2015-01-09 09:17:00+05:30   8287.40   8293.90   8287.40   8293.90   \n",
       "3      2015-01-09 09:18:00+05:30   8294.25   8300.65   8293.90   8300.65   \n",
       "4      2015-01-09 09:19:00+05:30   8300.60   8301.30   8298.75   8301.20   \n",
       "...                          ...       ...       ...       ...       ...   \n",
       "544331 2020-11-27 15:25:00+05:30  12970.65  12970.95  12960.15  12960.80   \n",
       "544332 2020-11-27 15:26:00+05:30  12960.05  12960.60  12946.35  12946.85   \n",
       "544333 2020-11-27 15:27:00+05:30  12946.85  12947.00  12927.95  12927.95   \n",
       "544334 2020-11-27 15:28:00+05:30  12928.35  12947.90  12928.35  12937.70   \n",
       "544335 2020-11-27 15:29:00+05:30  12936.40  12948.60  12933.85  12942.85   \n",
       "\n",
       "        volume  \n",
       "0            0  \n",
       "1            0  \n",
       "2            0  \n",
       "3            0  \n",
       "4            0  \n",
       "...        ...  \n",
       "544331       0  \n",
       "544332       0  \n",
       "544333       0  \n",
       "544334       0  \n",
       "544335       0  \n",
       "\n",
       "[544336 rows x 6 columns]"
      ]
     },
     "execution_count": 3,
     "metadata": {},
     "output_type": "execute_result"
    }
   ],
   "source": [
    "import joblib\n",
    "# joblib.dump(mydf,'./mydf_nifty_prediction.p')\n",
    "mydf = joblib.load('./mydf_nifty_prediction.p')\n",
    "mydf.fillna(0)\n",
    "mydf"
   ]
  },
  {
   "cell_type": "code",
   "execution_count": 4,
   "metadata": {
    "ExecuteTime": {
     "end_time": "2020-11-30T04:03:48.883992Z",
     "start_time": "2020-11-30T04:03:48.875168Z"
    }
   },
   "outputs": [
    {
     "data": {
      "text/plain": [
       "517120"
      ]
     },
     "execution_count": 4,
     "metadata": {},
     "output_type": "execute_result"
    }
   ],
   "source": [
    "#Create a new dataframe with only the 'Close column\n",
    "# data = df.filter(['Close'])\n",
    "import numpy as np\n",
    "data = mydf.filter(['close'])\n",
    "#Convert the dataframe to a numpy array\n",
    "dataset = data.values\n",
    "#Get the number of rows to train the model on\n",
    "training_data_len = int(np.ceil( len(dataset) * .95 ))\n",
    "\n",
    "training_data_len"
   ]
  },
  {
   "cell_type": "code",
   "execution_count": 5,
   "metadata": {
    "ExecuteTime": {
     "end_time": "2020-11-30T04:03:49.885836Z",
     "start_time": "2020-11-30T04:03:48.887156Z"
    }
   },
   "outputs": [
    {
     "data": {
      "text/plain": [
       "array([[ 8292.1 ],\n",
       "       [ 8288.15],\n",
       "       [ 8293.9 ],\n",
       "       ...,\n",
       "       [12927.95],\n",
       "       [12937.7 ],\n",
       "       [12942.85]])"
      ]
     },
     "execution_count": 5,
     "metadata": {},
     "output_type": "execute_result"
    }
   ],
   "source": [
    "#Scale the data\n",
    "from sklearn.preprocessing import MinMaxScaler\n",
    "\n",
    "scaler = MinMaxScaler(feature_range=(0,1))\n",
    "# scaled_data = scaler.fit_transform(dataset)\n",
    "scaled_data = dataset\n",
    "\n",
    "scaled_data"
   ]
  },
  {
   "cell_type": "code",
   "execution_count": 6,
   "metadata": {
    "ExecuteTime": {
     "end_time": "2020-11-30T04:03:50.584666Z",
     "start_time": "2020-11-30T04:03:49.889168Z"
    },
    "_kg_hide-output": true
   },
   "outputs": [
    {
     "name": "stdout",
     "output_type": "stream",
     "text": [
      "[array([8292.1 , 8288.15, 8293.9 , 8300.65, 8301.2 , 8300.  , 8301.85,\n",
      "       8295.  , 8294.7 , 8301.  , 8295.  , 8289.45, 8293.5 , 8290.4 ,\n",
      "       8294.15, 8289.75, 8289.5 , 8283.1 , 8284.65, 8288.5 , 8285.25,\n",
      "       8285.1 , 8278.85, 8282.55, 8283.45, 8284.95, 8285.6 , 8280.15,\n",
      "       8277.85, 8285.55, 8281.65, 8281.95, 8279.15, 8279.  , 8283.75,\n",
      "       8275.55, 8278.65, 8279.05, 8278.65, 8276.25, 8275.1 , 8280.05,\n",
      "       8283.4 , 8279.35, 8282.  , 8284.35, 8285.05, 8286.1 , 8284.5 ,\n",
      "       8285.5 , 8283.5 , 8285.3 , 8283.  , 8282.85, 8280.3 , 8279.25,\n",
      "       8275.75, 8277.05, 8278.9 , 8281.55])]\n",
      "[8282.7]\n",
      "\n",
      "[array([8292.1 , 8288.15, 8293.9 , 8300.65, 8301.2 , 8300.  , 8301.85,\n",
      "       8295.  , 8294.7 , 8301.  , 8295.  , 8289.45, 8293.5 , 8290.4 ,\n",
      "       8294.15, 8289.75, 8289.5 , 8283.1 , 8284.65, 8288.5 , 8285.25,\n",
      "       8285.1 , 8278.85, 8282.55, 8283.45, 8284.95, 8285.6 , 8280.15,\n",
      "       8277.85, 8285.55, 8281.65, 8281.95, 8279.15, 8279.  , 8283.75,\n",
      "       8275.55, 8278.65, 8279.05, 8278.65, 8276.25, 8275.1 , 8280.05,\n",
      "       8283.4 , 8279.35, 8282.  , 8284.35, 8285.05, 8286.1 , 8284.5 ,\n",
      "       8285.5 , 8283.5 , 8285.3 , 8283.  , 8282.85, 8280.3 , 8279.25,\n",
      "       8275.75, 8277.05, 8278.9 , 8281.55]), array([8288.15, 8293.9 , 8300.65, 8301.2 , 8300.  , 8301.85, 8295.  ,\n",
      "       8294.7 , 8301.  , 8295.  , 8289.45, 8293.5 , 8290.4 , 8294.15,\n",
      "       8289.75, 8289.5 , 8283.1 , 8284.65, 8288.5 , 8285.25, 8285.1 ,\n",
      "       8278.85, 8282.55, 8283.45, 8284.95, 8285.6 , 8280.15, 8277.85,\n",
      "       8285.55, 8281.65, 8281.95, 8279.15, 8279.  , 8283.75, 8275.55,\n",
      "       8278.65, 8279.05, 8278.65, 8276.25, 8275.1 , 8280.05, 8283.4 ,\n",
      "       8279.35, 8282.  , 8284.35, 8285.05, 8286.1 , 8284.5 , 8285.5 ,\n",
      "       8283.5 , 8285.3 , 8283.  , 8282.85, 8280.3 , 8279.25, 8275.75,\n",
      "       8277.05, 8278.9 , 8281.55, 8282.7 ])]\n",
      "[8282.7, 8280.85]\n",
      "\n"
     ]
    }
   ],
   "source": [
    "#Create the training data set\n",
    "#Create the scaled training data set\n",
    "train_data = scaled_data[0:int(training_data_len), :]\n",
    "#Split the data into x_train and y_train data sets\n",
    "x_train = []\n",
    "y_train = []\n",
    "\n",
    "for i in range(60, len(train_data)):\n",
    "    x_train.append(train_data[i-60:i, 0])\n",
    "    y_train.append(train_data[i, 0])\n",
    "    if i<= 61:\n",
    "        print(x_train)\n",
    "        print(y_train)\n",
    "        print()\n",
    "        \n",
    "# Convert the x_train and y_train to numpy arrays \n",
    "x_train, y_train = np.array(x_train), np.array(y_train)\n",
    "\n",
    "#Reshape the data\n",
    "x_train = np.reshape(x_train, (x_train.shape[0], x_train.shape[1], 1))\n",
    "# x_train.shape"
   ]
  },
  {
   "cell_type": "code",
   "execution_count": 7,
   "metadata": {
    "ExecuteTime": {
     "end_time": "2020-11-30T04:03:50.589430Z",
     "start_time": "2020-11-30T04:03:50.587039Z"
    }
   },
   "outputs": [],
   "source": [
    "# from keras.models import Sequential,Model\n",
    "# from keras.layers import Dense, LSTM, Input\n",
    "# import tensorflow\n",
    "\n",
    "# input_shape = (x_train.shape[1], 1)\n",
    "# inputs = Input(shape=input_shape)\n",
    "\n",
    "# x = LSTM(50, return_sequences=True, kernel_initializer='glorot_normal')(inputs)\n",
    "# y = LSTM(50, return_sequences=False, kernel_initializer='glorot_normal')(x)\n",
    "# x = tensorflow.keras.activations.tanh(y)\n",
    "# x =  Dense(25, kernel_initializer='glorot_normal')(x)\n",
    "# x = tensorflow.keras.activations.tanh(x)\n",
    "\n",
    "# outputs = Dense(1, kernel_initializer='glorot_normal')(x)\n",
    "# model = Model(inputs=inputs, outputs=outputs)\n",
    "# model.compile(optimizer='adam', loss='mean_squared_error')\n",
    "# model.summary()"
   ]
  },
  {
   "cell_type": "code",
   "execution_count": 8,
   "metadata": {
    "ExecuteTime": {
     "end_time": "2020-11-30T04:03:50.605087Z",
     "start_time": "2020-11-30T04:03:50.594356Z"
    }
   },
   "outputs": [],
   "source": [
    "# model.fit(x_train, y_train, batch_size=1, epochs=2)"
   ]
  },
  {
   "cell_type": "code",
   "execution_count": 9,
   "metadata": {
    "ExecuteTime": {
     "end_time": "2020-11-30T04:03:50.617626Z",
     "start_time": "2020-11-30T04:03:50.607300Z"
    }
   },
   "outputs": [],
   "source": [
    "# model.save(\"nifty_predict_activation_3\")"
   ]
  },
  {
   "cell_type": "code",
   "execution_count": 10,
   "metadata": {
    "ExecuteTime": {
     "end_time": "2020-11-30T04:03:50.630935Z",
     "start_time": "2020-11-30T04:03:50.619318Z"
    }
   },
   "outputs": [],
   "source": [
    "# from tensorflow import keras\n",
    "# import tensorflow\n",
    "# model = tensorflow.keras.models.load_model('./nifty_predict_activation_2.h5')"
   ]
  },
  {
   "cell_type": "code",
   "execution_count": 11,
   "metadata": {
    "ExecuteTime": {
     "end_time": "2020-11-30T04:03:50.685191Z",
     "start_time": "2020-11-30T04:03:50.633823Z"
    }
   },
   "outputs": [
    {
     "data": {
      "text/plain": [
       "(27216, 60, 1)"
      ]
     },
     "execution_count": 11,
     "metadata": {},
     "output_type": "execute_result"
    }
   ],
   "source": [
    "test_data = scaled_data[training_data_len - 60: , :]\n",
    "x_test = []\n",
    "y_test = dataset[training_data_len:, :]\n",
    "for i in range(60, len(test_data)):\n",
    "    x_test.append(test_data[i-60:i, 0])\n",
    "\n",
    "x_test = np.array(x_test)\n",
    "x_test = np.reshape(x_test, (x_test.shape[0], x_test.shape[1], 1 ))\n",
    "x_test.shape\n",
    "# predictions = model.predict(x_test)\n",
    "# # predictions = scaler.inverse_transform(predictions)\n",
    "# rmse = np.sqrt(np.mean(((predictions - y_test) ** 2)))\n",
    "# rmse"
   ]
  },
  {
   "cell_type": "code",
   "execution_count": 12,
   "metadata": {
    "ExecuteTime": {
     "end_time": "2020-11-30T04:03:51.825074Z",
     "start_time": "2020-11-30T04:03:50.686806Z"
    }
   },
   "outputs": [],
   "source": [
    "import xgboost  as xgb\n",
    "dtrain = xgb.DMatrix(x_train.reshape(517060, 60), label=y_train)\n",
    "dtest = xgb.DMatrix(x_test.reshape(27216, 60), label=y_train)"
   ]
  },
  {
   "cell_type": "code",
   "execution_count": 13,
   "metadata": {
    "ExecuteTime": {
     "end_time": "2020-11-30T04:03:52.318071Z",
     "start_time": "2020-11-30T04:03:51.826420Z"
    }
   },
   "outputs": [
    {
     "data": {
      "text/html": [
       "\n",
       "    <div class=\"bk-root\">\n",
       "        <a href=\"https://bokeh.org\" target=\"_blank\" class=\"bk-logo bk-logo-small bk-logo-notebook\"></a>\n",
       "        <span id=\"1001\">Loading BokehJS ...</span>\n",
       "    </div>"
      ]
     },
     "metadata": {},
     "output_type": "display_data"
    },
    {
     "data": {
      "application/javascript": [
       "\n",
       "(function(root) {\n",
       "  function now() {\n",
       "    return new Date();\n",
       "  }\n",
       "\n",
       "  var force = true;\n",
       "\n",
       "  if (typeof root._bokeh_onload_callbacks === \"undefined\" || force === true) {\n",
       "    root._bokeh_onload_callbacks = [];\n",
       "    root._bokeh_is_loading = undefined;\n",
       "  }\n",
       "\n",
       "  var JS_MIME_TYPE = 'application/javascript';\n",
       "  var HTML_MIME_TYPE = 'text/html';\n",
       "  var EXEC_MIME_TYPE = 'application/vnd.bokehjs_exec.v0+json';\n",
       "  var CLASS_NAME = 'output_bokeh rendered_html';\n",
       "\n",
       "  /**\n",
       "   * Render data to the DOM node\n",
       "   */\n",
       "  function render(props, node) {\n",
       "    var script = document.createElement(\"script\");\n",
       "    node.appendChild(script);\n",
       "  }\n",
       "\n",
       "  /**\n",
       "   * Handle when an output is cleared or removed\n",
       "   */\n",
       "  function handleClearOutput(event, handle) {\n",
       "    var cell = handle.cell;\n",
       "\n",
       "    var id = cell.output_area._bokeh_element_id;\n",
       "    var server_id = cell.output_area._bokeh_server_id;\n",
       "    // Clean up Bokeh references\n",
       "    if (id != null && id in Bokeh.index) {\n",
       "      Bokeh.index[id].model.document.clear();\n",
       "      delete Bokeh.index[id];\n",
       "    }\n",
       "\n",
       "    if (server_id !== undefined) {\n",
       "      // Clean up Bokeh references\n",
       "      var cmd = \"from bokeh.io.state import curstate; print(curstate().uuid_to_server['\" + server_id + \"'].get_sessions()[0].document.roots[0]._id)\";\n",
       "      cell.notebook.kernel.execute(cmd, {\n",
       "        iopub: {\n",
       "          output: function(msg) {\n",
       "            var id = msg.content.text.trim();\n",
       "            if (id in Bokeh.index) {\n",
       "              Bokeh.index[id].model.document.clear();\n",
       "              delete Bokeh.index[id];\n",
       "            }\n",
       "          }\n",
       "        }\n",
       "      });\n",
       "      // Destroy server and session\n",
       "      var cmd = \"import bokeh.io.notebook as ion; ion.destroy_server('\" + server_id + \"')\";\n",
       "      cell.notebook.kernel.execute(cmd);\n",
       "    }\n",
       "  }\n",
       "\n",
       "  /**\n",
       "   * Handle when a new output is added\n",
       "   */\n",
       "  function handleAddOutput(event, handle) {\n",
       "    var output_area = handle.output_area;\n",
       "    var output = handle.output;\n",
       "\n",
       "    // limit handleAddOutput to display_data with EXEC_MIME_TYPE content only\n",
       "    if ((output.output_type != \"display_data\") || (!output.data.hasOwnProperty(EXEC_MIME_TYPE))) {\n",
       "      return\n",
       "    }\n",
       "\n",
       "    var toinsert = output_area.element.find(\".\" + CLASS_NAME.split(' ')[0]);\n",
       "\n",
       "    if (output.metadata[EXEC_MIME_TYPE][\"id\"] !== undefined) {\n",
       "      toinsert[toinsert.length - 1].firstChild.textContent = output.data[JS_MIME_TYPE];\n",
       "      // store reference to embed id on output_area\n",
       "      output_area._bokeh_element_id = output.metadata[EXEC_MIME_TYPE][\"id\"];\n",
       "    }\n",
       "    if (output.metadata[EXEC_MIME_TYPE][\"server_id\"] !== undefined) {\n",
       "      var bk_div = document.createElement(\"div\");\n",
       "      bk_div.innerHTML = output.data[HTML_MIME_TYPE];\n",
       "      var script_attrs = bk_div.children[0].attributes;\n",
       "      for (var i = 0; i < script_attrs.length; i++) {\n",
       "        toinsert[toinsert.length - 1].firstChild.setAttribute(script_attrs[i].name, script_attrs[i].value);\n",
       "        toinsert[toinsert.length - 1].firstChild.textContent = bk_div.children[0].textContent\n",
       "      }\n",
       "      // store reference to server id on output_area\n",
       "      output_area._bokeh_server_id = output.metadata[EXEC_MIME_TYPE][\"server_id\"];\n",
       "    }\n",
       "  }\n",
       "\n",
       "  function register_renderer(events, OutputArea) {\n",
       "\n",
       "    function append_mime(data, metadata, element) {\n",
       "      // create a DOM node to render to\n",
       "      var toinsert = this.create_output_subarea(\n",
       "        metadata,\n",
       "        CLASS_NAME,\n",
       "        EXEC_MIME_TYPE\n",
       "      );\n",
       "      this.keyboard_manager.register_events(toinsert);\n",
       "      // Render to node\n",
       "      var props = {data: data, metadata: metadata[EXEC_MIME_TYPE]};\n",
       "      render(props, toinsert[toinsert.length - 1]);\n",
       "      element.append(toinsert);\n",
       "      return toinsert\n",
       "    }\n",
       "\n",
       "    /* Handle when an output is cleared or removed */\n",
       "    events.on('clear_output.CodeCell', handleClearOutput);\n",
       "    events.on('delete.Cell', handleClearOutput);\n",
       "\n",
       "    /* Handle when a new output is added */\n",
       "    events.on('output_added.OutputArea', handleAddOutput);\n",
       "\n",
       "    /**\n",
       "     * Register the mime type and append_mime function with output_area\n",
       "     */\n",
       "    OutputArea.prototype.register_mime_type(EXEC_MIME_TYPE, append_mime, {\n",
       "      /* Is output safe? */\n",
       "      safe: true,\n",
       "      /* Index of renderer in `output_area.display_order` */\n",
       "      index: 0\n",
       "    });\n",
       "  }\n",
       "\n",
       "  // register the mime type if in Jupyter Notebook environment and previously unregistered\n",
       "  if (root.Jupyter !== undefined) {\n",
       "    var events = require('base/js/events');\n",
       "    var OutputArea = require('notebook/js/outputarea').OutputArea;\n",
       "\n",
       "    if (OutputArea.prototype.mime_types().indexOf(EXEC_MIME_TYPE) == -1) {\n",
       "      register_renderer(events, OutputArea);\n",
       "    }\n",
       "  }\n",
       "\n",
       "  \n",
       "  if (typeof (root._bokeh_timeout) === \"undefined\" || force === true) {\n",
       "    root._bokeh_timeout = Date.now() + 5000;\n",
       "    root._bokeh_failed_load = false;\n",
       "  }\n",
       "\n",
       "  var NB_LOAD_WARNING = {'data': {'text/html':\n",
       "     \"<div style='background-color: #fdd'>\\n\"+\n",
       "     \"<p>\\n\"+\n",
       "     \"BokehJS does not appear to have successfully loaded. If loading BokehJS from CDN, this \\n\"+\n",
       "     \"may be due to a slow or bad network connection. Possible fixes:\\n\"+\n",
       "     \"</p>\\n\"+\n",
       "     \"<ul>\\n\"+\n",
       "     \"<li>re-rerun `output_notebook()` to attempt to load from CDN again, or</li>\\n\"+\n",
       "     \"<li>use INLINE resources instead, as so:</li>\\n\"+\n",
       "     \"</ul>\\n\"+\n",
       "     \"<code>\\n\"+\n",
       "     \"from bokeh.resources import INLINE\\n\"+\n",
       "     \"output_notebook(resources=INLINE)\\n\"+\n",
       "     \"</code>\\n\"+\n",
       "     \"</div>\"}};\n",
       "\n",
       "  function display_loaded() {\n",
       "    var el = document.getElementById(\"1001\");\n",
       "    if (el != null) {\n",
       "      el.textContent = \"BokehJS is loading...\";\n",
       "    }\n",
       "    if (root.Bokeh !== undefined) {\n",
       "      if (el != null) {\n",
       "        el.textContent = \"BokehJS \" + root.Bokeh.version + \" successfully loaded.\";\n",
       "      }\n",
       "    } else if (Date.now() < root._bokeh_timeout) {\n",
       "      setTimeout(display_loaded, 100)\n",
       "    }\n",
       "  }\n",
       "\n",
       "\n",
       "  function run_callbacks() {\n",
       "    try {\n",
       "      root._bokeh_onload_callbacks.forEach(function(callback) {\n",
       "        if (callback != null)\n",
       "          callback();\n",
       "      });\n",
       "    } finally {\n",
       "      delete root._bokeh_onload_callbacks\n",
       "    }\n",
       "    console.debug(\"Bokeh: all callbacks have finished\");\n",
       "  }\n",
       "\n",
       "  function load_libs(css_urls, js_urls, callback) {\n",
       "    if (css_urls == null) css_urls = [];\n",
       "    if (js_urls == null) js_urls = [];\n",
       "\n",
       "    root._bokeh_onload_callbacks.push(callback);\n",
       "    if (root._bokeh_is_loading > 0) {\n",
       "      console.debug(\"Bokeh: BokehJS is being loaded, scheduling callback at\", now());\n",
       "      return null;\n",
       "    }\n",
       "    if (js_urls == null || js_urls.length === 0) {\n",
       "      run_callbacks();\n",
       "      return null;\n",
       "    }\n",
       "    console.debug(\"Bokeh: BokehJS not loaded, scheduling load and callback at\", now());\n",
       "    root._bokeh_is_loading = css_urls.length + js_urls.length;\n",
       "\n",
       "    function on_load() {\n",
       "      root._bokeh_is_loading--;\n",
       "      if (root._bokeh_is_loading === 0) {\n",
       "        console.debug(\"Bokeh: all BokehJS libraries/stylesheets loaded\");\n",
       "        run_callbacks()\n",
       "      }\n",
       "    }\n",
       "\n",
       "    function on_error() {\n",
       "      console.error(\"failed to load \" + url);\n",
       "    }\n",
       "\n",
       "    for (var i = 0; i < css_urls.length; i++) {\n",
       "      var url = css_urls[i];\n",
       "      const element = document.createElement(\"link\");\n",
       "      element.onload = on_load;\n",
       "      element.onerror = on_error;\n",
       "      element.rel = \"stylesheet\";\n",
       "      element.type = \"text/css\";\n",
       "      element.href = url;\n",
       "      console.debug(\"Bokeh: injecting link tag for BokehJS stylesheet: \", url);\n",
       "      document.body.appendChild(element);\n",
       "    }\n",
       "\n",
       "    const hashes = {\"https://cdn.bokeh.org/bokeh/release/bokeh-2.2.3.min.js\": \"T2yuo9Oe71Cz/I4X9Ac5+gpEa5a8PpJCDlqKYO0CfAuEszu1JrXLl8YugMqYe3sM\", \"https://cdn.bokeh.org/bokeh/release/bokeh-widgets-2.2.3.min.js\": \"98GDGJ0kOMCUMUePhksaQ/GYgB3+NH9h996V88sh3aOiUNX3N+fLXAtry6xctSZ6\", \"https://cdn.bokeh.org/bokeh/release/bokeh-tables-2.2.3.min.js\": \"89bArO+nlbP3sgakeHjCo1JYxYR5wufVgA3IbUvDY+K7w4zyxJqssu7wVnfeKCq8\"};\n",
       "\n",
       "    for (var i = 0; i < js_urls.length; i++) {\n",
       "      var url = js_urls[i];\n",
       "      var element = document.createElement('script');\n",
       "      element.onload = on_load;\n",
       "      element.onerror = on_error;\n",
       "      element.async = false;\n",
       "      element.src = url;\n",
       "      if (url in hashes) {\n",
       "        element.crossOrigin = \"anonymous\";\n",
       "        element.integrity = \"sha384-\" + hashes[url];\n",
       "      }\n",
       "      console.debug(\"Bokeh: injecting script tag for BokehJS library: \", url);\n",
       "      document.head.appendChild(element);\n",
       "    }\n",
       "  };\n",
       "\n",
       "  function inject_raw_css(css) {\n",
       "    const element = document.createElement(\"style\");\n",
       "    element.appendChild(document.createTextNode(css));\n",
       "    document.body.appendChild(element);\n",
       "  }\n",
       "\n",
       "  \n",
       "  var js_urls = [\"https://cdn.bokeh.org/bokeh/release/bokeh-2.2.3.min.js\", \"https://cdn.bokeh.org/bokeh/release/bokeh-widgets-2.2.3.min.js\", \"https://cdn.bokeh.org/bokeh/release/bokeh-tables-2.2.3.min.js\"];\n",
       "  var css_urls = [];\n",
       "  \n",
       "\n",
       "  var inline_js = [\n",
       "    function(Bokeh) {\n",
       "      Bokeh.set_log_level(\"info\");\n",
       "    },\n",
       "    function(Bokeh) {\n",
       "    \n",
       "    \n",
       "    }\n",
       "  ];\n",
       "\n",
       "  function run_inline_js() {\n",
       "    \n",
       "    if (root.Bokeh !== undefined || force === true) {\n",
       "      \n",
       "    for (var i = 0; i < inline_js.length; i++) {\n",
       "      inline_js[i].call(root, root.Bokeh);\n",
       "    }\n",
       "    if (force === true) {\n",
       "        display_loaded();\n",
       "      }} else if (Date.now() < root._bokeh_timeout) {\n",
       "      setTimeout(run_inline_js, 100);\n",
       "    } else if (!root._bokeh_failed_load) {\n",
       "      console.log(\"Bokeh: BokehJS failed to load within specified timeout.\");\n",
       "      root._bokeh_failed_load = true;\n",
       "    } else if (force !== true) {\n",
       "      var cell = $(document.getElementById(\"1001\")).parents('.cell').data().cell;\n",
       "      cell.output_area.append_execute_result(NB_LOAD_WARNING)\n",
       "    }\n",
       "\n",
       "  }\n",
       "\n",
       "  if (root._bokeh_is_loading === 0) {\n",
       "    console.debug(\"Bokeh: BokehJS loaded, going straight to plotting\");\n",
       "    run_inline_js();\n",
       "  } else {\n",
       "    load_libs(css_urls, js_urls, function() {\n",
       "      console.debug(\"Bokeh: BokehJS plotting callback run at\", now());\n",
       "      run_inline_js();\n",
       "    });\n",
       "  }\n",
       "}(window));"
      ],
      "application/vnd.bokehjs_load.v0+json": "\n(function(root) {\n  function now() {\n    return new Date();\n  }\n\n  var force = true;\n\n  if (typeof root._bokeh_onload_callbacks === \"undefined\" || force === true) {\n    root._bokeh_onload_callbacks = [];\n    root._bokeh_is_loading = undefined;\n  }\n\n  \n\n  \n  if (typeof (root._bokeh_timeout) === \"undefined\" || force === true) {\n    root._bokeh_timeout = Date.now() + 5000;\n    root._bokeh_failed_load = false;\n  }\n\n  var NB_LOAD_WARNING = {'data': {'text/html':\n     \"<div style='background-color: #fdd'>\\n\"+\n     \"<p>\\n\"+\n     \"BokehJS does not appear to have successfully loaded. If loading BokehJS from CDN, this \\n\"+\n     \"may be due to a slow or bad network connection. Possible fixes:\\n\"+\n     \"</p>\\n\"+\n     \"<ul>\\n\"+\n     \"<li>re-rerun `output_notebook()` to attempt to load from CDN again, or</li>\\n\"+\n     \"<li>use INLINE resources instead, as so:</li>\\n\"+\n     \"</ul>\\n\"+\n     \"<code>\\n\"+\n     \"from bokeh.resources import INLINE\\n\"+\n     \"output_notebook(resources=INLINE)\\n\"+\n     \"</code>\\n\"+\n     \"</div>\"}};\n\n  function display_loaded() {\n    var el = document.getElementById(\"1001\");\n    if (el != null) {\n      el.textContent = \"BokehJS is loading...\";\n    }\n    if (root.Bokeh !== undefined) {\n      if (el != null) {\n        el.textContent = \"BokehJS \" + root.Bokeh.version + \" successfully loaded.\";\n      }\n    } else if (Date.now() < root._bokeh_timeout) {\n      setTimeout(display_loaded, 100)\n    }\n  }\n\n\n  function run_callbacks() {\n    try {\n      root._bokeh_onload_callbacks.forEach(function(callback) {\n        if (callback != null)\n          callback();\n      });\n    } finally {\n      delete root._bokeh_onload_callbacks\n    }\n    console.debug(\"Bokeh: all callbacks have finished\");\n  }\n\n  function load_libs(css_urls, js_urls, callback) {\n    if (css_urls == null) css_urls = [];\n    if (js_urls == null) js_urls = [];\n\n    root._bokeh_onload_callbacks.push(callback);\n    if (root._bokeh_is_loading > 0) {\n      console.debug(\"Bokeh: BokehJS is being loaded, scheduling callback at\", now());\n      return null;\n    }\n    if (js_urls == null || js_urls.length === 0) {\n      run_callbacks();\n      return null;\n    }\n    console.debug(\"Bokeh: BokehJS not loaded, scheduling load and callback at\", now());\n    root._bokeh_is_loading = css_urls.length + js_urls.length;\n\n    function on_load() {\n      root._bokeh_is_loading--;\n      if (root._bokeh_is_loading === 0) {\n        console.debug(\"Bokeh: all BokehJS libraries/stylesheets loaded\");\n        run_callbacks()\n      }\n    }\n\n    function on_error() {\n      console.error(\"failed to load \" + url);\n    }\n\n    for (var i = 0; i < css_urls.length; i++) {\n      var url = css_urls[i];\n      const element = document.createElement(\"link\");\n      element.onload = on_load;\n      element.onerror = on_error;\n      element.rel = \"stylesheet\";\n      element.type = \"text/css\";\n      element.href = url;\n      console.debug(\"Bokeh: injecting link tag for BokehJS stylesheet: \", url);\n      document.body.appendChild(element);\n    }\n\n    const hashes = {\"https://cdn.bokeh.org/bokeh/release/bokeh-2.2.3.min.js\": \"T2yuo9Oe71Cz/I4X9Ac5+gpEa5a8PpJCDlqKYO0CfAuEszu1JrXLl8YugMqYe3sM\", \"https://cdn.bokeh.org/bokeh/release/bokeh-widgets-2.2.3.min.js\": \"98GDGJ0kOMCUMUePhksaQ/GYgB3+NH9h996V88sh3aOiUNX3N+fLXAtry6xctSZ6\", \"https://cdn.bokeh.org/bokeh/release/bokeh-tables-2.2.3.min.js\": \"89bArO+nlbP3sgakeHjCo1JYxYR5wufVgA3IbUvDY+K7w4zyxJqssu7wVnfeKCq8\"};\n\n    for (var i = 0; i < js_urls.length; i++) {\n      var url = js_urls[i];\n      var element = document.createElement('script');\n      element.onload = on_load;\n      element.onerror = on_error;\n      element.async = false;\n      element.src = url;\n      if (url in hashes) {\n        element.crossOrigin = \"anonymous\";\n        element.integrity = \"sha384-\" + hashes[url];\n      }\n      console.debug(\"Bokeh: injecting script tag for BokehJS library: \", url);\n      document.head.appendChild(element);\n    }\n  };\n\n  function inject_raw_css(css) {\n    const element = document.createElement(\"style\");\n    element.appendChild(document.createTextNode(css));\n    document.body.appendChild(element);\n  }\n\n  \n  var js_urls = [\"https://cdn.bokeh.org/bokeh/release/bokeh-2.2.3.min.js\", \"https://cdn.bokeh.org/bokeh/release/bokeh-widgets-2.2.3.min.js\", \"https://cdn.bokeh.org/bokeh/release/bokeh-tables-2.2.3.min.js\"];\n  var css_urls = [];\n  \n\n  var inline_js = [\n    function(Bokeh) {\n      Bokeh.set_log_level(\"info\");\n    },\n    function(Bokeh) {\n    \n    \n    }\n  ];\n\n  function run_inline_js() {\n    \n    if (root.Bokeh !== undefined || force === true) {\n      \n    for (var i = 0; i < inline_js.length; i++) {\n      inline_js[i].call(root, root.Bokeh);\n    }\n    if (force === true) {\n        display_loaded();\n      }} else if (Date.now() < root._bokeh_timeout) {\n      setTimeout(run_inline_js, 100);\n    } else if (!root._bokeh_failed_load) {\n      console.log(\"Bokeh: BokehJS failed to load within specified timeout.\");\n      root._bokeh_failed_load = true;\n    } else if (force !== true) {\n      var cell = $(document.getElementById(\"1001\")).parents('.cell').data().cell;\n      cell.output_area.append_execute_result(NB_LOAD_WARNING)\n    }\n\n  }\n\n  if (root._bokeh_is_loading === 0) {\n    console.debug(\"Bokeh: BokehJS loaded, going straight to plotting\");\n    run_inline_js();\n  } else {\n    load_libs(css_urls, js_urls, function() {\n      console.debug(\"Bokeh: BokehJS plotting callback run at\", now());\n      run_inline_js();\n    });\n  }\n}(window));"
     },
     "metadata": {},
     "output_type": "display_data"
    }
   ],
   "source": [
    "import pandas as pd\n",
    "import numpy as np\n",
    "from datetime import datetime\n",
    "import matplotlib.pyplot as plt\n",
    "%matplotlib inline\n",
    "# from pandas_datareader.data import DataReader\n",
    "import pandas as pd\n",
    "import numpy as np\n",
    "from datetime import datetime\n",
    "import matplotlib.pyplot as plt\n",
    "pd.set_option('plotting.backend', 'pandas_bokeh')\n",
    "import pandas_bokeh\n",
    "pandas_bokeh.output_notebook()"
   ]
  },
  {
   "cell_type": "code",
   "execution_count": null,
   "metadata": {
    "ExecuteTime": {
     "start_time": "2020-11-30T04:03:39.145Z"
    }
   },
   "outputs": [
    {
     "name": "stdout",
     "output_type": "stream",
     "text": [
      "[09:33:54] WARNING: ../src/learner.cc:516: \n",
      "Parameters: { n_estimators } might not be used.\n",
      "\n",
      "  This may not be accurate due to some parameters are only used in language bindings but\n",
      "  passed down to XGBoost core.  Or some parameters are not used but slip through this\n",
      "  verification. Please open an issue if you find above cases.\n",
      "\n",
      "\n",
      "[09:33:55] WARNING: ../src/learner.cc:516: \n",
      "Parameters: { n_estimators } might not be used.\n",
      "\n",
      "  This may not be accurate due to some parameters are only used in language bindings but\n",
      "  passed down to XGBoost core.  Or some parameters are not used but slip through this\n",
      "  verification. Please open an issue if you find above cases.\n",
      "\n",
      "\n",
      "[09:33:56] WARNING: ../src/learner.cc:516: \n",
      "Parameters: { n_estimators } might not be used.\n",
      "\n",
      "  This may not be accurate due to some parameters are only used in language bindings but\n",
      "  passed down to XGBoost core.  Or some parameters are not used but slip through this\n",
      "  verification. Please open an issue if you find above cases.\n",
      "\n",
      "\n",
      "[09:33:57] WARNING: ../src/learner.cc:516: \n",
      "Parameters: { n_estimators } might not be used.\n",
      "\n",
      "  This may not be accurate due to some parameters are only used in language bindings but\n",
      "  passed down to XGBoost core.  Or some parameters are not used but slip through this\n",
      "  verification. Please open an issue if you find above cases.\n",
      "\n",
      "\n",
      "[09:33:58] WARNING: ../src/learner.cc:516: \n",
      "Parameters: { n_estimators } might not be used.\n",
      "\n",
      "  This may not be accurate due to some parameters are only used in language bindings but\n",
      "  passed down to XGBoost core.  Or some parameters are not used but slip through this\n",
      "  verification. Please open an issue if you find above cases.\n",
      "\n",
      "\n"
     ]
    }
   ],
   "source": [
    "#Importing necessary libraries\n",
    "from bayes_opt import BayesianOptimization\n",
    "import xgboost as xgb\n",
    "from sklearn.metrics import mean_squared_error\n",
    "import math\n",
    "from bayes_opt.logger import JSONLogger\n",
    "from bayes_opt.event import Events\n",
    "from bayes_opt.util import load_logs\n",
    "#Converting the dataframe into XGBoost’s Dmatrix object\n",
    "# dtrain = xgb.DMatrix(text_tfidf, label=clean_data_val['author'])\n",
    "\n",
    "#Bayesian Optimization function for xgboost\n",
    "#specify the parameters you want to tune as keyword arguments\n",
    "def bo_tune_xgb(max_depth, gamma, n_estimators ,learning_rate):\n",
    "    \n",
    "    global dtrain\n",
    "    params = {'max_depth': int(max_depth),\n",
    "              'gamma': gamma,\n",
    "              'n_estimators': int(n_estimators),\n",
    "              'learning_rate':learning_rate,\n",
    "              'subsample': 0.8,\n",
    "              'eta': 0.1,\n",
    "              'tree_method':'hist',\n",
    "              'gpu_id':-1,\n",
    "              'objective':'reg:squarederror',\n",
    "              'booster': 'gbtree',\n",
    "              'eval_metric': 'rmse'}\n",
    "    \n",
    "    #Cross validating with the specified parameters in 5 folds and 70 iterations\n",
    "    cv_result = xgb.cv(params, dtrain, num_boost_round=70, nfold=5)\n",
    "    #Return the negative RMSE\n",
    "    last_res = -1.0 * cv_result['test-rmse-mean'].iloc[-1]\n",
    "    \n",
    "    is_nan = math.isnan(last_res)\n",
    "    \n",
    "    if(is_nan):\n",
    "        last_res = -10000\n",
    "    if(math.isinf(last_res)):\n",
    "        last_res = -100000\n",
    "    \n",
    "    return last_res\n",
    "\n",
    "#Invoking the Bayesian Optimizer with the specified parameters to tune\n",
    "xgb_bo = BayesianOptimization(bo_tune_xgb,pbounds={'max_depth': (3, 25),\n",
    "                                             'gamma': (0, 1),\n",
    "                                             'learning_rate':(0,1),\n",
    "                                             'n_estimators':(100,200)\n",
    "                                            })\n",
    "\n",
    "# load_logs(xgb_bo, logs=[\"./logs.json\"]);\n",
    "\n",
    "logger = JSONLogger(path=\"./logs.json\")\n",
    "xgb_bo.subscribe(Events.OPTIMIZATION_STEP, logger)\n",
    "\n",
    "#performing Bayesian optimization for 10 iterations with 12 steps of random exploration with an #acquisition function of expected improvement\n",
    "xgb_bo.maximize(n_iter=50, init_points=50, acq='ei')"
   ]
  },
  {
   "cell_type": "code",
   "execution_count": null,
   "metadata": {
    "ExecuteTime": {
     "start_time": "2020-11-30T04:03:39.147Z"
    }
   },
   "outputs": [],
   "source": [
    "#Extracting the best parameters\n",
    "params = xgb_bo.max['params']\n",
    "\n",
    "#Converting the max_depth and n_estimator values from float to int\n",
    "params['max_depth']= int(params['max_depth'])\n",
    "params['n_estimators']= int(params['n_estimators'])\n",
    "params\n",
    "\n",
    "print(params)"
   ]
  },
  {
   "cell_type": "code",
   "execution_count": null,
   "metadata": {
    "ExecuteTime": {
     "start_time": "2020-11-30T04:03:39.149Z"
    }
   },
   "outputs": [],
   "source": [
    "#Initialize an XGBClassifier with the tuned parameters and fit the training data\n",
    "from xgboost import XGBClassifier,XGBRegressor\n",
    "reg2 = XGBRegressor(**params).fit(x_train.reshape(517060, 60),y_train)"
   ]
  },
  {
   "cell_type": "code",
   "execution_count": null,
   "metadata": {
    "ExecuteTime": {
     "start_time": "2020-11-30T04:03:39.151Z"
    }
   },
   "outputs": [],
   "source": [
    "reg2.get_params"
   ]
  },
  {
   "cell_type": "code",
   "execution_count": null,
   "metadata": {
    "ExecuteTime": {
     "start_time": "2020-11-30T04:03:39.154Z"
    }
   },
   "outputs": [],
   "source": [
    "# params = {'max_depth': 57,\n",
    "#           'gamma': 2.991,\n",
    "#           'n_estimators': 424,\n",
    "#           'learning_rate':0.9935,\n",
    "          \n",
    "#           'subsample': 0.8,\n",
    "# #               'eta': 0.1,\n",
    "#           'tree_method':'hist',\n",
    "#           'gpu_id':-1,\n",
    "#           'objective':'reg:squarederror',\n",
    "#           'booster': 'gbtree',\n",
    "#           'eval_metric': 'rmse'}"
   ]
  },
  {
   "cell_type": "code",
   "execution_count": null,
   "metadata": {},
   "outputs": [],
   "source": []
  },
  {
   "cell_type": "code",
   "execution_count": null,
   "metadata": {},
   "outputs": [],
   "source": []
  },
  {
   "cell_type": "code",
   "execution_count": null,
   "metadata": {
    "ExecuteTime": {
     "start_time": "2020-11-30T04:03:39.161Z"
    }
   },
   "outputs": [],
   "source": [
    "# Plot Predictions\n",
    "import time\n",
    "for i in range(1,5):\n",
    "    predicted_list = []\n",
    "    n_day = i\n",
    "    ip_val = x_test[-((n_day*60)+1)].reshape(1,60,1)\n",
    "    my_list = x_test[-((n_day*60)+1)].tolist()\n",
    "    for i in range(60):\n",
    "    #     print(i)\n",
    "    #     my_pred = model.predict(ip_val)\n",
    "    #     inv_tr = scaler.inverse_transform(my_pred)\n",
    "    #     predicted_list.append(inv_tr[0][0])\n",
    "\n",
    "        resop = reg2.predict(x_test[i].reshape(1,60))\n",
    "        predicted_list.append(resop[0]+700)\n",
    "\n",
    "        my_list.append([resop[0]+700])\n",
    "        my_list.pop(0)\n",
    "        my_arr = np.array(my_list)\n",
    "        ip_val = my_arr.reshape(1,60,1)\n",
    "        ip_val\n",
    "\n",
    "    predicted_list\n",
    "\n",
    "    pred_df = pd.DataFrame(predicted_list)\n",
    "    true_df = pd.DataFrame(y_test[-((n_day*60)+1):-(((n_day-1)*60)+1)].reshape(1,60)[0].tolist())\n",
    "\n",
    "    mer_df = pd.concat([true_df,pred_df],axis=1,ignore_index=True)\n",
    "    mer_df.plot()\n",
    "    time.sleep(1)"
   ]
  },
  {
   "cell_type": "code",
   "execution_count": null,
   "metadata": {
    "ExecuteTime": {
     "start_time": "2020-11-30T04:03:39.164Z"
    }
   },
   "outputs": [],
   "source": [
    "mer_df.head()"
   ]
  }
 ],
 "metadata": {
  "kernelspec": {
   "display_name": "Python 3",
   "language": "python",
   "name": "python3"
  },
  "language_info": {
   "codemirror_mode": {
    "name": "ipython",
    "version": 3
   },
   "file_extension": ".py",
   "mimetype": "text/x-python",
   "name": "python",
   "nbconvert_exporter": "python",
   "pygments_lexer": "ipython3",
   "version": "3.8.6"
  },
  "varInspector": {
   "cols": {
    "lenName": 16,
    "lenType": 16,
    "lenVar": 40
   },
   "kernels_config": {
    "python": {
     "delete_cmd_postfix": "",
     "delete_cmd_prefix": "del ",
     "library": "var_list.py",
     "varRefreshCmd": "print(var_dic_list())"
    },
    "r": {
     "delete_cmd_postfix": ") ",
     "delete_cmd_prefix": "rm(",
     "library": "var_list.r",
     "varRefreshCmd": "cat(var_dic_list()) "
    }
   },
   "types_to_exclude": [
    "module",
    "function",
    "builtin_function_or_method",
    "instance",
    "_Feature"
   ],
   "window_display": false
  }
 },
 "nbformat": 4,
 "nbformat_minor": 4
}
