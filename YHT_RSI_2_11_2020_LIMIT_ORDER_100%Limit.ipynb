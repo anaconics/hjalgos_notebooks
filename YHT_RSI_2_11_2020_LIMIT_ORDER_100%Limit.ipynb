{
 "cells": [
  {
   "cell_type": "code",
   "execution_count": 1,
   "metadata": {
    "ExecuteTime": {
     "end_time": "2020-12-17T06:51:44.901367Z",
     "start_time": "2020-12-17T06:50:50.975042Z"
    },
    "execution": {
     "iopub.execute_input": "2020-10-27T17:34:20.309Z",
     "iopub.status.busy": "2020-10-27T17:34:20.299Z",
     "iopub.status.idle": "2020-10-27T17:35:57.730Z",
     "shell.execute_reply": "2020-10-27T17:35:57.845Z"
    }
   },
   "outputs": [
    {
     "name": "stderr",
     "output_type": "stream",
     "text": [
      "/home/hemang/.local/lib/python3.8/site-packages/requests/__init__.py:89: RequestsDependencyWarning: urllib3 (1.26.2) or chardet (4.0.0) doesn't match a supported version!\n",
      "  warnings.warn(\"urllib3 ({}) or chardet ({}) doesn't match a supported \"\n"
     ]
    },
    {
     "name": "stdout",
     "output_type": "stream",
     "text": [
      "access token : lMk10RJihpTnYTinSDcdZ2aiL5HyybFj\n",
      "request token : AJjFfXzrnyMbGL7my5dhILTttVQ60fIH\n"
     ]
    },
    {
     "data": {
      "text/plain": [
       "1"
      ]
     },
     "execution_count": 1,
     "metadata": {},
     "output_type": "execute_result"
    }
   ],
   "source": [
    "########## auto login ############\n",
    "import login\n",
    "from login import *\n",
    "import pandas as pd\n",
    "from loguru import logger\n",
    "logger.add(\"./logs/RSI_logs_{time}.log\")\n",
    "#kite.margins(segment = 'equity')['available']['live_balance']"
   ]
  },
  {
   "cell_type": "code",
   "execution_count": 2,
   "metadata": {},
   "outputs": [],
   "source": [
    "# check pending order list comparison\n",
    "# pending Q - my Q = limit set q\n",
    "# dip out of 100%"
   ]
  },
  {
   "cell_type": "code",
   "execution_count": 37,
   "metadata": {
    "execution": {
     "iopub.execute_input": "2020-10-27T17:35:57.783Z",
     "iopub.status.busy": "2020-10-27T17:35:57.768Z",
     "iopub.status.idle": "2020-10-27T17:35:57.824Z",
     "shell.execute_reply": "2020-10-27T17:35:57.852Z"
    }
   },
   "outputs": [
    {
     "name": "stderr",
     "output_type": "stream",
     "text": [
      "2020-11-02 01:13:39.014 | DEBUG    | __main__:<module>:1 - Parameters : \n",
      "2020-11-02 01:13:39.017 | DEBUG    | __main__:<module>:24 - init_qty : 3\n",
      "2020-11-02 01:13:39.019 | DEBUG    | __main__:<module>:25 - extended_quant : 1\n",
      "2020-11-02 01:13:39.021 | DEBUG    | __main__:<module>:26 - stepmultiseries : [2, 4, 7, 12, 15, 20, 30]\n",
      "2020-11-02 01:13:39.022 | DEBUG    | __main__:<module>:27 - basepricediffmulti : 0.01\n",
      "2020-11-02 01:13:39.023 | DEBUG    | __main__:<module>:28 - symbol_ip : USDINR20NOVFUT\n",
      "2020-11-02 01:13:39.024 | DEBUG    | __main__:<module>:29 - inst_token : 780803\n",
      "2020-11-02 01:13:39.026 | DEBUG    | __main__:<module>:30 - order_type : NRML\n"
     ]
    }
   ],
   "source": [
    "logger.debug(\"Parameters : \")\n",
    "#### NEW VERSION #####################################################\n",
    "init_qty = 3\n",
    "extended_quant = 1\n",
    "stepmultiseries = [2, 4, 7, 12, 15, 20, 30]\n",
    "basepricediffmulti = 0.0100\n",
    "symbol_ip = 'USDINR20NOVFUT'  # USDINR20OCTFUT / GBPINR20OCTFUT / EURINR20OCTFUT / JPYINR20OCTFUT\n",
    "inst_token = 780803  # 690691(USD) / 490755(GBP) / 278019(EUR) / 690435(JPY)\n",
    "order_type = 'NRML'\n",
    "rsi_interval = '30minute'\n",
    "max_rsi = 75\n",
    "min_rsi = 25\n",
    "days_ago=1\n",
    "#######################################################################\n",
    "# · minute\n",
    "# · 3minute\n",
    "# · 5minute\n",
    "# · #10minute\n",
    "# · #15minute\n",
    "# · #30minute\n",
    "# · #60minute\n",
    "# · #day\n",
    "#######################################################################\n",
    "logger.debug(\"init_qty : \" + str(init_qty))\n",
    "logger.debug(\"extended_quant : \" + str(extended_quant))\n",
    "logger.debug(\"stepmultiseries : \" + str(stepmultiseries))\n",
    "logger.debug(\"basepricediffmulti : \" + str(basepricediffmulti))\n",
    "logger.debug(\"symbol_ip : \" + str(symbol_ip))\n",
    "logger.debug(\"inst_token : \" + str(inst_token))\n",
    "logger.debug(\"order_type : \" + str(order_type))"
   ]
  },
  {
   "cell_type": "code",
   "execution_count": 43,
   "metadata": {},
   "outputs": [
    {
     "name": "stdout",
     "output_type": "stream",
     "text": [
      "Today Date : 2020-11-02\n",
      "yest_date Date : 2020-10-29 00:00:00+05:30\n"
     ]
    },
    {
     "data": {
      "text/plain": [
       "{'upper_lim': 75.1575, 'lower_lim': 74.0525}"
      ]
     },
     "execution_count": 43,
     "metadata": {},
     "output_type": "execute_result"
    }
   ],
   "source": [
    "def get_100_range():\n",
    "    interval='day'\n",
    "    todaydt=datetime.date.today()\n",
    "    hud_ago=todaydt-datetime.timedelta(days=10)\n",
    "    to_date=datetime.date.isoformat(todaydt)\n",
    "\n",
    "    from_date=datetime.date.isoformat(hud_ago)\n",
    "    data = kite.historical_data(inst_token, from_date, to_date, interval, continuous=False)\n",
    "\n",
    "    import pandas as pd\n",
    "    mydata = pd.DataFrame(data)\n",
    "    from datetime import date\n",
    "    today = date.today()\n",
    "    \n",
    "    yest_date =  mydata[-days_ago:][['date']].to_numpy()[0][0]\n",
    "    last_close =  round(mydata[-days_ago:][['close']].to_numpy()[0][0],4)\n",
    "    last_high =  round(mydata[-days_ago:][['high']].to_numpy()[0][0],4)\n",
    "    last_low =  round(mydata[-days_ago:][['low']].to_numpy()[0][0],4)\n",
    "    hl_range = round(last_high - last_low,4)\n",
    "    upper_lim = round(last_close + hl_range,4)\n",
    "    lower_lim = round(last_close - hl_range,4)\n",
    "    print('Today Date : '+str(today))\n",
    "    print('yest_date Date : '+str(yest_date))\n",
    "    return {'upper_lim':upper_lim,'lower_lim':lower_lim}\n",
    "\n",
    "limits = get_100_range()\n",
    "limits"
   ]
  },
  {
   "cell_type": "code",
   "execution_count": 4,
   "metadata": {},
   "outputs": [],
   "source": [
    "######## CHECK QTY #############\n",
    "myquantity = 0\n",
    "def getquant():\n",
    "    logger.debug(\"getquant : \")\n",
    "    global myquantity, order_type, symbol_ip\n",
    "    allpos = kite.positions()['net']\n",
    "    for i in range(len(allpos)):\n",
    "        if (allpos[i]['tradingsymbol'] == symbol_ip\n",
    "                and allpos[i]['product'] == order_type):\n",
    "            myquantity = allpos[i]['quantity']\n",
    "            print('My Quantity : ' + str(allpos[i]['quantity']))\n",
    "    logger.debug(\"My Quantity : \" + str(myquantity))\n",
    "    return myquantity\n",
    "# getquant()"
   ]
  },
  {
   "cell_type": "code",
   "execution_count": 5,
   "metadata": {},
   "outputs": [],
   "source": [
    "def get_completed_orders():\n",
    "    global order_type\n",
    "    logger.debug(\"get_completed_orders : \")\n",
    "    myorders = kite.orders()\n",
    "    completed_orders = []\n",
    "    for i in range(len(myorders)):\n",
    "        if (myorders[i]['status'] == 'COMPLETE'\n",
    "                and myorders[i]['tradingsymbol'] == symbol_ip\n",
    "                and myorders[i]['product'] == order_type):\n",
    "            completed_orders.append(myorders[i])\n",
    "    if (len(completed_orders) > 1):\n",
    "        completed_orders[-1]['average_price']\n",
    "        logger.debug(\"last_completed_orders : \" + str(completed_orders[-1]))\n",
    "        logger.debug(\"last_completed_orders_price : \" +\n",
    "                     str(completed_orders[-1]['average_price']))\n",
    "    else:\n",
    "        logger.debug(\"completed_orders : \" + str(completed_orders))\n",
    "    return completed_orders\n",
    "# get_completed_orders()"
   ]
  },
  {
   "cell_type": "code",
   "execution_count": 6,
   "metadata": {},
   "outputs": [],
   "source": [
    "#!!!!!!!!!!!!!!!!!!!!!!!!!!!!!!!!!!!!!!!!!!!!!\n",
    "########## cancel orders ####################\n",
    "#!!!!!!!!!!!!!!!!!!!!!!!!!!!!!!!!!!!!!!!!!!!!!\n",
    "def cancel_all_pending_orders():\n",
    "    global order_type\n",
    "    logger.debug(\"cancel_all_pending_orders : \")\n",
    "    myorder = kite.orders()\n",
    "    pending_orders = []\n",
    "    for i in range(len(myorder)):\n",
    "        if (myorder[i]['status'] == 'OPEN'\n",
    "                and myorder[i]['tradingsymbol'] == symbol_ip\n",
    "                and myorder[i]['product'] == order_type):\n",
    "            pending_orders.append(myorder[i])\n",
    "            kite.cancel_order(myorder[i]['variety'],\n",
    "                              myorder[i]['order_id'],\n",
    "                              parent_order_id=None)\n",
    "            logger.debug(\"cancel_order @ \" + 'order_id : ' +\n",
    "                         str(myorder[i]['order_id']) + ' variety : ' +\n",
    "                         str(myorder[i]['variety']))\n",
    "# cancel_all_pending_orders()"
   ]
  },
  {
   "cell_type": "code",
   "execution_count": 7,
   "metadata": {},
   "outputs": [],
   "source": [
    "############# get pending orders ################\n",
    "def get_pending_orders():\n",
    "    logger.debug(\"get_pending_orders : \")\n",
    "    global pending_orders, order_type\n",
    "    my_orders = kite.orders()\n",
    "    pending_orders = []\n",
    "    for i in range(len(my_orders)):\n",
    "        if (my_orders[i]['tradingsymbol'] == symbol_ip\n",
    "                and my_orders[i]['status'] == 'OPEN'\n",
    "                and my_orders[i]['product'] == order_type):\n",
    "            pending_orders.append(my_orders[i])\n",
    "    logger.debug(\"pending_orders : \" + str(pending_orders))\n",
    "    return pending_orders\n",
    "# get_pending_orders()"
   ]
  },
  {
   "cell_type": "code",
   "execution_count": 8,
   "metadata": {},
   "outputs": [],
   "source": [
    "############# calc rsi ################\n",
    "import datetime\n",
    "import ta\n",
    "def calc_rsi():\n",
    "    global RSI, inst_token\n",
    "    old_lst = []\n",
    "    interval = rsi_interval\n",
    "    todaydt = datetime.date.today()\n",
    "    hud_ago = todaydt - datetime.timedelta(days=6)\n",
    "    to_date = datetime.date.isoformat(todaydt)\n",
    "    from_date = datetime.date.isoformat(hud_ago)\n",
    "    for i2 in range(1):\n",
    "        new_lst = kite.historical_data(inst_token,\n",
    "                                       from_date,\n",
    "                                       to_date,\n",
    "                                       interval,\n",
    "                                       continuous=False)\n",
    "        old_lst = new_lst + old_lst\n",
    "        todaydt = todaydt - datetime.timedelta(days=7)\n",
    "        hud_ago = hud_ago - datetime.timedelta(days=7)\n",
    "        to_date = datetime.date.isoformat(todaydt)\n",
    "        from_date = datetime.date.isoformat(hud_ago)\n",
    "#         print(len(old_lst))\n",
    "    mydf = pd.DataFrame(old_lst)\n",
    "    indicator_rsi = ta.momentum.rsi(close=mydf[\"close\"], n=14, fillna=True)\n",
    "    current_rsi = round(indicator_rsi[-1:].to_numpy()[0], 4)\n",
    "    RSI = current_rsi\n",
    "    logger.debug(\"current_rsi : \" + str(current_rsi))\n",
    "    print('Current RSI : ' + str(current_rsi))\n",
    "    return current_rsi\n",
    "\n",
    "    # indicator_sma = ta.trend.SMAIndicator(close = mydf[\"close\"], n=14, fillna=True)\n",
    "    # current_sma = round(indicator_sma.sma_indicator()[-1:].to_numpy()[0],4)\n",
    "    # print('Current SMA : '+str(current_sma))\n",
    "\n",
    "\n",
    "# calc_rsi()"
   ]
  },
  {
   "cell_type": "code",
   "execution_count": 9,
   "metadata": {},
   "outputs": [
    {
     "name": "stderr",
     "output_type": "stream",
     "text": [
      "2020-11-02 00:54:05.468 | DEBUG    | __main__:getquant:4 - getquant : \n",
      "2020-11-02 00:54:13.002 | DEBUG    | __main__:getquant:12 - My Quantity : 0\n"
     ]
    }
   ],
   "source": [
    "################ update status #################\n",
    "baseprice = 123.0\n",
    "getquant()\n",
    "\n",
    "def update_status():\n",
    "    global init_qty, extended_quant, stepmultiseries, basepricediffmulti, baseprice, RSI, p1q, p1, p0q, p0\n",
    "    myquantity = getquant()\n",
    "    if(myquantity == 0):\n",
    "        if(RSI > max_rsi):\n",
    "            logger.debug('RSI >' + str(max_rsi)+' : ' + str(RSI))\n",
    "            is_done = ckqnt(0, -init_qty)\n",
    "#             is_done = placeneworder(-init_qty,0)\n",
    "            logger.debug(\"Order Placed @ \"+str(-init_qty) +\n",
    "                         ' market and Succeeded : '+str(is_done))\n",
    "            if(is_done):\n",
    "                completed_orders = get_completed_orders()\n",
    "                baseprice = round(\n",
    "                    0.0025 * round(completed_orders[-1]['average_price'] / 0.0025), 4)\n",
    "                calcsteps(-init_qty, baseprice)\n",
    "                ckqnt(round(p0, 4), p0q)\n",
    "                logger.debug(\"Order Placed @ \"+str(p0q)+' Limit : '+str(round(p0, 4)) +\n",
    "                             ' and Succeeded : '+str(is_done))\n",
    "\n",
    "        if(RSI < min_rsi):\n",
    "            logger.debug('RSI <' + str(min_rsi)+' : ' + str(RSI))\n",
    "            is_done = ckqnt(0, init_qty)\n",
    "#             is_done = placeneworder(init_qty,0)\n",
    "            if(is_done):\n",
    "                max_rsirders()\n",
    "                baseprice = round(\n",
    "                    0.0025 * round(completed_orders[-1]['average_price'] / 0.0025), 4)\n",
    "                calcsteps(init_qty, baseprice)\n",
    "                ckqnt(round(p0, 4), p0q)\n",
    "                logger.debug(\"Order Placed @ \"+str(p0q)+' Limit : '+str(round(p0, 4)) +\n",
    "                             ' and Succeeded : '+str(is_done))\n",
    "\n",
    "    else:\n",
    "        current_point = 0\n",
    "        for i in range(1, len(stepmultiseries)+2):\n",
    "            if(globals()['p'+str(i)+'q'] == myquantity):\n",
    "                current_point = i\n",
    "\n",
    "        logger.debug('Current Point : '+str(current_point))\n",
    "        next_point = 0\n",
    "        contain_next_point = False\n",
    "        if(current_point != (len(stepmultiseries)+1)):\n",
    "            next_point = current_point + 1\n",
    "            logger.debug('Next Point : '+str(next_point))\n",
    "            pending_orders = get_pending_orders()\n",
    "            for i in range(len(pending_orders)):\n",
    "                if(pending_orders[i]['tradingsymbol'] == symbol_ip\n",
    "                   and pending_orders[i]['status'] == 'OPEN'\n",
    "                   and pending_orders[i]['price'] == globals()['p'+str(next_point)]\n",
    "                   and pending_orders[i]['quantity'] == globals()['p'+str(next_point)+'q']):\n",
    "                    contain_next_point = True\n",
    "            if(contain_next_point==False):\n",
    "                ckqnt(globals()['p'+str(next_point)],\n",
    "                      globals()['p'+str(next_point)+'q'])\n",
    "                logger.debug('ckqnt @ '+str(globals()['p'+str(next_point)])\n",
    "                             + ' : '+str(globals()['p'+str(next_point)+'q']))\n",
    "\n",
    "        contain_next_point = False\n",
    "\n",
    "# update_status()"
   ]
  },
  {
   "cell_type": "code",
   "execution_count": 10,
   "metadata": {},
   "outputs": [
    {
     "name": "stdout",
     "output_type": "stream",
     "text": [
      "Quantity Series : [2, 4, 7, 12, 15, 20, 30]\n",
      "\n"
     ]
    }
   ],
   "source": [
    "############## CALC STEPS ###############\n",
    "def calcsteps(currentqty, base_price):\n",
    "    logger.debug('calc_steps : (' + str(currentqty) + ',' + str(base_price) +\n",
    "                 ')' + ' : ')\n",
    "    '''calcsteps(currentqty, base_price)'''\n",
    "    global p0, basepricediffmulti, p0q, extended_quant, p1, p1q\n",
    "    if (currentqty < 0):\n",
    "        p0 = round(base_price - basepricediffmulti, 4)\n",
    "        p0q = 0\n",
    "        print('p0q : ' + str(p0q))\n",
    "        print('p0 : ' + str(p0))\n",
    "        logger.debug('p0q : ' + str(p0q))\n",
    "        logger.debug('p0 : ' + str(p0))\n",
    "        print()\n",
    "        print('base quant : ' + str(currentqty))\n",
    "        print('base_price : ' + str(base_price))\n",
    "        logger.debug('base quant : ' + str(currentqty))\n",
    "        logger.debug('base_price : ' + str(base_price))\n",
    "        print()\n",
    "        p1q = currentqty\n",
    "        p1 = round(base_price, 4)\n",
    "        print('p1q : ' + str(p1q))\n",
    "        logger.debug('p1q : ' + str(p1q))\n",
    "        print('p1 : ' + str(p1))\n",
    "        logger.debug('p1 : ' + str(p1))\n",
    "        for i in range(1, len(stepmultiseries) + 1):\n",
    "            globals()['p' + str(i + 1) +'q'] = currentqty - ((i) * extended_quant)\n",
    "            print('p' + str(i + 1) + 'q : ' +str(globals()['p' + str(i + 1) + 'q']))\n",
    "            logger.debug('p' + str(i + 1) + 'q : ' +str(globals()['p' + str(i + 1) + 'q']))\n",
    "            globals()['p' + str(i + 1)] = round(base_price + (basepricediffmulti * stepmultiseries[i - 1]), 4)\n",
    "            print('p' + str(i + 1) + ' : ' + str(globals()['p' + str(i + 1)]))\n",
    "            logger.debug('p' + str(i + 1) + ' : ' +str(globals()['p' + str(i + 1)]))\n",
    "            \n",
    "    if (currentqty > 0):\n",
    "        p0 = base_price + basepricediffmulti\n",
    "        p0q = 0\n",
    "        print('p0q : ' + str(p0q))\n",
    "        print('p0 : ' + str(p0))\n",
    "        logger.debug('p0q : ' + str(p0q))\n",
    "        logger.debug('p0 : ' + str(p0))\n",
    "        print()\n",
    "        print('base quant : ' + str(currentqty))\n",
    "        print('base_price : ' + str(base_price))\n",
    "        logger.debug('base quant : ' + str(currentqty))\n",
    "        logger.debug('base_price : ' + str(base_price))\n",
    "        print()\n",
    "        p1q = currentqty\n",
    "        p1 = round(base_price, 4)\n",
    "        print('p1q : ' + str(p1q))\n",
    "        logger.debug('p1q : ' + str(p1q))\n",
    "        print('p1 : ' + str(p1))\n",
    "        logger.debug('p1 : ' + str(p1))\n",
    "\n",
    "        for i in range(1, len(stepmultiseries) + 1):\n",
    "            globals()['p' + str(i + 1) +'q'] = currentqty + ((i) * extended_quant)\n",
    "            print('p' + str(i + 1) + 'q : ' +str(globals()['p' + str(i + 1) + 'q']))\n",
    "            logger.debug('p' + str(i + 1) + 'q : ' +str(globals()['p' + str(i + 1) + 'q']))\n",
    "            globals()['p' + str(i + 1)] = round(base_price - (basepricediffmulti * stepmultiseries[i - 1]), 4)\n",
    "            print('p' + str(i + 1) + ' : ' + str(globals()['p' + str(i + 1)]))\n",
    "            logger.debug('p' + str(i + 1) + ' : ' +\n",
    "                         str(globals()['p' + str(i + 1)]))\n",
    "\n",
    "\n",
    "print('Quantity Series : ' + str(stepmultiseries))\n",
    "print()\n",
    "# calcsteps(init_qty,74.00)"
   ]
  },
  {
   "cell_type": "code",
   "execution_count": 11,
   "metadata": {},
   "outputs": [],
   "source": [
    "########### place order ###########\n",
    "stopbuy = False\n",
    "stopsell = False\n",
    "\n",
    "def placeneworder(quantdiff, price_ip):\n",
    "    '''placeneworder(quantdiff,price_ip)'''\n",
    "    logger.debug('placeneworder @ (' + str(quantdiff) + ',' + str(price_ip) +\n",
    "                 ')')\n",
    "    global stopbuy, stopsell, order_type, symbol_ip\n",
    "    if (quantdiff > 0 and stopbuy == False):\n",
    "        try:\n",
    "            order_id = kite.place_order(\n",
    "                tradingsymbol=symbol_ip,\n",
    "                exchange=kite.EXCHANGE_CDS,\n",
    "                transaction_type=kite.TRANSACTION_TYPE_BUY,\n",
    "                quantity=abs(quantdiff),\n",
    "                price=price_ip,\n",
    "                order_type=kite.ORDER_TYPE_MARKET\n",
    "                if price_ip == 0 else kite.ORDER_TYPE_LIMIT,\n",
    "                variety=kite.VARIETY_REGULAR,\n",
    "                product=kite.PRODUCT_MIS\n",
    "                if order_type == 'MIS' else kite.PRODUCT_NRML)\n",
    "            stopsell = False\n",
    "            logger.debug('Order Successfully Placed @ ' + str(order_type) +\n",
    "                         ' ' + str(quantdiff) + ' ' + str(price_ip))\n",
    "            getquant()\n",
    "            return True\n",
    "        except Exception as e:\n",
    "            stopbuy = False\n",
    "            print(e)\n",
    "            logger.debug('Order Rejected For @ ' + str(order_type) + ' ' +\n",
    "                         str(quantdiff) + ' ' + str(price_ip))\n",
    "            getquant()\n",
    "            return False\n",
    "    if (quantdiff < 0 and stopsell == False):\n",
    "        try:\n",
    "            order_id = kite.place_order(\n",
    "                tradingsymbol=symbol_ip,\n",
    "                exchange=kite.EXCHANGE_CDS,\n",
    "                transaction_type=kite.TRANSACTION_TYPE_SELL,\n",
    "                quantity=abs(quantdiff),\n",
    "                price=price_ip,\n",
    "                order_type=kite.ORDER_TYPE_MARKET\n",
    "                if price_ip == 0 else kite.ORDER_TYPE_LIMIT,\n",
    "                variety=kite.VARIETY_REGULAR,\n",
    "                product=kite.PRODUCT_MIS\n",
    "                if order_type == 'MIS' else kite.PRODUCT_NRML)\n",
    "            stopbuy = False\n",
    "            logger.debug('Order Successfully Placed @ ' + str(order_type) +\n",
    "                         ' ' + str(quantdiff) + ' ' + str(price_ip))\n",
    "            getquant()\n",
    "            return True\n",
    "        except Exception as e:\n",
    "            stopsell = True\n",
    "            print(e)\n",
    "            logger.debug('Order Rejected For @ ' + str(order_type) + ' ' +\n",
    "                         str(quantdiff) + ' ' + str(price_ip))\n",
    "            getquant()\n",
    "            return False\n",
    "\n",
    "\n",
    "def ckqnt(orderprice, orderquant):\n",
    "    logger.debug('ckqnt @ (' + str(orderprice) + ',' + str(orderquant) +') in ckqnt')\n",
    "    global myquantity\n",
    "    quantdiff = orderquant - myquantity\n",
    "    logger.debug(str(quantdiff) + ' = ' + str(orderquant) + '-' + str(myquantity) +' in ckqnt')\n",
    "    is_done = placeneworder(quantdiff, orderprice)\n",
    "    return is_done\n",
    "\n",
    "def calc_and_update():\n",
    "    logger.debug('calc_and_update : ' + ' in calc_and_update')\n",
    "    try:\n",
    "        calc_rsi()\n",
    "    except:\n",
    "        print('calc_rsi failed' + ' in calc_and_update')\n",
    "    update_status()"
   ]
  },
  {
   "cell_type": "code",
   "execution_count": 12,
   "metadata": {
    "scrolled": true
   },
   "outputs": [
    {
     "name": "stdout",
     "output_type": "stream",
     "text": [
      "=====================================\n",
      "LTP : 74.605\n"
     ]
    },
    {
     "name": "stderr",
     "output_type": "stream",
     "text": [
      "ERROR:kiteconnect.ticker:Connection error: 1006 - connection was closed uncleanly (peer dropped the TCP connection without previous WebSocket closing handshake)\n",
      "ERROR:root:closed connection on error: 1006 connection was closed uncleanly (peer dropped the TCP connection without previous WebSocket closing handshake)\n",
      "ERROR:kiteconnect.ticker:Connection closed: 1006 - connection was closed uncleanly (peer dropped the TCP connection without previous WebSocket closing handshake)\n",
      "Unhandled Error\n",
      "Traceback (most recent call last):\n",
      "  File \"/home/hemang/.local/lib/python3.8/site-packages/twisted/internet/defer.py\", line 311, in addCallbacks\n",
      "    self._runCallbacks()\n",
      "  File \"/home/hemang/.local/lib/python3.8/site-packages/twisted/internet/defer.py\", line 654, in _runCallbacks\n",
      "    current.result = callback(current.result, *args, **kw)\n",
      "  File \"/home/hemang/.local/lib/python3.8/site-packages/twisted/internet/base.py\", line 447, in _continueFiring\n",
      "    callable(*args, **kwargs)\n",
      "  File \"/home/hemang/.local/lib/python3.8/site-packages/twisted/internet/base.py\", line 704, in disconnectAll\n",
      "    log.callWithLogger(reader,\n",
      "--- <exception caught here> ---\n",
      "  File \"/home/hemang/.local/lib/python3.8/site-packages/twisted/python/log.py\", line 103, in callWithLogger\n",
      "    return callWithContext({\"system\": lp}, func, *args, **kw)\n",
      "  File \"/home/hemang/.local/lib/python3.8/site-packages/twisted/python/log.py\", line 86, in callWithContext\n",
      "    return context.call({ILogContext: newCtx}, func, *args, **kw)\n",
      "  File \"/home/hemang/.local/lib/python3.8/site-packages/twisted/python/context.py\", line 122, in callWithContext\n",
      "    return self.currentContext().callWithContext(ctx, func, *args, **kw)\n",
      "  File \"/home/hemang/.local/lib/python3.8/site-packages/twisted/python/context.py\", line 85, in callWithContext\n",
      "    return func(*args,**kw)\n",
      "  File \"/home/hemang/.local/lib/python3.8/site-packages/twisted/internet/tcp.py\", line 519, in connectionLost\n",
      "    self._commonConnection.connectionLost(self, reason)\n",
      "  File \"/home/hemang/.local/lib/python3.8/site-packages/twisted/internet/tcp.py\", line 327, in connectionLost\n",
      "    protocol.connectionLost(reason)\n",
      "  File \"/home/hemang/.local/lib/python3.8/site-packages/twisted/protocols/tls.py\", line 403, in connectionLost\n",
      "    ProtocolWrapper.connectionLost(self, reason)\n",
      "  File \"/home/hemang/.local/lib/python3.8/site-packages/twisted/protocols/policies.py\", line 125, in connectionLost\n",
      "    self.wrappedProtocol.connectionLost(reason)\n",
      "  File \"/home/hemang/.local/lib/python3.8/site-packages/autobahn/twisted/websocket.py\", line 287, in connectionLost\n",
      "    self._connectionLost(reason)\n",
      "  File \"/home/hemang/.local/lib/python3.8/site-packages/autobahn/websocket/protocol.py\", line 3412, in _connectionLost\n",
      "    WebSocketProtocol._connectionLost(self, reason)\n",
      "  File \"/home/hemang/.local/lib/python3.8/site-packages/autobahn/websocket/protocol.py\", line 1126, in _connectionLost\n",
      "    self._onClose(self.wasClean, WebSocketProtocol.CLOSE_STATUS_CODE_ABNORMAL_CLOSE, \"connection was closed uncleanly (%s)\" % self.wasNotCleanReason)\n",
      "  File \"/home/hemang/.local/lib/python3.8/site-packages/autobahn/twisted/websocket.py\", line 330, in _onClose\n",
      "    self.onClose(wasClean, code, reason)\n",
      "  File \"/home/hemang/.local/lib/python3.8/site-packages/kiteconnect/ticker.py\", line 81, in onClose\n",
      "    self.factory.on_close(self, code, reason)\n",
      "  File \"/home/hemang/.local/lib/python3.8/site-packages/kiteconnect/ticker.py\", line 654, in _on_close\n",
      "    self.on_close(self, code, reason)\n",
      "  File \"<ipython-input-12-cd5e3e0823ff>\", line 35, in on_close\n",
      "    ws.stop()\n",
      "  File \"/home/hemang/.local/lib/python3.8/site-packages/kiteconnect/ticker.py\", line 555, in stop\n",
      "    reactor.stop()\n",
      "  File \"/home/hemang/.local/lib/python3.8/site-packages/twisted/internet/base.py\", line 646, in stop\n",
      "    raise error.ReactorNotRunning(\n",
      "twisted.internet.error.ReactorNotRunning: Can't stop reactor that isn't running.\n",
      "\n"
     ]
    }
   ],
   "source": [
    "############# start trading ############\n",
    "import threading\n",
    "import logging\n",
    "from kiteconnect import KiteTicker\n",
    "logging.basicConfig(level=logging.DEBUG)\n",
    "# kws = KiteTicker(\"w19o0chuo929jxkp\", \"eA5B5OJQNOtZ0OYihkBmYw7Ke3B9pmCC\")\n",
    "\n",
    "\n",
    "def on_ticks(ws, ticks):\n",
    "    global pivot_price, moving_pivot_on, limits\n",
    "    this_sec = datetime.datetime.now().second\n",
    "    last_sec = 0\n",
    "    if (this_sec % 10 == 0 and last_sec != this_sec):\n",
    "        last_sec = this_sec\n",
    "        print('in the thread : ')\n",
    "        x = threading.Thread(target=calc_and_update, args=())\n",
    "        if(limits['upper_lim']>ticks[0]['last_price'] and limits['lower_lim']<ticks[0]['last_price'] ):\n",
    "            x.start()\n",
    "#                 x.join()\n",
    "\n",
    "    print('=====================================')\n",
    "    print('LTP : ' + str(ticks[0]['last_price']))\n",
    "\n",
    "#     print(datetime.datetime.now().second)\n",
    "#     print('=====================================')\n",
    "#     print()\n",
    "\n",
    "\n",
    "def on_connect(ws, response):\n",
    "    global inst_token\n",
    "    ws.subscribe([inst_token])\n",
    "    ws.set_mode(ws.MODE_FULL, [inst_token])\n",
    "\n",
    "\n",
    "def on_close(ws, code, reason):\n",
    "    ws.stop()\n",
    "\n",
    "\n",
    "def on_error(ws, code, reason):\n",
    "    logging.error(\"closed connection on error: {} {}\".format(code, reason))\n",
    "\n",
    "\n",
    "def on_noreconnect(ws):\n",
    "    logging.error(\"Reconnecting the websocket failed\")\n",
    "\n",
    "\n",
    "def on_reconnect(ws, attempt_count):\n",
    "    logging.debug(\"Reconnecting the websocket: {}\".format(attempt_count))\n",
    "\n",
    "\n",
    "def on_order_update(ws, data):\n",
    "    logger.debug('on_order_update : ')\n",
    "    global baseprice, symbol_ip, myquantity, init_qty, current_point\n",
    "    print(\"order update: \", data)\n",
    "\n",
    "\n",
    "#     getquant()\n",
    "#     if(data['tradingsymbol'] == symbol_ip and (myquantity!=init_qty and myquantity!=-init_qty)):\n",
    "#         current_point = 0\n",
    "#         for i in range(1,len(stepmultiseries)+1):\n",
    "#             if(globals()['p'+str(i)+'q']==myquantity):\n",
    "#                 current_point=i\n",
    "#         logging.debug('current_point : '+str(current_point))\n",
    "#         update_status()\n",
    "\n",
    "kws.on_error = on_error\n",
    "kws.on_noreconnect = on_noreconnect\n",
    "kws.on_reconnect = on_reconnect\n",
    "kws.on_order_update = on_order_update\n",
    "\n",
    "kws.on_ticks = on_ticks\n",
    "kws.on_connect = on_connect\n",
    "kws.on_close = on_close\n",
    "\n",
    "kws.connect()"
   ]
  },
  {
   "cell_type": "code",
   "execution_count": 13,
   "metadata": {},
   "outputs": [],
   "source": [
    "globals()['p1q']=123.023345"
   ]
  },
  {
   "cell_type": "code",
   "execution_count": 14,
   "metadata": {},
   "outputs": [
    {
     "ename": "TypeError",
     "evalue": "list indices must be integers or slices, not str",
     "output_type": "error",
     "traceback": [
      "\u001b[0;31m---------------------------------------------------------------------------\u001b[0m",
      "\u001b[0;31mTypeError\u001b[0m                                 Traceback (most recent call last)",
      "\u001b[0;32m<ipython-input-14-50a3b45c3e41>\u001b[0m in \u001b[0;36m<module>\u001b[0;34m\u001b[0m\n\u001b[0;32m----> 1\u001b[0;31m \u001b[0mtype\u001b[0m\u001b[0;34m(\u001b[0m\u001b[0mglobals\u001b[0m\u001b[0;34m(\u001b[0m\u001b[0;34m)\u001b[0m\u001b[0;34m[\u001b[0m\u001b[0;34m'_ih'\u001b[0m\u001b[0;34m]\u001b[0m\u001b[0;34m[\u001b[0m\u001b[0;34m'_16'\u001b[0m\u001b[0;34m]\u001b[0m\u001b[0;34m)\u001b[0m\u001b[0;34m\u001b[0m\u001b[0;34m\u001b[0m\u001b[0m\n\u001b[0m",
      "\u001b[0;31mTypeError\u001b[0m: list indices must be integers or slices, not str"
     ]
    }
   ],
   "source": [
    "type(globals()['_ih']['_16'])"
   ]
  },
  {
   "cell_type": "code",
   "execution_count": null,
   "metadata": {},
   "outputs": [],
   "source": [
    "print(str(globals()))"
   ]
  },
  {
   "cell_type": "code",
   "execution_count": null,
   "metadata": {},
   "outputs": [],
   "source": [
    "globals()['_i27']"
   ]
  },
  {
   "cell_type": "code",
   "execution_count": null,
   "metadata": {},
   "outputs": [],
   "source": [
    "globals()['_ih']['p1q']"
   ]
  },
  {
   "cell_type": "code",
   "execution_count": null,
   "metadata": {},
   "outputs": [],
   "source": [
    "globals().keys()"
   ]
  },
  {
   "cell_type": "code",
   "execution_count": null,
   "metadata": {},
   "outputs": [],
   "source": []
  }
 ],
 "metadata": {
  "kernelspec": {
   "display_name": "Python 3",
   "language": "python",
   "name": "python3"
  },
  "language_info": {
   "codemirror_mode": {
    "name": "ipython",
    "version": 3
   },
   "file_extension": ".py",
   "mimetype": "text/x-python",
   "name": "python",
   "nbconvert_exporter": "python",
   "pygments_lexer": "ipython3",
   "version": "3.8.6"
  },
  "nteract": {
   "version": "0.26.0"
  },
  "varInspector": {
   "cols": {
    "lenName": 16,
    "lenType": 16,
    "lenVar": 40
   },
   "kernels_config": {
    "python": {
     "delete_cmd_postfix": "",
     "delete_cmd_prefix": "del ",
     "library": "var_list.py",
     "varRefreshCmd": "print(var_dic_list())"
    },
    "r": {
     "delete_cmd_postfix": ") ",
     "delete_cmd_prefix": "rm(",
     "library": "var_list.r",
     "varRefreshCmd": "cat(var_dic_list()) "
    }
   },
   "types_to_exclude": [
    "module",
    "function",
    "builtin_function_or_method",
    "instance",
    "_Feature"
   ],
   "window_display": false
  }
 },
 "nbformat": 4,
 "nbformat_minor": 4
}
