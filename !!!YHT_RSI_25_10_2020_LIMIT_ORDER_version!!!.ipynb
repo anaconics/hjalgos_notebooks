{
 "cells": [
  {
   "cell_type": "code",
   "execution_count": 1,
   "metadata": {
    "execution": {
     "iopub.execute_input": "2020-10-27T17:34:20.309Z",
     "iopub.status.busy": "2020-10-27T17:34:20.299Z",
     "iopub.status.idle": "2020-10-27T17:35:57.730Z",
     "shell.execute_reply": "2020-10-27T17:35:57.845Z"
    }
   },
   "outputs": [
    {
     "name": "stdout",
     "output_type": "stream",
     "text": [
      "4Q7mqHyd59iDlMtlCKsVNmO646K1a04c\n"
     ]
    },
    {
     "data": {
      "text/plain": [
       "1"
      ]
     },
     "execution_count": 1,
     "metadata": {},
     "output_type": "execute_result"
    }
   ],
   "source": [
    "########## auto login ############\n",
    "import login\n",
    "from login import *\n",
    "import pandas as pd\n",
    "from loguru import logger\n",
    "logger.add(\"RSI_logs_{time}.log\")\n",
    "#kite.margins(segment = 'equity')['available']['live_balance']"
   ]
  },
  {
   "cell_type": "code",
   "execution_count": 2,
   "metadata": {
    "execution": {
     "iopub.execute_input": "2020-10-27T17:35:57.783Z",
     "iopub.status.busy": "2020-10-27T17:35:57.768Z",
     "iopub.status.idle": "2020-10-27T17:35:57.824Z",
     "shell.execute_reply": "2020-10-27T17:35:57.852Z"
    }
   },
   "outputs": [
    {
     "name": "stderr",
     "output_type": "stream",
     "text": [
      "2020-10-28 15:07:21.724 | DEBUG    | __main__:<module>:1 - Parameters : \n",
      "2020-10-28 15:07:21.726 | DEBUG    | __main__:<module>:11 - init_qty : 3\n",
      "2020-10-28 15:07:21.728 | DEBUG    | __main__:<module>:12 - extended_quant : 1\n",
      "2020-10-28 15:07:21.729 | DEBUG    | __main__:<module>:13 - stepmultiseries : [1, 2, 4, 7, 12, 15, 20, 30]\n",
      "2020-10-28 15:07:21.730 | DEBUG    | __main__:<module>:14 - basepricediffmulti : 0.01\n",
      "2020-10-28 15:07:21.731 | DEBUG    | __main__:<module>:15 - symbol_ip : USDINR20NOVFUT\n",
      "2020-10-28 15:07:21.733 | DEBUG    | __main__:<module>:16 - inst_token : 780803\n",
      "2020-10-28 15:07:21.734 | DEBUG    | __main__:<module>:17 - order_type : NRML\n"
     ]
    }
   ],
   "source": [
    "logger.debug(\"Parameters : \")\n",
    "#### NEW VERSION ###########\n",
    "init_qty = 3\n",
    "extended_quant = 1\n",
    "stepmultiseries = [1,2,4,7,12,15,20,30]\n",
    "basepricediffmulti = 0.0100\n",
    "symbol_ip = 'USDINR20NOVFUT' # USDINR20OCTFUT / GBPINR20OCTFUT / EURINR20OCTFUT / JPYINR20OCTFUT\n",
    "inst_token = 780803          # 690691(USD) / 490755(GBP) / 278019(EUR) / 690435(JPY)\n",
    "order_type = 'NRML'\n",
    "#############################\n",
    "logger.debug(\"init_qty : \"+str(init_qty))\n",
    "logger.debug(\"extended_quant : \"+str(extended_quant))\n",
    "logger.debug(\"stepmultiseries : \"+str(stepmultiseries))\n",
    "logger.debug(\"basepricediffmulti : \"+str(basepricediffmulti))\n",
    "logger.debug(\"symbol_ip : \"+str(symbol_ip))\n",
    "logger.debug(\"inst_token : \"+str(inst_token))\n",
    "logger.debug(\"order_type : \"+str(order_type))"
   ]
  },
  {
   "cell_type": "code",
   "execution_count": 3,
   "metadata": {},
   "outputs": [],
   "source": [
    "######## CHECK QTY #############\n",
    "myquantity = 0\n",
    "def getquant():\n",
    "    logger.debug(\"getquant : \")\n",
    "    global myquantity, order_type, symbol_ip\n",
    "    allpos = kite.positions()['net']\n",
    "    for i in range(len(allpos)):\n",
    "        if(allpos[i]['tradingsymbol']==symbol_ip and allpos[i]['product']== order_type):\n",
    "            myquantity = allpos[i]['quantity']\n",
    "            print('My Quantity : ' + str(allpos[i]['quantity']))\n",
    "    logger.debug(\"My Quantity : \"+str(myquantity))\n",
    "    return myquantity\n",
    "\n",
    "# getquant()"
   ]
  },
  {
   "cell_type": "code",
   "execution_count": 4,
   "metadata": {},
   "outputs": [],
   "source": [
    "def get_completed_orders():\n",
    "    global order_type\n",
    "    logger.debug(\"get_completed_orders : \")\n",
    "    myorders = kite.orders()\n",
    "    completed_orders = []\n",
    "    for i in range(len(myorders)):\n",
    "        if(myorders[i]['status']=='COMPLETE' and\n",
    "           myorders[i]['tradingsymbol']==symbol_ip and\n",
    "           myorders[i]['product']==order_type):\n",
    "            completed_orders.append(myorders[i])\n",
    "    if(len(completed_orders)>1) :\n",
    "        completed_orders[-1]['average_price']\n",
    "        logger.debug(\"last_completed_orders : \"+str(completed_orders[-1]))\n",
    "        logger.debug(\"last_completed_orders_price : \"+str(completed_orders[-1]['average_price']))\n",
    "    else:\n",
    "        logger.debug(\"completed_orders : \"+str(completed_orders))\n",
    "    \n",
    "    return completed_orders\n",
    "# get_completed_orders()"
   ]
  },
  {
   "cell_type": "code",
   "execution_count": 5,
   "metadata": {},
   "outputs": [],
   "source": [
    "#!!!!!!!!!!!!!!!!!!!!!!!!!!!!!!!!!!!!!!!!!!!!!\n",
    "########## cancel orders ####################\n",
    "#!!!!!!!!!!!!!!!!!!!!!!!!!!!!!!!!!!!!!!!!!!!!!\n",
    "def cancel_all_pending_orders():\n",
    "    global order_type\n",
    "    logger.debug(\"cancel_all_pending_orders : \")\n",
    "    myorder = kite.orders()\n",
    "    pending_orders = []\n",
    "    for i  in range(len(myorder)):\n",
    "        if(myorder[i]['status']=='OPEN' and \n",
    "           myorder[i]['tradingsymbol']==symbol_ip and \n",
    "           myorder[i]['product']==order_type):\n",
    "            pending_orders.append(myorder[i])\n",
    "            kite.cancel_order(myorder[i]['variety'], myorder[i]['order_id'], parent_order_id=None)\n",
    "            logger.debug(\"cancel_order @ \"+'order_id : '+str(myorder[i]['order_id'])+' variety : '+str(myorder[i]['variety']))\n",
    "# cancel_all_pending_orders()"
   ]
  },
  {
   "cell_type": "code",
   "execution_count": 6,
   "metadata": {},
   "outputs": [],
   "source": [
    "############# get pending orders ################\n",
    "def get_pending_orders():\n",
    "    logger.debug(\"get_pending_orders : \")\n",
    "    global pending_orders, order_type\n",
    "    my_orders=kite.orders()\n",
    "    pending_orders=[]\n",
    "    for i in range(len(my_orders)):\n",
    "        if(my_orders[i]['tradingsymbol']==symbol_ip and \n",
    "           my_orders[i]['status']=='OPEN' and \n",
    "           my_orders[i]['product']==order_type):\n",
    "            pending_orders.append(my_orders[i])\n",
    "    logger.debug(\"pending_orders : \"+str(pending_orders))\n",
    "    return pending_orders\n",
    "# get_pending_orders()"
   ]
  },
  {
   "cell_type": "code",
   "execution_count": 7,
   "metadata": {},
   "outputs": [],
   "source": [
    "############# calc rsi ################\n",
    "import datetime\n",
    "import ta\n",
    "def calc_rsi():\n",
    "    global RSI,inst_token\n",
    "    old_lst=[]\n",
    "    interval='minute'\n",
    "    todaydt=datetime.date.today()\n",
    "    hud_ago=todaydt-datetime.timedelta(days=6)\n",
    "    to_date=datetime.date.isoformat(todaydt)\n",
    "    from_date=datetime.date.isoformat(hud_ago)\n",
    "    for i2 in range(1):\n",
    "        new_lst = kite.historical_data(inst_token, from_date, to_date, interval,continuous=False)\n",
    "        old_lst = new_lst + old_lst\n",
    "        todaydt=todaydt-datetime.timedelta(days=7)\n",
    "        hud_ago=hud_ago-datetime.timedelta(days=7)\n",
    "        to_date=datetime.date.isoformat(todaydt)\n",
    "        from_date=datetime.date.isoformat(hud_ago)\n",
    "#         print(len(old_lst))\n",
    "    mydf = pd.DataFrame(old_lst) \n",
    "    indicator_rsi = ta.momentum.rsi(close = mydf[\"close\"], n=14, fillna=True)\n",
    "    current_rsi = round(indicator_rsi[-1:].to_numpy()[0],4)\n",
    "    RSI = current_rsi\n",
    "    logger.debug(\"current_rsi : \"+str(current_rsi))\n",
    "    print('Current RSI : '+str(current_rsi))\n",
    "    return current_rsi\n",
    "\n",
    "    # indicator_sma = ta.trend.SMAIndicator(close = mydf[\"close\"], n=14, fillna=True)\n",
    "    # current_sma = round(indicator_sma.sma_indicator()[-1:].to_numpy()[0],4)\n",
    "    # print('Current SMA : '+str(current_sma))\n",
    "\n",
    "# calc_rsi()"
   ]
  },
  {
   "cell_type": "code",
   "execution_count": 8,
   "metadata": {},
   "outputs": [
    {
     "name": "stderr",
     "output_type": "stream",
     "text": [
      "2020-10-28 15:07:21.838 | DEBUG    | __main__:getquant:4 - getquant : \n",
      "2020-10-28 15:07:22.543 | DEBUG    | __main__:getquant:11 - My Quantity : 0\n"
     ]
    },
    {
     "name": "stdout",
     "output_type": "stream",
     "text": [
      "My Quantity : 0\n"
     ]
    }
   ],
   "source": [
    "################ update status #################\n",
    "baseprice = 123.0\n",
    "getquant()\n",
    "def update_status():\n",
    "    global init_qty,extended_quant,stepmultiseries,basepricediffmulti,baseprice,RSI\n",
    "    myquantity = getquant()\n",
    "    if(myquantity==0):\n",
    "        if(RSI >60):\n",
    "            logger.debug(\"RSI > 60 : \"+str(RSI))\n",
    "            is_done = placeneworder(-init_qty,0)\n",
    "            logger.debug(\"Order Placed @ \"+str(-init_qty)+' market and Succeeded : '+str(is_done))\n",
    "            if(is_done):\n",
    "                completed_orders = get_completed_orders()\n",
    "                baseprice = completed_orders[-1]['average_price']\n",
    "                calcsteps(init_qty,baseprice)\n",
    "                ckqnt(round(p0,4),p0q)\n",
    "                logger.debug(\"Order Placed @ \"+str(p0q)+' Limit : '+str(p0)+\n",
    "                             ' and Succeeded : '+str(is_done))\n",
    "\n",
    "        if(RSI <40):\n",
    "            logger.debug(\"RSI < 40 : \"+str(RSI))\n",
    "            is_done = placeneworder(init_qty,0)\n",
    "            if(is_done):\n",
    "                completed_orders = get_completed_orders()\n",
    "                baseprice = completed_orders[-1]['average_price']\n",
    "                calcsteps(init_qty,baseprice)\n",
    "                ckqnt(round(p0,4),p0q)\n",
    "                logger.debug(\"Order Placed @ \"+str(p0q)+' Limit : '+str(p0)+ \n",
    "                             ' and Succeeded : '+str(is_done))\n",
    "\n",
    "    else:\n",
    "        current_point = 0\n",
    "        for i in range(1,len(stepmultiseries)+1):\n",
    "            if(globals()['p'+str(i)+'q']==myquantity):\n",
    "                current_point=i\n",
    "                \n",
    "        logger.debug('Current Point : '+str(current_point))\n",
    "        prev_point = 0\n",
    "        next_point = 0\n",
    "        \n",
    "        if(current_point!=(len(stepmultiseries)+1)):\n",
    "            next_point = current_point + 1\n",
    "            logger.debug('Next Point : '+str(next_point))\n",
    "            pending_orders = get_pending_orders()\n",
    "            for i in range(len(pending_orders)):\n",
    "                if(pending_orders[i]['tradingsymbol']==symbol_ip \n",
    "                   and pending_orders[i]['status']=='OPEN' \n",
    "                   and pending_orders[i]['price']== globals()['p'+str(next_point)]\n",
    "                   and pending_orders[i]['quantity']== globals()['p'+str(next_point)+'q']):\n",
    "                    contain_next_point = True\n",
    "                else:\n",
    "                    ckqnt(globals()['p'+str(next_point)],globals()['p'+str(next_point)+'q'])\n",
    "                    logger.debug('ckqnt @ '+str(globals()['p'+str(next_point)])\n",
    "                                 +' : '+str(globals()['p'+str(next_point)+'q']))\n",
    "\n",
    "        contain_next_point = False\n",
    "\n",
    "# update_status()"
   ]
  },
  {
   "cell_type": "code",
   "execution_count": 9,
   "metadata": {},
   "outputs": [
    {
     "name": "stdout",
     "output_type": "stream",
     "text": [
      "Quantity Series : [1, 2, 4, 7, 12, 15, 20, 30]\n",
      "\n"
     ]
    }
   ],
   "source": [
    "############## CALC STEPS ###############\n",
    "def calcsteps(currentqty, base_price):\n",
    "    logger.debug('calc_steps : ('+str(currentqty)+','+str(base_price)+')'+' : ')\n",
    "    '''calcsteps(currentqty, base_price)'''\n",
    "    global p0,basepricediffmulti,p0q,extended_quant\n",
    "    if(currentqty <0):\n",
    "        p0 = round(base_price - basepricediffmulti,4)\n",
    "        p0q = 0\n",
    "        print('p0q : '+str(p0q))\n",
    "        print('p0 : '+str(p0))\n",
    "        logger.debug('p0q : '+str(p0q))\n",
    "        logger.debug('p0 : '+str(p0))\n",
    "        print()\n",
    "        print('base quant : '+str(currentqty))\n",
    "        print('base_price : '+str(base_price))\n",
    "        logger.debug('base quant : '+str(currentqty))\n",
    "        logger.debug('base_price : '+str(base_price))\n",
    "        print()\n",
    "        for i  in range(len(stepmultiseries)):\n",
    "            globals()['p'+str(i+1)+'q']=currentqty-((i+1)*extended_quant)\n",
    "            print('p'+str(i+1)+'q : '+str(globals()['p'+str(i+1)+'q']))\n",
    "            logger.debug('p'+str(i+1)+'q : '+str(globals()['p'+str(i+1)+'q']))\n",
    "            globals()['p'+str(i+1)]= round(base_price+(basepricediffmulti*stepmultiseries[i]),4)\n",
    "            print('p'+str(i+1)+' : '+str(globals()['p'+str(i+1)]))\n",
    "            logger.debug('p'+str(i+1)+' : '+str(globals()['p'+str(i+1)]))\n",
    "    if(currentqty >0):\n",
    "        p0 = base_price + basepricediffmulti\n",
    "        p0q = 0\n",
    "        print('p0q : '+str(p0q))\n",
    "        print('p0 : '+str(p0))\n",
    "        logger.debug('p0q : '+str(p0q))\n",
    "        logger.debug('p0 : '+str(p0))\n",
    "        print()\n",
    "        print('base quant : '+str(currentqty))\n",
    "        print('base_price : '+str(base_price))\n",
    "        logger.debug('base quant : '+str(currentqty))\n",
    "        logger.debug('base_price : '+str(base_price))\n",
    "        print()\n",
    "        for i  in range(len(stepmultiseries)):\n",
    "            globals()['p'+str(i+1)+'q']=currentqty+((i+1)*extended_quant)\n",
    "            print('p'+str(i+1)+'q : '+str(globals()['p'+str(i+1)+'q']))\n",
    "            logger.debug('p'+str(i+1)+'q : '+str(globals()['p'+str(i+1)+'q']))\n",
    "            globals()['p'+str(i+1)]= round(base_price-(basepricediffmulti*stepmultiseries[i]),4)\n",
    "            print('p'+str(i+1)+' : '+str(globals()['p'+str(i+1)]))\n",
    "            logger.debug('p'+str(i+1)+' : '+str(globals()['p'+str(i+1)]))\n",
    "\n",
    "print('Quantity Series : '+str(stepmultiseries))\n",
    "print()\n",
    "# calcsteps(init_qty,74.00)"
   ]
  },
  {
   "cell_type": "code",
   "execution_count": 10,
   "metadata": {},
   "outputs": [],
   "source": [
    "########### place order ###########\n",
    "stopbuy = False\n",
    "stopsell = False\n",
    "\n",
    "def placeneworder(quantdiff,price_ip):\n",
    "    '''placeneworder(quantdiff,price_ip)'''\n",
    "    logger.debug('placeneworder @ ('+str(quantdiff)+','+str(price_ip)+')')\n",
    "    global stopbuy,stopsell,order_type,symbol_ip\n",
    "    if(quantdiff>0 and stopbuy == False):\n",
    "        try:\n",
    "            order_id= kite.place_order(tradingsymbol=symbol_ip,\n",
    "                        exchange=kite.EXCHANGE_CDS,\n",
    "                        transaction_type=kite.TRANSACTION_TYPE_BUY,\n",
    "                        quantity=abs(quantdiff),\n",
    "                        price=price_ip,\n",
    "                        order_type=kite.ORDER_TYPE_MARKET if price_ip==0 else kite.ORDER_TYPE_LIMIT,\n",
    "                        variety = kite.VARIETY_REGULAR,\n",
    "                        product=kite.PRODUCT_MIS if order_type=='MIS' else kite.PRODUCT_NRML)\n",
    "            stopsell = False\n",
    "            logger.debug('Order Successfully Placed @ '+str(order_type)+' '+str(quantdiff)+' '+str(price_ip))\n",
    "            getquant()\n",
    "            return True\n",
    "        except Exception as e:\n",
    "            stopbuy = False\n",
    "            print(e)\n",
    "            logger.debug('Order Rejected For @ '+str(order_type)+' '+str(quantdiff)+' '+str(price_ip))\n",
    "            getquant()\n",
    "            return False\n",
    "    if(quantdiff<0 and stopsell == False):\n",
    "        try:\n",
    "            order_id= kite.place_order(tradingsymbol=symbol_ip,\n",
    "                        exchange=kite.EXCHANGE_CDS,\n",
    "                        transaction_type=kite.TRANSACTION_TYPE_SELL,\n",
    "                        quantity=abs(quantdiff),\n",
    "                        price=price_ip,\n",
    "                        order_type=kite.ORDER_TYPE_MARKET if price_ip==0 else kite.ORDER_TYPE_LIMIT,\n",
    "                        variety = kite.VARIETY_REGULAR,\n",
    "                        product=kite.PRODUCT_MIS if order_type=='MIS' else kite.PRODUCT_NRML)\n",
    "            stopbuy = False\n",
    "            logger.debug('Order Successfully Placed @ '+str(order_type)+' '+str(quantdiff)+' '+str(price_ip))\n",
    "            getquant()\n",
    "            return True\n",
    "        except Exception as e:\n",
    "            stopsell = True\n",
    "            print(e)\n",
    "            logger.debug('Order Rejected For @ '+str(order_type)+' '+str(quantdiff)+' '+str(price_ip))\n",
    "            getquant()\n",
    "            return False\n",
    "\n",
    "def ckqnt (orderprice,orderquant):\n",
    "    logger.debug('ckqnt @ ('+str(orderprice)+','+str(orderquant)+') in ckqnt')\n",
    "    global myquantity\n",
    "    quantdiff = orderquant - myquantity\n",
    "    logger.debug(str(quantdiff)+' = '+str(orderquant)+'-'+str(myquantity)+ ' in ckqnt')\n",
    "    placeneworder(quantdiff,orderprice)\n",
    "    return myquantity\n",
    "\n",
    "def calc_and_update():\n",
    "    logger.debug('calc_and_update : '+ ' in calc_and_update')\n",
    "    try:\n",
    "        calc_rsi()\n",
    "    except:\n",
    "        print('calc_rsi failed'+ ' in calc_and_update')\n",
    "    update_status()"
   ]
  },
  {
   "cell_type": "code",
   "execution_count": 11,
   "metadata": {
    "scrolled": true
   },
   "outputs": [
    {
     "name": "stdout",
     "output_type": "stream",
     "text": [
      "=====================================\n",
      "LTP : 74.0675\n",
      "=====================================\n",
      "LTP : 74.0675\n",
      "=====================================\n",
      "LTP : 74.0675\n",
      "=====================================\n",
      "LTP : 74.0675\n",
      "=====================================\n",
      "LTP : 74.0675\n",
      "=====================================\n",
      "LTP : 74.0675\n",
      "=====================================\n",
      "LTP : 74.0675\n"
     ]
    },
    {
     "name": "stderr",
     "output_type": "stream",
     "text": [
      "2020-10-28 15:07:30.573 | DEBUG    | __main__:calc_and_update:59 - calc_and_update :  in calc_and_update\n"
     ]
    },
    {
     "name": "stdout",
     "output_type": "stream",
     "text": [
      "in the thread : \n",
      "=====================================\n",
      "LTP : 74.0675\n"
     ]
    },
    {
     "name": "stderr",
     "output_type": "stream",
     "text": [
      "2020-10-28 15:07:31.728 | DEBUG    | __main__:calc_rsi:24 - current_rsi : 59.0501\n",
      "2020-10-28 15:07:31.730 | DEBUG    | __main__:getquant:4 - getquant : \n"
     ]
    },
    {
     "name": "stdout",
     "output_type": "stream",
     "text": [
      "=====================================\n",
      "LTP : 74.0675\n",
      "Current RSI : 59.0501\n"
     ]
    },
    {
     "name": "stderr",
     "output_type": "stream",
     "text": [
      "2020-10-28 15:07:32.163 | DEBUG    | __main__:getquant:11 - My Quantity : 0\n"
     ]
    },
    {
     "name": "stdout",
     "output_type": "stream",
     "text": [
      "My Quantity : 0\n",
      "=====================================\n",
      "LTP : 74.0625\n",
      "=====================================\n",
      "LTP : 74.0675\n",
      "=====================================\n",
      "LTP : 74.0675\n",
      "=====================================\n",
      "LTP : 74.0675\n",
      "=====================================\n",
      "LTP : 74.0675\n",
      "=====================================\n",
      "LTP : 74.0675\n",
      "=====================================\n",
      "LTP : 74.0675\n",
      "=====================================\n",
      "LTP : 74.0675\n",
      "=====================================\n",
      "LTP : 74.0675\n"
     ]
    },
    {
     "name": "stderr",
     "output_type": "stream",
     "text": [
      "2020-10-28 15:07:40.461 | DEBUG    | __main__:calc_and_update:59 - calc_and_update :  in calc_and_update\n"
     ]
    },
    {
     "name": "stdout",
     "output_type": "stream",
     "text": [
      "in the thread : \n",
      "=====================================\n",
      "LTP : 74.065\n"
     ]
    },
    {
     "name": "stderr",
     "output_type": "stream",
     "text": [
      "2020-10-28 15:07:40.681 | DEBUG    | __main__:calc_and_update:59 - calc_and_update :  in calc_and_update\n"
     ]
    },
    {
     "name": "stdout",
     "output_type": "stream",
     "text": [
      "in the thread : \n",
      "=====================================\n",
      "LTP : 74.065\n"
     ]
    },
    {
     "name": "stderr",
     "output_type": "stream",
     "text": [
      "2020-10-28 15:07:41.426 | DEBUG    | __main__:calc_rsi:24 - current_rsi : 56.7461\n",
      "2020-10-28 15:07:41.427 | DEBUG    | __main__:getquant:4 - getquant : \n"
     ]
    },
    {
     "name": "stdout",
     "output_type": "stream",
     "text": [
      "=====================================\n",
      "LTP : 74.065\n",
      "Current RSI : 56.7461\n"
     ]
    },
    {
     "name": "stderr",
     "output_type": "stream",
     "text": [
      "2020-10-28 15:07:41.793 | DEBUG    | __main__:calc_rsi:24 - current_rsi : 59.0501\n",
      "2020-10-28 15:07:41.794 | DEBUG    | __main__:getquant:4 - getquant : \n",
      "2020-10-28 15:07:41.871 | DEBUG    | __main__:getquant:11 - My Quantity : 0\n"
     ]
    },
    {
     "name": "stdout",
     "output_type": "stream",
     "text": [
      "Current RSI : 59.0501\n",
      "=====================================\n",
      "LTP : 74.065\n",
      "My Quantity : 0\n"
     ]
    },
    {
     "name": "stderr",
     "output_type": "stream",
     "text": [
      "2020-10-28 15:07:42.160 | DEBUG    | __main__:getquant:11 - My Quantity : 0\n"
     ]
    },
    {
     "name": "stdout",
     "output_type": "stream",
     "text": [
      "My Quantity : 0\n",
      "=====================================\n",
      "LTP : 74.065\n",
      "=====================================\n",
      "LTP : 74.065\n",
      "=====================================\n",
      "LTP : 74.065\n",
      "=====================================\n",
      "LTP : 74.065\n",
      "=====================================\n",
      "LTP : 74.065\n",
      "=====================================\n",
      "LTP : 74.065\n",
      "=====================================\n",
      "LTP : 74.065\n",
      "=====================================\n",
      "LTP : 74.065\n"
     ]
    },
    {
     "name": "stderr",
     "output_type": "stream",
     "text": [
      "2020-10-28 15:07:50.300 | DEBUG    | __main__:calc_and_update:59 - calc_and_update :  in calc_and_update\n"
     ]
    },
    {
     "name": "stdout",
     "output_type": "stream",
     "text": [
      "in the thread : \n",
      "=====================================\n",
      "LTP : 74.065\n"
     ]
    },
    {
     "name": "stderr",
     "output_type": "stream",
     "text": [
      "2020-10-28 15:07:50.990 | DEBUG    | __main__:calc_and_update:59 - calc_and_update :  in calc_and_update\n"
     ]
    },
    {
     "name": "stdout",
     "output_type": "stream",
     "text": [
      "in the thread : \n",
      "=====================================\n",
      "LTP : 74.065\n"
     ]
    },
    {
     "name": "stderr",
     "output_type": "stream",
     "text": [
      "2020-10-28 15:07:51.194 | DEBUG    | __main__:calc_rsi:24 - current_rsi : 56.7461\n",
      "2020-10-28 15:07:51.196 | DEBUG    | __main__:getquant:4 - getquant : \n"
     ]
    },
    {
     "name": "stdout",
     "output_type": "stream",
     "text": [
      "Current RSI : 56.7461\n",
      "=====================================\n",
      "LTP : 74.065\n"
     ]
    },
    {
     "name": "stderr",
     "output_type": "stream",
     "text": [
      "2020-10-28 15:07:51.593 | DEBUG    | __main__:getquant:11 - My Quantity : 0\n",
      "2020-10-28 15:07:51.764 | DEBUG    | __main__:calc_rsi:24 - current_rsi : 56.7461\n",
      "2020-10-28 15:07:51.766 | DEBUG    | __main__:getquant:4 - getquant : \n"
     ]
    },
    {
     "name": "stdout",
     "output_type": "stream",
     "text": [
      "My Quantity : 0\n",
      "Current RSI : 56.7461\n"
     ]
    },
    {
     "name": "stderr",
     "output_type": "stream",
     "text": [
      "2020-10-28 15:07:52.106 | DEBUG    | __main__:getquant:11 - My Quantity : 0\n"
     ]
    },
    {
     "name": "stdout",
     "output_type": "stream",
     "text": [
      "=====================================\n",
      "LTP : 74.065\n",
      "My Quantity : 0\n",
      "=====================================\n",
      "LTP : 74.065\n",
      "=====================================\n",
      "LTP : 74.065\n",
      "=====================================\n",
      "LTP : 74.065\n",
      "=====================================\n",
      "LTP : 74.065\n",
      "=====================================\n",
      "LTP : 74.065\n",
      "=====================================\n",
      "LTP : 74.065\n",
      "=====================================\n",
      "LTP : 74.065\n",
      "=====================================\n",
      "LTP : 74.065\n",
      "=====================================\n",
      "LTP : 74.065\n",
      "=====================================\n",
      "LTP : 74.065\n",
      "=====================================\n",
      "LTP : 74.065\n",
      "=====================================\n",
      "LTP : 74.065\n",
      "=====================================\n",
      "LTP : 74.065\n",
      "=====================================\n",
      "LTP : 74.065\n",
      "=====================================\n",
      "LTP : 74.07\n",
      "=====================================\n",
      "LTP : 74.0675\n",
      "=====================================\n",
      "LTP : 74.0675\n",
      "=====================================\n",
      "LTP : 74.0675\n",
      "=====================================\n",
      "LTP : 74.0675\n"
     ]
    },
    {
     "name": "stderr",
     "output_type": "stream",
     "text": [
      "2020-10-28 15:08:10.001 | DEBUG    | __main__:calc_and_update:59 - calc_and_update :  in calc_and_update\n"
     ]
    },
    {
     "name": "stdout",
     "output_type": "stream",
     "text": [
      "in the thread : \n",
      "=====================================\n",
      "LTP : 74.0675\n"
     ]
    },
    {
     "name": "stderr",
     "output_type": "stream",
     "text": [
      "2020-10-28 15:08:10.916 | DEBUG    | __main__:calc_rsi:24 - current_rsi : 58.4903\n",
      "2020-10-28 15:08:10.918 | DEBUG    | __main__:getquant:4 - getquant : \n"
     ]
    },
    {
     "name": "stdout",
     "output_type": "stream",
     "text": [
      "Current RSI : 58.4903\n"
     ]
    },
    {
     "name": "stderr",
     "output_type": "stream",
     "text": [
      "2020-10-28 15:08:11.212 | DEBUG    | __main__:getquant:11 - My Quantity : 0\n"
     ]
    },
    {
     "name": "stdout",
     "output_type": "stream",
     "text": [
      "=====================================\n",
      "LTP : 74.0675\n",
      "My Quantity : 0\n",
      "=====================================\n",
      "LTP : 74.0675\n",
      "=====================================\n",
      "LTP : 74.0675\n",
      "=====================================\n",
      "LTP : 74.0675\n",
      "=====================================\n",
      "LTP : 74.0675\n",
      "=====================================\n",
      "LTP : 74.0675\n",
      "=====================================\n",
      "LTP : 74.0675\n",
      "=====================================\n",
      "LTP : 74.0675\n",
      "=====================================\n",
      "LTP : 74.0675\n"
     ]
    },
    {
     "name": "stderr",
     "output_type": "stream",
     "text": [
      "2020-10-28 15:08:20.152 | DEBUG    | __main__:calc_and_update:59 - calc_and_update :  in calc_and_update\n",
      "2020-10-28 15:08:20.278 | DEBUG    | __main__:calc_and_update:59 - calc_and_update :  in calc_and_update\n"
     ]
    },
    {
     "name": "stdout",
     "output_type": "stream",
     "text": [
      "in the thread : \n",
      "=====================================\n",
      "LTP : 74.0675\n",
      "in the thread : \n",
      "=====================================\n",
      "LTP : 74.0675\n"
     ]
    },
    {
     "name": "stderr",
     "output_type": "stream",
     "text": [
      "2020-10-28 15:08:21.197 | DEBUG    | __main__:calc_rsi:24 - current_rsi : 58.4903\n",
      "2020-10-28 15:08:21.199 | DEBUG    | __main__:getquant:4 - getquant : \n"
     ]
    },
    {
     "name": "stdout",
     "output_type": "stream",
     "text": [
      "Current RSI : 58.4903\n"
     ]
    },
    {
     "name": "stderr",
     "output_type": "stream",
     "text": [
      "2020-10-28 15:08:21.635 | DEBUG    | __main__:calc_rsi:24 - current_rsi : 58.4903\n",
      "2020-10-28 15:08:21.636 | DEBUG    | __main__:getquant:4 - getquant : \n"
     ]
    },
    {
     "name": "stdout",
     "output_type": "stream",
     "text": [
      "=====================================\n",
      "LTP : 74.0675\n",
      "Current RSI : 58.4903\n"
     ]
    },
    {
     "name": "stderr",
     "output_type": "stream",
     "text": [
      "2020-10-28 15:08:21.904 | DEBUG    | __main__:getquant:11 - My Quantity : 0\n"
     ]
    },
    {
     "name": "stdout",
     "output_type": "stream",
     "text": [
      "My Quantity : 0\n"
     ]
    },
    {
     "name": "stderr",
     "output_type": "stream",
     "text": [
      "2020-10-28 15:08:22.116 | DEBUG    | __main__:getquant:11 - My Quantity : 0\n"
     ]
    },
    {
     "name": "stdout",
     "output_type": "stream",
     "text": [
      "My Quantity : 0\n",
      "=====================================\n",
      "LTP : 74.0675\n",
      "=====================================\n",
      "LTP : 74.0675\n",
      "=====================================\n",
      "LTP : 74.0675\n",
      "=====================================\n",
      "LTP : 74.065\n",
      "=====================================\n",
      "LTP : 74.065\n",
      "=====================================\n",
      "LTP : 74.065\n",
      "=====================================\n",
      "LTP : 74.065\n",
      "=====================================\n",
      "LTP : 74.065\n"
     ]
    },
    {
     "name": "stderr",
     "output_type": "stream",
     "text": [
      "2020-10-28 15:08:30.371 | DEBUG    | __main__:calc_and_update:59 - calc_and_update :  in calc_and_update\n"
     ]
    },
    {
     "name": "stdout",
     "output_type": "stream",
     "text": [
      "in the thread : \n",
      "=====================================\n",
      "LTP : 74.065\n"
     ]
    },
    {
     "name": "stderr",
     "output_type": "stream",
     "text": [
      "2020-10-28 15:08:31.300 | DEBUG    | __main__:calc_rsi:24 - current_rsi : 58.4903\n",
      "2020-10-28 15:08:31.302 | DEBUG    | __main__:getquant:4 - getquant : \n"
     ]
    },
    {
     "name": "stdout",
     "output_type": "stream",
     "text": [
      "Current RSI : 58.4903\n"
     ]
    },
    {
     "name": "stderr",
     "output_type": "stream",
     "text": [
      "2020-10-28 15:08:31.622 | DEBUG    | __main__:getquant:11 - My Quantity : 0\n"
     ]
    },
    {
     "name": "stdout",
     "output_type": "stream",
     "text": [
      "=====================================\n",
      "LTP : 74.065\n",
      "My Quantity : 0\n",
      "=====================================\n",
      "LTP : 74.065\n",
      "=====================================\n",
      "LTP : 74.065\n",
      "=====================================\n",
      "LTP : 74.065\n",
      "=====================================\n",
      "LTP : 74.065\n",
      "=====================================\n",
      "LTP : 74.065\n",
      "=====================================\n",
      "LTP : 74.065\n",
      "=====================================\n",
      "LTP : 74.065\n"
     ]
    },
    {
     "name": "stderr",
     "output_type": "stream",
     "text": [
      "2020-10-28 15:08:40.039 | DEBUG    | __main__:calc_and_update:59 - calc_and_update :  in calc_and_update\n",
      "2020-10-28 15:08:40.105 | DEBUG    | __main__:calc_and_update:59 - calc_and_update :  in calc_and_update\n"
     ]
    },
    {
     "name": "stdout",
     "output_type": "stream",
     "text": [
      "in the thread : \n",
      "=====================================\n",
      "LTP : 74.065\n",
      "in the thread : \n",
      "=====================================\n",
      "LTP : 74.065\n"
     ]
    },
    {
     "name": "stderr",
     "output_type": "stream",
     "text": [
      "2020-10-28 15:08:40.789 | DEBUG    | __main__:calc_rsi:24 - current_rsi : 56.7461\n",
      "2020-10-28 15:08:40.836 | DEBUG    | __main__:getquant:4 - getquant : \n"
     ]
    },
    {
     "name": "stdout",
     "output_type": "stream",
     "text": [
      "Current RSI : 56.7461\n"
     ]
    },
    {
     "name": "stderr",
     "output_type": "stream",
     "text": [
      "2020-10-28 15:08:41.075 | DEBUG    | __main__:calc_rsi:24 - current_rsi : 56.7461\n",
      "2020-10-28 15:08:41.078 | DEBUG    | __main__:getquant:4 - getquant : \n"
     ]
    },
    {
     "name": "stdout",
     "output_type": "stream",
     "text": [
      "Current RSI : 56.7461\n"
     ]
    },
    {
     "name": "stderr",
     "output_type": "stream",
     "text": [
      "2020-10-28 15:08:41.322 | DEBUG    | __main__:getquant:11 - My Quantity : 0\n",
      "2020-10-28 15:08:41.398 | DEBUG    | __main__:getquant:11 - My Quantity : 0\n"
     ]
    },
    {
     "name": "stdout",
     "output_type": "stream",
     "text": [
      "My Quantity : 0\n",
      "My Quantity : 0\n",
      "=====================================\n",
      "LTP : 74.065\n",
      "=====================================\n",
      "LTP : 74.065\n",
      "=====================================\n",
      "LTP : 74.065\n",
      "=====================================\n",
      "LTP : 74.065\n",
      "=====================================\n",
      "LTP : 74.065\n",
      "=====================================\n",
      "LTP : 74.065\n",
      "=====================================\n",
      "LTP : 74.065\n",
      "=====================================\n",
      "LTP : 74.0625\n",
      "=====================================\n",
      "LTP : 74.0625\n",
      "=====================================\n",
      "LTP : 74.065\n",
      "=====================================\n",
      "LTP : 74.065\n"
     ]
    },
    {
     "name": "stderr",
     "output_type": "stream",
     "text": [
      "2020-10-28 15:08:50.278 | DEBUG    | __main__:calc_and_update:59 - calc_and_update :  in calc_and_update\n"
     ]
    },
    {
     "name": "stdout",
     "output_type": "stream",
     "text": [
      "in the thread : \n",
      "=====================================\n",
      "LTP : 74.065\n"
     ]
    },
    {
     "name": "stderr",
     "output_type": "stream",
     "text": [
      "2020-10-28 15:08:51.497 | DEBUG    | __main__:calc_rsi:24 - current_rsi : 58.4903\n",
      "2020-10-28 15:08:51.500 | DEBUG    | __main__:getquant:4 - getquant : \n"
     ]
    },
    {
     "name": "stdout",
     "output_type": "stream",
     "text": [
      "Current RSI : 58.4903\n",
      "=====================================\n",
      "LTP : 74.065\n"
     ]
    },
    {
     "name": "stderr",
     "output_type": "stream",
     "text": [
      "2020-10-28 15:08:52.261 | DEBUG    | __main__:getquant:11 - My Quantity : 0\n"
     ]
    },
    {
     "name": "stdout",
     "output_type": "stream",
     "text": [
      "=====================================\n",
      "LTP : 74.065\n",
      "My Quantity : 0\n",
      "=====================================\n",
      "LTP : 74.065\n",
      "=====================================\n",
      "LTP : 74.065\n",
      "=====================================\n",
      "LTP : 74.065\n",
      "=====================================\n",
      "LTP : 74.065\n",
      "=====================================\n",
      "LTP : 74.065\n",
      "=====================================\n",
      "LTP : 74.0625\n",
      "=====================================\n",
      "LTP : 74.0625\n",
      "=====================================\n",
      "LTP : 74.0625\n",
      "=====================================\n",
      "LTP : 74.06\n",
      "=====================================\n",
      "LTP : 74.0625\n",
      "=====================================\n",
      "LTP : 74.0625\n",
      "=====================================\n",
      "LTP : 74.0625\n",
      "=====================================\n",
      "LTP : 74.0625\n",
      "=====================================\n",
      "LTP : 74.065\n",
      "=====================================\n",
      "LTP : 74.065\n",
      "=====================================\n",
      "LTP : 74.065\n",
      "=====================================\n",
      "LTP : 74.065\n",
      "=====================================\n",
      "LTP : 74.065\n",
      "=====================================\n",
      "LTP : 74.065\n"
     ]
    },
    {
     "name": "stderr",
     "output_type": "stream",
     "text": [
      "2020-10-28 15:09:10.145 | DEBUG    | __main__:calc_and_update:59 - calc_and_update :  in calc_and_update\n"
     ]
    },
    {
     "name": "stdout",
     "output_type": "stream",
     "text": [
      "in the thread : \n",
      "=====================================\n",
      "LTP : 74.065\n"
     ]
    },
    {
     "name": "stderr",
     "output_type": "stream",
     "text": [
      "2020-10-28 15:09:10.759 | DEBUG    | __main__:calc_and_update:59 - calc_and_update :  in calc_and_update\n"
     ]
    },
    {
     "name": "stdout",
     "output_type": "stream",
     "text": [
      "in the thread : \n",
      "=====================================\n",
      "LTP : 74.065\n"
     ]
    },
    {
     "name": "stderr",
     "output_type": "stream",
     "text": [
      "2020-10-28 15:09:11.370 | DEBUG    | __main__:calc_rsi:24 - current_rsi : 56.0188\n",
      "2020-10-28 15:09:11.372 | DEBUG    | __main__:getquant:4 - getquant : \n"
     ]
    },
    {
     "name": "stdout",
     "output_type": "stream",
     "text": [
      "=====================================\n",
      "LTP : 74.065\n",
      "Current RSI : 56.0188\n"
     ]
    },
    {
     "name": "stderr",
     "output_type": "stream",
     "text": [
      "2020-10-28 15:09:12.016 | DEBUG    | __main__:calc_rsi:24 - current_rsi : 56.0188\n",
      "2020-10-28 15:09:12.018 | DEBUG    | __main__:getquant:4 - getquant : \n",
      "2020-10-28 15:09:12.194 | DEBUG    | __main__:getquant:11 - My Quantity : 0\n"
     ]
    },
    {
     "name": "stdout",
     "output_type": "stream",
     "text": [
      "=====================================\n",
      "LTP : 74.0675\n",
      "Current RSI : 56.0188\n",
      "My Quantity : 0\n"
     ]
    },
    {
     "name": "stderr",
     "output_type": "stream",
     "text": [
      "2020-10-28 15:09:12.543 | DEBUG    | __main__:getquant:11 - My Quantity : 0\n"
     ]
    },
    {
     "name": "stdout",
     "output_type": "stream",
     "text": [
      "My Quantity : 0\n",
      "=====================================\n",
      "LTP : 74.0625\n",
      "=====================================\n",
      "LTP : 74.0625\n",
      "=====================================\n",
      "LTP : 74.0625\n",
      "=====================================\n",
      "LTP : 74.0625\n",
      "=====================================\n",
      "LTP : 74.0625\n",
      "=====================================\n",
      "LTP : 74.0625\n",
      "=====================================\n",
      "LTP : 74.0625\n",
      "=====================================\n",
      "LTP : 74.0625\n",
      "=====================================\n",
      "LTP : 74.0675\n",
      "=====================================\n",
      "LTP : 74.065\n",
      "=====================================\n",
      "LTP : 74.065\n",
      "=====================================\n",
      "LTP : 74.065\n",
      "=====================================\n",
      "LTP : 74.065\n"
     ]
    },
    {
     "name": "stderr",
     "output_type": "stream",
     "text": [
      "2020-10-28 15:09:20.191 | DEBUG    | __main__:calc_and_update:59 - calc_and_update :  in calc_and_update\n"
     ]
    },
    {
     "name": "stdout",
     "output_type": "stream",
     "text": [
      "in the thread : \n",
      "=====================================\n",
      "LTP : 74.065\n"
     ]
    },
    {
     "name": "stderr",
     "output_type": "stream",
     "text": [
      "2020-10-28 15:09:20.864 | DEBUG    | __main__:calc_and_update:59 - calc_and_update :  in calc_and_update\n",
      "2020-10-28 15:09:20.910 | DEBUG    | __main__:calc_rsi:24 - current_rsi : 56.0188\n",
      "2020-10-28 15:09:20.913 | DEBUG    | __main__:getquant:4 - getquant : \n"
     ]
    },
    {
     "name": "stdout",
     "output_type": "stream",
     "text": [
      "in the thread : \n",
      "=====================================\n",
      "LTP : 74.0675\n",
      "Current RSI : 56.0188\n"
     ]
    },
    {
     "name": "stderr",
     "output_type": "stream",
     "text": [
      "2020-10-28 15:09:21.244 | DEBUG    | __main__:getquant:11 - My Quantity : 0\n"
     ]
    },
    {
     "name": "stdout",
     "output_type": "stream",
     "text": [
      "My Quantity : 0\n",
      "=====================================\n",
      "LTP : 74.0675\n"
     ]
    },
    {
     "name": "stderr",
     "output_type": "stream",
     "text": [
      "2020-10-28 15:09:21.569 | DEBUG    | __main__:calc_rsi:24 - current_rsi : 56.0188\n",
      "2020-10-28 15:09:21.571 | DEBUG    | __main__:getquant:4 - getquant : \n"
     ]
    },
    {
     "name": "stdout",
     "output_type": "stream",
     "text": [
      "Current RSI : 56.0188\n"
     ]
    },
    {
     "name": "stderr",
     "output_type": "stream",
     "text": [
      "2020-10-28 15:09:21.966 | DEBUG    | __main__:getquant:11 - My Quantity : 0\n"
     ]
    },
    {
     "name": "stdout",
     "output_type": "stream",
     "text": [
      "My Quantity : 0\n",
      "=====================================\n",
      "LTP : 74.0625\n",
      "=====================================\n",
      "LTP : 74.0625\n",
      "=====================================\n",
      "LTP : 74.0625\n",
      "=====================================\n",
      "LTP : 74.0675\n",
      "=====================================\n",
      "LTP : 74.0675\n",
      "=====================================\n",
      "LTP : 74.0675\n",
      "=====================================\n",
      "LTP : 74.0675\n",
      "=====================================\n",
      "LTP : 74.0675\n",
      "=====================================\n",
      "LTP : 74.0675\n",
      "=====================================\n",
      "LTP : 74.0675\n",
      "=====================================\n",
      "LTP : 74.0675\n"
     ]
    },
    {
     "name": "stderr",
     "output_type": "stream",
     "text": [
      "2020-10-28 15:09:30.419 | DEBUG    | __main__:calc_and_update:59 - calc_and_update :  in calc_and_update\n"
     ]
    },
    {
     "name": "stdout",
     "output_type": "stream",
     "text": [
      "in the thread : \n",
      "=====================================\n",
      "LTP : 74.0675\n",
      "=====================================\n",
      "LTP : 74.07\n",
      "=====================================\n",
      "LTP : 74.07\n",
      "=====================================\n",
      "LTP : 74.0675\n",
      "=====================================\n",
      "LTP : 74.07\n",
      "=====================================\n",
      "LTP : 74.07\n",
      "=====================================\n",
      "LTP : 74.07\n",
      "=====================================\n",
      "LTP : 74.07\n",
      "=====================================\n",
      "LTP : 74.07\n",
      "=====================================\n",
      "LTP : 74.07\n",
      "=====================================\n",
      "LTP : 74.065\n"
     ]
    },
    {
     "name": "stderr",
     "output_type": "stream",
     "text": [
      "2020-10-28 15:09:38.420 | DEBUG    | __main__:calc_rsi:24 - current_rsi : 56.0188\n",
      "2020-10-28 15:09:38.421 | DEBUG    | __main__:getquant:4 - getquant : \n"
     ]
    },
    {
     "name": "stdout",
     "output_type": "stream",
     "text": [
      "=====================================\n",
      "LTP : 74.07\n",
      "Current RSI : 56.0188\n",
      "=====================================\n",
      "LTP : 74.065\n",
      "=====================================\n",
      "LTP : 74.07\n"
     ]
    },
    {
     "name": "stderr",
     "output_type": "stream",
     "text": [
      "2020-10-28 15:09:40.249 | DEBUG    | __main__:calc_and_update:59 - calc_and_update :  in calc_and_update\n"
     ]
    },
    {
     "name": "stdout",
     "output_type": "stream",
     "text": [
      "in the thread : \n",
      "=====================================\n",
      "LTP : 74.07\n"
     ]
    },
    {
     "name": "stderr",
     "output_type": "stream",
     "text": [
      "2020-10-28 15:09:40.631 | DEBUG    | __main__:calc_and_update:59 - calc_and_update :  in calc_and_update\n"
     ]
    },
    {
     "name": "stdout",
     "output_type": "stream",
     "text": [
      "in the thread : \n",
      "=====================================\n",
      "LTP : 74.07\n"
     ]
    },
    {
     "name": "stderr",
     "output_type": "stream",
     "text": [
      "2020-10-28 15:09:41.481 | DEBUG    | __main__:calc_rsi:24 - current_rsi : 56.0188\n",
      "2020-10-28 15:09:41.482 | DEBUG    | __main__:getquant:4 - getquant : \n"
     ]
    },
    {
     "name": "stdout",
     "output_type": "stream",
     "text": [
      "Current RSI : 56.0188\n",
      "=====================================\n",
      "LTP : 74.07\n"
     ]
    },
    {
     "name": "stderr",
     "output_type": "stream",
     "text": [
      "2020-10-28 15:09:41.868 | DEBUG    | __main__:calc_rsi:24 - current_rsi : 56.0188\n",
      "2020-10-28 15:09:41.870 | DEBUG    | __main__:getquant:4 - getquant : \n",
      "2020-10-28 15:09:42.022 | DEBUG    | __main__:getquant:11 - My Quantity : 0\n"
     ]
    },
    {
     "name": "stdout",
     "output_type": "stream",
     "text": [
      "=====================================\n",
      "LTP : 74.07\n",
      "Current RSI : 56.0188\n",
      "My Quantity : 0\n"
     ]
    },
    {
     "name": "stderr",
     "output_type": "stream",
     "text": [
      "2020-10-28 15:09:42.236 | DEBUG    | __main__:getquant:11 - My Quantity : 0\n"
     ]
    },
    {
     "name": "stdout",
     "output_type": "stream",
     "text": [
      "My Quantity : 0\n",
      "=====================================\n",
      "LTP : 74.07\n",
      "=====================================\n",
      "LTP : 74.07\n",
      "=====================================\n",
      "LTP : 74.07\n",
      "=====================================\n",
      "LTP : 74.07\n"
     ]
    },
    {
     "name": "stderr",
     "output_type": "stream",
     "text": [
      "2020-10-28 15:09:45.812 | DEBUG    | __main__:getquant:11 - My Quantity : 0\n"
     ]
    },
    {
     "name": "stdout",
     "output_type": "stream",
     "text": [
      "My Quantity : 0\n",
      "=====================================\n",
      "LTP : 74.07\n",
      "=====================================\n",
      "LTP : 74.07\n",
      "=====================================\n",
      "LTP : 74.07\n",
      "=====================================\n",
      "LTP : 74.07\n",
      "=====================================\n",
      "LTP : 74.07\n",
      "=====================================\n",
      "LTP : 74.065\n",
      "=====================================\n",
      "LTP : 74.07\n"
     ]
    },
    {
     "name": "stderr",
     "output_type": "stream",
     "text": [
      "2020-10-28 15:09:50.490 | DEBUG    | __main__:calc_and_update:59 - calc_and_update :  in calc_and_update\n"
     ]
    },
    {
     "name": "stdout",
     "output_type": "stream",
     "text": [
      "in the thread : \n",
      "=====================================\n",
      "LTP : 74.07\n"
     ]
    },
    {
     "name": "stderr",
     "output_type": "stream",
     "text": [
      "2020-10-28 15:09:50.746 | DEBUG    | __main__:calc_and_update:59 - calc_and_update :  in calc_and_update\n"
     ]
    },
    {
     "name": "stdout",
     "output_type": "stream",
     "text": [
      "in the thread : \n",
      "=====================================\n",
      "LTP : 74.07\n"
     ]
    },
    {
     "name": "stderr",
     "output_type": "stream",
     "text": [
      "2020-10-28 15:09:51.428 | DEBUG    | __main__:calc_rsi:24 - current_rsi : 56.0188\n",
      "2020-10-28 15:09:51.430 | DEBUG    | __main__:getquant:4 - getquant : \n"
     ]
    },
    {
     "name": "stdout",
     "output_type": "stream",
     "text": [
      "Current RSI : 56.0188\n"
     ]
    },
    {
     "name": "stderr",
     "output_type": "stream",
     "text": [
      "2020-10-28 15:09:51.818 | DEBUG    | __main__:calc_rsi:24 - current_rsi : 56.0188\n",
      "2020-10-28 15:09:51.820 | DEBUG    | __main__:getquant:4 - getquant : \n"
     ]
    },
    {
     "name": "stdout",
     "output_type": "stream",
     "text": [
      "=====================================\n",
      "LTP : 74.07\n",
      "Current RSI : 56.0188\n"
     ]
    },
    {
     "name": "stderr",
     "output_type": "stream",
     "text": [
      "2020-10-28 15:09:52.089 | DEBUG    | __main__:getquant:11 - My Quantity : 0\n"
     ]
    },
    {
     "name": "stdout",
     "output_type": "stream",
     "text": [
      "My Quantity : 0\n"
     ]
    },
    {
     "name": "stderr",
     "output_type": "stream",
     "text": [
      "2020-10-28 15:09:52.404 | DEBUG    | __main__:getquant:11 - My Quantity : 0\n"
     ]
    },
    {
     "name": "stdout",
     "output_type": "stream",
     "text": [
      "My Quantity : 0\n",
      "=====================================\n",
      "LTP : 74.07\n",
      "=====================================\n",
      "LTP : 74.065\n",
      "=====================================\n",
      "LTP : 74.07\n",
      "=====================================\n",
      "LTP : 74.07\n",
      "=====================================\n",
      "LTP : 74.07\n",
      "=====================================\n",
      "LTP : 74.07\n",
      "=====================================\n",
      "LTP : 74.07\n",
      "=====================================\n",
      "LTP : 74.0725\n",
      "=====================================\n",
      "LTP : 74.0725\n",
      "=====================================\n",
      "LTP : 74.0725\n",
      "=====================================\n",
      "LTP : 74.0675\n",
      "=====================================\n",
      "LTP : 74.0675\n",
      "=====================================\n",
      "LTP : 74.0675\n",
      "=====================================\n",
      "LTP : 74.0675\n",
      "=====================================\n",
      "LTP : 74.0675\n",
      "=====================================\n",
      "LTP : 74.0675\n",
      "=====================================\n",
      "LTP : 74.07\n",
      "=====================================\n",
      "LTP : 74.07\n",
      "=====================================\n",
      "LTP : 74.07\n",
      "=====================================\n",
      "LTP : 74.07\n",
      "=====================================\n",
      "LTP : 74.07\n"
     ]
    },
    {
     "name": "stderr",
     "output_type": "stream",
     "text": [
      "2020-10-28 15:10:10.068 | DEBUG    | __main__:calc_and_update:59 - calc_and_update :  in calc_and_update\n"
     ]
    },
    {
     "name": "stdout",
     "output_type": "stream",
     "text": [
      "in the thread : \n",
      "=====================================\n",
      "LTP : 74.07\n"
     ]
    },
    {
     "name": "stderr",
     "output_type": "stream",
     "text": [
      "2020-10-28 15:10:10.800 | DEBUG    | __main__:calc_and_update:59 - calc_and_update :  in calc_and_update\n"
     ]
    },
    {
     "name": "stdout",
     "output_type": "stream",
     "text": [
      "in the thread : \n",
      "=====================================\n",
      "LTP : 74.07\n"
     ]
    },
    {
     "name": "stderr",
     "output_type": "stream",
     "text": [
      "2020-10-28 15:10:10.995 | DEBUG    | __main__:calc_rsi:24 - current_rsi : 59.2774\n",
      "2020-10-28 15:10:10.997 | DEBUG    | __main__:getquant:4 - getquant : \n"
     ]
    },
    {
     "name": "stdout",
     "output_type": "stream",
     "text": [
      "Current RSI : 59.2774\n",
      "=====================================\n",
      "LTP : 74.07\n"
     ]
    },
    {
     "name": "stderr",
     "output_type": "stream",
     "text": [
      "2020-10-28 15:10:11.614 | DEBUG    | __main__:getquant:11 - My Quantity : 0\n",
      "2020-10-28 15:10:11.809 | DEBUG    | __main__:calc_rsi:24 - current_rsi : 59.2774\n",
      "2020-10-28 15:10:11.811 | DEBUG    | __main__:getquant:4 - getquant : \n"
     ]
    },
    {
     "name": "stdout",
     "output_type": "stream",
     "text": [
      "My Quantity : 0\n",
      "Current RSI : 59.2774\n"
     ]
    },
    {
     "name": "stderr",
     "output_type": "stream",
     "text": [
      "2020-10-28 15:10:12.154 | DEBUG    | __main__:getquant:11 - My Quantity : 0\n"
     ]
    },
    {
     "name": "stdout",
     "output_type": "stream",
     "text": [
      "My Quantity : 0\n",
      "=====================================\n",
      "LTP : 74.0725\n",
      "=====================================\n",
      "LTP : 74.0725\n",
      "=====================================\n",
      "LTP : 74.0725\n",
      "=====================================\n",
      "LTP : 74.0725\n",
      "=====================================\n",
      "LTP : 74.07\n",
      "=====================================\n",
      "LTP : 74.0725\n",
      "=====================================\n",
      "LTP : 74.0725\n",
      "=====================================\n",
      "LTP : 74.0725\n",
      "=====================================\n",
      "LTP : 74.0725\n",
      "=====================================\n",
      "LTP : 74.07\n",
      "=====================================\n",
      "LTP : 74.07\n",
      "=====================================\n",
      "LTP : 74.0725\n",
      "=====================================\n",
      "LTP : 74.0725\n"
     ]
    },
    {
     "name": "stderr",
     "output_type": "stream",
     "text": [
      "2020-10-28 15:10:20.299 | DEBUG    | __main__:calc_and_update:59 - calc_and_update :  in calc_and_update\n"
     ]
    },
    {
     "name": "stdout",
     "output_type": "stream",
     "text": [
      "in the thread : \n",
      "=====================================\n",
      "LTP : 74.0725\n"
     ]
    },
    {
     "name": "stderr",
     "output_type": "stream",
     "text": [
      "2020-10-28 15:10:20.940 | DEBUG    | __main__:calc_and_update:59 - calc_and_update :  in calc_and_update\n",
      "2020-10-28 15:10:21.138 | DEBUG    | __main__:calc_rsi:24 - current_rsi : 59.2774\n",
      "2020-10-28 15:10:21.140 | DEBUG    | __main__:getquant:4 - getquant : \n"
     ]
    },
    {
     "name": "stdout",
     "output_type": "stream",
     "text": [
      "in the thread : \n",
      "=====================================\n",
      "LTP : 74.0725\n",
      "Current RSI : 59.2774\n",
      "=====================================\n",
      "LTP : 74.0725\n"
     ]
    },
    {
     "name": "stderr",
     "output_type": "stream",
     "text": [
      "2020-10-28 15:10:21.868 | DEBUG    | __main__:getquant:11 - My Quantity : 0\n",
      "2020-10-28 15:10:22.050 | DEBUG    | __main__:calc_rsi:24 - current_rsi : 59.2774\n",
      "2020-10-28 15:10:22.052 | DEBUG    | __main__:getquant:4 - getquant : \n"
     ]
    },
    {
     "name": "stdout",
     "output_type": "stream",
     "text": [
      "My Quantity : 0\n",
      "Current RSI : 59.2774\n",
      "=====================================\n",
      "LTP : 74.0725\n"
     ]
    },
    {
     "name": "stderr",
     "output_type": "stream",
     "text": [
      "2020-10-28 15:10:22.396 | DEBUG    | __main__:getquant:11 - My Quantity : 0\n"
     ]
    },
    {
     "name": "stdout",
     "output_type": "stream",
     "text": [
      "My Quantity : 0\n",
      "=====================================\n",
      "LTP : 74.0725\n",
      "=====================================\n",
      "LTP : 74.0725\n",
      "=====================================\n",
      "LTP : 74.0725\n",
      "=====================================\n",
      "LTP : 74.075\n",
      "=====================================\n",
      "LTP : 74.075\n",
      "=====================================\n",
      "LTP : 74.0725\n",
      "=====================================\n",
      "LTP : 74.0725\n",
      "=====================================\n",
      "LTP : 74.0725\n",
      "=====================================\n",
      "LTP : 74.0725\n",
      "=====================================\n",
      "LTP : 74.0725\n"
     ]
    },
    {
     "name": "stderr",
     "output_type": "stream",
     "text": [
      "2020-10-28 15:10:30.541 | DEBUG    | __main__:calc_and_update:59 - calc_and_update :  in calc_and_update\n"
     ]
    },
    {
     "name": "stdout",
     "output_type": "stream",
     "text": [
      "in the thread : \n",
      "=====================================\n",
      "LTP : 74.0725\n"
     ]
    },
    {
     "name": "stderr",
     "output_type": "stream",
     "text": [
      "2020-10-28 15:10:31.423 | DEBUG    | __main__:calc_rsi:24 - current_rsi : 59.2774\n",
      "2020-10-28 15:10:31.425 | DEBUG    | __main__:getquant:4 - getquant : \n"
     ]
    },
    {
     "name": "stdout",
     "output_type": "stream",
     "text": [
      "Current RSI : 59.2774\n"
     ]
    },
    {
     "name": "stderr",
     "output_type": "stream",
     "text": [
      "2020-10-28 15:10:31.745 | DEBUG    | __main__:getquant:11 - My Quantity : 0\n"
     ]
    },
    {
     "name": "stdout",
     "output_type": "stream",
     "text": [
      "My Quantity : 0\n",
      "=====================================\n",
      "LTP : 74.0725\n",
      "=====================================\n",
      "LTP : 74.0725\n",
      "=====================================\n",
      "LTP : 74.0725\n",
      "=====================================\n",
      "LTP : 74.0725\n",
      "=====================================\n",
      "LTP : 74.075\n",
      "=====================================\n",
      "LTP : 74.075\n",
      "=====================================\n",
      "LTP : 74.075\n",
      "=====================================\n",
      "LTP : 74.07\n",
      "=====================================\n",
      "LTP : 74.07\n",
      "=====================================\n",
      "LTP : 74.075\n"
     ]
    },
    {
     "name": "stderr",
     "output_type": "stream",
     "text": [
      "2020-10-28 15:10:40.129 | DEBUG    | __main__:calc_and_update:59 - calc_and_update :  in calc_and_update\n"
     ]
    },
    {
     "name": "stdout",
     "output_type": "stream",
     "text": [
      "in the thread : \n",
      "=====================================\n",
      "LTP : 74.075\n"
     ]
    },
    {
     "name": "stderr",
     "output_type": "stream",
     "text": [
      "2020-10-28 15:10:40.745 | DEBUG    | __main__:calc_and_update:59 - calc_and_update :  in calc_and_update\n",
      "2020-10-28 15:10:40.916 | DEBUG    | __main__:calc_rsi:24 - current_rsi : 59.2774\n",
      "2020-10-28 15:10:40.917 | DEBUG    | __main__:getquant:4 - getquant : \n"
     ]
    },
    {
     "name": "stdout",
     "output_type": "stream",
     "text": [
      "in the thread : \n",
      "=====================================\n",
      "LTP : 74.075\n",
      "Current RSI : 59.2774\n"
     ]
    },
    {
     "name": "stderr",
     "output_type": "stream",
     "text": [
      "2020-10-28 15:10:41.349 | DEBUG    | __main__:getquant:11 - My Quantity : 0\n"
     ]
    },
    {
     "name": "stdout",
     "output_type": "stream",
     "text": [
      "My Quantity : 0\n"
     ]
    },
    {
     "name": "stderr",
     "output_type": "stream",
     "text": [
      "2020-10-28 15:10:41.769 | DEBUG    | __main__:calc_rsi:24 - current_rsi : 59.2774\n",
      "2020-10-28 15:10:41.771 | DEBUG    | __main__:getquant:4 - getquant : \n"
     ]
    },
    {
     "name": "stdout",
     "output_type": "stream",
     "text": [
      "Current RSI : 59.2774\n",
      "=====================================\n",
      "LTP : 74.075\n"
     ]
    },
    {
     "name": "stderr",
     "output_type": "stream",
     "text": [
      "2020-10-28 15:10:42.086 | DEBUG    | __main__:getquant:11 - My Quantity : 0\n"
     ]
    },
    {
     "name": "stdout",
     "output_type": "stream",
     "text": [
      "My Quantity : 0\n",
      "=====================================\n",
      "LTP : 74.075\n",
      "=====================================\n",
      "LTP : 74.075\n",
      "=====================================\n",
      "LTP : 74.075\n",
      "=====================================\n",
      "LTP : 74.075\n",
      "=====================================\n",
      "LTP : 74.075\n",
      "=====================================\n",
      "LTP : 74.075\n",
      "=====================================\n",
      "LTP : 74.0775\n",
      "=====================================\n",
      "LTP : 74.0775\n",
      "=====================================\n",
      "LTP : 74.0775\n",
      "=====================================\n",
      "LTP : 74.0775\n"
     ]
    },
    {
     "name": "stderr",
     "output_type": "stream",
     "text": [
      "2020-10-28 15:10:50.849 | DEBUG    | __main__:calc_and_update:59 - calc_and_update :  in calc_and_update\n"
     ]
    },
    {
     "name": "stdout",
     "output_type": "stream",
     "text": [
      "in the thread : \n",
      "=====================================\n",
      "LTP : 74.075\n"
     ]
    },
    {
     "name": "stderr",
     "output_type": "stream",
     "text": [
      "2020-10-28 15:10:51.743 | DEBUG    | __main__:calc_rsi:24 - current_rsi : 59.2774\n",
      "2020-10-28 15:10:51.745 | DEBUG    | __main__:getquant:4 - getquant : \n"
     ]
    },
    {
     "name": "stdout",
     "output_type": "stream",
     "text": [
      "=====================================\n",
      "LTP : 74.075\n",
      "Current RSI : 59.2774\n"
     ]
    },
    {
     "name": "stderr",
     "output_type": "stream",
     "text": [
      "2020-10-28 15:10:52.269 | DEBUG    | __main__:getquant:11 - My Quantity : 0\n"
     ]
    },
    {
     "name": "stdout",
     "output_type": "stream",
     "text": [
      "My Quantity : 0\n",
      "=====================================\n",
      "LTP : 74.075\n",
      "=====================================\n",
      "LTP : 74.075\n",
      "=====================================\n",
      "LTP : 74.075\n",
      "=====================================\n",
      "LTP : 74.075\n",
      "=====================================\n",
      "LTP : 74.075\n",
      "=====================================\n",
      "LTP : 74.075\n",
      "=====================================\n",
      "LTP : 74.075\n",
      "=====================================\n",
      "LTP : 74.075\n",
      "=====================================\n",
      "LTP : 74.075\n",
      "=====================================\n",
      "LTP : 74.075\n",
      "=====================================\n",
      "LTP : 74.0725\n",
      "=====================================\n",
      "LTP : 74.0725\n",
      "=====================================\n",
      "LTP : 74.075\n",
      "=====================================\n",
      "LTP : 74.075\n",
      "=====================================\n",
      "LTP : 74.075\n",
      "=====================================\n",
      "LTP : 74.075\n",
      "=====================================\n",
      "LTP : 74.075\n",
      "=====================================\n",
      "LTP : 74.075\n",
      "=====================================\n",
      "LTP : 74.075\n",
      "=====================================\n",
      "LTP : 74.0725\n"
     ]
    },
    {
     "name": "stderr",
     "output_type": "stream",
     "text": [
      "2020-10-28 15:11:10.184 | DEBUG    | __main__:calc_and_update:59 - calc_and_update :  in calc_and_update\n"
     ]
    },
    {
     "name": "stdout",
     "output_type": "stream",
     "text": [
      "in the thread : \n",
      "=====================================\n",
      "LTP : 74.0725\n"
     ]
    },
    {
     "name": "stderr",
     "output_type": "stream",
     "text": [
      "2020-10-28 15:11:10.617 | DEBUG    | __main__:calc_and_update:59 - calc_and_update :  in calc_and_update\n"
     ]
    },
    {
     "name": "stdout",
     "output_type": "stream",
     "text": [
      "in the thread : \n",
      "=====================================\n",
      "LTP : 74.0725\n"
     ]
    },
    {
     "name": "stderr",
     "output_type": "stream",
     "text": [
      "2020-10-28 15:11:11.212 | DEBUG    | __main__:calc_rsi:24 - current_rsi : 59.8823\n",
      "2020-10-28 15:11:11.215 | DEBUG    | __main__:getquant:4 - getquant : \n"
     ]
    },
    {
     "name": "stdout",
     "output_type": "stream",
     "text": [
      "Current RSI : 59.8823\n",
      "=====================================\n",
      "LTP : 74.075\n"
     ]
    },
    {
     "name": "stderr",
     "output_type": "stream",
     "text": [
      "2020-10-28 15:11:11.926 | DEBUG    | __main__:getquant:11 - My Quantity : 0\n",
      "2020-10-28 15:11:11.932 | DEBUG    | __main__:calc_rsi:24 - current_rsi : 59.8823\n",
      "2020-10-28 15:11:11.934 | DEBUG    | __main__:getquant:4 - getquant : \n"
     ]
    },
    {
     "name": "stdout",
     "output_type": "stream",
     "text": [
      "My Quantity : 0\n",
      "Current RSI : 59.8823\n"
     ]
    },
    {
     "name": "stderr",
     "output_type": "stream",
     "text": [
      "2020-10-28 15:11:12.299 | DEBUG    | __main__:getquant:11 - My Quantity : 0\n"
     ]
    },
    {
     "name": "stdout",
     "output_type": "stream",
     "text": [
      "My Quantity : 0\n",
      "=====================================\n",
      "LTP : 74.075\n",
      "=====================================\n",
      "LTP : 74.075\n",
      "=====================================\n",
      "LTP : 74.075\n",
      "=====================================\n",
      "LTP : 74.075\n",
      "=====================================\n",
      "LTP : 74.075\n",
      "=====================================\n",
      "LTP : 74.075\n",
      "=====================================\n",
      "LTP : 74.075\n",
      "=====================================\n",
      "LTP : 74.0725\n",
      "=====================================\n",
      "LTP : 74.0725\n",
      "=====================================\n",
      "LTP : 74.0725\n"
     ]
    },
    {
     "name": "stderr",
     "output_type": "stream",
     "text": [
      "2020-10-28 15:11:20.433 | DEBUG    | __main__:calc_and_update:59 - calc_and_update :  in calc_and_update\n"
     ]
    },
    {
     "name": "stdout",
     "output_type": "stream",
     "text": [
      "in the thread : \n",
      "=====================================\n",
      "LTP : 74.0725\n"
     ]
    },
    {
     "name": "stderr",
     "output_type": "stream",
     "text": [
      "2020-10-28 15:11:21.430 | DEBUG    | __main__:calc_rsi:24 - current_rsi : 59.8823\n",
      "2020-10-28 15:11:21.432 | DEBUG    | __main__:getquant:4 - getquant : \n"
     ]
    },
    {
     "name": "stdout",
     "output_type": "stream",
     "text": [
      "=====================================\n",
      "LTP : 74.0725\n",
      "Current RSI : 59.8823\n"
     ]
    },
    {
     "name": "stderr",
     "output_type": "stream",
     "text": [
      "2020-10-28 15:11:21.743 | DEBUG    | __main__:getquant:11 - My Quantity : 0\n"
     ]
    },
    {
     "name": "stdout",
     "output_type": "stream",
     "text": [
      "My Quantity : 0\n",
      "=====================================\n",
      "LTP : 74.0725\n",
      "=====================================\n",
      "LTP : 74.0725\n",
      "=====================================\n",
      "LTP : 74.0725\n",
      "=====================================\n",
      "LTP : 74.0725\n",
      "=====================================\n",
      "LTP : 74.0725\n",
      "=====================================\n",
      "LTP : 74.0725\n",
      "=====================================\n",
      "LTP : 74.0725\n",
      "=====================================\n",
      "LTP : 74.0725\n"
     ]
    },
    {
     "name": "stderr",
     "output_type": "stream",
     "text": [
      "2020-10-28 15:11:30.031 | DEBUG    | __main__:calc_and_update:59 - calc_and_update :  in calc_and_update\n"
     ]
    },
    {
     "name": "stdout",
     "output_type": "stream",
     "text": [
      "in the thread : \n",
      "=====================================\n",
      "LTP : 74.0725\n"
     ]
    },
    {
     "name": "stderr",
     "output_type": "stream",
     "text": [
      "2020-10-28 15:11:30.349 | DEBUG    | __main__:calc_and_update:59 - calc_and_update :  in calc_and_update\n"
     ]
    },
    {
     "name": "stdout",
     "output_type": "stream",
     "text": [
      "in the thread : \n",
      "=====================================\n",
      "LTP : 74.0725\n"
     ]
    },
    {
     "name": "stderr",
     "output_type": "stream",
     "text": [
      "2020-10-28 15:11:30.899 | DEBUG    | __main__:calc_rsi:24 - current_rsi : 59.8823\n",
      "2020-10-28 15:11:30.901 | DEBUG    | __main__:getquant:4 - getquant : \n"
     ]
    },
    {
     "name": "stdout",
     "output_type": "stream",
     "text": [
      "Current RSI : 59.8823\n"
     ]
    },
    {
     "name": "stderr",
     "output_type": "stream",
     "text": [
      "2020-10-28 15:11:31.608 | DEBUG    | __main__:getquant:11 - My Quantity : 0\n",
      "2020-10-28 15:11:31.780 | DEBUG    | __main__:calc_rsi:24 - current_rsi : 59.8823\n",
      "2020-10-28 15:11:31.782 | DEBUG    | __main__:getquant:4 - getquant : \n"
     ]
    },
    {
     "name": "stdout",
     "output_type": "stream",
     "text": [
      "My Quantity : 0\n",
      "=====================================\n",
      "LTP : 74.0725\n",
      "Current RSI : 59.8823\n"
     ]
    },
    {
     "name": "stderr",
     "output_type": "stream",
     "text": [
      "2020-10-28 15:11:32.152 | DEBUG    | __main__:getquant:11 - My Quantity : 0\n"
     ]
    },
    {
     "name": "stdout",
     "output_type": "stream",
     "text": [
      "My Quantity : 0\n",
      "=====================================\n",
      "LTP : 74.07\n",
      "=====================================\n",
      "LTP : 74.07\n",
      "=====================================\n",
      "LTP : 74.07\n",
      "=====================================\n",
      "LTP : 74.07\n",
      "=====================================\n",
      "LTP : 74.07\n",
      "=====================================\n",
      "LTP : 74.07\n",
      "=====================================\n",
      "LTP : 74.07\n"
     ]
    },
    {
     "name": "stderr",
     "output_type": "stream",
     "text": [
      "2020-10-28 15:11:40.538 | DEBUG    | __main__:calc_and_update:59 - calc_and_update :  in calc_and_update\n"
     ]
    },
    {
     "name": "stdout",
     "output_type": "stream",
     "text": [
      "in the thread : \n",
      "=====================================\n",
      "LTP : 74.0675\n"
     ]
    },
    {
     "name": "stderr",
     "output_type": "stream",
     "text": [
      "2020-10-28 15:11:41.493 | DEBUG    | __main__:calc_rsi:24 - current_rsi : 59.8823\n",
      "2020-10-28 15:11:41.495 | DEBUG    | __main__:getquant:4 - getquant : \n"
     ]
    },
    {
     "name": "stdout",
     "output_type": "stream",
     "text": [
      "=====================================\n",
      "LTP : 74.0675\n",
      "Current RSI : 59.8823\n"
     ]
    },
    {
     "name": "stderr",
     "output_type": "stream",
     "text": [
      "2020-10-28 15:11:41.967 | DEBUG    | __main__:getquant:11 - My Quantity : 0\n"
     ]
    },
    {
     "name": "stdout",
     "output_type": "stream",
     "text": [
      "My Quantity : 0\n",
      "=====================================\n",
      "LTP : 74.0675\n",
      "=====================================\n",
      "LTP : 74.07\n",
      "=====================================\n",
      "LTP : 74.07\n",
      "=====================================\n",
      "LTP : 74.07\n",
      "=====================================\n",
      "LTP : 74.07\n",
      "=====================================\n",
      "LTP : 74.0725\n",
      "=====================================\n",
      "LTP : 74.07\n",
      "=====================================\n",
      "LTP : 74.07\n",
      "=====================================\n",
      "LTP : 74.07\n"
     ]
    },
    {
     "name": "stderr",
     "output_type": "stream",
     "text": [
      "2020-10-28 15:11:50.449 | DEBUG    | __main__:calc_and_update:59 - calc_and_update :  in calc_and_update\n"
     ]
    },
    {
     "name": "stdout",
     "output_type": "stream",
     "text": [
      "in the thread : \n",
      "=====================================\n",
      "LTP : 74.07\n"
     ]
    },
    {
     "name": "stderr",
     "output_type": "stream",
     "text": [
      "2020-10-28 15:11:51.627 | DEBUG    | __main__:calc_rsi:24 - current_rsi : 59.8823\n",
      "2020-10-28 15:11:51.629 | DEBUG    | __main__:getquant:4 - getquant : \n"
     ]
    },
    {
     "name": "stdout",
     "output_type": "stream",
     "text": [
      "=====================================\n",
      "LTP : 74.07\n",
      "Current RSI : 59.8823\n"
     ]
    },
    {
     "name": "stderr",
     "output_type": "stream",
     "text": [
      "2020-10-28 15:11:51.973 | DEBUG    | __main__:getquant:11 - My Quantity : 0\n"
     ]
    },
    {
     "name": "stdout",
     "output_type": "stream",
     "text": [
      "My Quantity : 0\n",
      "=====================================\n",
      "LTP : 74.07\n",
      "=====================================\n",
      "LTP : 74.0725\n",
      "=====================================\n",
      "LTP : 74.0725\n",
      "=====================================\n",
      "LTP : 74.0725\n",
      "=====================================\n",
      "LTP : 74.0725\n",
      "=====================================\n",
      "LTP : 74.0725\n",
      "=====================================\n",
      "LTP : 74.075\n",
      "=====================================\n",
      "LTP : 74.075\n",
      "=====================================\n",
      "LTP : 74.075\n",
      "=====================================\n",
      "LTP : 74.0725\n",
      "=====================================\n",
      "LTP : 74.0725\n",
      "=====================================\n",
      "LTP : 74.0725\n",
      "=====================================\n",
      "LTP : 74.0725\n",
      "=====================================\n",
      "LTP : 74.0725\n",
      "=====================================\n",
      "LTP : 74.0725\n",
      "=====================================\n",
      "LTP : 74.0725\n",
      "=====================================\n",
      "LTP : 74.07\n",
      "=====================================\n",
      "LTP : 74.0725\n",
      "=====================================\n",
      "LTP : 74.07\n",
      "=====================================\n",
      "LTP : 74.07\n",
      "=====================================\n",
      "LTP : 74.07\n",
      "=====================================\n",
      "LTP : 74.07\n",
      "=====================================\n",
      "LTP : 74.0725\n",
      "=====================================\n",
      "LTP : 74.0725\n"
     ]
    },
    {
     "name": "stderr",
     "output_type": "stream",
     "text": [
      "2020-10-28 15:12:10.660 | DEBUG    | __main__:calc_and_update:59 - calc_and_update :  in calc_and_update\n"
     ]
    },
    {
     "name": "stdout",
     "output_type": "stream",
     "text": [
      "in the thread : \n",
      "=====================================\n",
      "LTP : 74.0725\n"
     ]
    },
    {
     "name": "stderr",
     "output_type": "stream",
     "text": [
      "2020-10-28 15:12:11.248 | DEBUG    | __main__:calc_rsi:24 - current_rsi : 59.8823\n",
      "2020-10-28 15:12:11.250 | DEBUG    | __main__:getquant:4 - getquant : \n"
     ]
    },
    {
     "name": "stdout",
     "output_type": "stream",
     "text": [
      "=====================================\n",
      "LTP : 74.0725\n",
      "Current RSI : 59.8823\n"
     ]
    },
    {
     "name": "stderr",
     "output_type": "stream",
     "text": [
      "2020-10-28 15:12:11.588 | DEBUG    | __main__:getquant:11 - My Quantity : 0\n"
     ]
    },
    {
     "name": "stdout",
     "output_type": "stream",
     "text": [
      "My Quantity : 0\n",
      "=====================================\n",
      "LTP : 74.07\n",
      "=====================================\n",
      "LTP : 74.07\n",
      "=====================================\n",
      "LTP : 74.07\n",
      "=====================================\n",
      "LTP : 74.0725\n",
      "=====================================\n",
      "LTP : 74.0725\n",
      "=====================================\n",
      "LTP : 74.0725\n",
      "=====================================\n",
      "LTP : 74.0725\n",
      "=====================================\n",
      "LTP : 74.0725\n",
      "=====================================\n",
      "LTP : 74.0725\n",
      "=====================================\n",
      "LTP : 74.0725\n"
     ]
    },
    {
     "name": "stderr",
     "output_type": "stream",
     "text": [
      "2020-10-28 15:12:20.168 | DEBUG    | __main__:calc_and_update:59 - calc_and_update :  in calc_and_update\n"
     ]
    },
    {
     "name": "stdout",
     "output_type": "stream",
     "text": [
      "in the thread : \n",
      "=====================================\n",
      "LTP : 74.075\n"
     ]
    },
    {
     "name": "stderr",
     "output_type": "stream",
     "text": [
      "2020-10-28 15:12:20.780 | DEBUG    | __main__:calc_and_update:59 - calc_and_update :  in calc_and_update\n",
      "2020-10-28 15:12:20.964 | DEBUG    | __main__:calc_rsi:24 - current_rsi : 59.8823\n",
      "2020-10-28 15:12:20.965 | DEBUG    | __main__:getquant:4 - getquant : \n"
     ]
    },
    {
     "name": "stdout",
     "output_type": "stream",
     "text": [
      "in the thread : \n",
      "=====================================\n",
      "LTP : 74.075\n",
      "Current RSI : 59.8823\n"
     ]
    },
    {
     "name": "stderr",
     "output_type": "stream",
     "text": [
      "2020-10-28 15:12:21.376 | DEBUG    | __main__:getquant:11 - My Quantity : 0\n",
      "2020-10-28 15:12:21.421 | DEBUG    | __main__:calc_rsi:24 - current_rsi : 59.8823\n",
      "2020-10-28 15:12:21.424 | DEBUG    | __main__:getquant:4 - getquant : \n"
     ]
    },
    {
     "name": "stdout",
     "output_type": "stream",
     "text": [
      "My Quantity : 0\n",
      "Current RSI : 59.8823\n"
     ]
    },
    {
     "name": "stderr",
     "output_type": "stream",
     "text": [
      "2020-10-28 15:12:21.903 | DEBUG    | __main__:getquant:11 - My Quantity : 0\n"
     ]
    },
    {
     "name": "stdout",
     "output_type": "stream",
     "text": [
      "My Quantity : 0\n",
      "=====================================\n",
      "LTP : 74.07\n",
      "=====================================\n",
      "LTP : 74.07\n",
      "=====================================\n",
      "LTP : 74.07\n",
      "=====================================\n",
      "LTP : 74.0725\n",
      "=====================================\n",
      "LTP : 74.0725\n",
      "=====================================\n",
      "LTP : 74.075\n",
      "=====================================\n",
      "LTP : 74.075\n",
      "=====================================\n",
      "LTP : 74.075\n",
      "=====================================\n",
      "LTP : 74.075\n",
      "=====================================\n",
      "LTP : 74.075\n",
      "=====================================\n",
      "LTP : 74.075\n"
     ]
    },
    {
     "name": "stderr",
     "output_type": "stream",
     "text": [
      "2020-10-28 15:12:30.025 | DEBUG    | __main__:calc_and_update:59 - calc_and_update :  in calc_and_update\n"
     ]
    },
    {
     "name": "stdout",
     "output_type": "stream",
     "text": [
      "in the thread : \n",
      "=====================================\n",
      "LTP : 74.075\n"
     ]
    },
    {
     "name": "stderr",
     "output_type": "stream",
     "text": [
      "2020-10-28 15:12:30.437 | DEBUG    | __main__:calc_and_update:59 - calc_and_update :  in calc_and_update\n"
     ]
    },
    {
     "name": "stdout",
     "output_type": "stream",
     "text": [
      "in the thread : \n",
      "=====================================\n",
      "LTP : 74.075\n"
     ]
    },
    {
     "name": "stderr",
     "output_type": "stream",
     "text": [
      "2020-10-28 15:12:31.654 | DEBUG    | __main__:calc_rsi:24 - current_rsi : 59.8823\n",
      "2020-10-28 15:12:31.658 | DEBUG    | __main__:calc_rsi:24 - current_rsi : 61.4195\n",
      "2020-10-28 15:12:31.659 | DEBUG    | __main__:getquant:4 - getquant : \n",
      "2020-10-28 15:12:31.661 | DEBUG    | __main__:getquant:4 - getquant : \n"
     ]
    },
    {
     "name": "stdout",
     "output_type": "stream",
     "text": [
      "Current RSI : 59.8823\n",
      "Current RSI : 61.4195\n",
      "=====================================\n",
      "LTP : 74.075\n"
     ]
    },
    {
     "name": "stderr",
     "output_type": "stream",
     "text": [
      "2020-10-28 15:12:32.129 | DEBUG    | __main__:getquant:11 - My Quantity : 0\n",
      "2020-10-28 15:12:32.131 | DEBUG    | __main__:update_status:9 - RSI > 60 : 61.4195\n",
      "2020-10-28 15:12:32.132 | DEBUG    | __main__:placeneworder:7 - placeneworder @ (-3,0)\n",
      "2020-10-28 15:12:32.148 | DEBUG    | __main__:getquant:11 - My Quantity : 0\n",
      "2020-10-28 15:12:32.150 | DEBUG    | __main__:update_status:9 - RSI > 60 : 61.4195\n",
      "2020-10-28 15:12:32.152 | DEBUG    | __main__:placeneworder:7 - placeneworder @ (-3,0)\n"
     ]
    },
    {
     "name": "stdout",
     "output_type": "stream",
     "text": [
      "My Quantity : 0\n",
      "My Quantity : 0\n",
      "=====================================\n",
      "LTP : 74.0725\n"
     ]
    },
    {
     "name": "stderr",
     "output_type": "stream",
     "text": [
      "2020-10-28 15:12:32.401 | DEBUG    | __main__:on_order_update:43 - on_order_update : \n",
      "2020-10-28 15:12:32.404 | DEBUG    | __main__:on_order_update:43 - on_order_update : \n",
      "2020-10-28 15:12:32.424 | DEBUG    | __main__:on_order_update:43 - on_order_update : \n",
      "2020-10-28 15:12:32.427 | DEBUG    | __main__:on_order_update:43 - on_order_update : \n",
      "2020-10-28 15:12:32.433 | DEBUG    | __main__:placeneworder:40 - Order Successfully Placed @ NRML -3 0\n",
      "2020-10-28 15:12:32.434 | DEBUG    | __main__:getquant:4 - getquant : \n",
      "2020-10-28 15:12:32.457 | DEBUG    | __main__:placeneworder:40 - Order Successfully Placed @ NRML -3 0\n",
      "2020-10-28 15:12:32.459 | DEBUG    | __main__:getquant:4 - getquant : \n"
     ]
    },
    {
     "name": "stdout",
     "output_type": "stream",
     "text": [
      "order update:  {'account_id': 'FC5917', 'unfilled_quantity': 0, 'checksum': '', 'placed_by': 'FC5917', 'order_id': '201028004103920', 'exchange_order_id': '1000000001812504', 'parent_order_id': None, 'status': 'COMPLETE', 'status_message': None, 'status_message_raw': None, 'order_timestamp': '2020-10-28 15:12:32', 'exchange_update_timestamp': '2020-10-28 15:12:32', 'exchange_timestamp': '2020-10-28 15:12:32', 'variety': 'regular', 'exchange': 'CDS', 'tradingsymbol': 'USDINR20NOVFUT', 'instrument_token': 780803, 'order_type': 'MARKET', 'transaction_type': 'SELL', 'validity': 'DAY', 'product': 'NRML', 'quantity': 3, 'disclosed_quantity': 0, 'price': 0, 'trigger_price': 0, 'average_price': 74.07, 'filled_quantity': 3, 'pending_quantity': 0, 'cancelled_quantity': 0, 'market_protection': 0, 'meta': {}, 'tag': None, 'guid': '18679Xhb1BDE4V6leO'}\n",
      "order update:  {'account_id': 'FC5917', 'unfilled_quantity': 0, 'checksum': '', 'placed_by': 'FC5917', 'order_id': '201028004103920', 'exchange_order_id': '1000000001812504', 'parent_order_id': None, 'status': 'OPEN', 'status_message': None, 'status_message_raw': None, 'order_timestamp': '2020-10-28 15:12:32', 'exchange_update_timestamp': '2020-10-28 15:12:32', 'exchange_timestamp': '2020-10-28 15:12:32', 'variety': 'regular', 'exchange': 'CDS', 'tradingsymbol': 'USDINR20NOVFUT', 'instrument_token': 780803, 'order_type': 'MARKET', 'transaction_type': 'SELL', 'validity': 'DAY', 'product': 'NRML', 'quantity': 3, 'disclosed_quantity': 0, 'price': 0, 'trigger_price': 0, 'average_price': 0, 'filled_quantity': 0, 'pending_quantity': 3, 'cancelled_quantity': 0, 'market_protection': 0, 'meta': {}, 'tag': None, 'guid': '18679Xhb1BDE4V6leO'}\n",
      "order update:  {'account_id': 'FC5917', 'unfilled_quantity': 0, 'checksum': '', 'placed_by': 'FC5917', 'order_id': '201028004103924', 'exchange_order_id': '1000000001812507', 'parent_order_id': None, 'status': 'OPEN', 'status_message': None, 'status_message_raw': None, 'order_timestamp': '2020-10-28 15:12:32', 'exchange_update_timestamp': '2020-10-28 15:12:32', 'exchange_timestamp': '2020-10-28 15:12:32', 'variety': 'regular', 'exchange': 'CDS', 'tradingsymbol': 'USDINR20NOVFUT', 'instrument_token': 780803, 'order_type': 'MARKET', 'transaction_type': 'SELL', 'validity': 'DAY', 'product': 'NRML', 'quantity': 3, 'disclosed_quantity': 0, 'price': 0, 'trigger_price': 0, 'average_price': 0, 'filled_quantity': 0, 'pending_quantity': 3, 'cancelled_quantity': 0, 'market_protection': 0, 'meta': {}, 'tag': None, 'guid': '18679X1HmjjM0YnU5I'}\n",
      "order update:  {'account_id': 'FC5917', 'unfilled_quantity': 0, 'checksum': '', 'placed_by': 'FC5917', 'order_id': '201028004103924', 'exchange_order_id': '1000000001812507', 'parent_order_id': None, 'status': 'COMPLETE', 'status_message': None, 'status_message_raw': None, 'order_timestamp': '2020-10-28 15:12:32', 'exchange_update_timestamp': '2020-10-28 15:12:32', 'exchange_timestamp': '2020-10-28 15:12:32', 'variety': 'regular', 'exchange': 'CDS', 'tradingsymbol': 'USDINR20NOVFUT', 'instrument_token': 780803, 'order_type': 'MARKET', 'transaction_type': 'SELL', 'validity': 'DAY', 'product': 'NRML', 'quantity': 3, 'disclosed_quantity': 0, 'price': 0, 'trigger_price': 0, 'average_price': 74.07, 'filled_quantity': 3, 'pending_quantity': 0, 'cancelled_quantity': 0, 'market_protection': 0, 'meta': {}, 'tag': None, 'guid': '18679X1HmjjM0YnU5I'}\n"
     ]
    },
    {
     "name": "stderr",
     "output_type": "stream",
     "text": [
      "2020-10-28 15:12:32.822 | DEBUG    | __main__:getquant:11 - My Quantity : -6\n",
      "2020-10-28 15:12:32.824 | DEBUG    | __main__:update_status:11 - Order Placed @ -3 market and Succeeded : True\n",
      "2020-10-28 15:12:32.825 | DEBUG    | __main__:get_completed_orders:3 - get_completed_orders : \n",
      "2020-10-28 15:12:32.833 | DEBUG    | __main__:getquant:11 - My Quantity : -6\n",
      "2020-10-28 15:12:32.835 | DEBUG    | __main__:update_status:11 - Order Placed @ -3 market and Succeeded : True\n",
      "2020-10-28 15:12:32.836 | DEBUG    | __main__:get_completed_orders:3 - get_completed_orders : \n"
     ]
    },
    {
     "name": "stdout",
     "output_type": "stream",
     "text": [
      "My Quantity : -6\n",
      "My Quantity : -6\n",
      "=====================================\n",
      "LTP : 74.07\n"
     ]
    },
    {
     "name": "stderr",
     "output_type": "stream",
     "text": [
      "2020-10-28 15:12:33.164 | DEBUG    | __main__:get_completed_orders:13 - last_completed_orders : {'placed_by': 'FC5917', 'order_id': '201028004103924', 'exchange_order_id': '1000000001812507', 'parent_order_id': None, 'status': 'COMPLETE', 'status_message': None, 'status_message_raw': None, 'order_timestamp': datetime.datetime(2020, 10, 28, 15, 12, 32), 'exchange_update_timestamp': '2020-10-28 15:12:32', 'exchange_timestamp': datetime.datetime(2020, 10, 28, 15, 12, 32), 'variety': 'regular', 'exchange': 'CDS', 'tradingsymbol': 'USDINR20NOVFUT', 'instrument_token': 780803, 'order_type': 'MARKET', 'transaction_type': 'SELL', 'validity': 'DAY', 'product': 'NRML', 'quantity': 3, 'disclosed_quantity': 0, 'price': 0, 'trigger_price': 0, 'average_price': 74.07, 'filled_quantity': 3, 'pending_quantity': 0, 'cancelled_quantity': 0, 'market_protection': 0, 'meta': {}, 'tag': None, 'guid': '18679X1HmjjM0YnU5I'}\n",
      "2020-10-28 15:12:33.165 | DEBUG    | __main__:get_completed_orders:14 - last_completed_orders_price : 74.07\n",
      "2020-10-28 15:12:33.181 | DEBUG    | __main__:get_completed_orders:13 - last_completed_orders : {'placed_by': 'FC5917', 'order_id': '201028004103924', 'exchange_order_id': '1000000001812507', 'parent_order_id': None, 'status': 'COMPLETE', 'status_message': None, 'status_message_raw': None, 'order_timestamp': datetime.datetime(2020, 10, 28, 15, 12, 32), 'exchange_update_timestamp': '2020-10-28 15:12:32', 'exchange_timestamp': datetime.datetime(2020, 10, 28, 15, 12, 32), 'variety': 'regular', 'exchange': 'CDS', 'tradingsymbol': 'USDINR20NOVFUT', 'instrument_token': 780803, 'order_type': 'MARKET', 'transaction_type': 'SELL', 'validity': 'DAY', 'product': 'NRML', 'quantity': 3, 'disclosed_quantity': 0, 'price': 0, 'trigger_price': 0, 'average_price': 74.07, 'filled_quantity': 3, 'pending_quantity': 0, 'cancelled_quantity': 0, 'market_protection': 0, 'meta': {}, 'tag': None, 'guid': '18679X1HmjjM0YnU5I'}\n",
      "2020-10-28 15:12:33.182 | DEBUG    | __main__:calcsteps:3 - calc_steps : (3,74.07) : \n",
      "2020-10-28 15:12:33.184 | DEBUG    | __main__:get_completed_orders:14 - last_completed_orders_price : 74.07\n",
      "2020-10-28 15:12:33.187 | DEBUG    | __main__:calcsteps:31 - p0q : 0\n",
      "2020-10-28 15:12:33.189 | DEBUG    | __main__:calcsteps:3 - calc_steps : (3,74.07) : \n",
      "2020-10-28 15:12:33.190 | DEBUG    | __main__:calcsteps:32 - p0 : 74.08\n",
      "2020-10-28 15:12:33.192 | DEBUG    | __main__:calcsteps:31 - p0q : 0\n",
      "2020-10-28 15:12:33.193 | DEBUG    | __main__:calcsteps:36 - base quant : 3\n",
      "2020-10-28 15:12:33.194 | DEBUG    | __main__:calcsteps:32 - p0 : 74.08\n",
      "2020-10-28 15:12:33.196 | DEBUG    | __main__:calcsteps:37 - base_price : 74.07\n",
      "2020-10-28 15:12:33.196 | DEBUG    | __main__:calcsteps:36 - base quant : 3\n",
      "2020-10-28 15:12:33.198 | DEBUG    | __main__:calcsteps:42 - p1q : 4\n",
      "2020-10-28 15:12:33.201 | DEBUG    | __main__:calcsteps:37 - base_price : 74.07\n",
      "2020-10-28 15:12:33.204 | DEBUG    | __main__:calcsteps:45 - p1 : 74.06\n",
      "2020-10-28 15:12:33.206 | DEBUG    | __main__:calcsteps:42 - p1q : 4\n",
      "2020-10-28 15:12:33.210 | DEBUG    | __main__:calcsteps:42 - p2q : 5\n",
      "2020-10-28 15:12:33.210 | DEBUG    | __main__:calcsteps:45 - p1 : 74.06\n",
      "2020-10-28 15:12:33.212 | DEBUG    | __main__:calcsteps:45 - p2 : 74.05\n",
      "2020-10-28 15:12:33.213 | DEBUG    | __main__:calcsteps:42 - p2q : 5\n",
      "2020-10-28 15:12:33.214 | DEBUG    | __main__:calcsteps:42 - p3q : 6\n",
      "2020-10-28 15:12:33.215 | DEBUG    | __main__:calcsteps:45 - p2 : 74.05\n",
      "2020-10-28 15:12:33.216 | DEBUG    | __main__:calcsteps:45 - p3 : 74.03\n",
      "2020-10-28 15:12:33.218 | DEBUG    | __main__:calcsteps:42 - p3q : 6\n",
      "2020-10-28 15:12:33.219 | DEBUG    | __main__:calcsteps:42 - p4q : 7\n",
      "2020-10-28 15:12:33.222 | DEBUG    | __main__:calcsteps:45 - p3 : 74.03\n",
      "2020-10-28 15:12:33.223 | DEBUG    | __main__:calcsteps:45 - p4 : 74.0\n",
      "2020-10-28 15:12:33.225 | DEBUG    | __main__:calcsteps:42 - p4q : 7\n",
      "2020-10-28 15:12:33.228 | DEBUG    | __main__:calcsteps:42 - p5q : 8\n",
      "2020-10-28 15:12:33.230 | DEBUG    | __main__:calcsteps:45 - p4 : 74.0\n",
      "2020-10-28 15:12:33.231 | DEBUG    | __main__:calcsteps:45 - p5 : 73.95\n",
      "2020-10-28 15:12:33.233 | DEBUG    | __main__:calcsteps:42 - p5q : 8\n",
      "2020-10-28 15:12:33.235 | DEBUG    | __main__:calcsteps:42 - p6q : 9\n",
      "2020-10-28 15:12:33.237 | DEBUG    | __main__:calcsteps:45 - p6 : 73.92\n",
      "2020-10-28 15:12:33.237 | DEBUG    | __main__:calcsteps:45 - p5 : 73.95\n",
      "2020-10-28 15:12:33.238 | DEBUG    | __main__:calcsteps:42 - p7q : 10\n",
      "2020-10-28 15:12:33.239 | DEBUG    | __main__:calcsteps:42 - p6q : 9\n",
      "2020-10-28 15:12:33.243 | DEBUG    | __main__:calcsteps:45 - p7 : 73.87\n",
      "2020-10-28 15:12:33.244 | DEBUG    | __main__:calcsteps:45 - p6 : 73.92\n",
      "2020-10-28 15:12:33.247 | DEBUG    | __main__:calcsteps:42 - p8q : 11\n",
      "2020-10-28 15:12:33.248 | DEBUG    | __main__:calcsteps:42 - p7q : 10\n",
      "2020-10-28 15:12:33.250 | DEBUG    | __main__:calcsteps:45 - p8 : 73.77\n",
      "2020-10-28 15:12:33.251 | DEBUG    | __main__:calcsteps:45 - p7 : 73.87\n",
      "2020-10-28 15:12:33.254 | DEBUG    | __main__:ckqnt:51 - ckqnt @ (74.08,0) in ckqnt\n",
      "2020-10-28 15:12:33.255 | DEBUG    | __main__:calcsteps:42 - p8q : 11\n",
      "2020-10-28 15:12:33.256 | DEBUG    | __main__:ckqnt:54 - 6 = 0--6 in ckqnt\n",
      "2020-10-28 15:12:33.257 | DEBUG    | __main__:calcsteps:45 - p8 : 73.77\n",
      "2020-10-28 15:12:33.258 | DEBUG    | __main__:placeneworder:7 - placeneworder @ (6,74.08)\n",
      "2020-10-28 15:12:33.261 | DEBUG    | __main__:ckqnt:51 - ckqnt @ (74.08,0) in ckqnt\n",
      "2020-10-28 15:12:33.265 | DEBUG    | __main__:ckqnt:54 - 6 = 0--6 in ckqnt\n",
      "2020-10-28 15:12:33.268 | DEBUG    | __main__:placeneworder:7 - placeneworder @ (6,74.08)\n"
     ]
    },
    {
     "name": "stdout",
     "output_type": "stream",
     "text": [
      "p0q : 0\n",
      "p0 : 74.08\n",
      "p0q : 0\n",
      "p0 : 74.08\n",
      "\n",
      "base quant : 3\n",
      "base_price : 74.07\n",
      "\n",
      "base quant : 3\n",
      "base_price : 74.07\n",
      "\n",
      "p1q : 4\n",
      "p1 : 74.06\n",
      "\n",
      "p1q : 4\n",
      "p2q : 5\n",
      "p1 : 74.06\n",
      "p2 : 74.05\n",
      "p2q : 5\n",
      "p3q : 6\n",
      "p2 : 74.05\n",
      "p3 : 74.03\n",
      "p3q : 6\n",
      "p4q : 7\n",
      "p3 : 74.03\n",
      "p4 : 74.0\n",
      "p4q : 7\n",
      "p5q : 8\n",
      "p4 : 74.0\n",
      "p5 : 73.95\n",
      "p5q : 8\n",
      "p6q : 9\n",
      "p5 : 73.95\n",
      "p6 : 73.92\n",
      "p7q : 10\n",
      "p6q : 9\n",
      "p7 : 73.87\n",
      "p6 : 73.92\n",
      "p8q : 11\n",
      "p7q : 10\n",
      "p8 : 73.77\n",
      "p7 : 73.87\n",
      "p8q : 11\n",
      "p8 : 73.77\n",
      "=====================================\n",
      "LTP : 74.0725\n"
     ]
    },
    {
     "name": "stderr",
     "output_type": "stream",
     "text": [
      "2020-10-28 15:12:33.516 | DEBUG    | __main__:on_order_update:43 - on_order_update : \n",
      "2020-10-28 15:12:33.519 | DEBUG    | __main__:on_order_update:43 - on_order_update : \n",
      "2020-10-28 15:12:33.528 | DEBUG    | __main__:on_order_update:43 - on_order_update : \n",
      "2020-10-28 15:12:33.548 | DEBUG    | __main__:on_order_update:43 - on_order_update : \n",
      "2020-10-28 15:12:33.550 | DEBUG    | __main__:on_order_update:43 - on_order_update : \n",
      "2020-10-28 15:12:33.562 | DEBUG    | __main__:placeneworder:20 - Order Successfully Placed @ NRML 6 74.08\n",
      "2020-10-28 15:12:33.564 | DEBUG    | __main__:getquant:4 - getquant : \n",
      "2020-10-28 15:12:33.582 | DEBUG    | __main__:placeneworder:20 - Order Successfully Placed @ NRML 6 74.08\n",
      "2020-10-28 15:12:33.583 | DEBUG    | __main__:getquant:4 - getquant : \n"
     ]
    },
    {
     "name": "stdout",
     "output_type": "stream",
     "text": [
      "order update:  {'account_id': 'FC5917', 'unfilled_quantity': 0, 'checksum': '', 'placed_by': 'FC5917', 'order_id': '201028004104097', 'exchange_order_id': '1000000001812676', 'parent_order_id': None, 'status': 'OPEN', 'status_message': None, 'status_message_raw': None, 'order_timestamp': '2020-10-28 15:12:33', 'exchange_update_timestamp': '2020-10-28 15:12:33', 'exchange_timestamp': '2020-10-28 15:12:33', 'variety': 'regular', 'exchange': 'CDS', 'tradingsymbol': 'USDINR20NOVFUT', 'instrument_token': 780803, 'order_type': 'LIMIT', 'transaction_type': 'BUY', 'validity': 'DAY', 'product': 'NRML', 'quantity': 6, 'disclosed_quantity': 0, 'price': 74.08, 'trigger_price': 0, 'average_price': 0, 'filled_quantity': 0, 'pending_quantity': 6, 'cancelled_quantity': 0, 'market_protection': 0, 'meta': {}, 'tag': None, 'guid': '18679XDi4h7lVV39Zj'}\n",
      "order update:  {'account_id': 'FC5917', 'unfilled_quantity': 0, 'checksum': '', 'placed_by': 'FC5917', 'order_id': '201028004104097', 'exchange_order_id': '1000000001812676', 'parent_order_id': None, 'status': 'COMPLETE', 'status_message': None, 'status_message_raw': None, 'order_timestamp': '2020-10-28 15:12:33', 'exchange_update_timestamp': '2020-10-28 15:12:33', 'exchange_timestamp': '2020-10-28 15:12:33', 'variety': 'regular', 'exchange': 'CDS', 'tradingsymbol': 'USDINR20NOVFUT', 'instrument_token': 780803, 'order_type': 'LIMIT', 'transaction_type': 'BUY', 'validity': 'DAY', 'product': 'NRML', 'quantity': 6, 'disclosed_quantity': 0, 'price': 74.08, 'trigger_price': 0, 'average_price': 74.0725, 'filled_quantity': 6, 'pending_quantity': 0, 'cancelled_quantity': 0, 'market_protection': 0, 'meta': {}, 'tag': None, 'guid': '18679XDi4h7lVV39Zj'}\n",
      "order update:  {'account_id': 'FC5917', 'unfilled_quantity': 0, 'checksum': '', 'placed_by': 'FC5917', 'order_id': '201028004104097', 'exchange_order_id': '1000000001812676', 'parent_order_id': None, 'status': 'UPDATE', 'status_message': None, 'status_message_raw': None, 'order_timestamp': '2020-10-28 15:12:33', 'exchange_update_timestamp': '2020-10-28 15:12:33', 'exchange_timestamp': '2020-10-28 15:12:33', 'variety': 'regular', 'exchange': 'CDS', 'tradingsymbol': 'USDINR20NOVFUT', 'instrument_token': 780803, 'order_type': 'LIMIT', 'transaction_type': 'BUY', 'validity': 'DAY', 'product': 'NRML', 'quantity': 6, 'disclosed_quantity': 0, 'price': 74.08, 'trigger_price': 0, 'average_price': 74.0725, 'filled_quantity': 1, 'pending_quantity': 5, 'cancelled_quantity': 0, 'market_protection': 0, 'meta': {}, 'tag': None, 'guid': '18679XDi4h7lVV39Zj'}\n",
      "order update:  {'account_id': 'FC5917', 'unfilled_quantity': 0, 'checksum': '', 'placed_by': 'FC5917', 'order_id': '201028004104101', 'exchange_order_id': '1000000001812681', 'parent_order_id': None, 'status': 'OPEN', 'status_message': None, 'status_message_raw': None, 'order_timestamp': '2020-10-28 15:12:33', 'exchange_update_timestamp': '2020-10-28 15:12:33', 'exchange_timestamp': '2020-10-28 15:12:33', 'variety': 'regular', 'exchange': 'CDS', 'tradingsymbol': 'USDINR20NOVFUT', 'instrument_token': 780803, 'order_type': 'LIMIT', 'transaction_type': 'BUY', 'validity': 'DAY', 'product': 'NRML', 'quantity': 6, 'disclosed_quantity': 0, 'price': 74.08, 'trigger_price': 0, 'average_price': 0, 'filled_quantity': 0, 'pending_quantity': 6, 'cancelled_quantity': 0, 'market_protection': 0, 'meta': {}, 'tag': None, 'guid': '18679XLd974RCCmh7P'}\n",
      "order update:  {'account_id': 'FC5917', 'unfilled_quantity': 0, 'checksum': '', 'placed_by': 'FC5917', 'order_id': '201028004104101', 'exchange_order_id': '1000000001812681', 'parent_order_id': None, 'status': 'COMPLETE', 'status_message': None, 'status_message_raw': None, 'order_timestamp': '2020-10-28 15:12:33', 'exchange_update_timestamp': '2020-10-28 15:12:33', 'exchange_timestamp': '2020-10-28 15:12:33', 'variety': 'regular', 'exchange': 'CDS', 'tradingsymbol': 'USDINR20NOVFUT', 'instrument_token': 780803, 'order_type': 'LIMIT', 'transaction_type': 'BUY', 'validity': 'DAY', 'product': 'NRML', 'quantity': 6, 'disclosed_quantity': 0, 'price': 74.08, 'trigger_price': 0, 'average_price': 74.0725, 'filled_quantity': 6, 'pending_quantity': 0, 'cancelled_quantity': 0, 'market_protection': 0, 'meta': {}, 'tag': None, 'guid': '18679XLd974RCCmh7P'}\n"
     ]
    },
    {
     "name": "stderr",
     "output_type": "stream",
     "text": [
      "2020-10-28 15:12:34.026 | DEBUG    | __main__:getquant:11 - My Quantity : 6\n",
      "2020-10-28 15:12:34.028 | DEBUG    | __main__:update_status:17 - Order Placed @ 0 Limit : 74.08 and Succeeded : True\n",
      "2020-10-28 15:12:34.033 | DEBUG    | __main__:getquant:11 - My Quantity : 6\n",
      "2020-10-28 15:12:34.035 | DEBUG    | __main__:update_status:17 - Order Placed @ 0 Limit : 74.08 and Succeeded : True\n"
     ]
    },
    {
     "name": "stdout",
     "output_type": "stream",
     "text": [
      "=====================================\n",
      "LTP : 74.0725\n",
      "My Quantity : 6\n",
      "My Quantity : 6\n",
      "=====================================\n",
      "LTP : 74.0725\n",
      "=====================================\n",
      "LTP : 74.07\n",
      "=====================================\n",
      "LTP : 74.07\n",
      "=====================================\n",
      "LTP : 74.0725\n",
      "=====================================\n",
      "LTP : 74.075\n",
      "=====================================\n",
      "LTP : 74.075\n",
      "=====================================\n",
      "LTP : 74.075\n",
      "=====================================\n",
      "LTP : 74.075\n",
      "=====================================\n",
      "LTP : 74.075\n"
     ]
    },
    {
     "name": "stderr",
     "output_type": "stream",
     "text": [
      "2020-10-28 15:12:40.545 | DEBUG    | __main__:calc_and_update:59 - calc_and_update :  in calc_and_update\n"
     ]
    },
    {
     "name": "stdout",
     "output_type": "stream",
     "text": [
      "in the thread : \n",
      "=====================================\n",
      "LTP : 74.075\n"
     ]
    },
    {
     "name": "stderr",
     "output_type": "stream",
     "text": [
      "2020-10-28 15:12:41.162 | DEBUG    | __main__:calc_rsi:24 - current_rsi : 59.8823\n",
      "2020-10-28 15:12:41.163 | DEBUG    | __main__:getquant:4 - getquant : \n"
     ]
    },
    {
     "name": "stdout",
     "output_type": "stream",
     "text": [
      "Current RSI : 59.8823\n",
      "=====================================\n",
      "LTP : 74.075\n"
     ]
    },
    {
     "name": "stderr",
     "output_type": "stream",
     "text": [
      "2020-10-28 15:12:41.456 | DEBUG    | __main__:getquant:11 - My Quantity : 6\n",
      "2020-10-28 15:12:41.458 | DEBUG    | __main__:update_status:37 - Current Point : 3\n",
      "2020-10-28 15:12:41.459 | DEBUG    | __main__:update_status:43 - Next Point : 4\n",
      "2020-10-28 15:12:41.460 | DEBUG    | __main__:get_pending_orders:3 - get_pending_orders : \n"
     ]
    },
    {
     "name": "stdout",
     "output_type": "stream",
     "text": [
      "My Quantity : 6\n"
     ]
    },
    {
     "name": "stderr",
     "output_type": "stream",
     "text": [
      "2020-10-28 15:12:41.779 | DEBUG    | __main__:get_pending_orders:12 - pending_orders : []\n"
     ]
    },
    {
     "name": "stdout",
     "output_type": "stream",
     "text": [
      "=====================================\n",
      "LTP : 74.075\n",
      "=====================================\n",
      "LTP : 74.075\n",
      "=====================================\n",
      "LTP : 74.075\n",
      "=====================================\n",
      "LTP : 74.075\n",
      "=====================================\n",
      "LTP : 74.075\n",
      "=====================================\n",
      "LTP : 74.075\n",
      "=====================================\n",
      "LTP : 74.075\n",
      "=====================================\n",
      "LTP : 74.075\n",
      "=====================================\n",
      "LTP : 74.075\n"
     ]
    },
    {
     "name": "stderr",
     "output_type": "stream",
     "text": [
      "2020-10-28 15:12:50.230 | DEBUG    | __main__:calc_and_update:59 - calc_and_update :  in calc_and_update\n"
     ]
    },
    {
     "name": "stdout",
     "output_type": "stream",
     "text": [
      "in the thread : \n",
      "=====================================\n",
      "LTP : 74.075\n",
      "=====================================\n",
      "LTP : 74.075\n",
      "=====================================\n",
      "LTP : 74.075\n",
      "=====================================\n",
      "LTP : 74.075\n",
      "=====================================\n",
      "LTP : 74.075\n",
      "=====================================\n",
      "LTP : 74.07\n",
      "=====================================\n",
      "LTP : 74.07\n",
      "=====================================\n",
      "LTP : 74.07\n",
      "=====================================\n",
      "LTP : 74.07\n"
     ]
    },
    {
     "name": "stderr",
     "output_type": "stream",
     "text": [
      "2020-10-28 15:12:57.938 | DEBUG    | __main__:calc_rsi:24 - current_rsi : 61.4195\n",
      "2020-10-28 15:12:57.940 | DEBUG    | __main__:getquant:4 - getquant : \n"
     ]
    },
    {
     "name": "stdout",
     "output_type": "stream",
     "text": [
      "Current RSI : 61.4195\n",
      "=====================================\n",
      "LTP : 74.07\n",
      "=====================================\n",
      "LTP : 74.07\n",
      "=====================================\n",
      "LTP : 74.075\n",
      "=====================================\n",
      "LTP : 74.075\n",
      "=====================================\n",
      "LTP : 74.075\n",
      "=====================================\n",
      "LTP : 74.075\n",
      "=====================================\n",
      "LTP : 74.075\n",
      "=====================================\n",
      "LTP : 74.0725\n",
      "=====================================\n",
      "LTP : 74.0725\n"
     ]
    },
    {
     "name": "stderr",
     "output_type": "stream",
     "text": [
      "2020-10-28 15:13:05.359 | DEBUG    | __main__:getquant:11 - My Quantity : 6\n",
      "2020-10-28 15:13:05.360 | DEBUG    | __main__:update_status:37 - Current Point : 3\n",
      "2020-10-28 15:13:05.361 | DEBUG    | __main__:update_status:43 - Next Point : 4\n",
      "2020-10-28 15:13:05.362 | DEBUG    | __main__:get_pending_orders:3 - get_pending_orders : \n"
     ]
    },
    {
     "name": "stdout",
     "output_type": "stream",
     "text": [
      "My Quantity : 6\n",
      "=====================================\n",
      "LTP : 74.0725\n",
      "=====================================\n",
      "LTP : 74.0725\n",
      "=====================================\n",
      "LTP : 74.0725\n",
      "=====================================\n",
      "LTP : 74.0725\n",
      "=====================================\n",
      "LTP : 74.07\n"
     ]
    },
    {
     "name": "stderr",
     "output_type": "stream",
     "text": [
      "2020-10-28 15:13:10.541 | DEBUG    | __main__:calc_and_update:59 - calc_and_update :  in calc_and_update\n",
      "2020-10-28 15:13:10.558 | DEBUG    | __main__:calc_and_update:59 - calc_and_update :  in calc_and_update\n"
     ]
    },
    {
     "name": "stdout",
     "output_type": "stream",
     "text": [
      "in the thread : \n",
      "=====================================\n",
      "LTP : 74.0725\n",
      "in the thread : \n",
      "=====================================\n",
      "LTP : 74.0725\n",
      "=====================================\n",
      "LTP : 74.075\n"
     ]
    },
    {
     "name": "stderr",
     "output_type": "stream",
     "text": [
      "2020-10-28 15:13:12.765 | DEBUG    | __main__:get_pending_orders:12 - pending_orders : []\n"
     ]
    },
    {
     "name": "stdout",
     "output_type": "stream",
     "text": [
      "=====================================\n",
      "LTP : 74.07\n",
      "=====================================\n",
      "LTP : 74.07\n",
      "=====================================\n",
      "LTP : 74.0725\n",
      "=====================================\n",
      "LTP : 74.0725\n",
      "=====================================\n",
      "LTP : 74.0725\n",
      "=====================================\n",
      "LTP : 74.075\n"
     ]
    },
    {
     "name": "stderr",
     "output_type": "stream",
     "text": [
      "2020-10-28 15:13:18.408 | DEBUG    | __main__:calc_rsi:24 - current_rsi : 61.4195\n",
      "2020-10-28 15:13:18.411 | DEBUG    | __main__:calc_rsi:24 - current_rsi : 61.4195\n",
      "2020-10-28 15:13:18.412 | DEBUG    | __main__:getquant:4 - getquant : \n",
      "2020-10-28 15:13:18.417 | DEBUG    | __main__:getquant:4 - getquant : \n"
     ]
    },
    {
     "name": "stdout",
     "output_type": "stream",
     "text": [
      "=====================================\n",
      "LTP : 74.075\n",
      "Current RSI : 61.4195\n",
      "Current RSI : 61.4195\n",
      "=====================================\n",
      "LTP : 74.075\n"
     ]
    },
    {
     "name": "stderr",
     "output_type": "stream",
     "text": [
      "2020-10-28 15:13:20.210 | DEBUG    | __main__:calc_and_update:59 - calc_and_update :  in calc_and_update\n"
     ]
    },
    {
     "name": "stdout",
     "output_type": "stream",
     "text": [
      "in the thread : \n",
      "=====================================\n",
      "LTP : 74.075\n",
      "=====================================\n",
      "LTP : 74.075\n",
      "=====================================\n",
      "LTP : 74.075\n",
      "=====================================\n",
      "LTP : 74.075\n",
      "=====================================\n",
      "LTP : 74.075\n",
      "=====================================\n",
      "LTP : 74.075\n"
     ]
    },
    {
     "name": "stderr",
     "output_type": "stream",
     "text": [
      "2020-10-28 15:13:25.816 | DEBUG    | __main__:getquant:11 - My Quantity : 6\n",
      "2020-10-28 15:13:25.817 | DEBUG    | __main__:update_status:37 - Current Point : 3\n",
      "2020-10-28 15:13:25.818 | DEBUG    | __main__:update_status:43 - Next Point : 4\n",
      "2020-10-28 15:13:25.819 | DEBUG    | __main__:get_pending_orders:3 - get_pending_orders : \n",
      "2020-10-28 15:13:25.843 | DEBUG    | __main__:getquant:11 - My Quantity : 6\n",
      "2020-10-28 15:13:25.844 | DEBUG    | __main__:update_status:37 - Current Point : 3\n",
      "2020-10-28 15:13:25.845 | DEBUG    | __main__:update_status:43 - Next Point : 4\n"
     ]
    },
    {
     "name": "stdout",
     "output_type": "stream",
     "text": [
      "=====================================\n",
      "LTP : 74.075\n",
      "My Quantity : 6\n",
      "My Quantity : 6\n"
     ]
    },
    {
     "name": "stderr",
     "output_type": "stream",
     "text": [
      "2020-10-28 15:13:25.846 | DEBUG    | __main__:get_pending_orders:3 - get_pending_orders : \n",
      "2020-10-28 15:13:26.209 | DEBUG    | __main__:get_pending_orders:12 - pending_orders : []\n",
      "2020-10-28 15:13:26.232 | DEBUG    | __main__:get_pending_orders:12 - pending_orders : []\n"
     ]
    },
    {
     "name": "stdout",
     "output_type": "stream",
     "text": [
      "=====================================\n",
      "LTP : 74.075\n",
      "=====================================\n",
      "LTP : 74.075\n"
     ]
    },
    {
     "name": "stderr",
     "output_type": "stream",
     "text": [
      "2020-10-28 15:13:27.826 | DEBUG    | __main__:calc_rsi:24 - current_rsi : 61.4195\n",
      "2020-10-28 15:13:27.828 | DEBUG    | __main__:getquant:4 - getquant : \n"
     ]
    },
    {
     "name": "stdout",
     "output_type": "stream",
     "text": [
      "Current RSI : 61.4195\n"
     ]
    },
    {
     "name": "stderr",
     "output_type": "stream",
     "text": [
      "2020-10-28 15:13:28.136 | DEBUG    | __main__:getquant:11 - My Quantity : 6\n",
      "2020-10-28 15:13:28.137 | DEBUG    | __main__:update_status:37 - Current Point : 3\n",
      "2020-10-28 15:13:28.138 | DEBUG    | __main__:update_status:43 - Next Point : 4\n",
      "2020-10-28 15:13:28.141 | DEBUG    | __main__:get_pending_orders:3 - get_pending_orders : \n"
     ]
    },
    {
     "name": "stdout",
     "output_type": "stream",
     "text": [
      "My Quantity : 6\n"
     ]
    },
    {
     "name": "stderr",
     "output_type": "stream",
     "text": [
      "2020-10-28 15:13:28.496 | DEBUG    | __main__:get_pending_orders:12 - pending_orders : []\n"
     ]
    },
    {
     "name": "stdout",
     "output_type": "stream",
     "text": [
      "=====================================\n",
      "LTP : 74.0725\n",
      "=====================================\n",
      "LTP : 74.0725\n",
      "=====================================\n",
      "LTP : 74.0725\n",
      "=====================================\n",
      "LTP : 74.0725\n",
      "=====================================\n",
      "LTP : 74.0725\n",
      "=====================================\n",
      "LTP : 74.075\n",
      "=====================================\n",
      "LTP : 74.0725\n",
      "=====================================\n",
      "LTP : 74.0725\n",
      "=====================================\n",
      "LTP : 74.0725\n",
      "=====================================\n",
      "LTP : 74.0725\n",
      "=====================================\n",
      "LTP : 74.075\n",
      "=====================================\n",
      "LTP : 74.07\n",
      "=====================================\n",
      "LTP : 74.07\n",
      "=====================================\n",
      "LTP : 74.07\n"
     ]
    },
    {
     "name": "stderr",
     "output_type": "stream",
     "text": [
      "2020-10-28 15:13:40.018 | DEBUG    | __main__:calc_and_update:59 - calc_and_update :  in calc_and_update\n"
     ]
    },
    {
     "name": "stdout",
     "output_type": "stream",
     "text": [
      "in the thread : \n",
      "=====================================\n",
      "LTP : 74.075\n"
     ]
    },
    {
     "name": "stderr",
     "output_type": "stream",
     "text": [
      "2020-10-28 15:13:40.597 | DEBUG    | __main__:calc_and_update:59 - calc_and_update :  in calc_and_update\n",
      "2020-10-28 15:13:40.601 | DEBUG    | __main__:calc_rsi:24 - current_rsi : 61.4195\n",
      "2020-10-28 15:13:40.607 | DEBUG    | __main__:getquant:4 - getquant : \n"
     ]
    },
    {
     "name": "stdout",
     "output_type": "stream",
     "text": [
      "in the thread : \n",
      "=====================================\n",
      "LTP : 74.075\n",
      "Current RSI : 61.4195\n"
     ]
    },
    {
     "name": "stderr",
     "output_type": "stream",
     "text": [
      "2020-10-28 15:13:40.923 | DEBUG    | __main__:getquant:11 - My Quantity : 6\n",
      "2020-10-28 15:13:40.924 | DEBUG    | __main__:update_status:37 - Current Point : 3\n",
      "2020-10-28 15:13:40.928 | DEBUG    | __main__:update_status:43 - Next Point : 4\n",
      "2020-10-28 15:13:40.930 | DEBUG    | __main__:get_pending_orders:3 - get_pending_orders : \n"
     ]
    },
    {
     "name": "stdout",
     "output_type": "stream",
     "text": [
      "My Quantity : 6\n"
     ]
    },
    {
     "name": "stderr",
     "output_type": "stream",
     "text": [
      "2020-10-28 15:13:41.185 | DEBUG    | __main__:calc_rsi:24 - current_rsi : 61.4195\n",
      "2020-10-28 15:13:41.187 | DEBUG    | __main__:getquant:4 - getquant : \n",
      "2020-10-28 15:13:41.321 | DEBUG    | __main__:get_pending_orders:12 - pending_orders : []\n"
     ]
    },
    {
     "name": "stdout",
     "output_type": "stream",
     "text": [
      "Current RSI : 61.4195\n"
     ]
    },
    {
     "name": "stderr",
     "output_type": "stream",
     "text": [
      "2020-10-28 15:13:41.514 | DEBUG    | __main__:getquant:11 - My Quantity : 6\n",
      "2020-10-28 15:13:41.515 | DEBUG    | __main__:update_status:37 - Current Point : 3\n",
      "2020-10-28 15:13:41.516 | DEBUG    | __main__:update_status:43 - Next Point : 4\n",
      "2020-10-28 15:13:41.517 | DEBUG    | __main__:get_pending_orders:3 - get_pending_orders : \n"
     ]
    },
    {
     "name": "stdout",
     "output_type": "stream",
     "text": [
      "My Quantity : 6\n"
     ]
    },
    {
     "name": "stderr",
     "output_type": "stream",
     "text": [
      "2020-10-28 15:13:41.877 | DEBUG    | __main__:get_pending_orders:12 - pending_orders : []\n"
     ]
    },
    {
     "name": "stdout",
     "output_type": "stream",
     "text": [
      "=====================================\n",
      "LTP : 74.075\n",
      "=====================================\n",
      "LTP : 74.075\n",
      "=====================================\n",
      "LTP : 74.075\n",
      "=====================================\n",
      "LTP : 74.075\n",
      "=====================================\n",
      "LTP : 74.075\n",
      "=====================================\n",
      "LTP : 74.07\n",
      "=====================================\n",
      "LTP : 74.07\n",
      "=====================================\n",
      "LTP : 74.07\n",
      "=====================================\n",
      "LTP : 74.07\n",
      "=====================================\n",
      "LTP : 74.07\n"
     ]
    },
    {
     "name": "stderr",
     "output_type": "stream",
     "text": [
      "2020-10-28 15:13:50.157 | DEBUG    | __main__:calc_and_update:59 - calc_and_update :  in calc_and_update\n"
     ]
    },
    {
     "name": "stdout",
     "output_type": "stream",
     "text": [
      "in the thread : \n",
      "=====================================\n",
      "LTP : 74.07\n"
     ]
    },
    {
     "name": "stderr",
     "output_type": "stream",
     "text": [
      "2020-10-28 15:13:50.913 | DEBUG    | __main__:calc_rsi:24 - current_rsi : 61.4195\n",
      "2020-10-28 15:13:50.915 | DEBUG    | __main__:getquant:4 - getquant : \n"
     ]
    },
    {
     "name": "stdout",
     "output_type": "stream",
     "text": [
      "Current RSI : 61.4195\n",
      "=====================================\n",
      "LTP : 74.07\n",
      "=====================================\n",
      "LTP : 74.07\n",
      "=====================================\n",
      "LTP : 74.07\n",
      "=====================================\n",
      "LTP : 74.07\n",
      "=====================================\n",
      "LTP : 74.07\n",
      "=====================================\n",
      "LTP : 74.07\n",
      "=====================================\n",
      "LTP : 74.07\n",
      "=====================================\n",
      "LTP : 74.07\n"
     ]
    },
    {
     "name": "stderr",
     "output_type": "stream",
     "text": [
      "2020-10-28 15:13:58.532 | DEBUG    | __main__:getquant:11 - My Quantity : 6\n",
      "2020-10-28 15:13:58.534 | DEBUG    | __main__:update_status:37 - Current Point : 3\n",
      "2020-10-28 15:13:58.535 | DEBUG    | __main__:update_status:43 - Next Point : 4\n",
      "2020-10-28 15:13:58.536 | DEBUG    | __main__:get_pending_orders:3 - get_pending_orders : \n"
     ]
    },
    {
     "name": "stdout",
     "output_type": "stream",
     "text": [
      "My Quantity : 6\n",
      "=====================================\n",
      "LTP : 74.07\n",
      "=====================================\n",
      "LTP : 74.07\n",
      "=====================================\n",
      "LTP : 74.07\n",
      "=====================================\n",
      "LTP : 74.07\n",
      "=====================================\n",
      "LTP : 74.07\n",
      "=====================================\n",
      "LTP : 74.07\n",
      "=====================================\n",
      "LTP : 74.07\n",
      "=====================================\n",
      "LTP : 74.07\n"
     ]
    },
    {
     "name": "stderr",
     "output_type": "stream",
     "text": [
      "2020-10-28 15:14:06.032 | DEBUG    | __main__:get_pending_orders:12 - pending_orders : []\n"
     ]
    },
    {
     "name": "stdout",
     "output_type": "stream",
     "text": [
      "=====================================\n",
      "LTP : 74.07\n",
      "=====================================\n",
      "LTP : 74.0725\n",
      "=====================================\n",
      "LTP : 74.0725\n",
      "=====================================\n",
      "LTP : 74.0725\n",
      "=====================================\n",
      "LTP : 74.0725\n"
     ]
    },
    {
     "name": "stderr",
     "output_type": "stream",
     "text": [
      "2020-10-28 15:14:10.174 | DEBUG    | __main__:calc_and_update:59 - calc_and_update :  in calc_and_update\n"
     ]
    },
    {
     "name": "stdout",
     "output_type": "stream",
     "text": [
      "in the thread : \n",
      "=====================================\n",
      "LTP : 74.0725\n"
     ]
    },
    {
     "name": "stderr",
     "output_type": "stream",
     "text": [
      "2020-10-28 15:14:10.668 | DEBUG    | __main__:calc_and_update:59 - calc_and_update :  in calc_and_update\n"
     ]
    },
    {
     "name": "stdout",
     "output_type": "stream",
     "text": [
      "in the thread : \n",
      "=====================================\n",
      "LTP : 74.08\n",
      "=====================================\n",
      "LTP : 74.085\n",
      "=====================================\n",
      "LTP : 74.0825\n",
      "=====================================\n",
      "LTP : 74.08\n",
      "=====================================\n",
      "LTP : 74.08\n",
      "=====================================\n",
      "LTP : 74.08\n",
      "=====================================\n",
      "LTP : 74.085\n",
      "=====================================\n",
      "LTP : 74.085\n",
      "=====================================\n",
      "LTP : 74.0825\n",
      "=====================================\n",
      "LTP : 74.0825\n",
      "=====================================\n",
      "LTP : 74.085\n",
      "=====================================\n",
      "LTP : 74.085\n"
     ]
    },
    {
     "name": "stderr",
     "output_type": "stream",
     "text": [
      "2020-10-28 15:14:18.129 | DEBUG    | __main__:calc_rsi:24 - current_rsi : 65.2871\n",
      "2020-10-28 15:14:18.132 | DEBUG    | __main__:getquant:4 - getquant : \n"
     ]
    },
    {
     "name": "stdout",
     "output_type": "stream",
     "text": [
      "Current RSI : 65.2871\n"
     ]
    },
    {
     "name": "stderr",
     "output_type": "stream",
     "text": [
      "2020-10-28 15:14:19.075 | DEBUG    | __main__:calc_rsi:24 - current_rsi : 65.2871\n",
      "2020-10-28 15:14:19.077 | DEBUG    | __main__:getquant:4 - getquant : \n"
     ]
    },
    {
     "name": "stdout",
     "output_type": "stream",
     "text": [
      "=====================================\n",
      "LTP : 74.0825\n",
      "Current RSI : 65.2871\n",
      "=====================================\n",
      "LTP : 74.0825\n"
     ]
    },
    {
     "name": "stderr",
     "output_type": "stream",
     "text": [
      "2020-10-28 15:14:20.221 | DEBUG    | __main__:calc_and_update:59 - calc_and_update :  in calc_and_update\n"
     ]
    },
    {
     "name": "stdout",
     "output_type": "stream",
     "text": [
      "in the thread : \n",
      "=====================================\n",
      "LTP : 74.0825\n"
     ]
    },
    {
     "name": "stderr",
     "output_type": "stream",
     "text": [
      "2020-10-28 15:14:20.949 | DEBUG    | __main__:calc_and_update:59 - calc_and_update :  in calc_and_update\n"
     ]
    },
    {
     "name": "stdout",
     "output_type": "stream",
     "text": [
      "in the thread : \n",
      "=====================================\n",
      "LTP : 74.0825\n",
      "=====================================\n",
      "LTP : 74.0825\n",
      "=====================================\n",
      "LTP : 74.0825\n",
      "=====================================\n",
      "LTP : 74.0825\n",
      "=====================================\n",
      "LTP : 74.08\n",
      "=====================================\n",
      "LTP : 74.08\n"
     ]
    },
    {
     "name": "stderr",
     "output_type": "stream",
     "text": [
      "2020-10-28 15:14:25.573 | DEBUG    | __main__:getquant:11 - My Quantity : 6\n",
      "2020-10-28 15:14:25.575 | DEBUG    | __main__:update_status:37 - Current Point : 3\n",
      "2020-10-28 15:14:25.576 | DEBUG    | __main__:update_status:43 - Next Point : 4\n",
      "2020-10-28 15:14:25.577 | DEBUG    | __main__:get_pending_orders:3 - get_pending_orders : \n"
     ]
    },
    {
     "name": "stdout",
     "output_type": "stream",
     "text": [
      "My Quantity : 6\n",
      "=====================================\n",
      "LTP : 74.08\n",
      "=====================================\n",
      "LTP : 74.0825\n"
     ]
    },
    {
     "name": "stderr",
     "output_type": "stream",
     "text": [
      "2020-10-28 15:14:26.501 | DEBUG    | __main__:getquant:11 - My Quantity : 6\n",
      "2020-10-28 15:14:26.503 | DEBUG    | __main__:update_status:37 - Current Point : 3\n",
      "2020-10-28 15:14:26.504 | DEBUG    | __main__:update_status:43 - Next Point : 4\n",
      "2020-10-28 15:14:26.505 | DEBUG    | __main__:get_pending_orders:3 - get_pending_orders : \n"
     ]
    },
    {
     "name": "stdout",
     "output_type": "stream",
     "text": [
      "My Quantity : 6\n",
      "=====================================\n",
      "LTP : 74.0825\n",
      "=====================================\n",
      "LTP : 74.0825\n"
     ]
    },
    {
     "name": "stderr",
     "output_type": "stream",
     "text": [
      "2020-10-28 15:14:28.183 | DEBUG    | __main__:calc_rsi:24 - current_rsi : 65.2871\n",
      "2020-10-28 15:14:28.184 | DEBUG    | __main__:getquant:4 - getquant : \n"
     ]
    },
    {
     "name": "stdout",
     "output_type": "stream",
     "text": [
      "=====================================\n",
      "LTP : 74.085\n",
      "Current RSI : 65.2871\n"
     ]
    },
    {
     "name": "stderr",
     "output_type": "stream",
     "text": [
      "2020-10-28 15:14:28.708 | DEBUG    | __main__:calc_rsi:24 - current_rsi : 64.1048\n",
      "2020-10-28 15:14:28.710 | DEBUG    | __main__:getquant:4 - getquant : \n"
     ]
    },
    {
     "name": "stdout",
     "output_type": "stream",
     "text": [
      "=====================================\n",
      "LTP : 74.085\n",
      "Current RSI : 64.1048\n",
      "=====================================\n",
      "LTP : 74.085\n"
     ]
    },
    {
     "name": "stderr",
     "output_type": "stream",
     "text": [
      "2020-10-28 15:14:30.416 | DEBUG    | __main__:calc_and_update:59 - calc_and_update :  in calc_and_update\n"
     ]
    },
    {
     "name": "stdout",
     "output_type": "stream",
     "text": [
      "in the thread : \n",
      "=====================================\n",
      "LTP : 74.0825\n",
      "=====================================\n",
      "LTP : 74.0825\n",
      "=====================================\n",
      "LTP : 74.0825\n"
     ]
    },
    {
     "name": "stderr",
     "output_type": "stream",
     "text": [
      "2020-10-28 15:14:33.143 | DEBUG    | __main__:get_pending_orders:12 - pending_orders : []\n"
     ]
    },
    {
     "name": "stdout",
     "output_type": "stream",
     "text": [
      "=====================================\n",
      "LTP : 74.0825\n"
     ]
    },
    {
     "name": "stderr",
     "output_type": "stream",
     "text": [
      "2020-10-28 15:14:34.006 | DEBUG    | __main__:get_pending_orders:12 - pending_orders : []\n"
     ]
    },
    {
     "name": "stdout",
     "output_type": "stream",
     "text": [
      "=====================================\n",
      "LTP : 74.085\n",
      "=====================================\n",
      "LTP : 74.085\n"
     ]
    },
    {
     "name": "stderr",
     "output_type": "stream",
     "text": [
      "2020-10-28 15:14:35.625 | DEBUG    | __main__:getquant:11 - My Quantity : 6\n",
      "2020-10-28 15:14:35.626 | DEBUG    | __main__:update_status:37 - Current Point : 3\n",
      "2020-10-28 15:14:35.628 | DEBUG    | __main__:update_status:43 - Next Point : 4\n",
      "2020-10-28 15:14:35.629 | DEBUG    | __main__:get_pending_orders:3 - get_pending_orders : \n"
     ]
    },
    {
     "name": "stdout",
     "output_type": "stream",
     "text": [
      "My Quantity : 6\n",
      "=====================================\n",
      "LTP : 74.085\n"
     ]
    },
    {
     "name": "stderr",
     "output_type": "stream",
     "text": [
      "2020-10-28 15:14:36.141 | DEBUG    | __main__:getquant:11 - My Quantity : 6\n",
      "2020-10-28 15:14:36.143 | DEBUG    | __main__:update_status:37 - Current Point : 3\n",
      "2020-10-28 15:14:36.144 | DEBUG    | __main__:update_status:43 - Next Point : 4\n",
      "2020-10-28 15:14:36.146 | DEBUG    | __main__:get_pending_orders:3 - get_pending_orders : \n"
     ]
    },
    {
     "name": "stdout",
     "output_type": "stream",
     "text": [
      "My Quantity : 6\n",
      "=====================================\n",
      "LTP : 74.085\n",
      "=====================================\n",
      "LTP : 74.0825\n",
      "=====================================\n",
      "LTP : 74.0825\n"
     ]
    },
    {
     "name": "stderr",
     "output_type": "stream",
     "text": [
      "2020-10-28 15:14:38.271 | DEBUG    | __main__:calc_rsi:24 - current_rsi : 64.1048\n",
      "2020-10-28 15:14:38.274 | DEBUG    | __main__:getquant:4 - getquant : \n"
     ]
    },
    {
     "name": "stdout",
     "output_type": "stream",
     "text": [
      "Current RSI : 64.1048\n",
      "=====================================\n",
      "LTP : 74.085\n",
      "=====================================\n",
      "LTP : 74.085\n"
     ]
    },
    {
     "name": "stderr",
     "output_type": "stream",
     "text": [
      "2020-10-28 15:14:40.676 | DEBUG    | __main__:calc_and_update:59 - calc_and_update :  in calc_and_update\n"
     ]
    },
    {
     "name": "stdout",
     "output_type": "stream",
     "text": [
      "in the thread : \n",
      "=====================================\n",
      "LTP : 74.085\n",
      "=====================================\n",
      "LTP : 74.0825\n",
      "=====================================\n",
      "LTP : 74.085\n"
     ]
    },
    {
     "name": "stderr",
     "output_type": "stream",
     "text": [
      "2020-10-28 15:14:43.354 | DEBUG    | __main__:get_pending_orders:12 - pending_orders : []\n",
      "2020-10-28 15:14:43.598 | DEBUG    | __main__:get_pending_orders:12 - pending_orders : []\n"
     ]
    },
    {
     "name": "stdout",
     "output_type": "stream",
     "text": [
      "=====================================\n",
      "LTP : 74.085\n",
      "=====================================\n",
      "LTP : 74.085\n",
      "=====================================\n",
      "LTP : 74.085\n",
      "=====================================\n",
      "LTP : 74.0875\n"
     ]
    },
    {
     "name": "stderr",
     "output_type": "stream",
     "text": [
      "2020-10-28 15:14:45.742 | DEBUG    | __main__:getquant:11 - My Quantity : 6\n",
      "2020-10-28 15:14:45.743 | DEBUG    | __main__:update_status:37 - Current Point : 3\n",
      "2020-10-28 15:14:45.745 | DEBUG    | __main__:update_status:43 - Next Point : 4\n",
      "2020-10-28 15:14:45.748 | DEBUG    | __main__:get_pending_orders:3 - get_pending_orders : \n"
     ]
    },
    {
     "name": "stdout",
     "output_type": "stream",
     "text": [
      "My Quantity : 6\n",
      "=====================================\n",
      "LTP : 74.0875\n",
      "=====================================\n",
      "LTP : 74.0875\n",
      "=====================================\n",
      "LTP : 74.0875\n"
     ]
    },
    {
     "name": "stderr",
     "output_type": "stream",
     "text": [
      "2020-10-28 15:14:48.549 | DEBUG    | __main__:calc_rsi:24 - current_rsi : 65.2871\n",
      "2020-10-28 15:14:48.550 | DEBUG    | __main__:getquant:4 - getquant : \n"
     ]
    },
    {
     "name": "stdout",
     "output_type": "stream",
     "text": [
      "Current RSI : 65.2871\n",
      "=====================================\n",
      "LTP : 74.09\n",
      "=====================================\n",
      "LTP : 74.085\n"
     ]
    },
    {
     "name": "stderr",
     "output_type": "stream",
     "text": [
      "2020-10-28 15:14:50.229 | DEBUG    | __main__:calc_and_update:59 - calc_and_update :  in calc_and_update\n"
     ]
    },
    {
     "name": "stdout",
     "output_type": "stream",
     "text": [
      "in the thread : \n",
      "=====================================\n",
      "LTP : 74.09\n"
     ]
    },
    {
     "name": "stderr",
     "output_type": "stream",
     "text": [
      "2020-10-28 15:14:50.794 | DEBUG    | __main__:calc_and_update:59 - calc_and_update :  in calc_and_update\n"
     ]
    },
    {
     "name": "stdout",
     "output_type": "stream",
     "text": [
      "in the thread : \n",
      "=====================================\n",
      "LTP : 74.085\n",
      "=====================================\n",
      "LTP : 74.09\n",
      "=====================================\n",
      "LTP : 74.09\n",
      "=====================================\n",
      "LTP : 74.09\n"
     ]
    },
    {
     "name": "stderr",
     "output_type": "stream",
     "text": [
      "2020-10-28 15:14:53.140 | DEBUG    | __main__:get_pending_orders:12 - pending_orders : []\n"
     ]
    },
    {
     "name": "stdout",
     "output_type": "stream",
     "text": [
      "=====================================\n",
      "LTP : 74.0875\n",
      "=====================================\n",
      "LTP : 74.0875\n",
      "=====================================\n",
      "LTP : 74.09\n",
      "=====================================\n",
      "LTP : 74.085\n",
      "=====================================\n",
      "LTP : 74.085\n"
     ]
    },
    {
     "name": "stderr",
     "output_type": "stream",
     "text": [
      "2020-10-28 15:14:56.001 | DEBUG    | __main__:getquant:11 - My Quantity : 6\n",
      "2020-10-28 15:14:56.002 | DEBUG    | __main__:update_status:37 - Current Point : 3\n",
      "2020-10-28 15:14:56.004 | DEBUG    | __main__:update_status:43 - Next Point : 4\n",
      "2020-10-28 15:14:56.005 | DEBUG    | __main__:get_pending_orders:3 - get_pending_orders : \n"
     ]
    },
    {
     "name": "stdout",
     "output_type": "stream",
     "text": [
      "My Quantity : 6\n"
     ]
    },
    {
     "name": "stderr",
     "output_type": "stream",
     "text": [
      "2020-10-28 15:14:56.437 | DEBUG    | __main__:get_pending_orders:12 - pending_orders : []\n"
     ]
    },
    {
     "name": "stdout",
     "output_type": "stream",
     "text": [
      "=====================================\n",
      "LTP : 74.085\n"
     ]
    },
    {
     "name": "stderr",
     "output_type": "stream",
     "text": [
      "2020-10-28 15:14:57.973 | DEBUG    | __main__:calc_rsi:24 - current_rsi : 65.2871\n",
      "2020-10-28 15:14:57.975 | DEBUG    | __main__:getquant:4 - getquant : \n",
      "ERROR:kiteconnect.ticker:Connection error: 1006 - connection was closed uncleanly (peer dropped the TCP connection without previous WebSocket closing handshake)\n",
      "ERROR:root:closed connection on error: 1006 connection was closed uncleanly (peer dropped the TCP connection without previous WebSocket closing handshake)\n",
      "ERROR:kiteconnect.ticker:Connection closed: 1006 - connection was closed uncleanly (peer dropped the TCP connection without previous WebSocket closing handshake)\n",
      "Unhandled Error\n",
      "Traceback (most recent call last):\n",
      "  File \"/home/hemang/.local/lib/python3.8/site-packages/twisted/internet/defer.py\", line 311, in addCallbacks\n",
      "    self._runCallbacks()\n",
      "  File \"/home/hemang/.local/lib/python3.8/site-packages/twisted/internet/defer.py\", line 654, in _runCallbacks\n",
      "    current.result = callback(current.result, *args, **kw)\n",
      "  File \"/home/hemang/.local/lib/python3.8/site-packages/twisted/internet/base.py\", line 447, in _continueFiring\n",
      "    callable(*args, **kwargs)\n",
      "  File \"/home/hemang/.local/lib/python3.8/site-packages/twisted/internet/base.py\", line 704, in disconnectAll\n",
      "    log.callWithLogger(reader,\n",
      "--- <exception caught here> ---\n",
      "  File \"/home/hemang/.local/lib/python3.8/site-packages/twisted/python/log.py\", line 103, in callWithLogger\n",
      "    return callWithContext({\"system\": lp}, func, *args, **kw)\n",
      "  File \"/home/hemang/.local/lib/python3.8/site-packages/twisted/python/log.py\", line 86, in callWithContext\n",
      "    return context.call({ILogContext: newCtx}, func, *args, **kw)\n",
      "  File \"/home/hemang/.local/lib/python3.8/site-packages/twisted/python/context.py\", line 122, in callWithContext\n",
      "    return self.currentContext().callWithContext(ctx, func, *args, **kw)\n",
      "  File \"/home/hemang/.local/lib/python3.8/site-packages/twisted/python/context.py\", line 85, in callWithContext\n",
      "    return func(*args,**kw)\n",
      "  File \"/home/hemang/.local/lib/python3.8/site-packages/twisted/internet/tcp.py\", line 519, in connectionLost\n",
      "    self._commonConnection.connectionLost(self, reason)\n",
      "  File \"/home/hemang/.local/lib/python3.8/site-packages/twisted/internet/tcp.py\", line 327, in connectionLost\n",
      "    protocol.connectionLost(reason)\n",
      "  File \"/home/hemang/.local/lib/python3.8/site-packages/twisted/protocols/tls.py\", line 403, in connectionLost\n",
      "    ProtocolWrapper.connectionLost(self, reason)\n",
      "  File \"/home/hemang/.local/lib/python3.8/site-packages/twisted/protocols/policies.py\", line 125, in connectionLost\n",
      "    self.wrappedProtocol.connectionLost(reason)\n",
      "  File \"/home/hemang/.local/lib/python3.8/site-packages/autobahn/twisted/websocket.py\", line 287, in connectionLost\n",
      "    self._connectionLost(reason)\n",
      "  File \"/home/hemang/.local/lib/python3.8/site-packages/autobahn/websocket/protocol.py\", line 3412, in _connectionLost\n",
      "    WebSocketProtocol._connectionLost(self, reason)\n",
      "  File \"/home/hemang/.local/lib/python3.8/site-packages/autobahn/websocket/protocol.py\", line 1126, in _connectionLost\n",
      "    self._onClose(self.wasClean, WebSocketProtocol.CLOSE_STATUS_CODE_ABNORMAL_CLOSE, \"connection was closed uncleanly (%s)\" % self.wasNotCleanReason)\n",
      "  File \"/home/hemang/.local/lib/python3.8/site-packages/autobahn/twisted/websocket.py\", line 330, in _onClose\n",
      "    self.onClose(wasClean, code, reason)\n",
      "  File \"/home/hemang/.local/lib/python3.8/site-packages/kiteconnect/ticker.py\", line 81, in onClose\n",
      "    self.factory.on_close(self, code, reason)\n",
      "  File \"/home/hemang/.local/lib/python3.8/site-packages/kiteconnect/ticker.py\", line 654, in _on_close\n",
      "    self.on_close(self, code, reason)\n",
      "  File \"<ipython-input-11-ca683d167068>\", line 31, in on_close\n",
      "    ws.stop()\n",
      "  File \"/home/hemang/.local/lib/python3.8/site-packages/kiteconnect/ticker.py\", line 555, in stop\n",
      "    reactor.stop()\n",
      "  File \"/home/hemang/.local/lib/python3.8/site-packages/twisted/internet/base.py\", line 646, in stop\n",
      "    raise error.ReactorNotRunning(\n",
      "twisted.internet.error.ReactorNotRunning: Can't stop reactor that isn't running.\n",
      "\n"
     ]
    },
    {
     "name": "stdout",
     "output_type": "stream",
     "text": [
      "=====================================\n",
      "LTP : 74.085\n",
      "Current RSI : 65.2871\n"
     ]
    }
   ],
   "source": [
    "############# start trading ############\n",
    "import threading\n",
    "import logging\n",
    "from kiteconnect import KiteTicker\n",
    "logging.basicConfig(level=logging.DEBUG)\n",
    "# kws = KiteTicker(\"w19o0chuo929jxkp\", \"eA5B5OJQNOtZ0OYihkBmYw7Ke3B9pmCC\")\n",
    "\n",
    "def on_ticks(ws, ticks):\n",
    "    global pivot_price, moving_pivot_on\n",
    "    this_sec = datetime.datetime.now().second\n",
    "    last_sec = 0\n",
    "    if(this_sec%10==0 and last_sec!=this_sec):\n",
    "            print('in the thread : ')\n",
    "            x = threading.Thread(target=calc_and_update, args=())\n",
    "            last_sec = this_sec\n",
    "            x.start()\n",
    "#             x.join()\n",
    "\n",
    "    print('=====================================')\n",
    "    print( 'LTP : ' + str(ticks[0]['last_price']))\n",
    "#     print(datetime.datetime.now().second)\n",
    "#     print('=====================================')\n",
    "#     print()\n",
    "\n",
    "def on_connect(ws, response):\n",
    "    global inst_token\n",
    "    ws.subscribe([inst_token])\n",
    "    ws.set_mode(ws.MODE_FULL, [inst_token])\n",
    "\n",
    "def on_close(ws, code, reason):\n",
    "    ws.stop()\n",
    "    \n",
    "def on_error(ws, code, reason):\n",
    "    logging.error(\"closed connection on error: {} {}\".format(code, reason))\n",
    "\n",
    "def on_noreconnect(ws):\n",
    "    logging.error(\"Reconnecting the websocket failed\")\n",
    "\n",
    "def on_reconnect(ws, attempt_count):\n",
    "    logging.debug(\"Reconnecting the websocket: {}\".format(attempt_count))\n",
    "\n",
    "def on_order_update(ws, data):\n",
    "    logger.debug('on_order_update : ')\n",
    "    global baseprice,symbol_ip,myquantity,init_qty,current_point\n",
    "    print(\"order update: \", data)\n",
    "#     getquant()\n",
    "#     if(data['tradingsymbol'] == symbol_ip and (myquantity!=init_qty and myquantity!=-init_qty)):\n",
    "#         current_point = 0\n",
    "#         for i in range(1,len(stepmultiseries)+1):\n",
    "#             if(globals()['p'+str(i)+'q']==myquantity):\n",
    "#                 current_point=i\n",
    "#         logging.debug('current_point : '+str(current_point))\n",
    "#         update_status()\n",
    "          \n",
    "kws.on_error = on_error\n",
    "kws.on_noreconnect = on_noreconnect\n",
    "kws.on_reconnect = on_reconnect\n",
    "kws.on_order_update = on_order_update\n",
    "\n",
    "kws.on_ticks = on_ticks\n",
    "kws.on_connect = on_connect\n",
    "kws.on_close = on_close\n",
    "\n",
    "kws.connect()"
   ]
  },
  {
   "cell_type": "code",
   "execution_count": null,
   "metadata": {},
   "outputs": [],
   "source": []
  }
 ],
 "metadata": {
  "kernelspec": {
   "display_name": "Python 3",
   "language": "python",
   "name": "python3"
  },
  "language_info": {
   "codemirror_mode": {
    "name": "ipython",
    "version": 3
   },
   "file_extension": ".py",
   "mimetype": "text/x-python",
   "name": "python",
   "nbconvert_exporter": "python",
   "pygments_lexer": "ipython3",
   "version": "3.8.6"
  },
  "nteract": {
   "version": "0.26.0"
  }
 },
 "nbformat": 4,
 "nbformat_minor": 4
}
