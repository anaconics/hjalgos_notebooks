{
 "cells": [
  {
   "cell_type": "code",
   "execution_count": 2,
   "metadata": {},
   "outputs": [
    {
     "data": {
      "text/plain": [
       "'https://kite.trade/connect/login?api_key=w19o0chuo929jxkp&v=3'"
      ]
     },
     "execution_count": 2,
     "metadata": {},
     "output_type": "execute_result"
    }
   ],
   "source": [
    "import logging\n",
    "from kiteconnect import KiteConnect\n",
    "logging.basicConfig(level=logging.ERROR)\n",
    "import threading\n",
    "kite = KiteConnect(api_key=\"w19o0chuo929jxkp\")\n",
    "import joblib\n",
    "kite = joblib.load('kitefile.p')\n",
    "kite.login_url()"
   ]
  },
  {
   "cell_type": "code",
   "execution_count": 3,
   "metadata": {},
   "outputs": [
    {
     "data": {
      "text/plain": [
       "['kitefile.p']"
      ]
     },
     "execution_count": 3,
     "metadata": {},
     "output_type": "execute_result"
    }
   ],
   "source": [
    "#####################################################\n",
    "mytoken = 'w8LyYjf10pMHGmEVXFE3j5PktsRVO1CY'        \n",
    "#####################################################\n",
    "data = kite.generate_session(mytoken, \n",
    "                             api_secret=\"gsw8ps17ex7lf3cuji4prfnwb4vlyr4y\")\n",
    "kite.set_access_token(data[\"access_token\"])\n",
    "import joblib\n",
    "joblib.dump(kite,'kitefile.p')"
   ]
  },
  {
   "cell_type": "code",
   "execution_count": null,
   "metadata": {},
   "outputs": [],
   "source": [
    "import act"
   ]
  },
  {
   "cell_type": "code",
   "execution_count": 13,
   "metadata": {},
   "outputs": [
    {
     "data": {
      "text/plain": [
       "{'placed_by': 'FC5917',\n",
       " 'order_id': '201004000000551',\n",
       " 'exchange_order_id': None,\n",
       " 'parent_order_id': None,\n",
       " 'status': 'CANCELLED AMO',\n",
       " 'status_message': None,\n",
       " 'status_message_raw': None,\n",
       " 'order_timestamp': datetime.datetime(2020, 10, 4, 2, 5, 3),\n",
       " 'exchange_update_timestamp': None,\n",
       " 'exchange_timestamp': None,\n",
       " 'variety': 'amo',\n",
       " 'exchange': 'CDS',\n",
       " 'tradingsymbol': 'USDINR20OCTFUT',\n",
       " 'instrument_token': 690691,\n",
       " 'order_type': 'MARKET',\n",
       " 'transaction_type': 'BUY',\n",
       " 'validity': 'DAY',\n",
       " 'product': 'NRML',\n",
       " 'quantity': 10,\n",
       " 'disclosed_quantity': 0,\n",
       " 'price': 0,\n",
       " 'trigger_price': 0,\n",
       " 'average_price': 0,\n",
       " 'filled_quantity': 0,\n",
       " 'pending_quantity': 10,\n",
       " 'cancelled_quantity': 0,\n",
       " 'market_protection': 0,\n",
       " 'meta': {},\n",
       " 'tag': None,\n",
       " 'guid': '18679XoBHqjPk8H466'}"
      ]
     },
     "execution_count": 13,
     "metadata": {},
     "output_type": "execute_result"
    }
   ],
   "source": [
    "kite.orders()[-1]"
   ]
  },
  {
   "cell_type": "code",
   "execution_count": 9,
   "metadata": {},
   "outputs": [
    {
     "data": {
      "text/plain": [
       "[{'tradingsymbol': 'USDINR20OCTFUT',\n",
       "  'exchange': 'CDS',\n",
       "  'instrument_token': 690691,\n",
       "  'product': 'NRML',\n",
       "  'quantity': 75,\n",
       "  'overnight_quantity': 75,\n",
       "  'multiplier': 1000,\n",
       "  'average_price': 73.70999999999998,\n",
       "  'close_price': 73.3425,\n",
       "  'last_price': 73.3525,\n",
       "  'value': -5528249.999999999,\n",
       "  'pnl': -26812.499999998137,\n",
       "  'm2m': 750.0000000009313,\n",
       "  'unrealised': -26812.499999998137,\n",
       "  'realised': 0,\n",
       "  'buy_quantity': 75,\n",
       "  'buy_price': 73.70999999999998,\n",
       "  'buy_value': 5528249.999999999,\n",
       "  'buy_m2m': 5500687.5,\n",
       "  'sell_quantity': 0,\n",
       "  'sell_price': 0,\n",
       "  'sell_value': 0,\n",
       "  'sell_m2m': 0,\n",
       "  'day_buy_quantity': 0,\n",
       "  'day_buy_price': 0,\n",
       "  'day_buy_value': 0,\n",
       "  'day_sell_quantity': 0,\n",
       "  'day_sell_price': 0,\n",
       "  'day_sell_value': 0}]"
      ]
     },
     "execution_count": 9,
     "metadata": {},
     "output_type": "execute_result"
    }
   ],
   "source": [
    "kite.positions()['net']"
   ]
  },
  {
   "cell_type": "code",
   "execution_count": 10,
   "metadata": {},
   "outputs": [
    {
     "data": {
      "text/plain": [
       "[{'tradingsymbol': 'YESBANK',\n",
       "  'exchange': 'NSE',\n",
       "  'instrument_token': 3050241,\n",
       "  'isin': 'INE528G01035',\n",
       "  'product': 'CNC',\n",
       "  'price': 0,\n",
       "  'quantity': 500,\n",
       "  't1_quantity': 0,\n",
       "  'realised_quantity': 500,\n",
       "  'authorised_quantity': 500,\n",
       "  'opening_quantity': 500,\n",
       "  'collateral_quantity': 0,\n",
       "  'collateral_type': '',\n",
       "  'discrepancy': False,\n",
       "  'average_price': 14.3,\n",
       "  'last_price': 13.3,\n",
       "  'close_price': 13.3,\n",
       "  'pnl': -500,\n",
       "  'day_change': 0,\n",
       "  'day_change_percentage': 0}]"
      ]
     },
     "execution_count": 10,
     "metadata": {},
     "output_type": "execute_result"
    }
   ],
   "source": [
    "kite.holdings()"
   ]
  },
  {
   "cell_type": "code",
   "execution_count": 8,
   "metadata": {},
   "outputs": [
    {
     "data": {
      "text/plain": [
       "-8241.967499999999"
      ]
     },
     "execution_count": 8,
     "metadata": {},
     "output_type": "execute_result"
    }
   ],
   "source": [
    "kite.margins(segment = 'equity')['available']['live_balance']"
   ]
  },
  {
   "cell_type": "code",
   "execution_count": 2,
   "metadata": {},
   "outputs": [
    {
     "name": "stdout",
     "output_type": "stream",
     "text": [
      "\n",
      "pivot_price : 73.3425\n",
      "\n",
      "p1b : 73.3175\n",
      "p2b : 73.3075\n",
      "p3b : 73.2975\n",
      "p4b : 73.2875\n",
      "p5b : 73.2775\n",
      "p6b : 73.2675\n",
      "p7b : 73.2575\n",
      "\n",
      "p1s : 73.3675\n",
      "p2s : 73.3775\n",
      "p3s : 73.3875\n",
      "p4s : 73.3975\n",
      "p5s : 73.4075\n",
      "p6s : 73.4175\n",
      "p7s : 73.4275\n",
      "\n",
      "p1q : 10\n",
      "p2q : 20\n",
      "p3q : 30\n",
      "p4q : 40\n",
      "p5q : 50\n",
      "p6q : 60\n",
      "p7q : 70\n"
     ]
    }
   ],
   "source": [
    "#####################\n",
    "pivot_price = 73.3425\n",
    "#####################\n",
    "fullquantity = 75\n",
    "per_order_quant = 10\n",
    "#####################\n",
    "initial_difference = 0.0150\n",
    "difference = 0.0100\n",
    "#####################\n",
    "\n",
    "base=0.0025\n",
    "max_no_of_order = int(fullquantity / per_order_quant)\n",
    "total_parts = 2*max_no_of_order\n",
    "\n",
    "print()\n",
    "print('pivot_price : '+str(pivot_price))\n",
    "print()\n",
    "for i in range(1,max_no_of_order+1):\n",
    "    globals()['p'+str(i)+'b'] = pivot_price - (initial_difference + i* difference)\n",
    "    globals()['p'+str(i)+'b'] = round(base * round(globals()['p'+str(i)+'b'] /base),4)\n",
    "    print('p'+str(i)+'b : '+str(globals()['p'+str(i)+'b']))\n",
    "    \n",
    "print()\n",
    "for i in range(1,max_no_of_order+1):\n",
    "    globals()['p'+str(i)+'s'] = pivot_price + (initial_difference + i* difference)\n",
    "    globals()['p'+str(i)+'s'] = round(base * round(globals()['p'+str(i)+'s'] /base),4)\n",
    "    print('p'+str(i)+'s : '+str(globals()['p'+str(i)+'s']))\n",
    "    \n",
    "print()\n",
    "for i in range(1,max_no_of_order+1):\n",
    "    globals()['p'+str(i)+'q'] = per_order_quant*i\n",
    "    print('p'+str(i)+'q : '+str(globals()['p'+str(i)+'q']))\n",
    "    "
   ]
  },
  {
   "cell_type": "code",
   "execution_count": 14,
   "metadata": {},
   "outputs": [
    {
     "name": "stdout",
     "output_type": "stream",
     "text": [
      "My Quantity : 75\n"
     ]
    }
   ],
   "source": [
    "myquantity = 0\n",
    "def getquant():\n",
    "    global myquantity\n",
    "    allpos = kite.positions()['net']\n",
    "    for i in range(len(allpos)):\n",
    "        if(allpos[i]['tradingsymbol']=='USDINR20OCTFUT'):\n",
    "            myquantity = allpos[i]['quantity']\n",
    "            print('My Quantity : ' + str(allpos[i]['quantity']))\n",
    "\n",
    "getquant()\n",
    "\n",
    "\n",
    "def placeneworder(quantdiff):\n",
    "    if(quantdiff>0):\n",
    "        try:\n",
    "                order_id= kite.place_order(tradingsymbol=\"USDINR20OCTFUT\",\n",
    "                            exchange=kite.EXCHANGE_CDS,\n",
    "                            transaction_type=kite.TRANSACTION_TYPE_BUY,\n",
    "                            quantity=abs(quantdiff),\n",
    "                            order_type=kite.ORDER_TYPE_MARKET,\n",
    "                            variety = kite.VARIETY_REGULAR,\n",
    "                            product=kite.PRODUCT_NRML)\n",
    "                getquant()\n",
    "        except Exception as e:\n",
    "            print(e)\n",
    "            getquant()\n",
    "    if(quantdiff<0):\n",
    "        try:\n",
    "                order_id= kite.place_order(tradingsymbol=\"USDINR20OCTFUT\",\n",
    "                            exchange=kite.EXCHANGE_CDS,\n",
    "                            transaction_type=kite.TRANSACTION_TYPE_SELL,\n",
    "                            quantity=abs(quantdiff),\n",
    "                            order_type=kite.ORDER_TYPE_MARKET,\n",
    "                            variety = kite.VARIETY_REGULAR,\n",
    "                            product=kite.PRODUCT_NRML)\n",
    "                getquant()\n",
    "        except Exception as e:\n",
    "            print(e)\n",
    "            getquant()\n",
    "\n",
    "        \n",
    "def ckqnt (orderprice,orderquant):\n",
    "    global myquantity\n",
    "    quantdiff = orderquant - myquantity\n",
    "    placeneworder(quantdiff)\n",
    "    return myquantity\n",
    "\n",
    "\n",
    "last_price = pivot_price\n",
    "\n",
    "def checkpivot(ltps):\n",
    "    global last_price\n",
    "    trade_quant = 0\n",
    "    \n",
    "    if ((ltps>=(pivot_price-0.0025)) and (ltps<=(pivot_price+0.0025))):\n",
    "        ckqnt(pivot_price,0)\n",
    "        print('in pivot range')\n",
    "    \n",
    "    for i in range(1,int(total_parts/2)+1):\n",
    "        \n",
    "        if(ltps<pivot_price):\n",
    "            trade_quant = globals()['p'+str(i)+'q']\n",
    "        elif(ltps>pivot_price):\n",
    "            trade_quant = -globals()['p'+str(i)+'q']\n",
    "            \n",
    "        if ((ltps == globals()['p'+str(i)+'b'] or ltps == globals()['p'+str(i)+'s']) and ltps < last_price):\n",
    "            ckqnt(globals()['p'+str(i)+'b'],trade_quant)\n",
    "            print('==========' +'p'+str(i)+'b' + '==============' )\n",
    "            print(str(globals()['p'+str(i+1)+'b'])+ ' < ' +str(ltps)+ ' < ' +str(globals()['p'+str(i)+'b']))\n",
    "            last_price=ltps\n",
    "\n",
    "        if ((ltps == globals()['p'+str(i)+'b'] or ltps == globals()['p'+str(i)+'s']) and ltps > last_price):\n",
    "            ckqnt(globals()['p'+str(i)+'s'],trade_quant)\n",
    "            print('==========' +'p'+str(i)+'s' + '==============' )\n",
    "            print(str(globals()['p'+str(i)+'s'])+ ' < ' +str(ltps)+ ' < ' +str(globals()['p'+str(i+1)+'s']))\n",
    "            last_price=ltps"
   ]
  },
  {
   "cell_type": "code",
   "execution_count": null,
   "metadata": {
    "scrolled": true
   },
   "outputs": [],
   "source": [
    "#!!!!!!!!!!!!!!!!!!!!!!!!!!!!!!!!!!!!!!!!!\n",
    "#              START TRADING             !\n",
    "#!!!!!!!!!!!!!!!!!!!!!!!!!!!!!!!!!!!!!!!!!\n",
    "\n",
    "import logging\n",
    "from kiteconnect import KiteTicker\n",
    "logging.basicConfig(level=logging.DEBUG)\n",
    "kws = KiteTicker(\"w19o0chuo929jxkp\", \"8B3hH04gpZlVlCKbszhsNUTfhKW2o0E8\")\n",
    "\n",
    "def on_ticks(ws, ticks):\n",
    "    checkpivot(ticks[0]['last_price'])\n",
    "    #print(type(ticks[0]['last_price']))\n",
    "    print('==========================')\n",
    "    print( 'LTP : ' + str(ticks[0]['last_price']))\n",
    "    print('==========================')\n",
    "    print()\n",
    "\n",
    "def on_connect(ws, response):\n",
    "    ws.subscribe([690691])\n",
    "    ws.set_mode(ws.MODE_FULL, [690691])\n",
    "\n",
    "def on_close(ws, code, reason):\n",
    "    ws.stop()\n",
    "\n",
    "kws.on_ticks = on_ticks\n",
    "kws.on_connect = on_connect\n",
    "kws.on_close = on_close\n",
    "\n",
    "kws.connect()"
   ]
  }
 ],
 "metadata": {
  "kernelspec": {
   "display_name": "Python 3",
   "language": "python",
   "name": "python3"
  },
  "language_info": {
   "codemirror_mode": {
    "name": "ipython",
    "version": 3
   },
   "file_extension": ".py",
   "mimetype": "text/x-python",
   "name": "python",
   "nbconvert_exporter": "python",
   "pygments_lexer": "ipython3",
   "version": "3.8.2"
  }
 },
 "nbformat": 4,
 "nbformat_minor": 4
}
