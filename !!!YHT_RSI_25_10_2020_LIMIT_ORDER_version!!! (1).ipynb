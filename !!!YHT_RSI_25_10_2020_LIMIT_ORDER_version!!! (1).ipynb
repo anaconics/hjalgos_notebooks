{
 "cells": [
  {
   "cell_type": "code",
   "execution_count": 1,
   "metadata": {
    "execution": {
     "iopub.execute_input": "2020-10-27T17:34:20.309Z",
     "iopub.status.busy": "2020-10-27T17:34:20.299Z",
     "iopub.status.idle": "2020-10-27T17:35:57.730Z",
     "shell.execute_reply": "2020-10-27T17:35:57.845Z"
    }
   },
   "outputs": [
    {
     "name": "stdout",
     "output_type": "stream",
     "text": [
      "F9oca1AB7V83cDyL8iFpLDF7STpgpOuB\n"
     ]
    },
    {
     "data": {
      "text/plain": [
       "1"
      ]
     },
     "execution_count": 1,
     "metadata": {},
     "output_type": "execute_result"
    }
   ],
   "source": [
    "########## auto login ############\n",
    "import login\n",
    "from login import *\n",
    "import pandas as pd\n",
    "from loguru import logger\n",
    "logger.add(\"RSI_logs_{time}.log\")\n",
    "#kite.margins(segment = 'equity')['available']['live_balance']"
   ]
  },
  {
   "cell_type": "code",
   "execution_count": 2,
   "metadata": {
    "execution": {
     "iopub.execute_input": "2020-10-27T17:35:57.783Z",
     "iopub.status.busy": "2020-10-27T17:35:57.768Z",
     "iopub.status.idle": "2020-10-27T17:35:57.824Z",
     "shell.execute_reply": "2020-10-27T17:35:57.852Z"
    }
   },
   "outputs": [
    {
     "name": "stderr",
     "output_type": "stream",
     "text": [
      "2020-10-28 16:01:35.305 | DEBUG    | __main__:<module>:1 - Parameters : \n",
      "2020-10-28 16:01:35.308 | DEBUG    | __main__:<module>:11 - init_qty : 3\n",
      "2020-10-28 16:01:35.310 | DEBUG    | __main__:<module>:12 - extended_quant : 1\n",
      "2020-10-28 16:01:35.313 | DEBUG    | __main__:<module>:13 - stepmultiseries : [2, 4, 7, 12, 15, 20, 30]\n",
      "2020-10-28 16:01:35.314 | DEBUG    | __main__:<module>:14 - basepricediffmulti : 0.01\n",
      "2020-10-28 16:01:35.316 | DEBUG    | __main__:<module>:15 - symbol_ip : USDINR20NOVFUT\n",
      "2020-10-28 16:01:35.317 | DEBUG    | __main__:<module>:16 - inst_token : 780803\n",
      "2020-10-28 16:01:35.320 | DEBUG    | __main__:<module>:17 - order_type : NRML\n"
     ]
    }
   ],
   "source": [
    "logger.debug(\"Parameters : \")\n",
    "#### NEW VERSION ###########\n",
    "init_qty = 3\n",
    "extended_quant = 1\n",
    "stepmultiseries = [2,4,7,12,15,20,30]\n",
    "basepricediffmulti = 0.0100\n",
    "symbol_ip = 'USDINR20NOVFUT' # USDINR20OCTFUT / GBPINR20OCTFUT / EURINR20OCTFUT / JPYINR20OCTFUT\n",
    "inst_token = 780803          # 690691(USD) / 490755(GBP) / 278019(EUR) / 690435(JPY)\n",
    "order_type = 'NRML'\n",
    "#############################\n",
    "logger.debug(\"init_qty : \"+str(init_qty))\n",
    "logger.debug(\"extended_quant : \"+str(extended_quant))\n",
    "logger.debug(\"stepmultiseries : \"+str(stepmultiseries))\n",
    "logger.debug(\"basepricediffmulti : \"+str(basepricediffmulti))\n",
    "logger.debug(\"symbol_ip : \"+str(symbol_ip))\n",
    "logger.debug(\"inst_token : \"+str(inst_token))\n",
    "logger.debug(\"order_type : \"+str(order_type))"
   ]
  },
  {
   "cell_type": "code",
   "execution_count": 3,
   "metadata": {},
   "outputs": [],
   "source": [
    "######## CHECK QTY #############\n",
    "myquantity = 0\n",
    "def getquant():\n",
    "    logger.debug(\"getquant : \")\n",
    "    global myquantity, order_type, symbol_ip\n",
    "    allpos = kite.positions()['net']\n",
    "    for i in range(len(allpos)):\n",
    "        if(allpos[i]['tradingsymbol']==symbol_ip and allpos[i]['product']== order_type):\n",
    "            myquantity = allpos[i]['quantity']\n",
    "            print('My Quantity : ' + str(allpos[i]['quantity']))\n",
    "    logger.debug(\"My Quantity : \"+str(myquantity))\n",
    "    return myquantity\n",
    "\n",
    "# getquant()"
   ]
  },
  {
   "cell_type": "code",
   "execution_count": 4,
   "metadata": {},
   "outputs": [],
   "source": [
    "def get_completed_orders():\n",
    "    global order_type\n",
    "    logger.debug(\"get_completed_orders : \")\n",
    "    myorders = kite.orders()\n",
    "    completed_orders = []\n",
    "    for i in range(len(myorders)):\n",
    "        if(myorders[i]['status']=='COMPLETE' and\n",
    "           myorders[i]['tradingsymbol']==symbol_ip and\n",
    "           myorders[i]['product']==order_type):\n",
    "            completed_orders.append(myorders[i])\n",
    "    if(len(completed_orders)>1) :\n",
    "        completed_orders[-1]['average_price']\n",
    "        logger.debug(\"last_completed_orders : \"+str(completed_orders[-1]))\n",
    "        logger.debug(\"last_completed_orders_price : \"+str(completed_orders[-1]['average_price']))\n",
    "    else:\n",
    "        logger.debug(\"completed_orders : \"+str(completed_orders))\n",
    "    \n",
    "    return completed_orders\n",
    "# get_completed_orders()"
   ]
  },
  {
   "cell_type": "code",
   "execution_count": 5,
   "metadata": {},
   "outputs": [],
   "source": [
    "#!!!!!!!!!!!!!!!!!!!!!!!!!!!!!!!!!!!!!!!!!!!!!\n",
    "########## cancel orders ####################\n",
    "#!!!!!!!!!!!!!!!!!!!!!!!!!!!!!!!!!!!!!!!!!!!!!\n",
    "def cancel_all_pending_orders():\n",
    "    global order_type\n",
    "    logger.debug(\"cancel_all_pending_orders : \")\n",
    "    myorder = kite.orders()\n",
    "    pending_orders = []\n",
    "    for i  in range(len(myorder)):\n",
    "        if(myorder[i]['status']=='OPEN' and \n",
    "           myorder[i]['tradingsymbol']==symbol_ip and \n",
    "           myorder[i]['product']==order_type):\n",
    "            pending_orders.append(myorder[i])\n",
    "            kite.cancel_order(myorder[i]['variety'], myorder[i]['order_id'], parent_order_id=None)\n",
    "            logger.debug(\"cancel_order @ \"+'order_id : '+str(myorder[i]['order_id'])+' variety : '+str(myorder[i]['variety']))\n",
    "# cancel_all_pending_orders()"
   ]
  },
  {
   "cell_type": "code",
   "execution_count": 6,
   "metadata": {},
   "outputs": [],
   "source": [
    "############# get pending orders ################\n",
    "def get_pending_orders():\n",
    "    logger.debug(\"get_pending_orders : \")\n",
    "    global pending_orders, order_type\n",
    "    my_orders=kite.orders()\n",
    "    pending_orders=[]\n",
    "    for i in range(len(my_orders)):\n",
    "        if(my_orders[i]['tradingsymbol']==symbol_ip and \n",
    "           my_orders[i]['status']=='OPEN' and \n",
    "           my_orders[i]['product']==order_type):\n",
    "            pending_orders.append(my_orders[i])\n",
    "    logger.debug(\"pending_orders : \"+str(pending_orders))\n",
    "    return pending_orders\n",
    "# get_pending_orders()"
   ]
  },
  {
   "cell_type": "code",
   "execution_count": 7,
   "metadata": {},
   "outputs": [],
   "source": [
    "############# calc rsi ################\n",
    "import datetime\n",
    "import ta\n",
    "def calc_rsi():\n",
    "    global RSI,inst_token\n",
    "    old_lst=[]\n",
    "    interval='minute'\n",
    "    todaydt=datetime.date.today()\n",
    "    hud_ago=todaydt-datetime.timedelta(days=6)\n",
    "    to_date=datetime.date.isoformat(todaydt)\n",
    "    from_date=datetime.date.isoformat(hud_ago)\n",
    "    for i2 in range(1):\n",
    "        new_lst = kite.historical_data(inst_token, from_date, to_date, interval,continuous=False)\n",
    "        old_lst = new_lst + old_lst\n",
    "        todaydt=todaydt-datetime.timedelta(days=7)\n",
    "        hud_ago=hud_ago-datetime.timedelta(days=7)\n",
    "        to_date=datetime.date.isoformat(todaydt)\n",
    "        from_date=datetime.date.isoformat(hud_ago)\n",
    "#         print(len(old_lst))\n",
    "    mydf = pd.DataFrame(old_lst) \n",
    "    indicator_rsi = ta.momentum.rsi(close = mydf[\"close\"], n=14, fillna=True)\n",
    "    current_rsi = round(indicator_rsi[-1:].to_numpy()[0],4)\n",
    "    RSI = current_rsi\n",
    "    logger.debug(\"current_rsi : \"+str(current_rsi))\n",
    "    print('Current RSI : '+str(current_rsi))\n",
    "    return current_rsi\n",
    "\n",
    "    # indicator_sma = ta.trend.SMAIndicator(close = mydf[\"close\"], n=14, fillna=True)\n",
    "    # current_sma = round(indicator_sma.sma_indicator()[-1:].to_numpy()[0],4)\n",
    "    # print('Current SMA : '+str(current_sma))\n",
    "\n",
    "# calc_rsi()"
   ]
  },
  {
   "cell_type": "code",
   "execution_count": 8,
   "metadata": {},
   "outputs": [
    {
     "name": "stderr",
     "output_type": "stream",
     "text": [
      "2020-10-28 16:01:35.398 | DEBUG    | __main__:getquant:4 - getquant : \n",
      "2020-10-28 16:01:42.761 | DEBUG    | __main__:getquant:11 - My Quantity : 0\n"
     ]
    },
    {
     "name": "stdout",
     "output_type": "stream",
     "text": [
      "My Quantity : 0\n"
     ]
    }
   ],
   "source": [
    "################ update status #################\n",
    "baseprice = 123.0\n",
    "getquant()\n",
    "def update_status():\n",
    "    global init_qty,extended_quant,stepmultiseries,basepricediffmulti,baseprice,RSI\n",
    "    myquantity = getquant()\n",
    "    if(myquantity==0):\n",
    "        if(RSI >60):\n",
    "            logger.debug(\"RSI > 60 : \"+str(RSI))\n",
    "            is_done = placeneworder(-init_qty,0)\n",
    "            logger.debug(\"Order Placed @ \"+str(-init_qty)+' market and Succeeded : '+str(is_done))\n",
    "            if(is_done):\n",
    "                completed_orders = get_completed_orders()\n",
    "                baseprice = round(0.0025 * round(completed_orders[-1]['average_price'] /0.0025),4)\n",
    "                calcsteps(init_qty,baseprice)\n",
    "                ckqnt(round(p0,4),p0q)\n",
    "                logger.debug(\"Order Placed @ \"+str(p0q)+' Limit : '+str(p0)+\n",
    "                             ' and Succeeded : '+str(is_done))\n",
    "\n",
    "        if(RSI <40):\n",
    "            logger.debug(\"RSI < 40 : \"+str(RSI))\n",
    "            is_done = placeneworder(init_qty,0)\n",
    "            if(is_done):\n",
    "                completed_orders = get_completed_orders()\n",
    "                baseprice =  round(0.0025 * round(completed_orders[-1]['average_price'] /0.0025),4)\n",
    "                calcsteps(init_qty,baseprice)\n",
    "                ckqnt(round(p0,4),p0q)\n",
    "                logger.debug(\"Order Placed @ \"+str(p0q)+' Limit : '+str(p0)+ \n",
    "                             ' and Succeeded : '+str(is_done))\n",
    "\n",
    "    else:\n",
    "        current_point = 0\n",
    "        for i in range(1,len(stepmultiseries)+2):\n",
    "            if(globals()['p'+str(i)+'q']==myquantity):\n",
    "                current_point=i\n",
    "                \n",
    "        logger.debug('Current Point : '+str(current_point))\n",
    "        prev_point = 0\n",
    "        next_point = 0\n",
    "        \n",
    "        if(current_point!=(len(stepmultiseries)+1)):\n",
    "            next_point = current_point + 1\n",
    "            logger.debug('Next Point : '+str(next_point))\n",
    "            pending_orders = get_pending_orders()\n",
    "            for i in range(len(pending_orders)):\n",
    "                if(pending_orders[i]['tradingsymbol']==symbol_ip \n",
    "                   and pending_orders[i]['status']=='OPEN' \n",
    "                   and pending_orders[i]['price']== globals()['p'+str(next_point)]\n",
    "                   and pending_orders[i]['quantity']== globals()['p'+str(next_point)+'q']):\n",
    "                    contain_next_point = True\n",
    "                else:\n",
    "                    ckqnt(globals()['p'+str(next_point)],globals()['p'+str(next_point)+'q'])\n",
    "                    logger.debug('ckqnt @ '+str(globals()['p'+str(next_point)])\n",
    "                                 +' : '+str(globals()['p'+str(next_point)+'q']))\n",
    "\n",
    "        contain_next_point = False\n",
    "\n",
    "# update_status()"
   ]
  },
  {
   "cell_type": "code",
   "execution_count": 9,
   "metadata": {},
   "outputs": [
    {
     "name": "stdout",
     "output_type": "stream",
     "text": [
      "Quantity Series : [2, 4, 7, 12, 15, 20, 30]\n",
      "\n"
     ]
    }
   ],
   "source": [
    "############## CALC STEPS ###############\n",
    "def calcsteps(currentqty, base_price):\n",
    "    logger.debug('calc_steps : ('+str(currentqty)+','+str(base_price)+')'+' : ')\n",
    "    '''calcsteps(currentqty, base_price)'''\n",
    "    global p0,basepricediffmulti,p0q,extended_quant,p1,p1q\n",
    "    if(currentqty <0):\n",
    "        p0 = round(base_price - basepricediffmulti,4)\n",
    "        p0q = 0\n",
    "        print('p0q : '+str(p0q))\n",
    "        print('p0 : '+str(p0))\n",
    "        logger.debug('p0q : '+str(p0q))\n",
    "        logger.debug('p0 : '+str(p0))\n",
    "        print()\n",
    "        print('base quant : '+str(currentqty))\n",
    "        print('base_price : '+str(base_price))\n",
    "        logger.debug('base quant : '+str(currentqty))\n",
    "        logger.debug('base_price : '+str(base_price))\n",
    "        print()\n",
    "        p1q = currentqty\n",
    "        p1 = round(base_price,4)\n",
    "        print('p1q : '+str(p1q))\n",
    "        logger.debug('p1q : '+str(p1q))\n",
    "        print('p1 : '+str(p1))\n",
    "        logger.debug('p1 : '+str(p1))\n",
    "        for i  in range(1,len(stepmultiseries)+1):\n",
    "            globals()['p'+str(i+1)+'q']=currentqty-((i)*extended_quant)\n",
    "            print('p'+str(i+1)+'q : '+str(globals()['p'+str(i+1)+'q']))\n",
    "            logger.debug('p'+str(i+1)+'q : '+str(globals()['p'+str(i+1)+'q']))\n",
    "            globals()['p'+str(i+1)]= round(base_price+(basepricediffmulti*stepmultiseries[i]),4)\n",
    "            print('p'+str(i+1)+' : '+str(globals()['p'+str(i+1)]))\n",
    "            logger.debug('p'+str(i+1)+' : '+str(globals()['p'+str(i+1)]))\n",
    "    if(currentqty >0):\n",
    "        p0 = base_price + basepricediffmulti\n",
    "        p0q = 0\n",
    "        print('p0q : '+str(p0q))\n",
    "        print('p0 : '+str(p0))\n",
    "        logger.debug('p0q : '+str(p0q))\n",
    "        logger.debug('p0 : '+str(p0))\n",
    "        print()\n",
    "        print('base quant : '+str(currentqty))\n",
    "        print('base_price : '+str(base_price))\n",
    "        logger.debug('base quant : '+str(currentqty))\n",
    "        logger.debug('base_price : '+str(base_price))\n",
    "        print()\n",
    "        p1q = currentqty\n",
    "        p1 = round(base_price,4)\n",
    "        print('p1q : '+str(p1q))\n",
    "        logger.debug('p1q : '+str(p1q))\n",
    "        print('p1 : '+str(p1))\n",
    "        logger.debug('p1 : '+str(p1))\n",
    "        \n",
    "        for i  in range(1,len(stepmultiseries)+1):\n",
    "            globals()['p'+str(i+1)+'q']=currentqty+((i)*extended_quant)\n",
    "            print('p'+str(i+1)+'q : '+str(globals()['p'+str(i+1)+'q']))\n",
    "            logger.debug('p'+str(i+1)+'q : '+str(globals()['p'+str(i+1)+'q']))\n",
    "            globals()['p'+str(i+1)]= round(base_price-(basepricediffmulti*stepmultiseries[i]),4)\n",
    "            print('p'+str(i+1)+' : '+str(globals()['p'+str(i+1)]))\n",
    "            logger.debug('p'+str(i+1)+' : '+str(globals()['p'+str(i+1)]))\n",
    "\n",
    "print('Quantity Series : '+str(stepmultiseries))\n",
    "print()\n",
    "# calcsteps(init_qty,74.00)"
   ]
  },
  {
   "cell_type": "code",
   "execution_count": 10,
   "metadata": {},
   "outputs": [],
   "source": [
    "########### place order ###########\n",
    "stopbuy = False\n",
    "stopsell = False\n",
    "\n",
    "def placeneworder(quantdiff,price_ip):\n",
    "    '''placeneworder(quantdiff,price_ip)'''\n",
    "    logger.debug('placeneworder @ ('+str(quantdiff)+','+str(price_ip)+')')\n",
    "    global stopbuy,stopsell,order_type,symbol_ip\n",
    "    if(quantdiff>0 and stopbuy == False):\n",
    "        try:\n",
    "            order_id= kite.place_order(tradingsymbol=symbol_ip,\n",
    "                        exchange=kite.EXCHANGE_CDS,\n",
    "                        transaction_type=kite.TRANSACTION_TYPE_BUY,\n",
    "                        quantity=abs(quantdiff),\n",
    "                        price=price_ip,\n",
    "                        order_type=kite.ORDER_TYPE_MARKET if price_ip==0 else kite.ORDER_TYPE_LIMIT,\n",
    "                        variety = kite.VARIETY_REGULAR,\n",
    "                        product=kite.PRODUCT_MIS if order_type=='MIS' else kite.PRODUCT_NRML)\n",
    "            stopsell = False\n",
    "            logger.debug('Order Successfully Placed @ '+str(order_type)+' '+str(quantdiff)+' '+str(price_ip))\n",
    "            getquant()\n",
    "            return True\n",
    "        except Exception as e:\n",
    "            stopbuy = False\n",
    "            print(e)\n",
    "            logger.debug('Order Rejected For @ '+str(order_type)+' '+str(quantdiff)+' '+str(price_ip))\n",
    "            getquant()\n",
    "            return False\n",
    "    if(quantdiff<0 and stopsell == False):\n",
    "        try:\n",
    "            order_id= kite.place_order(tradingsymbol=symbol_ip,\n",
    "                        exchange=kite.EXCHANGE_CDS,\n",
    "                        transaction_type=kite.TRANSACTION_TYPE_SELL,\n",
    "                        quantity=abs(quantdiff),\n",
    "                        price=price_ip,\n",
    "                        order_type=kite.ORDER_TYPE_MARKET if price_ip==0 else kite.ORDER_TYPE_LIMIT,\n",
    "                        variety = kite.VARIETY_REGULAR,\n",
    "                        product=kite.PRODUCT_MIS if order_type=='MIS' else kite.PRODUCT_NRML)\n",
    "            stopbuy = False\n",
    "            logger.debug('Order Successfully Placed @ '+str(order_type)+' '+str(quantdiff)+' '+str(price_ip))\n",
    "            getquant()\n",
    "            return True\n",
    "        except Exception as e:\n",
    "            stopsell = True\n",
    "            print(e)\n",
    "            logger.debug('Order Rejected For @ '+str(order_type)+' '+str(quantdiff)+' '+str(price_ip))\n",
    "            getquant()\n",
    "            return False\n",
    "\n",
    "def ckqnt (orderprice,orderquant):\n",
    "    logger.debug('ckqnt @ ('+str(orderprice)+','+str(orderquant)+') in ckqnt')\n",
    "    global myquantity\n",
    "    quantdiff = orderquant - myquantity\n",
    "    logger.debug(str(quantdiff)+' = '+str(orderquant)+'-'+str(myquantity)+ ' in ckqnt')\n",
    "    placeneworder(quantdiff,orderprice)\n",
    "    return myquantity\n",
    "\n",
    "def calc_and_update():\n",
    "    logger.debug('calc_and_update : '+ ' in calc_and_update')\n",
    "    try:\n",
    "        calc_rsi()\n",
    "    except:\n",
    "        print('calc_rsi failed'+ ' in calc_and_update')\n",
    "    update_status()"
   ]
  },
  {
   "cell_type": "code",
   "execution_count": 11,
   "metadata": {
    "scrolled": true
   },
   "outputs": [
    {
     "name": "stdout",
     "output_type": "stream",
     "text": [
      "=====================================\n",
      "LTP : 74.0425\n",
      "=====================================\n",
      "LTP : 74.0425\n",
      "=====================================\n",
      "LTP : 74.0425\n",
      "=====================================\n",
      "LTP : 74.0425\n",
      "=====================================\n",
      "LTP : 74.04\n",
      "=====================================\n",
      "LTP : 74.04\n",
      "=====================================\n",
      "LTP : 74.04\n",
      "=====================================\n",
      "LTP : 74.0425\n",
      "=====================================\n",
      "LTP : 74.0425\n",
      "=====================================\n",
      "LTP : 74.0425\n"
     ]
    },
    {
     "name": "stderr",
     "output_type": "stream",
     "text": [
      "2020-10-28 16:01:50.119 | DEBUG    | __main__:calc_and_update:59 - calc_and_update :  in calc_and_update\n"
     ]
    },
    {
     "name": "stdout",
     "output_type": "stream",
     "text": [
      "in the thread : \n",
      "=====================================\n",
      "LTP : 74.0425\n"
     ]
    },
    {
     "name": "stderr",
     "output_type": "stream",
     "text": [
      "2020-10-28 16:01:50.766 | DEBUG    | __main__:calc_and_update:59 - calc_and_update :  in calc_and_update\n"
     ]
    },
    {
     "name": "stdout",
     "output_type": "stream",
     "text": [
      "in the thread : \n",
      "=====================================\n",
      "LTP : 74.0425\n",
      "=====================================\n",
      "LTP : 74.0425\n",
      "=====================================\n",
      "LTP : 74.0425\n",
      "=====================================\n",
      "LTP : 74.0425\n",
      "=====================================\n",
      "LTP : 74.0425\n",
      "=====================================\n",
      "LTP : 74.04\n",
      "=====================================\n",
      "LTP : 74.0425\n",
      "=====================================\n",
      "LTP : 74.0425\n",
      "=====================================\n",
      "LTP : 74.0425\n"
     ]
    },
    {
     "name": "stderr",
     "output_type": "stream",
     "text": [
      "2020-10-28 16:01:57.975 | DEBUG    | __main__:calc_rsi:24 - current_rsi : 31.9009\n",
      "2020-10-28 16:01:57.978 | DEBUG    | __main__:getquant:4 - getquant : \n"
     ]
    },
    {
     "name": "stdout",
     "output_type": "stream",
     "text": [
      "=====================================\n",
      "LTP : 74.0425\n",
      "Current RSI : 31.9009\n"
     ]
    },
    {
     "name": "stderr",
     "output_type": "stream",
     "text": [
      "2020-10-28 16:01:58.611 | DEBUG    | __main__:calc_rsi:24 - current_rsi : 31.9009\n",
      "2020-10-28 16:01:58.613 | DEBUG    | __main__:getquant:4 - getquant : \n"
     ]
    },
    {
     "name": "stdout",
     "output_type": "stream",
     "text": [
      "=====================================\n",
      "LTP : 74.0425\n",
      "Current RSI : 31.9009\n",
      "=====================================\n",
      "LTP : 74.0425\n",
      "=====================================\n",
      "LTP : 74.0425\n",
      "=====================================\n",
      "LTP : 74.045\n",
      "=====================================\n",
      "LTP : 74.045\n",
      "=====================================\n",
      "LTP : 74.0475\n",
      "=====================================\n",
      "LTP : 74.045\n",
      "=====================================\n",
      "LTP : 74.045\n",
      "=====================================\n",
      "LTP : 74.045\n",
      "=====================================\n",
      "LTP : 74.045\n"
     ]
    },
    {
     "name": "stderr",
     "output_type": "stream",
     "text": [
      "2020-10-28 16:02:05.337 | DEBUG    | __main__:getquant:11 - My Quantity : 0\n",
      "2020-10-28 16:02:05.339 | DEBUG    | __main__:update_status:21 - RSI < 40 : 31.9009\n",
      "2020-10-28 16:02:05.341 | DEBUG    | __main__:placeneworder:7 - placeneworder @ (3,0)\n"
     ]
    },
    {
     "name": "stdout",
     "output_type": "stream",
     "text": [
      "My Quantity : 0\n"
     ]
    },
    {
     "name": "stderr",
     "output_type": "stream",
     "text": [
      "2020-10-28 16:02:05.986 | DEBUG    | __main__:getquant:11 - My Quantity : 0\n",
      "2020-10-28 16:02:05.987 | DEBUG    | __main__:update_status:21 - RSI < 40 : 31.9009\n",
      "2020-10-28 16:02:05.988 | DEBUG    | __main__:placeneworder:7 - placeneworder @ (3,0)\n"
     ]
    },
    {
     "name": "stdout",
     "output_type": "stream",
     "text": [
      "My Quantity : 0\n",
      "=====================================\n",
      "LTP : 74.045\n",
      "=====================================\n",
      "LTP : 74.045\n",
      "=====================================\n",
      "LTP : 74.045\n",
      "=====================================\n",
      "LTP : 74.045\n",
      "=====================================\n",
      "LTP : 74.045\n",
      "=====================================\n",
      "LTP : 74.045\n"
     ]
    },
    {
     "name": "stderr",
     "output_type": "stream",
     "text": [
      "2020-10-28 16:02:10.517 | DEBUG    | __main__:calc_and_update:59 - calc_and_update :  in calc_and_update\n"
     ]
    },
    {
     "name": "stdout",
     "output_type": "stream",
     "text": [
      "in the thread : \n",
      "=====================================\n",
      "LTP : 74.045\n",
      "=====================================\n",
      "LTP : 74.045\n",
      "=====================================\n",
      "LTP : 74.045\n"
     ]
    },
    {
     "name": "stderr",
     "output_type": "stream",
     "text": [
      "2020-10-28 16:02:12.662 | DEBUG    | __main__:on_order_update:43 - on_order_update : \n",
      "2020-10-28 16:02:12.664 | DEBUG    | __main__:on_order_update:43 - on_order_update : \n",
      "2020-10-28 16:02:12.696 | DEBUG    | __main__:placeneworder:20 - Order Successfully Placed @ NRML 3 0\n",
      "2020-10-28 16:02:12.697 | DEBUG    | __main__:getquant:4 - getquant : \n"
     ]
    },
    {
     "name": "stdout",
     "output_type": "stream",
     "text": [
      "order update:  {'account_id': 'FC5917', 'unfilled_quantity': 0, 'checksum': '', 'placed_by': 'FC5917', 'order_id': '201028004302600', 'exchange_order_id': '1000000002073170', 'parent_order_id': None, 'status': 'OPEN', 'status_message': None, 'status_message_raw': None, 'order_timestamp': '2020-10-28 16:02:12', 'exchange_update_timestamp': '2020-10-28 16:02:12', 'exchange_timestamp': '2020-10-28 16:02:12', 'variety': 'regular', 'exchange': 'CDS', 'tradingsymbol': 'USDINR20NOVFUT', 'instrument_token': 780803, 'order_type': 'MARKET', 'transaction_type': 'BUY', 'validity': 'DAY', 'product': 'NRML', 'quantity': 3, 'disclosed_quantity': 0, 'price': 0, 'trigger_price': 0, 'average_price': 0, 'filled_quantity': 0, 'pending_quantity': 3, 'cancelled_quantity': 0, 'market_protection': 0, 'meta': {}, 'tag': None, 'guid': '18679XBRTf6KClJwmU'}\n",
      "order update:  {'account_id': 'FC5917', 'unfilled_quantity': 0, 'checksum': '', 'placed_by': 'FC5917', 'order_id': '201028004302600', 'exchange_order_id': '1000000002073170', 'parent_order_id': None, 'status': 'COMPLETE', 'status_message': None, 'status_message_raw': None, 'order_timestamp': '2020-10-28 16:02:12', 'exchange_update_timestamp': '2020-10-28 16:02:12', 'exchange_timestamp': '2020-10-28 16:02:12', 'variety': 'regular', 'exchange': 'CDS', 'tradingsymbol': 'USDINR20NOVFUT', 'instrument_token': 780803, 'order_type': 'MARKET', 'transaction_type': 'BUY', 'validity': 'DAY', 'product': 'NRML', 'quantity': 3, 'disclosed_quantity': 0, 'price': 0, 'trigger_price': 0, 'average_price': 74.045, 'filled_quantity': 3, 'pending_quantity': 0, 'cancelled_quantity': 0, 'market_protection': 0, 'meta': {}, 'tag': None, 'guid': '18679XBRTf6KClJwmU'}\n",
      "=====================================\n",
      "LTP : 74.045\n"
     ]
    },
    {
     "name": "stderr",
     "output_type": "stream",
     "text": [
      "2020-10-28 16:02:13.356 | DEBUG    | __main__:on_order_update:43 - on_order_update : \n",
      "2020-10-28 16:02:13.359 | DEBUG    | __main__:on_order_update:43 - on_order_update : \n",
      "2020-10-28 16:02:13.407 | DEBUG    | __main__:placeneworder:20 - Order Successfully Placed @ NRML 3 0\n",
      "2020-10-28 16:02:13.408 | DEBUG    | __main__:getquant:4 - getquant : \n"
     ]
    },
    {
     "name": "stdout",
     "output_type": "stream",
     "text": [
      "order update:  {'account_id': 'FC5917', 'unfilled_quantity': 0, 'checksum': '', 'placed_by': 'FC5917', 'order_id': '201028004302604', 'exchange_order_id': '1000000002073291', 'parent_order_id': None, 'status': 'COMPLETE', 'status_message': None, 'status_message_raw': None, 'order_timestamp': '2020-10-28 16:02:13', 'exchange_update_timestamp': '2020-10-28 16:02:13', 'exchange_timestamp': '2020-10-28 16:02:13', 'variety': 'regular', 'exchange': 'CDS', 'tradingsymbol': 'USDINR20NOVFUT', 'instrument_token': 780803, 'order_type': 'MARKET', 'transaction_type': 'BUY', 'validity': 'DAY', 'product': 'NRML', 'quantity': 3, 'disclosed_quantity': 0, 'price': 0, 'trigger_price': 0, 'average_price': 74.045, 'filled_quantity': 3, 'pending_quantity': 0, 'cancelled_quantity': 0, 'market_protection': 0, 'meta': {}, 'tag': None, 'guid': '18679XuntLibOWVsB5'}\n",
      "order update:  {'account_id': 'FC5917', 'unfilled_quantity': 0, 'checksum': '', 'placed_by': 'FC5917', 'order_id': '201028004302604', 'exchange_order_id': '1000000002073291', 'parent_order_id': None, 'status': 'OPEN', 'status_message': None, 'status_message_raw': None, 'order_timestamp': '2020-10-28 16:02:13', 'exchange_update_timestamp': '2020-10-28 16:02:13', 'exchange_timestamp': '2020-10-28 16:02:13', 'variety': 'regular', 'exchange': 'CDS', 'tradingsymbol': 'USDINR20NOVFUT', 'instrument_token': 780803, 'order_type': 'MARKET', 'transaction_type': 'BUY', 'validity': 'DAY', 'product': 'NRML', 'quantity': 3, 'disclosed_quantity': 0, 'price': 0, 'trigger_price': 0, 'average_price': 0, 'filled_quantity': 0, 'pending_quantity': 3, 'cancelled_quantity': 0, 'market_protection': 0, 'meta': {}, 'tag': None, 'guid': '18679XuntLibOWVsB5'}\n",
      "=====================================\n",
      "LTP : 74.045\n",
      "=====================================\n",
      "LTP : 74.045\n",
      "=====================================\n",
      "LTP : 74.045\n",
      "=====================================\n",
      "LTP : 74.045\n",
      "=====================================\n",
      "LTP : 74.045\n",
      "=====================================\n",
      "LTP : 74.045\n"
     ]
    },
    {
     "name": "stderr",
     "output_type": "stream",
     "text": [
      "2020-10-28 16:02:18.333 | DEBUG    | __main__:calc_rsi:24 - current_rsi : 34.8649\n",
      "2020-10-28 16:02:18.336 | DEBUG    | __main__:getquant:4 - getquant : \n"
     ]
    },
    {
     "name": "stdout",
     "output_type": "stream",
     "text": [
      "Current RSI : 34.8649\n",
      "=====================================\n",
      "LTP : 74.0425\n",
      "=====================================\n",
      "LTP : 74.0425\n"
     ]
    },
    {
     "name": "stderr",
     "output_type": "stream",
     "text": [
      "2020-10-28 16:02:20.150 | DEBUG    | __main__:getquant:11 - My Quantity : 6\n",
      "2020-10-28 16:02:20.152 | DEBUG    | __main__:get_completed_orders:3 - get_completed_orders : \n"
     ]
    },
    {
     "name": "stdout",
     "output_type": "stream",
     "text": [
      "My Quantity : 6\n"
     ]
    },
    {
     "name": "stderr",
     "output_type": "stream",
     "text": [
      "2020-10-28 16:02:20.737 | DEBUG    | __main__:calc_and_update:59 - calc_and_update :  in calc_and_update\n",
      "2020-10-28 16:02:20.818 | DEBUG    | __main__:getquant:11 - My Quantity : 6\n",
      "2020-10-28 16:02:20.819 | DEBUG    | __main__:get_completed_orders:3 - get_completed_orders : \n"
     ]
    },
    {
     "name": "stdout",
     "output_type": "stream",
     "text": [
      "in the thread : \n",
      "=====================================\n",
      "LTP : 74.0425\n",
      "My Quantity : 6\n",
      "=====================================\n",
      "LTP : 74.0425\n",
      "=====================================\n",
      "LTP : 74.0425\n",
      "=====================================\n",
      "LTP : 74.0425\n",
      "=====================================\n",
      "LTP : 74.0425\n",
      "=====================================\n",
      "LTP : 74.0425\n",
      "=====================================\n",
      "LTP : 74.0425\n"
     ]
    },
    {
     "name": "stderr",
     "output_type": "stream",
     "text": [
      "2020-10-28 16:02:25.706 | DEBUG    | __main__:getquant:11 - My Quantity : 6\n",
      "Exception in thread Thread-6:\n",
      "Traceback (most recent call last):\n",
      "  File \"/usr/lib/python3.8/threading.py\", line 932, in _bootstrap_inner\n",
      "    self.run()\n",
      "  File \"/usr/lib/python3.8/threading.py\", line 870, in run\n",
      "    self._target(*self._args, **self._kwargs)\n",
      "  File \"<ipython-input-10-afc8aac4dee2>\", line 64, in calc_and_update\n",
      "  File \"<ipython-input-8-d58aeb58716a>\", line 34, in update_status\n",
      "KeyError: 'p1q'\n"
     ]
    },
    {
     "name": "stdout",
     "output_type": "stream",
     "text": [
      "My Quantity : 6\n",
      "=====================================\n",
      "LTP : 74.04\n",
      "=====================================\n",
      "LTP : 74.04\n"
     ]
    },
    {
     "name": "stderr",
     "output_type": "stream",
     "text": [
      "2020-10-28 16:02:27.589 | DEBUG    | __main__:get_completed_orders:13 - last_completed_orders : {'placed_by': 'FC5917', 'order_id': '201028004302604', 'exchange_order_id': '1000000002073291', 'parent_order_id': None, 'status': 'COMPLETE', 'status_message': None, 'status_message_raw': None, 'order_timestamp': datetime.datetime(2020, 10, 28, 16, 2, 13), 'exchange_update_timestamp': '2020-10-28 16:02:13', 'exchange_timestamp': datetime.datetime(2020, 10, 28, 16, 2, 13), 'variety': 'regular', 'exchange': 'CDS', 'tradingsymbol': 'USDINR20NOVFUT', 'instrument_token': 780803, 'order_type': 'MARKET', 'transaction_type': 'BUY', 'validity': 'DAY', 'product': 'NRML', 'quantity': 3, 'disclosed_quantity': 0, 'price': 0, 'trigger_price': 0, 'average_price': 74.045, 'filled_quantity': 3, 'pending_quantity': 0, 'cancelled_quantity': 0, 'market_protection': 0, 'meta': {}, 'tag': None, 'guid': '18679XuntLibOWVsB5'}\n",
      "2020-10-28 16:02:27.590 | DEBUG    | __main__:get_completed_orders:14 - last_completed_orders_price : 74.045\n",
      "2020-10-28 16:02:27.591 | DEBUG    | __main__:calcsteps:3 - calc_steps : (3,74.045) : \n",
      "2020-10-28 16:02:27.592 | DEBUG    | __main__:calcsteps:33 - p0q : 0\n",
      "2020-10-28 16:02:27.594 | DEBUG    | __main__:calcsteps:34 - p0 : 74.055\n",
      "2020-10-28 16:02:27.597 | DEBUG    | __main__:calcsteps:38 - base quant : 3\n",
      "2020-10-28 16:02:27.598 | DEBUG    | __main__:calcsteps:39 - base_price : 74.045\n",
      "2020-10-28 16:02:27.600 | DEBUG    | __main__:calcsteps:46 - p2q : 5\n",
      "2020-10-28 16:02:27.602 | DEBUG    | __main__:calcsteps:49 - p2 : 74.005\n",
      "2020-10-28 16:02:27.604 | DEBUG    | __main__:calcsteps:46 - p3q : 6\n",
      "2020-10-28 16:02:27.606 | DEBUG    | __main__:calcsteps:49 - p3 : 73.975\n",
      "2020-10-28 16:02:27.607 | DEBUG    | __main__:calcsteps:46 - p4q : 7\n",
      "2020-10-28 16:02:27.608 | DEBUG    | __main__:calcsteps:49 - p4 : 73.925\n",
      "2020-10-28 16:02:27.610 | DEBUG    | __main__:calcsteps:46 - p5q : 8\n",
      "2020-10-28 16:02:27.612 | DEBUG    | __main__:calcsteps:49 - p5 : 73.895\n",
      "2020-10-28 16:02:27.614 | DEBUG    | __main__:calcsteps:46 - p6q : 9\n",
      "2020-10-28 16:02:27.615 | DEBUG    | __main__:calcsteps:49 - p6 : 73.845\n",
      "2020-10-28 16:02:27.616 | DEBUG    | __main__:calcsteps:46 - p7q : 10\n",
      "2020-10-28 16:02:27.618 | DEBUG    | __main__:calcsteps:49 - p7 : 73.745\n",
      "2020-10-28 16:02:27.620 | DEBUG    | __main__:calcsteps:46 - p8q : 11\n",
      "Exception in thread Thread-4:\n",
      "Traceback (most recent call last):\n",
      "  File \"/usr/lib/python3.8/threading.py\", line 932, in _bootstrap_inner\n",
      "    self.run()\n",
      "  File \"/usr/lib/python3.8/threading.py\", line 870, in run\n",
      "    self._target(*self._args, **self._kwargs)\n",
      "  File \"<ipython-input-10-afc8aac4dee2>\", line 64, in calc_and_update\n",
      "  File \"<ipython-input-8-d58aeb58716a>\", line 26, in update_status\n",
      "  File \"<ipython-input-9-acb5961e36e0>\", line 47, in calcsteps\n",
      "IndexError: list index out of range\n"
     ]
    },
    {
     "name": "stdout",
     "output_type": "stream",
     "text": [
      "p0q : 0\n",
      "p0 : 74.055\n",
      "\n",
      "base quant : 3\n",
      "base_price : 74.045\n",
      "\n",
      "p2q : 5\n",
      "p2 : 74.005\n",
      "p3q : 6\n",
      "p3 : 73.975\n",
      "p4q : 7\n",
      "p4 : 73.925\n",
      "p5q : 8\n",
      "p5 : 73.895\n",
      "p6q : 9\n",
      "p6 : 73.845\n",
      "p7q : 10\n",
      "p7 : 73.745\n",
      "p8q : 11\n",
      "=====================================\n",
      "LTP : 74.0425\n"
     ]
    },
    {
     "name": "stderr",
     "output_type": "stream",
     "text": [
      "2020-10-28 16:02:28.339 | DEBUG    | __main__:get_completed_orders:13 - last_completed_orders : {'placed_by': 'FC5917', 'order_id': '201028004302604', 'exchange_order_id': '1000000002073291', 'parent_order_id': None, 'status': 'COMPLETE', 'status_message': None, 'status_message_raw': None, 'order_timestamp': datetime.datetime(2020, 10, 28, 16, 2, 13), 'exchange_update_timestamp': '2020-10-28 16:02:13', 'exchange_timestamp': datetime.datetime(2020, 10, 28, 16, 2, 13), 'variety': 'regular', 'exchange': 'CDS', 'tradingsymbol': 'USDINR20NOVFUT', 'instrument_token': 780803, 'order_type': 'MARKET', 'transaction_type': 'BUY', 'validity': 'DAY', 'product': 'NRML', 'quantity': 3, 'disclosed_quantity': 0, 'price': 0, 'trigger_price': 0, 'average_price': 74.045, 'filled_quantity': 3, 'pending_quantity': 0, 'cancelled_quantity': 0, 'market_protection': 0, 'meta': {}, 'tag': None, 'guid': '18679XuntLibOWVsB5'}\n",
      "2020-10-28 16:02:28.434 | DEBUG    | __main__:get_completed_orders:14 - last_completed_orders_price : 74.045\n",
      "2020-10-28 16:02:28.513 | DEBUG    | __main__:calcsteps:3 - calc_steps : (3,74.045) : \n",
      "2020-10-28 16:02:28.552 | DEBUG    | __main__:calc_rsi:24 - current_rsi : 34.8649\n",
      "2020-10-28 16:02:28.552 | DEBUG    | __main__:calcsteps:33 - p0q : 0\n",
      "2020-10-28 16:02:28.554 | DEBUG    | __main__:getquant:4 - getquant : \n",
      "2020-10-28 16:02:28.556 | DEBUG    | __main__:calcsteps:34 - p0 : 74.055\n",
      "2020-10-28 16:02:28.562 | DEBUG    | __main__:calcsteps:38 - base quant : 3\n",
      "2020-10-28 16:02:28.564 | DEBUG    | __main__:calcsteps:39 - base_price : 74.045\n",
      "2020-10-28 16:02:28.566 | DEBUG    | __main__:calcsteps:46 - p2q : 5\n",
      "2020-10-28 16:02:28.569 | DEBUG    | __main__:calcsteps:49 - p2 : 74.005\n",
      "2020-10-28 16:02:28.572 | DEBUG    | __main__:calcsteps:46 - p3q : 6\n",
      "2020-10-28 16:02:28.573 | DEBUG    | __main__:calcsteps:49 - p3 : 73.975\n",
      "2020-10-28 16:02:28.574 | DEBUG    | __main__:calcsteps:46 - p4q : 7\n",
      "2020-10-28 16:02:28.576 | DEBUG    | __main__:calcsteps:49 - p4 : 73.925\n",
      "2020-10-28 16:02:28.577 | DEBUG    | __main__:calcsteps:46 - p5q : 8\n",
      "2020-10-28 16:02:28.579 | DEBUG    | __main__:calcsteps:49 - p5 : 73.895\n",
      "2020-10-28 16:02:28.580 | DEBUG    | __main__:calcsteps:46 - p6q : 9\n",
      "2020-10-28 16:02:28.582 | DEBUG    | __main__:calcsteps:49 - p6 : 73.845\n",
      "2020-10-28 16:02:28.583 | DEBUG    | __main__:calcsteps:46 - p7q : 10\n",
      "2020-10-28 16:02:28.586 | DEBUG    | __main__:calcsteps:49 - p7 : 73.745\n",
      "2020-10-28 16:02:28.588 | DEBUG    | __main__:calcsteps:46 - p8q : 11\n",
      "Exception in thread Thread-5:\n",
      "Traceback (most recent call last):\n",
      "  File \"/usr/lib/python3.8/threading.py\", line 932, in _bootstrap_inner\n",
      "    self.run()\n",
      "  File \"/usr/lib/python3.8/threading.py\", line 870, in run\n",
      "    self._target(*self._args, **self._kwargs)\n",
      "  File \"<ipython-input-10-afc8aac4dee2>\", line 64, in calc_and_update\n",
      "  File \"<ipython-input-8-d58aeb58716a>\", line 26, in update_status\n",
      "  File \"<ipython-input-9-acb5961e36e0>\", line 47, in calcsteps\n",
      "IndexError: list index out of range\n"
     ]
    },
    {
     "name": "stdout",
     "output_type": "stream",
     "text": [
      "=====================================p0q : 0\n",
      "LTP : 74.0425\n",
      "\n",
      "p0 : 74.055\n",
      "Current RSI : 34.8649\n",
      "\n",
      "base quant : 3\n",
      "base_price : 74.045\n",
      "\n",
      "p2q : 5\n",
      "p2 : 74.005\n",
      "p3q : 6\n",
      "p3 : 73.975\n",
      "p4q : 7\n",
      "p4 : 73.925\n",
      "p5q : 8\n",
      "p5 : 73.895\n",
      "p6q : 9\n",
      "p6 : 73.845\n",
      "p7q : 10\n",
      "p7 : 73.745\n",
      "p8q : 11\n"
     ]
    },
    {
     "name": "stderr",
     "output_type": "stream",
     "text": [
      "2020-10-28 16:02:28.978 | DEBUG    | __main__:getquant:11 - My Quantity : 6\n",
      "Exception in thread Thread-7:\n",
      "Traceback (most recent call last):\n",
      "  File \"/usr/lib/python3.8/threading.py\", line 932, in _bootstrap_inner\n",
      "    self.run()\n",
      "  File \"/usr/lib/python3.8/threading.py\", line 870, in run\n",
      "    self._target(*self._args, **self._kwargs)\n",
      "  File \"<ipython-input-10-afc8aac4dee2>\", line 64, in calc_and_update\n",
      "  File \"<ipython-input-8-d58aeb58716a>\", line 34, in update_status\n",
      "KeyError: 'p1q'\n"
     ]
    },
    {
     "name": "stdout",
     "output_type": "stream",
     "text": [
      "My Quantity : 6\n",
      "=====================================\n",
      "LTP : 74.0425\n",
      "=====================================\n",
      "LTP : 74.0425\n"
     ]
    },
    {
     "name": "stderr",
     "output_type": "stream",
     "text": [
      "2020-10-28 16:02:30.334 | DEBUG    | __main__:calc_and_update:59 - calc_and_update :  in calc_and_update\n"
     ]
    },
    {
     "name": "stdout",
     "output_type": "stream",
     "text": [
      "in the thread : \n",
      "=====================================\n",
      "LTP : 74.0425\n"
     ]
    },
    {
     "name": "stderr",
     "output_type": "stream",
     "text": [
      "2020-10-28 16:02:30.941 | DEBUG    | __main__:calc_and_update:59 - calc_and_update :  in calc_and_update\n"
     ]
    },
    {
     "name": "stdout",
     "output_type": "stream",
     "text": [
      "in the thread : \n",
      "=====================================\n",
      "LTP : 74.0425\n"
     ]
    },
    {
     "name": "stderr",
     "output_type": "stream",
     "text": [
      "2020-10-28 16:02:31.175 | DEBUG    | __main__:calc_rsi:24 - current_rsi : 34.8649\n",
      "2020-10-28 16:02:31.177 | DEBUG    | __main__:getquant:4 - getquant : \n"
     ]
    },
    {
     "name": "stdout",
     "output_type": "stream",
     "text": [
      "Current RSI : 34.8649\n"
     ]
    },
    {
     "name": "stderr",
     "output_type": "stream",
     "text": [
      "2020-10-28 16:02:31.595 | DEBUG    | __main__:getquant:11 - My Quantity : 6\n"
     ]
    },
    {
     "name": "stdout",
     "output_type": "stream",
     "text": [
      "=====================================\n",
      "LTP : 74.0425\n",
      "My Quantity : 6\n"
     ]
    },
    {
     "name": "stderr",
     "output_type": "stream",
     "text": [
      "Exception in thread Thread-8:\n",
      "Traceback (most recent call last):\n",
      "  File \"/usr/lib/python3.8/threading.py\", line 932, in _bootstrap_inner\n",
      "    self.run()\n",
      "  File \"/usr/lib/python3.8/threading.py\", line 870, in run\n",
      "    self._target(*self._args, **self._kwargs)\n",
      "  File \"<ipython-input-10-afc8aac4dee2>\", line 64, in calc_and_update\n",
      "  File \"<ipython-input-8-d58aeb58716a>\", line 34, in update_status\n",
      "KeyError: 'p1q'\n",
      "2020-10-28 16:02:31.901 | DEBUG    | __main__:calc_rsi:24 - current_rsi : 34.8649\n",
      "2020-10-28 16:02:31.903 | DEBUG    | __main__:getquant:4 - getquant : \n"
     ]
    },
    {
     "name": "stdout",
     "output_type": "stream",
     "text": [
      "Current RSI : 34.8649\n"
     ]
    },
    {
     "name": "stderr",
     "output_type": "stream",
     "text": [
      "2020-10-28 16:02:32.235 | DEBUG    | __main__:getquant:11 - My Quantity : 6\n",
      "Exception in thread Thread-9:\n",
      "Traceback (most recent call last):\n",
      "  File \"/usr/lib/python3.8/threading.py\", line 932, in _bootstrap_inner\n",
      "    self.run()\n",
      "  File \"/usr/lib/python3.8/threading.py\", line 870, in run\n",
      "    self._target(*self._args, **self._kwargs)\n",
      "  File \"<ipython-input-10-afc8aac4dee2>\", line 64, in calc_and_update\n",
      "  File \"<ipython-input-8-d58aeb58716a>\", line 34, in update_status\n",
      "KeyError: 'p1q'\n"
     ]
    },
    {
     "name": "stdout",
     "output_type": "stream",
     "text": [
      "=====================================\n",
      "LTP : 74.0425\n",
      "My Quantity : 6\n",
      "=====================================\n",
      "LTP : 74.0425\n",
      "=====================================\n",
      "LTP : 74.04\n",
      "=====================================\n",
      "LTP : 74.0425\n",
      "=====================================\n",
      "LTP : 74.0425\n",
      "=====================================\n",
      "LTP : 74.0425\n",
      "=====================================\n",
      "LTP : 74.045\n",
      "=====================================\n",
      "LTP : 74.045\n",
      "=====================================\n",
      "LTP : 74.045\n",
      "=====================================\n",
      "LTP : 74.045\n"
     ]
    },
    {
     "name": "stderr",
     "output_type": "stream",
     "text": [
      "2020-10-28 16:02:40.521 | DEBUG    | __main__:calc_and_update:59 - calc_and_update :  in calc_and_update\n"
     ]
    },
    {
     "name": "stdout",
     "output_type": "stream",
     "text": [
      "in the thread : \n",
      "=====================================\n",
      "LTP : 74.045\n"
     ]
    },
    {
     "name": "stderr",
     "output_type": "stream",
     "text": [
      "2020-10-28 16:02:41.210 | DEBUG    | __main__:calc_rsi:24 - current_rsi : 34.8649\n",
      "2020-10-28 16:02:41.212 | DEBUG    | __main__:getquant:4 - getquant : \n"
     ]
    },
    {
     "name": "stdout",
     "output_type": "stream",
     "text": [
      "Current RSI : 34.8649\n"
     ]
    },
    {
     "name": "stderr",
     "output_type": "stream",
     "text": [
      "2020-10-28 16:02:41.528 | DEBUG    | __main__:getquant:11 - My Quantity : 6\n",
      "Exception in thread Thread-10:\n",
      "Traceback (most recent call last):\n",
      "  File \"/usr/lib/python3.8/threading.py\", line 932, in _bootstrap_inner\n",
      "    self.run()\n",
      "  File \"/usr/lib/python3.8/threading.py\", line 870, in run\n",
      "    self._target(*self._args, **self._kwargs)\n",
      "  File \"<ipython-input-10-afc8aac4dee2>\", line 64, in calc_and_update\n",
      "  File \"<ipython-input-8-d58aeb58716a>\", line 34, in update_status\n",
      "KeyError: 'p1q'\n"
     ]
    },
    {
     "name": "stdout",
     "output_type": "stream",
     "text": [
      "My Quantity : 6\n",
      "=====================================\n",
      "LTP : 74.045\n",
      "=====================================\n",
      "LTP : 74.045\n",
      "=====================================\n",
      "LTP : 74.045\n",
      "=====================================\n",
      "LTP : 74.045\n",
      "=====================================\n",
      "LTP : 74.045\n",
      "=====================================\n",
      "LTP : 74.0475\n",
      "=====================================\n",
      "LTP : 74.0475\n",
      "=====================================\n",
      "LTP : 74.0475\n",
      "=====================================\n",
      "LTP : 74.0475\n",
      "=====================================\n",
      "LTP : 74.0475\n"
     ]
    },
    {
     "name": "stderr",
     "output_type": "stream",
     "text": [
      "2020-10-28 16:02:50.130 | DEBUG    | __main__:calc_and_update:59 - calc_and_update :  in calc_and_update\n"
     ]
    },
    {
     "name": "stdout",
     "output_type": "stream",
     "text": [
      "in the thread : \n",
      "=====================================\n",
      "LTP : 74.0475\n"
     ]
    },
    {
     "name": "stderr",
     "output_type": "stream",
     "text": [
      "2020-10-28 16:02:50.792 | DEBUG    | __main__:calc_and_update:59 - calc_and_update :  in calc_and_update\n"
     ]
    },
    {
     "name": "stdout",
     "output_type": "stream",
     "text": [
      "in the thread : \n",
      "=====================================\n",
      "LTP : 74.0475\n"
     ]
    },
    {
     "name": "stderr",
     "output_type": "stream",
     "text": [
      "2020-10-28 16:02:51.008 | DEBUG    | __main__:calc_rsi:24 - current_rsi : 34.8649\n",
      "2020-10-28 16:02:51.010 | DEBUG    | __main__:getquant:4 - getquant : \n"
     ]
    },
    {
     "name": "stdout",
     "output_type": "stream",
     "text": [
      "Current RSI : 34.8649\n"
     ]
    },
    {
     "name": "stderr",
     "output_type": "stream",
     "text": [
      "2020-10-28 16:02:51.638 | DEBUG    | __main__:getquant:11 - My Quantity : 6\n",
      "Exception in thread Thread-11:\n",
      "Traceback (most recent call last):\n",
      "  File \"/usr/lib/python3.8/threading.py\", line 932, in _bootstrap_inner\n",
      "    self.run()\n",
      "  File \"/usr/lib/python3.8/threading.py\", line 870, in run\n",
      "    self._target(*self._args, **self._kwargs)\n",
      "  File \"<ipython-input-10-afc8aac4dee2>\", line 64, in calc_and_update\n",
      "  File \"<ipython-input-8-d58aeb58716a>\", line 34, in update_status\n",
      "KeyError: 'p1q'\n",
      "2020-10-28 16:02:51.677 | DEBUG    | __main__:calc_rsi:24 - current_rsi : 37.5817\n",
      "2020-10-28 16:02:51.679 | DEBUG    | __main__:getquant:4 - getquant : \n"
     ]
    },
    {
     "name": "stdout",
     "output_type": "stream",
     "text": [
      "My Quantity : 6\n",
      "Current RSI : 37.5817\n"
     ]
    },
    {
     "name": "stderr",
     "output_type": "stream",
     "text": [
      "2020-10-28 16:02:52.062 | DEBUG    | __main__:getquant:11 - My Quantity : 6\n",
      "Exception in thread Thread-12:\n",
      "Traceback (most recent call last):\n",
      "  File \"/usr/lib/python3.8/threading.py\", line 932, in _bootstrap_inner\n",
      "    self.run()\n",
      "  File \"/usr/lib/python3.8/threading.py\", line 870, in run\n",
      "    self._target(*self._args, **self._kwargs)\n",
      "  File \"<ipython-input-10-afc8aac4dee2>\", line 64, in calc_and_update\n",
      "  File \"<ipython-input-8-d58aeb58716a>\", line 34, in update_status\n",
      "KeyError: 'p1q'\n"
     ]
    },
    {
     "name": "stdout",
     "output_type": "stream",
     "text": [
      "=====================================\n",
      "LTP : 74.0475\n",
      "My Quantity : 6\n",
      "=====================================\n",
      "LTP : 74.0475\n",
      "=====================================\n",
      "LTP : 74.0475\n",
      "=====================================\n",
      "LTP : 74.0475\n",
      "=====================================\n",
      "LTP : 74.045\n",
      "=====================================\n",
      "LTP : 74.045\n",
      "=====================================\n",
      "LTP : 74.045\n",
      "=====================================\n",
      "LTP : 74.045\n",
      "=====================================\n",
      "LTP : 74.045\n",
      "=====================================\n",
      "LTP : 74.045\n",
      "=====================================\n",
      "LTP : 74.045\n",
      "=====================================\n",
      "LTP : 74.045\n",
      "=====================================\n",
      "LTP : 74.045\n",
      "=====================================\n",
      "LTP : 74.045\n",
      "=====================================\n",
      "LTP : 74.045\n",
      "=====================================\n",
      "LTP : 74.0475\n",
      "=====================================\n",
      "LTP : 74.0475\n",
      "=====================================\n",
      "LTP : 74.045\n",
      "=====================================\n",
      "LTP : 74.045\n",
      "=====================================\n",
      "LTP : 74.045\n"
     ]
    },
    {
     "name": "stderr",
     "output_type": "stream",
     "text": [
      "ERROR:kiteconnect.ticker:Connection error: 1006 - connection was closed uncleanly (peer dropped the TCP connection without previous WebSocket closing handshake)\n",
      "ERROR:root:closed connection on error: 1006 connection was closed uncleanly (peer dropped the TCP connection without previous WebSocket closing handshake)\n",
      "ERROR:kiteconnect.ticker:Connection closed: 1006 - connection was closed uncleanly (peer dropped the TCP connection without previous WebSocket closing handshake)\n",
      "Unhandled Error\n",
      "Traceback (most recent call last):\n",
      "  File \"/home/hemang/.local/lib/python3.8/site-packages/twisted/internet/defer.py\", line 311, in addCallbacks\n",
      "    self._runCallbacks()\n",
      "  File \"/home/hemang/.local/lib/python3.8/site-packages/twisted/internet/defer.py\", line 654, in _runCallbacks\n",
      "    current.result = callback(current.result, *args, **kw)\n",
      "  File \"/home/hemang/.local/lib/python3.8/site-packages/twisted/internet/base.py\", line 447, in _continueFiring\n",
      "    callable(*args, **kwargs)\n",
      "  File \"/home/hemang/.local/lib/python3.8/site-packages/twisted/internet/base.py\", line 704, in disconnectAll\n",
      "    log.callWithLogger(reader,\n",
      "--- <exception caught here> ---\n",
      "  File \"/home/hemang/.local/lib/python3.8/site-packages/twisted/python/log.py\", line 103, in callWithLogger\n",
      "    return callWithContext({\"system\": lp}, func, *args, **kw)\n",
      "  File \"/home/hemang/.local/lib/python3.8/site-packages/twisted/python/log.py\", line 86, in callWithContext\n",
      "    return context.call({ILogContext: newCtx}, func, *args, **kw)\n",
      "  File \"/home/hemang/.local/lib/python3.8/site-packages/twisted/python/context.py\", line 122, in callWithContext\n",
      "    return self.currentContext().callWithContext(ctx, func, *args, **kw)\n",
      "  File \"/home/hemang/.local/lib/python3.8/site-packages/twisted/python/context.py\", line 85, in callWithContext\n",
      "    return func(*args,**kw)\n",
      "  File \"/home/hemang/.local/lib/python3.8/site-packages/twisted/internet/tcp.py\", line 519, in connectionLost\n",
      "    self._commonConnection.connectionLost(self, reason)\n",
      "  File \"/home/hemang/.local/lib/python3.8/site-packages/twisted/internet/tcp.py\", line 327, in connectionLost\n",
      "    protocol.connectionLost(reason)\n",
      "  File \"/home/hemang/.local/lib/python3.8/site-packages/twisted/protocols/tls.py\", line 403, in connectionLost\n",
      "    ProtocolWrapper.connectionLost(self, reason)\n",
      "  File \"/home/hemang/.local/lib/python3.8/site-packages/twisted/protocols/policies.py\", line 125, in connectionLost\n",
      "    self.wrappedProtocol.connectionLost(reason)\n",
      "  File \"/home/hemang/.local/lib/python3.8/site-packages/autobahn/twisted/websocket.py\", line 287, in connectionLost\n",
      "    self._connectionLost(reason)\n",
      "  File \"/home/hemang/.local/lib/python3.8/site-packages/autobahn/websocket/protocol.py\", line 3412, in _connectionLost\n",
      "    WebSocketProtocol._connectionLost(self, reason)\n",
      "  File \"/home/hemang/.local/lib/python3.8/site-packages/autobahn/websocket/protocol.py\", line 1126, in _connectionLost\n",
      "    self._onClose(self.wasClean, WebSocketProtocol.CLOSE_STATUS_CODE_ABNORMAL_CLOSE, \"connection was closed uncleanly (%s)\" % self.wasNotCleanReason)\n",
      "  File \"/home/hemang/.local/lib/python3.8/site-packages/autobahn/twisted/websocket.py\", line 330, in _onClose\n",
      "    self.onClose(wasClean, code, reason)\n",
      "  File \"/home/hemang/.local/lib/python3.8/site-packages/kiteconnect/ticker.py\", line 81, in onClose\n",
      "    self.factory.on_close(self, code, reason)\n",
      "  File \"/home/hemang/.local/lib/python3.8/site-packages/kiteconnect/ticker.py\", line 654, in _on_close\n",
      "    self.on_close(self, code, reason)\n",
      "  File \"<ipython-input-11-ca683d167068>\", line 31, in on_close\n",
      "    ws.stop()\n",
      "  File \"/home/hemang/.local/lib/python3.8/site-packages/kiteconnect/ticker.py\", line 555, in stop\n",
      "    reactor.stop()\n",
      "  File \"/home/hemang/.local/lib/python3.8/site-packages/twisted/internet/base.py\", line 646, in stop\n",
      "    raise error.ReactorNotRunning(\n",
      "twisted.internet.error.ReactorNotRunning: Can't stop reactor that isn't running.\n",
      "\n"
     ]
    }
   ],
   "source": [
    "############# start trading ############\n",
    "import threading\n",
    "import logging\n",
    "from kiteconnect import KiteTicker\n",
    "logging.basicConfig(level=logging.DEBUG)\n",
    "# kws = KiteTicker(\"w19o0chuo929jxkp\", \"eA5B5OJQNOtZ0OYihkBmYw7Ke3B9pmCC\")\n",
    "\n",
    "def on_ticks(ws, ticks):\n",
    "    global pivot_price, moving_pivot_on\n",
    "    this_sec = datetime.datetime.now().second\n",
    "    last_sec = 0\n",
    "    if(this_sec%10==0 and last_sec!=this_sec):\n",
    "            print('in the thread : ')\n",
    "            x = threading.Thread(target=calc_and_update, args=())\n",
    "            last_sec = this_sec\n",
    "            x.start()\n",
    "#             x.join()\n",
    "\n",
    "    print('=====================================')\n",
    "    print( 'LTP : ' + str(ticks[0]['last_price']))\n",
    "#     print(datetime.datetime.now().second)\n",
    "#     print('=====================================')\n",
    "#     print()\n",
    "\n",
    "def on_connect(ws, response):\n",
    "    global inst_token\n",
    "    ws.subscribe([inst_token])\n",
    "    ws.set_mode(ws.MODE_FULL, [inst_token])\n",
    "\n",
    "def on_close(ws, code, reason):\n",
    "    ws.stop()\n",
    "    \n",
    "def on_error(ws, code, reason):\n",
    "    logging.error(\"closed connection on error: {} {}\".format(code, reason))\n",
    "\n",
    "def on_noreconnect(ws):\n",
    "    logging.error(\"Reconnecting the websocket failed\")\n",
    "\n",
    "def on_reconnect(ws, attempt_count):\n",
    "    logging.debug(\"Reconnecting the websocket: {}\".format(attempt_count))\n",
    "\n",
    "def on_order_update(ws, data):\n",
    "    logger.debug('on_order_update : ')\n",
    "    global baseprice,symbol_ip,myquantity,init_qty,current_point\n",
    "    print(\"order update: \", data)\n",
    "#     getquant()\n",
    "#     if(data['tradingsymbol'] == symbol_ip and (myquantity!=init_qty and myquantity!=-init_qty)):\n",
    "#         current_point = 0\n",
    "#         for i in range(1,len(stepmultiseries)+1):\n",
    "#             if(globals()['p'+str(i)+'q']==myquantity):\n",
    "#                 current_point=i\n",
    "#         logging.debug('current_point : '+str(current_point))\n",
    "#         update_status()\n",
    "          \n",
    "kws.on_error = on_error\n",
    "kws.on_noreconnect = on_noreconnect\n",
    "kws.on_reconnect = on_reconnect\n",
    "kws.on_order_update = on_order_update\n",
    "\n",
    "kws.on_ticks = on_ticks\n",
    "kws.on_connect = on_connect\n",
    "kws.on_close = on_close\n",
    "\n",
    "kws.connect()"
   ]
  },
  {
   "cell_type": "code",
   "execution_count": null,
   "metadata": {},
   "outputs": [],
   "source": []
  }
 ],
 "metadata": {
  "kernelspec": {
   "display_name": "Python 3",
   "language": "python",
   "name": "python3"
  },
  "language_info": {
   "codemirror_mode": {
    "name": "ipython",
    "version": 3
   },
   "file_extension": ".py",
   "mimetype": "text/x-python",
   "name": "python",
   "nbconvert_exporter": "python",
   "pygments_lexer": "ipython3",
   "version": "3.8.6"
  },
  "nteract": {
   "version": "0.26.0"
  }
 },
 "nbformat": 4,
 "nbformat_minor": 4
}
