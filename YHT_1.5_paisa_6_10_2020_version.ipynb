{
 "cells": [
  {
   "cell_type": "code",
   "execution_count": 1,
   "metadata": {},
   "outputs": [
    {
     "data": {
      "text/plain": [
       "'https://kite.trade/connect/login?api_key=w19o0chuo929jxkp&v=3'"
      ]
     },
     "execution_count": 1,
     "metadata": {},
     "output_type": "execute_result"
    }
   ],
   "source": [
    "import logging\n",
    "from kiteconnect import KiteConnect\n",
    "logging.basicConfig(level=logging.ERROR)\n",
    "import threading\n",
    "kite = KiteConnect(api_key=\"w19o0chuo929jxkp\")\n",
    "import joblib\n",
    "kite = joblib.load('kitefile.p')\n",
    "kite.login_url()"
   ]
  },
  {
   "cell_type": "code",
   "execution_count": null,
   "metadata": {},
   "outputs": [],
   "source": [
    "mytoken = input('Enter Token Here : ')\n",
    "\n",
    "data = kite.generate_session(mytoken, \n",
    "                             api_secret=\"gsw8ps17ex7lf3cuji4prfnwb4vlyr4y\")\n",
    "kite.set_access_token(data[\"access_token\"])\n",
    "import joblib\n",
    "joblib.dump(kite,'kitefile.p')"
   ]
  },
  {
   "cell_type": "code",
   "execution_count": null,
   "metadata": {},
   "outputs": [],
   "source": [
    "import act"
   ]
  },
  {
   "cell_type": "code",
   "execution_count": null,
   "metadata": {},
   "outputs": [],
   "source": [
    "kite.orders()[-1]"
   ]
  },
  {
   "cell_type": "code",
   "execution_count": null,
   "metadata": {},
   "outputs": [],
   "source": [
    "kite.positions()['net']"
   ]
  },
  {
   "cell_type": "code",
   "execution_count": null,
   "metadata": {},
   "outputs": [],
   "source": [
    "kite.holdings()"
   ]
  },
  {
   "cell_type": "code",
   "execution_count": null,
   "metadata": {},
   "outputs": [],
   "source": [
    "kite.margins(segment = 'equity')['available']['live_balance']"
   ]
  },
  {
   "cell_type": "code",
   "execution_count": 2,
   "metadata": {},
   "outputs": [
    {
     "name": "stdout",
     "output_type": "stream",
     "text": [
      "\n",
      "pivot_price : 73.4\n",
      "\n",
      "p1b : 73.3575\n",
      "p2b : 73.3175\n",
      "p3b : 73.2775\n",
      "p4b : 73.2375\n",
      "\n",
      "p1s : 73.4425\n",
      "p2s : 73.4825\n",
      "p3s : 73.5225\n",
      "p4s : 73.5625\n",
      "\n",
      "p1q : 10\n",
      "p2q : 20\n",
      "p3q : 30\n",
      "p4q : 40\n"
     ]
    }
   ],
   "source": [
    "#####################\n",
    "pivot_price = 73.4000\n",
    "#####################\n",
    "fullquantity = 45\n",
    "per_order_quant = 10\n",
    "#####################\n",
    "initial_difference = 0.0025\n",
    "difference = 0.0400\n",
    "#####################\n",
    "\n",
    "stopbuy = False\n",
    "stopsell = False\n",
    "\n",
    "base=0.0025\n",
    "max_no_of_order = int(fullquantity / per_order_quant)\n",
    "total_parts = 2*max_no_of_order\n",
    "\n",
    "print()\n",
    "print('pivot_price : '+str(pivot_price))\n",
    "print()\n",
    "for i in range(1,max_no_of_order+1):\n",
    "    globals()['p'+str(i)+'b'] = pivot_price - (initial_difference + i* difference)\n",
    "    globals()['p'+str(i)+'b'] = round(base * round(globals()['p'+str(i)+'b'] /base),4)\n",
    "    print('p'+str(i)+'b : '+str(globals()['p'+str(i)+'b']))\n",
    "\n",
    "print()\n",
    "for i in range(1,max_no_of_order+1):\n",
    "    globals()['p'+str(i)+'s'] = pivot_price + (initial_difference + i* difference)\n",
    "    globals()['p'+str(i)+'s'] = round(base * round(globals()['p'+str(i)+'s'] /base),4)\n",
    "    print('p'+str(i)+'s : '+str(globals()['p'+str(i)+'s']))\n",
    "\n",
    "print()\n",
    "for i in range(1,max_no_of_order+1):\n",
    "    globals()['p'+str(i)+'q'] = per_order_quant*i\n",
    "    print('p'+str(i)+'q : '+str(globals()['p'+str(i)+'q']))"
   ]
  },
  {
   "cell_type": "code",
   "execution_count": 3,
   "metadata": {},
   "outputs": [
    {
     "name": "stdout",
     "output_type": "stream",
     "text": [
      "My Quantity : -45\n"
     ]
    }
   ],
   "source": [
    "myquantity = 0\n",
    "def getquant():\n",
    "    global myquantity\n",
    "    allpos = kite.positions()['net']\n",
    "    for i in range(len(allpos)):\n",
    "        if(allpos[i]['tradingsymbol']=='USDINR20OCTFUT'):\n",
    "            myquantity = allpos[i]['quantity']\n",
    "            print('My Quantity : ' + str(allpos[i]['quantity']))\n",
    "\n",
    "getquant()\n",
    "\n",
    "def placeneworder(quantdiff):\n",
    "    global stopbuy\n",
    "    global stopsell\n",
    "    if(quantdiff>0 and stopbuy == False):\n",
    "        try:\n",
    "                order_id= kite.place_order(tradingsymbol=\"USDINR20OCTFUT\",\n",
    "                            exchange=kite.EXCHANGE_CDS,\n",
    "                            transaction_type=kite.TRANSACTION_TYPE_BUY,\n",
    "                            quantity=abs(quantdiff),\n",
    "                            order_type=kite.ORDER_TYPE_MARKET,\n",
    "                            variety = kite.VARIETY_REGULAR,\n",
    "                            product=kite.PRODUCT_NRML)\n",
    "                getquant()\n",
    "                stopsell = False\n",
    "        except Exception as e:\n",
    "            stopbuy = False\n",
    "            print(e)\n",
    "            getquant()\n",
    "    if(quantdiff<0 and stopsell == False):\n",
    "        try:\n",
    "                order_id= kite.place_order(tradingsymbol=\"USDINR20OCTFUT\",\n",
    "                            exchange=kite.EXCHANGE_CDS,\n",
    "                            transaction_type=kite.TRANSACTION_TYPE_SELL,\n",
    "                            quantity=abs(quantdiff),\n",
    "                            order_type=kite.ORDER_TYPE_MARKET,\n",
    "                            variety = kite.VARIETY_REGULAR,\n",
    "                            product=kite.PRODUCT_NRML)\n",
    "                getquant()\n",
    "                stopbuy = False\n",
    "        except Exception as e:\n",
    "            stopsell = True\n",
    "            print(e)\n",
    "            getquant()\n",
    "\n",
    "        \n",
    "def ckqnt (orderprice,orderquant):\n",
    "    global myquantity\n",
    "    quantdiff = orderquant - myquantity\n",
    "    placeneworder(quantdiff)\n",
    "    return myquantity\n",
    "\n",
    "\n",
    "last_price = pivot_price\n",
    "\n",
    "def checkpivot(ltps):\n",
    "    global last_price\n",
    "    trade_quant = 0\n",
    "    \n",
    "    if(ltps > (globals()['p'+str(max_no_of_order)+'s']+(2*difference) ) or ltps < (globals()['p'+str(max_no_of_order)+'s']-(2*difference) )):\n",
    "        ckqnt(pivot_price,0)\n",
    "    \n",
    "    elif ((ltps>=(pivot_price-0.0025)) and (ltps<=(pivot_price+0.0025))):\n",
    "        ckqnt(pivot_price,0)\n",
    "        print('in pivot range')\n",
    "\n",
    "    else:\n",
    "        for i in range(1,int(total_parts/2)+1):\n",
    "\n",
    "            if(ltps<pivot_price):\n",
    "                trade_quant = globals()['p'+str(i)+'q']\n",
    "            elif(ltps>pivot_price):\n",
    "                trade_quant = -globals()['p'+str(i)+'q']\n",
    "\n",
    "            if ((ltps == globals()['p'+str(i)+'b'] or ltps == globals()['p'+str(i)+'s']) and ltps < last_price):\n",
    "                ckqnt(globals()['p'+str(i)+'b'],trade_quant)\n",
    "                print('==========' +'p'+str(i)+'b @ ' +str(ltps) + '==============' )\n",
    "                last_price=ltps\n",
    "\n",
    "            if ((ltps == globals()['p'+str(i)+'b'] or ltps == globals()['p'+str(i)+'s']) and ltps > last_price):\n",
    "                ckqnt(globals()['p'+str(i)+'s'],trade_quant)\n",
    "                print('==========' +'p'+str(i)+'s @ ' +str(ltps) + '==============' )\n",
    "                last_price=ltps"
   ]
  },
  {
   "cell_type": "code",
   "execution_count": null,
   "metadata": {
    "scrolled": true
   },
   "outputs": [],
   "source": [
    "#!!!!!!!!!!!!!!!!!!!!!!!!!!!!!!!!!!!!!!!!!\n",
    "#              START TRADING             !\n",
    "#!!!!!!!!!!!!!!!!!!!!!!!!!!!!!!!!!!!!!!!!!\n",
    "\n",
    "import logging\n",
    "from kiteconnect import KiteTicker\n",
    "logging.basicConfig(level=logging.DEBUG)\n",
    "kws = KiteTicker(\"w19o0chuo929jxkp\", \"lUL4kr5aYIlHBwNMldIKwLy8zbNpS5Ev\")\n",
    "\n",
    "def on_ticks(ws, ticks):\n",
    "    checkpivot(ticks[0]['last_price'])\n",
    "    #print(type(ticks[0]['last_price']))\n",
    "    #print('==========================')\n",
    "    #print( 'LTP : ' + str(ticks[0]['last_price']))\n",
    "    #print('==========================')\n",
    "    #print()\n",
    "\n",
    "def on_connect(ws, response):\n",
    "    ws.subscribe([690691])\n",
    "    ws.set_mode(ws.MODE_FULL, [690691])\n",
    "\n",
    "def on_close(ws, code, reason):\n",
    "    ws.stop()\n",
    "\n",
    "kws.on_ticks = on_ticks\n",
    "kws.on_connect = on_connect\n",
    "kws.on_close = on_close\n",
    "\n",
    "kws.connect()"
   ]
  },
  {
   "cell_type": "code",
   "execution_count": null,
   "metadata": {},
   "outputs": [],
   "source": []
  },
  {
   "cell_type": "code",
   "execution_count": null,
   "metadata": {},
   "outputs": [],
   "source": []
  }
 ],
 "metadata": {
  "kernelspec": {
   "display_name": "Python 3",
   "language": "python",
   "name": "python3"
  },
  "language_info": {
   "codemirror_mode": {
    "name": "ipython",
    "version": 3
   },
   "file_extension": ".py",
   "mimetype": "text/x-python",
   "name": "python",
   "nbconvert_exporter": "python",
   "pygments_lexer": "ipython3",
   "version": "3.8.2"
  }
 },
 "nbformat": 4,
 "nbformat_minor": 4
}
