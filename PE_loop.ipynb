{
 "cells": [
  {
   "cell_type": "code",
   "execution_count": null,
   "id": "welcome-schema",
   "metadata": {
    "ExecuteTime": {
     "start_time": "2021-03-08T08:53:10.296Z"
    },
    "scrolled": true
   },
   "outputs": [],
   "source": [
    "import papermill as pm\n",
    "while True:\n",
    "    pm.execute_notebook(\n",
    "       './PE_High_Frequency_06-03-2021.ipynb',\n",
    "       './PE_High_Frequency_06-03-2021_op.ipynb',\n",
    "        log_output=True)\n",
    "    \n",
    "from IPython.lib.display import Audio\n",
    "import numpy as np\n",
    "\n",
    "framerate = 10000\n",
    "play_time_seconds = 1\n",
    "\n",
    "t = np.linspace(0, play_time_seconds, framerate*play_time_seconds)\n",
    "audio_data = np.sin(2*np.pi*1500*t) + np.sin(2*np.pi*1500*t)\n",
    "Audio(audio_data, rate=framerate, autoplay=True)"
   ]
  },
  {
   "cell_type": "code",
   "execution_count": null,
   "id": "unknown-semester",
   "metadata": {},
   "outputs": [],
   "source": []
  }
 ],
 "metadata": {
  "kernelspec": {
   "display_name": "Python 3",
   "language": "python",
   "name": "python3"
  },
  "language_info": {
   "codemirror_mode": {
    "name": "ipython",
    "version": 3
   },
   "file_extension": ".py",
   "mimetype": "text/x-python",
   "name": "python",
   "nbconvert_exporter": "python",
   "pygments_lexer": "ipython3",
   "version": "3.9.2"
  },
  "varInspector": {
   "cols": {
    "lenName": 16,
    "lenType": 16,
    "lenVar": 40
   },
   "kernels_config": {
    "python": {
     "delete_cmd_postfix": "",
     "delete_cmd_prefix": "del ",
     "library": "var_list.py",
     "varRefreshCmd": "print(var_dic_list())"
    },
    "r": {
     "delete_cmd_postfix": ") ",
     "delete_cmd_prefix": "rm(",
     "library": "var_list.r",
     "varRefreshCmd": "cat(var_dic_list()) "
    }
   },
   "types_to_exclude": [
    "module",
    "function",
    "builtin_function_or_method",
    "instance",
    "_Feature"
   ],
   "window_display": false
  }
 },
 "nbformat": 4,
 "nbformat_minor": 5
}
